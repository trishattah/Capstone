{
  "nbformat": 4,
  "nbformat_minor": 0,
  "metadata": {
    "colab": {
      "name": "GAN02Capstone.ipynb",
      "provenance": [],
      "collapsed_sections": []
    },
    "kernelspec": {
      "name": "python3",
      "display_name": "Python 3"
    },
    "language_info": {
      "name": "python"
    }
  },
  "cells": [
    {
      "cell_type": "code",
      "metadata": {
        "id": "YQCZ3H_2TxIZ",
        "colab": {
          "base_uri": "https://localhost:8080/"
        },
        "outputId": "4803aa85-68f9-48e6-e614-4ed9b354e202"
      },
      "source": [
        "import torch\n",
        "from torch import nn\n",
        "from torch.utils.data import DataLoader\n",
        "import math\n",
        "import matplotlib.pyplot as plt\n",
        "import numpy as np\n",
        "import io\n",
        "import pandas as pd\n",
        "from imblearn.over_sampling import SMOTE\n",
        "from collections import Counter\n",
        "from matplotlib import pyplot\n",
        "from sklearn.preprocessing import MinMaxScaler\n",
        "import warnings\n",
        "warnings.filterwarnings('ignore')"
      ],
      "execution_count": 1,
      "outputs": [
        {
          "output_type": "stream",
          "name": "stderr",
          "text": [
            "/usr/local/lib/python3.7/dist-packages/sklearn/externals/six.py:31: FutureWarning: The module is deprecated in version 0.21 and will be removed in version 0.23 since we've dropped support for Python 2.7. Please rely on the official version of six (https://pypi.org/project/six/).\n",
            "  \"(https://pypi.org/project/six/).\", FutureWarning)\n",
            "/usr/local/lib/python3.7/dist-packages/sklearn/utils/deprecation.py:144: FutureWarning: The sklearn.neighbors.base module is  deprecated in version 0.22 and will be removed in version 0.24. The corresponding classes / functions should instead be imported from sklearn.neighbors. Anything that cannot be imported from sklearn.neighbors is now part of the private API.\n",
            "  warnings.warn(message, FutureWarning)\n"
          ]
        }
      ]
    },
    {
      "cell_type": "code",
      "metadata": {
        "id": "c5IpolGoaZzL"
      },
      "source": [
        "url = 'https://raw.githubusercontent.com/trishattah/Capstone/main/spotify_songs-2.csv'\n",
        "df2 = pd.read_csv(url)"
      ],
      "execution_count": 2,
      "outputs": []
    },
    {
      "cell_type": "code",
      "metadata": {
        "id": "BOfZ1LsBb3Z_"
      },
      "source": [
        "#url = 'https://raw.githubusercontent.com/trishattah/Capstone/main/Emotion_Labels.csv'\n",
        "#df3 = pd.read_csv(url)"
      ],
      "execution_count": 3,
      "outputs": []
    },
    {
      "cell_type": "code",
      "metadata": {
        "id": "KwLUDpea0D_T"
      },
      "source": [
        "#df4 = pd.merge(df2,df3,on='track_id')\n",
        "#df4 = df2.drop(['Unnamed: 19'], axis=1)\n",
        "df4=df2"
      ],
      "execution_count": 4,
      "outputs": []
    },
    {
      "cell_type": "code",
      "metadata": {
        "colab": {
          "base_uri": "https://localhost:8080/"
        },
        "id": "paij6qTxqtvn",
        "outputId": "d7593c2f-9f85-4395-c7d8-518da98feb88"
      },
      "source": [
        "df4 = df4.dropna()\n",
        "df4.shape"
      ],
      "execution_count": 5,
      "outputs": [
        {
          "output_type": "execute_result",
          "data": {
            "text/plain": [
              "(1099, 19)"
            ]
          },
          "metadata": {},
          "execution_count": 5
        }
      ]
    },
    {
      "cell_type": "code",
      "metadata": {
        "colab": {
          "base_uri": "https://localhost:8080/"
        },
        "id": "rcEu57ehv2fp",
        "outputId": "d94bbe19-9f17-4279-c019-2be73cba74c0"
      },
      "source": [
        "df4['playlist_id'].value_counts()"
      ],
      "execution_count": 6,
      "outputs": [
        {
          "output_type": "execute_result",
          "data": {
            "text/plain": [
              "3ykXidKLz1eYPvuGoFlD1e    11\n",
              "4hKPJNFIhdAg4pAksn78FJ    11\n",
              "5jROYSZSL7cO0jGAqkPx7C    10\n",
              "4NlAd9NpIa92IjErMyAriM    10\n",
              "1qXg9ck25tBRxeXsj8mbDG    10\n",
              "                          ..\n",
              "22XKr7O6bzSA5bHiwRCPNK     1\n",
              "71UHE27ayQs8ZDxQwY0cY1     1\n",
              "0si5tw70PIgPkY1Eva6V8f     1\n",
              "4sr2xEhXQR5VuZ0LZX8TQ8     1\n",
              "5GiPRvTccToqwOzkoAcDrY     1\n",
              "Name: playlist_id, Length: 359, dtype: int64"
            ]
          },
          "metadata": {},
          "execution_count": 6
        }
      ]
    },
    {
      "cell_type": "code",
      "metadata": {
        "id": "zhHvotdp3evO"
      },
      "source": [
        "from sklearn.preprocessing import LabelEncoder\n",
        "le = LabelEncoder()\n",
        "\n",
        "df11 = df2.drop(['playlist_id','track_id','track_name','track_artist'], axis=1)\n",
        "cols = ['language', 'playlist_genre']\n",
        "#df11[cols] = df11[cols].apply(LabelEncoder().fit_transform)\n",
        "\n",
        "df12 = df2.set_index('track_name')"
      ],
      "execution_count": 7,
      "outputs": []
    },
    {
      "cell_type": "code",
      "metadata": {
        "id": "gh5zkMZ3x43G"
      },
      "source": [
        "testdf = df4[df4['playlist_id'].isin(['5jROYSZSL7cO0jGAqkPx7C', '3ykXidKLz1eYPvuGoFlD1e','4hKPJNFIhdAg4pAksn78FJ'])]\n",
        "testdf1 =  df4[df4['playlist_id'].isin(['5jROYSZSL7cO0jGAqkPx7C'])]\n",
        "testdf2 = df4[df4['playlist_id'].isin(['3ykXidKLz1eYPvuGoFlD1e'])]\n",
        "testdf3 = df4[df4['playlist_id'].isin(['4hKPJNFIhdAg4pAksn78FJ'])]"
      ],
      "execution_count": 8,
      "outputs": []
    },
    {
      "cell_type": "code",
      "metadata": {
        "id": "dct1kTdS0MYc"
      },
      "source": [
        "testdf1_1 = testdf1.drop(['playlist_id','track_id','track_name','track_artist'], axis=1)\n",
        "testdf2_1 = testdf2.drop(['playlist_id','track_id','track_name','track_artist'], axis=1)\n",
        "testdf3_1 = testdf3.drop(['playlist_id','track_id','track_name','track_artist'], axis=1)"
      ],
      "execution_count": 9,
      "outputs": []
    },
    {
      "cell_type": "code",
      "metadata": {
        "id": "URnxJyAXzAUk"
      },
      "source": [
        "df5 = df4[~df4['playlist_id'].isin(['4hKPJNFIhdAg4pAksn78FJ', '3ykXidKLz1eYPvuGoFlD1e','4hKPJNFIhdAg4pAksn78FJ'])]"
      ],
      "execution_count": 10,
      "outputs": []
    },
    {
      "cell_type": "code",
      "metadata": {
        "id": "0CtwpX2P39KH"
      },
      "source": [
        "pd.set_option('display.max_columns', None)"
      ],
      "execution_count": 11,
      "outputs": []
    },
    {
      "cell_type": "code",
      "metadata": {
        "id": "iFpwP8Vz1hHY"
      },
      "source": [
        "df5 = df4.drop(['playlist_id','track_id','track_name','track_artist'], axis=1)\n",
        "df5['emotion'] = df5['emotion'].astype(int)"
      ],
      "execution_count": 12,
      "outputs": []
    },
    {
      "cell_type": "code",
      "metadata": {
        "colab": {
          "base_uri": "https://localhost:8080/",
          "height": 131
        },
        "id": "7CAVYhDW9UJ3",
        "outputId": "342b9dd8-497a-49ff-d15c-96f92d178a95"
      },
      "source": [
        "df5.head(2)"
      ],
      "execution_count": 13,
      "outputs": [
        {
          "output_type": "execute_result",
          "data": {
            "text/html": [
              "<div>\n",
              "<style scoped>\n",
              "    .dataframe tbody tr th:only-of-type {\n",
              "        vertical-align: middle;\n",
              "    }\n",
              "\n",
              "    .dataframe tbody tr th {\n",
              "        vertical-align: top;\n",
              "    }\n",
              "\n",
              "    .dataframe thead th {\n",
              "        text-align: right;\n",
              "    }\n",
              "</style>\n",
              "<table border=\"1\" class=\"dataframe\">\n",
              "  <thead>\n",
              "    <tr style=\"text-align: right;\">\n",
              "      <th></th>\n",
              "      <th>track_popularity</th>\n",
              "      <th>playlist_genre</th>\n",
              "      <th>danceability</th>\n",
              "      <th>energy</th>\n",
              "      <th>key</th>\n",
              "      <th>loudness</th>\n",
              "      <th>mode</th>\n",
              "      <th>speechiness</th>\n",
              "      <th>acousticness</th>\n",
              "      <th>instrumentalness</th>\n",
              "      <th>liveness</th>\n",
              "      <th>valence</th>\n",
              "      <th>tempo</th>\n",
              "      <th>language</th>\n",
              "      <th>emotion</th>\n",
              "    </tr>\n",
              "  </thead>\n",
              "  <tbody>\n",
              "    <tr>\n",
              "      <th>0</th>\n",
              "      <td>41</td>\n",
              "      <td>rock</td>\n",
              "      <td>0.682</td>\n",
              "      <td>0.401</td>\n",
              "      <td>2</td>\n",
              "      <td>-10.068</td>\n",
              "      <td>1</td>\n",
              "      <td>0.0236</td>\n",
              "      <td>0.2790</td>\n",
              "      <td>0.01170</td>\n",
              "      <td>0.0887</td>\n",
              "      <td>0.566</td>\n",
              "      <td>97.091</td>\n",
              "      <td>tl</td>\n",
              "      <td>6</td>\n",
              "    </tr>\n",
              "    <tr>\n",
              "      <th>1</th>\n",
              "      <td>28</td>\n",
              "      <td>rock</td>\n",
              "      <td>0.303</td>\n",
              "      <td>0.880</td>\n",
              "      <td>9</td>\n",
              "      <td>-4.739</td>\n",
              "      <td>1</td>\n",
              "      <td>0.0442</td>\n",
              "      <td>0.0117</td>\n",
              "      <td>0.00994</td>\n",
              "      <td>0.3470</td>\n",
              "      <td>0.404</td>\n",
              "      <td>135.225</td>\n",
              "      <td>en</td>\n",
              "      <td>1</td>\n",
              "    </tr>\n",
              "  </tbody>\n",
              "</table>\n",
              "</div>"
            ],
            "text/plain": [
              "   track_popularity playlist_genre  danceability  energy  key  loudness  mode  \\\n",
              "0                41           rock         0.682   0.401    2   -10.068     1   \n",
              "1                28           rock         0.303   0.880    9    -4.739     1   \n",
              "\n",
              "   speechiness  acousticness  instrumentalness  liveness  valence    tempo  \\\n",
              "0       0.0236        0.2790           0.01170    0.0887    0.566   97.091   \n",
              "1       0.0442        0.0117           0.00994    0.3470    0.404  135.225   \n",
              "\n",
              "  language  emotion  \n",
              "0       tl        6  \n",
              "1       en        1  "
            ]
          },
          "metadata": {},
          "execution_count": 13
        }
      ]
    },
    {
      "cell_type": "code",
      "metadata": {
        "id": "PUNlxqKOIklG"
      },
      "source": [
        "cols = ['language', 'playlist_genre']\n",
        "df5[cols] = df5[cols].apply(LabelEncoder().fit_transform)"
      ],
      "execution_count": 14,
      "outputs": []
    },
    {
      "cell_type": "code",
      "metadata": {
        "id": "mDPWs3JO9gvP"
      },
      "source": [
        "df11 = df5"
      ],
      "execution_count": 15,
      "outputs": []
    },
    {
      "cell_type": "code",
      "metadata": {
        "id": "J7DROiWZ9vQB"
      },
      "source": [
        "df11['track_name'] = df4['track_name']\n",
        "df5 = df5.drop(['track_name'], axis=1)"
      ],
      "execution_count": 16,
      "outputs": []
    },
    {
      "cell_type": "code",
      "metadata": {
        "colab": {
          "base_uri": "https://localhost:8080/",
          "height": 37
        },
        "id": "6kJkSkyzC7iU",
        "outputId": "19d9764e-1fde-4aba-ea41-aaa1312df255"
      },
      "source": [
        "df11.iloc[517,15]"
      ],
      "execution_count": 17,
      "outputs": [
        {
          "output_type": "execute_result",
          "data": {
            "application/vnd.google.colaboratory.intrinsic+json": {
              "type": "string"
            },
            "text/plain": [
              "'Bandito'"
            ]
          },
          "metadata": {},
          "execution_count": 17
        }
      ]
    },
    {
      "cell_type": "code",
      "metadata": {
        "id": "eIIXCY014PaV"
      },
      "source": [
        "df12 = df11.set_index('track_name')"
      ],
      "execution_count": 18,
      "outputs": []
    },
    {
      "cell_type": "code",
      "metadata": {
        "id": "kVtiVv8S0rdE"
      },
      "source": [
        "testdf1_1[cols] = testdf1_1[cols].apply(LabelEncoder().fit_transform)\n",
        "testdf2_1[cols] = testdf2_1[cols].apply(LabelEncoder().fit_transform)\n",
        "testdf3_1[cols] = testdf3_1[cols].apply(LabelEncoder().fit_transform)"
      ],
      "execution_count": 19,
      "outputs": []
    },
    {
      "cell_type": "code",
      "metadata": {
        "colab": {
          "base_uri": "https://localhost:8080/"
        },
        "id": "QAUoLLtugPJB",
        "outputId": "4665c1f8-2dec-4c08-fa6d-e556268f87ce"
      },
      "source": [
        "X, y = df5.iloc[:, :-1], df5.iloc[:, -1]\n",
        "X.shape"
      ],
      "execution_count": 20,
      "outputs": [
        {
          "output_type": "execute_result",
          "data": {
            "text/plain": [
              "(1099, 14)"
            ]
          },
          "metadata": {},
          "execution_count": 20
        }
      ]
    },
    {
      "cell_type": "code",
      "metadata": {
        "id": "G_EuCYFRRNWe"
      },
      "source": [
        "#strategy = {1:200, 2:120, 3:150, 4:100, 5:150,6:120, 7:70, 8:45 ,9:45 ,10:40}\n",
        "#oversample = SMOTE(sampling_strategy=strategy)\n",
        "#X, y = oversample.fit_resample(X, y)\n",
        "# summarize distribution\n",
        "#counter = Counter(y)\n",
        "#for k,v in counter.items():\n",
        "#\tper = v / len(y) * 100\n",
        "#\tprint('Class=%d, n=%d (%.3f%%)' % (k, v, per))\n",
        "# plot the distribution\n",
        "#pyplot.bar(counter.keys(), counter.values())\n",
        "#pyplot.show()"
      ],
      "execution_count": 21,
      "outputs": []
    },
    {
      "cell_type": "code",
      "metadata": {
        "id": "ROL4725RdsGn"
      },
      "source": [
        "#df6 = pd.DataFrame(X)\n",
        "#df6['emotion'] = y\n",
        "#df7 = df6.sample(frac=1)\n",
        "#df5 = df5.dropna()"
      ],
      "execution_count": 22,
      "outputs": []
    },
    {
      "cell_type": "code",
      "metadata": {
        "id": "JFK2TDoD92iv"
      },
      "source": [
        "df5.shape\n",
        "scaler = MinMaxScaler()"
      ],
      "execution_count": 23,
      "outputs": []
    },
    {
      "cell_type": "code",
      "metadata": {
        "colab": {
          "base_uri": "https://localhost:8080/"
        },
        "id": "2M3PlxrK31BH",
        "outputId": "5455e5bd-afcf-4e9e-b225-5e8722e1a02a"
      },
      "source": [
        "df5['emotion'].value_counts()"
      ],
      "execution_count": 24,
      "outputs": [
        {
          "output_type": "execute_result",
          "data": {
            "text/plain": [
              "1     393\n",
              "6     137\n",
              "3     108\n",
              "5     103\n",
              "7      91\n",
              "2      91\n",
              "4      67\n",
              "8      39\n",
              "10     38\n",
              "9      32\n",
              "Name: emotion, dtype: int64"
            ]
          },
          "metadata": {},
          "execution_count": 24
        }
      ]
    },
    {
      "cell_type": "code",
      "metadata": {
        "colab": {
          "base_uri": "https://localhost:8080/"
        },
        "id": "bvDcIONbwwND",
        "outputId": "891664ef-7c3e-450c-bcff-f0f41db06a70"
      },
      "source": [
        "train_data_001 = df5.iloc[:1024,7:]\n",
        "train_data_01 = pd.DataFrame(scaler.fit_transform(train_data_001))\n",
        "train_data_length = len(train_data_01)\n",
        "train_data_01.shape"
      ],
      "execution_count": 25,
      "outputs": [
        {
          "output_type": "execute_result",
          "data": {
            "text/plain": [
              "(1024, 8)"
            ]
          },
          "metadata": {},
          "execution_count": 25
        }
      ]
    },
    {
      "cell_type": "code",
      "metadata": {
        "id": "DrydNko01Qiq"
      },
      "source": [
        "testdf1_2 = testdf1_1.iloc[:1024,7:]\n",
        "testdf2_2 = testdf2_1.iloc[:1024,7:]\n",
        "testdf3_2 = testdf3_1.iloc[:1024,7:]\n",
        "df13 = df12.iloc[:1024,7:]"
      ],
      "execution_count": 26,
      "outputs": []
    },
    {
      "cell_type": "code",
      "metadata": {
        "colab": {
          "base_uri": "https://localhost:8080/"
        },
        "id": "Y-mISzcmEXG7",
        "outputId": "f78426ef-3bfe-4b29-b73c-09bc65ed2ecd"
      },
      "source": [
        "(train_data_01 < 0).values.any()"
      ],
      "execution_count": 27,
      "outputs": [
        {
          "output_type": "execute_result",
          "data": {
            "text/plain": [
              "False"
            ]
          },
          "metadata": {},
          "execution_count": 27
        }
      ]
    },
    {
      "cell_type": "code",
      "metadata": {
        "id": "RYgkcSwtvynh"
      },
      "source": [
        "train_data = torch.tensor(train_data_01.values.astype(np.float32))"
      ],
      "execution_count": 28,
      "outputs": []
    },
    {
      "cell_type": "code",
      "metadata": {
        "id": "9jGsD2Rf_5cZ"
      },
      "source": [
        "train_labels = torch.zeros(train_data_length)\n",
        "train_set = [\n",
        "    (train_data[i], train_labels[i]) for i in range(train_data_length)\n",
        "]"
      ],
      "execution_count": 29,
      "outputs": []
    },
    {
      "cell_type": "code",
      "metadata": {
        "id": "8Q_FlvWVCPeg"
      },
      "source": [
        "batch_size = 32\n",
        "train_loader = torch.utils.data.DataLoader(\n",
        "    train_set, batch_size=batch_size, shuffle=True\n",
        ")"
      ],
      "execution_count": 30,
      "outputs": []
    },
    {
      "cell_type": "code",
      "metadata": {
        "id": "oeGokWcnUNVo"
      },
      "source": [
        "class Discriminator(nn.Module):\n",
        "    def __init__(self):\n",
        "        super().__init__()\n",
        "        self.model = nn.Sequential(\n",
        "            nn.Linear(8, 256),\n",
        "            nn.ReLU(),\n",
        "            nn.Dropout(0.3),\n",
        "            nn.Linear(256, 128),\n",
        "            nn.ReLU(),\n",
        "            nn.Dropout(0.3),\n",
        "            nn.Linear(128, 64),\n",
        "            nn.ReLU(),\n",
        "            nn.Dropout(0.3),\n",
        "            nn.Linear(64, 1),\n",
        "            nn.Sigmoid(),\n",
        "        )\n",
        "\n",
        "    def forward(self, x):\n",
        "        output = self.model(x)\n",
        "        return output"
      ],
      "execution_count": 31,
      "outputs": []
    },
    {
      "cell_type": "code",
      "metadata": {
        "id": "w28gifmTe_Wa"
      },
      "source": [
        "discriminator = Discriminator()"
      ],
      "execution_count": 32,
      "outputs": []
    },
    {
      "cell_type": "code",
      "metadata": {
        "id": "3LaGfTJ1fFf9"
      },
      "source": [
        "class Generator(nn.Module):\n",
        "    def __init__(self):\n",
        "        super().__init__()\n",
        "        self.model = nn.Sequential(\n",
        "            nn.Linear(8, 32),\n",
        "            nn.ReLU(),\n",
        "            nn.Linear(32, 64),\n",
        "            nn.ReLU(),\n",
        "            nn.Linear(64, 8),\n",
        "        )\n",
        "\n",
        "    def forward(self, x):\n",
        "        output = self.model(x)\n",
        "        return output\n",
        "\n",
        "generator = Generator()"
      ],
      "execution_count": 33,
      "outputs": []
    },
    {
      "cell_type": "code",
      "metadata": {
        "id": "b3Lh9ZtEfPvG"
      },
      "source": [
        "lr = 0.001\n",
        "num_epochs = 500\n",
        "loss_function = nn.BCELoss()"
      ],
      "execution_count": 34,
      "outputs": []
    },
    {
      "cell_type": "code",
      "metadata": {
        "id": "vHk6r37kfWfA"
      },
      "source": [
        "optimizer_discriminator = torch.optim.Adam(discriminator.parameters(), lr=lr)\n",
        "optimizer_generator = torch.optim.Adam(generator.parameters(), lr=lr)"
      ],
      "execution_count": 35,
      "outputs": []
    },
    {
      "cell_type": "code",
      "metadata": {
        "colab": {
          "base_uri": "https://localhost:8080/"
        },
        "id": "WiX4fOyf2Wh6",
        "outputId": "f08c58d0-c544-4579-f542-3aae563c880d"
      },
      "source": [
        " len(list(train_loader)[0][0])"
      ],
      "execution_count": 36,
      "outputs": [
        {
          "output_type": "execute_result",
          "data": {
            "text/plain": [
              "32"
            ]
          },
          "metadata": {},
          "execution_count": 36
        }
      ]
    },
    {
      "cell_type": "code",
      "metadata": {
        "id": "moL5w8QUPPFB"
      },
      "source": [
        "# list for final generated samples\n",
        "final_generated_samples=[]\n",
        "final_generated_samples_list=[]"
      ],
      "execution_count": 37,
      "outputs": []
    },
    {
      "cell_type": "code",
      "metadata": {
        "colab": {
          "base_uri": "https://localhost:8080/"
        },
        "id": "M3oKJHuuffeK",
        "outputId": "c3b867d2-4c7d-4255-e647-447401948df0"
      },
      "source": [
        "for epoch in range(num_epochs):\n",
        "    for n, (real_samples, _) in enumerate(train_loader):\n",
        "        # Data for training the discriminator\n",
        "        real_samples_labels = torch.ones((batch_size, 1))\n",
        "        latent_space_samples = torch.ones((batch_size, 8))\n",
        "        generated_samples = generator(latent_space_samples)\n",
        "        generated_samples_labels = torch.zeros((batch_size, 1))\n",
        "        all_samples = torch.cat((real_samples, generated_samples))\n",
        "        all_samples_labels = torch.cat(\n",
        "            (real_samples_labels, generated_samples_labels)\n",
        "        )\n",
        "\n",
        "        # Training the discriminator\n",
        "        discriminator.zero_grad()\n",
        "        output_discriminator = discriminator(all_samples)\n",
        "        loss_discriminator = loss_function(\n",
        "            output_discriminator, all_samples_labels)\n",
        "        loss_discriminator.backward()\n",
        "        optimizer_discriminator.step()\n",
        "\n",
        "        # Data for training the generator\n",
        "        latent_space_samples = torch.ones((batch_size, 8))\n",
        "\n",
        "        # Training the generator\n",
        "        generator.zero_grad()\n",
        "        generated_samples = generator(latent_space_samples)\n",
        "        output_discriminator_generated = discriminator(generated_samples)\n",
        "        loss_generator = loss_function(\n",
        "            output_discriminator_generated, real_samples_labels\n",
        "        )\n",
        "        loss_generator.backward()\n",
        "        optimizer_generator.step()\n",
        "\n",
        "        # Show loss\n",
        "        if epoch % 10 == 0 and n == batch_size - 1:\n",
        "            final_generated_samples.append(generated_samples[0])\n",
        "            print(f\"Epoch: {epoch} Loss D.: {loss_discriminator}\")\n",
        "            print(f\"Epoch: {epoch} Loss G.: {loss_generator}\")\n",
        "            "
      ],
      "execution_count": 38,
      "outputs": [
        {
          "output_type": "stream",
          "name": "stdout",
          "text": [
            "Epoch: 0 Loss D.: 0.6975467205047607\n",
            "Epoch: 0 Loss G.: 0.7994503378868103\n",
            "Epoch: 10 Loss D.: 0.15672282874584198\n",
            "Epoch: 10 Loss G.: 1.6623042821884155\n",
            "Epoch: 20 Loss D.: 0.10624957084655762\n",
            "Epoch: 20 Loss G.: 2.1243298053741455\n",
            "Epoch: 30 Loss D.: 0.3843476176261902\n",
            "Epoch: 30 Loss G.: 1.3376621007919312\n",
            "Epoch: 40 Loss D.: 0.15861287713050842\n",
            "Epoch: 40 Loss G.: 5.824185848236084\n",
            "Epoch: 50 Loss D.: 0.010063116438686848\n",
            "Epoch: 50 Loss G.: 5.547543525695801\n",
            "Epoch: 60 Loss D.: 0.10242705047130585\n",
            "Epoch: 60 Loss G.: 4.54318904876709\n",
            "Epoch: 70 Loss D.: 0.009359900839626789\n",
            "Epoch: 70 Loss G.: 5.2847580909729\n",
            "Epoch: 80 Loss D.: 0.002200147369876504\n",
            "Epoch: 80 Loss G.: 6.585792541503906\n",
            "Epoch: 90 Loss D.: 5.708122262149118e-05\n",
            "Epoch: 90 Loss G.: 15.9632568359375\n",
            "Epoch: 100 Loss D.: 0.06552661955356598\n",
            "Epoch: 100 Loss G.: 2.7507901191711426\n",
            "Epoch: 110 Loss D.: 0.0007997293723747134\n",
            "Epoch: 110 Loss G.: 9.179336547851562\n",
            "Epoch: 120 Loss D.: 0.06604879349470139\n",
            "Epoch: 120 Loss G.: 4.998617649078369\n",
            "Epoch: 130 Loss D.: 0.005778482183814049\n",
            "Epoch: 130 Loss G.: 5.4525837898254395\n",
            "Epoch: 140 Loss D.: 0.0023076683282852173\n",
            "Epoch: 140 Loss G.: 8.567721366882324\n",
            "Epoch: 150 Loss D.: 0.0008487529121339321\n",
            "Epoch: 150 Loss G.: 6.0431318283081055\n",
            "Epoch: 160 Loss D.: 0.0009822365827858448\n",
            "Epoch: 160 Loss G.: 6.603475093841553\n",
            "Epoch: 170 Loss D.: 0.0756821259856224\n",
            "Epoch: 170 Loss G.: 4.613940238952637\n",
            "Epoch: 180 Loss D.: 0.0007706909673288465\n",
            "Epoch: 180 Loss G.: 8.03857421875\n",
            "Epoch: 190 Loss D.: 0.0017907258588820696\n",
            "Epoch: 190 Loss G.: 6.406838893890381\n",
            "Epoch: 200 Loss D.: 0.0036570350639522076\n",
            "Epoch: 200 Loss G.: 5.645371913909912\n",
            "Epoch: 210 Loss D.: 0.004573667421936989\n",
            "Epoch: 210 Loss G.: 11.568130493164062\n",
            "Epoch: 220 Loss D.: 0.005557587835937738\n",
            "Epoch: 220 Loss G.: 5.691407680511475\n",
            "Epoch: 230 Loss D.: 0.05067168176174164\n",
            "Epoch: 230 Loss G.: 6.906036376953125\n",
            "Epoch: 240 Loss D.: 0.000476523709949106\n",
            "Epoch: 240 Loss G.: 8.548303604125977\n",
            "Epoch: 250 Loss D.: 0.010130668990314007\n",
            "Epoch: 250 Loss G.: 6.855322360992432\n",
            "Epoch: 260 Loss D.: 0.009436238557100296\n",
            "Epoch: 260 Loss G.: 7.905190467834473\n",
            "Epoch: 270 Loss D.: 0.005257475655525923\n",
            "Epoch: 270 Loss G.: 4.774908542633057\n",
            "Epoch: 280 Loss D.: 0.0012960477033630013\n",
            "Epoch: 280 Loss G.: 13.124868392944336\n",
            "Epoch: 290 Loss D.: 0.0036609317176043987\n",
            "Epoch: 290 Loss G.: 6.119844436645508\n",
            "Epoch: 300 Loss D.: 0.006715347524732351\n",
            "Epoch: 300 Loss G.: 5.796680450439453\n",
            "Epoch: 310 Loss D.: 0.09806989133358002\n",
            "Epoch: 310 Loss G.: 6.99492073059082\n",
            "Epoch: 320 Loss D.: 0.005988416261970997\n",
            "Epoch: 320 Loss G.: 6.199392318725586\n",
            "Epoch: 330 Loss D.: 0.0036621992476284504\n",
            "Epoch: 330 Loss G.: 6.70697546005249\n",
            "Epoch: 340 Loss D.: 0.0024790975730866194\n",
            "Epoch: 340 Loss G.: 6.713325500488281\n",
            "Epoch: 350 Loss D.: 0.004453826695680618\n",
            "Epoch: 350 Loss G.: 6.421197891235352\n",
            "Epoch: 360 Loss D.: 0.000272103090537712\n",
            "Epoch: 360 Loss G.: 10.685523986816406\n",
            "Epoch: 370 Loss D.: 0.03141482174396515\n",
            "Epoch: 370 Loss G.: 7.216248035430908\n",
            "Epoch: 380 Loss D.: 0.00232659000903368\n",
            "Epoch: 380 Loss G.: 11.23968505859375\n",
            "Epoch: 390 Loss D.: 0.0014877974754199386\n",
            "Epoch: 390 Loss G.: 6.372853755950928\n",
            "Epoch: 400 Loss D.: 0.004230488557368517\n",
            "Epoch: 400 Loss G.: 6.189355850219727\n",
            "Epoch: 410 Loss D.: 0.1432010978460312\n",
            "Epoch: 410 Loss G.: 5.768563747406006\n",
            "Epoch: 420 Loss D.: 0.001612075255252421\n",
            "Epoch: 420 Loss G.: 6.594301223754883\n",
            "Epoch: 430 Loss D.: 0.15898653864860535\n",
            "Epoch: 430 Loss G.: 4.842094898223877\n",
            "Epoch: 440 Loss D.: 0.0002220657333964482\n",
            "Epoch: 440 Loss G.: 18.0222225189209\n",
            "Epoch: 450 Loss D.: 0.0013658420648425817\n",
            "Epoch: 450 Loss G.: 8.336966514587402\n",
            "Epoch: 460 Loss D.: 0.002189590595662594\n",
            "Epoch: 460 Loss G.: 5.176906585693359\n",
            "Epoch: 470 Loss D.: 0.0006539384485222399\n",
            "Epoch: 470 Loss G.: 9.628026962280273\n",
            "Epoch: 480 Loss D.: 0.0016657232772558928\n",
            "Epoch: 480 Loss G.: 6.541835308074951\n",
            "Epoch: 490 Loss D.: 0.0005635859561152756\n",
            "Epoch: 490 Loss G.: 7.922653675079346\n"
          ]
        }
      ]
    },
    {
      "cell_type": "code",
      "metadata": {
        "id": "m6LUuQD1uz2F"
      },
      "source": [
        "# make a dataframe for sample list\n",
        "for i in final_generated_samples:\n",
        "  a = i.detach().numpy()\n",
        "  final_generated_samples_list.append(a)\n",
        "final_generated_samples_df = pd.DataFrame(final_generated_samples_list)"
      ],
      "execution_count": 39,
      "outputs": []
    },
    {
      "cell_type": "code",
      "metadata": {
        "colab": {
          "base_uri": "https://localhost:8080/"
        },
        "id": "xNZjGkXgiNGL",
        "outputId": "e4a04f38-c63f-4bd6-ee28-e0716fd339eb"
      },
      "source": [
        "latent_space_samples[:10]"
      ],
      "execution_count": 40,
      "outputs": [
        {
          "output_type": "execute_result",
          "data": {
            "text/plain": [
              "tensor([[1., 1., 1., 1., 1., 1., 1., 1.],\n",
              "        [1., 1., 1., 1., 1., 1., 1., 1.],\n",
              "        [1., 1., 1., 1., 1., 1., 1., 1.],\n",
              "        [1., 1., 1., 1., 1., 1., 1., 1.],\n",
              "        [1., 1., 1., 1., 1., 1., 1., 1.],\n",
              "        [1., 1., 1., 1., 1., 1., 1., 1.],\n",
              "        [1., 1., 1., 1., 1., 1., 1., 1.],\n",
              "        [1., 1., 1., 1., 1., 1., 1., 1.],\n",
              "        [1., 1., 1., 1., 1., 1., 1., 1.],\n",
              "        [1., 1., 1., 1., 1., 1., 1., 1.]])"
            ]
          },
          "metadata": {},
          "execution_count": 40
        }
      ]
    },
    {
      "cell_type": "code",
      "metadata": {
        "colab": {
          "base_uri": "https://localhost:8080/",
          "height": 282
        },
        "id": "4tvxpDe3Za9d",
        "outputId": "6e198020-fb50-40b0-f06a-f95cb76076fc"
      },
      "source": [
        "#plot of two variables from generated samples\n",
        "plt.plot(final_generated_samples_df.iloc[:, 6], \n",
        "         final_generated_samples_df.iloc[:, 3], \".\")"
      ],
      "execution_count": 41,
      "outputs": [
        {
          "output_type": "execute_result",
          "data": {
            "text/plain": [
              "[<matplotlib.lines.Line2D at 0x7f74881f16d0>]"
            ]
          },
          "metadata": {},
          "execution_count": 41
        },
        {
          "output_type": "display_data",
          "data": {
            "image/png": "[encoded data removed]",
            "text/plain": [
              "<Figure size 432x288 with 1 Axes>"
            ]
          },
          "metadata": {
            "needs_background": "light"
          }
        }
      ]
    },
    {
      "cell_type": "code",
      "metadata": {
        "id": "XIMG5PoX06OX"
      },
      "source": [
        "from scipy.spatial import distance"
      ],
      "execution_count": 42,
      "outputs": []
    },
    {
      "cell_type": "code",
      "metadata": {
        "id": "RycK3PK_zDW0"
      },
      "source": [
        "float_x = real_samples[0].double()"
      ],
      "execution_count": 43,
      "outputs": []
    },
    {
      "cell_type": "code",
      "metadata": {
        "id": "Y6D_uRDmDsKS"
      },
      "source": [
        "float_x = list(float_x.numpy())"
      ],
      "execution_count": 44,
      "outputs": []
    },
    {
      "cell_type": "markdown",
      "metadata": {
        "id": "mP59c_ZQqUKQ"
      },
      "source": [
        ""
      ]
    },
    {
      "cell_type": "code",
      "metadata": {
        "colab": {
          "base_uri": "https://localhost:8080/"
        },
        "id": "rf0t9hUt7Wc4",
        "outputId": "25e1d80d-691d-459b-a36a-72d9edeccd4e"
      },
      "source": [
        "# Cosine similarity\n",
        "def square_rooted(x):\n",
        "   return round(math.sqrt(sum([a*a for a in x])),3)\n",
        "  \n",
        "def cosine_similarity(x,y):\n",
        " numerator = sum(a*b for a,b in zip(x,y))\n",
        " denominator = square_rooted(x)*square_rooted(y)\n",
        " return round(numerator/float(denominator),3)\n",
        "  \n",
        "print(cosine_similarity(final_generated_samples_df[0],float_x))"
      ],
      "execution_count": 45,
      "outputs": [
        {
          "output_type": "stream",
          "name": "stdout",
          "text": [
            "0.028\n"
          ]
        }
      ]
    },
    {
      "cell_type": "code",
      "metadata": {
        "colab": {
          "base_uri": "https://localhost:8080/"
        },
        "id": "vP1mzbkc79ik",
        "outputId": "9824c7e9-0117-4488-8ac1-59fb4636a7ac"
      },
      "source": [
        "#Jaccard similarity\n",
        "from math import*\n",
        "  \n",
        "def jaccard_similarity(x,y):\n",
        " intersection_cardinality = len(set.intersection(*[set(x), set(y)]))\n",
        " union_cardinality = len(set.union(*[set(x), set(y)]))\n",
        " return intersection_cardinality/float(union_cardinality)\n",
        "print(jaccard_similarity([0,1,2,5,6],[0,2,3,5,7,9]))"
      ],
      "execution_count": 46,
      "outputs": [
        {
          "output_type": "stream",
          "name": "stdout",
          "text": [
            "0.375\n"
          ]
        }
      ]
    },
    {
      "cell_type": "code",
      "metadata": {
        "id": "bj-rFHRZx8UG"
      },
      "source": [
        "#jaccard_score(final_generated_samples_df.iloc[0,:].values,float_x)"
      ],
      "execution_count": 47,
      "outputs": []
    },
    {
      "cell_type": "code",
      "metadata": {
        "colab": {
          "base_uri": "https://localhost:8080/"
        },
        "id": "vWT2mebSvk4d",
        "outputId": "02511805-c267-4af9-8487-daeac752e5a0"
      },
      "source": [
        "final_generated_samples_df.iloc[0,:].values"
      ],
      "execution_count": 48,
      "outputs": [
        {
          "output_type": "execute_result",
          "data": {
            "text/plain": [
              "array([-0.15967119,  0.59479249,  0.28679657,  0.04318567,  0.81230414,\n",
              "        0.82428014,  0.47579941,  0.04285545])"
            ]
          },
          "metadata": {},
          "execution_count": 48
        }
      ]
    },
    {
      "cell_type": "code",
      "metadata": {
        "colab": {
          "base_uri": "https://localhost:8080/"
        },
        "id": "hP35G8bJyGJh",
        "outputId": "b8ede5d0-a7e2-43da-f2c5-a7ccb3d8a275"
      },
      "source": [
        "real_samples[0]"
      ],
      "execution_count": 49,
      "outputs": [
        {
          "output_type": "execute_result",
          "data": {
            "text/plain": [
              "tensor([1.2895e-01, 8.0309e-01, 6.7983e-06, 2.5810e-01, 8.3715e-01, 2.1708e-01,\n",
              "        2.2222e-01, 0.0000e+00])"
            ]
          },
          "metadata": {},
          "execution_count": 49
        }
      ]
    },
    {
      "cell_type": "code",
      "metadata": {
        "colab": {
          "base_uri": "https://localhost:8080/"
        },
        "id": "iVk9PQY0yI3e",
        "outputId": "3b336621-b284-4f40-9efb-348c38a056fc"
      },
      "source": [
        "final_generated_samples_df.iloc[3,:].values"
      ],
      "execution_count": 50,
      "outputs": [
        {
          "output_type": "execute_result",
          "data": {
            "text/plain": [
              "array([0.1013265 , 0.10096311, 0.1372871 , 0.17700836, 0.40690434,\n",
              "       0.28971958, 0.40798289, 0.03154868])"
            ]
          },
          "metadata": {},
          "execution_count": 50
        }
      ]
    },
    {
      "cell_type": "code",
      "metadata": {
        "id": "NP3So0XD8g60"
      },
      "source": [
        "import numpy as np\n",
        "import pandas as pd\n",
        "from sklearn.metrics import jaccard_score\n",
        "from sklearn.metrics.pairwise import pairwise_distances,cosine_similarity"
      ],
      "execution_count": 51,
      "outputs": []
    },
    {
      "cell_type": "code",
      "metadata": {
        "id": "DCwHlEBVHgow"
      },
      "source": [
        "df9 = pd.DataFrame(scaler.inverse_transform(final_generated_samples_df))\n",
        "df10 = pd.DataFrame(scaler.inverse_transform(train_data_01))"
      ],
      "execution_count": 52,
      "outputs": []
    },
    {
      "cell_type": "code",
      "metadata": {
        "id": "ji0flvFOBhuS"
      },
      "source": [
        "generated_vals2=[]\n",
        "for i, j in df9.iterrows():\n",
        "  generated_vals2.append(j.values)\n",
        "\n",
        "generated_vals3 = generated_vals2[:10]\n",
        "\n",
        "train_data_vals2=[]\n",
        "for i, j in train_data_001.iterrows():\n",
        "  train_data_vals2.append(j.values)\n"
      ],
      "execution_count": 53,
      "outputs": []
    },
    {
      "cell_type": "code",
      "metadata": {
        "colab": {
          "base_uri": "https://localhost:8080/"
        },
        "id": "oECUgn4eXJ_g",
        "outputId": "9f15799e-7f30-4d1a-8b94-7295bd85f9c2"
      },
      "source": [
        "train_data_vals2[517]"
      ],
      "execution_count": 54,
      "outputs": [
        {
          "output_type": "execute_result",
          "data": {
            "text/plain": [
              "array([5.91000e-02, 3.33000e-01, 0.00000e+00, 1.28000e-01, 4.47000e-01,\n",
              "       1.32097e+02, 8.00000e+00, 5.00000e+00])"
            ]
          },
          "metadata": {},
          "execution_count": 54
        }
      ]
    },
    {
      "cell_type": "markdown",
      "metadata": {
        "id": "uxYm6GBjoZG6"
      },
      "source": [
        ""
      ]
    },
    {
      "cell_type": "code",
      "metadata": {
        "id": "cM4Kbd01UDeF"
      },
      "source": [
        "generated_vals=[]\n",
        "for i, j in final_generated_samples_df.iterrows():\n",
        "  generated_vals.append(j.values)\n",
        "\n",
        "train_data_vals=[]\n",
        "for i, j in train_data_01.iterrows():\n",
        "  train_data_vals.append(j.values)\n",
        "\n",
        "def cos_similarity(x,d):\n",
        "  recommended = []  \n",
        "  for i in d:\n",
        "    a = cosine_similarity([x],[i])\n",
        "    recommended.append(a)\n",
        "  rec_score=max(recommended)\n",
        "  rec_index = recommended.index(rec_score)\n",
        "  rec_idx = df13.index[rec_index]\n",
        "  rec_len = len(recommended)\n",
        "  print('len train data:',rec_len,'; index:',rec_idx,'; cos sim:',rec_score)"
      ],
      "execution_count": 55,
      "outputs": []
    },
    {
      "cell_type": "code",
      "metadata": {
        "id": "8GyLH48C0vPM"
      },
      "source": [
        "def euclid_similarity(x,d):\n",
        "  recommended = []  \n",
        "  for i in d:\n",
        "    a = distance.euclidean([x],[i])\n",
        "    recommended.append(a)\n",
        "  rec_score=min(recommended)\n",
        "  rec_index = recommended.index(rec_score)\n",
        "  rec_idx = df13.index[rec_index]\n",
        "  rec_len = len(recommended)\n",
        "  print('len train data:',rec_len,'; index:',rec_idx,'; euclid sim:',rec_score)"
      ],
      "execution_count": 56,
      "outputs": []
    },
    {
      "cell_type": "code",
      "metadata": {
        "colab": {
          "base_uri": "https://localhost:8080/"
        },
        "id": "j527TRLHyY2x",
        "outputId": "0cdfcedb-019d-46ac-edec-119750add8e2"
      },
      "source": [
        "dst = distance.euclidean(final_generated_samples_df.iloc[0,:].values,float_x)\n",
        "print('Euclidean distance: %.3f' % dst)"
      ],
      "execution_count": 57,
      "outputs": [
        {
          "output_type": "stream",
          "name": "stdout",
          "text": [
            "Euclidean distance: 0.831\n"
          ]
        }
      ]
    },
    {
      "cell_type": "code",
      "metadata": {
        "colab": {
          "base_uri": "https://localhost:8080/"
        },
        "id": "DHOtDop6CSD-",
        "outputId": "cb8b3f20-b735-4bcd-ac78-89ea91c8f4e9"
      },
      "source": [
        "df5.shape"
      ],
      "execution_count": 58,
      "outputs": [
        {
          "output_type": "execute_result",
          "data": {
            "text/plain": [
              "(1099, 15)"
            ]
          },
          "metadata": {},
          "execution_count": 58
        }
      ]
    },
    {
      "cell_type": "code",
      "metadata": {
        "colab": {
          "base_uri": "https://localhost:8080/"
        },
        "id": "I5WphA_0Z9zV",
        "outputId": "cc712bfc-0fb8-4b29-f8b3-5ac188d90299"
      },
      "source": [
        "# pick recommendations with cosine similarity\n",
        "for i in generated_vals3:\n",
        "  a = cos_similarity(i,train_data_vals2)"
      ],
      "execution_count": 59,
      "outputs": [
        {
          "output_type": "stream",
          "name": "stdout",
          "text": [
            "len train data: 1024 ; index: Easy - Remix ; cos sim: [[0.999982]]\n",
            "len train data: 1024 ; index: Axel F - From \"Beverly Hills Cop\" Soundtrack ; cos sim: [[0.99994841]]\n",
            "len train data: 1024 ; index: I See Your Smile ; cos sim: [[0.99999506]]\n",
            "len train data: 1024 ; index: Ti volevo dedicare (feat. J-AX & Boomdabash) ; cos sim: [[0.99998238]]\n",
            "len train data: 1024 ; index: Prrrum ; cos sim: [[0.9998121]]\n",
            "len train data: 1024 ; index: The Kill ; cos sim: [[0.99999361]]\n",
            "len train data: 1024 ; index: Sektion (feat. Branco & Gilli) ; cos sim: [[0.99999058]]\n",
            "len train data: 1024 ; index: Red ; cos sim: [[0.99997238]]\n",
            "len train data: 1024 ; index: Akhi Side ; cos sim: [[0.99998898]]\n",
            "len train data: 1024 ; index: LUNA ; cos sim: [[0.99991156]]\n"
          ]
        }
      ]
    },
    {
      "cell_type": "code",
      "metadata": {
        "colab": {
          "base_uri": "https://localhost:8080/"
        },
        "id": "I9txVZCn1Me7",
        "outputId": "13a90c3e-2578-499a-b5a8-746da095f882"
      },
      "source": [
        "# pick recommendations with euclidean similarity\n",
        "for i in generated_vals3:\n",
        "  a = euclid_similarity(i,train_data_vals2)"
      ],
      "execution_count": 60,
      "outputs": [
        {
          "output_type": "stream",
          "name": "stdout",
          "text": [
            "len train data: 1024 ; index: Lento ; euclid sim: 4.690351272587671\n",
            "len train data: 1024 ; index: Sincera ; euclid sim: 6.394909861154286\n",
            "len train data: 1024 ; index: Shame ; euclid sim: 3.0802574493226738\n",
            "len train data: 1024 ; index: Un autre que moi ; euclid sim: 3.1665214140216174\n",
            "len train data: 1024 ; index: Guardia Civil ; euclid sim: 8.575231010403648\n",
            "len train data: 1024 ; index: Need You ; euclid sim: 0.9709002429567771\n",
            "len train data: 1024 ; index: Lyte as a Rock ; euclid sim: 2.0016281692253792\n",
            "len train data: 1024 ; index: Conquista ; euclid sim: 1.7443320848877648\n",
            "len train data: 1024 ; index: Kisse Misse ; euclid sim: 1.6994605301196395\n",
            "len train data: 1024 ; index: I Wanna Sex You Up ; euclid sim: 4.666741844921878\n"
          ]
        }
      ]
    },
    {
      "cell_type": "code",
      "metadata": {
        "id": "SR1wtnOQsprP"
      },
      "source": [
        "testdf1_3 = testdf1_2\n",
        "testdf1_3['track_name'] = testdf1['track_name']\n",
        "testdf1_3 = testdf1_3.set_index('track_name')\n",
        "\n",
        "testdf2_3 = testdf2_2\n",
        "testdf2_3['track_name'] = testdf2['track_name']\n",
        "testdf2_3 = testdf2_3.set_index('track_name')\n",
        "\n",
        "testdf3_3 = testdf3_2\n",
        "testdf3_3['track_name'] = testdf3['track_name']\n",
        "testdf3_3 = testdf3_3.set_index('track_name')"
      ],
      "execution_count": 61,
      "outputs": []
    },
    {
      "cell_type": "code",
      "metadata": {
        "id": "C976IH3Y745-"
      },
      "source": [
        "test_data1 = testdf1_3.values\n",
        "test_data2 = testdf2_3.values\n",
        "test_data3 = testdf3_3.values"
      ],
      "execution_count": 62,
      "outputs": []
    },
    {
      "cell_type": "code",
      "metadata": {
        "id": "XWRXAtgRfQB_"
      },
      "source": [
        "def cos_similarity_t1(x,d):\n",
        "  recommended = []  \n",
        "  for i in d:\n",
        "    a = cosine_similarity([x],[i])\n",
        "    recommended.append(a)\n",
        "  rec_score=max(recommended)\n",
        "  rec_index = recommended.index(rec_score)\n",
        "  rec_idx = testdf1_3.index[rec_index]\n",
        "  rec_len = len(recommended)\n",
        "  print('len train data:',rec_len,'; index:',rec_idx,'; cos sim:',rec_score)\n",
        "\n",
        "def euclid_similarity_t1(x,d):\n",
        "  recommended = []  \n",
        "  for i in d:\n",
        "    a = distance.euclidean([x],[i])\n",
        "    recommended.append(a)\n",
        "  rec_score=min(recommended)\n",
        "  rec_index = recommended.index(rec_score)\n",
        "  rec_idx = testdf1_3.index[rec_index]\n",
        "  rec_len = len(recommended)\n",
        "  print('len train data:',rec_len,'; index:',rec_idx,'; euclid sim:',rec_score)"
      ],
      "execution_count": 63,
      "outputs": []
    },
    {
      "cell_type": "code",
      "metadata": {
        "colab": {
          "base_uri": "https://localhost:8080/"
        },
        "id": "v3iYXkcX8QJr",
        "outputId": "63b46177-da0c-424b-a60b-d11cf4cc3ecc"
      },
      "source": [
        "#compare recomendations to test subjects\n",
        "for i in generated_vals3:\n",
        "  a = cos_similarity_t1(i,test_data1)"
      ],
      "execution_count": 64,
      "outputs": [
        {
          "output_type": "stream",
          "name": "stdout",
          "text": [
            "len train data: 10 ; index: Un autre que moi ; cos sim: [[0.99905689]]\n",
            "len train data: 10 ; index: Un autre que moi ; cos sim: [[0.99394352]]\n",
            "len train data: 10 ; index: Un autre que moi ; cos sim: [[0.99963085]]\n",
            "len train data: 10 ; index: Un autre que moi ; cos sim: [[0.99800974]]\n",
            "len train data: 10 ; index: Prettiest Virgin (Radio Edit) ; cos sim: [[0.99667385]]\n",
            "len train data: 10 ; index: I Dare You ; cos sim: [[0.99983409]]\n",
            "len train data: 10 ; index: Howling ; cos sim: [[0.99993512]]\n",
            "len train data: 10 ; index: Un autre que moi ; cos sim: [[0.99894658]]\n",
            "len train data: 10 ; index: Lower ; cos sim: [[0.99990282]]\n",
            "len train data: 10 ; index: Lower ; cos sim: [[0.9998349]]\n"
          ]
        }
      ]
    },
    {
      "cell_type": "code",
      "metadata": {
        "colab": {
          "base_uri": "https://localhost:8080/"
        },
        "id": "4vwnG9_x-1Gy",
        "outputId": "25724b58-3550-4fe2-ae3d-467aee9dd311"
      },
      "source": [
        "for i in generated_vals3:\n",
        "  a = euclid_similarity_t1(i,test_data1)"
      ],
      "execution_count": 65,
      "outputs": [
        {
          "output_type": "stream",
          "name": "stdout",
          "text": [
            "len train data: 10 ; index: Tainted ; euclid sim: 11.674791306556388\n",
            "len train data: 10 ; index: Un autre que moi ; euclid sim: 14.581270031843385\n",
            "len train data: 10 ; index: Lower ; euclid sim: 6.268682082022128\n",
            "len train data: 10 ; index: Un autre que moi ; euclid sim: 6.961593015698156\n",
            "len train data: 10 ; index: Un autre que moi ; euclid sim: 48.331146502927965\n",
            "len train data: 10 ; index: I Dare You ; euclid sim: 3.985751800731921\n",
            "len train data: 10 ; index: Song For You ; euclid sim: 2.7129186506126013\n",
            "len train data: 10 ; index: Song For You ; euclid sim: 6.639558933805653\n",
            "len train data: 10 ; index: Un autre que moi ; euclid sim: 6.269310761474784\n",
            "len train data: 10 ; index: Tainted ; euclid sim: 27.4172140673972\n"
          ]
        }
      ]
    },
    {
      "cell_type": "code",
      "metadata": {
        "id": "a9IAbe8_f5MT"
      },
      "source": [
        "def cos_similarity_t2(x,d):\n",
        "  recommended = []  \n",
        "  for i in d:\n",
        "    a = cosine_similarity([x],[i])\n",
        "    recommended.append(a)\n",
        "  rec_score=max(recommended)\n",
        "  rec_index = recommended.index(rec_score)\n",
        "  rec_idx = testdf2_3.index[rec_index]\n",
        "  rec_len = len(recommended)\n",
        "  print('len train data:',rec_len,'; index:',rec_idx,'; cos sim:',rec_score)\n",
        "\n",
        "def euclid_similarity_t2(x,d):\n",
        "  recommended = []  \n",
        "  for i in d:\n",
        "    a = distance.euclidean([x],[i])\n",
        "    recommended.append(a)\n",
        "  rec_score=min(recommended)\n",
        "  rec_index = recommended.index(rec_score)\n",
        "  rec_idx = testdf2_3.index[rec_index]\n",
        "  rec_len = len(recommended)\n",
        "  print('len train data:',rec_len,'; index:',rec_idx,'; euclid sim:',rec_score)"
      ],
      "execution_count": 66,
      "outputs": []
    },
    {
      "cell_type": "code",
      "metadata": {
        "colab": {
          "base_uri": "https://localhost:8080/"
        },
        "id": "CYriMM1ck4Gx",
        "outputId": "26549857-f02f-4c5b-eb5c-3315e65ad728"
      },
      "source": [
        "#compare recomendations to test subjects\n",
        "for i in generated_vals3:\n",
        "  a = cos_similarity_t2(i,test_data2)"
      ],
      "execution_count": 67,
      "outputs": [
        {
          "output_type": "stream",
          "name": "stdout",
          "text": [
            "len train data: 11 ; index: I'm Dreamin' ; cos sim: [[0.99889209]]\n",
            "len train data: 11 ; index: Nasty ; cos sim: [[0.99302596]]\n",
            "len train data: 11 ; index: I Adore Mi Amor ; cos sim: [[0.9993467]]\n",
            "len train data: 11 ; index: Rump Shaker ; cos sim: [[0.99752198]]\n",
            "len train data: 11 ; index: End Of The Road ; cos sim: [[0.99733737]]\n",
            "len train data: 11 ; index: When Can I See You ; cos sim: [[0.99974931]]\n",
            "len train data: 11 ; index: I Adore Mi Amor ; cos sim: [[0.99991643]]\n",
            "len train data: 11 ; index: She's Playing Hard To Get ; cos sim: [[0.99884107]]\n",
            "len train data: 11 ; index: I'm Dreamin' ; cos sim: [[0.99992024]]\n",
            "len train data: 11 ; index: She's Playing Hard To Get ; cos sim: [[0.99993778]]\n"
          ]
        }
      ]
    },
    {
      "cell_type": "code",
      "metadata": {
        "colab": {
          "base_uri": "https://localhost:8080/"
        },
        "id": "LGue-_WhuEqo",
        "outputId": "767cf4be-66c7-4ffd-f502-b11af4b00856"
      },
      "source": [
        "for i in generated_vals3:\n",
        "  a = euclid_similarity_t2(i,test_data2)"
      ],
      "execution_count": 68,
      "outputs": [
        {
          "output_type": "stream",
          "name": "stdout",
          "text": [
            "len train data: 11 ; index: She's Playing Hard To Get ; euclid sim: 19.632287060768768\n",
            "len train data: 11 ; index: I Adore Mi Amor ; euclid sim: 10.923878931133576\n",
            "len train data: 11 ; index: She's Playing Hard To Get ; euclid sim: 37.76091786486458\n",
            "len train data: 11 ; index: Nasty ; euclid sim: 7.386848374853815\n",
            "len train data: 11 ; index: End Of The Road ; euclid sim: 21.210193605379537\n",
            "len train data: 11 ; index: Just Got Paid ; euclid sim: 7.587627102499037\n",
            "len train data: 11 ; index: Lyte as a Rock ; euclid sim: 1.5482059121273943\n",
            "len train data: 11 ; index: Lyte as a Rock ; euclid sim: 5.548054319615876\n",
            "len train data: 11 ; index: I'm Dreamin' ; euclid sim: 2.6393121560965427\n",
            "len train data: 11 ; index: She's Playing Hard To Get ; euclid sim: 4.49811235177173\n"
          ]
        }
      ]
    },
    {
      "cell_type": "code",
      "metadata": {
        "id": "GPEUMkQaL2i-"
      },
      "source": [
        "def cos_similarity_t3(x,d):\n",
        "  recommended = []  \n",
        "  for i in d:\n",
        "    a = cosine_similarity([x],[i])\n",
        "    recommended.append(a)\n",
        "  rec_score=max(recommended)\n",
        "  rec_index = recommended.index(rec_score)\n",
        "  rec_idx = testdf3_3.index[rec_index]\n",
        "  rec_len = len(recommended)\n",
        "  print('len train data:',rec_len,'; index:',rec_idx,'; cos sim:',rec_score)\n",
        "\n",
        "def euclid_similarity_t3(x,d):\n",
        "  recommended = []  \n",
        "  for i in d:\n",
        "    a = distance.euclidean([x],[i])\n",
        "    recommended.append(a)\n",
        "  rec_score=min(recommended)\n",
        "  rec_index = recommended.index(rec_score)\n",
        "  rec_idx = testdf3_3.index[rec_index]\n",
        "  rec_len = len(recommended)\n",
        "  print('len train data:',rec_len,'; index:',rec_idx,'; euclid sim:',rec_score)"
      ],
      "execution_count": 69,
      "outputs": []
    },
    {
      "cell_type": "code",
      "metadata": {
        "colab": {
          "base_uri": "https://localhost:8080/"
        },
        "id": "h7yHchNGL4IY",
        "outputId": "45b3c618-5c48-4a16-fb2d-e35eed90e9ea"
      },
      "source": [
        "#compare recomendations to test subjects\n",
        "for i in generated_vals3:\n",
        "  a = cos_similarity_t3(i,test_data3)"
      ],
      "execution_count": 70,
      "outputs": [
        {
          "output_type": "stream",
          "name": "stdout",
          "text": [
            "len train data: 11 ; index: Ghost - Lost Kings Remix ; cos sim: [[0.99889388]]\n",
            "len train data: 11 ; index: Hall & Oates ; cos sim: [[0.99301914]]\n",
            "len train data: 11 ; index: Sway - Chainsmokers Remix ; cos sim: [[0.99934348]]\n",
            "len train data: 11 ; index: Classic (feat. POWERS) - POWERS Sunset Version ; cos sim: [[0.99752346]]\n",
            "len train data: 11 ; index: Loudspeaker ; cos sim: [[0.99713372]]\n",
            "len train data: 11 ; index: On Fire ; cos sim: [[0.99980775]]\n",
            "len train data: 11 ; index: Cool Blue ; cos sim: [[0.99993539]]\n",
            "len train data: 11 ; index: Hall & Oates ; cos sim: [[0.99881919]]\n",
            "len train data: 11 ; index: Ghost - Lost Kings Remix ; cos sim: [[0.99991668]]\n",
            "len train data: 11 ; index: Hall & Oates ; cos sim: [[0.99989653]]\n"
          ]
        }
      ]
    },
    {
      "cell_type": "code",
      "metadata": {
        "colab": {
          "base_uri": "https://localhost:8080/"
        },
        "id": "S22wN0m6L7J5",
        "outputId": "62d9b8c2-91b8-463a-e5cb-eb8463058518"
      },
      "source": [
        "for i in generated_vals3:\n",
        "  a = euclid_similarity_t3(i,test_data3)"
      ],
      "execution_count": 71,
      "outputs": [
        {
          "output_type": "stream",
          "name": "stdout",
          "text": [
            "len train data: 11 ; index: Cool Blue ; euclid sim: 9.024450346532321\n",
            "len train data: 11 ; index: On Fire ; euclid sim: 12.13548188597813\n",
            "len train data: 11 ; index: Feel It All Around ; euclid sim: 11.00035873120465\n",
            "len train data: 11 ; index: Ghost - Lost Kings Remix ; euclid sim: 7.393069870515584\n",
            "len train data: 11 ; index: Classic (feat. POWERS) - POWERS Sunset Version ; euclid sim: 22.08203953925276\n",
            "len train data: 11 ; index: Loudspeaker ; euclid sim: 5.412086992083044\n",
            "len train data: 11 ; index: Indecision ; euclid sim: 5.309812259767652\n",
            "len train data: 11 ; index: Indecision ; euclid sim: 7.9342870250286754\n",
            "len train data: 11 ; index: Ghost - Lost Kings Remix ; euclid sim: 3.203391560670651\n",
            "len train data: 11 ; index: Cool Blue ; euclid sim: 24.201649277277472\n"
          ]
        }
      ]
    }
  ]
}