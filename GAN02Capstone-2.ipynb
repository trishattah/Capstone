{
  "nbformat": 4,
  "nbformat_minor": 0,
  "metadata": {
    "colab": {
      "name": "GAN02Capstone.ipynb",
      "provenance": [],
      "collapsed_sections": []
    },
    "kernelspec": {
      "name": "python3",
      "display_name": "Python 3"
    },
    "language_info": {
      "name": "python"
    }
  },
  "cells": [
    {
      "cell_type": "code",
      "metadata": {
        "id": "YQCZ3H_2TxIZ",
        "colab": {
          "base_uri": "https://localhost:8080/"
        },
        "outputId": "d31450bb-f620-4eb1-b2b5-9a2958d38a12"
      },
      "source": [
        "import torch\n",
        "from torch import nn\n",
        "from torch.utils.data import DataLoader\n",
        "import math\n",
        "import matplotlib.pyplot as plt\n",
        "import numpy as np\n",
        "import io\n",
        "import pandas as pd\n",
        "from imblearn.over_sampling import SMOTE\n",
        "from collections import Counter\n",
        "from matplotlib import pyplot\n",
        "from sklearn.preprocessing import MinMaxScaler\n",
        "import warnings\n",
        "warnings.filterwarnings('ignore')"
      ],
      "execution_count": 1,
      "outputs": [
        {
          "output_type": "stream",
          "name": "stderr",
          "text": [
            "/usr/local/lib/python3.7/dist-packages/sklearn/externals/six.py:31: FutureWarning: The module is deprecated in version 0.21 and will be removed in version 0.23 since we've dropped support for Python 2.7. Please rely on the official version of six (https://pypi.org/project/six/).\n",
            "  \"(https://pypi.org/project/six/).\", FutureWarning)\n",
            "/usr/local/lib/python3.7/dist-packages/sklearn/utils/deprecation.py:144: FutureWarning: The sklearn.neighbors.base module is  deprecated in version 0.22 and will be removed in version 0.24. The corresponding classes / functions should instead be imported from sklearn.neighbors. Anything that cannot be imported from sklearn.neighbors is now part of the private API.\n",
            "  warnings.warn(message, FutureWarning)\n"
          ]
        }
      ]
    },
    {
      "cell_type": "code",
      "metadata": {
        "id": "c5IpolGoaZzL"
      },
      "source": [
        "url = 'https://raw.githubusercontent.com/trishattah/Capstone/main/spotify_songs-2.csv'\n",
        "df2 = pd.read_csv(url)"
      ],
      "execution_count": 2,
      "outputs": []
    },
    {
      "cell_type": "code",
      "metadata": {
        "id": "BOfZ1LsBb3Z_"
      },
      "source": [
        "#url = 'https://raw.githubusercontent.com/trishattah/Capstone/main/Emotion_Labels.csv'\n",
        "#df3 = pd.read_csv(url)"
      ],
      "execution_count": 3,
      "outputs": []
    },
    {
      "cell_type": "code",
      "metadata": {
        "id": "KwLUDpea0D_T"
      },
      "source": [
        "#df4 = pd.merge(df2,df3,on='track_id')\n",
        "#df4 = df2.drop(['Unnamed: 19'], axis=1)\n",
        "df4=df2"
      ],
      "execution_count": 4,
      "outputs": []
    },
    {
      "cell_type": "code",
      "metadata": {
        "colab": {
          "base_uri": "https://localhost:8080/"
        },
        "id": "paij6qTxqtvn",
        "outputId": "877dc6d2-9d89-4126-c19e-4c7ced97b2ab"
      },
      "source": [
        "df4 = df4.dropna()\n",
        "df4.shape"
      ],
      "execution_count": 5,
      "outputs": [
        {
          "output_type": "execute_result",
          "data": {
            "text/plain": [
              "(1099, 19)"
            ]
          },
          "metadata": {},
          "execution_count": 5
        }
      ]
    },
    {
      "cell_type": "code",
      "metadata": {
        "colab": {
          "base_uri": "https://localhost:8080/"
        },
        "id": "rcEu57ehv2fp",
        "outputId": "581a2869-b016-45e6-d38e-182e8318d189"
      },
      "source": [
        "df4['playlist_id'].value_counts()"
      ],
      "execution_count": 6,
      "outputs": [
        {
          "output_type": "execute_result",
          "data": {
            "text/plain": [
              "4hKPJNFIhdAg4pAksn78FJ    11\n",
              "3ykXidKLz1eYPvuGoFlD1e    11\n",
              "5jROYSZSL7cO0jGAqkPx7C    10\n",
              "1qXg9ck25tBRxeXsj8mbDG    10\n",
              "4NlAd9NpIa92IjErMyAriM    10\n",
              "                          ..\n",
              "7xWdFCrU5Gka6qp1ODrSdK     1\n",
              "6wyJ4bsjZaUKa9f6GeZlAO     1\n",
              "1eqVgsNjaX6mxDPoefhocT     1\n",
              "1QJ66s6YBZgxMUaVUyrhbo     1\n",
              "7vJOXFe40axY7qS39vGDyH     1\n",
              "Name: playlist_id, Length: 359, dtype: int64"
            ]
          },
          "metadata": {},
          "execution_count": 6
        }
      ]
    },
    {
      "cell_type": "code",
      "metadata": {
        "id": "zhHvotdp3evO"
      },
      "source": [
        "from sklearn.preprocessing import LabelEncoder\n",
        "le = LabelEncoder()\n",
        "\n",
        "df11 = df2.drop(['playlist_id','track_id','track_name','track_artist'], axis=1)\n",
        "cols = ['language', 'playlist_genre']\n",
        "#df11[cols] = df11[cols].apply(LabelEncoder().fit_transform)\n",
        "\n",
        "df12 = df2.set_index('track_name')"
      ],
      "execution_count": 7,
      "outputs": []
    },
    {
      "cell_type": "code",
      "metadata": {
        "id": "gh5zkMZ3x43G"
      },
      "source": [
        "testdf = df4[df4['playlist_id'].isin(['5jROYSZSL7cO0jGAqkPx7C', '3ykXidKLz1eYPvuGoFlD1e','4hKPJNFIhdAg4pAksn78FJ'])]\n",
        "testdf1 =  df4[df4['playlist_id'].isin(['5jROYSZSL7cO0jGAqkPx7C'])]\n",
        "testdf2 = df4[df4['playlist_id'].isin(['3ykXidKLz1eYPvuGoFlD1e'])]\n",
        "testdf3 = df4[df4['playlist_id'].isin(['4hKPJNFIhdAg4pAksn78FJ'])]"
      ],
      "execution_count": 8,
      "outputs": []
    },
    {
      "cell_type": "code",
      "metadata": {
        "id": "dct1kTdS0MYc"
      },
      "source": [
        "testdf1_1 = testdf1.drop(['playlist_id','track_id','track_name','track_artist'], axis=1)\n",
        "testdf2_1 = testdf2.drop(['playlist_id','track_id','track_name','track_artist'], axis=1)\n",
        "testdf3_1 = testdf3.drop(['playlist_id','track_id','track_name','track_artist'], axis=1)"
      ],
      "execution_count": 9,
      "outputs": []
    },
    {
      "cell_type": "code",
      "metadata": {
        "id": "URnxJyAXzAUk"
      },
      "source": [
        "df5 = df4[~df4['playlist_id'].isin(['4hKPJNFIhdAg4pAksn78FJ', '3ykXidKLz1eYPvuGoFlD1e','4hKPJNFIhdAg4pAksn78FJ'])]"
      ],
      "execution_count": 10,
      "outputs": []
    },
    {
      "cell_type": "code",
      "metadata": {
        "id": "0CtwpX2P39KH"
      },
      "source": [
        "pd.set_option('display.max_columns', None)"
      ],
      "execution_count": 11,
      "outputs": []
    },
    {
      "cell_type": "code",
      "metadata": {
        "id": "iFpwP8Vz1hHY"
      },
      "source": [
        "df5 = df4.drop(['playlist_id','track_id','track_name','track_artist'], axis=1)\n",
        "df5['emotion'] = df5['emotion'].astype(int)"
      ],
      "execution_count": 12,
      "outputs": []
    },
    {
      "cell_type": "code",
      "metadata": {
        "colab": {
          "base_uri": "https://localhost:8080/",
          "height": 131
        },
        "id": "7CAVYhDW9UJ3",
        "outputId": "5cc87358-8480-443e-ffae-b8b1995227b6"
      },
      "source": [
        "df5.head(2)"
      ],
      "execution_count": 13,
      "outputs": [
        {
          "output_type": "execute_result",
          "data": {
            "text/html": [
              "<div>\n",
              "<style scoped>\n",
              "    .dataframe tbody tr th:only-of-type {\n",
              "        vertical-align: middle;\n",
              "    }\n",
              "\n",
              "    .dataframe tbody tr th {\n",
              "        vertical-align: top;\n",
              "    }\n",
              "\n",
              "    .dataframe thead th {\n",
              "        text-align: right;\n",
              "    }\n",
              "</style>\n",
              "<table border=\"1\" class=\"dataframe\">\n",
              "  <thead>\n",
              "    <tr style=\"text-align: right;\">\n",
              "      <th></th>\n",
              "      <th>track_popularity</th>\n",
              "      <th>playlist_genre</th>\n",
              "      <th>danceability</th>\n",
              "      <th>energy</th>\n",
              "      <th>key</th>\n",
              "      <th>loudness</th>\n",
              "      <th>mode</th>\n",
              "      <th>speechiness</th>\n",
              "      <th>acousticness</th>\n",
              "      <th>instrumentalness</th>\n",
              "      <th>liveness</th>\n",
              "      <th>valence</th>\n",
              "      <th>tempo</th>\n",
              "      <th>language</th>\n",
              "      <th>emotion</th>\n",
              "    </tr>\n",
              "  </thead>\n",
              "  <tbody>\n",
              "    <tr>\n",
              "      <th>0</th>\n",
              "      <td>41</td>\n",
              "      <td>rock</td>\n",
              "      <td>0.682</td>\n",
              "      <td>0.401</td>\n",
              "      <td>2</td>\n",
              "      <td>-10.068</td>\n",
              "      <td>1</td>\n",
              "      <td>0.0236</td>\n",
              "      <td>0.2790</td>\n",
              "      <td>0.01170</td>\n",
              "      <td>0.0887</td>\n",
              "      <td>0.566</td>\n",
              "      <td>97.091</td>\n",
              "      <td>tl</td>\n",
              "      <td>6</td>\n",
              "    </tr>\n",
              "    <tr>\n",
              "      <th>1</th>\n",
              "      <td>28</td>\n",
              "      <td>rock</td>\n",
              "      <td>0.303</td>\n",
              "      <td>0.880</td>\n",
              "      <td>9</td>\n",
              "      <td>-4.739</td>\n",
              "      <td>1</td>\n",
              "      <td>0.0442</td>\n",
              "      <td>0.0117</td>\n",
              "      <td>0.00994</td>\n",
              "      <td>0.3470</td>\n",
              "      <td>0.404</td>\n",
              "      <td>135.225</td>\n",
              "      <td>en</td>\n",
              "      <td>1</td>\n",
              "    </tr>\n",
              "  </tbody>\n",
              "</table>\n",
              "</div>"
            ],
            "text/plain": [
              "   track_popularity playlist_genre  danceability  energy  key  loudness  mode  \\\n",
              "0                41           rock         0.682   0.401    2   -10.068     1   \n",
              "1                28           rock         0.303   0.880    9    -4.739     1   \n",
              "\n",
              "   speechiness  acousticness  instrumentalness  liveness  valence    tempo  \\\n",
              "0       0.0236        0.2790           0.01170    0.0887    0.566   97.091   \n",
              "1       0.0442        0.0117           0.00994    0.3470    0.404  135.225   \n",
              "\n",
              "  language  emotion  \n",
              "0       tl        6  \n",
              "1       en        1  "
            ]
          },
          "metadata": {},
          "execution_count": 13
        }
      ]
    },
    {
      "cell_type": "code",
      "metadata": {
        "id": "PUNlxqKOIklG"
      },
      "source": [
        "cols = ['language', 'playlist_genre']\n",
        "df5[cols] = df5[cols].apply(LabelEncoder().fit_transform)"
      ],
      "execution_count": 14,
      "outputs": []
    },
    {
      "cell_type": "code",
      "metadata": {
        "id": "mDPWs3JO9gvP"
      },
      "source": [
        "df11 = df5"
      ],
      "execution_count": 15,
      "outputs": []
    },
    {
      "cell_type": "code",
      "metadata": {
        "id": "J7DROiWZ9vQB"
      },
      "source": [
        "df11['track_name'] = df4['track_name']\n",
        "df5 = df5.drop(['track_name'], axis=1)"
      ],
      "execution_count": 16,
      "outputs": []
    },
    {
      "cell_type": "code",
      "metadata": {
        "colab": {
          "base_uri": "https://localhost:8080/",
          "height": 37
        },
        "id": "6kJkSkyzC7iU",
        "outputId": "e44fa7ad-bbe3-42c5-aee9-cba59fc01274"
      },
      "source": [
        "df11.iloc[517,15]"
      ],
      "execution_count": 17,
      "outputs": [
        {
          "output_type": "execute_result",
          "data": {
            "application/vnd.google.colaboratory.intrinsic+json": {
              "type": "string"
            },
            "text/plain": [
              "'Bandito'"
            ]
          },
          "metadata": {},
          "execution_count": 17
        }
      ]
    },
    {
      "cell_type": "code",
      "metadata": {
        "id": "eIIXCY014PaV"
      },
      "source": [
        "df12 = df11.set_index('track_name')"
      ],
      "execution_count": 18,
      "outputs": []
    },
    {
      "cell_type": "code",
      "metadata": {
        "id": "kVtiVv8S0rdE"
      },
      "source": [
        "testdf1_1[cols] = testdf1_1[cols].apply(LabelEncoder().fit_transform)\n",
        "testdf2_1[cols] = testdf2_1[cols].apply(LabelEncoder().fit_transform)\n",
        "testdf3_1[cols] = testdf3_1[cols].apply(LabelEncoder().fit_transform)"
      ],
      "execution_count": 19,
      "outputs": []
    },
    {
      "cell_type": "code",
      "metadata": {
        "colab": {
          "base_uri": "https://localhost:8080/"
        },
        "id": "QAUoLLtugPJB",
        "outputId": "fa76b2c1-5f3f-47f6-d9dc-d4743a47b40e"
      },
      "source": [
        "X, y = df5.iloc[:, :-1], df5.iloc[:, -1]\n",
        "X.shape"
      ],
      "execution_count": 20,
      "outputs": [
        {
          "output_type": "execute_result",
          "data": {
            "text/plain": [
              "(1099, 14)"
            ]
          },
          "metadata": {},
          "execution_count": 20
        }
      ]
    },
    {
      "cell_type": "code",
      "metadata": {
        "id": "G_EuCYFRRNWe"
      },
      "source": [
        "#strategy = {1:200, 2:120, 3:150, 4:100, 5:150,6:120, 7:70, 8:45 ,9:45 ,10:40}\n",
        "#oversample = SMOTE(sampling_strategy=strategy)\n",
        "#X, y = oversample.fit_resample(X, y)\n",
        "# summarize distribution\n",
        "#counter = Counter(y)\n",
        "#for k,v in counter.items():\n",
        "#\tper = v / len(y) * 100\n",
        "#\tprint('Class=%d, n=%d (%.3f%%)' % (k, v, per))\n",
        "# plot the distribution\n",
        "#pyplot.bar(counter.keys(), counter.values())\n",
        "#pyplot.show()"
      ],
      "execution_count": 21,
      "outputs": []
    },
    {
      "cell_type": "code",
      "metadata": {
        "id": "ROL4725RdsGn"
      },
      "source": [
        "#df6 = pd.DataFrame(X)\n",
        "#df6['emotion'] = y\n",
        "#df7 = df6.sample(frac=1)\n",
        "#df5 = df5.dropna()"
      ],
      "execution_count": 22,
      "outputs": []
    },
    {
      "cell_type": "code",
      "metadata": {
        "id": "JFK2TDoD92iv"
      },
      "source": [
        "df5.shape\n",
        "scaler = MinMaxScaler()"
      ],
      "execution_count": 23,
      "outputs": []
    },
    {
      "cell_type": "code",
      "metadata": {
        "colab": {
          "base_uri": "https://localhost:8080/"
        },
        "id": "2M3PlxrK31BH",
        "outputId": "bfefdf99-6d18-4e48-f4cf-e2226228cf2e"
      },
      "source": [
        "df5['emotion'].value_counts()"
      ],
      "execution_count": 24,
      "outputs": [
        {
          "output_type": "execute_result",
          "data": {
            "text/plain": [
              "1     393\n",
              "6     137\n",
              "3     108\n",
              "5     103\n",
              "7      91\n",
              "2      91\n",
              "4      67\n",
              "8      39\n",
              "10     38\n",
              "9      32\n",
              "Name: emotion, dtype: int64"
            ]
          },
          "metadata": {},
          "execution_count": 24
        }
      ]
    },
    {
      "cell_type": "code",
      "metadata": {
        "colab": {
          "base_uri": "https://localhost:8080/"
        },
        "id": "bvDcIONbwwND",
        "outputId": "e067e114-162a-4e24-a4fc-ac8f4271dcfa"
      },
      "source": [
        "train_data_001 = df5.iloc[:1024,7:]\n",
        "train_data_01 = pd.DataFrame(scaler.fit_transform(train_data_001))\n",
        "train_data_length = len(train_data_01)\n",
        "train_data_01.shape"
      ],
      "execution_count": 25,
      "outputs": [
        {
          "output_type": "execute_result",
          "data": {
            "text/plain": [
              "(1024, 8)"
            ]
          },
          "metadata": {},
          "execution_count": 25
        }
      ]
    },
    {
      "cell_type": "code",
      "metadata": {
        "id": "DrydNko01Qiq"
      },
      "source": [
        "testdf1_2 = testdf1_1.iloc[:1024,7:]\n",
        "testdf2_2 = testdf2_1.iloc[:1024,7:]\n",
        "testdf3_2 = testdf3_1.iloc[:1024,7:]\n",
        "df13 = df12.iloc[:1024,7:]"
      ],
      "execution_count": 26,
      "outputs": []
    },
    {
      "cell_type": "code",
      "metadata": {
        "colab": {
          "base_uri": "https://localhost:8080/"
        },
        "id": "Y-mISzcmEXG7",
        "outputId": "35cfa93c-7fab-47ed-fec4-a860a6eae521"
      },
      "source": [
        "(train_data_01 < 0).values.any()"
      ],
      "execution_count": 27,
      "outputs": [
        {
          "output_type": "execute_result",
          "data": {
            "text/plain": [
              "False"
            ]
          },
          "metadata": {},
          "execution_count": 27
        }
      ]
    },
    {
      "cell_type": "code",
      "metadata": {
        "id": "RYgkcSwtvynh"
      },
      "source": [
        "train_data = torch.tensor(train_data_01.values.astype(np.float32))"
      ],
      "execution_count": 28,
      "outputs": []
    },
    {
      "cell_type": "code",
      "metadata": {
        "id": "9jGsD2Rf_5cZ"
      },
      "source": [
        "train_labels = torch.zeros(train_data_length)\n",
        "train_set = [\n",
        "    (train_data[i], train_labels[i]) for i in range(train_data_length)\n",
        "]"
      ],
      "execution_count": 29,
      "outputs": []
    },
    {
      "cell_type": "code",
      "metadata": {
        "id": "8Q_FlvWVCPeg"
      },
      "source": [
        "batch_size = 32\n",
        "train_loader = torch.utils.data.DataLoader(\n",
        "    train_set, batch_size=batch_size, shuffle=True\n",
        ")"
      ],
      "execution_count": 30,
      "outputs": []
    },
    {
      "cell_type": "code",
      "metadata": {
        "id": "oeGokWcnUNVo"
      },
      "source": [
        "class Discriminator(nn.Module):\n",
        "    def __init__(self):\n",
        "        super().__init__()\n",
        "        self.model = nn.Sequential(\n",
        "            nn.Linear(8, 256),\n",
        "            nn.ReLU(),\n",
        "            nn.Dropout(0.3),\n",
        "            nn.Linear(256, 128),\n",
        "            nn.ReLU(),\n",
        "            nn.Dropout(0.3),\n",
        "            nn.Linear(128, 64),\n",
        "            nn.ReLU(),\n",
        "            nn.Dropout(0.3),\n",
        "            nn.Linear(64, 1),\n",
        "            nn.Sigmoid(),\n",
        "        )\n",
        "\n",
        "    def forward(self, x):\n",
        "        output = self.model(x)\n",
        "        return output"
      ],
      "execution_count": 31,
      "outputs": []
    },
    {
      "cell_type": "code",
      "metadata": {
        "id": "w28gifmTe_Wa"
      },
      "source": [
        "discriminator = Discriminator()"
      ],
      "execution_count": 32,
      "outputs": []
    },
    {
      "cell_type": "code",
      "metadata": {
        "id": "3LaGfTJ1fFf9"
      },
      "source": [
        "class Generator(nn.Module):\n",
        "    def __init__(self):\n",
        "        super().__init__()\n",
        "        self.model = nn.Sequential(\n",
        "            nn.Linear(8, 32),\n",
        "            nn.ReLU(),\n",
        "            nn.Linear(32, 64),\n",
        "            nn.ReLU(),\n",
        "            nn.Linear(64, 8),\n",
        "        )\n",
        "\n",
        "    def forward(self, x):\n",
        "        output = self.model(x)\n",
        "        return output\n",
        "\n",
        "generator = Generator()"
      ],
      "execution_count": 33,
      "outputs": []
    },
    {
      "cell_type": "code",
      "metadata": {
        "id": "b3Lh9ZtEfPvG"
      },
      "source": [
        "lr = 0.001\n",
        "num_epochs = 500\n",
        "loss_function = nn.BCELoss()"
      ],
      "execution_count": 34,
      "outputs": []
    },
    {
      "cell_type": "code",
      "metadata": {
        "id": "vHk6r37kfWfA"
      },
      "source": [
        "optimizer_discriminator = torch.optim.Adam(discriminator.parameters(), lr=lr)\n",
        "optimizer_generator = torch.optim.Adam(generator.parameters(), lr=lr)"
      ],
      "execution_count": 35,
      "outputs": []
    },
    {
      "cell_type": "code",
      "metadata": {
        "colab": {
          "base_uri": "https://localhost:8080/"
        },
        "id": "WiX4fOyf2Wh6",
        "outputId": "e3cb51b2-c640-48c6-f5ca-ccfb5e75096f"
      },
      "source": [
        " len(list(train_loader)[0][0])"
      ],
      "execution_count": 36,
      "outputs": [
        {
          "output_type": "execute_result",
          "data": {
            "text/plain": [
              "32"
            ]
          },
          "metadata": {},
          "execution_count": 36
        }
      ]
    },
    {
      "cell_type": "code",
      "metadata": {
        "id": "moL5w8QUPPFB"
      },
      "source": [
        "# list for final generated samples\n",
        "final_generated_samples=[]\n",
        "final_generated_samples_list=[]\n",
        "losses_g =[]\n",
        "losses_d = []\n",
        "labels = []\n",
        "pred = []\n",
        "true = []"
      ],
      "execution_count": 37,
      "outputs": []
    },
    {
      "cell_type": "code",
      "metadata": {
        "id": "W0Zee1zVehN2"
      },
      "source": [
        "#len(labels[0])"
      ],
      "execution_count": 38,
      "outputs": []
    },
    {
      "cell_type": "code",
      "metadata": {
        "colab": {
          "base_uri": "https://localhost:8080/"
        },
        "id": "M3oKJHuuffeK",
        "outputId": "86be33c2-cc72-4d04-9019-5aaa724b4232"
      },
      "source": [
        "for epoch in range(num_epochs):\n",
        "    for n, (real_samples, _) in enumerate(train_loader):\n",
        "        # Data for training the discriminator\n",
        "        real_samples_labels = torch.ones((batch_size, 1))\n",
        "        latent_space_samples = torch.rand((batch_size, 8))\n",
        "        generated_samples = generator(latent_space_samples)\n",
        "        generated_samples_labels = torch.zeros((batch_size, 1))\n",
        "        all_samples = torch.cat((real_samples, generated_samples))\n",
        "        all_samples_labels = torch.cat(\n",
        "            (real_samples_labels, generated_samples_labels)\n",
        "        )\n",
        "\n",
        "        # Training the discriminator\n",
        "        discriminator.zero_grad()\n",
        "        output_discriminator = discriminator(all_samples)\n",
        "        loss_discriminator = loss_function(\n",
        "            output_discriminator, all_samples_labels)\n",
        "        loss_discriminator.backward()\n",
        "        optimizer_discriminator.step()\n",
        "\n",
        "\n",
        "        # Data for training the generator\n",
        "        latent_space_samples = torch.rand((batch_size, 8))\n",
        "\n",
        "        # Training the generator\n",
        "        generator.zero_grad()\n",
        "        generated_samples = generator(latent_space_samples)\n",
        "        output_discriminator_generated = discriminator(generated_samples)\n",
        "        loss_generator = loss_function(\n",
        "            output_discriminator_generated, real_samples_labels\n",
        "        )\n",
        "        loss_generator.backward()\n",
        "        optimizer_generator.step()\n",
        "\n",
        "        losses_g.append(loss_generator)\n",
        "        losses_d.append(loss_discriminator)\n",
        "\n",
        "        labels.append(all_samples_labels)\n",
        "        pred.append(output_discriminator)\n",
        "        true.append(all_samples)\n",
        "\n",
        "        # Show loss\n",
        "        if epoch % 10 == 0 and n == batch_size - 1:\n",
        "            final_generated_samples.append(generated_samples[0])\n",
        "            print(f\"Epoch: {epoch} Loss D.: {loss_discriminator}\")\n",
        "            print(f\"Epoch: {epoch} Loss G.: {loss_generator}\")\n",
        "            "
      ],
      "execution_count": 39,
      "outputs": [
        {
          "output_type": "stream",
          "name": "stdout",
          "text": [
            "Epoch: 0 Loss D.: 0.7596231698989868\n",
            "Epoch: 0 Loss G.: 0.9572279453277588\n",
            "Epoch: 10 Loss D.: 0.6945512890815735\n",
            "Epoch: 10 Loss G.: 0.7349054217338562\n",
            "Epoch: 20 Loss D.: 0.4501522481441498\n",
            "Epoch: 20 Loss G.: 0.9902229905128479\n",
            "Epoch: 30 Loss D.: 0.4335632920265198\n",
            "Epoch: 30 Loss G.: 0.903194785118103\n",
            "Epoch: 40 Loss D.: 0.8967173099517822\n",
            "Epoch: 40 Loss G.: 2.2931571006774902\n",
            "Epoch: 50 Loss D.: 0.10261388123035431\n",
            "Epoch: 50 Loss G.: 4.045951843261719\n",
            "Epoch: 60 Loss D.: 0.37328779697418213\n",
            "Epoch: 60 Loss G.: 1.0102709531784058\n",
            "Epoch: 70 Loss D.: 0.525275707244873\n",
            "Epoch: 70 Loss G.: 1.1036673784255981\n",
            "Epoch: 80 Loss D.: 0.587059497833252\n",
            "Epoch: 80 Loss G.: 1.4922784566879272\n",
            "Epoch: 90 Loss D.: 0.4001515507698059\n",
            "Epoch: 90 Loss G.: 0.9987471103668213\n",
            "Epoch: 100 Loss D.: 0.5404052138328552\n",
            "Epoch: 100 Loss G.: 0.8543341159820557\n",
            "Epoch: 110 Loss D.: 0.6251699924468994\n",
            "Epoch: 110 Loss G.: 1.1261287927627563\n",
            "Epoch: 120 Loss D.: 0.39581534266471863\n",
            "Epoch: 120 Loss G.: 1.6173745393753052\n",
            "Epoch: 130 Loss D.: 0.6415309309959412\n",
            "Epoch: 130 Loss G.: 0.9640052318572998\n",
            "Epoch: 140 Loss D.: 0.6000291705131531\n",
            "Epoch: 140 Loss G.: 0.9448232650756836\n",
            "Epoch: 150 Loss D.: 0.6363446712493896\n",
            "Epoch: 150 Loss G.: 0.8709760308265686\n",
            "Epoch: 160 Loss D.: 0.6310405731201172\n",
            "Epoch: 160 Loss G.: 1.0917534828186035\n",
            "Epoch: 170 Loss D.: 0.48291072249412537\n",
            "Epoch: 170 Loss G.: 1.026123285293579\n",
            "Epoch: 180 Loss D.: 0.6500898599624634\n",
            "Epoch: 180 Loss G.: 0.8948745727539062\n",
            "Epoch: 190 Loss D.: 0.6115618944168091\n",
            "Epoch: 190 Loss G.: 1.047753095626831\n",
            "Epoch: 200 Loss D.: 0.4971121847629547\n",
            "Epoch: 200 Loss G.: 1.029495120048523\n",
            "Epoch: 210 Loss D.: 0.3770366311073303\n",
            "Epoch: 210 Loss G.: 1.6867278814315796\n",
            "Epoch: 220 Loss D.: 0.6057806015014648\n",
            "Epoch: 220 Loss G.: 0.9295713305473328\n",
            "Epoch: 230 Loss D.: 0.4565836191177368\n",
            "Epoch: 230 Loss G.: 1.3605378866195679\n",
            "Epoch: 240 Loss D.: 0.4628359377384186\n",
            "Epoch: 240 Loss G.: 1.2925360202789307\n",
            "Epoch: 250 Loss D.: 0.47543883323669434\n",
            "Epoch: 250 Loss G.: 0.8049330711364746\n",
            "Epoch: 260 Loss D.: 0.6615455150604248\n",
            "Epoch: 260 Loss G.: 0.9714677333831787\n",
            "Epoch: 270 Loss D.: 0.4749772548675537\n",
            "Epoch: 270 Loss G.: 0.8333624601364136\n",
            "Epoch: 280 Loss D.: 0.6891711354255676\n",
            "Epoch: 280 Loss G.: 0.9033556580543518\n",
            "Epoch: 290 Loss D.: 0.8794087171554565\n",
            "Epoch: 290 Loss G.: 0.7300849556922913\n",
            "Epoch: 300 Loss D.: 0.6479873657226562\n",
            "Epoch: 300 Loss G.: 0.7561425566673279\n",
            "Epoch: 310 Loss D.: 0.669474184513092\n",
            "Epoch: 310 Loss G.: 0.7043115496635437\n",
            "Epoch: 320 Loss D.: 0.6016838550567627\n",
            "Epoch: 320 Loss G.: 0.7724609375\n",
            "Epoch: 330 Loss D.: 0.6373143792152405\n",
            "Epoch: 330 Loss G.: 0.788122296333313\n",
            "Epoch: 340 Loss D.: 0.5682992339134216\n",
            "Epoch: 340 Loss G.: 0.8194400072097778\n",
            "Epoch: 350 Loss D.: 0.6958901882171631\n",
            "Epoch: 350 Loss G.: 0.8354236483573914\n",
            "Epoch: 360 Loss D.: 0.6838589310646057\n",
            "Epoch: 360 Loss G.: 0.7417093515396118\n",
            "Epoch: 370 Loss D.: 0.6795207262039185\n",
            "Epoch: 370 Loss G.: 0.7192410230636597\n",
            "Epoch: 380 Loss D.: 0.6579525470733643\n",
            "Epoch: 380 Loss G.: 0.853065013885498\n",
            "Epoch: 390 Loss D.: 0.6774016618728638\n",
            "Epoch: 390 Loss G.: 0.6931573152542114\n",
            "Epoch: 400 Loss D.: 0.677074670791626\n",
            "Epoch: 400 Loss G.: 0.8292014002799988\n",
            "Epoch: 410 Loss D.: 0.6014847755432129\n",
            "Epoch: 410 Loss G.: 0.8039965629577637\n",
            "Epoch: 420 Loss D.: 0.6477211713790894\n",
            "Epoch: 420 Loss G.: 0.7861928939819336\n",
            "Epoch: 430 Loss D.: 0.6502158045768738\n",
            "Epoch: 430 Loss G.: 0.706754744052887\n",
            "Epoch: 440 Loss D.: 0.6815455555915833\n",
            "Epoch: 440 Loss G.: 0.9869467616081238\n",
            "Epoch: 450 Loss D.: 0.6235967874526978\n",
            "Epoch: 450 Loss G.: 0.9756214022636414\n",
            "Epoch: 460 Loss D.: 0.6937955021858215\n",
            "Epoch: 460 Loss G.: 0.7458940744400024\n",
            "Epoch: 470 Loss D.: 0.5306041836738586\n",
            "Epoch: 470 Loss G.: 1.0251274108886719\n",
            "Epoch: 480 Loss D.: 0.6055030226707458\n",
            "Epoch: 480 Loss G.: 1.251651644706726\n",
            "Epoch: 490 Loss D.: 0.6043639183044434\n",
            "Epoch: 490 Loss G.: 0.844133198261261\n"
          ]
        }
      ]
    },
    {
      "cell_type": "code",
      "metadata": {
        "colab": {
          "base_uri": "https://localhost:8080/",
          "height": 265
        },
        "id": "hs5paGQUO03N",
        "outputId": "1c6f3745-0201-417b-a2ae-078951e5652b"
      },
      "source": [
        "# plot and save the generator and discriminator loss\n",
        "plt.figure()\n",
        "plt.plot(losses_g, label='Generator loss')\n",
        "plt.plot(losses_d, label='Discriminator Loss')\n",
        "plt.legend()\n",
        "plt.show()"
      ],
      "execution_count": 40,
      "outputs": [
        {
          "output_type": "display_data",
          "data": {
            "image/png": "[encoded data removed]",
            "text/plain": [
              "<Figure size 432x288 with 1 Axes>"
            ]
          },
          "metadata": {
            "needs_background": "light"
          }
        }
      ]
    },
    {
      "cell_type": "code",
      "metadata": {
        "id": "wapDoQxZR72S"
      },
      "source": [
        "metric_df = pd.DataFrame(labels,pred)"
      ],
      "execution_count": 41,
      "outputs": []
    },
    {
      "cell_type": "code",
      "metadata": {
        "id": "AFySdIAvnymT"
      },
      "source": [
        "pred_b1 = pred[0].detach().numpy()\n",
        "labs_b1 = labels[0].detach().numpy()\n",
        "\n",
        "df_b1 = pd.DataFrame(pred_b1, columns=['pred'])"
      ],
      "execution_count": 42,
      "outputs": []
    },
    {
      "cell_type": "code",
      "metadata": {
        "id": "djC8vOtuqbuS"
      },
      "source": [
        "df_b1['labels'] = labs_b1"
      ],
      "execution_count": 43,
      "outputs": []
    },
    {
      "cell_type": "code",
      "metadata": {
        "colab": {
          "base_uri": "https://localhost:8080/",
          "height": 111
        },
        "id": "O3DhWVwLqhhh",
        "outputId": "4cb178c9-b594-4770-bfef-292c9d32db04"
      },
      "source": [
        "df_b11 = df_b1.sample(frac=1)\n",
        "df_b11.head(2)"
      ],
      "execution_count": 44,
      "outputs": [
        {
          "output_type": "execute_result",
          "data": {
            "text/html": [
              "<div>\n",
              "<style scoped>\n",
              "    .dataframe tbody tr th:only-of-type {\n",
              "        vertical-align: middle;\n",
              "    }\n",
              "\n",
              "    .dataframe tbody tr th {\n",
              "        vertical-align: top;\n",
              "    }\n",
              "\n",
              "    .dataframe thead th {\n",
              "        text-align: right;\n",
              "    }\n",
              "</style>\n",
              "<table border=\"1\" class=\"dataframe\">\n",
              "  <thead>\n",
              "    <tr style=\"text-align: right;\">\n",
              "      <th></th>\n",
              "      <th>pred</th>\n",
              "      <th>labels</th>\n",
              "    </tr>\n",
              "  </thead>\n",
              "  <tbody>\n",
              "    <tr>\n",
              "      <th>63</th>\n",
              "      <td>0.503671</td>\n",
              "      <td>0.0</td>\n",
              "    </tr>\n",
              "    <tr>\n",
              "      <th>41</th>\n",
              "      <td>0.503583</td>\n",
              "      <td>0.0</td>\n",
              "    </tr>\n",
              "  </tbody>\n",
              "</table>\n",
              "</div>"
            ],
            "text/plain": [
              "        pred  labels\n",
              "63  0.503671     0.0\n",
              "41  0.503583     0.0"
            ]
          },
          "metadata": {},
          "execution_count": 44
        }
      ]
    },
    {
      "cell_type": "code",
      "metadata": {
        "id": "QsM7-oqa0J60"
      },
      "source": [
        "X = df_b11['pred']\n",
        "y = df_b11['labels'].astype(\"category\")"
      ],
      "execution_count": 45,
      "outputs": []
    },
    {
      "cell_type": "code",
      "metadata": {
        "id": "M6Wel3Yw0ihp"
      },
      "source": [
        "#df_b11.to_csv( \"/content/drive/My Drive/df_b11.csv\", index=False, encoding='utf-8-sig')"
      ],
      "execution_count": 46,
      "outputs": []
    },
    {
      "cell_type": "code",
      "metadata": {
        "id": "m6LUuQD1uz2F"
      },
      "source": [
        "# make a dataframe for sample list\n",
        "for i in final_generated_samples:\n",
        "  a = i.detach().numpy()\n",
        "  final_generated_samples_list.append(a)\n",
        "final_generated_samples_df = pd.DataFrame(final_generated_samples_list)"
      ],
      "execution_count": 47,
      "outputs": []
    },
    {
      "cell_type": "code",
      "metadata": {
        "id": "xNZjGkXgiNGL",
        "colab": {
          "base_uri": "https://localhost:8080/"
        },
        "outputId": "87d965d4-98de-416d-bdb2-d63a71ae4af5"
      },
      "source": [
        "latent_space_samples[:10]"
      ],
      "execution_count": 48,
      "outputs": [
        {
          "output_type": "execute_result",
          "data": {
            "text/plain": [
              "tensor([[0.1925, 0.6178, 0.4777, 0.6212, 0.1426, 0.4867, 0.1475, 0.3802],\n",
              "        [0.4220, 0.9018, 0.5494, 0.9311, 0.6747, 0.3323, 0.7161, 0.3724],\n",
              "        [0.7827, 0.3442, 0.9944, 0.8014, 0.3414, 0.3110, 0.2008, 0.6194],\n",
              "        [0.7299, 0.6083, 0.4241, 0.9239, 0.2714, 0.3771, 0.1865, 0.6004],\n",
              "        [0.7393, 0.1204, 0.6326, 0.4384, 0.6596, 0.1980, 0.0834, 0.8010],\n",
              "        [0.5738, 0.9594, 0.9560, 0.8165, 0.0456, 0.5994, 0.8298, 0.8752],\n",
              "        [0.6999, 0.3332, 0.1169, 0.1781, 0.6042, 0.7678, 0.9533, 0.4452],\n",
              "        [0.7904, 0.8354, 0.6973, 0.8107, 0.2891, 0.4576, 0.5652, 0.5142],\n",
              "        [0.6399, 0.9698, 0.5413, 0.0918, 0.7704, 0.8478, 0.2766, 0.9116],\n",
              "        [0.5405, 0.1433, 0.2683, 0.1084, 0.7111, 0.4524, 0.8234, 0.9904]])"
            ]
          },
          "metadata": {},
          "execution_count": 48
        }
      ]
    },
    {
      "cell_type": "code",
      "metadata": {
        "id": "4tvxpDe3Za9d",
        "colab": {
          "base_uri": "https://localhost:8080/",
          "height": 282
        },
        "outputId": "8994769e-ed62-405e-857a-a4fe6c59945c"
      },
      "source": [
        "#plot of two variables from generated samples\n",
        "plt.plot(final_generated_samples_df.iloc[:, 6], \n",
        "         final_generated_samples_df.iloc[:, 3], \".\")"
      ],
      "execution_count": 49,
      "outputs": [
        {
          "output_type": "execute_result",
          "data": {
            "text/plain": [
              "[<matplotlib.lines.Line2D at 0x7f18d83ebc90>]"
            ]
          },
          "metadata": {},
          "execution_count": 49
        },
        {
          "output_type": "display_data",
          "data": {
            "image/png": "[encoded data removed]",
            "text/plain": [
              "<Figure size 432x288 with 1 Axes>"
            ]
          },
          "metadata": {
            "needs_background": "light"
          }
        }
      ]
    },
    {
      "cell_type": "code",
      "metadata": {
        "id": "XIMG5PoX06OX"
      },
      "source": [
        "from scipy.spatial import distance"
      ],
      "execution_count": 50,
      "outputs": []
    },
    {
      "cell_type": "code",
      "metadata": {
        "id": "RycK3PK_zDW0"
      },
      "source": [
        "float_x = real_samples[0].double()"
      ],
      "execution_count": 51,
      "outputs": []
    },
    {
      "cell_type": "code",
      "metadata": {
        "id": "Y6D_uRDmDsKS"
      },
      "source": [
        "float_x = list(float_x.numpy())"
      ],
      "execution_count": 52,
      "outputs": []
    },
    {
      "cell_type": "markdown",
      "metadata": {
        "id": "mP59c_ZQqUKQ"
      },
      "source": [
        ""
      ]
    },
    {
      "cell_type": "code",
      "metadata": {
        "id": "rf0t9hUt7Wc4",
        "colab": {
          "base_uri": "https://localhost:8080/"
        },
        "outputId": "de588776-5170-4ab9-8b18-04d8dc343e20"
      },
      "source": [
        "# Cosine similarity\n",
        "def square_rooted(x):\n",
        "   return round(math.sqrt(sum([a*a for a in x])),3)\n",
        "  \n",
        "def cosine_similarity(x,y):\n",
        " numerator = sum(a*b for a,b in zip(x,y))\n",
        " denominator = square_rooted(x)*square_rooted(y)\n",
        " return round(numerator/float(denominator),3)\n",
        "  \n",
        "print(cosine_similarity(final_generated_samples_df[0],float_x))"
      ],
      "execution_count": 53,
      "outputs": [
        {
          "output_type": "stream",
          "name": "stdout",
          "text": [
            "0.217\n"
          ]
        }
      ]
    },
    {
      "cell_type": "code",
      "metadata": {
        "id": "vP1mzbkc79ik",
        "colab": {
          "base_uri": "https://localhost:8080/"
        },
        "outputId": "21703ef5-da58-4d16-8f82-5114d7edd3c3"
      },
      "source": [
        "#Jaccard similarity\n",
        "from math import*\n",
        "  \n",
        "def jaccard_similarity(x,y):\n",
        " intersection_cardinality = len(set.intersection(*[set(x), set(y)]))\n",
        " union_cardinality = len(set.union(*[set(x), set(y)]))\n",
        " return intersection_cardinality/float(union_cardinality)\n",
        "print(jaccard_similarity([0,1,2,5,6],[0,2,3,5,7,9]))"
      ],
      "execution_count": 54,
      "outputs": [
        {
          "output_type": "stream",
          "name": "stdout",
          "text": [
            "0.375\n"
          ]
        }
      ]
    },
    {
      "cell_type": "code",
      "metadata": {
        "id": "bj-rFHRZx8UG"
      },
      "source": [
        "#jaccard_score(final_generated_samples_df.iloc[0,:].values,float_x)"
      ],
      "execution_count": 55,
      "outputs": []
    },
    {
      "cell_type": "code",
      "metadata": {
        "id": "vWT2mebSvk4d",
        "colab": {
          "base_uri": "https://localhost:8080/"
        },
        "outputId": "abe28f10-1b21-4459-f77c-57aeb5f05610"
      },
      "source": [
        "final_generated_samples_df.iloc[0,:].values"
      ],
      "execution_count": 56,
      "outputs": [
        {
          "output_type": "execute_result",
          "data": {
            "text/plain": [
              "array([0.28831089, 0.41946447, 0.3731209 , 0.43834549, 1.0035876 ,\n",
              "       1.02717423, 0.48870397, 0.99525559])"
            ]
          },
          "metadata": {},
          "execution_count": 56
        }
      ]
    },
    {
      "cell_type": "code",
      "metadata": {
        "id": "hP35G8bJyGJh",
        "colab": {
          "base_uri": "https://localhost:8080/"
        },
        "outputId": "3eb82c8d-8a5a-4b52-b965-b49eba2d44ae"
      },
      "source": [
        "real_samples[0]"
      ],
      "execution_count": 57,
      "outputs": [
        {
          "output_type": "execute_result",
          "data": {
            "text/plain": [
              "tensor([0.0637, 0.4660, 0.0233, 0.0701, 0.5734, 0.2855, 0.1667, 0.0000])"
            ]
          },
          "metadata": {},
          "execution_count": 57
        }
      ]
    },
    {
      "cell_type": "code",
      "metadata": {
        "id": "iVk9PQY0yI3e",
        "colab": {
          "base_uri": "https://localhost:8080/"
        },
        "outputId": "31ce9aca-1e83-4bb7-c812-104af957a0bb"
      },
      "source": [
        "final_generated_samples_df.iloc[3,:].values"
      ],
      "execution_count": 58,
      "outputs": [
        {
          "output_type": "execute_result",
          "data": {
            "text/plain": [
              "array([ 0.08078088,  0.60936964, -0.12200884,  0.2988686 ,  0.62958771,\n",
              "        0.67959666,  0.39328188,  0.31503528])"
            ]
          },
          "metadata": {},
          "execution_count": 58
        }
      ]
    },
    {
      "cell_type": "code",
      "metadata": {
        "id": "NP3So0XD8g60"
      },
      "source": [
        "import numpy as np\n",
        "import pandas as pd\n",
        "from sklearn.metrics import jaccard_score\n",
        "from sklearn.metrics.pairwise import pairwise_distances,cosine_similarity"
      ],
      "execution_count": 59,
      "outputs": []
    },
    {
      "cell_type": "code",
      "metadata": {
        "id": "DCwHlEBVHgow"
      },
      "source": [
        "df9 = pd.DataFrame(scaler.inverse_transform(final_generated_samples_df))\n",
        "df10 = pd.DataFrame(scaler.inverse_transform(train_data_01))"
      ],
      "execution_count": 60,
      "outputs": []
    },
    {
      "cell_type": "code",
      "metadata": {
        "id": "ji0flvFOBhuS"
      },
      "source": [
        "generated_vals2=[]\n",
        "for i, j in df9.iterrows():\n",
        "  generated_vals2.append(j.values)\n",
        "\n",
        "generated_vals3 = generated_vals2[:10]\n",
        "\n",
        "train_data_vals2=[]\n",
        "for i, j in train_data_001.iterrows():\n",
        "  train_data_vals2.append(j.values)\n"
      ],
      "execution_count": 61,
      "outputs": []
    },
    {
      "cell_type": "code",
      "metadata": {
        "id": "oECUgn4eXJ_g",
        "colab": {
          "base_uri": "https://localhost:8080/"
        },
        "outputId": "40dbe114-ddee-4ce9-9c53-f9844391f4f3"
      },
      "source": [
        "train_data_vals2[517]"
      ],
      "execution_count": 62,
      "outputs": [
        {
          "output_type": "execute_result",
          "data": {
            "text/plain": [
              "array([5.91000e-02, 3.33000e-01, 0.00000e+00, 1.28000e-01, 4.47000e-01,\n",
              "       1.32097e+02, 8.00000e+00, 5.00000e+00])"
            ]
          },
          "metadata": {},
          "execution_count": 62
        }
      ]
    },
    {
      "cell_type": "markdown",
      "metadata": {
        "id": "uxYm6GBjoZG6"
      },
      "source": [
        ""
      ]
    },
    {
      "cell_type": "code",
      "metadata": {
        "id": "cM4Kbd01UDeF"
      },
      "source": [
        "generated_vals=[]\n",
        "for i, j in final_generated_samples_df.iterrows():\n",
        "  generated_vals.append(j.values)\n",
        "\n",
        "train_data_vals=[]\n",
        "for i, j in train_data_01.iterrows():\n",
        "  train_data_vals.append(j.values)\n",
        "\n",
        "def cos_similarity(x,d):\n",
        "  recommended = []  \n",
        "  for i in d:\n",
        "    a = cosine_similarity([x],[i])\n",
        "    recommended.append(a)\n",
        "  rec_score=max(recommended)\n",
        "  rec_index = recommended.index(rec_score)\n",
        "  rec_cos.append(rec_score)\n",
        "  rec_idx = df13.index[rec_index]\n",
        "  rec_len = len(recommended)\n",
        "  print('len train data:',rec_len,'; index:',rec_idx,'; cos sim:',rec_score)"
      ],
      "execution_count": 63,
      "outputs": []
    },
    {
      "cell_type": "code",
      "metadata": {
        "id": "8GyLH48C0vPM"
      },
      "source": [
        "def euclid_similarity(x,d):\n",
        "  recommended = []  \n",
        "  for i in d:\n",
        "    a = distance.euclidean([x],[i])\n",
        "    recommended.append(a)\n",
        "  rec_score=min(recommended)\n",
        "  rec_index = recommended.index(rec_score)\n",
        "  rec_euc.append(rec_score)\n",
        "  rec_idx = df13.index[rec_index]\n",
        "  rec_len = len(recommended)\n",
        "  print('len train data:',rec_len,'; index:',rec_idx,'; euclid sim:',rec_score)"
      ],
      "execution_count": 64,
      "outputs": []
    },
    {
      "cell_type": "code",
      "metadata": {
        "id": "j527TRLHyY2x",
        "colab": {
          "base_uri": "https://localhost:8080/"
        },
        "outputId": "bae7bf3a-5b75-4bbe-be53-9c040a0cecfe"
      },
      "source": [
        "dst = distance.euclidean(final_generated_samples_df.iloc[0,:].values,float_x)\n",
        "print('Euclidean distance: %.3f' % dst)"
      ],
      "execution_count": 65,
      "outputs": [
        {
          "output_type": "stream",
          "name": "stdout",
          "text": [
            "Euclidean distance: 1.463\n"
          ]
        }
      ]
    },
    {
      "cell_type": "code",
      "metadata": {
        "id": "DHOtDop6CSD-",
        "colab": {
          "base_uri": "https://localhost:8080/"
        },
        "outputId": "2c3e3828-9bff-460f-c0e6-cba0ba59f7be"
      },
      "source": [
        "df5.shape"
      ],
      "execution_count": 66,
      "outputs": [
        {
          "output_type": "execute_result",
          "data": {
            "text/plain": [
              "(1099, 15)"
            ]
          },
          "metadata": {},
          "execution_count": 66
        }
      ]
    },
    {
      "cell_type": "code",
      "metadata": {
        "id": "I5WphA_0Z9zV",
        "colab": {
          "base_uri": "https://localhost:8080/"
        },
        "outputId": "fd9a2e04-6479-4e40-c593-a8f713fcca74"
      },
      "source": [
        "# pick recommendations with cosine similarity\n",
        "rec_cos = []\n",
        "for i in generated_vals3:\n",
        "  a = cos_similarity(i,train_data_vals2)"
      ],
      "execution_count": 67,
      "outputs": [
        {
          "output_type": "stream",
          "name": "stdout",
          "text": [
            "len train data: 1024 ; index: Jungli Sher ; cos sim: [[0.99998405]]\n",
            "len train data: 1024 ; index: LUNA ; cos sim: [[0.99991373]]\n",
            "len train data: 1024 ; index: Saudi Arabi Money Rich - Babos Remix ; cos sim: [[0.99999675]]\n",
            "len train data: 1024 ; index: Tu Pirata Soy Yo ; cos sim: [[0.99998909]]\n",
            "len train data: 1024 ; index: Oye ; cos sim: [[0.99999048]]\n",
            "len train data: 1024 ; index: The Kill ; cos sim: [[0.99981709]]\n",
            "len train data: 1024 ; index: El Beso ; cos sim: [[0.99999615]]\n",
            "len train data: 1024 ; index: Te Doy Mi Vida ; cos sim: [[0.99998656]]\n",
            "len train data: 1024 ; index: LUNA ; cos sim: [[0.99972169]]\n",
            "len train data: 1024 ; index: Rattle Your Cage ; cos sim: [[0.99990311]]\n"
          ]
        }
      ]
    },
    {
      "cell_type": "code",
      "metadata": {
        "id": "epyouEYb0LlZ"
      },
      "source": [
        "rec_cose=[]\n",
        "for i in rec_cos:\n",
        "  rec_cose.append(i[0][0])"
      ],
      "execution_count": 68,
      "outputs": []
    },
    {
      "cell_type": "code",
      "metadata": {
        "id": "I9txVZCn1Me7",
        "colab": {
          "base_uri": "https://localhost:8080/"
        },
        "outputId": "fc7340b7-6100-499c-f405-1b6a72c28ed5"
      },
      "source": [
        "# pick recommendations with euclidean similarity\n",
        "rec_euc = []\n",
        "for i in generated_vals3:\n",
        "  a = euclid_similarity(i,train_data_vals2)"
      ],
      "execution_count": 69,
      "outputs": [
        {
          "output_type": "stream",
          "name": "stdout",
          "text": [
            "len train data: 1024 ; index: Rearranged ; euclid sim: 9.940597579825935\n",
            "len train data: 1024 ; index: The Second Brightest Star ; euclid sim: 4.547423844057539\n",
            "len train data: 1024 ; index: Love Scars ; euclid sim: 1.5716193415729334\n",
            "len train data: 1024 ; index: Red ; euclid sim: 4.324799419855746\n",
            "len train data: 1024 ; index: Alone ; euclid sim: 1.3226491016846287\n",
            "len train data: 1024 ; index: Von unten nach oben ; euclid sim: 3.0949891702225067\n",
            "len train data: 1024 ; index: Sunburn ; euclid sim: 0.5965690771464589\n",
            "len train data: 1024 ; index: Gush ; euclid sim: 1.8680483538545516\n",
            "len train data: 1024 ; index: Come With Me ; euclid sim: 6.894051479964686\n",
            "len train data: 1024 ; index: Soldier ; euclid sim: 3.1445084265320604\n"
          ]
        }
      ]
    },
    {
      "cell_type": "code",
      "metadata": {
        "id": "SR1wtnOQsprP"
      },
      "source": [
        "testdf1_3 = testdf1_2\n",
        "testdf1_3['track_name'] = testdf1['track_name']\n",
        "testdf1_3 = testdf1_3.set_index('track_name')\n",
        "\n",
        "testdf2_3 = testdf2_2\n",
        "testdf2_3['track_name'] = testdf2['track_name']\n",
        "testdf2_3 = testdf2_3.set_index('track_name')\n",
        "\n",
        "testdf3_3 = testdf3_2\n",
        "testdf3_3['track_name'] = testdf3['track_name']\n",
        "testdf3_3 = testdf3_3.set_index('track_name')"
      ],
      "execution_count": 70,
      "outputs": []
    },
    {
      "cell_type": "code",
      "metadata": {
        "id": "C976IH3Y745-"
      },
      "source": [
        "test_data1 = testdf1_3.values\n",
        "test_data2 = testdf2_3.values\n",
        "test_data3 = testdf3_3.values"
      ],
      "execution_count": 71,
      "outputs": []
    },
    {
      "cell_type": "code",
      "metadata": {
        "id": "XWRXAtgRfQB_"
      },
      "source": [
        "def cos_similarity_t1(x,d):\n",
        "  recommended = []  \n",
        "  for i in d:\n",
        "    a = cosine_similarity([x],[i])\n",
        "    recommended.append(a)\n",
        "  rec_score=max(recommended)\n",
        "  rec_index = recommended.index(rec_score)\n",
        "  rec_cosT1.append(rec_score)\n",
        "  rec_idx = testdf1_3.index[rec_index]\n",
        "  rec_len = len(recommended)\n",
        "  print('len train data:',rec_len,'; index:',rec_idx,'; cos sim:',rec_score)\n",
        "\n",
        "def euclid_similarity_t1(x,d):\n",
        "  recommended = []  \n",
        "  for i in d:\n",
        "    a = distance.euclidean([x],[i])\n",
        "    recommended.append(a)\n",
        "  rec_score=min(recommended)\n",
        "  rec_index = recommended.index(rec_score)\n",
        "  rec_eucT1.append(rec_score)\n",
        "  rec_idx = testdf1_3.index[rec_index]\n",
        "  rec_len = len(recommended)\n",
        "  print('len train data:',rec_len,'; index:',rec_idx,'; euclid sim:',rec_score)"
      ],
      "execution_count": 72,
      "outputs": []
    },
    {
      "cell_type": "code",
      "metadata": {
        "id": "v3iYXkcX8QJr",
        "colab": {
          "base_uri": "https://localhost:8080/"
        },
        "outputId": "92d2251f-22ed-4244-e6df-8a494fd6a4d8"
      },
      "source": [
        "#compare recomendations to test subjects\n",
        "rec_cosT1 = []\n",
        "for i in generated_vals3:\n",
        "  a = cos_similarity_t1(i,test_data1)"
      ],
      "execution_count": 73,
      "outputs": [
        {
          "output_type": "stream",
          "name": "stdout",
          "text": [
            "len train data: 10 ; index: Un autre que moi ; cos sim: [[0.9993323]]\n",
            "len train data: 10 ; index: Lower ; cos sim: [[0.99994168]]\n",
            "len train data: 10 ; index: Un autre que moi ; cos sim: [[0.99995854]]\n",
            "len train data: 10 ; index: Un autre que moi ; cos sim: [[0.99938381]]\n",
            "len train data: 10 ; index: Un autre que moi ; cos sim: [[0.99907647]]\n",
            "len train data: 10 ; index: I Dare You ; cos sim: [[0.99998925]]\n",
            "len train data: 10 ; index: Un autre que moi ; cos sim: [[0.99972229]]\n",
            "len train data: 10 ; index: Un autre que moi ; cos sim: [[0.99939854]]\n",
            "len train data: 10 ; index: Lower ; cos sim: [[0.99976443]]\n",
            "len train data: 10 ; index: Tainted ; cos sim: [[0.9999873]]\n"
          ]
        }
      ]
    },
    {
      "cell_type": "code",
      "metadata": {
        "id": "OgQfUT3W3nZ4"
      },
      "source": [
        "rec_coseT1=[]\n",
        "for i in rec_cosT1:\n",
        "  rec_coseT1.append(i[0][0])"
      ],
      "execution_count": 74,
      "outputs": []
    },
    {
      "cell_type": "code",
      "metadata": {
        "id": "4vwnG9_x-1Gy",
        "colab": {
          "base_uri": "https://localhost:8080/"
        },
        "outputId": "7595a553-3fa5-4bd1-f2c6-82135ebe9352"
      },
      "source": [
        "rec_eucT1 = []\n",
        "for i in generated_vals3:\n",
        "  a = euclid_similarity_t1(i,test_data1)"
      ],
      "execution_count": 75,
      "outputs": [
        {
          "output_type": "stream",
          "name": "stdout",
          "text": [
            "len train data: 10 ; index: Tainted ; euclid sim: 35.176965141067015\n",
            "len train data: 10 ; index: Jungle ; euclid sim: 1.9268299909852165\n",
            "len train data: 10 ; index: Howling ; euclid sim: 1.9047420878349246\n",
            "len train data: 10 ; index: Lower ; euclid sim: 7.826505946481081\n",
            "len train data: 10 ; index: Un autre que moi ; euclid sim: 6.309630580096539\n",
            "len train data: 10 ; index: Un autre que moi ; euclid sim: 15.857601730419248\n",
            "len train data: 10 ; index: Un autre que moi ; euclid sim: 4.901384764639936\n",
            "len train data: 10 ; index: Song For You ; euclid sim: 6.472439932521907\n",
            "len train data: 10 ; index: Tainted ; euclid sim: 8.54236947357641\n",
            "len train data: 10 ; index: Jungle ; euclid sim: 4.174764738340747\n"
          ]
        }
      ]
    },
    {
      "cell_type": "code",
      "metadata": {
        "id": "a9IAbe8_f5MT"
      },
      "source": [
        "def cos_similarity_t2(x,d):\n",
        "  recommended = []  \n",
        "  for i in d:\n",
        "    a = cosine_similarity([x],[i])\n",
        "    recommended.append(a)\n",
        "  rec_score=max(recommended)\n",
        "  rec_index = recommended.index(rec_score)\n",
        "  rec_cosT2.append(rec_score)\n",
        "  rec_idx = testdf2_3.index[rec_index]\n",
        "  rec_len = len(recommended)\n",
        "  print('len train data:',rec_len,'; index:',rec_idx,'; cos sim:',rec_score)\n",
        "\n",
        "def euclid_similarity_t2(x,d):\n",
        "  recommended = []  \n",
        "  for i in d:\n",
        "    a = distance.euclidean([x],[i])\n",
        "    recommended.append(a)\n",
        "  rec_score=min(recommended)\n",
        "  rec_index = recommended.index(rec_score)\n",
        "  rec_eucT2.append(rec_score)\n",
        "  rec_idx = testdf2_3.index[rec_index]\n",
        "  rec_len = len(recommended)\n",
        "  print('len train data:',rec_len,'; index:',rec_idx,'; euclid sim:',rec_score)"
      ],
      "execution_count": 76,
      "outputs": []
    },
    {
      "cell_type": "code",
      "metadata": {
        "id": "CYriMM1ck4Gx",
        "colab": {
          "base_uri": "https://localhost:8080/"
        },
        "outputId": "b0a6a2fa-559f-44f6-e10d-eb39c4c42281"
      },
      "source": [
        "#compare recomendations to test subjects\n",
        "rec_cosT2 = []\n",
        "for i in generated_vals3:\n",
        "  a = cos_similarity_t2(i,test_data2)"
      ],
      "execution_count": 77,
      "outputs": [
        {
          "output_type": "stream",
          "name": "stdout",
          "text": [
            "len train data: 11 ; index: When Can I See You ; cos sim: [[0.99907124]]\n",
            "len train data: 11 ; index: Rump Shaker ; cos sim: [[0.9999281]]\n",
            "len train data: 11 ; index: I Adore Mi Amor ; cos sim: [[0.99990272]]\n",
            "len train data: 11 ; index: I Adore Mi Amor ; cos sim: [[0.99902636]]\n",
            "len train data: 11 ; index: Tender Lover ; cos sim: [[0.99891862]]\n",
            "len train data: 11 ; index: When Can I See You ; cos sim: [[0.99988765]]\n",
            "len train data: 11 ; index: Rump Shaker ; cos sim: [[0.99963722]]\n",
            "len train data: 11 ; index: I Adore Mi Amor ; cos sim: [[0.99911197]]\n",
            "len train data: 11 ; index: I Adore Mi Amor ; cos sim: [[0.99976813]]\n",
            "len train data: 11 ; index: When Can I See You ; cos sim: [[0.99992812]]\n"
          ]
        }
      ]
    },
    {
      "cell_type": "code",
      "metadata": {
        "id": "ZAFU1-Mp2jsy"
      },
      "source": [
        "rec_coseT2=[]\n",
        "for i in rec_cosT2:\n",
        "  rec_coseT2.append(i[0][0])"
      ],
      "execution_count": 78,
      "outputs": []
    },
    {
      "cell_type": "code",
      "metadata": {
        "id": "LGue-_WhuEqo",
        "colab": {
          "base_uri": "https://localhost:8080/"
        },
        "outputId": "923798db-a5cc-40a1-dc27-161ff1d602ed"
      },
      "source": [
        "rec_eucT2 = []\n",
        "for i in generated_vals3:\n",
        "  a = euclid_similarity_t2(i,test_data2)"
      ],
      "execution_count": 79,
      "outputs": [
        {
          "output_type": "stream",
          "name": "stdout",
          "text": [
            "len train data: 11 ; index: She's Playing Hard To Get ; euclid sim: 17.365135683023084\n",
            "len train data: 11 ; index: Just Got Paid ; euclid sim: 28.199844093102502\n",
            "len train data: 11 ; index: Just Got Paid ; euclid sim: 3.0651343164257914\n",
            "len train data: 11 ; index: She's Playing Hard To Get ; euclid sim: 39.52492464946355\n",
            "len train data: 11 ; index: Tender Lover ; euclid sim: 7.010483867227495\n",
            "len train data: 11 ; index: When Can I See You ; euclid sim: 2.1541002360687123\n",
            "len train data: 11 ; index: Nasty ; euclid sim: 3.908068346298906\n",
            "len train data: 11 ; index: I'm Dreamin' ; euclid sim: 5.02946235463491\n",
            "len train data: 11 ; index: She's Playing Hard To Get ; euclid sim: 17.016435207133192\n",
            "len train data: 11 ; index: Just Got Paid ; euclid sim: 30.99735619602841\n"
          ]
        }
      ]
    },
    {
      "cell_type": "code",
      "metadata": {
        "id": "GPEUMkQaL2i-"
      },
      "source": [
        "def cos_similarity_t3(x,d):\n",
        "  recommended = []  \n",
        "  for i in d:\n",
        "    a = cosine_similarity([x],[i])\n",
        "    recommended.append(a)\n",
        "  rec_score=max(recommended)\n",
        "  rec_index = recommended.index(rec_score)\n",
        "  rec_cosT3.append(rec_score)\n",
        "  rec_idx = testdf3_3.index[rec_index]\n",
        "  rec_len = len(recommended)\n",
        "  print('len train data:',rec_len,'; index:',rec_idx,'; cos sim:',rec_score)\n",
        "\n",
        "def euclid_similarity_t3(x,d):\n",
        "  recommended = []  \n",
        "  for i in d:\n",
        "    a = distance.euclidean([x],[i])\n",
        "    recommended.append(a)\n",
        "  rec_score=min(recommended)\n",
        "  rec_index = recommended.index(rec_score)\n",
        "  rec_eucT3.append(rec_score)\n",
        "  rec_idx = testdf3_3.index[rec_index]\n",
        "  rec_len = len(recommended)\n",
        "  print('len train data:',rec_len,'; index:',rec_idx,'; euclid sim:',rec_score)"
      ],
      "execution_count": 80,
      "outputs": []
    },
    {
      "cell_type": "code",
      "metadata": {
        "id": "h7yHchNGL4IY",
        "colab": {
          "base_uri": "https://localhost:8080/"
        },
        "outputId": "519165b7-86b4-4c28-e731-83e228be300b"
      },
      "source": [
        "#compare recomendations to test subjects\n",
        "rec_cosT3 = []\n",
        "for i in generated_vals3:\n",
        "  a = cos_similarity_t3(i,test_data3)"
      ],
      "execution_count": 81,
      "outputs": [
        {
          "output_type": "stream",
          "name": "stdout",
          "text": [
            "len train data: 11 ; index: On Fire ; cos sim: [[0.99911853]]\n",
            "len train data: 11 ; index: Classic (feat. POWERS) - POWERS Sunset Version ; cos sim: [[0.999941]]\n",
            "len train data: 11 ; index: Sway - Chainsmokers Remix ; cos sim: [[0.99991206]]\n",
            "len train data: 11 ; index: Sway - Chainsmokers Remix ; cos sim: [[0.99902075]]\n",
            "len train data: 11 ; index: On Fire ; cos sim: [[0.99902568]]\n",
            "len train data: 11 ; index: On Fire ; cos sim: [[0.99997354]]\n",
            "len train data: 11 ; index: Classic (feat. POWERS) - POWERS Sunset Version ; cos sim: [[0.99964484]]\n",
            "len train data: 11 ; index: Cool Blue ; cos sim: [[0.99911512]]\n",
            "len train data: 11 ; index: Cool Blue ; cos sim: [[0.99976362]]\n",
            "len train data: 11 ; index: On Fire ; cos sim: [[0.99996372]]\n"
          ]
        }
      ]
    },
    {
      "cell_type": "code",
      "metadata": {
        "id": "DX7PNN4N2q4C"
      },
      "source": [
        "rec_coseT3=[]\n",
        "for i in rec_cosT3:\n",
        "  rec_coseT3.append(i[0][0])"
      ],
      "execution_count": 82,
      "outputs": []
    },
    {
      "cell_type": "code",
      "metadata": {
        "id": "S22wN0m6L7J5",
        "colab": {
          "base_uri": "https://localhost:8080/"
        },
        "outputId": "69c91db5-8a42-4599-8b52-1745355e05b7"
      },
      "source": [
        "rec_eucT3 = []\n",
        "for i in generated_vals3:\n",
        "  a = euclid_similarity_t3(i,test_data3)"
      ],
      "execution_count": 83,
      "outputs": [
        {
          "output_type": "stream",
          "name": "stdout",
          "text": [
            "len train data: 11 ; index: Cool Blue ; euclid sim: 33.846383915649334\n",
            "len train data: 11 ; index: Hall & Oates ; euclid sim: 5.1046138893183635\n",
            "len train data: 11 ; index: Loudspeaker ; euclid sim: 6.312012434562562\n",
            "len train data: 11 ; index: Feel It All Around ; euclid sim: 13.003380810915484\n",
            "len train data: 11 ; index: On Fire ; euclid sim: 4.860154133650067\n",
            "len train data: 11 ; index: On Fire ; euclid sim: 8.724451217269525\n",
            "len train data: 11 ; index: Ghost - Lost Kings Remix ; euclid sim: 3.1557850860445744\n",
            "len train data: 11 ; index: Indecision ; euclid sim: 6.002758740244427\n",
            "len train data: 11 ; index: Cool Blue ; euclid sim: 5.288582911636616\n",
            "len train data: 11 ; index: Hall & Oates ; euclid sim: 6.3159311600495975\n"
          ]
        }
      ]
    },
    {
      "cell_type": "code",
      "metadata": {
        "id": "AUCxAfmN7W-D"
      },
      "source": [
        "rec_coseT1.extend(rec_coseT2)"
      ],
      "execution_count": 84,
      "outputs": []
    },
    {
      "cell_type": "code",
      "metadata": {
        "id": "pE6LJqcF_RGi"
      },
      "source": [
        "rec_coseT1.extend(rec_coseT3)"
      ],
      "execution_count": 87,
      "outputs": []
    },
    {
      "cell_type": "code",
      "metadata": {
        "colab": {
          "base_uri": "https://localhost:8080/"
        },
        "id": "M4-bXg0QBSIL",
        "outputId": "3f2be6d4-48f0-4400-dbb3-64ec51075386"
      },
      "source": [
        "len(rec_coseT1)"
      ],
      "execution_count": 89,
      "outputs": [
        {
          "output_type": "execute_result",
          "data": {
            "text/plain": [
              "30"
            ]
          },
          "metadata": {},
          "execution_count": 89
        }
      ]
    },
    {
      "cell_type": "code",
      "metadata": {
        "id": "mkzOzz8eBcui"
      },
      "source": [
        "rec_eucT1.extend(rec_eucT2)\n",
        "rec_eucT1.extend(rec_eucT3)"
      ],
      "execution_count": null,
      "outputs": []
    },
    {
      "cell_type": "code",
      "metadata": {
        "colab": {
          "base_uri": "https://localhost:8080/"
        },
        "id": "Jj8RrhgNEUAS",
        "outputId": "b22709f4-0e37-4f78-935b-42d646c89fbc"
      },
      "source": [
        "print(rec_eucT1)"
      ],
      "execution_count": 95,
      "outputs": [
        {
          "output_type": "stream",
          "name": "stdout",
          "text": [
            "[35.176965141067015, 1.9268299909852165, 1.9047420878349246, 7.826505946481081, 6.309630580096539, 15.857601730419248, 4.901384764639936, 6.472439932521907, 8.54236947357641, 4.174764738340747, 17.365135683023084, 28.199844093102502, 3.0651343164257914, 39.52492464946355, 7.010483867227495, 2.1541002360687123, 3.908068346298906, 5.02946235463491, 17.016435207133192, 30.99735619602841, 33.846383915649334, 5.1046138893183635, 6.312012434562562, 13.003380810915484, 4.860154133650067, 8.724451217269525, 3.1557850860445744, 6.002758740244427, 5.288582911636616, 6.3159311600495975]\n"
          ]
        }
      ]
    },
    {
      "cell_type": "code",
      "metadata": {
        "id": "bbnJYTS3Csmg"
      },
      "source": [
        "NMrec_coseT1 = [0.9994485475229062, 0.999877792631692, 0.9998138390559335, 0.9980154256187528, \n",
        "0.9994296793014785, 0.9996102928234575, 0.9979103117126699, 0.9999517602176865, \n",
        "0.9999813372083886, 0.9999577299557322, 0.9990970904505925, 0.99987547878444, \n",
        "0.9996022785643875, 0.9974254070062414, 0.9990677759631575, 0.999320747916991, \n",
        "0.997274614289726, 0.9998579640296097, 0.9999828143668469, 0.9998663115523426, \n",
        "0.9990922415460967, 0.9998790898355211, 0.9995948938115155, 0.9974250347930916, 0.9990587152972339, \n",
        "0.9993252253987199, 0.9972727539334341, 0.9998542983788713, 0.9999808289198082, 0.9998635187937598]"
      ],
      "execution_count": 93,
      "outputs": []
    },
    {
      "cell_type": "code",
      "metadata": {
        "colab": {
          "base_uri": "https://localhost:8080/"
        },
        "id": "A5bVDdfeFIMf",
        "outputId": "2550a584-3c45-4aa9-90cd-cda892ce5f24"
      },
      "source": [
        "print(np.var(rec_coseT1), np.var(NMrec_coseT1))"
      ],
      "execution_count": 96,
      "outputs": [
        {
          "output_type": "stream",
          "name": "stdout",
          "text": [
            "1.4594245220273431e-07 7.97743643673355e-07\n"
          ]
        }
      ]
    },
    {
      "cell_type": "code",
      "metadata": {
        "colab": {
          "base_uri": "https://localhost:8080/"
        },
        "id": "qYVPvm-cFXf6",
        "outputId": "b95c7a4b-a0d9-47ea-c20b-20cfe6c1e288"
      },
      "source": [
        "7.97743643673355e-07/1.4594245220273431e-07"
      ],
      "execution_count": 97,
      "outputs": [
        {
          "output_type": "execute_result",
          "data": {
            "text/plain": [
              "5.466152114294876"
            ]
          },
          "metadata": {},
          "execution_count": 97
        }
      ]
    },
    {
      "cell_type": "code",
      "metadata": {
        "colab": {
          "base_uri": "https://localhost:8080/"
        },
        "id": "v_75wGujFum5",
        "outputId": "22a20e5c-00be-4726-a572-55bf6fef268c"
      },
      "source": [
        "# leven test for eqaul variance p-value lower than 0.01 means not equal\n",
        "from scipy.stats import levene\n",
        "stat, p = levene(rec_coseT1, NMrec_coseT1)\n",
        "print('pvalue > 0.01 means equal variance, pvalue:' ,p)"
      ],
      "execution_count": 102,
      "outputs": [
        {
          "output_type": "stream",
          "name": "stdout",
          "text": [
            "pvalue > 0.01 means equal variance, pvalue: 0.03622776128977098\n"
          ]
        }
      ]
    },
    {
      "cell_type": "code",
      "metadata": {
        "colab": {
          "base_uri": "https://localhost:8080/"
        },
        "id": "0OYDjWsyGn-Z",
        "outputId": "5bb6e9cd-1c63-4dfb-9982-f5bbab4c0618"
      },
      "source": [
        "import scipy.stats as stats\n",
        "stats.ttest_ind(rec_coseT1, b=NMrec_coseT1, equal_var=False)"
      ],
      "execution_count": 107,
      "outputs": [
        {
          "output_type": "execute_result",
          "data": {
            "text/plain": [
              "Ttest_indResult(statistic=1.9401953712650837, pvalue=0.05956139839742171)"
            ]
          },
          "metadata": {},
          "execution_count": 107
        }
      ]
    },
    {
      "cell_type": "markdown",
      "metadata": {
        "id": "RwwqpeZCKM7x"
      },
      "source": [
        "The two hypotheses for this particular two sample t-test are as follows:\n",
        "\n",
        "H0: µ1 = µ2 (the two population means are equal)\n",
        "\n",
        "HA: µ1 ≠µ2 (the two population means are not equal)\n",
        "\n",
        "Because the p-value of our test (0.0595) is greater than alpha = 0.05, we fail to reject the null hypothesis of the test. We do not have sufficient evidence to say that the mean height of plants between the two populations is different."
      ]
    }
  ]
}