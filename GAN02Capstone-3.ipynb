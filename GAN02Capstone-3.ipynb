{
  "nbformat": 4,
  "nbformat_minor": 0,
  "metadata": {
    "colab": {
      "name": "GAN02Capstone.ipynb",
      "provenance": [],
      "collapsed_sections": []
    },
    "kernelspec": {
      "name": "python3",
      "display_name": "Python 3"
    },
    "language_info": {
      "name": "python"
    }
  },
  "cells": [
    {
      "cell_type": "code",
      "metadata": {
        "id": "YQCZ3H_2TxIZ",
        "colab": {
          "base_uri": "https://localhost:8080/"
        },
        "outputId": "e196205d-14b1-4d64-f6eb-127bbc7c5322"
      },
      "source": [
        "import torch\n",
        "from torch import nn\n",
        "from torch.utils.data import DataLoader\n",
        "import math\n",
        "import matplotlib.pyplot as plt\n",
        "import numpy as np\n",
        "import io\n",
        "import pandas as pd\n",
        "from imblearn.over_sampling import SMOTE\n",
        "from collections import Counter\n",
        "from matplotlib import pyplot\n",
        "from sklearn.preprocessing import MinMaxScaler\n",
        "import warnings\n",
        "warnings.filterwarnings('ignore')"
      ],
      "execution_count": 1,
      "outputs": [
        {
          "output_type": "stream",
          "name": "stderr",
          "text": [
            "/usr/local/lib/python3.7/dist-packages/sklearn/externals/six.py:31: FutureWarning: The module is deprecated in version 0.21 and will be removed in version 0.23 since we've dropped support for Python 2.7. Please rely on the official version of six (https://pypi.org/project/six/).\n",
            "  \"(https://pypi.org/project/six/).\", FutureWarning)\n",
            "/usr/local/lib/python3.7/dist-packages/sklearn/utils/deprecation.py:144: FutureWarning: The sklearn.neighbors.base module is  deprecated in version 0.22 and will be removed in version 0.24. The corresponding classes / functions should instead be imported from sklearn.neighbors. Anything that cannot be imported from sklearn.neighbors is now part of the private API.\n",
            "  warnings.warn(message, FutureWarning)\n"
          ]
        }
      ]
    },
    {
      "cell_type": "code",
      "metadata": {
        "id": "c5IpolGoaZzL"
      },
      "source": [
        "url = 'https://raw.githubusercontent.com/trishattah/Capstone/main/spotify_songs-2.csv'\n",
        "df2 = pd.read_csv(url)"
      ],
      "execution_count": 2,
      "outputs": []
    },
    {
      "cell_type": "code",
      "metadata": {
        "id": "BOfZ1LsBb3Z_"
      },
      "source": [
        "#url = 'https://raw.githubusercontent.com/trishattah/Capstone/main/Emotion_Labels.csv'\n",
        "#df3 = pd.read_csv(url)"
      ],
      "execution_count": 3,
      "outputs": []
    },
    {
      "cell_type": "code",
      "metadata": {
        "id": "KwLUDpea0D_T"
      },
      "source": [
        "#df4 = pd.merge(df2,df3,on='track_id')\n",
        "#df4 = df2.drop(['Unnamed: 19'], axis=1)\n",
        "df4=df2"
      ],
      "execution_count": 4,
      "outputs": []
    },
    {
      "cell_type": "code",
      "metadata": {
        "colab": {
          "base_uri": "https://localhost:8080/"
        },
        "id": "paij6qTxqtvn",
        "outputId": "abc67aa6-25c7-4c0d-ddfb-5785ac9ef923"
      },
      "source": [
        "df4 = df4.dropna()\n",
        "df4.shape"
      ],
      "execution_count": 5,
      "outputs": [
        {
          "output_type": "execute_result",
          "data": {
            "text/plain": [
              "(1099, 19)"
            ]
          },
          "metadata": {},
          "execution_count": 5
        }
      ]
    },
    {
      "cell_type": "code",
      "metadata": {
        "colab": {
          "base_uri": "https://localhost:8080/"
        },
        "id": "rcEu57ehv2fp",
        "outputId": "7fb0ad17-7178-4518-8e2d-c238e361d8f7"
      },
      "source": [
        "df4['playlist_id'].value_counts()"
      ],
      "execution_count": 6,
      "outputs": [
        {
          "output_type": "execute_result",
          "data": {
            "text/plain": [
              "4hKPJNFIhdAg4pAksn78FJ    11\n",
              "3ykXidKLz1eYPvuGoFlD1e    11\n",
              "1qXg9ck25tBRxeXsj8mbDG    10\n",
              "5jROYSZSL7cO0jGAqkPx7C    10\n",
              "4NlAd9NpIa92IjErMyAriM    10\n",
              "                          ..\n",
              "2e0d7otcM1oyecfi3zZPWk     1\n",
              "2v3I1zS56Y0cNHYsOAiCGV     1\n",
              "2v41efarffe6iY8qpMK5Gj     1\n",
              "37i9dQZF1DWZjqjZMudx9T     1\n",
              "4425cRh83Uzor4qCRfM9lb     1\n",
              "Name: playlist_id, Length: 359, dtype: int64"
            ]
          },
          "metadata": {},
          "execution_count": 6
        }
      ]
    },
    {
      "cell_type": "code",
      "metadata": {
        "id": "zhHvotdp3evO"
      },
      "source": [
        "from sklearn.preprocessing import LabelEncoder\n",
        "le = LabelEncoder()\n",
        "\n",
        "df11 = df2.drop(['playlist_id','track_id','track_name','track_artist'], axis=1)\n",
        "cols = ['language', 'playlist_genre']\n",
        "#df11[cols] = df11[cols].apply(LabelEncoder().fit_transform)\n",
        "\n",
        "df12 = df2.set_index('track_name')"
      ],
      "execution_count": 7,
      "outputs": []
    },
    {
      "cell_type": "code",
      "metadata": {
        "id": "gh5zkMZ3x43G"
      },
      "source": [
        "testdf = df4[df4['playlist_id'].isin(['5jROYSZSL7cO0jGAqkPx7C', '3ykXidKLz1eYPvuGoFlD1e','4hKPJNFIhdAg4pAksn78FJ'])]\n",
        "testdf1 =  df4[df4['playlist_id'].isin(['5jROYSZSL7cO0jGAqkPx7C'])]\n",
        "testdf2 = df4[df4['playlist_id'].isin(['3ykXidKLz1eYPvuGoFlD1e'])]\n",
        "testdf3 = df4[df4['playlist_id'].isin(['4hKPJNFIhdAg4pAksn78FJ'])]"
      ],
      "execution_count": 8,
      "outputs": []
    },
    {
      "cell_type": "code",
      "metadata": {
        "id": "dct1kTdS0MYc"
      },
      "source": [
        "testdf1_1 = testdf1.drop(['playlist_id','track_id','track_name','track_artist'], axis=1)\n",
        "testdf2_1 = testdf2.drop(['playlist_id','track_id','track_name','track_artist'], axis=1)\n",
        "testdf3_1 = testdf3.drop(['playlist_id','track_id','track_name','track_artist'], axis=1)"
      ],
      "execution_count": 9,
      "outputs": []
    },
    {
      "cell_type": "code",
      "metadata": {
        "id": "URnxJyAXzAUk"
      },
      "source": [
        "df5 = df4[~df4['playlist_id'].isin(['4hKPJNFIhdAg4pAksn78FJ', '3ykXidKLz1eYPvuGoFlD1e','4hKPJNFIhdAg4pAksn78FJ'])]"
      ],
      "execution_count": 10,
      "outputs": []
    },
    {
      "cell_type": "code",
      "metadata": {
        "id": "0CtwpX2P39KH"
      },
      "source": [
        "pd.set_option('display.max_columns', None)"
      ],
      "execution_count": 11,
      "outputs": []
    },
    {
      "cell_type": "code",
      "metadata": {
        "id": "iFpwP8Vz1hHY"
      },
      "source": [
        "df5 = df4.drop(['playlist_id','track_id','track_name','track_artist'], axis=1)\n",
        "df5['emotion'] = df5['emotion'].astype(int)"
      ],
      "execution_count": 12,
      "outputs": []
    },
    {
      "cell_type": "code",
      "metadata": {
        "colab": {
          "base_uri": "https://localhost:8080/",
          "height": 131
        },
        "id": "7CAVYhDW9UJ3",
        "outputId": "1ab2041c-6126-4b3d-e7e6-7c4902dcdb5a"
      },
      "source": [
        "df5.head(2)"
      ],
      "execution_count": 13,
      "outputs": [
        {
          "output_type": "execute_result",
          "data": {
            "text/html": [
              "<div>\n",
              "<style scoped>\n",
              "    .dataframe tbody tr th:only-of-type {\n",
              "        vertical-align: middle;\n",
              "    }\n",
              "\n",
              "    .dataframe tbody tr th {\n",
              "        vertical-align: top;\n",
              "    }\n",
              "\n",
              "    .dataframe thead th {\n",
              "        text-align: right;\n",
              "    }\n",
              "</style>\n",
              "<table border=\"1\" class=\"dataframe\">\n",
              "  <thead>\n",
              "    <tr style=\"text-align: right;\">\n",
              "      <th></th>\n",
              "      <th>track_popularity</th>\n",
              "      <th>playlist_genre</th>\n",
              "      <th>danceability</th>\n",
              "      <th>energy</th>\n",
              "      <th>key</th>\n",
              "      <th>loudness</th>\n",
              "      <th>mode</th>\n",
              "      <th>speechiness</th>\n",
              "      <th>acousticness</th>\n",
              "      <th>instrumentalness</th>\n",
              "      <th>liveness</th>\n",
              "      <th>valence</th>\n",
              "      <th>tempo</th>\n",
              "      <th>language</th>\n",
              "      <th>emotion</th>\n",
              "    </tr>\n",
              "  </thead>\n",
              "  <tbody>\n",
              "    <tr>\n",
              "      <th>0</th>\n",
              "      <td>41</td>\n",
              "      <td>rock</td>\n",
              "      <td>0.682</td>\n",
              "      <td>0.401</td>\n",
              "      <td>2</td>\n",
              "      <td>-10.068</td>\n",
              "      <td>1</td>\n",
              "      <td>0.0236</td>\n",
              "      <td>0.2790</td>\n",
              "      <td>0.01170</td>\n",
              "      <td>0.0887</td>\n",
              "      <td>0.566</td>\n",
              "      <td>97.091</td>\n",
              "      <td>tl</td>\n",
              "      <td>6</td>\n",
              "    </tr>\n",
              "    <tr>\n",
              "      <th>1</th>\n",
              "      <td>28</td>\n",
              "      <td>rock</td>\n",
              "      <td>0.303</td>\n",
              "      <td>0.880</td>\n",
              "      <td>9</td>\n",
              "      <td>-4.739</td>\n",
              "      <td>1</td>\n",
              "      <td>0.0442</td>\n",
              "      <td>0.0117</td>\n",
              "      <td>0.00994</td>\n",
              "      <td>0.3470</td>\n",
              "      <td>0.404</td>\n",
              "      <td>135.225</td>\n",
              "      <td>en</td>\n",
              "      <td>1</td>\n",
              "    </tr>\n",
              "  </tbody>\n",
              "</table>\n",
              "</div>"
            ],
            "text/plain": [
              "   track_popularity playlist_genre  danceability  energy  key  loudness  mode  \\\n",
              "0                41           rock         0.682   0.401    2   -10.068     1   \n",
              "1                28           rock         0.303   0.880    9    -4.739     1   \n",
              "\n",
              "   speechiness  acousticness  instrumentalness  liveness  valence    tempo  \\\n",
              "0       0.0236        0.2790           0.01170    0.0887    0.566   97.091   \n",
              "1       0.0442        0.0117           0.00994    0.3470    0.404  135.225   \n",
              "\n",
              "  language  emotion  \n",
              "0       tl        6  \n",
              "1       en        1  "
            ]
          },
          "metadata": {},
          "execution_count": 13
        }
      ]
    },
    {
      "cell_type": "code",
      "metadata": {
        "id": "PUNlxqKOIklG"
      },
      "source": [
        "cols = ['language', 'playlist_genre']\n",
        "df5[cols] = df5[cols].apply(LabelEncoder().fit_transform)"
      ],
      "execution_count": 14,
      "outputs": []
    },
    {
      "cell_type": "code",
      "metadata": {
        "id": "mDPWs3JO9gvP"
      },
      "source": [
        "df11 = df5"
      ],
      "execution_count": 15,
      "outputs": []
    },
    {
      "cell_type": "code",
      "metadata": {
        "id": "J7DROiWZ9vQB"
      },
      "source": [
        "df11['track_name'] = df4['track_name']\n",
        "df5 = df5.drop(['track_name'], axis=1)"
      ],
      "execution_count": 16,
      "outputs": []
    },
    {
      "cell_type": "code",
      "metadata": {
        "id": "eIIXCY014PaV"
      },
      "source": [
        "df12 = df11.set_index('track_name')"
      ],
      "execution_count": 18,
      "outputs": []
    },
    {
      "cell_type": "code",
      "metadata": {
        "id": "kVtiVv8S0rdE"
      },
      "source": [
        "testdf1_1[cols] = testdf1_1[cols].apply(LabelEncoder().fit_transform)\n",
        "testdf2_1[cols] = testdf2_1[cols].apply(LabelEncoder().fit_transform)\n",
        "testdf3_1[cols] = testdf3_1[cols].apply(LabelEncoder().fit_transform)"
      ],
      "execution_count": 19,
      "outputs": []
    },
    {
      "cell_type": "code",
      "metadata": {
        "colab": {
          "base_uri": "https://localhost:8080/"
        },
        "id": "QAUoLLtugPJB",
        "outputId": "528f5f5f-06a2-488f-b4ee-4b2deef162e6"
      },
      "source": [
        "X, y = df5.iloc[:, :-1], df5.iloc[:, -1]\n",
        "X.shape"
      ],
      "execution_count": 20,
      "outputs": [
        {
          "output_type": "execute_result",
          "data": {
            "text/plain": [
              "(1099, 14)"
            ]
          },
          "metadata": {},
          "execution_count": 20
        }
      ]
    },
    {
      "cell_type": "code",
      "metadata": {
        "id": "G_EuCYFRRNWe"
      },
      "source": [
        "#strategy = {1:200, 2:120, 3:150, 4:100, 5:150,6:120, 7:70, 8:45 ,9:45 ,10:40}\n",
        "#oversample = SMOTE(sampling_strategy=strategy)\n",
        "#X, y = oversample.fit_resample(X, y)\n",
        "# summarize distribution\n",
        "#counter = Counter(y)\n",
        "#for k,v in counter.items():\n",
        "#\tper = v / len(y) * 100\n",
        "#\tprint('Class=%d, n=%d (%.3f%%)' % (k, v, per))\n",
        "# plot the distribution\n",
        "#pyplot.bar(counter.keys(), counter.values())\n",
        "#pyplot.show()"
      ],
      "execution_count": 21,
      "outputs": []
    },
    {
      "cell_type": "code",
      "metadata": {
        "id": "ROL4725RdsGn"
      },
      "source": [
        "#df6 = pd.DataFrame(X)\n",
        "#df6['emotion'] = y\n",
        "#df7 = df6.sample(frac=1)\n",
        "#df5 = df5.dropna()"
      ],
      "execution_count": 22,
      "outputs": []
    },
    {
      "cell_type": "code",
      "metadata": {
        "id": "JFK2TDoD92iv"
      },
      "source": [
        "df5.shape\n",
        "scaler = MinMaxScaler()"
      ],
      "execution_count": 23,
      "outputs": []
    },
    {
      "cell_type": "code",
      "metadata": {
        "colab": {
          "base_uri": "https://localhost:8080/"
        },
        "id": "2M3PlxrK31BH",
        "outputId": "94a87fed-68cf-48f1-ab88-5ea9ae824507"
      },
      "source": [
        "df5['emotion'].value_counts()"
      ],
      "execution_count": 24,
      "outputs": [
        {
          "output_type": "execute_result",
          "data": {
            "text/plain": [
              "1     393\n",
              "6     137\n",
              "3     108\n",
              "5     103\n",
              "7      91\n",
              "2      91\n",
              "4      67\n",
              "8      39\n",
              "10     38\n",
              "9      32\n",
              "Name: emotion, dtype: int64"
            ]
          },
          "metadata": {},
          "execution_count": 24
        }
      ]
    },
    {
      "cell_type": "code",
      "metadata": {
        "colab": {
          "base_uri": "https://localhost:8080/",
          "height": 224
        },
        "id": "bvDcIONbwwND",
        "outputId": "04ee5670-1f50-428a-9f4f-fd1d8dd0afb4"
      },
      "source": [
        "train_data_001 = df5.iloc[:1024,7:]\n",
        "train_data_01 = pd.DataFrame(scaler.fit_transform(train_data_001))\n",
        "train_data_length = len(train_data_01)\n",
        "df5.head()"
      ],
      "execution_count": 128,
      "outputs": [
        {
          "output_type": "execute_result",
          "data": {
            "text/html": [
              "<div>\n",
              "<style scoped>\n",
              "    .dataframe tbody tr th:only-of-type {\n",
              "        vertical-align: middle;\n",
              "    }\n",
              "\n",
              "    .dataframe tbody tr th {\n",
              "        vertical-align: top;\n",
              "    }\n",
              "\n",
              "    .dataframe thead th {\n",
              "        text-align: right;\n",
              "    }\n",
              "</style>\n",
              "<table border=\"1\" class=\"dataframe\">\n",
              "  <thead>\n",
              "    <tr style=\"text-align: right;\">\n",
              "      <th></th>\n",
              "      <th>track_popularity</th>\n",
              "      <th>playlist_genre</th>\n",
              "      <th>danceability</th>\n",
              "      <th>energy</th>\n",
              "      <th>key</th>\n",
              "      <th>loudness</th>\n",
              "      <th>mode</th>\n",
              "      <th>speechiness</th>\n",
              "      <th>acousticness</th>\n",
              "      <th>instrumentalness</th>\n",
              "      <th>liveness</th>\n",
              "      <th>valence</th>\n",
              "      <th>tempo</th>\n",
              "      <th>language</th>\n",
              "      <th>emotion</th>\n",
              "    </tr>\n",
              "  </thead>\n",
              "  <tbody>\n",
              "    <tr>\n",
              "      <th>0</th>\n",
              "      <td>41</td>\n",
              "      <td>5</td>\n",
              "      <td>0.682</td>\n",
              "      <td>0.401</td>\n",
              "      <td>2</td>\n",
              "      <td>-10.068</td>\n",
              "      <td>1</td>\n",
              "      <td>0.0236</td>\n",
              "      <td>0.27900</td>\n",
              "      <td>0.01170</td>\n",
              "      <td>0.0887</td>\n",
              "      <td>0.566</td>\n",
              "      <td>97.091</td>\n",
              "      <td>17</td>\n",
              "      <td>6</td>\n",
              "    </tr>\n",
              "    <tr>\n",
              "      <th>1</th>\n",
              "      <td>28</td>\n",
              "      <td>5</td>\n",
              "      <td>0.303</td>\n",
              "      <td>0.880</td>\n",
              "      <td>9</td>\n",
              "      <td>-4.739</td>\n",
              "      <td>1</td>\n",
              "      <td>0.0442</td>\n",
              "      <td>0.01170</td>\n",
              "      <td>0.00994</td>\n",
              "      <td>0.3470</td>\n",
              "      <td>0.404</td>\n",
              "      <td>135.225</td>\n",
              "      <td>3</td>\n",
              "      <td>1</td>\n",
              "    </tr>\n",
              "    <tr>\n",
              "      <th>2</th>\n",
              "      <td>0</td>\n",
              "      <td>3</td>\n",
              "      <td>0.845</td>\n",
              "      <td>0.652</td>\n",
              "      <td>6</td>\n",
              "      <td>-7.504</td>\n",
              "      <td>0</td>\n",
              "      <td>0.2160</td>\n",
              "      <td>0.00432</td>\n",
              "      <td>0.00723</td>\n",
              "      <td>0.4890</td>\n",
              "      <td>0.650</td>\n",
              "      <td>111.904</td>\n",
              "      <td>3</td>\n",
              "      <td>10</td>\n",
              "    </tr>\n",
              "    <tr>\n",
              "      <th>3</th>\n",
              "      <td>41</td>\n",
              "      <td>3</td>\n",
              "      <td>0.425</td>\n",
              "      <td>0.378</td>\n",
              "      <td>5</td>\n",
              "      <td>-5.819</td>\n",
              "      <td>0</td>\n",
              "      <td>0.0341</td>\n",
              "      <td>0.68900</td>\n",
              "      <td>0.00000</td>\n",
              "      <td>0.0664</td>\n",
              "      <td>0.405</td>\n",
              "      <td>118.593</td>\n",
              "      <td>3</td>\n",
              "      <td>6</td>\n",
              "    </tr>\n",
              "    <tr>\n",
              "      <th>4</th>\n",
              "      <td>65</td>\n",
              "      <td>2</td>\n",
              "      <td>0.760</td>\n",
              "      <td>0.887</td>\n",
              "      <td>9</td>\n",
              "      <td>-1.993</td>\n",
              "      <td>1</td>\n",
              "      <td>0.0409</td>\n",
              "      <td>0.03700</td>\n",
              "      <td>0.00000</td>\n",
              "      <td>0.1380</td>\n",
              "      <td>0.240</td>\n",
              "      <td>130.018</td>\n",
              "      <td>3</td>\n",
              "      <td>7</td>\n",
              "    </tr>\n",
              "  </tbody>\n",
              "</table>\n",
              "</div>"
            ],
            "text/plain": [
              "   track_popularity  playlist_genre  danceability  energy  key  loudness  \\\n",
              "0                41               5         0.682   0.401    2   -10.068   \n",
              "1                28               5         0.303   0.880    9    -4.739   \n",
              "2                 0               3         0.845   0.652    6    -7.504   \n",
              "3                41               3         0.425   0.378    5    -5.819   \n",
              "4                65               2         0.760   0.887    9    -1.993   \n",
              "\n",
              "   mode  speechiness  acousticness  instrumentalness  liveness  valence  \\\n",
              "0     1       0.0236       0.27900           0.01170    0.0887    0.566   \n",
              "1     1       0.0442       0.01170           0.00994    0.3470    0.404   \n",
              "2     0       0.2160       0.00432           0.00723    0.4890    0.650   \n",
              "3     0       0.0341       0.68900           0.00000    0.0664    0.405   \n",
              "4     1       0.0409       0.03700           0.00000    0.1380    0.240   \n",
              "\n",
              "     tempo  language  emotion  \n",
              "0   97.091        17        6  \n",
              "1  135.225         3        1  \n",
              "2  111.904         3       10  \n",
              "3  118.593         3        6  \n",
              "4  130.018         3        7  "
            ]
          },
          "metadata": {},
          "execution_count": 128
        }
      ]
    },
    {
      "cell_type": "code",
      "metadata": {
        "colab": {
          "base_uri": "https://localhost:8080/"
        },
        "id": "0CUA6sZFZJ_x",
        "outputId": "93f9f6ba-6741-4082-e0a7-86b5cd8b15dc"
      },
      "source": [
        "df5.shape"
      ],
      "execution_count": 129,
      "outputs": [
        {
          "output_type": "execute_result",
          "data": {
            "text/plain": [
              "(1099, 15)"
            ]
          },
          "metadata": {},
          "execution_count": 129
        }
      ]
    },
    {
      "cell_type": "code",
      "metadata": {
        "colab": {
          "base_uri": "https://localhost:8080/"
        },
        "id": "WlT6TJXsQdMT",
        "outputId": "559bc307-dfa1-460a-8c83-808da0b40694"
      },
      "source": [
        "train_data_001.columns"
      ],
      "execution_count": 125,
      "outputs": [
        {
          "output_type": "execute_result",
          "data": {
            "text/plain": [
              "Index(['speechiness', 'acousticness', 'instrumentalness', 'liveness',\n",
              "       'valence', 'tempo', 'language', 'emotion'],\n",
              "      dtype='object')"
            ]
          },
          "metadata": {},
          "execution_count": 125
        }
      ]
    },
    {
      "cell_type": "code",
      "metadata": {
        "id": "DrydNko01Qiq"
      },
      "source": [
        "testdf1_2 = testdf1_1.iloc[:1024,7:]\n",
        "testdf2_2 = testdf2_1.iloc[:1024,7:]\n",
        "testdf3_2 = testdf3_1.iloc[:1024,7:]\n",
        "df13 = df12.iloc[:1024,7:]"
      ],
      "execution_count": 26,
      "outputs": []
    },
    {
      "cell_type": "code",
      "metadata": {
        "id": "RYgkcSwtvynh"
      },
      "source": [
        "train_data = torch.tensor(train_data_01.values.astype(np.float32))"
      ],
      "execution_count": 28,
      "outputs": []
    },
    {
      "cell_type": "code",
      "metadata": {
        "id": "9jGsD2Rf_5cZ"
      },
      "source": [
        "train_labels = torch.zeros(train_data_length)\n",
        "train_set = [\n",
        "    (train_data[i], train_labels[i]) for i in range(train_data_length)\n",
        "]"
      ],
      "execution_count": 29,
      "outputs": []
    },
    {
      "cell_type": "code",
      "metadata": {
        "id": "8Q_FlvWVCPeg"
      },
      "source": [
        "batch_size = 32\n",
        "train_loader = torch.utils.data.DataLoader(\n",
        "    train_set, batch_size=batch_size, shuffle=True\n",
        ")"
      ],
      "execution_count": 30,
      "outputs": []
    },
    {
      "cell_type": "code",
      "metadata": {
        "id": "oeGokWcnUNVo"
      },
      "source": [
        "class Discriminator(nn.Module):\n",
        "    def __init__(self):\n",
        "        super().__init__()\n",
        "        self.model = nn.Sequential(\n",
        "            nn.Linear(8, 256),\n",
        "            nn.ReLU(),\n",
        "            nn.Dropout(0.3),\n",
        "            nn.Linear(256, 128),\n",
        "            nn.ReLU(),\n",
        "            nn.Dropout(0.3),\n",
        "            nn.Linear(128, 64),\n",
        "            nn.ReLU(),\n",
        "            nn.Dropout(0.3),\n",
        "            nn.Linear(64, 1),\n",
        "            nn.Sigmoid(),\n",
        "        )\n",
        "\n",
        "    def forward(self, x):\n",
        "        output = self.model(x)\n",
        "        return output"
      ],
      "execution_count": 31,
      "outputs": []
    },
    {
      "cell_type": "code",
      "metadata": {
        "id": "w28gifmTe_Wa"
      },
      "source": [
        "discriminator = Discriminator()"
      ],
      "execution_count": 32,
      "outputs": []
    },
    {
      "cell_type": "code",
      "metadata": {
        "id": "3LaGfTJ1fFf9"
      },
      "source": [
        "class Generator(nn.Module):\n",
        "    def __init__(self):\n",
        "        super().__init__()\n",
        "        self.model = nn.Sequential(\n",
        "            nn.Linear(8, 32),\n",
        "            nn.ReLU(),\n",
        "            nn.Linear(32, 64),\n",
        "            nn.ReLU(),\n",
        "            nn.Linear(64, 8),\n",
        "        )\n",
        "\n",
        "    def forward(self, x):\n",
        "        output = self.model(x)\n",
        "        return output\n",
        "\n",
        "generator = Generator()"
      ],
      "execution_count": 33,
      "outputs": []
    },
    {
      "cell_type": "code",
      "metadata": {
        "id": "b3Lh9ZtEfPvG"
      },
      "source": [
        "lr = 0.001\n",
        "num_epochs = 500\n",
        "loss_function = nn.BCELoss()"
      ],
      "execution_count": 34,
      "outputs": []
    },
    {
      "cell_type": "code",
      "metadata": {
        "id": "vHk6r37kfWfA"
      },
      "source": [
        "optimizer_discriminator = torch.optim.Adam(discriminator.parameters(), lr=lr)\n",
        "optimizer_generator = torch.optim.Adam(generator.parameters(), lr=lr)"
      ],
      "execution_count": 35,
      "outputs": []
    },
    {
      "cell_type": "code",
      "metadata": {
        "id": "moL5w8QUPPFB"
      },
      "source": [
        "# list for final generated samples\n",
        "final_generated_samples=[]\n",
        "final_generated_samples_list=[]\n",
        "losses_g =[]\n",
        "losses_d = []\n",
        "labels = []\n",
        "pred = []\n",
        "true = []"
      ],
      "execution_count": 37,
      "outputs": []
    },
    {
      "cell_type": "code",
      "metadata": {
        "id": "W0Zee1zVehN2"
      },
      "source": [
        "#len(labels[0])"
      ],
      "execution_count": 38,
      "outputs": []
    },
    {
      "cell_type": "code",
      "metadata": {
        "colab": {
          "base_uri": "https://localhost:8080/"
        },
        "id": "M3oKJHuuffeK",
        "outputId": "828eeaac-8652-4578-ca17-9fe222c865e9"
      },
      "source": [
        "for epoch in range(num_epochs):\n",
        "    for n, (real_samples, _) in enumerate(train_loader):\n",
        "        # Data for training the discriminator\n",
        "        real_samples_labels = torch.ones((batch_size, 1))\n",
        "        latent_space_samples = torch.rand((batch_size, 8))\n",
        "        generated_samples = generator(latent_space_samples)\n",
        "        generated_samples_labels = torch.zeros((batch_size, 1))\n",
        "        all_samples = torch.cat((real_samples, generated_samples))\n",
        "        all_samples_labels = torch.cat(\n",
        "            (real_samples_labels, generated_samples_labels)\n",
        "        )\n",
        "\n",
        "        # Training the discriminator\n",
        "        discriminator.zero_grad()\n",
        "        output_discriminator = discriminator(all_samples)\n",
        "        loss_discriminator = loss_function(\n",
        "            output_discriminator, all_samples_labels)\n",
        "        loss_discriminator.backward()\n",
        "        optimizer_discriminator.step()\n",
        "\n",
        "\n",
        "        # Data for training the generator\n",
        "        latent_space_samples = torch.rand((batch_size, 8))\n",
        "\n",
        "        # Training the generator\n",
        "        generator.zero_grad()\n",
        "        generated_samples = generator(latent_space_samples)\n",
        "        output_discriminator_generated = discriminator(generated_samples)\n",
        "        loss_generator = loss_function(\n",
        "            output_discriminator_generated, real_samples_labels\n",
        "        )\n",
        "        loss_generator.backward()\n",
        "        optimizer_generator.step()\n",
        "\n",
        "        losses_g.append(loss_generator)\n",
        "        losses_d.append(loss_discriminator)\n",
        "\n",
        "        labels.append(all_samples_labels)\n",
        "        pred.append(output_discriminator)\n",
        "        true.append(all_samples)\n",
        "\n",
        "        # Show loss\n",
        "        if epoch % 10 == 0 and n == batch_size - 1:\n",
        "            final_generated_samples.append(generated_samples[0])\n",
        "            print(f\"Epoch: {epoch} Loss D.: {loss_discriminator}\")\n",
        "            print(f\"Epoch: {epoch} Loss G.: {loss_generator}\")\n",
        "            "
      ],
      "execution_count": 39,
      "outputs": [
        {
          "output_type": "stream",
          "name": "stdout",
          "text": [
            "Epoch: 0 Loss D.: 0.5115298628807068\n",
            "Epoch: 0 Loss G.: 1.2924288511276245\n",
            "Epoch: 10 Loss D.: 0.32196223735809326\n",
            "Epoch: 10 Loss G.: 2.9462664127349854\n",
            "Epoch: 20 Loss D.: 0.16451826691627502\n",
            "Epoch: 20 Loss G.: 2.272045135498047\n",
            "Epoch: 30 Loss D.: 0.27571749687194824\n",
            "Epoch: 30 Loss G.: 2.1651065349578857\n",
            "Epoch: 40 Loss D.: 0.2415425181388855\n",
            "Epoch: 40 Loss G.: 2.166952610015869\n",
            "Epoch: 50 Loss D.: 0.47515127062797546\n",
            "Epoch: 50 Loss G.: 1.4372973442077637\n",
            "Epoch: 60 Loss D.: 0.4819563627243042\n",
            "Epoch: 60 Loss G.: 1.1861786842346191\n",
            "Epoch: 70 Loss D.: 0.5822749137878418\n",
            "Epoch: 70 Loss G.: 0.9747266173362732\n",
            "Epoch: 80 Loss D.: 0.644153892993927\n",
            "Epoch: 80 Loss G.: 1.1770471334457397\n",
            "Epoch: 90 Loss D.: 0.65818190574646\n",
            "Epoch: 90 Loss G.: 1.3044346570968628\n",
            "Epoch: 100 Loss D.: 0.623962938785553\n",
            "Epoch: 100 Loss G.: 0.7997446656227112\n",
            "Epoch: 110 Loss D.: 0.4674569070339203\n",
            "Epoch: 110 Loss G.: 1.0396862030029297\n",
            "Epoch: 120 Loss D.: 0.5835279822349548\n",
            "Epoch: 120 Loss G.: 1.0912667512893677\n",
            "Epoch: 130 Loss D.: 0.5204736590385437\n",
            "Epoch: 130 Loss G.: 1.1344544887542725\n",
            "Epoch: 140 Loss D.: 0.7442145347595215\n",
            "Epoch: 140 Loss G.: 1.0695849657058716\n",
            "Epoch: 150 Loss D.: 0.57000732421875\n",
            "Epoch: 150 Loss G.: 1.2480723857879639\n",
            "Epoch: 160 Loss D.: 0.6181714534759521\n",
            "Epoch: 160 Loss G.: 0.7642925977706909\n",
            "Epoch: 170 Loss D.: 0.46372056007385254\n",
            "Epoch: 170 Loss G.: 1.4058406352996826\n",
            "Epoch: 180 Loss D.: 0.5660051107406616\n",
            "Epoch: 180 Loss G.: 1.3518086671829224\n",
            "Epoch: 190 Loss D.: 0.6141707897186279\n",
            "Epoch: 190 Loss G.: 1.3011085987091064\n",
            "Epoch: 200 Loss D.: 0.5108660459518433\n",
            "Epoch: 200 Loss G.: 1.0471521615982056\n",
            "Epoch: 210 Loss D.: 0.5867670774459839\n",
            "Epoch: 210 Loss G.: 1.0504287481307983\n",
            "Epoch: 220 Loss D.: 0.5676605105400085\n",
            "Epoch: 220 Loss G.: 1.1048038005828857\n",
            "Epoch: 230 Loss D.: 0.462643563747406\n",
            "Epoch: 230 Loss G.: 1.3212099075317383\n",
            "Epoch: 240 Loss D.: 0.438474178314209\n",
            "Epoch: 240 Loss G.: 1.421043872833252\n",
            "Epoch: 250 Loss D.: 0.672415554523468\n",
            "Epoch: 250 Loss G.: 0.8570258021354675\n",
            "Epoch: 260 Loss D.: 0.5072527527809143\n",
            "Epoch: 260 Loss G.: 1.544341802597046\n",
            "Epoch: 270 Loss D.: 0.8250700235366821\n",
            "Epoch: 270 Loss G.: 1.0336538553237915\n",
            "Epoch: 280 Loss D.: 0.5613977909088135\n",
            "Epoch: 280 Loss G.: 1.0402902364730835\n",
            "Epoch: 290 Loss D.: 0.5734825134277344\n",
            "Epoch: 290 Loss G.: 1.2642595767974854\n",
            "Epoch: 300 Loss D.: 0.525291383266449\n",
            "Epoch: 300 Loss G.: 0.8838711977005005\n",
            "Epoch: 310 Loss D.: 0.6758624315261841\n",
            "Epoch: 310 Loss G.: 1.034989595413208\n",
            "Epoch: 320 Loss D.: 0.6224325299263\n",
            "Epoch: 320 Loss G.: 0.8276584148406982\n",
            "Epoch: 330 Loss D.: 0.5986799001693726\n",
            "Epoch: 330 Loss G.: 0.84618079662323\n",
            "Epoch: 340 Loss D.: 0.7135997414588928\n",
            "Epoch: 340 Loss G.: 1.0459696054458618\n",
            "Epoch: 350 Loss D.: 0.4791903793811798\n",
            "Epoch: 350 Loss G.: 0.9682680368423462\n",
            "Epoch: 360 Loss D.: 0.6072165369987488\n",
            "Epoch: 360 Loss G.: 0.8879085779190063\n",
            "Epoch: 370 Loss D.: 0.6041566133499146\n",
            "Epoch: 370 Loss G.: 1.0905855894088745\n",
            "Epoch: 380 Loss D.: 0.5556362867355347\n",
            "Epoch: 380 Loss G.: 0.8870221376419067\n",
            "Epoch: 390 Loss D.: 0.6309012174606323\n",
            "Epoch: 390 Loss G.: 0.8464186787605286\n",
            "Epoch: 400 Loss D.: 0.613155722618103\n",
            "Epoch: 400 Loss G.: 0.9008373022079468\n",
            "Epoch: 410 Loss D.: 0.6145493984222412\n",
            "Epoch: 410 Loss G.: 0.8210819363594055\n",
            "Epoch: 420 Loss D.: 0.6423792243003845\n",
            "Epoch: 420 Loss G.: 0.8432744741439819\n",
            "Epoch: 430 Loss D.: 0.5673065781593323\n",
            "Epoch: 430 Loss G.: 0.8347365260124207\n",
            "Epoch: 440 Loss D.: 0.49407196044921875\n",
            "Epoch: 440 Loss G.: 1.0016577243804932\n",
            "Epoch: 450 Loss D.: 0.6166613101959229\n",
            "Epoch: 450 Loss G.: 1.0873634815216064\n",
            "Epoch: 460 Loss D.: 0.6314067840576172\n",
            "Epoch: 460 Loss G.: 0.8617268800735474\n",
            "Epoch: 470 Loss D.: 0.5835588574409485\n",
            "Epoch: 470 Loss G.: 0.9082028269767761\n",
            "Epoch: 480 Loss D.: 0.5423457026481628\n",
            "Epoch: 480 Loss G.: 0.7532187104225159\n",
            "Epoch: 490 Loss D.: 0.5692798495292664\n",
            "Epoch: 490 Loss G.: 0.732805609703064\n"
          ]
        }
      ]
    },
    {
      "cell_type": "code",
      "metadata": {
        "colab": {
          "base_uri": "https://localhost:8080/",
          "height": 265
        },
        "id": "hs5paGQUO03N",
        "outputId": "69001082-f1d9-4157-b70f-5fb201232e9f"
      },
      "source": [
        "# plot and save the generator and discriminator loss\n",
        "plt.figure()\n",
        "plt.plot(losses_g, label='Generator loss')\n",
        "plt.plot(losses_d, label='Discriminator Loss')\n",
        "plt.legend()\n",
        "plt.show()"
      ],
      "execution_count": 40,
      "outputs": [
        {
          "output_type": "display_data",
          "data": {
            "image/png": "[encoded data removed]",
            "text/plain": [
              "<Figure size 432x288 with 1 Axes>"
            ]
          },
          "metadata": {
            "needs_background": "light"
          }
        }
      ]
    },
    {
      "cell_type": "code",
      "metadata": {
        "id": "m6LUuQD1uz2F"
      },
      "source": [
        "# make a dataframe for sample list\n",
        "for i in final_generated_samples:\n",
        "  a = i.detach().numpy()\n",
        "  final_generated_samples_list.append(a)\n",
        "final_generated_samples_df = pd.DataFrame(final_generated_samples_list)"
      ],
      "execution_count": 47,
      "outputs": []
    },
    {
      "cell_type": "code",
      "metadata": {
        "id": "xNZjGkXgiNGL",
        "colab": {
          "base_uri": "https://localhost:8080/"
        },
        "outputId": "768c8e0c-78b1-4179-933a-48b2007fc3a4"
      },
      "source": [
        "latent_space_samples[:10]"
      ],
      "execution_count": 48,
      "outputs": [
        {
          "output_type": "execute_result",
          "data": {
            "text/plain": [
              "tensor([[0.6470, 0.2817, 0.8503, 0.2032, 0.1772, 0.9442, 0.2569, 0.8981],\n",
              "        [0.4364, 0.5300, 0.2212, 0.1219, 0.6797, 0.6683, 0.3118, 0.7031],\n",
              "        [0.8976, 0.4534, 0.5377, 0.4935, 0.3336, 0.6305, 0.9434, 0.9865],\n",
              "        [0.9794, 0.1191, 0.3079, 0.2038, 0.0661, 0.0667, 0.7330, 0.3701],\n",
              "        [0.5533, 0.4291, 0.8332, 0.7640, 0.2451, 0.7986, 0.8597, 0.6924],\n",
              "        [0.5353, 0.4193, 0.1171, 0.3594, 0.0132, 0.8674, 0.5008, 0.6394],\n",
              "        [0.8260, 0.7455, 0.9907, 0.9192, 0.8988, 0.1774, 0.6647, 0.4825],\n",
              "        [0.7810, 0.3697, 0.7357, 0.0714, 0.1288, 0.3868, 0.4808, 0.6993],\n",
              "        [0.1142, 0.1779, 0.5523, 0.5302, 0.6747, 0.2973, 0.2790, 0.5281],\n",
              "        [0.3608, 0.5494, 0.1737, 0.6968, 0.3332, 0.1050, 0.6406, 0.1444]])"
            ]
          },
          "metadata": {},
          "execution_count": 48
        }
      ]
    },
    {
      "cell_type": "code",
      "metadata": {
        "id": "4tvxpDe3Za9d",
        "colab": {
          "base_uri": "https://localhost:8080/",
          "height": 282
        },
        "outputId": "46bfd6a8-9797-41a4-df61-f728352623b2"
      },
      "source": [
        "#plot of two variables from generated samples\n",
        "plt.plot(final_generated_samples_df.iloc[:, 6], \n",
        "         final_generated_samples_df.iloc[:, 3], \".\")"
      ],
      "execution_count": 49,
      "outputs": [
        {
          "output_type": "execute_result",
          "data": {
            "text/plain": [
              "[<matplotlib.lines.Line2D at 0x7f9536262090>]"
            ]
          },
          "metadata": {},
          "execution_count": 49
        },
        {
          "output_type": "display_data",
          "data": {
            "image/png": "[encoded data removed]",
            "text/plain": [
              "<Figure size 432x288 with 1 Axes>"
            ]
          },
          "metadata": {
            "needs_background": "light"
          }
        }
      ]
    },
    {
      "cell_type": "code",
      "metadata": {
        "id": "XIMG5PoX06OX"
      },
      "source": [
        "from scipy.spatial import distance"
      ],
      "execution_count": 50,
      "outputs": []
    },
    {
      "cell_type": "code",
      "metadata": {
        "id": "RycK3PK_zDW0"
      },
      "source": [
        "float_x = real_samples[0].double()"
      ],
      "execution_count": 51,
      "outputs": []
    },
    {
      "cell_type": "code",
      "metadata": {
        "id": "Y6D_uRDmDsKS"
      },
      "source": [
        "float_x = list(float_x.numpy())"
      ],
      "execution_count": 52,
      "outputs": []
    },
    {
      "cell_type": "markdown",
      "metadata": {
        "id": "mP59c_ZQqUKQ"
      },
      "source": [
        ""
      ]
    },
    {
      "cell_type": "code",
      "metadata": {
        "id": "rf0t9hUt7Wc4",
        "colab": {
          "base_uri": "https://localhost:8080/"
        },
        "outputId": "e26613f4-7c07-4268-80ef-2e6e226dd583"
      },
      "source": [
        "# Cosine similarity\n",
        "def square_rooted(x):\n",
        "   return round(math.sqrt(sum([a*a for a in x])),3)\n",
        "  \n",
        "def cosine_similarity(x,y):\n",
        " numerator = sum(a*b for a,b in zip(x,y))\n",
        " denominator = square_rooted(x)*square_rooted(y)\n",
        " return round(numerator/float(denominator),3)\n",
        "  \n",
        "print(cosine_similarity(final_generated_samples_df[0],float_x))"
      ],
      "execution_count": 53,
      "outputs": [
        {
          "output_type": "stream",
          "name": "stdout",
          "text": [
            "0.142\n"
          ]
        }
      ]
    },
    {
      "cell_type": "code",
      "metadata": {
        "id": "vP1mzbkc79ik",
        "colab": {
          "base_uri": "https://localhost:8080/"
        },
        "outputId": "a74802cb-8ab4-4dce-f5b6-7124bc7a7dfc"
      },
      "source": [
        "#Jaccard similarity\n",
        "from math import*\n",
        "  \n",
        "def jaccard_similarity(x,y):\n",
        " intersection_cardinality = len(set.intersection(*[set(x), set(y)]))\n",
        " union_cardinality = len(set.union(*[set(x), set(y)]))\n",
        " return intersection_cardinality/float(union_cardinality)\n",
        "print(jaccard_similarity([0,1,2,5,6],[0,2,3,5,7,9]))"
      ],
      "execution_count": 54,
      "outputs": [
        {
          "output_type": "stream",
          "name": "stdout",
          "text": [
            "0.375\n"
          ]
        }
      ]
    },
    {
      "cell_type": "code",
      "metadata": {
        "id": "NP3So0XD8g60"
      },
      "source": [
        "import numpy as np\n",
        "import pandas as pd\n",
        "from sklearn.metrics import jaccard_score\n",
        "from sklearn.metrics.pairwise import pairwise_distances,cosine_similarity"
      ],
      "execution_count": 59,
      "outputs": []
    },
    {
      "cell_type": "code",
      "metadata": {
        "id": "DCwHlEBVHgow"
      },
      "source": [
        "df9 = pd.DataFrame(scaler.inverse_transform(final_generated_samples_df))\n",
        "df10 = pd.DataFrame(scaler.inverse_transform(train_data_01))"
      ],
      "execution_count": 60,
      "outputs": []
    },
    {
      "cell_type": "code",
      "metadata": {
        "id": "ji0flvFOBhuS"
      },
      "source": [
        "generated_vals2=[]\n",
        "for i, j in df9.iterrows():\n",
        "  generated_vals2.append(j.values)\n",
        "\n",
        "generated_vals3 = generated_vals2[:10]\n",
        "\n",
        "train_data_vals2=[]\n",
        "for i, j in train_data_001.iterrows():\n",
        "  train_data_vals2.append(j.values)\n"
      ],
      "execution_count": 61,
      "outputs": []
    },
    {
      "cell_type": "markdown",
      "metadata": {
        "id": "uxYm6GBjoZG6"
      },
      "source": [
        ""
      ]
    },
    {
      "cell_type": "code",
      "metadata": {
        "id": "cM4Kbd01UDeF"
      },
      "source": [
        "def cos_similarity(x,d):\n",
        "  recommended = []  \n",
        "  for i in d:\n",
        "    a = cosine_similarity([x],[i])\n",
        "    recommended.append(a)\n",
        "  rec_score=max(recommended)\n",
        "  rec_index = recommended.index(rec_score)\n",
        "  rec_cos.append(rec_score)\n",
        "  rec_idx = df13.index[rec_index]\n",
        "  cos_name.append(rec_idx)\n",
        "  rec_len = len(recommended)\n",
        "  results1.append(['index:',rec_idx,'; cos sim:',rec_score])"
      ],
      "execution_count": 62,
      "outputs": []
    },
    {
      "cell_type": "code",
      "metadata": {
        "id": "8GyLH48C0vPM"
      },
      "source": [
        "def euclid_similarity(x,d):\n",
        "  recommended = []  \n",
        "  for i in d:\n",
        "    a = distance.euclidean([x],[i])\n",
        "    recommended.append(a)\n",
        "  rec_score=min(recommended)\n",
        "  rec_index = recommended.index(rec_score)\n",
        "  rec_euc.append(rec_score)\n",
        "  rec_idx = df13.index[rec_index]\n",
        "  euc_name.append(rec_idx)\n",
        "  rec_len = len(recommended)\n",
        "  results2.append(['index:',rec_idx,'; euclid sim:',rec_score])"
      ],
      "execution_count": 63,
      "outputs": []
    },
    {
      "cell_type": "code",
      "metadata": {
        "id": "j527TRLHyY2x",
        "colab": {
          "base_uri": "https://localhost:8080/"
        },
        "outputId": "68dbbbac-ec9f-43c2-b20b-cff949678a3f"
      },
      "source": [
        "dst = distance.euclidean(final_generated_samples_df.iloc[0,:].values,float_x)\n",
        "print('Euclidean distance: %.3f' % dst)"
      ],
      "execution_count": 64,
      "outputs": [
        {
          "output_type": "stream",
          "name": "stdout",
          "text": [
            "Euclidean distance: 1.397\n"
          ]
        }
      ]
    },
    {
      "cell_type": "code",
      "metadata": {
        "id": "I5WphA_0Z9zV"
      },
      "source": [
        "# pick recommendations with cosine similarity\n",
        "results1 =[]\n",
        "cos_name =[]\n",
        "rec_cos = []\n",
        "for i in generated_vals2:\n",
        "  a = cos_similarity(i,train_data_vals2)"
      ],
      "execution_count": 66,
      "outputs": []
    },
    {
      "cell_type": "code",
      "metadata": {
        "id": "iqO0J7Zlq2G_"
      },
      "source": [
        "cols2 = ['language']\n",
        "cos_rec =  df4[df4['track_name'].isin(cos_name)]\n",
        "cos_rec2 = cos_rec.drop(['playlist_id','track_id','track_name','track_artist'], axis=1)\n",
        "cos_rec2[cols2] = cos_rec2[cols2].apply(LabelEncoder().fit_transform)\n",
        "cos_rec3 = cos_rec2.iloc[:1024,7:]"
      ],
      "execution_count": 68,
      "outputs": []
    },
    {
      "cell_type": "code",
      "metadata": {
        "id": "QDk6KhE433zB"
      },
      "source": [
        "cos_rec4=[]\n",
        "for i, j in cos_rec3.iterrows():\n",
        "  cos_rec4.append(j.values)"
      ],
      "execution_count": 69,
      "outputs": []
    },
    {
      "cell_type": "code",
      "metadata": {
        "id": "nC-_WcnkFKkQ"
      },
      "source": [
        "cos_rec3['track_name'] = df4['track_name']\n",
        "cos_rec5 = cos_rec3.set_index('track_name')"
      ],
      "execution_count": 70,
      "outputs": []
    },
    {
      "cell_type": "code",
      "metadata": {
        "id": "epyouEYb0LlZ"
      },
      "source": [
        "rec_cose=[]\n",
        "for i in rec_cos:\n",
        "  rec_cose.append(i[0][0])"
      ],
      "execution_count": 71,
      "outputs": []
    },
    {
      "cell_type": "code",
      "metadata": {
        "id": "I9txVZCn1Me7"
      },
      "source": [
        "# pick recommendations with euclidean similarity\n",
        "results2 =[]\n",
        "euc_name =[]\n",
        "rec_euc = []\n",
        "for i in generated_vals2:\n",
        "  a = euclid_similarity(i,train_data_vals2)"
      ],
      "execution_count": 72,
      "outputs": []
    },
    {
      "cell_type": "code",
      "metadata": {
        "id": "3TOBzgYDw_6q"
      },
      "source": [
        "euc_rec =  df4[df4['track_name'].isin(euc_name)]\n",
        "euc_rec2 = euc_rec.drop(['playlist_id','track_id','track_name','track_artist'], axis=1)\n",
        "euc_rec2[cols2] = euc_rec2[cols2].apply(LabelEncoder().fit_transform)\n",
        "euc_rec3 = euc_rec2.iloc[:1024,7:]"
      ],
      "execution_count": 89,
      "outputs": []
    },
    {
      "cell_type": "code",
      "metadata": {
        "id": "FFxwgPxVGu66"
      },
      "source": [
        "euc_rec4=[]\n",
        "for i, j in euc_rec3.iterrows():\n",
        "  euc_rec4.append(j.values)"
      ],
      "execution_count": 90,
      "outputs": []
    },
    {
      "cell_type": "code",
      "metadata": {
        "id": "HMl2sYUOGE7M"
      },
      "source": [
        "euc_rec3['track_name'] = df4['track_name']\n",
        "euc_rec5 = euc_rec3.set_index('track_name')"
      ],
      "execution_count": 91,
      "outputs": []
    },
    {
      "cell_type": "code",
      "metadata": {
        "id": "SR1wtnOQsprP"
      },
      "source": [
        "testdf1_3 = testdf1_2\n",
        "testdf1_3['track_name'] = testdf1['track_name']\n",
        "testdf1_3 = testdf1_3.set_index('track_name')\n",
        "\n",
        "testdf2_3 = testdf2_2\n",
        "testdf2_3['track_name'] = testdf2['track_name']\n",
        "testdf2_3 = testdf2_3.set_index('track_name')\n",
        "\n",
        "testdf3_3 = testdf3_2\n",
        "testdf3_3['track_name'] = testdf3['track_name']\n",
        "testdf3_3 = testdf3_3.set_index('track_name')"
      ],
      "execution_count": 76,
      "outputs": []
    },
    {
      "cell_type": "code",
      "metadata": {
        "id": "C976IH3Y745-"
      },
      "source": [
        "test_data1 = testdf1_3.values\n",
        "test_data2 = testdf2_3.values\n",
        "test_data3 = testdf3_3.values"
      ],
      "execution_count": 82,
      "outputs": []
    },
    {
      "cell_type": "code",
      "metadata": {
        "id": "XWRXAtgRfQB_"
      },
      "source": [
        "def cos_similarity_t1(x,d):\n",
        "  recommended = []  \n",
        "  for i in d:\n",
        "    a = cosine_similarity([x],[i])\n",
        "    recommended.append(a)\n",
        "  rec_score=max(recommended)\n",
        "  rec_index = recommended.index(rec_score)\n",
        "  rec_cosT1.append(rec_score)\n",
        "  rec_idx = cos_rec5.index[rec_index]\n",
        "  rec_len = len(recommended)\n",
        "  print('len train data:',rec_len,'; index:',rec_idx,'; cos sim:',rec_score)\n",
        "\n",
        "def euclid_similarity_t1(x,d):\n",
        "  recommended = []  \n",
        "  for i in d:\n",
        "    a = distance.euclidean([x],[i])\n",
        "    recommended.append(a)\n",
        "  rec_score=min(recommended)\n",
        "  rec_index = recommended.index(rec_score)\n",
        "  rec_eucT1.append(rec_score)\n",
        "  rec_idx = euc_rec5.index[rec_index]\n",
        "  rec_len = len(recommended)\n",
        "  print('len train data:',rec_len,'; index:',rec_idx,'; euclid sim:',rec_score)"
      ],
      "execution_count": 78,
      "outputs": []
    },
    {
      "cell_type": "code",
      "metadata": {
        "id": "v3iYXkcX8QJr",
        "colab": {
          "base_uri": "https://localhost:8080/"
        },
        "outputId": "c57840b4-6b51-4de5-8f52-de5648c1d0eb"
      },
      "source": [
        "#compare recomendations to test subjects\n",
        "rec_cosT1 = []\n",
        "for i in test_data1:\n",
        "  a = cos_similarity_t1(i,cos_rec4)"
      ],
      "execution_count": 83,
      "outputs": [
        {
          "output_type": "stream",
          "name": "stdout",
          "text": [
            "len train data: 48 ; index: Light Up the Sky ; cos sim: [[0.99988602]]\n",
            "len train data: 48 ; index: Dag 1 ; cos sim: [[0.99998437]]\n",
            "len train data: 48 ; index: Dag 1 ; cos sim: [[0.99995135]]\n",
            "len train data: 48 ; index: Don't Believe A Word ; cos sim: [[0.9998824]]\n",
            "len train data: 48 ; index: Dag 1 ; cos sim: [[0.99998935]]\n",
            "len train data: 48 ; index: Dag 1 ; cos sim: [[0.99995757]]\n",
            "len train data: 48 ; index: Dag 1 ; cos sim: [[0.99999441]]\n",
            "len train data: 48 ; index: Dag 1 ; cos sim: [[0.99999649]]\n",
            "len train data: 48 ; index: Light Up the Sky ; cos sim: [[0.99986789]]\n",
            "len train data: 48 ; index: All Day All Night ; cos sim: [[0.99998825]]\n"
          ]
        }
      ]
    },
    {
      "cell_type": "code",
      "metadata": {
        "id": "OgQfUT3W3nZ4"
      },
      "source": [
        "rec_coseT1=[]\n",
        "for i in rec_cosT1:\n",
        "  rec_coseT1.append(i[0][0])"
      ],
      "execution_count": 84,
      "outputs": []
    },
    {
      "cell_type": "code",
      "metadata": {
        "colab": {
          "base_uri": "https://localhost:8080/"
        },
        "id": "0EqYmvatUATm",
        "outputId": "6cfd43da-625a-41bd-c7e7-a6db574ddc58"
      },
      "source": [
        "euc_rec3.shape"
      ],
      "execution_count": 126,
      "outputs": [
        {
          "output_type": "execute_result",
          "data": {
            "text/plain": [
              "(47, 9)"
            ]
          },
          "metadata": {},
          "execution_count": 126
        }
      ]
    },
    {
      "cell_type": "code",
      "metadata": {
        "id": "4vwnG9_x-1Gy",
        "colab": {
          "base_uri": "https://localhost:8080/"
        },
        "outputId": "4be16ccf-ed39-4725-d264-728525ec57e9"
      },
      "source": [
        "rec_eucT1 = []\n",
        "for i in test_data1:\n",
        "  a = euclid_similarity_t1(i,euc_rec4)"
      ],
      "execution_count": 92,
      "outputs": [
        {
          "output_type": "stream",
          "name": "stdout",
          "text": [
            "len train data: 47 ; index: They Don't Know ; euclid sim: 3.1794949929867675\n",
            "len train data: 47 ; index: Gopnik ; euclid sim: 2.2247396566789623\n",
            "len train data: 47 ; index: Swish ; euclid sim: 2.3834931344772268\n",
            "len train data: 47 ; index: Loudspeaker ; euclid sim: 1.7795386312187729\n",
            "len train data: 47 ; index: 2020 ; euclid sim: 4.131295387483819\n",
            "len train data: 47 ; index: Only You (feat. WizKid, Offset & J Balvin) ; euclid sim: 1.782733242349986\n",
            "len train data: 47 ; index: Akhi Side ; euclid sim: 2.2968121037646902\n",
            "len train data: 47 ; index: 48H (feat. Sfera Ebbasta) ; euclid sim: 5.667416601998549\n",
            "len train data: 47 ; index: The Kill ; euclid sim: 5.338334433645116\n",
            "len train data: 47 ; index: Lying We're Fine ; euclid sim: 0.6905423013886464\n"
          ]
        }
      ]
    },
    {
      "cell_type": "code",
      "metadata": {
        "id": "a9IAbe8_f5MT"
      },
      "source": [
        "def cos_similarity_t2(x,d):\n",
        "  recommended = []  \n",
        "  for i in d:\n",
        "    a = cosine_similarity([x],[i])\n",
        "    recommended.append(a)\n",
        "  rec_score=max(recommended)\n",
        "  rec_index = recommended.index(rec_score)\n",
        "  rec_cosT2.append(rec_score)\n",
        "  rec_idx = cos_rec5.index[rec_index]\n",
        "  rec_len = len(recommended)\n",
        "  print('len train data:',rec_len,'; index:',rec_idx,'; cos sim:',rec_score)\n",
        "\n",
        "def euclid_similarity_t2(x,d):\n",
        "  recommended = []  \n",
        "  for i in d:\n",
        "    a = distance.euclidean([x],[i])\n",
        "    recommended.append(a)\n",
        "  rec_score=min(recommended)\n",
        "  rec_index = recommended.index(rec_score)\n",
        "  rec_eucT2.append(rec_score)\n",
        "  rec_idx = euc_rec5.index[rec_index]\n",
        "  rec_len = len(recommended)\n",
        "  print('len train data:',rec_len,'; index:',rec_idx,'; euclid sim:',rec_score)"
      ],
      "execution_count": 93,
      "outputs": []
    },
    {
      "cell_type": "code",
      "metadata": {
        "id": "CYriMM1ck4Gx",
        "colab": {
          "base_uri": "https://localhost:8080/"
        },
        "outputId": "c81fe0e3-79dd-4973-8e69-4c74163be7ac"
      },
      "source": [
        "#compare recomendations to test subjects\n",
        "rec_cosT2 = []\n",
        "for i in test_data2:\n",
        "  a = cos_similarity_t2(i,cos_rec4)"
      ],
      "execution_count": 94,
      "outputs": [
        {
          "output_type": "stream",
          "name": "stdout",
          "text": [
            "len train data: 48 ; index: Don't Believe A Word ; cos sim: [[0.99989168]]\n",
            "len train data: 48 ; index: Gopnik ; cos sim: [[0.99995588]]\n",
            "len train data: 48 ; index: Dag 1 ; cos sim: [[0.99998331]]\n",
            "len train data: 48 ; index: Gopnik ; cos sim: [[0.99995806]]\n",
            "len train data: 48 ; index: Gangsta ; cos sim: [[0.9999268]]\n",
            "len train data: 48 ; index: Gopnik ; cos sim: [[0.99996427]]\n",
            "len train data: 48 ; index: Gopnik ; cos sim: [[0.99995741]]\n",
            "len train data: 48 ; index: Gopnik ; cos sim: [[0.99995823]]\n",
            "len train data: 48 ; index: Don't Believe A Word ; cos sim: [[0.99986053]]\n",
            "len train data: 48 ; index: Gopnik ; cos sim: [[0.9999497]]\n",
            "len train data: 48 ; index: Gopnik ; cos sim: [[0.99995745]]\n"
          ]
        }
      ]
    },
    {
      "cell_type": "code",
      "metadata": {
        "id": "ZAFU1-Mp2jsy"
      },
      "source": [
        "rec_coseT2=[]\n",
        "for i in rec_cosT2:\n",
        "  rec_coseT2.append(i[0][0])"
      ],
      "execution_count": 95,
      "outputs": []
    },
    {
      "cell_type": "code",
      "metadata": {
        "id": "LGue-_WhuEqo",
        "colab": {
          "base_uri": "https://localhost:8080/"
        },
        "outputId": "bc9d9aa3-4d95-414b-aa4a-80ba7c24e35c"
      },
      "source": [
        "rec_eucT2 = []\n",
        "for i in test_data2:\n",
        "  a = euclid_similarity_t2(i,euc_rec4)"
      ],
      "execution_count": 97,
      "outputs": [
        {
          "output_type": "stream",
          "name": "stdout",
          "text": [
            "len train data: 47 ; index: Tell Me You Love Me - NOTD Remix ; euclid sim: 2.244228256680679\n",
            "len train data: 47 ; index: Bad By Myself ; euclid sim: 1.3170121934449535\n",
            "len train data: 47 ; index: Bandit ; euclid sim: 2.7746301663465065\n",
            "len train data: 47 ; index: Want to Want Me ; euclid sim: 1.5439326037093688\n",
            "len train data: 47 ; index: Best Life ; euclid sim: 2.0031029244857925\n",
            "len train data: 47 ; index: If You Leave Me Now ; euclid sim: 2.0484200979105913\n",
            "len train data: 47 ; index: Want to Want Me ; euclid sim: 1.1461071213459935\n",
            "len train data: 47 ; index: Bette Davis Eyes ; euclid sim: 1.1926341643682326\n",
            "len train data: 47 ; index: Fake Plastic Trees ; euclid sim: 3.4386030375720917\n",
            "len train data: 47 ; index: If You Leave Me Now ; euclid sim: 1.6234789433756147\n",
            "len train data: 47 ; index: Who Do You Love? ; euclid sim: 9.200148453280523\n"
          ]
        }
      ]
    },
    {
      "cell_type": "code",
      "metadata": {
        "id": "GPEUMkQaL2i-"
      },
      "source": [
        "def cos_similarity_t3(x,d):\n",
        "  recommended = []  \n",
        "  for i in d:\n",
        "    a = cosine_similarity([x],[i])\n",
        "    recommended.append(a)\n",
        "  rec_score=max(recommended)\n",
        "  rec_index = recommended.index(rec_score)\n",
        "  rec_cosT3.append(rec_score)\n",
        "  rec_idx = cos_rec5.index[rec_index]\n",
        "  rec_len = len(recommended)\n",
        "  print('len train data:',rec_len,'; index:',rec_idx,'; cos sim:',rec_score)\n",
        "\n",
        "def euclid_similarity_t3(x,d):\n",
        "  recommended = []  \n",
        "  for i in d:\n",
        "    a = distance.euclidean([x],[i])\n",
        "    recommended.append(a)\n",
        "  rec_score=min(recommended)\n",
        "  rec_index = recommended.index(rec_score)\n",
        "  rec_eucT3.append(rec_score)\n",
        "  rec_idx = euc_rec5.index[rec_index]\n",
        "  rec_len = len(recommended)\n",
        "  print('len train data:',rec_len,'; index:',rec_idx,'; euclid sim:',rec_score)"
      ],
      "execution_count": 101,
      "outputs": []
    },
    {
      "cell_type": "code",
      "metadata": {
        "id": "h7yHchNGL4IY",
        "colab": {
          "base_uri": "https://localhost:8080/"
        },
        "outputId": "ea1ae37a-688e-43ab-df7c-2f2b721d3cf1"
      },
      "source": [
        "#compare recomendations to test subjects\n",
        "rec_cosT3 = []\n",
        "for i in test_data3:\n",
        "  a = cos_similarity_t3(i,cos_rec4)"
      ],
      "execution_count": 102,
      "outputs": [
        {
          "output_type": "stream",
          "name": "stdout",
          "text": [
            "len train data: 48 ; index: Light Up the Sky ; cos sim: [[0.99992635]]\n",
            "len train data: 48 ; index: Gopnik ; cos sim: [[0.99994207]]\n",
            "len train data: 48 ; index: Dag 1 ; cos sim: [[0.9999712]]\n",
            "len train data: 48 ; index: Dag 1 ; cos sim: [[0.9999796]]\n",
            "len train data: 48 ; index: Gopnik ; cos sim: [[0.99995443]]\n",
            "len train data: 48 ; index: Dag 1 ; cos sim: [[0.99997849]]\n",
            "len train data: 48 ; index: Gopnik ; cos sim: [[0.99995019]]\n",
            "len train data: 48 ; index: Uhh Ahh ; cos sim: [[0.999839]]\n",
            "len train data: 48 ; index: Don't Believe A Word ; cos sim: [[0.99988805]]\n",
            "len train data: 48 ; index: Dag 1 ; cos sim: [[0.99996464]]\n",
            "len train data: 48 ; index: Don't Believe A Word ; cos sim: [[0.99989191]]\n"
          ]
        }
      ]
    },
    {
      "cell_type": "code",
      "metadata": {
        "id": "DX7PNN4N2q4C"
      },
      "source": [
        "rec_coseT3=[]\n",
        "for i in rec_cosT3:\n",
        "  rec_coseT3.append(i[0][0])"
      ],
      "execution_count": 103,
      "outputs": []
    },
    {
      "cell_type": "code",
      "metadata": {
        "id": "S22wN0m6L7J5",
        "colab": {
          "base_uri": "https://localhost:8080/"
        },
        "outputId": "f1f15cdc-63b8-411a-d552-db53e90d75c8"
      },
      "source": [
        "rec_eucT3 = []\n",
        "for i in test_data3:\n",
        "  a = euclid_similarity_t3(i,euc_rec4)"
      ],
      "execution_count": 105,
      "outputs": [
        {
          "output_type": "stream",
          "name": "stdout",
          "text": [
            "len train data: 47 ; index: Bandit ; euclid sim: 1.6392889935768629\n",
            "len train data: 47 ; index: 48H (feat. Sfera Ebbasta) ; euclid sim: 4.202008981427813\n",
            "len train data: 47 ; index: If You Leave Me Now ; euclid sim: 1.6396474511260046\n",
            "len train data: 47 ; index: Starstruck ; euclid sim: 3.10060616783637\n",
            "len train data: 47 ; index: If You Leave Me Now ; euclid sim: 1.6719271526427204\n",
            "len train data: 47 ; index: Starstruck ; euclid sim: 6.492919261780452\n",
            "len train data: 47 ; index: Grateful (Neon Feather Remix) ; euclid sim: 1.1699436832052363\n",
            "len train data: 47 ; index: Marvins Room ; euclid sim: 2.831385897118225\n",
            "len train data: 47 ; index: Loudspeaker ; euclid sim: 1.0\n",
            "len train data: 47 ; index: Fake Plastic Trees ; euclid sim: 2.67127813089678\n",
            "len train data: 47 ; index: Keep It Warm ; euclid sim: 5.366725732697733\n"
          ]
        }
      ]
    },
    {
      "cell_type": "code",
      "metadata": {
        "id": "AUCxAfmN7W-D"
      },
      "source": [
        "rec_coseT1.extend(rec_coseT2)"
      ],
      "execution_count": 106,
      "outputs": []
    },
    {
      "cell_type": "code",
      "metadata": {
        "id": "pE6LJqcF_RGi"
      },
      "source": [
        "rec_coseT1.extend(rec_coseT3)"
      ],
      "execution_count": 107,
      "outputs": []
    },
    {
      "cell_type": "code",
      "metadata": {
        "colab": {
          "base_uri": "https://localhost:8080/"
        },
        "id": "M4-bXg0QBSIL",
        "outputId": "fc47a6e9-5291-4b9d-d3a3-ec40ec45aa72"
      },
      "source": [
        "len(rec_coseT1)"
      ],
      "execution_count": 108,
      "outputs": [
        {
          "output_type": "execute_result",
          "data": {
            "text/plain": [
              "32"
            ]
          },
          "metadata": {},
          "execution_count": 108
        }
      ]
    },
    {
      "cell_type": "code",
      "metadata": {
        "id": "mkzOzz8eBcui"
      },
      "source": [
        "rec_eucT1.extend(rec_eucT2)\n",
        "rec_eucT1.extend(rec_eucT3)"
      ],
      "execution_count": 109,
      "outputs": []
    },
    {
      "cell_type": "code",
      "metadata": {
        "colab": {
          "base_uri": "https://localhost:8080/"
        },
        "id": "Jj8RrhgNEUAS",
        "outputId": "c7b14b18-f8b5-466e-8f02-2c77908249b0"
      },
      "source": [
        "print(rec_eucT1)"
      ],
      "execution_count": 110,
      "outputs": [
        {
          "output_type": "stream",
          "name": "stdout",
          "text": [
            "[3.1794949929867675, 2.2247396566789623, 2.3834931344772268, 1.7795386312187729, 4.131295387483819, 1.782733242349986, 2.2968121037646902, 5.667416601998549, 5.338334433645116, 0.6905423013886464, 2.244228256680679, 1.3170121934449535, 2.7746301663465065, 1.5439326037093688, 2.0031029244857925, 2.0484200979105913, 1.1461071213459935, 1.1926341643682326, 3.4386030375720917, 1.6234789433756147, 9.200148453280523, 1.6392889935768629, 4.202008981427813, 1.6396474511260046, 3.10060616783637, 1.6719271526427204, 6.492919261780452, 1.1699436832052363, 2.831385897118225, 1.0, 2.67127813089678, 5.366725732697733]\n"
          ]
        }
      ]
    },
    {
      "cell_type": "code",
      "metadata": {
        "id": "bbnJYTS3Csmg"
      },
      "source": [
        "NMrec_coseT1 = [0.9999841037516034, 0.9999653991692578, 0.9999571093751635, 0.9999884803618749, \n",
        "                0.9999579153987349, 0.9999735526601331, 0.9999673159463939, 0.9999618072137214, \n",
        "                0.9999582986721756, 0.9999741687424798, 0.9999750121659532, 0.9999815343658153, \n",
        "                0.9999483307385868, 0.999960624909092, 0.9999685976066536, 0.99999510692748, \n",
        "                0.9999549637090531, 0.9999854969054314, 0.9999577883925294, 0.9999521596425054, \n",
        "                0.9999887142489676, 0.9999604695702495, 0.9999769918050142, 0.9999900877877266, \n",
        "                0.9999889904713053, 0.9999837929241631, 0.9999804223994133, 0.9999848743965635, \n",
        "                0.9999142242033856, 0.9999899927658477, 0.9999802222720939, 0.9999511351955994]"
      ],
      "execution_count": 136,
      "outputs": []
    },
    {
      "cell_type": "code",
      "metadata": {
        "colab": {
          "base_uri": "https://localhost:8080/"
        },
        "id": "v_75wGujFum5",
        "outputId": "ed23e696-edf4-492e-8a1c-d60771565e3f"
      },
      "source": [
        "# leven test for equal variance p-value lower than 0.01 means not equal\n",
        "from scipy.stats import levene\n",
        "stat, p = levene(rec_coseT1, NMrec_coseT1)\n",
        "print('pvalue > 0.01 means equal variance, pvalue:' ,p)"
      ],
      "execution_count": 139,
      "outputs": [
        {
          "output_type": "stream",
          "name": "stdout",
          "text": [
            "pvalue > 0.01 means equal variance, pvalue: 0.003606333691386495\n"
          ]
        }
      ]
    },
    {
      "cell_type": "code",
      "metadata": {
        "colab": {
          "base_uri": "https://localhost:8080/"
        },
        "id": "0OYDjWsyGn-Z",
        "outputId": "5300b2c1-9070-4cbc-d7f2-a45657d5532c"
      },
      "source": [
        "import scipy.stats as stats\n",
        "stats.ttest_ind(rec_coseT1, b=NMrec_coseT1, equal_var=False)"
      ],
      "execution_count": 141,
      "outputs": [
        {
          "output_type": "execute_result",
          "data": {
            "text/plain": [
              "Ttest_indResult(statistic=-3.461730364360925, pvalue=0.001278610007083803)"
            ]
          },
          "metadata": {},
          "execution_count": 141
        }
      ]
    },
    {
      "cell_type": "code",
      "metadata": {
        "colab": {
          "base_uri": "https://localhost:8080/"
        },
        "id": "m3_ecUgyeIb_",
        "outputId": "fa3a4801-b401-4e6a-8fb3-a337e4329bc9"
      },
      "source": [
        "print(len(rec_coseT1))\n",
        "print(len(NMrec_coseT1))"
      ],
      "execution_count": 142,
      "outputs": [
        {
          "output_type": "stream",
          "name": "stdout",
          "text": [
            "32\n",
            "32\n"
          ]
        }
      ]
    },
    {
      "cell_type": "markdown",
      "metadata": {
        "id": "RwwqpeZCKM7x"
      },
      "source": [
        "The two hypotheses for this particular two sample t-test are as follows:\n",
        "\n",
        "H0: µ1 = µ2 (the two population means are equal)\n",
        "\n",
        "HA: µ1 ≠µ2 (the two population means are not equal)\n",
        "\n",
        "Because the p-value of our test (0.0595) is greater than alpha = 0.05, we fail to reject the null hypothesis of the test. We do not have sufficient evidence to say that the mean height of plants between the two populations is different."
      ]
    }
  ]
}