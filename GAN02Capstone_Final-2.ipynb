{
  "nbformat": 4,
  "nbformat_minor": 0,
  "metadata": {
    "colab": {
      "name": "GAN02Capstone_Final.ipynb",
      "provenance": [],
      "collapsed_sections": []
    },
    "kernelspec": {
      "name": "python3",
      "display_name": "Python 3"
    },
    "language_info": {
      "name": "python"
    }
  },
  "cells": [
    {
      "cell_type": "code",
      "metadata": {
        "id": "YQCZ3H_2TxIZ"
      },
      "source": [
        "import torch\n",
        "from torch import nn\n",
        "from torch.utils.data import DataLoader\n",
        "import math\n",
        "import matplotlib.pyplot as plt\n",
        "import numpy as np\n",
        "import io\n",
        "import pandas as pd\n",
        "from imblearn.over_sampling import SMOTE\n",
        "from collections import Counter\n",
        "from matplotlib import pyplot\n",
        "from sklearn.preprocessing import MinMaxScaler\n",
        "import warnings\n",
        "warnings.filterwarnings('ignore')"
      ],
      "execution_count": null,
      "outputs": []
    },
    {
      "cell_type": "code",
      "metadata": {
        "id": "c5IpolGoaZzL"
      },
      "source": [
        "url = 'https://raw.githubusercontent.com/trishattah/Capstone/main/spotify_songs-1.csv'\n",
        "df2 = pd.read_csv(url)"
      ],
      "execution_count": null,
      "outputs": []
    },
    {
      "cell_type": "code",
      "metadata": {
        "colab": {
          "base_uri": "https://localhost:8080/"
        },
        "id": "6uh2NseX2OXP",
        "outputId": "a7333129-b01b-49ce-d505-e4a4230d2ba4"
      },
      "source": [
        "df2.shape"
      ],
      "execution_count": null,
      "outputs": [
        {
          "output_type": "execute_result",
          "data": {
            "text/plain": [
              "(19140, 16)"
            ]
          },
          "metadata": {},
          "execution_count": 85
        }
      ]
    },
    {
      "cell_type": "code",
      "metadata": {
        "colab": {
          "base_uri": "https://localhost:8080/"
        },
        "id": "7LAoeVVh2oVB",
        "outputId": "7e535b49-8e2e-4075-df46-2f11c7d1639c"
      },
      "source": [
        "df2.isnull().sum(axis = 0)"
      ],
      "execution_count": null,
      "outputs": [
        {
          "output_type": "execute_result",
          "data": {
            "text/plain": [
              "track_name            686\n",
              "track_id              686\n",
              "track_artist          686\n",
              "playlist_id           686\n",
              "track_popularity      686\n",
              "instrumentalness      686\n",
              "loudness              686\n",
              "key                   686\n",
              "speechiness           686\n",
              "acousticness          686\n",
              "danceability          686\n",
              "liveness              686\n",
              "tempo                 686\n",
              "energy                686\n",
              "valence               686\n",
              "emotion             17336\n",
              "dtype: int64"
            ]
          },
          "metadata": {},
          "execution_count": 86
        }
      ]
    },
    {
      "cell_type": "code",
      "metadata": {
        "id": "BOfZ1LsBb3Z_"
      },
      "source": [
        "#url = 'https://raw.githubusercontent.com/trishattah/Capstone/main/Emotion_Labels.csv'\n",
        "#df3 = pd.read_csv(url)"
      ],
      "execution_count": null,
      "outputs": []
    },
    {
      "cell_type": "code",
      "metadata": {
        "id": "KwLUDpea0D_T"
      },
      "source": [
        "#df4 = pd.merge(df2,df3,on='track_id')\n",
        "#df4 = df2.drop(['Unnamed: 19'], axis=1)\n",
        "df4=df2"
      ],
      "execution_count": null,
      "outputs": []
    },
    {
      "cell_type": "code",
      "metadata": {
        "colab": {
          "base_uri": "https://localhost:8080/"
        },
        "id": "paij6qTxqtvn",
        "outputId": "eafe92a6-387e-4ddb-ccbe-4a8e0447f358"
      },
      "source": [
        "df4 = df4.dropna()\n",
        "df4.shape"
      ],
      "execution_count": null,
      "outputs": [
        {
          "output_type": "execute_result",
          "data": {
            "text/plain": [
              "(1804, 16)"
            ]
          },
          "metadata": {},
          "execution_count": 89
        }
      ]
    },
    {
      "cell_type": "code",
      "metadata": {
        "colab": {
          "base_uri": "https://localhost:8080/"
        },
        "id": "rcEu57ehv2fp",
        "outputId": "fa559fda-0c69-4353-d3c0-7f2e206f5df5"
      },
      "source": [
        "df4['playlist_id'].value_counts()"
      ],
      "execution_count": null,
      "outputs": [
        {
          "output_type": "execute_result",
          "data": {
            "text/plain": [
              "3ykXidKLz1eYPvuGoFlD1e    17\n",
              "37i9dQZF1DWUFmyho2wkQU    15\n",
              "4NlAd9NpIa92IjErMyAriM    13\n",
              "7nHgmv7uyIA1KHj6qTttjH    12\n",
              "44bkJI1QGkT2O0GYJSsbkp    12\n",
              "                          ..\n",
              "37i9dQZF1DWVT93EW7kPT9     1\n",
              "37i9dQZF1DWWQRwui0ExPn     1\n",
              "2JPzPB9jnvJLAYtmCbvZy8     1\n",
              "3kysJw7lvVwSoOaL0KyW94     1\n",
              "5ifDekrUt5lbSIMTSzNNqB     1\n",
              "Name: playlist_id, Length: 413, dtype: int64"
            ]
          },
          "metadata": {},
          "execution_count": 90
        }
      ]
    },
    {
      "cell_type": "code",
      "metadata": {
        "id": "zhHvotdp3evO"
      },
      "source": [
        "from sklearn.preprocessing import LabelEncoder\n",
        "le = LabelEncoder()\n",
        "\n",
        "df11 = df2.drop(['playlist_id','track_id','track_name','track_artist'], axis=1)\n",
        "cols = ['language', 'playlist_genre']\n",
        "#df11[cols] = df11[cols].apply(LabelEncoder().fit_transform)\n",
        "\n",
        "df12 = df2.set_index('track_name')"
      ],
      "execution_count": null,
      "outputs": []
    },
    {
      "cell_type": "code",
      "metadata": {
        "id": "gh5zkMZ3x43G"
      },
      "source": [
        "testdf = df4[df4['playlist_id'].isin(['5jROYSZSL7cO0jGAqkPx7C', '3ykXidKLz1eYPvuGoFlD1e','4hKPJNFIhdAg4pAksn78FJ'])]\n",
        "testdf1 =  df4[df4['playlist_id'].isin(['5jROYSZSL7cO0jGAqkPx7C'])]\n",
        "testdf2 = df4[df4['playlist_id'].isin(['3ykXidKLz1eYPvuGoFlD1e'])]\n",
        "testdf3 = df4[df4['playlist_id'].isin(['4hKPJNFIhdAg4pAksn78FJ'])]"
      ],
      "execution_count": null,
      "outputs": []
    },
    {
      "cell_type": "code",
      "metadata": {
        "id": "dct1kTdS0MYc"
      },
      "source": [
        "testdf1_1 = testdf1.drop(['playlist_id','track_id','track_name','track_artist'], axis=1)\n",
        "testdf2_1 = testdf2.drop(['playlist_id','track_id','track_name','track_artist'], axis=1)\n",
        "testdf3_1 = testdf3.drop(['playlist_id','track_id','track_name','track_artist'], axis=1)"
      ],
      "execution_count": null,
      "outputs": []
    },
    {
      "cell_type": "code",
      "metadata": {
        "id": "URnxJyAXzAUk"
      },
      "source": [
        "df5 = df4[~df4['playlist_id'].isin(['4hKPJNFIhdAg4pAksn78FJ', '3ykXidKLz1eYPvuGoFlD1e','4hKPJNFIhdAg4pAksn78FJ'])]"
      ],
      "execution_count": null,
      "outputs": []
    },
    {
      "cell_type": "code",
      "metadata": {
        "id": "0CtwpX2P39KH"
      },
      "source": [
        "pd.set_option('display.max_columns', None)"
      ],
      "execution_count": null,
      "outputs": []
    },
    {
      "cell_type": "code",
      "metadata": {
        "id": "iFpwP8Vz1hHY"
      },
      "source": [
        "df5 = df4.drop(['playlist_id','track_id','track_name','track_artist'], axis=1)\n",
        "df5['emotion'] = df5['emotion'].astype(int)"
      ],
      "execution_count": null,
      "outputs": []
    },
    {
      "cell_type": "code",
      "metadata": {
        "id": "7CAVYhDW9UJ3"
      },
      "source": [
        "#df5.head(2)"
      ],
      "execution_count": null,
      "outputs": []
    },
    {
      "cell_type": "code",
      "metadata": {
        "id": "PUNlxqKOIklG"
      },
      "source": [
        "#cols = ['language', 'playlist_genre']\n",
        "#df5[cols] = df5[cols].apply(LabelEncoder().fit_transform)"
      ],
      "execution_count": null,
      "outputs": []
    },
    {
      "cell_type": "code",
      "metadata": {
        "id": "mDPWs3JO9gvP"
      },
      "source": [
        "df11 = df5"
      ],
      "execution_count": null,
      "outputs": []
    },
    {
      "cell_type": "code",
      "metadata": {
        "id": "J7DROiWZ9vQB"
      },
      "source": [
        "df11['track_name'] = df4['track_name']\n",
        "df5 = df5.drop(['track_name'], axis=1)"
      ],
      "execution_count": null,
      "outputs": []
    },
    {
      "cell_type": "code",
      "metadata": {
        "id": "eIIXCY014PaV"
      },
      "source": [
        "df12 = df11.set_index('track_name')"
      ],
      "execution_count": null,
      "outputs": []
    },
    {
      "cell_type": "code",
      "metadata": {
        "id": "kVtiVv8S0rdE"
      },
      "source": [
        "#testdf1_1[cols] = testdf1_1[cols].apply(LabelEncoder().fit_transform)\n",
        "#testdf2_1[cols] = testdf2_1[cols].apply(LabelEncoder().fit_transform)\n",
        "#testdf3_1[cols] = testdf3_1[cols].apply(LabelEncoder().fit_transform)"
      ],
      "execution_count": null,
      "outputs": []
    },
    {
      "cell_type": "code",
      "metadata": {
        "colab": {
          "base_uri": "https://localhost:8080/"
        },
        "id": "QAUoLLtugPJB",
        "outputId": "87a4b126-2619-4252-aac9-440574d43e03"
      },
      "source": [
        "X, y = df5.iloc[:, :-1], df5.iloc[:, -1]\n",
        "X.shape"
      ],
      "execution_count": null,
      "outputs": [
        {
          "output_type": "execute_result",
          "data": {
            "text/plain": [
              "(1804, 11)"
            ]
          },
          "metadata": {},
          "execution_count": 103
        }
      ]
    },
    {
      "cell_type": "code",
      "metadata": {
        "id": "G_EuCYFRRNWe"
      },
      "source": [
        "#strategy = {1:200, 2:120, 3:150, 4:100, 5:150,6:120, 7:70, 8:45 ,9:45 ,10:40}\n",
        "#oversample = SMOTE(sampling_strategy=strategy)\n",
        "#X, y = oversample.fit_resample(X, y)\n",
        "# summarize distribution\n",
        "#counter = Counter(y)\n",
        "#for k,v in counter.items():\n",
        "#\tper = v / len(y) * 100\n",
        "#\tprint('Class=%d, n=%d (%.3f%%)' % (k, v, per))\n",
        "# plot the distribution\n",
        "#pyplot.bar(counter.keys(), counter.values())\n",
        "#pyplot.show()"
      ],
      "execution_count": null,
      "outputs": []
    },
    {
      "cell_type": "code",
      "metadata": {
        "id": "ROL4725RdsGn"
      },
      "source": [
        "#df6 = pd.DataFrame(X)\n",
        "#df6['emotion'] = y\n",
        "#df7 = df6.sample(frac=1)\n",
        "#df5 = df5.dropna()"
      ],
      "execution_count": null,
      "outputs": []
    },
    {
      "cell_type": "code",
      "metadata": {
        "id": "JFK2TDoD92iv"
      },
      "source": [
        "df5.shape\n",
        "scaler = MinMaxScaler()"
      ],
      "execution_count": null,
      "outputs": []
    },
    {
      "cell_type": "code",
      "metadata": {
        "colab": {
          "base_uri": "https://localhost:8080/"
        },
        "id": "2M3PlxrK31BH",
        "outputId": "15dfdbb0-bccb-4147-e9e9-7a9445a89b83"
      },
      "source": [
        "df5['emotion'].value_counts()"
      ],
      "execution_count": null,
      "outputs": [
        {
          "output_type": "execute_result",
          "data": {
            "text/plain": [
              "1     609\n",
              "3     228\n",
              "6     215\n",
              "2     165\n",
              "7     150\n",
              "5     138\n",
              "4     126\n",
              "8      64\n",
              "10     57\n",
              "9      52\n",
              "Name: emotion, dtype: int64"
            ]
          },
          "metadata": {},
          "execution_count": 107
        }
      ]
    },
    {
      "cell_type": "code",
      "metadata": {
        "colab": {
          "base_uri": "https://localhost:8080/",
          "height": 224
        },
        "id": "bvDcIONbwwND",
        "outputId": "60da11a3-fa50-4552-88fd-d3fc7dd7ba63"
      },
      "source": [
        "train_data_001 = df5.iloc[:1600,4:]\n",
        "train_data_01 = pd.DataFrame(scaler.fit_transform(train_data_001))\n",
        "train_data_length = len(train_data_01)\n",
        "df5.head()"
      ],
      "execution_count": null,
      "outputs": [
        {
          "output_type": "execute_result",
          "data": {
            "text/html": [
              "<div>\n",
              "<style scoped>\n",
              "    .dataframe tbody tr th:only-of-type {\n",
              "        vertical-align: middle;\n",
              "    }\n",
              "\n",
              "    .dataframe tbody tr th {\n",
              "        vertical-align: top;\n",
              "    }\n",
              "\n",
              "    .dataframe thead th {\n",
              "        text-align: right;\n",
              "    }\n",
              "</style>\n",
              "<table border=\"1\" class=\"dataframe\">\n",
              "  <thead>\n",
              "    <tr style=\"text-align: right;\">\n",
              "      <th></th>\n",
              "      <th>track_popularity</th>\n",
              "      <th>instrumentalness</th>\n",
              "      <th>loudness</th>\n",
              "      <th>key</th>\n",
              "      <th>speechiness</th>\n",
              "      <th>acousticness</th>\n",
              "      <th>danceability</th>\n",
              "      <th>liveness</th>\n",
              "      <th>tempo</th>\n",
              "      <th>energy</th>\n",
              "      <th>valence</th>\n",
              "      <th>emotion</th>\n",
              "    </tr>\n",
              "  </thead>\n",
              "  <tbody>\n",
              "    <tr>\n",
              "      <th>0</th>\n",
              "      <td>41.0</td>\n",
              "      <td>0.01170</td>\n",
              "      <td>10.068</td>\n",
              "      <td>2.0</td>\n",
              "      <td>0.0236</td>\n",
              "      <td>0.27900</td>\n",
              "      <td>0.682</td>\n",
              "      <td>0.0887</td>\n",
              "      <td>97.091</td>\n",
              "      <td>0.401</td>\n",
              "      <td>0.566</td>\n",
              "      <td>6</td>\n",
              "    </tr>\n",
              "    <tr>\n",
              "      <th>1</th>\n",
              "      <td>28.0</td>\n",
              "      <td>0.00994</td>\n",
              "      <td>4.739</td>\n",
              "      <td>9.0</td>\n",
              "      <td>0.0442</td>\n",
              "      <td>0.01170</td>\n",
              "      <td>0.303</td>\n",
              "      <td>0.3470</td>\n",
              "      <td>135.225</td>\n",
              "      <td>0.880</td>\n",
              "      <td>0.404</td>\n",
              "      <td>1</td>\n",
              "    </tr>\n",
              "    <tr>\n",
              "      <th>2</th>\n",
              "      <td>0.0</td>\n",
              "      <td>0.00723</td>\n",
              "      <td>7.504</td>\n",
              "      <td>6.0</td>\n",
              "      <td>0.2160</td>\n",
              "      <td>0.00432</td>\n",
              "      <td>0.845</td>\n",
              "      <td>0.4890</td>\n",
              "      <td>111.904</td>\n",
              "      <td>0.652</td>\n",
              "      <td>0.650</td>\n",
              "      <td>10</td>\n",
              "    </tr>\n",
              "    <tr>\n",
              "      <th>3</th>\n",
              "      <td>41.0</td>\n",
              "      <td>0.00000</td>\n",
              "      <td>5.819</td>\n",
              "      <td>5.0</td>\n",
              "      <td>0.0341</td>\n",
              "      <td>0.68900</td>\n",
              "      <td>0.425</td>\n",
              "      <td>0.0664</td>\n",
              "      <td>118.593</td>\n",
              "      <td>0.378</td>\n",
              "      <td>0.405</td>\n",
              "      <td>6</td>\n",
              "    </tr>\n",
              "    <tr>\n",
              "      <th>4</th>\n",
              "      <td>65.0</td>\n",
              "      <td>0.00000</td>\n",
              "      <td>1.993</td>\n",
              "      <td>9.0</td>\n",
              "      <td>0.0409</td>\n",
              "      <td>0.03700</td>\n",
              "      <td>0.760</td>\n",
              "      <td>0.1380</td>\n",
              "      <td>130.018</td>\n",
              "      <td>0.887</td>\n",
              "      <td>0.240</td>\n",
              "      <td>7</td>\n",
              "    </tr>\n",
              "  </tbody>\n",
              "</table>\n",
              "</div>"
            ],
            "text/plain": [
              "   track_popularity  instrumentalness  loudness  key  speechiness  \\\n",
              "0              41.0           0.01170    10.068  2.0       0.0236   \n",
              "1              28.0           0.00994     4.739  9.0       0.0442   \n",
              "2               0.0           0.00723     7.504  6.0       0.2160   \n",
              "3              41.0           0.00000     5.819  5.0       0.0341   \n",
              "4              65.0           0.00000     1.993  9.0       0.0409   \n",
              "\n",
              "   acousticness  danceability  liveness    tempo  energy  valence  emotion  \n",
              "0       0.27900         0.682    0.0887   97.091   0.401    0.566        6  \n",
              "1       0.01170         0.303    0.3470  135.225   0.880    0.404        1  \n",
              "2       0.00432         0.845    0.4890  111.904   0.652    0.650       10  \n",
              "3       0.68900         0.425    0.0664  118.593   0.378    0.405        6  \n",
              "4       0.03700         0.760    0.1380  130.018   0.887    0.240        7  "
            ]
          },
          "metadata": {},
          "execution_count": 108
        }
      ]
    },
    {
      "cell_type": "code",
      "metadata": {
        "colab": {
          "base_uri": "https://localhost:8080/"
        },
        "id": "0CUA6sZFZJ_x",
        "outputId": "14851b78-a235-42a5-945f-03af56b07ba1"
      },
      "source": [
        "df5.shape"
      ],
      "execution_count": null,
      "outputs": [
        {
          "output_type": "execute_result",
          "data": {
            "text/plain": [
              "(1804, 12)"
            ]
          },
          "metadata": {},
          "execution_count": 109
        }
      ]
    },
    {
      "cell_type": "code",
      "metadata": {
        "colab": {
          "base_uri": "https://localhost:8080/"
        },
        "id": "WlT6TJXsQdMT",
        "outputId": "ceb5321c-a994-420e-f864-15d68f6b7c45"
      },
      "source": [
        "train_data_001.columns"
      ],
      "execution_count": null,
      "outputs": [
        {
          "output_type": "execute_result",
          "data": {
            "text/plain": [
              "Index(['speechiness', 'acousticness', 'danceability', 'liveness', 'tempo',\n",
              "       'energy', 'valence', 'emotion'],\n",
              "      dtype='object')"
            ]
          },
          "metadata": {},
          "execution_count": 110
        }
      ]
    },
    {
      "cell_type": "code",
      "metadata": {
        "id": "DrydNko01Qiq"
      },
      "source": [
        "testdf1_2 = testdf1_1.iloc[:1600,4:]\n",
        "testdf2_2 = testdf2_1.iloc[:1600,4:]\n",
        "testdf3_2 = testdf3_1.iloc[:1600,4:]\n",
        "df13 = df12.iloc[:1600,4:]"
      ],
      "execution_count": null,
      "outputs": []
    },
    {
      "cell_type": "code",
      "metadata": {
        "colab": {
          "base_uri": "https://localhost:8080/"
        },
        "id": "7lZASfgt4Lz1",
        "outputId": "08a92298-0df6-4174-ef77-f0a61a75fd6a"
      },
      "source": [
        "df13.columns"
      ],
      "execution_count": null,
      "outputs": [
        {
          "output_type": "execute_result",
          "data": {
            "text/plain": [
              "Index(['speechiness', 'acousticness', 'danceability', 'liveness', 'tempo',\n",
              "       'energy', 'valence', 'emotion'],\n",
              "      dtype='object')"
            ]
          },
          "metadata": {},
          "execution_count": 112
        }
      ]
    },
    {
      "cell_type": "code",
      "metadata": {
        "id": "RYgkcSwtvynh"
      },
      "source": [
        "train_data = torch.tensor(train_data_01.values.astype(np.float32))"
      ],
      "execution_count": null,
      "outputs": []
    },
    {
      "cell_type": "code",
      "metadata": {
        "id": "9jGsD2Rf_5cZ"
      },
      "source": [
        "train_labels = torch.zeros(train_data_length)\n",
        "train_set = [\n",
        "    (train_data[i], train_labels[i]) for i in range(train_data_length)\n",
        "]"
      ],
      "execution_count": null,
      "outputs": []
    },
    {
      "cell_type": "code",
      "metadata": {
        "id": "8Q_FlvWVCPeg"
      },
      "source": [
        "batch_size = 40\n",
        "train_loader = torch.utils.data.DataLoader(\n",
        "    train_set, batch_size=batch_size, shuffle=True\n",
        ")"
      ],
      "execution_count": null,
      "outputs": []
    },
    {
      "cell_type": "code",
      "metadata": {
        "id": "oeGokWcnUNVo"
      },
      "source": [
        "class Discriminator(nn.Module):\n",
        "    def __init__(self):\n",
        "        super().__init__()\n",
        "        self.model = nn.Sequential(\n",
        "            nn.Linear(8, 256),\n",
        "            nn.ReLU(),\n",
        "            nn.Dropout(0.3),\n",
        "            nn.Linear(256, 128),\n",
        "            nn.ReLU(),\n",
        "            nn.Dropout(0.3),\n",
        "            nn.Linear(128, 64),\n",
        "            nn.ReLU(),\n",
        "            nn.Dropout(0.3),\n",
        "            nn.Linear(64, 1),\n",
        "            nn.Sigmoid(),\n",
        "        )\n",
        "\n",
        "    def forward(self, x):\n",
        "        output = self.model(x)\n",
        "        return output"
      ],
      "execution_count": null,
      "outputs": []
    },
    {
      "cell_type": "code",
      "metadata": {
        "id": "w28gifmTe_Wa"
      },
      "source": [
        "discriminator = Discriminator()"
      ],
      "execution_count": null,
      "outputs": []
    },
    {
      "cell_type": "code",
      "metadata": {
        "id": "3LaGfTJ1fFf9"
      },
      "source": [
        "class Generator(nn.Module):\n",
        "    def __init__(self):\n",
        "        super().__init__()\n",
        "        self.model = nn.Sequential(\n",
        "            nn.Linear(8, 40),\n",
        "            nn.ReLU(),\n",
        "            nn.Linear(40, 80),\n",
        "            nn.ReLU(),\n",
        "            nn.Linear(80, 8),\n",
        "        )\n",
        "\n",
        "    def forward(self, x):\n",
        "        output = self.model(x)\n",
        "        return output\n",
        "\n",
        "generator = Generator()"
      ],
      "execution_count": null,
      "outputs": []
    },
    {
      "cell_type": "code",
      "metadata": {
        "id": "b3Lh9ZtEfPvG"
      },
      "source": [
        "lr = 0.001\n",
        "num_epochs = 600\n",
        "loss_function = nn.BCELoss()"
      ],
      "execution_count": null,
      "outputs": []
    },
    {
      "cell_type": "code",
      "metadata": {
        "id": "vHk6r37kfWfA"
      },
      "source": [
        "optimizer_discriminator = torch.optim.Adam(discriminator.parameters(), lr=lr)\n",
        "optimizer_generator = torch.optim.Adam(generator.parameters(), lr=lr)"
      ],
      "execution_count": null,
      "outputs": []
    },
    {
      "cell_type": "code",
      "metadata": {
        "id": "moL5w8QUPPFB"
      },
      "source": [
        "# list for final generated samples\n",
        "final_generated_samples=[]\n",
        "final_generated_samples_list=[]\n",
        "losses_g =[]\n",
        "losses_d = []\n",
        "labels = []\n",
        "pred = []\n",
        "true = []"
      ],
      "execution_count": null,
      "outputs": []
    },
    {
      "cell_type": "code",
      "metadata": {
        "id": "W0Zee1zVehN2"
      },
      "source": [
        "#len(labels[0])"
      ],
      "execution_count": null,
      "outputs": []
    },
    {
      "cell_type": "code",
      "metadata": {
        "colab": {
          "base_uri": "https://localhost:8080/"
        },
        "id": "M3oKJHuuffeK",
        "outputId": "1d684da3-10e6-423d-9d53-ca37002dae01"
      },
      "source": [
        "\n",
        "for epoch in range(num_epochs):\n",
        "    for n, (real_samples, _) in enumerate(train_loader):\n",
        "        # Data for training the discriminator\n",
        "        real_samples_labels = torch.ones((batch_size, 1))\n",
        "        latent_space_samples = torch.rand((batch_size, 8))\n",
        "        generated_samples = generator(latent_space_samples)\n",
        "        generated_samples_labels = torch.zeros((batch_size, 1))\n",
        "        all_samples = torch.cat((real_samples, generated_samples))\n",
        "        all_samples_labels = torch.cat(\n",
        "            (real_samples_labels, generated_samples_labels)\n",
        "        )\n",
        "\n",
        "        # Training the discriminator\n",
        "        discriminator.zero_grad()\n",
        "        output_discriminator = discriminator(all_samples)\n",
        "        loss_discriminator = loss_function(\n",
        "            output_discriminator, all_samples_labels)\n",
        "        loss_discriminator.backward()\n",
        "        optimizer_discriminator.step()\n",
        "\n",
        "\n",
        "        # Data for training the generator\n",
        "        latent_space_samples = torch.rand((batch_size, 8))\n",
        "\n",
        "        # Training the generator\n",
        "        generator.zero_grad()\n",
        "        generated_samples = generator(latent_space_samples)\n",
        "        output_discriminator_generated = discriminator(generated_samples)\n",
        "        loss_generator = loss_function(\n",
        "            output_discriminator_generated, real_samples_labels\n",
        "        )\n",
        "        loss_generator.backward()\n",
        "        optimizer_generator.step()\n",
        "\n",
        "        losses_g.append(loss_generator)\n",
        "        losses_d.append(loss_discriminator)\n",
        "\n",
        "        labels.append(all_samples_labels)\n",
        "        pred.append(output_discriminator)\n",
        "        true.append(all_samples)\n",
        "\n",
        "        # Show loss\n",
        "        if epoch % 10 == 0 and n == batch_size - 1:\n",
        "            final_generated_samples.append(generated_samples[0])\n",
        "            print(f\"Epoch: {epoch} Loss D.: {loss_discriminator}\")\n",
        "            print(f\"Epoch: {epoch} Loss G.: {loss_generator}\")\n",
        "            "
      ],
      "execution_count": null,
      "outputs": [
        {
          "output_type": "stream",
          "name": "stdout",
          "text": [
            "Epoch: 0 Loss D.: 1.140141248703003\n",
            "Epoch: 0 Loss G.: 1.249300479888916\n",
            "Epoch: 10 Loss D.: 0.19869467616081238\n",
            "Epoch: 10 Loss G.: 3.087642192840576\n",
            "Epoch: 20 Loss D.: 0.5001350045204163\n",
            "Epoch: 20 Loss G.: 0.8027358055114746\n",
            "Epoch: 30 Loss D.: 0.3226293623447418\n",
            "Epoch: 30 Loss G.: 1.2017114162445068\n",
            "Epoch: 40 Loss D.: 0.5373619794845581\n",
            "Epoch: 40 Loss G.: 0.8015209436416626\n",
            "Epoch: 50 Loss D.: 0.6689475774765015\n",
            "Epoch: 50 Loss G.: 0.733837366104126\n",
            "Epoch: 60 Loss D.: 0.6975902318954468\n",
            "Epoch: 60 Loss G.: 0.777030348777771\n",
            "Epoch: 70 Loss D.: 0.7291556596755981\n",
            "Epoch: 70 Loss G.: 0.6845043897628784\n",
            "Epoch: 80 Loss D.: 0.6676898002624512\n",
            "Epoch: 80 Loss G.: 0.848962664604187\n",
            "Epoch: 90 Loss D.: 0.7463034391403198\n",
            "Epoch: 90 Loss G.: 0.748918890953064\n",
            "Epoch: 100 Loss D.: 0.6448470950126648\n",
            "Epoch: 100 Loss G.: 0.7332197427749634\n",
            "Epoch: 110 Loss D.: 0.6063539981842041\n",
            "Epoch: 110 Loss G.: 0.8706730604171753\n",
            "Epoch: 120 Loss D.: 0.6511262059211731\n",
            "Epoch: 120 Loss G.: 0.9415114521980286\n",
            "Epoch: 130 Loss D.: 0.6335604786872864\n",
            "Epoch: 130 Loss G.: 0.8117339015007019\n",
            "Epoch: 140 Loss D.: 0.6590670347213745\n",
            "Epoch: 140 Loss G.: 0.752430260181427\n",
            "Epoch: 150 Loss D.: 0.6933091878890991\n",
            "Epoch: 150 Loss G.: 0.6823846697807312\n",
            "Epoch: 160 Loss D.: 0.6671062707901001\n",
            "Epoch: 160 Loss G.: 0.6840842962265015\n",
            "Epoch: 170 Loss D.: 0.701004683971405\n",
            "Epoch: 170 Loss G.: 0.7552443742752075\n",
            "Epoch: 180 Loss D.: 0.6924408674240112\n",
            "Epoch: 180 Loss G.: 0.6858618259429932\n",
            "Epoch: 190 Loss D.: 0.6433826088905334\n",
            "Epoch: 190 Loss G.: 0.6609460115432739\n",
            "Epoch: 200 Loss D.: 0.6257697343826294\n",
            "Epoch: 200 Loss G.: 0.9445932507514954\n",
            "Epoch: 210 Loss D.: 0.6924862861633301\n",
            "Epoch: 210 Loss G.: 0.6808720827102661\n",
            "Epoch: 220 Loss D.: 0.6932415962219238\n",
            "Epoch: 220 Loss G.: 0.6993164420127869\n",
            "Epoch: 230 Loss D.: 0.5931515097618103\n",
            "Epoch: 230 Loss G.: 1.2304631471633911\n",
            "Epoch: 240 Loss D.: 0.6931864023208618\n",
            "Epoch: 240 Loss G.: 0.7101320028305054\n",
            "Epoch: 250 Loss D.: 0.6931300759315491\n",
            "Epoch: 250 Loss G.: 0.6850276589393616\n",
            "Epoch: 260 Loss D.: 0.6857970952987671\n",
            "Epoch: 260 Loss G.: 0.8056226968765259\n",
            "Epoch: 270 Loss D.: 0.6568694114685059\n",
            "Epoch: 270 Loss G.: 1.0943611860275269\n",
            "Epoch: 280 Loss D.: 0.6046470403671265\n",
            "Epoch: 280 Loss G.: 0.7190830111503601\n",
            "Epoch: 290 Loss D.: 0.7038086652755737\n",
            "Epoch: 290 Loss G.: 0.7392908930778503\n",
            "Epoch: 300 Loss D.: 0.693627655506134\n",
            "Epoch: 300 Loss G.: 0.6976341009140015\n",
            "Epoch: 310 Loss D.: 0.6928720474243164\n",
            "Epoch: 310 Loss G.: 0.7222564816474915\n",
            "Epoch: 320 Loss D.: 0.594581127166748\n",
            "Epoch: 320 Loss G.: 0.7687031626701355\n",
            "Epoch: 330 Loss D.: 0.7005800008773804\n",
            "Epoch: 330 Loss G.: 0.7483732104301453\n",
            "Epoch: 340 Loss D.: 0.6993700265884399\n",
            "Epoch: 340 Loss G.: 0.6939777135848999\n",
            "Epoch: 350 Loss D.: 0.5737265348434448\n",
            "Epoch: 350 Loss G.: 0.6912635564804077\n",
            "Epoch: 360 Loss D.: 0.6531432271003723\n",
            "Epoch: 360 Loss G.: 0.8092663884162903\n",
            "Epoch: 370 Loss D.: 0.7075750827789307\n",
            "Epoch: 370 Loss G.: 0.7547867894172668\n",
            "Epoch: 380 Loss D.: 0.6869195699691772\n",
            "Epoch: 380 Loss G.: 0.7653992176055908\n",
            "Epoch: 390 Loss D.: 0.6610504388809204\n",
            "Epoch: 390 Loss G.: 0.7216970324516296\n",
            "Epoch: 400 Loss D.: 0.6786634922027588\n",
            "Epoch: 400 Loss G.: 0.7307748198509216\n",
            "Epoch: 410 Loss D.: 0.657760739326477\n",
            "Epoch: 410 Loss G.: 0.8438580632209778\n",
            "Epoch: 420 Loss D.: 0.6097733378410339\n",
            "Epoch: 420 Loss G.: 0.9852379560470581\n",
            "Epoch: 430 Loss D.: 0.6761292219161987\n",
            "Epoch: 430 Loss G.: 0.8000913858413696\n",
            "Epoch: 440 Loss D.: 0.6299070119857788\n",
            "Epoch: 440 Loss G.: 0.8332220315933228\n",
            "Epoch: 450 Loss D.: 0.8389728665351868\n",
            "Epoch: 450 Loss G.: 0.7633075714111328\n",
            "Epoch: 460 Loss D.: 0.6618430018424988\n",
            "Epoch: 460 Loss G.: 0.790778636932373\n",
            "Epoch: 470 Loss D.: 0.6434387564659119\n",
            "Epoch: 470 Loss G.: 0.7199991941452026\n",
            "Epoch: 480 Loss D.: 0.5869466662406921\n",
            "Epoch: 480 Loss G.: 0.8894193768501282\n",
            "Epoch: 490 Loss D.: 0.6797885894775391\n",
            "Epoch: 490 Loss G.: 0.8206104040145874\n",
            "Epoch: 500 Loss D.: 0.6921321153640747\n",
            "Epoch: 500 Loss G.: 0.7028642892837524\n",
            "Epoch: 510 Loss D.: 0.6841917037963867\n",
            "Epoch: 510 Loss G.: 0.7494065761566162\n",
            "Epoch: 520 Loss D.: 0.7122246026992798\n",
            "Epoch: 520 Loss G.: 0.730552077293396\n",
            "Epoch: 530 Loss D.: 0.6517743468284607\n",
            "Epoch: 530 Loss G.: 0.7884697914123535\n",
            "Epoch: 540 Loss D.: 0.5673689842224121\n",
            "Epoch: 540 Loss G.: 1.1201997995376587\n",
            "Epoch: 550 Loss D.: 0.6841749548912048\n",
            "Epoch: 550 Loss G.: 0.7357547283172607\n",
            "Epoch: 560 Loss D.: 0.6734544038772583\n",
            "Epoch: 560 Loss G.: 0.8288084268569946\n",
            "Epoch: 570 Loss D.: 0.6511027216911316\n",
            "Epoch: 570 Loss G.: 0.7494338154792786\n",
            "Epoch: 580 Loss D.: 0.6852078437805176\n",
            "Epoch: 580 Loss G.: 0.788676381111145\n",
            "Epoch: 590 Loss D.: 0.6621995568275452\n",
            "Epoch: 590 Loss G.: 0.7786323428153992\n"
          ]
        }
      ]
    },
    {
      "cell_type": "code",
      "metadata": {
        "colab": {
          "base_uri": "https://localhost:8080/",
          "height": 265
        },
        "id": "hs5paGQUO03N",
        "outputId": "b33f62e8-5ea1-4529-8573-6bee29bc93b1"
      },
      "source": [
        "# plot and save the generator and discriminator loss\n",
        "plt.figure()\n",
        "plt.plot(losses_g, label='Generator loss')\n",
        "plt.plot(losses_d, label='Discriminator Loss')\n",
        "plt.legend()\n",
        "plt.show()"
      ],
      "execution_count": null,
      "outputs": [
        {
          "output_type": "display_data",
          "data": {
            "image/png": "[encoded data removed]",
            "text/plain": [
              "<Figure size 432x288 with 1 Axes>"
            ]
          },
          "metadata": {
            "needs_background": "light"
          }
        }
      ]
    },
    {
      "cell_type": "code",
      "metadata": {
        "id": "m6LUuQD1uz2F"
      },
      "source": [
        "# make a dataframe for sample list\n",
        "for i in final_generated_samples:\n",
        "  a = i.detach().numpy()\n",
        "  final_generated_samples_list.append(a)\n",
        "final_generated_samples_df = pd.DataFrame(final_generated_samples_list)"
      ],
      "execution_count": null,
      "outputs": []
    },
    {
      "cell_type": "code",
      "metadata": {
        "id": "xNZjGkXgiNGL",
        "colab": {
          "base_uri": "https://localhost:8080/"
        },
        "outputId": "af756a28-a0c2-4e3d-92a2-f31d4ab132c1"
      },
      "source": [
        "latent_space_samples[:10]"
      ],
      "execution_count": null,
      "outputs": [
        {
          "output_type": "execute_result",
          "data": {
            "text/plain": [
              "tensor([[0.5597, 0.7222, 0.0246, 0.7881, 0.5764, 0.8723, 0.2556, 0.8459],\n",
              "        [0.5711, 0.0549, 0.6994, 0.7004, 0.2471, 0.4058, 0.2898, 0.3827],\n",
              "        [0.1088, 0.5167, 0.2784, 0.9062, 0.8008, 0.8147, 0.2172, 0.0346],\n",
              "        [0.6953, 0.3183, 0.2391, 0.4596, 0.3527, 0.0544, 0.6472, 0.4276],\n",
              "        [0.7900, 0.4049, 0.5126, 0.7385, 0.7774, 0.9530, 0.5468, 0.5475],\n",
              "        [0.7231, 0.1877, 0.1518, 0.3517, 0.8369, 0.8111, 0.5639, 0.1773],\n",
              "        [0.3629, 0.4855, 0.4569, 0.6224, 0.4142, 0.5089, 0.0169, 0.3564],\n",
              "        [0.7756, 0.6584, 0.5914, 0.5885, 0.6702, 0.1066, 0.9760, 0.5905],\n",
              "        [0.4241, 0.3724, 0.0348, 0.1341, 0.4898, 0.5674, 0.9813, 0.7423],\n",
              "        [0.2887, 0.8415, 0.9420, 0.4821, 0.2535, 0.2211, 0.1387, 0.3414]])"
            ]
          },
          "metadata": {},
          "execution_count": 126
        }
      ]
    },
    {
      "cell_type": "code",
      "metadata": {
        "id": "4tvxpDe3Za9d",
        "colab": {
          "base_uri": "https://localhost:8080/",
          "height": 282
        },
        "outputId": "68bb0ce7-cf94-429a-c333-acb83b8e636a"
      },
      "source": [
        "#plot of two variables from generated samples\n",
        "plt.plot(final_generated_samples_df.iloc[:, 6], \n",
        "         final_generated_samples_df.iloc[:, 3], \".\")"
      ],
      "execution_count": null,
      "outputs": [
        {
          "output_type": "execute_result",
          "data": {
            "text/plain": [
              "[<matplotlib.lines.Line2D at 0x7fa693ee3910>]"
            ]
          },
          "metadata": {},
          "execution_count": 127
        },
        {
          "output_type": "display_data",
          "data": {
            "image/png": "[encoded data removed]",
            "text/plain": [
              "<Figure size 432x288 with 1 Axes>"
            ]
          },
          "metadata": {
            "needs_background": "light"
          }
        }
      ]
    },
    {
      "cell_type": "code",
      "metadata": {
        "id": "XIMG5PoX06OX"
      },
      "source": [
        "from scipy.spatial import distance"
      ],
      "execution_count": null,
      "outputs": []
    },
    {
      "cell_type": "code",
      "metadata": {
        "id": "RycK3PK_zDW0"
      },
      "source": [
        "float_x = real_samples[0].double()"
      ],
      "execution_count": null,
      "outputs": []
    },
    {
      "cell_type": "code",
      "metadata": {
        "id": "Y6D_uRDmDsKS"
      },
      "source": [
        "float_x = list(float_x.numpy())"
      ],
      "execution_count": null,
      "outputs": []
    },
    {
      "cell_type": "markdown",
      "metadata": {
        "id": "mP59c_ZQqUKQ"
      },
      "source": [
        ""
      ]
    },
    {
      "cell_type": "code",
      "metadata": {
        "id": "rf0t9hUt7Wc4",
        "colab": {
          "base_uri": "https://localhost:8080/"
        },
        "outputId": "db07f17a-c249-4e95-c354-e7c95154fed8"
      },
      "source": [
        "# Cosine similarity\n",
        "def square_rooted(x):\n",
        "   return round(math.sqrt(sum([a*a for a in x])),3)\n",
        "  \n",
        "def cosine_similarity(x,y):\n",
        " numerator = sum(a*b for a,b in zip(x,y))\n",
        " denominator = square_rooted(x)*square_rooted(y)\n",
        " return round(numerator/float(denominator),3)\n",
        "  \n",
        "print(cosine_similarity(final_generated_samples_df[0],float_x))"
      ],
      "execution_count": null,
      "outputs": [
        {
          "output_type": "stream",
          "name": "stdout",
          "text": [
            "0.238\n"
          ]
        }
      ]
    },
    {
      "cell_type": "code",
      "metadata": {
        "id": "vP1mzbkc79ik",
        "colab": {
          "base_uri": "https://localhost:8080/"
        },
        "outputId": "6b4e6884-67f3-45a7-b7c8-1214f4eb39f6"
      },
      "source": [
        "#Jaccard similarity\n",
        "from math import*\n",
        "  \n",
        "def jaccard_similarity(x,y):\n",
        " intersection_cardinality = len(set.intersection(*[set(x), set(y)]))\n",
        " union_cardinality = len(set.union(*[set(x), set(y)]))\n",
        " return intersection_cardinality/float(union_cardinality)\n",
        "print(jaccard_similarity([0,1,2,5,6],[0,2,3,5,7,9]))"
      ],
      "execution_count": null,
      "outputs": [
        {
          "output_type": "stream",
          "name": "stdout",
          "text": [
            "0.375\n"
          ]
        }
      ]
    },
    {
      "cell_type": "code",
      "metadata": {
        "id": "NP3So0XD8g60"
      },
      "source": [
        "import numpy as np\n",
        "import pandas as pd\n",
        "from sklearn.metrics import jaccard_score\n",
        "from sklearn.metrics.pairwise import pairwise_distances,cosine_similarity"
      ],
      "execution_count": null,
      "outputs": []
    },
    {
      "cell_type": "code",
      "metadata": {
        "id": "DCwHlEBVHgow"
      },
      "source": [
        "df9 = pd.DataFrame(scaler.inverse_transform(final_generated_samples_df))\n",
        "df10 = pd.DataFrame(scaler.inverse_transform(train_data_01))"
      ],
      "execution_count": null,
      "outputs": []
    },
    {
      "cell_type": "code",
      "metadata": {
        "id": "ji0flvFOBhuS"
      },
      "source": [
        "generated_vals2=[]\n",
        "for i, j in df9.iterrows():\n",
        "  generated_vals2.append(j.values)\n",
        "\n",
        "generated_vals3 = generated_vals2[:10]\n",
        "\n",
        "train_data_vals2=[]\n",
        "for i, j in train_data_001.iterrows():\n",
        "  train_data_vals2.append(j.values)\n"
      ],
      "execution_count": null,
      "outputs": []
    },
    {
      "cell_type": "markdown",
      "metadata": {
        "id": "uxYm6GBjoZG6"
      },
      "source": [
        ""
      ]
    },
    {
      "cell_type": "code",
      "metadata": {
        "id": "cM4Kbd01UDeF"
      },
      "source": [
        "def cos_similarity(x,d):\n",
        "  recommended = []  \n",
        "  for i in d:\n",
        "    a = cosine_similarity([x],[i])\n",
        "    recommended.append(a)\n",
        "  rec_score=max(recommended)\n",
        "  rec_index = recommended.index(rec_score)\n",
        "  rec_cos.append(rec_score)\n",
        "  rec_idx = df13.index[rec_index]\n",
        "  cos_name.append(rec_idx)\n",
        "  rec_len = len(recommended)\n",
        "  results1.append(['index:',rec_idx,'; cos sim:',rec_score])"
      ],
      "execution_count": null,
      "outputs": []
    },
    {
      "cell_type": "code",
      "metadata": {
        "id": "8GyLH48C0vPM"
      },
      "source": [
        "def euclid_similarity(x,d):\n",
        "  recommended = []  \n",
        "  for i in d:\n",
        "    a = distance.euclidean([x],[i])\n",
        "    recommended.append(a)\n",
        "  rec_score=min(recommended)\n",
        "  rec_index = recommended.index(rec_score)\n",
        "  rec_euc.append(rec_score)\n",
        "  rec_idx = df13.index[rec_index]\n",
        "  euc_name.append(rec_idx)\n",
        "  rec_len = len(recommended)\n",
        "  results2.append(['index:',rec_idx,'; euclid sim:',rec_score])"
      ],
      "execution_count": null,
      "outputs": []
    },
    {
      "cell_type": "code",
      "metadata": {
        "id": "j527TRLHyY2x",
        "colab": {
          "base_uri": "https://localhost:8080/"
        },
        "outputId": "c68032a6-d455-49b2-d9c4-4d3590c91cc4"
      },
      "source": [
        "dst = distance.euclidean(final_generated_samples_df.iloc[0,:].values,float_x)\n",
        "print('Euclidean distance: %.3f' % dst)"
      ],
      "execution_count": null,
      "outputs": [
        {
          "output_type": "stream",
          "name": "stdout",
          "text": [
            "Euclidean distance: 1.228\n"
          ]
        }
      ]
    },
    {
      "cell_type": "code",
      "metadata": {
        "id": "I5WphA_0Z9zV"
      },
      "source": [
        "# pick recommendations with cosine similarity\n",
        "results1 =[]\n",
        "cos_name =[]\n",
        "rec_cos = []\n",
        "for i in generated_vals2:\n",
        "  a = cos_similarity(i,train_data_vals2)"
      ],
      "execution_count": null,
      "outputs": []
    },
    {
      "cell_type": "code",
      "metadata": {
        "id": "iqO0J7Zlq2G_"
      },
      "source": [
        "cols2 = ['language']\n",
        "cos_rec =  df4[df4['track_name'].isin(cos_name)]\n",
        "cos_rec2 = cos_rec.drop(['playlist_id','track_id','track_name','track_artist'], axis=1)\n",
        "#cos_rec2[cols2] = cos_rec2[cols2].apply(LabelEncoder().fit_transform)\n",
        "cos_rec3 = cos_rec2.iloc[:1600,4:]"
      ],
      "execution_count": null,
      "outputs": []
    },
    {
      "cell_type": "code",
      "metadata": {
        "id": "QDk6KhE433zB"
      },
      "source": [
        "cos_rec4=[]\n",
        "for i, j in cos_rec3.iterrows():\n",
        "  cos_rec4.append(j.values)"
      ],
      "execution_count": null,
      "outputs": []
    },
    {
      "cell_type": "code",
      "metadata": {
        "id": "nC-_WcnkFKkQ"
      },
      "source": [
        "cos_rec3['track_name'] = df4['track_name']\n",
        "cos_rec5 = cos_rec3.set_index('track_name')"
      ],
      "execution_count": null,
      "outputs": []
    },
    {
      "cell_type": "code",
      "metadata": {
        "id": "epyouEYb0LlZ"
      },
      "source": [
        "rec_cose=[]\n",
        "for i in rec_cos:\n",
        "  rec_cose.append(i[0][0])"
      ],
      "execution_count": null,
      "outputs": []
    },
    {
      "cell_type": "code",
      "metadata": {
        "id": "I9txVZCn1Me7"
      },
      "source": [
        "# pick recommendations with euclidean similarity\n",
        "results2 =[]\n",
        "euc_name =[]\n",
        "rec_euc = []\n",
        "for i in generated_vals2:\n",
        "  a = euclid_similarity(i,train_data_vals2)"
      ],
      "execution_count": null,
      "outputs": []
    },
    {
      "cell_type": "code",
      "metadata": {
        "id": "3TOBzgYDw_6q"
      },
      "source": [
        "euc_rec =  df4[df4['track_name'].isin(euc_name)]\n",
        "euc_rec2 = euc_rec.drop(['playlist_id','track_id','track_name','track_artist'], axis=1)\n",
        "#euc_rec2[cols2] = euc_rec2[cols2].apply(LabelEncoder().fit_transform)\n",
        "euc_rec3 = euc_rec2.iloc[:1600,4:]"
      ],
      "execution_count": null,
      "outputs": []
    },
    {
      "cell_type": "code",
      "metadata": {
        "id": "FFxwgPxVGu66"
      },
      "source": [
        "euc_rec4=[]\n",
        "for i, j in euc_rec3.iterrows():\n",
        "  euc_rec4.append(j.values)"
      ],
      "execution_count": null,
      "outputs": []
    },
    {
      "cell_type": "code",
      "metadata": {
        "id": "HMl2sYUOGE7M"
      },
      "source": [
        "euc_rec3['track_name'] = df4['track_name']\n",
        "euc_rec5 = euc_rec3.set_index('track_name')"
      ],
      "execution_count": null,
      "outputs": []
    },
    {
      "cell_type": "code",
      "metadata": {
        "id": "SR1wtnOQsprP"
      },
      "source": [
        "testdf1_3 = testdf1_2\n",
        "testdf1_3['track_name'] = testdf1['track_name']\n",
        "testdf1_3 = testdf1_3.set_index('track_name')\n",
        "\n",
        "testdf2_3 = testdf2_2\n",
        "testdf2_3['track_name'] = testdf2['track_name']\n",
        "testdf2_3 = testdf2_3.set_index('track_name')\n",
        "\n",
        "testdf3_3 = testdf3_2\n",
        "testdf3_3['track_name'] = testdf3['track_name']\n",
        "testdf3_3 = testdf3_3.set_index('track_name')"
      ],
      "execution_count": null,
      "outputs": []
    },
    {
      "cell_type": "code",
      "metadata": {
        "id": "C976IH3Y745-"
      },
      "source": [
        "test_data1 = testdf1_3.values\n",
        "test_data2 = testdf2_3.values\n",
        "test_data3 = testdf3_3.values"
      ],
      "execution_count": null,
      "outputs": []
    },
    {
      "cell_type": "code",
      "metadata": {
        "id": "XWRXAtgRfQB_"
      },
      "source": [
        "def cos_similarity_t1(x,d):\n",
        "  recommended = []  \n",
        "  for i in d:\n",
        "    a = cosine_similarity([x],[i])\n",
        "    recommended.append(a)\n",
        "  rec_score=max(recommended)\n",
        "  rec_index = recommended.index(rec_score)\n",
        "  rec_cosT1.append(rec_score)\n",
        "  rec_idx = cos_rec5.index[rec_index]\n",
        "  cost1_name.append(rec_idx)\n",
        "  rec_len = len(recommended)\n",
        "  print('len train data:',rec_len,'; index:',rec_idx,'; cos sim:',rec_score)\n",
        "\n",
        "def euclid_similarity_t1(x,d):\n",
        "  recommended = []  \n",
        "  for i in d:\n",
        "    a = distance.euclidean([x],[i])\n",
        "    recommended.append(a)\n",
        "  rec_score=min(recommended)\n",
        "  rec_index = recommended.index(rec_score)\n",
        "  rec_eucT1.append(rec_score)\n",
        "  rec_idx = euc_rec5.index[rec_index]\n",
        "  euct1_name.append(rec_idx)\n",
        "  rec_len = len(recommended)\n",
        "  print('len train data:',rec_len,'; index:',rec_idx,'; euclid sim:',rec_score)"
      ],
      "execution_count": null,
      "outputs": []
    },
    {
      "cell_type": "code",
      "metadata": {
        "id": "v3iYXkcX8QJr",
        "colab": {
          "base_uri": "https://localhost:8080/"
        },
        "outputId": "57130ea3-129f-4b00-dfc8-1478befb7f86"
      },
      "source": [
        "#compare recomendations to test subjects\n",
        "cost1_name = []\n",
        "rec_cosT1 = []\n",
        "for i in test_data1:\n",
        "  a = cos_similarity_t1(i,cos_rec4)"
      ],
      "execution_count": null,
      "outputs": [
        {
          "output_type": "stream",
          "name": "stdout",
          "text": [
            "len train data: 61 ; index: Fvck Luv ; cos sim: [[0.99999334]]\n",
            "len train data: 61 ; index: Be As You Are - JordanXL Remix ; cos sim: [[0.99999584]]\n",
            "len train data: 61 ; index: The High Road ; cos sim: [[0.99999223]]\n",
            "len train data: 61 ; index: Eye of the Tiger ; cos sim: [[0.99999666]]\n",
            "len train data: 61 ; index: Be As You Are - JordanXL Remix ; cos sim: [[0.99998546]]\n",
            "len train data: 61 ; index: Iggin' Me ; cos sim: [[0.9999924]]\n",
            "len train data: 61 ; index: Iggin' Me ; cos sim: [[0.99999618]]\n",
            "len train data: 61 ; index: GANG ; cos sim: [[0.99999726]]\n",
            "len train data: 61 ; index: Fvck Luv ; cos sim: [[0.99999737]]\n",
            "len train data: 61 ; index: The Reason (Sean Cook Remix) ; cos sim: [[0.99999258]]\n"
          ]
        }
      ]
    },
    {
      "cell_type": "code",
      "metadata": {
        "id": "OgQfUT3W3nZ4"
      },
      "source": [
        "rec_coseT1=[]\n",
        "for i in rec_cosT1:\n",
        "  rec_coseT1.append(i[0][0])"
      ],
      "execution_count": null,
      "outputs": []
    },
    {
      "cell_type": "code",
      "metadata": {
        "colab": {
          "base_uri": "https://localhost:8080/"
        },
        "id": "0EqYmvatUATm",
        "outputId": "cf18c82e-385f-4394-ec0b-205c81ef38fa"
      },
      "source": [
        "euc_rec3.shape"
      ],
      "execution_count": null,
      "outputs": [
        {
          "output_type": "execute_result",
          "data": {
            "text/plain": [
              "(60, 9)"
            ]
          },
          "metadata": {},
          "execution_count": 153
        }
      ]
    },
    {
      "cell_type": "code",
      "metadata": {
        "id": "4vwnG9_x-1Gy",
        "colab": {
          "base_uri": "https://localhost:8080/"
        },
        "outputId": "c64035b0-25b5-4f3f-ebee-1661f073a8ef"
      },
      "source": [
        "euct1_name = []\n",
        "rec_eucT1 = []\n",
        "for i in test_data1:\n",
        "  a = euclid_similarity_t1(i,euc_rec4)"
      ],
      "execution_count": null,
      "outputs": [
        {
          "output_type": "stream",
          "name": "stdout",
          "text": [
            "len train data: 60 ; index: Show Me Love ; euclid sim: 2.1240837577647413\n",
            "len train data: 60 ; index: Big Area ; euclid sim: 0.7144277430223517\n",
            "len train data: 60 ; index: Blood - Remix ; euclid sim: 4.212957166884081\n",
            "len train data: 60 ; index: Loudspeaker ; euclid sim: 1.4876026821702035\n",
            "len train data: 60 ; index: All I Want for Christmas Is You ; euclid sim: 2.1586056934975457\n",
            "len train data: 60 ; index: It's Been Awhile ; euclid sim: 0.9548193243226628\n",
            "len train data: 60 ; index: They Don't Know ; euclid sim: 2.3028130818631314\n",
            "len train data: 60 ; index: Jungle ; euclid sim: 0.0\n",
            "len train data: 60 ; index: Saudi Arabi Money Rich - Babos Remix ; euclid sim: 7.129907868268702\n",
            "len train data: 60 ; index: One Dance ; euclid sim: 1.9877990850184077\n"
          ]
        }
      ]
    },
    {
      "cell_type": "code",
      "metadata": {
        "id": "a9IAbe8_f5MT"
      },
      "source": [
        "def cos_similarity_t2(x,d):\n",
        "  recommended = []  \n",
        "  for i in d:\n",
        "    a = cosine_similarity([x],[i])\n",
        "    recommended.append(a)\n",
        "  rec_score=max(recommended)\n",
        "  rec_index = recommended.index(rec_score)\n",
        "  rec_cosT2.append(rec_score)\n",
        "  rec_idx = cos_rec5.index[rec_index]\n",
        "  cost2_name.append(rec_idx)\n",
        "  rec_len = len(recommended)\n",
        "  print('len train data:',rec_len,'; index:',rec_idx,'; cos sim:',rec_score)\n",
        "\n",
        "def euclid_similarity_t2(x,d):\n",
        "  recommended = []  \n",
        "  for i in d:\n",
        "    a = distance.euclidean([x],[i])\n",
        "    recommended.append(a)\n",
        "  rec_score=min(recommended)\n",
        "  rec_index = recommended.index(rec_score)\n",
        "  rec_eucT2.append(rec_score)\n",
        "  rec_idx = euc_rec5.index[rec_index]\n",
        "  euct2_name.append(rec_idx)\n",
        "  rec_len = len(recommended)\n",
        "  print('len train data:',rec_len,'; index:',rec_idx,'; euclid sim:',rec_score)"
      ],
      "execution_count": null,
      "outputs": []
    },
    {
      "cell_type": "code",
      "metadata": {
        "id": "CYriMM1ck4Gx",
        "colab": {
          "base_uri": "https://localhost:8080/"
        },
        "outputId": "ee9f082f-7971-46bf-9b22-0a9c065da3a2"
      },
      "source": [
        "#compare recomendations to test subjects\n",
        "cost2_name = []\n",
        "rec_cosT2 = []\n",
        "for i in test_data2:\n",
        "  a = cos_similarity_t2(i,cos_rec4)"
      ],
      "execution_count": null,
      "outputs": [
        {
          "output_type": "stream",
          "name": "stdout",
          "text": [
            "len train data: 61 ; index: Eye of the Tiger ; cos sim: [[0.99998505]]\n",
            "len train data: 61 ; index: Mi Gente (feat. BeyoncÃ©) ; cos sim: [[0.99999618]]\n",
            "len train data: 61 ; index: Te Doy Mi Vida ; cos sim: [[0.99999544]]\n",
            "len train data: 61 ; index: Mi Gente (feat. BeyoncÃ©) ; cos sim: [[0.99999615]]\n",
            "len train data: 61 ; index: Stranger ; cos sim: [[0.99998039]]\n",
            "len train data: 61 ; index: Mi Gente (feat. BeyoncÃ©) ; cos sim: [[0.99999502]]\n",
            "len train data: 61 ; index: High Fashion (feat. Mustard) ; cos sim: [[0.99999562]]\n",
            "len train data: 61 ; index: Si Me Gano Un Grammy ; cos sim: [[0.99998044]]\n",
            "len train data: 61 ; index: Bette Davis Eyes ; cos sim: [[0.99999783]]\n",
            "len train data: 61 ; index: Cha Cha Cha ; cos sim: [[1.]]\n",
            "len train data: 61 ; index: Eye of the Tiger ; cos sim: [[0.99998628]]\n",
            "len train data: 61 ; index: Bette Davis Eyes ; cos sim: [[0.99999755]]\n",
            "len train data: 61 ; index: Changes ; cos sim: [[0.99999315]]\n",
            "len train data: 61 ; index: High Fashion (feat. Mustard) ; cos sim: [[0.99999242]]\n",
            "len train data: 61 ; index: All on Me ; cos sim: [[0.99999628]]\n",
            "len train data: 61 ; index: Limestone ; cos sim: [[0.99999172]]\n",
            "len train data: 61 ; index: Alone ; cos sim: [[0.99998326]]\n"
          ]
        }
      ]
    },
    {
      "cell_type": "code",
      "metadata": {
        "id": "ZAFU1-Mp2jsy"
      },
      "source": [
        "rec_coseT2=[]\n",
        "for i in rec_cosT2:\n",
        "  rec_coseT2.append(i[0][0])"
      ],
      "execution_count": null,
      "outputs": []
    },
    {
      "cell_type": "code",
      "metadata": {
        "id": "LGue-_WhuEqo",
        "colab": {
          "base_uri": "https://localhost:8080/"
        },
        "outputId": "7f77be14-329b-4d45-9cda-77a1327f4c6b"
      },
      "source": [
        "euct2_name =[]\n",
        "rec_eucT2 = []\n",
        "for i in test_data2:\n",
        "  a = euclid_similarity_t2(i,euc_rec4)"
      ],
      "execution_count": null,
      "outputs": [
        {
          "output_type": "stream",
          "name": "stdout",
          "text": [
            "len train data: 60 ; index: Handful Of Gold ; euclid sim: 3.198965956367781\n",
            "len train data: 60 ; index: Point of No Return ; euclid sim: 1.0429351801526254\n",
            "len train data: 60 ; index: Asi Yo Soy ; euclid sim: 2.0956683158362517\n",
            "len train data: 60 ; index: Miss You Much ; euclid sim: 0.0\n",
            "len train data: 60 ; index: Touch'N You ; euclid sim: 2.1158037621670083\n",
            "len train data: 60 ; index: One Dance ; euclid sim: 2.335136334349668\n",
            "len train data: 60 ; index: Kiss Me ; euclid sim: 0.6497295899064472\n",
            "len train data: 60 ; index: Switch ; euclid sim: 1.9970363951615875\n",
            "len train data: 60 ; index: Point of No Return ; euclid sim: 1.5060683550224299\n",
            "len train data: 60 ; index: Asi Yo Soy ; euclid sim: 1.7715454298436728\n",
            "len train data: 60 ; index: Haven't Got Time for the Pain ; euclid sim: 2.3983951732147872\n",
            "len train data: 60 ; index: Nails ; euclid sim: 1.452501104990976\n",
            "len train data: 60 ; index: Fake Plastic Trees ; euclid sim: 3.2997775455324283\n",
            "len train data: 60 ; index: One Dance ; euclid sim: 2.0984377642427225\n",
            "len train data: 60 ; index: Gangsta ; euclid sim: 5.032098157071262\n",
            "len train data: 60 ; index: Cornerstone ; euclid sim: 4.1571408131070084\n",
            "len train data: 60 ; index: Run Away ; euclid sim: 1.8037165998263185\n"
          ]
        }
      ]
    },
    {
      "cell_type": "code",
      "metadata": {
        "id": "GPEUMkQaL2i-"
      },
      "source": [
        "def cos_similarity_t3(x,d):\n",
        "  recommended = []  \n",
        "  for i in d:\n",
        "    a = cosine_similarity([x],[i])\n",
        "    recommended.append(a)\n",
        "  rec_score=max(recommended)\n",
        "  rec_index = recommended.index(rec_score)\n",
        "  rec_cosT3.append(rec_score)\n",
        "  rec_idx = cos_rec5.index[rec_index]\n",
        "  cost3_name.append(rec_idx)\n",
        "  rec_len = len(recommended)\n",
        "  print('len train data:',rec_len,'; index:',rec_idx,'; cos sim:',rec_score)\n",
        "\n",
        "def euclid_similarity_t3(x,d):\n",
        "  recommended = []  \n",
        "  for i in d:\n",
        "    a = distance.euclidean([x],[i])\n",
        "    recommended.append(a)\n",
        "  rec_score=min(recommended)\n",
        "  rec_index = recommended.index(rec_score)\n",
        "  rec_eucT3.append(rec_score)\n",
        "  rec_idx = euc_rec5.index[rec_index]\n",
        "  euct3_name.append(rec_idx)\n",
        "  rec_len = len(recommended)\n",
        "  print('len train data:',rec_len,'; index:',rec_idx,'; euclid sim:',rec_score)"
      ],
      "execution_count": null,
      "outputs": []
    },
    {
      "cell_type": "code",
      "metadata": {
        "id": "h7yHchNGL4IY",
        "colab": {
          "base_uri": "https://localhost:8080/"
        },
        "outputId": "f56f5e3e-ab6a-426a-bec3-56b984e43fb7"
      },
      "source": [
        "#compare recomendations to test subjects\n",
        "cost3_name = []\n",
        "rec_cosT3 = []\n",
        "for i in test_data3:\n",
        "  a = cos_similarity_t3(i,cos_rec4)"
      ],
      "execution_count": null,
      "outputs": [
        {
          "output_type": "stream",
          "name": "stdout",
          "text": [
            "len train data: 61 ; index: Dance The Night Away ; cos sim: [[0.99999188]]\n",
            "len train data: 61 ; index: Encanto ; cos sim: [[0.99999809]]\n",
            "len train data: 61 ; index: The Reason (Sean Cook Remix) ; cos sim: [[0.9999955]]\n",
            "len train data: 61 ; index: Be As You Are - JordanXL Remix ; cos sim: [[0.99999599]]\n",
            "len train data: 61 ; index: Mi Gente (feat. BeyoncÃ©) ; cos sim: [[0.99999153]]\n",
            "len train data: 61 ; index: Be As You Are - JordanXL Remix ; cos sim: [[0.99998541]]\n",
            "len train data: 61 ; index: Mi Gente (feat. BeyoncÃ©) ; cos sim: [[0.99999518]]\n",
            "len train data: 61 ; index: Intro ; cos sim: [[0.99997163]]\n",
            "len train data: 61 ; index: Changes ; cos sim: [[0.99998068]]\n",
            "len train data: 61 ; index: Rock Bottom ; cos sim: [[0.99999476]]\n",
            "len train data: 61 ; index: Limestone ; cos sim: [[0.9999833]]\n"
          ]
        }
      ]
    },
    {
      "cell_type": "code",
      "metadata": {
        "id": "DX7PNN4N2q4C"
      },
      "source": [
        "rec_coseT3=[]\n",
        "for i in rec_cosT3:\n",
        "  rec_coseT3.append(i[0][0])"
      ],
      "execution_count": null,
      "outputs": []
    },
    {
      "cell_type": "code",
      "metadata": {
        "id": "S22wN0m6L7J5",
        "colab": {
          "base_uri": "https://localhost:8080/"
        },
        "outputId": "9daf19cb-80ce-442b-f0f5-ad102c17660c"
      },
      "source": [
        "euct3_name = []\n",
        "rec_eucT3 = []\n",
        "for i in test_data3:\n",
        "  a = euclid_similarity_t3(i,euc_rec4)"
      ],
      "execution_count": null,
      "outputs": [
        {
          "output_type": "stream",
          "name": "stdout",
          "text": [
            "len train data: 60 ; index: Treat You Better - Ashworth Remix ; euclid sim: 2.0987286056086494\n",
            "len train data: 60 ; index: All on Me ; euclid sim: 0.48159602365466664\n",
            "len train data: 60 ; index: One Dance ; euclid sim: 1.1523963686162977\n",
            "len train data: 60 ; index: Saudi Arabi Money Rich - Babos Remix ; euclid sim: 1.095616621827633\n",
            "len train data: 60 ; index: The Middle ; euclid sim: 2.049622892143826\n",
            "len train data: 60 ; index: Sound of Madness ; euclid sim: 6.101418460377104\n",
            "len train data: 60 ; index: Sektion (feat. Branco & Gilli) ; euclid sim: 1.0766788146889508\n",
            "len train data: 60 ; index: Blessings ; euclid sim: 1.396004917613115\n",
            "len train data: 60 ; index: Loudspeaker ; euclid sim: 0.0\n",
            "len train data: 60 ; index: Fake Plastic Trees ; euclid sim: 2.497356760657162\n",
            "len train data: 60 ; index: Blessings ; euclid sim: 2.6958400175084543\n"
          ]
        }
      ]
    },
    {
      "cell_type": "code",
      "metadata": {
        "id": "AUCxAfmN7W-D"
      },
      "source": [
        "rec_coseT1.extend(rec_coseT2)"
      ],
      "execution_count": null,
      "outputs": []
    },
    {
      "cell_type": "code",
      "metadata": {
        "id": "pE6LJqcF_RGi"
      },
      "source": [
        "rec_coseT1.extend(rec_coseT3)"
      ],
      "execution_count": null,
      "outputs": []
    },
    {
      "cell_type": "code",
      "metadata": {
        "colab": {
          "base_uri": "https://localhost:8080/"
        },
        "id": "M4-bXg0QBSIL",
        "outputId": "234db5e1-5bbf-470e-c994-3c39251d8a97"
      },
      "source": [
        "print(rec_coseT1)"
      ],
      "execution_count": null,
      "outputs": [
        {
          "output_type": "stream",
          "name": "stdout",
          "text": [
            "[0.9999933367519975, 0.9999958366135604, 0.9999922259097692, 0.9999966581333073, 0.9999854604195221, 0.9999923994309148, 0.9999961786436556, 0.9999972589924081, 0.9999973724917952, 0.9999925814315758, 0.9999850455244005, 0.999996180813148, 0.9999954444068863, 0.9999961513542712, 0.9999803920483779, 0.9999950197482327, 0.9999956159695195, 0.9999804386178313, 0.999997832791965, 1.0000000000000002, 0.9999862827251608, 0.9999975473013035, 0.999993154117715, 0.9999924188638883, 0.9999962847765244, 0.9999917183510276, 0.9999832627409282, 0.9999918833613036, 0.9999980913992829, 0.9999955022403022, 0.9999959871404412, 0.9999915254061487, 0.9999854056848291, 0.9999951753025962, 0.9999716310844874, 0.9999806755289424, 0.9999947570876672, 0.9999833041458615]\n"
          ]
        }
      ]
    },
    {
      "cell_type": "code",
      "metadata": {
        "id": "mkzOzz8eBcui"
      },
      "source": [
        "rec_eucT1.extend(rec_eucT2)\n",
        "rec_eucT1.extend(rec_eucT3)"
      ],
      "execution_count": null,
      "outputs": []
    },
    {
      "cell_type": "code",
      "metadata": {
        "colab": {
          "base_uri": "https://localhost:8080/"
        },
        "id": "Jj8RrhgNEUAS",
        "outputId": "8b3955e6-ce3d-473c-cd28-126e3e7af0c7"
      },
      "source": [
        "print(rec_eucT1)"
      ],
      "execution_count": null,
      "outputs": [
        {
          "output_type": "stream",
          "name": "stdout",
          "text": [
            "[2.1240837577647413, 0.7144277430223517, 4.212957166884081, 1.4876026821702035, 2.1586056934975457, 0.9548193243226628, 2.3028130818631314, 0.0, 7.129907868268702, 1.9877990850184077, 3.198965956367781, 1.0429351801526254, 2.0956683158362517, 0.0, 2.1158037621670083, 2.335136334349668, 0.6497295899064472, 1.9970363951615875, 1.5060683550224299, 1.7715454298436728, 2.3983951732147872, 1.452501104990976, 3.2997775455324283, 2.0984377642427225, 5.032098157071262, 4.1571408131070084, 1.8037165998263185, 2.0987286056086494, 0.48159602365466664, 1.1523963686162977, 1.095616621827633, 2.049622892143826, 6.101418460377104, 1.0766788146889508, 1.396004917613115, 0.0, 2.497356760657162, 2.6958400175084543]\n"
          ]
        }
      ]
    },
    {
      "cell_type": "markdown",
      "metadata": {
        "id": "RwwqpeZCKM7x"
      },
      "source": [
        "The two hypotheses for this particular two sample t-test are as follows:\n",
        "\n",
        "H0: µ1 = µ2 (the two population means are equal)\n",
        "\n",
        "HA: µ1 ≠µ2 (the two population means are not equal)\n",
        "\n",
        "Because the p-value of our test (0.0595) is greater than alpha = 0.05, we fail to reject the null hypothesis of the test. We do not have sufficient evidence to say that the mean height of plants between the two populations is different."
      ]
    },
    {
      "cell_type": "code",
      "metadata": {
        "id": "xwYINgNrNr6w"
      },
      "source": [
        "df1_rec =  df4[df4['track_name'].isin(euct1_name)]\n",
        "df2_rec =  df4[df4['track_name'].isin(euct2_name)]\n",
        "df3_rec =  df4[df4['track_name'].isin(euct3_name)]\n",
        "dfc1_rec =  df4[df4['track_name'].isin(cost1_name)]\n",
        "dfc2_rec =  df4[df4['track_name'].isin(cost2_name)]\n",
        "dfc3_rec =  df4[df4['track_name'].isin(cost3_name)]"
      ],
      "execution_count": null,
      "outputs": []
    },
    {
      "cell_type": "code",
      "metadata": {
        "colab": {
          "base_uri": "https://localhost:8080/",
          "height": 359
        },
        "id": "iet08MM0Nyr3",
        "outputId": "863f304d-0db9-4cc5-b481-2d9785a53969"
      },
      "source": [
        "testing37 = df1_rec.iloc[:,[0,2]]\n",
        "testing37_dict = dict(zip(testing37.track_name, testing37.track_artist))\n",
        "eucdf1 = pd.DataFrame(euct1_name)\n",
        "eucdf1['artist'] = eucdf1[0].map(testing37_dict)\n",
        "eucdf1"
      ],
      "execution_count": null,
      "outputs": [
        {
          "output_type": "execute_result",
          "data": {
            "text/html": [
              "<div>\n",
              "<style scoped>\n",
              "    .dataframe tbody tr th:only-of-type {\n",
              "        vertical-align: middle;\n",
              "    }\n",
              "\n",
              "    .dataframe tbody tr th {\n",
              "        vertical-align: top;\n",
              "    }\n",
              "\n",
              "    .dataframe thead th {\n",
              "        text-align: right;\n",
              "    }\n",
              "</style>\n",
              "<table border=\"1\" class=\"dataframe\">\n",
              "  <thead>\n",
              "    <tr style=\"text-align: right;\">\n",
              "      <th></th>\n",
              "      <th>0</th>\n",
              "      <th>artist</th>\n",
              "    </tr>\n",
              "  </thead>\n",
              "  <tbody>\n",
              "    <tr>\n",
              "      <th>0</th>\n",
              "      <td>Show Me Love</td>\n",
              "      <td>Robin Schulz</td>\n",
              "    </tr>\n",
              "    <tr>\n",
              "      <th>1</th>\n",
              "      <td>Big Area</td>\n",
              "      <td>Then Jerico</td>\n",
              "    </tr>\n",
              "    <tr>\n",
              "      <th>2</th>\n",
              "      <td>Blood - Remix</td>\n",
              "      <td>Moonkey</td>\n",
              "    </tr>\n",
              "    <tr>\n",
              "      <th>3</th>\n",
              "      <td>Loudspeaker</td>\n",
              "      <td>MUNA</td>\n",
              "    </tr>\n",
              "    <tr>\n",
              "      <th>4</th>\n",
              "      <td>All I Want for Christmas Is You</td>\n",
              "      <td>Mariah Carey</td>\n",
              "    </tr>\n",
              "    <tr>\n",
              "      <th>5</th>\n",
              "      <td>It's Been Awhile</td>\n",
              "      <td>Staind</td>\n",
              "    </tr>\n",
              "    <tr>\n",
              "      <th>6</th>\n",
              "      <td>They Don't Know</td>\n",
              "      <td>Jon B.</td>\n",
              "    </tr>\n",
              "    <tr>\n",
              "      <th>7</th>\n",
              "      <td>Jungle</td>\n",
              "      <td>Tash Sultana</td>\n",
              "    </tr>\n",
              "    <tr>\n",
              "      <th>8</th>\n",
              "      <td>Saudi Arabi Money Rich - Babos Remix</td>\n",
              "      <td>Haftbefehl</td>\n",
              "    </tr>\n",
              "    <tr>\n",
              "      <th>9</th>\n",
              "      <td>One Dance</td>\n",
              "      <td>Drake</td>\n",
              "    </tr>\n",
              "  </tbody>\n",
              "</table>\n",
              "</div>"
            ],
            "text/plain": [
              "                                      0        artist\n",
              "0                          Show Me Love  Robin Schulz\n",
              "1                              Big Area   Then Jerico\n",
              "2                         Blood - Remix       Moonkey\n",
              "3                           Loudspeaker          MUNA\n",
              "4       All I Want for Christmas Is You  Mariah Carey\n",
              "5                      It's Been Awhile        Staind\n",
              "6                       They Don't Know        Jon B.\n",
              "7                                Jungle  Tash Sultana\n",
              "8  Saudi Arabi Money Rich - Babos Remix    Haftbefehl\n",
              "9                             One Dance         Drake"
            ]
          },
          "metadata": {},
          "execution_count": 169
        }
      ]
    },
    {
      "cell_type": "code",
      "metadata": {
        "colab": {
          "base_uri": "https://localhost:8080/",
          "height": 576
        },
        "id": "s8biuKXqN2n4",
        "outputId": "8a4e4e5c-90f6-4d69-c705-c0dca472c7f4"
      },
      "source": [
        "testing38 = df2_rec.iloc[:,[0,2]]\n",
        "testing38_dict = dict(zip(testing38.track_name, testing38.track_artist))\n",
        "eucdf2 = pd.DataFrame(euct2_name)\n",
        "eucdf2['artist'] = eucdf2[0].map(testing38_dict)\n",
        "eucdf2"
      ],
      "execution_count": null,
      "outputs": [
        {
          "output_type": "execute_result",
          "data": {
            "text/html": [
              "<div>\n",
              "<style scoped>\n",
              "    .dataframe tbody tr th:only-of-type {\n",
              "        vertical-align: middle;\n",
              "    }\n",
              "\n",
              "    .dataframe tbody tr th {\n",
              "        vertical-align: top;\n",
              "    }\n",
              "\n",
              "    .dataframe thead th {\n",
              "        text-align: right;\n",
              "    }\n",
              "</style>\n",
              "<table border=\"1\" class=\"dataframe\">\n",
              "  <thead>\n",
              "    <tr style=\"text-align: right;\">\n",
              "      <th></th>\n",
              "      <th>0</th>\n",
              "      <th>artist</th>\n",
              "    </tr>\n",
              "  </thead>\n",
              "  <tbody>\n",
              "    <tr>\n",
              "      <th>0</th>\n",
              "      <td>Handful Of Gold</td>\n",
              "      <td>CAZZETTE</td>\n",
              "    </tr>\n",
              "    <tr>\n",
              "      <th>1</th>\n",
              "      <td>Point of No Return</td>\n",
              "      <td>ExposÃ©</td>\n",
              "    </tr>\n",
              "    <tr>\n",
              "      <th>2</th>\n",
              "      <td>Asi Yo Soy</td>\n",
              "      <td>Zaturno</td>\n",
              "    </tr>\n",
              "    <tr>\n",
              "      <th>3</th>\n",
              "      <td>Miss You Much</td>\n",
              "      <td>Janet Jackson</td>\n",
              "    </tr>\n",
              "    <tr>\n",
              "      <th>4</th>\n",
              "      <td>Touch'N You</td>\n",
              "      <td>Rick Ross</td>\n",
              "    </tr>\n",
              "    <tr>\n",
              "      <th>5</th>\n",
              "      <td>One Dance</td>\n",
              "      <td>Drake</td>\n",
              "    </tr>\n",
              "    <tr>\n",
              "      <th>6</th>\n",
              "      <td>Kiss Me</td>\n",
              "      <td>Robert Falcon</td>\n",
              "    </tr>\n",
              "    <tr>\n",
              "      <th>7</th>\n",
              "      <td>Switch</td>\n",
              "      <td>Afrojack</td>\n",
              "    </tr>\n",
              "    <tr>\n",
              "      <th>8</th>\n",
              "      <td>Point of No Return</td>\n",
              "      <td>ExposÃ©</td>\n",
              "    </tr>\n",
              "    <tr>\n",
              "      <th>9</th>\n",
              "      <td>Asi Yo Soy</td>\n",
              "      <td>Zaturno</td>\n",
              "    </tr>\n",
              "    <tr>\n",
              "      <th>10</th>\n",
              "      <td>Haven't Got Time for the Pain</td>\n",
              "      <td>Carly Simon</td>\n",
              "    </tr>\n",
              "    <tr>\n",
              "      <th>11</th>\n",
              "      <td>Nails</td>\n",
              "      <td>Ghostemane</td>\n",
              "    </tr>\n",
              "    <tr>\n",
              "      <th>12</th>\n",
              "      <td>Fake Plastic Trees</td>\n",
              "      <td>Radiohead</td>\n",
              "    </tr>\n",
              "    <tr>\n",
              "      <th>13</th>\n",
              "      <td>One Dance</td>\n",
              "      <td>Drake</td>\n",
              "    </tr>\n",
              "    <tr>\n",
              "      <th>14</th>\n",
              "      <td>Gangsta</td>\n",
              "      <td>Darkoo</td>\n",
              "    </tr>\n",
              "    <tr>\n",
              "      <th>15</th>\n",
              "      <td>Cornerstone</td>\n",
              "      <td>Benjamin Clementine</td>\n",
              "    </tr>\n",
              "    <tr>\n",
              "      <th>16</th>\n",
              "      <td>Run Away</td>\n",
              "      <td>Real McCoy</td>\n",
              "    </tr>\n",
              "  </tbody>\n",
              "</table>\n",
              "</div>"
            ],
            "text/plain": [
              "                                0               artist\n",
              "0                 Handful Of Gold             CAZZETTE\n",
              "1              Point of No Return              ExposÃ©\n",
              "2                      Asi Yo Soy              Zaturno\n",
              "3                   Miss You Much        Janet Jackson\n",
              "4                     Touch'N You            Rick Ross\n",
              "5                       One Dance                Drake\n",
              "6                         Kiss Me        Robert Falcon\n",
              "7                          Switch             Afrojack\n",
              "8              Point of No Return              ExposÃ©\n",
              "9                      Asi Yo Soy              Zaturno\n",
              "10  Haven't Got Time for the Pain          Carly Simon\n",
              "11                          Nails           Ghostemane\n",
              "12             Fake Plastic Trees            Radiohead\n",
              "13                      One Dance                Drake\n",
              "14                        Gangsta               Darkoo\n",
              "15                    Cornerstone  Benjamin Clementine\n",
              "16                       Run Away           Real McCoy"
            ]
          },
          "metadata": {},
          "execution_count": 170
        }
      ]
    },
    {
      "cell_type": "code",
      "metadata": {
        "colab": {
          "base_uri": "https://localhost:8080/",
          "height": 390
        },
        "id": "f9FVM9ZFN9Kd",
        "outputId": "50c434c4-3eef-47ab-c607-31bcbb601f8e"
      },
      "source": [
        "testing39 = df3_rec.iloc[:,[0,2]]\n",
        "testing39_dict = dict(zip(testing39.track_name, testing39.track_artist))\n",
        "eucdf3 = pd.DataFrame(euct3_name)\n",
        "eucdf3['artist'] = eucdf3[0].map(testing39_dict)\n",
        "eucdf3"
      ],
      "execution_count": null,
      "outputs": [
        {
          "output_type": "execute_result",
          "data": {
            "text/html": [
              "<div>\n",
              "<style scoped>\n",
              "    .dataframe tbody tr th:only-of-type {\n",
              "        vertical-align: middle;\n",
              "    }\n",
              "\n",
              "    .dataframe tbody tr th {\n",
              "        vertical-align: top;\n",
              "    }\n",
              "\n",
              "    .dataframe thead th {\n",
              "        text-align: right;\n",
              "    }\n",
              "</style>\n",
              "<table border=\"1\" class=\"dataframe\">\n",
              "  <thead>\n",
              "    <tr style=\"text-align: right;\">\n",
              "      <th></th>\n",
              "      <th>0</th>\n",
              "      <th>artist</th>\n",
              "    </tr>\n",
              "  </thead>\n",
              "  <tbody>\n",
              "    <tr>\n",
              "      <th>0</th>\n",
              "      <td>Treat You Better - Ashworth Remix</td>\n",
              "      <td>Shawn Mendes</td>\n",
              "    </tr>\n",
              "    <tr>\n",
              "      <th>1</th>\n",
              "      <td>All on Me</td>\n",
              "      <td>Olivia King</td>\n",
              "    </tr>\n",
              "    <tr>\n",
              "      <th>2</th>\n",
              "      <td>One Dance</td>\n",
              "      <td>Drake</td>\n",
              "    </tr>\n",
              "    <tr>\n",
              "      <th>3</th>\n",
              "      <td>Saudi Arabi Money Rich - Babos Remix</td>\n",
              "      <td>Haftbefehl</td>\n",
              "    </tr>\n",
              "    <tr>\n",
              "      <th>4</th>\n",
              "      <td>The Middle</td>\n",
              "      <td>Zedd</td>\n",
              "    </tr>\n",
              "    <tr>\n",
              "      <th>5</th>\n",
              "      <td>Sound of Madness</td>\n",
              "      <td>Shinedown</td>\n",
              "    </tr>\n",
              "    <tr>\n",
              "      <th>6</th>\n",
              "      <td>Sektion (feat. Branco &amp; Gilli)</td>\n",
              "      <td>Benny Jamz</td>\n",
              "    </tr>\n",
              "    <tr>\n",
              "      <th>7</th>\n",
              "      <td>Blessings</td>\n",
              "      <td>Tropixx</td>\n",
              "    </tr>\n",
              "    <tr>\n",
              "      <th>8</th>\n",
              "      <td>Loudspeaker</td>\n",
              "      <td>MUNA</td>\n",
              "    </tr>\n",
              "    <tr>\n",
              "      <th>9</th>\n",
              "      <td>Fake Plastic Trees</td>\n",
              "      <td>Radiohead</td>\n",
              "    </tr>\n",
              "    <tr>\n",
              "      <th>10</th>\n",
              "      <td>Blessings</td>\n",
              "      <td>Tropixx</td>\n",
              "    </tr>\n",
              "  </tbody>\n",
              "</table>\n",
              "</div>"
            ],
            "text/plain": [
              "                                       0        artist\n",
              "0      Treat You Better - Ashworth Remix  Shawn Mendes\n",
              "1                              All on Me   Olivia King\n",
              "2                              One Dance         Drake\n",
              "3   Saudi Arabi Money Rich - Babos Remix    Haftbefehl\n",
              "4                             The Middle          Zedd\n",
              "5                       Sound of Madness     Shinedown\n",
              "6         Sektion (feat. Branco & Gilli)    Benny Jamz\n",
              "7                              Blessings       Tropixx\n",
              "8                            Loudspeaker          MUNA\n",
              "9                     Fake Plastic Trees     Radiohead\n",
              "10                             Blessings       Tropixx"
            ]
          },
          "metadata": {},
          "execution_count": 171
        }
      ]
    },
    {
      "cell_type": "code",
      "metadata": {
        "colab": {
          "base_uri": "https://localhost:8080/",
          "height": 359
        },
        "id": "RQ81zatSOAo4",
        "outputId": "d87f3e70-7fc6-4cf6-9f02-f0cfd2de47a0"
      },
      "source": [
        "testing40 = dfc1_rec.iloc[:,[0,2]]\n",
        "testing40_dict = dict(zip(testing40.track_name, testing40.track_artist))\n",
        "cosdf1 = pd.DataFrame(cost1_name)\n",
        "cosdf1['artist'] = cosdf1[0].map(testing40_dict)\n",
        "cosdf1"
      ],
      "execution_count": null,
      "outputs": [
        {
          "output_type": "execute_result",
          "data": {
            "text/html": [
              "<div>\n",
              "<style scoped>\n",
              "    .dataframe tbody tr th:only-of-type {\n",
              "        vertical-align: middle;\n",
              "    }\n",
              "\n",
              "    .dataframe tbody tr th {\n",
              "        vertical-align: top;\n",
              "    }\n",
              "\n",
              "    .dataframe thead th {\n",
              "        text-align: right;\n",
              "    }\n",
              "</style>\n",
              "<table border=\"1\" class=\"dataframe\">\n",
              "  <thead>\n",
              "    <tr style=\"text-align: right;\">\n",
              "      <th></th>\n",
              "      <th>0</th>\n",
              "      <th>artist</th>\n",
              "    </tr>\n",
              "  </thead>\n",
              "  <tbody>\n",
              "    <tr>\n",
              "      <th>0</th>\n",
              "      <td>Fvck Luv</td>\n",
              "      <td>Duki</td>\n",
              "    </tr>\n",
              "    <tr>\n",
              "      <th>1</th>\n",
              "      <td>Be As You Are - JordanXL Remix</td>\n",
              "      <td>Mike Posner</td>\n",
              "    </tr>\n",
              "    <tr>\n",
              "      <th>2</th>\n",
              "      <td>The High Road</td>\n",
              "      <td>Joss Stone</td>\n",
              "    </tr>\n",
              "    <tr>\n",
              "      <th>3</th>\n",
              "      <td>Eye of the Tiger</td>\n",
              "      <td>Survivor</td>\n",
              "    </tr>\n",
              "    <tr>\n",
              "      <th>4</th>\n",
              "      <td>Be As You Are - JordanXL Remix</td>\n",
              "      <td>Mike Posner</td>\n",
              "    </tr>\n",
              "    <tr>\n",
              "      <th>5</th>\n",
              "      <td>Iggin' Me</td>\n",
              "      <td>Chico DeBarge</td>\n",
              "    </tr>\n",
              "    <tr>\n",
              "      <th>6</th>\n",
              "      <td>Iggin' Me</td>\n",
              "      <td>Chico DeBarge</td>\n",
              "    </tr>\n",
              "    <tr>\n",
              "      <th>7</th>\n",
              "      <td>GANG</td>\n",
              "      <td>Rain</td>\n",
              "    </tr>\n",
              "    <tr>\n",
              "      <th>8</th>\n",
              "      <td>Fvck Luv</td>\n",
              "      <td>Duki</td>\n",
              "    </tr>\n",
              "    <tr>\n",
              "      <th>9</th>\n",
              "      <td>The Reason (Sean Cook Remix)</td>\n",
              "      <td>Urban Rescue</td>\n",
              "    </tr>\n",
              "  </tbody>\n",
              "</table>\n",
              "</div>"
            ],
            "text/plain": [
              "                                0         artist\n",
              "0                        Fvck Luv           Duki\n",
              "1  Be As You Are - JordanXL Remix    Mike Posner\n",
              "2                   The High Road     Joss Stone\n",
              "3                Eye of the Tiger       Survivor\n",
              "4  Be As You Are - JordanXL Remix    Mike Posner\n",
              "5                       Iggin' Me  Chico DeBarge\n",
              "6                       Iggin' Me  Chico DeBarge\n",
              "7                            GANG           Rain\n",
              "8                        Fvck Luv           Duki\n",
              "9    The Reason (Sean Cook Remix)   Urban Rescue"
            ]
          },
          "metadata": {},
          "execution_count": 172
        }
      ]
    },
    {
      "cell_type": "code",
      "metadata": {
        "colab": {
          "base_uri": "https://localhost:8080/",
          "height": 576
        },
        "id": "WfGSIGgUOEL6",
        "outputId": "b768d3b4-bac9-413b-fe0f-f45a45533c54"
      },
      "source": [
        "testing41 = dfc2_rec.iloc[:,[0,2]]\n",
        "testing41_dict = dict(zip(testing41.track_name, testing41.track_artist))\n",
        "cosdf2 = pd.DataFrame(cost2_name)\n",
        "cosdf2['artist'] = cosdf2[0].map(testing41_dict)\n",
        "cosdf2"
      ],
      "execution_count": null,
      "outputs": [
        {
          "output_type": "execute_result",
          "data": {
            "text/html": [
              "<div>\n",
              "<style scoped>\n",
              "    .dataframe tbody tr th:only-of-type {\n",
              "        vertical-align: middle;\n",
              "    }\n",
              "\n",
              "    .dataframe tbody tr th {\n",
              "        vertical-align: top;\n",
              "    }\n",
              "\n",
              "    .dataframe thead th {\n",
              "        text-align: right;\n",
              "    }\n",
              "</style>\n",
              "<table border=\"1\" class=\"dataframe\">\n",
              "  <thead>\n",
              "    <tr style=\"text-align: right;\">\n",
              "      <th></th>\n",
              "      <th>0</th>\n",
              "      <th>artist</th>\n",
              "    </tr>\n",
              "  </thead>\n",
              "  <tbody>\n",
              "    <tr>\n",
              "      <th>0</th>\n",
              "      <td>Eye of the Tiger</td>\n",
              "      <td>Survivor</td>\n",
              "    </tr>\n",
              "    <tr>\n",
              "      <th>1</th>\n",
              "      <td>Mi Gente (feat. BeyoncÃ©)</td>\n",
              "      <td>J Balvin</td>\n",
              "    </tr>\n",
              "    <tr>\n",
              "      <th>2</th>\n",
              "      <td>Te Doy Mi Vida</td>\n",
              "      <td>Lucas Arnau</td>\n",
              "    </tr>\n",
              "    <tr>\n",
              "      <th>3</th>\n",
              "      <td>Mi Gente (feat. BeyoncÃ©)</td>\n",
              "      <td>J Balvin</td>\n",
              "    </tr>\n",
              "    <tr>\n",
              "      <th>4</th>\n",
              "      <td>Stranger</td>\n",
              "      <td>MOTHXR</td>\n",
              "    </tr>\n",
              "    <tr>\n",
              "      <th>5</th>\n",
              "      <td>Mi Gente (feat. BeyoncÃ©)</td>\n",
              "      <td>J Balvin</td>\n",
              "    </tr>\n",
              "    <tr>\n",
              "      <th>6</th>\n",
              "      <td>High Fashion (feat. Mustard)</td>\n",
              "      <td>Roddy Ricch</td>\n",
              "    </tr>\n",
              "    <tr>\n",
              "      <th>7</th>\n",
              "      <td>Si Me Gano Un Grammy</td>\n",
              "      <td>Jon Z</td>\n",
              "    </tr>\n",
              "    <tr>\n",
              "      <th>8</th>\n",
              "      <td>Bette Davis Eyes</td>\n",
              "      <td>Kim Carnes</td>\n",
              "    </tr>\n",
              "    <tr>\n",
              "      <th>9</th>\n",
              "      <td>Cha Cha Cha</td>\n",
              "      <td>MC Lyte</td>\n",
              "    </tr>\n",
              "    <tr>\n",
              "      <th>10</th>\n",
              "      <td>Eye of the Tiger</td>\n",
              "      <td>Survivor</td>\n",
              "    </tr>\n",
              "    <tr>\n",
              "      <th>11</th>\n",
              "      <td>Bette Davis Eyes</td>\n",
              "      <td>Kim Carnes</td>\n",
              "    </tr>\n",
              "    <tr>\n",
              "      <th>12</th>\n",
              "      <td>Changes</td>\n",
              "      <td>2Pac</td>\n",
              "    </tr>\n",
              "    <tr>\n",
              "      <th>13</th>\n",
              "      <td>High Fashion (feat. Mustard)</td>\n",
              "      <td>Roddy Ricch</td>\n",
              "    </tr>\n",
              "    <tr>\n",
              "      <th>14</th>\n",
              "      <td>All on Me</td>\n",
              "      <td>Olivia King</td>\n",
              "    </tr>\n",
              "    <tr>\n",
              "      <th>15</th>\n",
              "      <td>Limestone</td>\n",
              "      <td>Magic City Hippies</td>\n",
              "    </tr>\n",
              "    <tr>\n",
              "      <th>16</th>\n",
              "      <td>Alone</td>\n",
              "      <td>Alan Walker</td>\n",
              "    </tr>\n",
              "  </tbody>\n",
              "</table>\n",
              "</div>"
            ],
            "text/plain": [
              "                               0              artist\n",
              "0               Eye of the Tiger            Survivor\n",
              "1      Mi Gente (feat. BeyoncÃ©)            J Balvin\n",
              "2                 Te Doy Mi Vida         Lucas Arnau\n",
              "3      Mi Gente (feat. BeyoncÃ©)            J Balvin\n",
              "4                       Stranger              MOTHXR\n",
              "5      Mi Gente (feat. BeyoncÃ©)            J Balvin\n",
              "6   High Fashion (feat. Mustard)         Roddy Ricch\n",
              "7           Si Me Gano Un Grammy               Jon Z\n",
              "8               Bette Davis Eyes          Kim Carnes\n",
              "9                    Cha Cha Cha             MC Lyte\n",
              "10              Eye of the Tiger            Survivor\n",
              "11              Bette Davis Eyes          Kim Carnes\n",
              "12                       Changes                2Pac\n",
              "13  High Fashion (feat. Mustard)         Roddy Ricch\n",
              "14                     All on Me         Olivia King\n",
              "15                     Limestone  Magic City Hippies\n",
              "16                         Alone         Alan Walker"
            ]
          },
          "metadata": {},
          "execution_count": 173
        }
      ]
    },
    {
      "cell_type": "code",
      "metadata": {
        "colab": {
          "base_uri": "https://localhost:8080/",
          "height": 390
        },
        "id": "-lJsmYJyOHUY",
        "outputId": "76821f24-adac-4900-f627-4d7133b033a0"
      },
      "source": [
        "testing42 = dfc3_rec.iloc[:,[0,2]]\n",
        "testing42_dict = dict(zip(testing42.track_name, testing42.track_artist))\n",
        "cosdf3 = pd.DataFrame(cost3_name)\n",
        "cosdf3['artist'] = cosdf3[0].map(testing42_dict)\n",
        "cosdf3"
      ],
      "execution_count": null,
      "outputs": [
        {
          "output_type": "execute_result",
          "data": {
            "text/html": [
              "<div>\n",
              "<style scoped>\n",
              "    .dataframe tbody tr th:only-of-type {\n",
              "        vertical-align: middle;\n",
              "    }\n",
              "\n",
              "    .dataframe tbody tr th {\n",
              "        vertical-align: top;\n",
              "    }\n",
              "\n",
              "    .dataframe thead th {\n",
              "        text-align: right;\n",
              "    }\n",
              "</style>\n",
              "<table border=\"1\" class=\"dataframe\">\n",
              "  <thead>\n",
              "    <tr style=\"text-align: right;\">\n",
              "      <th></th>\n",
              "      <th>0</th>\n",
              "      <th>artist</th>\n",
              "    </tr>\n",
              "  </thead>\n",
              "  <tbody>\n",
              "    <tr>\n",
              "      <th>0</th>\n",
              "      <td>Dance The Night Away</td>\n",
              "      <td>Van Halen</td>\n",
              "    </tr>\n",
              "    <tr>\n",
              "      <th>1</th>\n",
              "      <td>Encanto</td>\n",
              "      <td>Don Omar</td>\n",
              "    </tr>\n",
              "    <tr>\n",
              "      <th>2</th>\n",
              "      <td>The Reason (Sean Cook Remix)</td>\n",
              "      <td>Urban Rescue</td>\n",
              "    </tr>\n",
              "    <tr>\n",
              "      <th>3</th>\n",
              "      <td>Be As You Are - JordanXL Remix</td>\n",
              "      <td>Mike Posner</td>\n",
              "    </tr>\n",
              "    <tr>\n",
              "      <th>4</th>\n",
              "      <td>Mi Gente (feat. BeyoncÃ©)</td>\n",
              "      <td>J Balvin</td>\n",
              "    </tr>\n",
              "    <tr>\n",
              "      <th>5</th>\n",
              "      <td>Be As You Are - JordanXL Remix</td>\n",
              "      <td>Mike Posner</td>\n",
              "    </tr>\n",
              "    <tr>\n",
              "      <th>6</th>\n",
              "      <td>Mi Gente (feat. BeyoncÃ©)</td>\n",
              "      <td>J Balvin</td>\n",
              "    </tr>\n",
              "    <tr>\n",
              "      <th>7</th>\n",
              "      <td>Intro</td>\n",
              "      <td>Gzuz</td>\n",
              "    </tr>\n",
              "    <tr>\n",
              "      <th>8</th>\n",
              "      <td>Changes</td>\n",
              "      <td>2Pac</td>\n",
              "    </tr>\n",
              "    <tr>\n",
              "      <th>9</th>\n",
              "      <td>Rock Bottom</td>\n",
              "      <td>grandson</td>\n",
              "    </tr>\n",
              "    <tr>\n",
              "      <th>10</th>\n",
              "      <td>Limestone</td>\n",
              "      <td>Magic City Hippies</td>\n",
              "    </tr>\n",
              "  </tbody>\n",
              "</table>\n",
              "</div>"
            ],
            "text/plain": [
              "                                 0              artist\n",
              "0             Dance The Night Away           Van Halen\n",
              "1                          Encanto            Don Omar\n",
              "2     The Reason (Sean Cook Remix)        Urban Rescue\n",
              "3   Be As You Are - JordanXL Remix         Mike Posner\n",
              "4        Mi Gente (feat. BeyoncÃ©)            J Balvin\n",
              "5   Be As You Are - JordanXL Remix         Mike Posner\n",
              "6        Mi Gente (feat. BeyoncÃ©)            J Balvin\n",
              "7                            Intro                Gzuz\n",
              "8                          Changes                2Pac\n",
              "9                      Rock Bottom            grandson\n",
              "10                       Limestone  Magic City Hippies"
            ]
          },
          "metadata": {},
          "execution_count": 174
        }
      ]
    },
    {
      "cell_type": "code",
      "metadata": {
        "id": "fzV6eCy5OsP6"
      },
      "source": [
        "NMrec_coseT1 = [0.9999882565562278, 0.9999979657721999, 0.9999923315617796, 0.9999746647186672, 0.9999901937205865, 0.9999706879428859, 0.9999924474371015, 0.9999880066636926, 0.9999949362641557, 0.9999965341681638, 0.9999936206901414, 0.9999965721246039, 0.9999959190435552, 0.9999946435235009, 0.9999952057741548, 0.9999872392137804, 0.9999859006190891, 0.9999901625784263, 0.9999811356355937, 1.0000000000000002, 0.9999874616201471, 0.9999951986407136, 0.999976208736606, 0.9999935849885221, 0.999985199829622, 0.9999697845137847, 1.0000000000000002, 0.9999880504097526, 0.9999833384467354, 0.9999986641236054, 0.9999817025765818, 0.9999898416831324, 0.9999933611849076, 0.99996833069327, 0.9999600371403314, 0.9999999999999998, 1.0000000000000002, 0.9999863089756407]"
      ],
      "execution_count": null,
      "outputs": []
    },
    {
      "cell_type": "code",
      "metadata": {
        "id": "TZdVyLw9OpjR"
      },
      "source": [
        "EMrec_eucT1 = [2.407115927827317, 2.1227171705387295, 4.428556579981792, 2.197995593739894, 1.133499480833143, 1.250204570333929, 2.2072286900092637, 0.0, 4.4912641608460175, 1.4601177966224683, 1.8295074798865971, 1.939226915350311, 1.084095862919881, 1.116991413594705, 4.709134523475078, 2.035558851642454, 1.1725702367186985, 0.6141327507957888, 2.8147316651397443, 1.7313928641414678, 1.0622312904918578, 1.1790049733536883, 4.563023780345656, 2.8010729801274317, 20.15725075282835, 6.859939086548072, 0.9709992636601236, 1.454692714789706, 3.1254399877535644, 2.2184701844289014, 3.6878526751383274, 4.126718822454468, 7.898767420458693, 1.6347041395558488, 2.245660591006576, 2.2062962380650535, 5.008351012759326, 2.4266590922009037]"
      ],
      "execution_count": null,
      "outputs": []
    },
    {
      "cell_type": "code",
      "metadata": {
        "colab": {
          "base_uri": "https://localhost:8080/"
        },
        "id": "PPJp7-NCOYm5",
        "outputId": "377bc3d3-5bd2-40a5-fe22-382f8f983881"
      },
      "source": [
        "from scipy import stats\n",
        "#stats.ttest_ind(rec_eucT1, EMrec_eucT1,equal_var = False)\n",
        "stats.ttest_rel(rec_eucT1, EMrec_eucT1)"
      ],
      "execution_count": null,
      "outputs": [
        {
          "output_type": "execute_result",
          "data": {
            "text/plain": [
              "Ttest_relResult(statistic=-2.0141339369626374, pvalue=0.05130902869846177)"
            ]
          },
          "metadata": {},
          "execution_count": 177
        }
      ]
    },
    {
      "cell_type": "code",
      "metadata": {
        "colab": {
          "base_uri": "https://localhost:8080/"
        },
        "id": "qROCFX7yOcsJ",
        "outputId": "ce847461-1307-44cb-b965-4457bf595e32"
      },
      "source": [
        "import scipy.stats as stats\n",
        "#stats.ttest_ind(rec_coseT1, b=NMrec_coseT1, equal_var=False)\n",
        "stats.ttest_rel(rec_coseT1, b=NMrec_coseT1)"
      ],
      "execution_count": null,
      "outputs": [
        {
          "output_type": "execute_result",
          "data": {
            "text/plain": [
              "Ttest_relResult(statistic=1.799577074555737, pvalue=0.08008669820139003)"
            ]
          },
          "metadata": {},
          "execution_count": 178
        }
      ]
    }
  ]
}