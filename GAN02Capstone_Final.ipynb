{
  "nbformat": 4,
  "nbformat_minor": 0,
  "metadata": {
    "colab": {
      "name": "GAN02Capstone_Final.ipynb",
      "provenance": [],
      "collapsed_sections": []
    },
    "kernelspec": {
      "name": "python3",
      "display_name": "Python 3"
    },
    "language_info": {
      "name": "python"
    }
  },
  "cells": [
    {
      "cell_type": "code",
      "metadata": {
        "id": "YQCZ3H_2TxIZ"
      },
      "source": [
        "import torch\n",
        "from torch import nn\n",
        "from torch.utils.data import DataLoader\n",
        "import math\n",
        "import matplotlib.pyplot as plt\n",
        "import numpy as np\n",
        "import io\n",
        "import pandas as pd\n",
        "from imblearn.over_sampling import SMOTE\n",
        "from collections import Counter\n",
        "from matplotlib import pyplot\n",
        "from sklearn.preprocessing import MinMaxScaler\n",
        "import warnings\n",
        "warnings.filterwarnings('ignore')"
      ],
      "execution_count": 193,
      "outputs": []
    },
    {
      "cell_type": "code",
      "metadata": {
        "id": "c5IpolGoaZzL"
      },
      "source": [
        "url = 'https://raw.githubusercontent.com/trishattah/Capstone/main/spotify_songs-2_00.csv'\n",
        "df2 = pd.read_csv(url)"
      ],
      "execution_count": 194,
      "outputs": []
    },
    {
      "cell_type": "code",
      "metadata": {
        "colab": {
          "base_uri": "https://localhost:8080/"
        },
        "id": "6uh2NseX2OXP",
        "outputId": "405cf983-0eb5-4c97-cd39-a1aae90bcd41"
      },
      "source": [
        "df2.shape"
      ],
      "execution_count": 195,
      "outputs": [
        {
          "output_type": "execute_result",
          "data": {
            "text/plain": [
              "(19140, 16)"
            ]
          },
          "metadata": {},
          "execution_count": 195
        }
      ]
    },
    {
      "cell_type": "code",
      "metadata": {
        "colab": {
          "base_uri": "https://localhost:8080/"
        },
        "id": "7LAoeVVh2oVB",
        "outputId": "48509837-d24b-4dee-9607-bd71586a671d"
      },
      "source": [
        "df2.isnull().sum(axis = 0)"
      ],
      "execution_count": 196,
      "outputs": [
        {
          "output_type": "execute_result",
          "data": {
            "text/plain": [
              "track_name              0\n",
              "track_id                0\n",
              "track_artist            0\n",
              "playlist_id             0\n",
              "track_popularity        0\n",
              "loudness                0\n",
              "instrumentalness        0\n",
              "key                     0\n",
              "speechiness             0\n",
              "acousticness            0\n",
              "danceability            0\n",
              "liveness                0\n",
              "tempo                   0\n",
              "energy                  0\n",
              "valence                 0\n",
              "emotion             16650\n",
              "dtype: int64"
            ]
          },
          "metadata": {},
          "execution_count": 196
        }
      ]
    },
    {
      "cell_type": "code",
      "metadata": {
        "id": "BOfZ1LsBb3Z_"
      },
      "source": [
        "#url = 'https://raw.githubusercontent.com/trishattah/Capstone/main/Emotion_Labels.csv'\n",
        "#df3 = pd.read_csv(url)"
      ],
      "execution_count": 197,
      "outputs": []
    },
    {
      "cell_type": "code",
      "metadata": {
        "id": "KwLUDpea0D_T"
      },
      "source": [
        "#df4 = pd.merge(df2,df3,on='track_id')\n",
        "#df4 = df2.drop(['Unnamed: 19'], axis=1)\n",
        "df4=df2"
      ],
      "execution_count": 198,
      "outputs": []
    },
    {
      "cell_type": "code",
      "metadata": {
        "colab": {
          "base_uri": "https://localhost:8080/"
        },
        "id": "paij6qTxqtvn",
        "outputId": "c6d8c45e-2f05-409e-ef8c-b061c8a5ca01"
      },
      "source": [
        "df4 = df4.dropna()\n",
        "df4.shape"
      ],
      "execution_count": 199,
      "outputs": [
        {
          "output_type": "execute_result",
          "data": {
            "text/plain": [
              "(2490, 16)"
            ]
          },
          "metadata": {},
          "execution_count": 199
        }
      ]
    },
    {
      "cell_type": "code",
      "metadata": {
        "colab": {
          "base_uri": "https://localhost:8080/"
        },
        "id": "rcEu57ehv2fp",
        "outputId": "b69e7a46-f674-4041-cdf8-fca5f5fc6650"
      },
      "source": [
        "df4['playlist_id'].value_counts()"
      ],
      "execution_count": 200,
      "outputs": [
        {
          "output_type": "execute_result",
          "data": {
            "text/plain": [
              "sub                       686\n",
              "3ykXidKLz1eYPvuGoFlD1e     17\n",
              "37i9dQZF1DWUFmyho2wkQU     15\n",
              "4NlAd9NpIa92IjErMyAriM     13\n",
              "44bkJI1QGkT2O0GYJSsbkp     12\n",
              "                         ... \n",
              "03qQtbNHoJuFezRu2CnLuF      1\n",
              "37i9dQZF1DWTDafB3skWPN      1\n",
              "2wP2UAYC4Nqb6oUXkMJlAz      1\n",
              "3kysJw7lvVwSoOaL0KyW94      1\n",
              "37i9dQZF1DX1ct2TQrAvRf      1\n",
              "Name: playlist_id, Length: 414, dtype: int64"
            ]
          },
          "metadata": {},
          "execution_count": 200
        }
      ]
    },
    {
      "cell_type": "code",
      "metadata": {
        "id": "zhHvotdp3evO"
      },
      "source": [
        "from sklearn.preprocessing import LabelEncoder\n",
        "le = LabelEncoder()\n",
        "\n",
        "df11 = df2.drop(['playlist_id','track_id','track_name','track_artist'], axis=1)\n",
        "cols = ['language', 'playlist_genre']\n",
        "#df11[cols] = df11[cols].apply(LabelEncoder().fit_transform)\n",
        "\n",
        "df12 = df2.set_index('track_name')"
      ],
      "execution_count": 201,
      "outputs": []
    },
    {
      "cell_type": "code",
      "metadata": {
        "id": "gh5zkMZ3x43G"
      },
      "source": [
        "testdf = df4[df4['playlist_id'].isin(['5jROYSZSL7cO0jGAqkPx7C', '3ykXidKLz1eYPvuGoFlD1e','4hKPJNFIhdAg4pAksn78FJ'])]\n",
        "testdf1 =  df4[df4['playlist_id'].isin(['5jROYSZSL7cO0jGAqkPx7C'])]\n",
        "testdf2 = df4[df4['playlist_id'].isin(['3ykXidKLz1eYPvuGoFlD1e'])]\n",
        "testdf3 = df4[df4['playlist_id'].isin(['4hKPJNFIhdAg4pAksn78FJ'])]"
      ],
      "execution_count": 202,
      "outputs": []
    },
    {
      "cell_type": "code",
      "metadata": {
        "id": "dct1kTdS0MYc"
      },
      "source": [
        "testdf1_1 = testdf1.drop(['playlist_id','track_id','track_name','track_artist'], axis=1)\n",
        "testdf2_1 = testdf2.drop(['playlist_id','track_id','track_name','track_artist'], axis=1)\n",
        "testdf3_1 = testdf3.drop(['playlist_id','track_id','track_name','track_artist'], axis=1)"
      ],
      "execution_count": 207,
      "outputs": []
    },
    {
      "cell_type": "code",
      "metadata": {
        "id": "URnxJyAXzAUk"
      },
      "source": [
        "df5 = df4[~df4['playlist_id'].isin(['4hKPJNFIhdAg4pAksn78FJ', '3ykXidKLz1eYPvuGoFlD1e','4hKPJNFIhdAg4pAksn78FJ'])]"
      ],
      "execution_count": 208,
      "outputs": []
    },
    {
      "cell_type": "code",
      "metadata": {
        "id": "0CtwpX2P39KH"
      },
      "source": [
        "pd.set_option('display.max_columns', None)"
      ],
      "execution_count": 209,
      "outputs": []
    },
    {
      "cell_type": "code",
      "metadata": {
        "id": "iFpwP8Vz1hHY"
      },
      "source": [
        "df5 = df4.drop(['playlist_id','track_id','track_name','track_artist'], axis=1)\n",
        "df5['emotion'] = df5['emotion'].astype(int)"
      ],
      "execution_count": 210,
      "outputs": []
    },
    {
      "cell_type": "code",
      "metadata": {
        "id": "7CAVYhDW9UJ3"
      },
      "source": [
        "#df5.head(2)"
      ],
      "execution_count": 295,
      "outputs": []
    },
    {
      "cell_type": "code",
      "metadata": {
        "id": "PUNlxqKOIklG"
      },
      "source": [
        "#cols = ['language', 'playlist_genre']\n",
        "#df5[cols] = df5[cols].apply(LabelEncoder().fit_transform)"
      ],
      "execution_count": 212,
      "outputs": []
    },
    {
      "cell_type": "code",
      "metadata": {
        "id": "mDPWs3JO9gvP"
      },
      "source": [
        "df11 = df5"
      ],
      "execution_count": 213,
      "outputs": []
    },
    {
      "cell_type": "code",
      "metadata": {
        "id": "J7DROiWZ9vQB"
      },
      "source": [
        "df11['track_name'] = df4['track_name']\n",
        "df5 = df5.drop(['track_name'], axis=1)"
      ],
      "execution_count": 214,
      "outputs": []
    },
    {
      "cell_type": "code",
      "metadata": {
        "id": "eIIXCY014PaV"
      },
      "source": [
        "df12 = df11.set_index('track_name')"
      ],
      "execution_count": 215,
      "outputs": []
    },
    {
      "cell_type": "code",
      "metadata": {
        "id": "kVtiVv8S0rdE"
      },
      "source": [
        "#testdf1_1[cols] = testdf1_1[cols].apply(LabelEncoder().fit_transform)\n",
        "#testdf2_1[cols] = testdf2_1[cols].apply(LabelEncoder().fit_transform)\n",
        "#testdf3_1[cols] = testdf3_1[cols].apply(LabelEncoder().fit_transform)"
      ],
      "execution_count": 216,
      "outputs": []
    },
    {
      "cell_type": "code",
      "metadata": {
        "colab": {
          "base_uri": "https://localhost:8080/"
        },
        "id": "QAUoLLtugPJB",
        "outputId": "4a26da1b-9164-4a87-a30d-bdaf61cae03b"
      },
      "source": [
        "X, y = df5.iloc[:, :-1], df5.iloc[:, -1]\n",
        "X.shape"
      ],
      "execution_count": 217,
      "outputs": [
        {
          "output_type": "execute_result",
          "data": {
            "text/plain": [
              "(2490, 11)"
            ]
          },
          "metadata": {},
          "execution_count": 217
        }
      ]
    },
    {
      "cell_type": "code",
      "metadata": {
        "id": "G_EuCYFRRNWe"
      },
      "source": [
        "#strategy = {1:200, 2:120, 3:150, 4:100, 5:150,6:120, 7:70, 8:45 ,9:45 ,10:40}\n",
        "#oversample = SMOTE(sampling_strategy=strategy)\n",
        "#X, y = oversample.fit_resample(X, y)\n",
        "# summarize distribution\n",
        "#counter = Counter(y)\n",
        "#for k,v in counter.items():\n",
        "#\tper = v / len(y) * 100\n",
        "#\tprint('Class=%d, n=%d (%.3f%%)' % (k, v, per))\n",
        "# plot the distribution\n",
        "#pyplot.bar(counter.keys(), counter.values())\n",
        "#pyplot.show()"
      ],
      "execution_count": 218,
      "outputs": []
    },
    {
      "cell_type": "code",
      "metadata": {
        "id": "ROL4725RdsGn"
      },
      "source": [
        "#df6 = pd.DataFrame(X)\n",
        "#df6['emotion'] = y\n",
        "#df7 = df6.sample(frac=1)\n",
        "#df5 = df5.dropna()"
      ],
      "execution_count": 219,
      "outputs": []
    },
    {
      "cell_type": "code",
      "metadata": {
        "id": "JFK2TDoD92iv"
      },
      "source": [
        "df5.shape\n",
        "scaler = MinMaxScaler()"
      ],
      "execution_count": 220,
      "outputs": []
    },
    {
      "cell_type": "code",
      "metadata": {
        "colab": {
          "base_uri": "https://localhost:8080/"
        },
        "id": "2M3PlxrK31BH",
        "outputId": "a4c02ce0-6889-4512-f56b-85dff5496159"
      },
      "source": [
        "df5['emotion'].value_counts()"
      ],
      "execution_count": 221,
      "outputs": [
        {
          "output_type": "execute_result",
          "data": {
            "text/plain": [
              "1     749\n",
              "3     423\n",
              "2     362\n",
              "5     292\n",
              "6     215\n",
              "7     150\n",
              "4     126\n",
              "8      64\n",
              "10     57\n",
              "9      52\n",
              "Name: emotion, dtype: int64"
            ]
          },
          "metadata": {},
          "execution_count": 221
        }
      ]
    },
    {
      "cell_type": "code",
      "metadata": {
        "colab": {
          "base_uri": "https://localhost:8080/",
          "height": 224
        },
        "id": "bvDcIONbwwND",
        "outputId": "38059255-863e-4ace-bab3-c524fa514bf0"
      },
      "source": [
        "train_data_001 = df5.iloc[:2304,4:]\n",
        "train_data_01 = pd.DataFrame(scaler.fit_transform(train_data_001))\n",
        "train_data_length = len(train_data_01)\n",
        "df5.head()"
      ],
      "execution_count": 222,
      "outputs": [
        {
          "output_type": "execute_result",
          "data": {
            "text/html": [
              "<div>\n",
              "<style scoped>\n",
              "    .dataframe tbody tr th:only-of-type {\n",
              "        vertical-align: middle;\n",
              "    }\n",
              "\n",
              "    .dataframe tbody tr th {\n",
              "        vertical-align: top;\n",
              "    }\n",
              "\n",
              "    .dataframe thead th {\n",
              "        text-align: right;\n",
              "    }\n",
              "</style>\n",
              "<table border=\"1\" class=\"dataframe\">\n",
              "  <thead>\n",
              "    <tr style=\"text-align: right;\">\n",
              "      <th></th>\n",
              "      <th>track_popularity</th>\n",
              "      <th>loudness</th>\n",
              "      <th>instrumentalness</th>\n",
              "      <th>key</th>\n",
              "      <th>speechiness</th>\n",
              "      <th>acousticness</th>\n",
              "      <th>danceability</th>\n",
              "      <th>liveness</th>\n",
              "      <th>tempo</th>\n",
              "      <th>energy</th>\n",
              "      <th>valence</th>\n",
              "      <th>emotion</th>\n",
              "    </tr>\n",
              "  </thead>\n",
              "  <tbody>\n",
              "    <tr>\n",
              "      <th>0</th>\n",
              "      <td>41</td>\n",
              "      <td>-10.068</td>\n",
              "      <td>0.01170</td>\n",
              "      <td>2</td>\n",
              "      <td>0.0236</td>\n",
              "      <td>0.27900</td>\n",
              "      <td>0.682</td>\n",
              "      <td>0.0887</td>\n",
              "      <td>97.091</td>\n",
              "      <td>0.401</td>\n",
              "      <td>0.566</td>\n",
              "      <td>6</td>\n",
              "    </tr>\n",
              "    <tr>\n",
              "      <th>1</th>\n",
              "      <td>28</td>\n",
              "      <td>-4.739</td>\n",
              "      <td>0.00994</td>\n",
              "      <td>9</td>\n",
              "      <td>0.0442</td>\n",
              "      <td>0.01170</td>\n",
              "      <td>0.303</td>\n",
              "      <td>0.3470</td>\n",
              "      <td>135.225</td>\n",
              "      <td>0.880</td>\n",
              "      <td>0.404</td>\n",
              "      <td>1</td>\n",
              "    </tr>\n",
              "    <tr>\n",
              "      <th>2</th>\n",
              "      <td>0</td>\n",
              "      <td>-7.504</td>\n",
              "      <td>0.00723</td>\n",
              "      <td>6</td>\n",
              "      <td>0.2160</td>\n",
              "      <td>0.00432</td>\n",
              "      <td>0.845</td>\n",
              "      <td>0.4890</td>\n",
              "      <td>111.904</td>\n",
              "      <td>0.652</td>\n",
              "      <td>0.650</td>\n",
              "      <td>10</td>\n",
              "    </tr>\n",
              "    <tr>\n",
              "      <th>3</th>\n",
              "      <td>41</td>\n",
              "      <td>-5.819</td>\n",
              "      <td>0.00000</td>\n",
              "      <td>5</td>\n",
              "      <td>0.0341</td>\n",
              "      <td>0.68900</td>\n",
              "      <td>0.425</td>\n",
              "      <td>0.0664</td>\n",
              "      <td>118.593</td>\n",
              "      <td>0.378</td>\n",
              "      <td>0.405</td>\n",
              "      <td>6</td>\n",
              "    </tr>\n",
              "    <tr>\n",
              "      <th>4</th>\n",
              "      <td>65</td>\n",
              "      <td>-1.993</td>\n",
              "      <td>0.00000</td>\n",
              "      <td>9</td>\n",
              "      <td>0.0409</td>\n",
              "      <td>0.03700</td>\n",
              "      <td>0.760</td>\n",
              "      <td>0.1380</td>\n",
              "      <td>130.018</td>\n",
              "      <td>0.887</td>\n",
              "      <td>0.240</td>\n",
              "      <td>7</td>\n",
              "    </tr>\n",
              "  </tbody>\n",
              "</table>\n",
              "</div>"
            ],
            "text/plain": [
              "   track_popularity  loudness  instrumentalness  key  speechiness  \\\n",
              "0                41   -10.068           0.01170    2       0.0236   \n",
              "1                28    -4.739           0.00994    9       0.0442   \n",
              "2                 0    -7.504           0.00723    6       0.2160   \n",
              "3                41    -5.819           0.00000    5       0.0341   \n",
              "4                65    -1.993           0.00000    9       0.0409   \n",
              "\n",
              "   acousticness  danceability  liveness    tempo  energy  valence  emotion  \n",
              "0       0.27900         0.682    0.0887   97.091   0.401    0.566        6  \n",
              "1       0.01170         0.303    0.3470  135.225   0.880    0.404        1  \n",
              "2       0.00432         0.845    0.4890  111.904   0.652    0.650       10  \n",
              "3       0.68900         0.425    0.0664  118.593   0.378    0.405        6  \n",
              "4       0.03700         0.760    0.1380  130.018   0.887    0.240        7  "
            ]
          },
          "metadata": {},
          "execution_count": 222
        }
      ]
    },
    {
      "cell_type": "code",
      "metadata": {
        "colab": {
          "base_uri": "https://localhost:8080/"
        },
        "id": "0CUA6sZFZJ_x",
        "outputId": "56375c4c-d126-452f-c2ec-06eff9976964"
      },
      "source": [
        "df5.shape"
      ],
      "execution_count": 223,
      "outputs": [
        {
          "output_type": "execute_result",
          "data": {
            "text/plain": [
              "(2490, 12)"
            ]
          },
          "metadata": {},
          "execution_count": 223
        }
      ]
    },
    {
      "cell_type": "code",
      "metadata": {
        "colab": {
          "base_uri": "https://localhost:8080/"
        },
        "id": "WlT6TJXsQdMT",
        "outputId": "e88da1cd-0101-48cb-f380-f383358c5824"
      },
      "source": [
        "train_data_001.columns"
      ],
      "execution_count": 224,
      "outputs": [
        {
          "output_type": "execute_result",
          "data": {
            "text/plain": [
              "Index(['speechiness', 'acousticness', 'danceability', 'liveness', 'tempo',\n",
              "       'energy', 'valence', 'emotion'],\n",
              "      dtype='object')"
            ]
          },
          "metadata": {},
          "execution_count": 224
        }
      ]
    },
    {
      "cell_type": "code",
      "metadata": {
        "id": "DrydNko01Qiq"
      },
      "source": [
        "testdf1_2 = testdf1_1.iloc[:2304,4:]\n",
        "testdf2_2 = testdf2_1.iloc[:2304,4:]\n",
        "testdf3_2 = testdf3_1.iloc[:2304,4:]\n",
        "df13 = df12.iloc[:2304,4:]"
      ],
      "execution_count": 225,
      "outputs": []
    },
    {
      "cell_type": "code",
      "metadata": {
        "colab": {
          "base_uri": "https://localhost:8080/"
        },
        "id": "7lZASfgt4Lz1",
        "outputId": "e776d6f8-51d3-454b-9de0-b54d8ff02142"
      },
      "source": [
        "df13.columns"
      ],
      "execution_count": 226,
      "outputs": [
        {
          "output_type": "execute_result",
          "data": {
            "text/plain": [
              "Index(['speechiness', 'acousticness', 'danceability', 'liveness', 'tempo',\n",
              "       'energy', 'valence', 'emotion'],\n",
              "      dtype='object')"
            ]
          },
          "metadata": {},
          "execution_count": 226
        }
      ]
    },
    {
      "cell_type": "code",
      "metadata": {
        "id": "RYgkcSwtvynh"
      },
      "source": [
        "train_data = torch.tensor(train_data_01.values.astype(np.float32))"
      ],
      "execution_count": 227,
      "outputs": []
    },
    {
      "cell_type": "code",
      "metadata": {
        "id": "9jGsD2Rf_5cZ"
      },
      "source": [
        "train_labels = torch.zeros(train_data_length)\n",
        "train_set = [\n",
        "    (train_data[i], train_labels[i]) for i in range(train_data_length)\n",
        "]"
      ],
      "execution_count": 228,
      "outputs": []
    },
    {
      "cell_type": "code",
      "metadata": {
        "id": "8Q_FlvWVCPeg"
      },
      "source": [
        "batch_size = 48\n",
        "train_loader = torch.utils.data.DataLoader(\n",
        "    train_set, batch_size=batch_size, shuffle=True\n",
        ")"
      ],
      "execution_count": 229,
      "outputs": []
    },
    {
      "cell_type": "code",
      "metadata": {
        "id": "oeGokWcnUNVo"
      },
      "source": [
        "class Discriminator(nn.Module):\n",
        "    def __init__(self):\n",
        "        super().__init__()\n",
        "        self.model = nn.Sequential(\n",
        "            nn.Linear(8, 256),\n",
        "            nn.ReLU(),\n",
        "            nn.Dropout(0.3),\n",
        "            nn.Linear(256, 128),\n",
        "            nn.ReLU(),\n",
        "            nn.Dropout(0.3),\n",
        "            nn.Linear(128, 64),\n",
        "            nn.ReLU(),\n",
        "            nn.Dropout(0.3),\n",
        "            nn.Linear(64, 1),\n",
        "            nn.Sigmoid(),\n",
        "        )\n",
        "\n",
        "    def forward(self, x):\n",
        "        output = self.model(x)\n",
        "        return output"
      ],
      "execution_count": 230,
      "outputs": []
    },
    {
      "cell_type": "code",
      "metadata": {
        "id": "w28gifmTe_Wa"
      },
      "source": [
        "discriminator = Discriminator()"
      ],
      "execution_count": 231,
      "outputs": []
    },
    {
      "cell_type": "code",
      "metadata": {
        "id": "3LaGfTJ1fFf9"
      },
      "source": [
        "class Generator(nn.Module):\n",
        "    def __init__(self):\n",
        "        super().__init__()\n",
        "        self.model = nn.Sequential(\n",
        "            nn.Linear(8, 48),\n",
        "            nn.ReLU(),\n",
        "            nn.Linear(48, 96),\n",
        "            nn.ReLU(),\n",
        "            nn.Linear(96, 8),\n",
        "        )\n",
        "\n",
        "    def forward(self, x):\n",
        "        output = self.model(x)\n",
        "        return output\n",
        "\n",
        "generator = Generator()"
      ],
      "execution_count": 232,
      "outputs": []
    },
    {
      "cell_type": "code",
      "metadata": {
        "id": "b3Lh9ZtEfPvG"
      },
      "source": [
        "lr = 0.001\n",
        "num_epochs = 600\n",
        "loss_function = nn.BCELoss()"
      ],
      "execution_count": 233,
      "outputs": []
    },
    {
      "cell_type": "code",
      "metadata": {
        "id": "vHk6r37kfWfA"
      },
      "source": [
        "optimizer_discriminator = torch.optim.Adam(discriminator.parameters(), lr=lr)\n",
        "optimizer_generator = torch.optim.Adam(generator.parameters(), lr=lr)"
      ],
      "execution_count": 234,
      "outputs": []
    },
    {
      "cell_type": "code",
      "metadata": {
        "id": "moL5w8QUPPFB"
      },
      "source": [
        "# list for final generated samples\n",
        "final_generated_samples=[]\n",
        "final_generated_samples_list=[]\n",
        "losses_g =[]\n",
        "losses_d = []\n",
        "labels = []\n",
        "pred = []\n",
        "true = []"
      ],
      "execution_count": 235,
      "outputs": []
    },
    {
      "cell_type": "code",
      "metadata": {
        "id": "W0Zee1zVehN2"
      },
      "source": [
        "#len(labels[0])"
      ],
      "execution_count": 236,
      "outputs": []
    },
    {
      "cell_type": "code",
      "metadata": {
        "colab": {
          "base_uri": "https://localhost:8080/"
        },
        "id": "M3oKJHuuffeK",
        "outputId": "175f03e5-ce78-4198-a342-e27cb098e30a"
      },
      "source": [
        "\n",
        "for epoch in range(num_epochs):\n",
        "    for n, (real_samples, _) in enumerate(train_loader):\n",
        "        # Data for training the discriminator\n",
        "        real_samples_labels = torch.ones((batch_size, 1))\n",
        "        latent_space_samples = torch.rand((batch_size, 8))\n",
        "        generated_samples = generator(latent_space_samples)\n",
        "        generated_samples_labels = torch.zeros((batch_size, 1))\n",
        "        all_samples = torch.cat((real_samples, generated_samples))\n",
        "        all_samples_labels = torch.cat(\n",
        "            (real_samples_labels, generated_samples_labels)\n",
        "        )\n",
        "\n",
        "        # Training the discriminator\n",
        "        discriminator.zero_grad()\n",
        "        output_discriminator = discriminator(all_samples)\n",
        "        loss_discriminator = loss_function(\n",
        "            output_discriminator, all_samples_labels)\n",
        "        loss_discriminator.backward()\n",
        "        optimizer_discriminator.step()\n",
        "\n",
        "\n",
        "        # Data for training the generator\n",
        "        latent_space_samples = torch.rand((batch_size, 8))\n",
        "\n",
        "        # Training the generator\n",
        "        generator.zero_grad()\n",
        "        generated_samples = generator(latent_space_samples)\n",
        "        output_discriminator_generated = discriminator(generated_samples)\n",
        "        loss_generator = loss_function(\n",
        "            output_discriminator_generated, real_samples_labels\n",
        "        )\n",
        "        loss_generator.backward()\n",
        "        optimizer_generator.step()\n",
        "\n",
        "        losses_g.append(loss_generator)\n",
        "        losses_d.append(loss_discriminator)\n",
        "\n",
        "        labels.append(all_samples_labels)\n",
        "        pred.append(output_discriminator)\n",
        "        true.append(all_samples)\n",
        "\n",
        "        # Show loss\n",
        "        if epoch % 10 == 0 and n == batch_size - 1:\n",
        "            final_generated_samples.append(generated_samples[0])\n",
        "            print(f\"Epoch: {epoch} Loss D.: {loss_discriminator}\")\n",
        "            print(f\"Epoch: {epoch} Loss G.: {loss_generator}\")\n",
        "            "
      ],
      "execution_count": 237,
      "outputs": [
        {
          "output_type": "stream",
          "name": "stdout",
          "text": [
            "Epoch: 0 Loss D.: 0.5908480882644653\n",
            "Epoch: 0 Loss G.: 1.3117403984069824\n",
            "Epoch: 10 Loss D.: 0.27539440989494324\n",
            "Epoch: 10 Loss G.: 1.9306806325912476\n",
            "Epoch: 20 Loss D.: 0.7168014049530029\n",
            "Epoch: 20 Loss G.: 1.03711998462677\n",
            "Epoch: 30 Loss D.: 0.6830253005027771\n",
            "Epoch: 30 Loss G.: 0.8512983322143555\n",
            "Epoch: 40 Loss D.: 0.5226633548736572\n",
            "Epoch: 40 Loss G.: 0.8636977076530457\n",
            "Epoch: 50 Loss D.: 0.5321303606033325\n",
            "Epoch: 50 Loss G.: 0.8317696452140808\n",
            "Epoch: 60 Loss D.: 0.696347713470459\n",
            "Epoch: 60 Loss G.: 0.7793301939964294\n",
            "Epoch: 70 Loss D.: 0.39750900864601135\n",
            "Epoch: 70 Loss G.: 1.0730527639389038\n",
            "Epoch: 80 Loss D.: 0.5865025520324707\n",
            "Epoch: 80 Loss G.: 1.2020978927612305\n",
            "Epoch: 90 Loss D.: 0.8410437703132629\n",
            "Epoch: 90 Loss G.: 0.8369858860969543\n",
            "Epoch: 100 Loss D.: 0.7381937503814697\n",
            "Epoch: 100 Loss G.: 0.9059838652610779\n",
            "Epoch: 110 Loss D.: 0.8449819087982178\n",
            "Epoch: 110 Loss G.: 0.6113942861557007\n",
            "Epoch: 120 Loss D.: 0.6044601202011108\n",
            "Epoch: 120 Loss G.: 0.9487935900688171\n",
            "Epoch: 130 Loss D.: 0.6816213726997375\n",
            "Epoch: 130 Loss G.: 0.9422722458839417\n",
            "Epoch: 140 Loss D.: 0.5633219480514526\n",
            "Epoch: 140 Loss G.: 0.8530595302581787\n",
            "Epoch: 150 Loss D.: 0.6578920483589172\n",
            "Epoch: 150 Loss G.: 0.8477571606636047\n",
            "Epoch: 160 Loss D.: 0.7014027237892151\n",
            "Epoch: 160 Loss G.: 0.721055805683136\n",
            "Epoch: 170 Loss D.: 0.6641218066215515\n",
            "Epoch: 170 Loss G.: 0.7940872311592102\n",
            "Epoch: 180 Loss D.: 0.49642300605773926\n",
            "Epoch: 180 Loss G.: 1.7921611070632935\n",
            "Epoch: 190 Loss D.: 0.6192052364349365\n",
            "Epoch: 190 Loss G.: 1.2028650045394897\n",
            "Epoch: 200 Loss D.: 0.6391220092773438\n",
            "Epoch: 200 Loss G.: 0.748058557510376\n",
            "Epoch: 210 Loss D.: 0.7018501162528992\n",
            "Epoch: 210 Loss G.: 0.689476490020752\n",
            "Epoch: 220 Loss D.: 0.515150785446167\n",
            "Epoch: 220 Loss G.: 0.891806423664093\n",
            "Epoch: 230 Loss D.: 0.6220980882644653\n",
            "Epoch: 230 Loss G.: 0.9571351408958435\n",
            "Epoch: 240 Loss D.: 0.5722245573997498\n",
            "Epoch: 240 Loss G.: 1.0039654970169067\n",
            "Epoch: 250 Loss D.: 0.6402685642242432\n",
            "Epoch: 250 Loss G.: 0.9109213948249817\n",
            "Epoch: 260 Loss D.: 0.7041332721710205\n",
            "Epoch: 260 Loss G.: 0.6804127097129822\n",
            "Epoch: 270 Loss D.: 0.6797006726264954\n",
            "Epoch: 270 Loss G.: 0.9434990882873535\n",
            "Epoch: 280 Loss D.: 0.6410176753997803\n",
            "Epoch: 280 Loss G.: 0.8263426423072815\n",
            "Epoch: 290 Loss D.: 0.6555132269859314\n",
            "Epoch: 290 Loss G.: 0.7052974700927734\n",
            "Epoch: 300 Loss D.: 0.6739373207092285\n",
            "Epoch: 300 Loss G.: 0.7223702073097229\n",
            "Epoch: 310 Loss D.: 0.5398691296577454\n",
            "Epoch: 310 Loss G.: 0.8036060929298401\n",
            "Epoch: 320 Loss D.: 0.7147511839866638\n",
            "Epoch: 320 Loss G.: 0.6742985248565674\n",
            "Epoch: 330 Loss D.: 0.7600852847099304\n",
            "Epoch: 330 Loss G.: 1.0748778581619263\n",
            "Epoch: 340 Loss D.: 0.6510362029075623\n",
            "Epoch: 340 Loss G.: 0.7635157704353333\n",
            "Epoch: 350 Loss D.: 0.5144127607345581\n",
            "Epoch: 350 Loss G.: 0.95521479845047\n",
            "Epoch: 360 Loss D.: 0.5599202513694763\n",
            "Epoch: 360 Loss G.: 0.823333740234375\n",
            "Epoch: 370 Loss D.: 0.7036933898925781\n",
            "Epoch: 370 Loss G.: 0.7943277955055237\n",
            "Epoch: 380 Loss D.: 0.6453726887702942\n",
            "Epoch: 380 Loss G.: 0.8094568252563477\n",
            "Epoch: 390 Loss D.: 0.6152244210243225\n",
            "Epoch: 390 Loss G.: 0.8035755157470703\n",
            "Epoch: 400 Loss D.: 0.642833948135376\n",
            "Epoch: 400 Loss G.: 0.8485816121101379\n",
            "Epoch: 410 Loss D.: 0.6509882807731628\n",
            "Epoch: 410 Loss G.: 0.8573775887489319\n",
            "Epoch: 420 Loss D.: 0.6783976554870605\n",
            "Epoch: 420 Loss G.: 0.8417574763298035\n",
            "Epoch: 430 Loss D.: 0.5728924870491028\n",
            "Epoch: 430 Loss G.: 0.7514781355857849\n",
            "Epoch: 440 Loss D.: 0.7041661739349365\n",
            "Epoch: 440 Loss G.: 0.867370069026947\n",
            "Epoch: 450 Loss D.: 0.6238817572593689\n",
            "Epoch: 450 Loss G.: 0.8385148048400879\n",
            "Epoch: 460 Loss D.: 0.6235347390174866\n",
            "Epoch: 460 Loss G.: 0.7945880889892578\n",
            "Epoch: 470 Loss D.: 0.6331412196159363\n",
            "Epoch: 470 Loss G.: 0.8067891001701355\n",
            "Epoch: 480 Loss D.: 0.6850336194038391\n",
            "Epoch: 480 Loss G.: 0.7172089219093323\n",
            "Epoch: 490 Loss D.: 0.6041871309280396\n",
            "Epoch: 490 Loss G.: 0.7769261002540588\n",
            "Epoch: 500 Loss D.: 0.6821200251579285\n",
            "Epoch: 500 Loss G.: 0.7986330986022949\n",
            "Epoch: 510 Loss D.: 0.6275678277015686\n",
            "Epoch: 510 Loss G.: 0.8151258826255798\n",
            "Epoch: 520 Loss D.: 0.6141406893730164\n",
            "Epoch: 520 Loss G.: 0.717208206653595\n",
            "Epoch: 530 Loss D.: 0.7966291904449463\n",
            "Epoch: 530 Loss G.: 0.7239351868629456\n",
            "Epoch: 540 Loss D.: 0.6497463583946228\n",
            "Epoch: 540 Loss G.: 0.8911965489387512\n",
            "Epoch: 550 Loss D.: 0.6261374354362488\n",
            "Epoch: 550 Loss G.: 0.7997611165046692\n",
            "Epoch: 560 Loss D.: 0.5746229290962219\n",
            "Epoch: 560 Loss G.: 0.8398311734199524\n",
            "Epoch: 570 Loss D.: 0.6582520604133606\n",
            "Epoch: 570 Loss G.: 0.8098161220550537\n",
            "Epoch: 580 Loss D.: 0.6443780064582825\n",
            "Epoch: 580 Loss G.: 0.8845035433769226\n",
            "Epoch: 590 Loss D.: 0.657810389995575\n",
            "Epoch: 590 Loss G.: 0.8027234077453613\n"
          ]
        }
      ]
    },
    {
      "cell_type": "code",
      "metadata": {
        "colab": {
          "base_uri": "https://localhost:8080/",
          "height": 265
        },
        "id": "hs5paGQUO03N",
        "outputId": "543d7c92-5238-4036-cb0c-e03e463f019f"
      },
      "source": [
        "# plot and save the generator and discriminator loss\n",
        "plt.figure()\n",
        "plt.plot(losses_g, label='Generator loss')\n",
        "plt.plot(losses_d, label='Discriminator Loss')\n",
        "plt.legend()\n",
        "plt.show()"
      ],
      "execution_count": 238,
      "outputs": [
        {
          "output_type": "display_data",
          "data": {
            "image/png": "[encoded data removed]",
            "text/plain": [
              "<Figure size 432x288 with 1 Axes>"
            ]
          },
          "metadata": {
            "needs_background": "light"
          }
        }
      ]
    },
    {
      "cell_type": "code",
      "metadata": {
        "id": "m6LUuQD1uz2F"
      },
      "source": [
        "# make a dataframe for sample list\n",
        "for i in final_generated_samples:\n",
        "  a = i.detach().numpy()\n",
        "  final_generated_samples_list.append(a)\n",
        "final_generated_samples_df = pd.DataFrame(final_generated_samples_list)"
      ],
      "execution_count": 239,
      "outputs": []
    },
    {
      "cell_type": "code",
      "metadata": {
        "id": "xNZjGkXgiNGL",
        "colab": {
          "base_uri": "https://localhost:8080/"
        },
        "outputId": "e67f2601-f6ea-4f44-9eeb-092c1c9094c2"
      },
      "source": [
        "latent_space_samples[:10]"
      ],
      "execution_count": 240,
      "outputs": [
        {
          "output_type": "execute_result",
          "data": {
            "text/plain": [
              "tensor([[0.7110, 0.6532, 0.3414, 0.4929, 0.1090, 0.3735, 0.9679, 0.1864],\n",
              "        [0.0497, 0.2547, 0.2286, 0.0471, 0.8481, 0.8750, 0.3879, 0.2977],\n",
              "        [0.7681, 0.1050, 0.2071, 0.0608, 0.0102, 0.5448, 0.9156, 0.2173],\n",
              "        [0.3900, 0.8594, 0.5533, 0.6993, 0.6947, 0.9940, 0.1589, 0.5333],\n",
              "        [0.9915, 0.5208, 0.3079, 0.7188, 0.1941, 0.5582, 0.3663, 0.1283],\n",
              "        [0.5291, 0.8017, 0.6429, 0.3142, 0.3831, 0.1537, 0.7043, 0.0925],\n",
              "        [0.0661, 0.0767, 0.7691, 0.6505, 0.1399, 0.8716, 0.0371, 0.4837],\n",
              "        [0.6683, 0.2074, 0.6546, 0.8890, 0.8198, 0.1598, 0.3190, 0.8289],\n",
              "        [0.0825, 0.2415, 0.0904, 0.5200, 0.6816, 0.5385, 0.8794, 0.6059],\n",
              "        [0.8327, 0.2753, 0.3404, 0.2251, 0.9284, 0.2173, 0.7480, 0.7541]])"
            ]
          },
          "metadata": {},
          "execution_count": 240
        }
      ]
    },
    {
      "cell_type": "code",
      "metadata": {
        "id": "4tvxpDe3Za9d",
        "colab": {
          "base_uri": "https://localhost:8080/",
          "height": 282
        },
        "outputId": "e1be6449-b9ee-4de3-e094-e6e8c33e2cd0"
      },
      "source": [
        "#plot of two variables from generated samples\n",
        "plt.plot(final_generated_samples_df.iloc[:, 6], \n",
        "         final_generated_samples_df.iloc[:, 3], \".\")"
      ],
      "execution_count": 241,
      "outputs": [
        {
          "output_type": "execute_result",
          "data": {
            "text/plain": [
              "[<matplotlib.lines.Line2D at 0x7ff9d6223fd0>]"
            ]
          },
          "metadata": {},
          "execution_count": 241
        },
        {
          "output_type": "display_data",
          "data": {
            "image/png": "[encoded data removed]",
            "text/plain": [
              "<Figure size 432x288 with 1 Axes>"
            ]
          },
          "metadata": {
            "needs_background": "light"
          }
        }
      ]
    },
    {
      "cell_type": "code",
      "metadata": {
        "id": "XIMG5PoX06OX"
      },
      "source": [
        "from scipy.spatial import distance"
      ],
      "execution_count": 242,
      "outputs": []
    },
    {
      "cell_type": "code",
      "metadata": {
        "id": "RycK3PK_zDW0"
      },
      "source": [
        "float_x = real_samples[0].double()"
      ],
      "execution_count": 243,
      "outputs": []
    },
    {
      "cell_type": "code",
      "metadata": {
        "id": "Y6D_uRDmDsKS"
      },
      "source": [
        "float_x = list(float_x.numpy())"
      ],
      "execution_count": 244,
      "outputs": []
    },
    {
      "cell_type": "markdown",
      "metadata": {
        "id": "mP59c_ZQqUKQ"
      },
      "source": [
        ""
      ]
    },
    {
      "cell_type": "code",
      "metadata": {
        "id": "rf0t9hUt7Wc4",
        "colab": {
          "base_uri": "https://localhost:8080/"
        },
        "outputId": "8dc35748-2781-4750-abb8-1a5d9e370712"
      },
      "source": [
        "# Cosine similarity\n",
        "def square_rooted(x):\n",
        "   return round(math.sqrt(sum([a*a for a in x])),3)\n",
        "  \n",
        "def cosine_similarity(x,y):\n",
        " numerator = sum(a*b for a,b in zip(x,y))\n",
        " denominator = square_rooted(x)*square_rooted(y)\n",
        " return round(numerator/float(denominator),3)\n",
        "  \n",
        "print(cosine_similarity(final_generated_samples_df[0],float_x))"
      ],
      "execution_count": 245,
      "outputs": [
        {
          "output_type": "stream",
          "name": "stdout",
          "text": [
            "0.027\n"
          ]
        }
      ]
    },
    {
      "cell_type": "code",
      "metadata": {
        "id": "vP1mzbkc79ik",
        "colab": {
          "base_uri": "https://localhost:8080/"
        },
        "outputId": "580b9e53-85f7-4fec-819e-e4148ec2ea61"
      },
      "source": [
        "#Jaccard similarity\n",
        "from math import*\n",
        "  \n",
        "def jaccard_similarity(x,y):\n",
        " intersection_cardinality = len(set.intersection(*[set(x), set(y)]))\n",
        " union_cardinality = len(set.union(*[set(x), set(y)]))\n",
        " return intersection_cardinality/float(union_cardinality)\n",
        "print(jaccard_similarity([0,1,2,5,6],[0,2,3,5,7,9]))"
      ],
      "execution_count": 246,
      "outputs": [
        {
          "output_type": "stream",
          "name": "stdout",
          "text": [
            "0.375\n"
          ]
        }
      ]
    },
    {
      "cell_type": "code",
      "metadata": {
        "id": "NP3So0XD8g60"
      },
      "source": [
        "import numpy as np\n",
        "import pandas as pd\n",
        "from sklearn.metrics import jaccard_score\n",
        "from sklearn.metrics.pairwise import pairwise_distances,cosine_similarity"
      ],
      "execution_count": 247,
      "outputs": []
    },
    {
      "cell_type": "code",
      "metadata": {
        "id": "DCwHlEBVHgow"
      },
      "source": [
        "df9 = pd.DataFrame(scaler.inverse_transform(final_generated_samples_df))\n",
        "df10 = pd.DataFrame(scaler.inverse_transform(train_data_01))"
      ],
      "execution_count": 248,
      "outputs": []
    },
    {
      "cell_type": "code",
      "metadata": {
        "id": "ji0flvFOBhuS"
      },
      "source": [
        "generated_vals2=[]\n",
        "for i, j in df9.iterrows():\n",
        "  generated_vals2.append(j.values)\n",
        "\n",
        "generated_vals3 = generated_vals2[:10]\n",
        "\n",
        "train_data_vals2=[]\n",
        "for i, j in train_data_001.iterrows():\n",
        "  train_data_vals2.append(j.values)\n"
      ],
      "execution_count": 249,
      "outputs": []
    },
    {
      "cell_type": "markdown",
      "metadata": {
        "id": "uxYm6GBjoZG6"
      },
      "source": [
        ""
      ]
    },
    {
      "cell_type": "code",
      "metadata": {
        "id": "cM4Kbd01UDeF"
      },
      "source": [
        "def cos_similarity(x,d):\n",
        "  recommended = []  \n",
        "  for i in d:\n",
        "    a = cosine_similarity([x],[i])\n",
        "    recommended.append(a)\n",
        "  rec_score=max(recommended)\n",
        "  rec_index = recommended.index(rec_score)\n",
        "  rec_cos.append(rec_score)\n",
        "  rec_idx = df13.index[rec_index]\n",
        "  cos_name.append(rec_idx)\n",
        "  rec_len = len(recommended)\n",
        "  results1.append(['index:',rec_idx,'; cos sim:',rec_score])"
      ],
      "execution_count": 250,
      "outputs": []
    },
    {
      "cell_type": "code",
      "metadata": {
        "id": "8GyLH48C0vPM"
      },
      "source": [
        "def euclid_similarity(x,d):\n",
        "  recommended = []  \n",
        "  for i in d:\n",
        "    a = distance.euclidean([x],[i])\n",
        "    recommended.append(a)\n",
        "  rec_score=min(recommended)\n",
        "  rec_index = recommended.index(rec_score)\n",
        "  rec_euc.append(rec_score)\n",
        "  rec_idx = df13.index[rec_index]\n",
        "  euc_name.append(rec_idx)\n",
        "  rec_len = len(recommended)\n",
        "  results2.append(['index:',rec_idx,'; euclid sim:',rec_score])"
      ],
      "execution_count": 251,
      "outputs": []
    },
    {
      "cell_type": "code",
      "metadata": {
        "id": "j527TRLHyY2x",
        "colab": {
          "base_uri": "https://localhost:8080/"
        },
        "outputId": "d914fbc7-6d16-4f16-fd7d-91d3c4841514"
      },
      "source": [
        "dst = distance.euclidean(final_generated_samples_df.iloc[0,:].values,float_x)\n",
        "print('Euclidean distance: %.3f' % dst)"
      ],
      "execution_count": 252,
      "outputs": [
        {
          "output_type": "stream",
          "name": "stdout",
          "text": [
            "Euclidean distance: 2.152\n"
          ]
        }
      ]
    },
    {
      "cell_type": "code",
      "metadata": {
        "id": "I5WphA_0Z9zV"
      },
      "source": [
        "# pick recommendations with cosine similarity\n",
        "results1 =[]\n",
        "cos_name =[]\n",
        "rec_cos = []\n",
        "for i in generated_vals2:\n",
        "  a = cos_similarity(i,train_data_vals2)"
      ],
      "execution_count": 253,
      "outputs": []
    },
    {
      "cell_type": "code",
      "metadata": {
        "id": "iqO0J7Zlq2G_"
      },
      "source": [
        "cols2 = ['language']\n",
        "cos_rec =  df4[df4['track_name'].isin(cos_name)]\n",
        "cos_rec2 = cos_rec.drop(['playlist_id','track_id','track_name','track_artist'], axis=1)\n",
        "#cos_rec2[cols2] = cos_rec2[cols2].apply(LabelEncoder().fit_transform)\n",
        "cos_rec3 = cos_rec2.iloc[:2304,4:]"
      ],
      "execution_count": 254,
      "outputs": []
    },
    {
      "cell_type": "code",
      "metadata": {
        "id": "QDk6KhE433zB"
      },
      "source": [
        "cos_rec4=[]\n",
        "for i, j in cos_rec3.iterrows():\n",
        "  cos_rec4.append(j.values)"
      ],
      "execution_count": 255,
      "outputs": []
    },
    {
      "cell_type": "code",
      "metadata": {
        "id": "nC-_WcnkFKkQ"
      },
      "source": [
        "cos_rec3['track_name'] = df4['track_name']\n",
        "cos_rec5 = cos_rec3.set_index('track_name')"
      ],
      "execution_count": 256,
      "outputs": []
    },
    {
      "cell_type": "code",
      "metadata": {
        "id": "epyouEYb0LlZ"
      },
      "source": [
        "rec_cose=[]\n",
        "for i in rec_cos:\n",
        "  rec_cose.append(i[0][0])"
      ],
      "execution_count": 257,
      "outputs": []
    },
    {
      "cell_type": "code",
      "metadata": {
        "id": "I9txVZCn1Me7"
      },
      "source": [
        "# pick recommendations with euclidean similarity\n",
        "results2 =[]\n",
        "euc_name =[]\n",
        "rec_euc = []\n",
        "for i in generated_vals2:\n",
        "  a = euclid_similarity(i,train_data_vals2)"
      ],
      "execution_count": 258,
      "outputs": []
    },
    {
      "cell_type": "code",
      "metadata": {
        "id": "3TOBzgYDw_6q"
      },
      "source": [
        "euc_rec =  df4[df4['track_name'].isin(euc_name)]\n",
        "euc_rec2 = euc_rec.drop(['playlist_id','track_id','track_name','track_artist'], axis=1)\n",
        "#euc_rec2[cols2] = euc_rec2[cols2].apply(LabelEncoder().fit_transform)\n",
        "euc_rec3 = euc_rec2.iloc[:2304,4:]"
      ],
      "execution_count": 259,
      "outputs": []
    },
    {
      "cell_type": "code",
      "metadata": {
        "id": "FFxwgPxVGu66"
      },
      "source": [
        "euc_rec4=[]\n",
        "for i, j in euc_rec3.iterrows():\n",
        "  euc_rec4.append(j.values)"
      ],
      "execution_count": 260,
      "outputs": []
    },
    {
      "cell_type": "code",
      "metadata": {
        "id": "HMl2sYUOGE7M"
      },
      "source": [
        "euc_rec3['track_name'] = df4['track_name']\n",
        "euc_rec5 = euc_rec3.set_index('track_name')"
      ],
      "execution_count": 261,
      "outputs": []
    },
    {
      "cell_type": "code",
      "metadata": {
        "id": "SR1wtnOQsprP"
      },
      "source": [
        "testdf1_3 = testdf1_2\n",
        "testdf1_3['track_name'] = testdf1['track_name']\n",
        "testdf1_3 = testdf1_3.set_index('track_name')\n",
        "\n",
        "testdf2_3 = testdf2_2\n",
        "testdf2_3['track_name'] = testdf2['track_name']\n",
        "testdf2_3 = testdf2_3.set_index('track_name')\n",
        "\n",
        "testdf3_3 = testdf3_2\n",
        "testdf3_3['track_name'] = testdf3['track_name']\n",
        "testdf3_3 = testdf3_3.set_index('track_name')"
      ],
      "execution_count": 262,
      "outputs": []
    },
    {
      "cell_type": "code",
      "metadata": {
        "id": "C976IH3Y745-"
      },
      "source": [
        "test_data1 = testdf1_3.values\n",
        "test_data2 = testdf2_3.values\n",
        "test_data3 = testdf3_3.values"
      ],
      "execution_count": 263,
      "outputs": []
    },
    {
      "cell_type": "code",
      "metadata": {
        "id": "XWRXAtgRfQB_"
      },
      "source": [
        "def cos_similarity_t1(x,d):\n",
        "  recommended = []  \n",
        "  for i in d:\n",
        "    a = cosine_similarity([x],[i])\n",
        "    recommended.append(a)\n",
        "  rec_score=max(recommended)\n",
        "  rec_index = recommended.index(rec_score)\n",
        "  rec_cosT1.append(rec_score)\n",
        "  rec_idx = cos_rec5.index[rec_index]\n",
        "  cost1_name.append(rec_idx)\n",
        "  rec_len = len(recommended)\n",
        "  print('len train data:',rec_len,'; index:',rec_idx,'; cos sim:',rec_score)\n",
        "\n",
        "def euclid_similarity_t1(x,d):\n",
        "  recommended = []  \n",
        "  for i in d:\n",
        "    a = distance.euclidean([x],[i])\n",
        "    recommended.append(a)\n",
        "  rec_score=min(recommended)\n",
        "  rec_index = recommended.index(rec_score)\n",
        "  rec_eucT1.append(rec_score)\n",
        "  rec_idx = euc_rec5.index[rec_index]\n",
        "  euct1_name.append(rec_idx)\n",
        "  rec_len = len(recommended)\n",
        "  print('len train data:',rec_len,'; index:',rec_idx,'; euclid sim:',rec_score)"
      ],
      "execution_count": 264,
      "outputs": []
    },
    {
      "cell_type": "code",
      "metadata": {
        "id": "v3iYXkcX8QJr",
        "colab": {
          "base_uri": "https://localhost:8080/"
        },
        "outputId": "013f5f7b-ad92-446b-b929-5a35a3c39a61"
      },
      "source": [
        "#compare recomendations to test subjects\n",
        "cost1_name = []\n",
        "rec_cosT1 = []\n",
        "for i in test_data1:\n",
        "  a = cos_similarity_t1(i,cos_rec4)"
      ],
      "execution_count": 265,
      "outputs": [
        {
          "output_type": "stream",
          "name": "stdout",
          "text": [
            "len train data: 63 ; index: Piensan ; cos sim: [[0.99999294]]\n",
            "len train data: 63 ; index: Let Her Go ; cos sim: [[0.999987]]\n",
            "len train data: 63 ; index: Lower ; cos sim: [[1.]]\n",
            "len train data: 63 ; index: Tumbando el Club (feat. C.R.O., Obiewanshot, Ysy A, Cazzu, Khea, Lucho SSJ, CoqeÃ©in Montana, Marcianos Crew & Duki) - Remix ; cos sim: [[0.99999524]]\n",
            "len train data: 63 ; index: Shifts Of Light ; cos sim: [[0.99999534]]\n",
            "len train data: 63 ; index: Molly ; cos sim: [[0.9999965]]\n",
            "len train data: 63 ; index: Paradise ; cos sim: [[0.99999364]]\n",
            "len train data: 63 ; index: Let Her Go ; cos sim: [[0.9999947]]\n",
            "len train data: 63 ; index: Piensan ; cos sim: [[0.99999745]]\n",
            "len train data: 63 ; index: Enemy Turf ; cos sim: [[0.99998432]]\n"
          ]
        }
      ]
    },
    {
      "cell_type": "code",
      "metadata": {
        "id": "OgQfUT3W3nZ4"
      },
      "source": [
        "rec_coseT1=[]\n",
        "for i in rec_cosT1:\n",
        "  rec_coseT1.append(i[0][0])"
      ],
      "execution_count": 266,
      "outputs": []
    },
    {
      "cell_type": "code",
      "metadata": {
        "colab": {
          "base_uri": "https://localhost:8080/"
        },
        "id": "0EqYmvatUATm",
        "outputId": "03809a4a-219a-4124-fad6-d8526ce1bfbb"
      },
      "source": [
        "euc_rec3.shape"
      ],
      "execution_count": 267,
      "outputs": [
        {
          "output_type": "execute_result",
          "data": {
            "text/plain": [
              "(62, 9)"
            ]
          },
          "metadata": {},
          "execution_count": 267
        }
      ]
    },
    {
      "cell_type": "code",
      "metadata": {
        "id": "4vwnG9_x-1Gy",
        "colab": {
          "base_uri": "https://localhost:8080/"
        },
        "outputId": "049a0d9f-19d8-43bc-85c3-cc1488c19e7e"
      },
      "source": [
        "euct1_name = []\n",
        "rec_eucT1 = []\n",
        "for i in test_data1:\n",
        "  a = euclid_similarity_t1(i,euc_rec4)"
      ],
      "execution_count": 268,
      "outputs": [
        {
          "output_type": "stream",
          "name": "stdout",
          "text": [
            "len train data: 62 ; index: BFAM - Original Mix ; euclid sim: 2.3240379967633955\n",
            "len train data: 62 ; index: Moon ; euclid sim: 2.263029352438881\n",
            "len train data: 62 ; index: Nudies ; euclid sim: 3.6536519456565646\n",
            "len train data: 62 ; index: Want Beef? ; euclid sim: 2.246405764771809\n",
            "len train data: 62 ; index: Algo Rhythm ; euclid sim: 1.3977144475684622\n",
            "len train data: 62 ; index: It's Been Awhile ; euclid sim: 0.9548193243226628\n",
            "len train data: 62 ; index: BFAM - Original Mix ; euclid sim: 1.0628740359986204\n",
            "len train data: 62 ; index: Alarm ; euclid sim: 1.421352778165919\n",
            "len train data: 62 ; index: 22 ; euclid sim: 3.6111516147760963\n",
            "len train data: 62 ; index: Je m'en vais ; euclid sim: 1.0490313293701004\n"
          ]
        }
      ]
    },
    {
      "cell_type": "code",
      "metadata": {
        "id": "a9IAbe8_f5MT"
      },
      "source": [
        "def cos_similarity_t2(x,d):\n",
        "  recommended = []  \n",
        "  for i in d:\n",
        "    a = cosine_similarity([x],[i])\n",
        "    recommended.append(a)\n",
        "  rec_score=max(recommended)\n",
        "  rec_index = recommended.index(rec_score)\n",
        "  rec_cosT2.append(rec_score)\n",
        "  rec_idx = cos_rec5.index[rec_index]\n",
        "  cost2_name.append(rec_idx)\n",
        "  rec_len = len(recommended)\n",
        "  print('len train data:',rec_len,'; index:',rec_idx,'; cos sim:',rec_score)\n",
        "\n",
        "def euclid_similarity_t2(x,d):\n",
        "  recommended = []  \n",
        "  for i in d:\n",
        "    a = distance.euclidean([x],[i])\n",
        "    recommended.append(a)\n",
        "  rec_score=min(recommended)\n",
        "  rec_index = recommended.index(rec_score)\n",
        "  rec_eucT2.append(rec_score)\n",
        "  rec_idx = euc_rec5.index[rec_index]\n",
        "  euct2_name.append(rec_idx)\n",
        "  rec_len = len(recommended)\n",
        "  print('len train data:',rec_len,'; index:',rec_idx,'; euclid sim:',rec_score)"
      ],
      "execution_count": 269,
      "outputs": []
    },
    {
      "cell_type": "code",
      "metadata": {
        "id": "CYriMM1ck4Gx",
        "colab": {
          "base_uri": "https://localhost:8080/"
        },
        "outputId": "a22d255d-e95f-4ee6-901f-fb2427b70334"
      },
      "source": [
        "#compare recomendations to test subjects\n",
        "cost2_name = []\n",
        "rec_cosT2 = []\n",
        "for i in test_data2:\n",
        "  a = cos_similarity_t2(i,cos_rec4)"
      ],
      "execution_count": 270,
      "outputs": [
        {
          "output_type": "stream",
          "name": "stdout",
          "text": [
            "len train data: 63 ; index: California ; cos sim: [[0.99999116]]\n",
            "len train data: 63 ; index: Still Got Me (feat. Jocelyn Bowman) ; cos sim: [[0.99999657]]\n",
            "len train data: 63 ; index: I Adore Mi Amor ; cos sim: [[1.]]\n",
            "len train data: 63 ; index: Still Got Me (feat. Jocelyn Bowman) ; cos sim: [[0.99999447]]\n",
            "len train data: 63 ; index: Don't Kill My High (feat. Wiz Khalifa & Social House) ; cos sim: [[0.99998197]]\n",
            "len train data: 63 ; index: Still Got Me (feat. Jocelyn Bowman) ; cos sim: [[0.99998357]]\n",
            "len train data: 63 ; index: Broccoli ; cos sim: [[0.9999895]]\n",
            "len train data: 63 ; index: Paradise ; cos sim: [[0.99998583]]\n",
            "len train data: 63 ; index: Still Got Me (feat. Jocelyn Bowman) ; cos sim: [[0.99999808]]\n",
            "len train data: 63 ; index: Don't Kill My High (feat. Wiz Khalifa & Social House) ; cos sim: [[0.9999596]]\n",
            "len train data: 63 ; index: At The Club ; cos sim: [[0.99999003]]\n",
            "len train data: 63 ; index: Still Got Me (feat. Jocelyn Bowman) ; cos sim: [[0.99999719]]\n",
            "len train data: 63 ; index: California ; cos sim: [[0.99999406]]\n",
            "len train data: 63 ; index: Still Got Me (feat. Jocelyn Bowman) ; cos sim: [[0.99998572]]\n",
            "len train data: 63 ; index: La Bicicleta ; cos sim: [[0.9999961]]\n",
            "len train data: 63 ; index: California ; cos sim: [[0.99998303]]\n",
            "len train data: 63 ; index: Shifts Of Light ; cos sim: [[0.99999497]]\n"
          ]
        }
      ]
    },
    {
      "cell_type": "code",
      "metadata": {
        "id": "ZAFU1-Mp2jsy"
      },
      "source": [
        "rec_coseT2=[]\n",
        "for i in rec_cosT2:\n",
        "  rec_coseT2.append(i[0][0])"
      ],
      "execution_count": 271,
      "outputs": []
    },
    {
      "cell_type": "code",
      "metadata": {
        "id": "LGue-_WhuEqo",
        "colab": {
          "base_uri": "https://localhost:8080/"
        },
        "outputId": "bd5e56e5-7f9b-4636-8e8e-5f726cf81254"
      },
      "source": [
        "euct2_name =[]\n",
        "rec_eucT2 = []\n",
        "for i in test_data2:\n",
        "  a = euclid_similarity_t2(i,euc_rec4)"
      ],
      "execution_count": 272,
      "outputs": [
        {
          "output_type": "stream",
          "name": "stdout",
          "text": [
            "len train data: 62 ; index: NEVER ; euclid sim: 1.1624878709044624\n",
            "len train data: 62 ; index: Wait For You (feat. Maia Wright) ; euclid sim: 0.45360478392539133\n",
            "len train data: 62 ; index: Into You (feat. Fabolous) ; euclid sim: 1.3490110637055517\n",
            "len train data: 62 ; index: It's Been Awhile ; euclid sim: 2.5097155277242074\n",
            "len train data: 62 ; index: Front Seat ; euclid sim: 3.291738811023752\n",
            "len train data: 62 ; index: Je m'en vais ; euclid sim: 1.4273407611358961\n",
            "len train data: 62 ; index: Before You Go ; euclid sim: 2.4189794831705407\n",
            "len train data: 62 ; index: Before You Go ; euclid sim: 1.4787820338373063\n",
            "len train data: 62 ; index: Wait For You (feat. Maia Wright) ; euclid sim: 0.7984944708637599\n",
            "len train data: 62 ; index: California Love - Original Version (Explicit) ; euclid sim: 1.0938691923625965\n",
            "len train data: 62 ; index: NEVER ; euclid sim: 1.5425898453250677\n",
            "len train data: 62 ; index: Rendezvous ; euclid sim: 0.8993125485614017\n",
            "len train data: 62 ; index: Always Gonna Say Sorry ; euclid sim: 2.7170513521094977\n",
            "len train data: 62 ; index: Je m'en vais ; euclid sim: 1.9589469135226796\n",
            "len train data: 62 ; index: Prelude 6 - Pt. 1 ; euclid sim: 18.14466769914509\n",
            "len train data: 62 ; index: Always Gonna Say Sorry ; euclid sim: 1.2713710276705203\n",
            "len train data: 62 ; index: Rock N' Roll ; euclid sim: 2.2102564941653267\n"
          ]
        }
      ]
    },
    {
      "cell_type": "code",
      "metadata": {
        "id": "GPEUMkQaL2i-"
      },
      "source": [
        "def cos_similarity_t3(x,d):\n",
        "  recommended = []  \n",
        "  for i in d:\n",
        "    a = cosine_similarity([x],[i])\n",
        "    recommended.append(a)\n",
        "  rec_score=max(recommended)\n",
        "  rec_index = recommended.index(rec_score)\n",
        "  rec_cosT3.append(rec_score)\n",
        "  rec_idx = cos_rec5.index[rec_index]\n",
        "  cost3_name.append(rec_idx)\n",
        "  rec_len = len(recommended)\n",
        "  print('len train data:',rec_len,'; index:',rec_idx,'; cos sim:',rec_score)\n",
        "\n",
        "def euclid_similarity_t3(x,d):\n",
        "  recommended = []  \n",
        "  for i in d:\n",
        "    a = distance.euclidean([x],[i])\n",
        "    recommended.append(a)\n",
        "  rec_score=min(recommended)\n",
        "  rec_index = recommended.index(rec_score)\n",
        "  rec_eucT3.append(rec_score)\n",
        "  rec_idx = euc_rec5.index[rec_index]\n",
        "  euct3_name.append(rec_idx)\n",
        "  rec_len = len(recommended)\n",
        "  print('len train data:',rec_len,'; index:',rec_idx,'; euclid sim:',rec_score)"
      ],
      "execution_count": 273,
      "outputs": []
    },
    {
      "cell_type": "code",
      "metadata": {
        "id": "h7yHchNGL4IY",
        "colab": {
          "base_uri": "https://localhost:8080/"
        },
        "outputId": "bf5c8db6-b17d-43ae-fbe8-60b4e00725f1"
      },
      "source": [
        "#compare recomendations to test subjects\n",
        "cost3_name = []\n",
        "rec_cosT3 = []\n",
        "for i in test_data3:\n",
        "  a = cos_similarity_t3(i,cos_rec4)"
      ],
      "execution_count": 274,
      "outputs": [
        {
          "output_type": "stream",
          "name": "stdout",
          "text": [
            "len train data: 63 ; index: Molly ; cos sim: [[0.99998594]]\n",
            "len train data: 63 ; index: La Bicicleta ; cos sim: [[0.99999727]]\n",
            "len train data: 63 ; index: Control ; cos sim: [[0.99999376]]\n",
            "len train data: 63 ; index: Summer Song ; cos sim: [[0.99998837]]\n",
            "len train data: 63 ; index: Still Got Me (feat. Jocelyn Bowman) ; cos sim: [[0.99998945]]\n",
            "len train data: 63 ; index: Shifts Of Light ; cos sim: [[0.99999584]]\n",
            "len train data: 63 ; index: Still Got Me (feat. Jocelyn Bowman) ; cos sim: [[0.99999296]]\n",
            "len train data: 63 ; index: Bennie And The Jets - Remastered 2014 ; cos sim: [[0.99997388]]\n",
            "len train data: 63 ; index: California ; cos sim: [[0.999971]]\n",
            "len train data: 63 ; index: Blinding Lights ; cos sim: [[0.99999664]]\n",
            "len train data: 63 ; index: California ; cos sim: [[0.99998469]]\n"
          ]
        }
      ]
    },
    {
      "cell_type": "code",
      "metadata": {
        "id": "DX7PNN4N2q4C"
      },
      "source": [
        "rec_coseT3=[]\n",
        "for i in rec_cosT3:\n",
        "  rec_coseT3.append(i[0][0])"
      ],
      "execution_count": 275,
      "outputs": []
    },
    {
      "cell_type": "code",
      "metadata": {
        "id": "S22wN0m6L7J5",
        "colab": {
          "base_uri": "https://localhost:8080/"
        },
        "outputId": "57b5b7db-632f-40cb-9c65-8126e1cf51d6"
      },
      "source": [
        "euct3_name = []\n",
        "rec_eucT3 = []\n",
        "for i in test_data3:\n",
        "  a = euclid_similarity_t3(i,euc_rec4)"
      ],
      "execution_count": 276,
      "outputs": [
        {
          "output_type": "stream",
          "name": "stdout",
          "text": [
            "len train data: 62 ; index: Grow Up - Martin Jensen Remix ; euclid sim: 0.445663931679466\n",
            "len train data: 62 ; index: Algo Rhythm ; euclid sim: 1.1403018735149077\n",
            "len train data: 62 ; index: Sway - Chainsmokers Remix ; euclid sim: 0.0\n",
            "len train data: 62 ; index: Billion ; euclid sim: 2.934463041857091\n",
            "len train data: 62 ; index: Kayleigh - 2017 Remaster ; euclid sim: 1.5653104356644476\n",
            "len train data: 62 ; index: 22 ; euclid sim: 4.576022710269249\n",
            "len train data: 62 ; index: Je m'en vais ; euclid sim: 2.274603846826963\n",
            "len train data: 62 ; index: Blessings ; euclid sim: 1.396004917613115\n",
            "len train data: 62 ; index: Want Beef? ; euclid sim: 3.639458132744489\n",
            "len train data: 62 ; index: Los Feliz ; euclid sim: 2.039058150225246\n",
            "len train data: 62 ; index: Crime Wave ; euclid sim: 1.6885977277519264\n"
          ]
        }
      ]
    },
    {
      "cell_type": "code",
      "metadata": {
        "id": "AUCxAfmN7W-D"
      },
      "source": [
        "rec_coseT1.extend(rec_coseT2)"
      ],
      "execution_count": 277,
      "outputs": []
    },
    {
      "cell_type": "code",
      "metadata": {
        "id": "pE6LJqcF_RGi"
      },
      "source": [
        "rec_coseT1.extend(rec_coseT3)"
      ],
      "execution_count": 278,
      "outputs": []
    },
    {
      "cell_type": "code",
      "metadata": {
        "colab": {
          "base_uri": "https://localhost:8080/"
        },
        "id": "M4-bXg0QBSIL",
        "outputId": "c015f8ed-d1f5-45d9-ca3b-2b2a85dda897"
      },
      "source": [
        "print(rec_coseT1)"
      ],
      "execution_count": 279,
      "outputs": [
        {
          "output_type": "stream",
          "name": "stdout",
          "text": [
            "[0.9999929428711826, 0.9999869982023877, 1.0, 0.9999952371761154, 0.9999953388367763, 0.9999965037946112, 0.9999936415664861, 0.9999947039448756, 0.9999974527504084, 0.9999843186683912, 0.9999911562051341, 0.999996568973574, 0.9999999999999999, 0.9999944703515424, 0.9999819652360916, 0.9999835693872371, 0.9999894998494051, 0.9999858330464003, 0.9999980841902939, 0.9999596014218345, 0.9999900256574256, 0.9999971869652006, 0.9999940555560881, 0.9999857243261181, 0.9999961014923275, 0.9999830328282334, 0.9999949665758084, 0.9999859351853936, 0.9999972749058328, 0.9999937555927387, 0.9999883732541607, 0.9999894480679602, 0.9999958434635062, 0.9999929613980804, 0.9999738830953411, 0.9999710030552, 0.999996643582321, 0.9999846883065254]\n"
          ]
        }
      ]
    },
    {
      "cell_type": "code",
      "metadata": {
        "id": "mkzOzz8eBcui"
      },
      "source": [
        "rec_eucT1.extend(rec_eucT2)\n",
        "rec_eucT1.extend(rec_eucT3)"
      ],
      "execution_count": 280,
      "outputs": []
    },
    {
      "cell_type": "code",
      "metadata": {
        "colab": {
          "base_uri": "https://localhost:8080/"
        },
        "id": "Jj8RrhgNEUAS",
        "outputId": "0defb778-9b49-4b1f-dcc6-690ea7ac58fb"
      },
      "source": [
        "print(rec_eucT1)"
      ],
      "execution_count": 281,
      "outputs": [
        {
          "output_type": "stream",
          "name": "stdout",
          "text": [
            "[2.3240379967633955, 2.263029352438881, 3.6536519456565646, 2.246405764771809, 1.3977144475684622, 0.9548193243226628, 1.0628740359986204, 1.421352778165919, 3.6111516147760963, 1.0490313293701004, 1.1624878709044624, 0.45360478392539133, 1.3490110637055517, 2.5097155277242074, 3.291738811023752, 1.4273407611358961, 2.4189794831705407, 1.4787820338373063, 0.7984944708637599, 1.0938691923625965, 1.5425898453250677, 0.8993125485614017, 2.7170513521094977, 1.9589469135226796, 18.14466769914509, 1.2713710276705203, 2.2102564941653267, 0.445663931679466, 1.1403018735149077, 0.0, 2.934463041857091, 1.5653104356644476, 4.576022710269249, 2.274603846826963, 1.396004917613115, 3.639458132744489, 2.039058150225246, 1.6885977277519264]\n"
          ]
        }
      ]
    },
    {
      "cell_type": "markdown",
      "metadata": {
        "id": "RwwqpeZCKM7x"
      },
      "source": [
        "The two hypotheses for this particular two sample t-test are as follows:\n",
        "\n",
        "H0: µ1 = µ2 (the two population means are equal)\n",
        "\n",
        "HA: µ1 ≠µ2 (the two population means are not equal)\n",
        "\n",
        "Because the p-value of our test (0.0595) is greater than alpha = 0.05, we fail to reject the null hypothesis of the test. We do not have sufficient evidence to say that the mean height of plants between the two populations is different."
      ]
    },
    {
      "cell_type": "code",
      "metadata": {
        "id": "xwYINgNrNr6w"
      },
      "source": [
        "df1_rec =  df4[df4['track_name'].isin(euct1_name)]\n",
        "df2_rec =  df4[df4['track_name'].isin(euct2_name)]\n",
        "df3_rec =  df4[df4['track_name'].isin(euct3_name)]\n",
        "dfc1_rec =  df4[df4['track_name'].isin(cost1_name)]\n",
        "dfc2_rec =  df4[df4['track_name'].isin(cost2_name)]\n",
        "dfc3_rec =  df4[df4['track_name'].isin(cost3_name)]"
      ],
      "execution_count": 282,
      "outputs": []
    },
    {
      "cell_type": "code",
      "metadata": {
        "colab": {
          "base_uri": "https://localhost:8080/",
          "height": 359
        },
        "id": "iet08MM0Nyr3",
        "outputId": "3ab854a3-66a2-484c-886b-95768700bc4a"
      },
      "source": [
        "testing37 = df1_rec.iloc[:,[0,2]]\n",
        "testing37_dict = dict(zip(testing37.track_name, testing37.track_artist))\n",
        "eucdf1 = pd.DataFrame(euct1_name)\n",
        "eucdf1['artist'] = eucdf1[0].map(testing37_dict)\n",
        "eucdf1"
      ],
      "execution_count": 283,
      "outputs": [
        {
          "output_type": "execute_result",
          "data": {
            "text/html": [
              "<div>\n",
              "<style scoped>\n",
              "    .dataframe tbody tr th:only-of-type {\n",
              "        vertical-align: middle;\n",
              "    }\n",
              "\n",
              "    .dataframe tbody tr th {\n",
              "        vertical-align: top;\n",
              "    }\n",
              "\n",
              "    .dataframe thead th {\n",
              "        text-align: right;\n",
              "    }\n",
              "</style>\n",
              "<table border=\"1\" class=\"dataframe\">\n",
              "  <thead>\n",
              "    <tr style=\"text-align: right;\">\n",
              "      <th></th>\n",
              "      <th>0</th>\n",
              "      <th>artist</th>\n",
              "    </tr>\n",
              "  </thead>\n",
              "  <tbody>\n",
              "    <tr>\n",
              "      <th>0</th>\n",
              "      <td>BFAM - Original Mix</td>\n",
              "      <td>Julian Jordan</td>\n",
              "    </tr>\n",
              "    <tr>\n",
              "      <th>1</th>\n",
              "      <td>Moon</td>\n",
              "      <td>Kid Francescoli</td>\n",
              "    </tr>\n",
              "    <tr>\n",
              "      <th>2</th>\n",
              "      <td>Nudies</td>\n",
              "      <td>24hrs</td>\n",
              "    </tr>\n",
              "    <tr>\n",
              "      <th>3</th>\n",
              "      <td>Want Beef?</td>\n",
              "      <td>YSN Flow</td>\n",
              "    </tr>\n",
              "    <tr>\n",
              "      <th>4</th>\n",
              "      <td>Algo Rhythm</td>\n",
              "      <td>One Sentence. Supervisor</td>\n",
              "    </tr>\n",
              "    <tr>\n",
              "      <th>5</th>\n",
              "      <td>It's Been Awhile</td>\n",
              "      <td>Staind</td>\n",
              "    </tr>\n",
              "    <tr>\n",
              "      <th>6</th>\n",
              "      <td>BFAM - Original Mix</td>\n",
              "      <td>Julian Jordan</td>\n",
              "    </tr>\n",
              "    <tr>\n",
              "      <th>7</th>\n",
              "      <td>Alarm</td>\n",
              "      <td>Anne-Marie</td>\n",
              "    </tr>\n",
              "    <tr>\n",
              "      <th>8</th>\n",
              "      <td>22</td>\n",
              "      <td>TINI</td>\n",
              "    </tr>\n",
              "    <tr>\n",
              "      <th>9</th>\n",
              "      <td>Je m'en vais</td>\n",
              "      <td>Cali</td>\n",
              "    </tr>\n",
              "  </tbody>\n",
              "</table>\n",
              "</div>"
            ],
            "text/plain": [
              "                     0                    artist\n",
              "0  BFAM - Original Mix             Julian Jordan\n",
              "1                 Moon           Kid Francescoli\n",
              "2               Nudies                     24hrs\n",
              "3           Want Beef?                  YSN Flow\n",
              "4          Algo Rhythm  One Sentence. Supervisor\n",
              "5     It's Been Awhile                    Staind\n",
              "6  BFAM - Original Mix             Julian Jordan\n",
              "7                Alarm                Anne-Marie\n",
              "8                   22                      TINI\n",
              "9         Je m'en vais                      Cali"
            ]
          },
          "metadata": {},
          "execution_count": 283
        }
      ]
    },
    {
      "cell_type": "code",
      "metadata": {
        "colab": {
          "base_uri": "https://localhost:8080/",
          "height": 576
        },
        "id": "s8biuKXqN2n4",
        "outputId": "98a2252a-98fe-4015-a919-5b1521dcb38f"
      },
      "source": [
        "testing38 = df2_rec.iloc[:,[0,2]]\n",
        "testing38_dict = dict(zip(testing38.track_name, testing38.track_artist))\n",
        "eucdf2 = pd.DataFrame(euct2_name)\n",
        "eucdf2['artist'] = eucdf2[0].map(testing38_dict)\n",
        "eucdf2"
      ],
      "execution_count": 284,
      "outputs": [
        {
          "output_type": "execute_result",
          "data": {
            "text/html": [
              "<div>\n",
              "<style scoped>\n",
              "    .dataframe tbody tr th:only-of-type {\n",
              "        vertical-align: middle;\n",
              "    }\n",
              "\n",
              "    .dataframe tbody tr th {\n",
              "        vertical-align: top;\n",
              "    }\n",
              "\n",
              "    .dataframe thead th {\n",
              "        text-align: right;\n",
              "    }\n",
              "</style>\n",
              "<table border=\"1\" class=\"dataframe\">\n",
              "  <thead>\n",
              "    <tr style=\"text-align: right;\">\n",
              "      <th></th>\n",
              "      <th>0</th>\n",
              "      <th>artist</th>\n",
              "    </tr>\n",
              "  </thead>\n",
              "  <tbody>\n",
              "    <tr>\n",
              "      <th>0</th>\n",
              "      <td>NEVER</td>\n",
              "      <td>JID</td>\n",
              "    </tr>\n",
              "    <tr>\n",
              "      <th>1</th>\n",
              "      <td>Wait For You (feat. Maia Wright)</td>\n",
              "      <td>Mike Williams</td>\n",
              "    </tr>\n",
              "    <tr>\n",
              "      <th>2</th>\n",
              "      <td>Into You (feat. Fabolous)</td>\n",
              "      <td>Tamia</td>\n",
              "    </tr>\n",
              "    <tr>\n",
              "      <th>3</th>\n",
              "      <td>It's Been Awhile</td>\n",
              "      <td>Staind</td>\n",
              "    </tr>\n",
              "    <tr>\n",
              "      <th>4</th>\n",
              "      <td>Front Seat</td>\n",
              "      <td>Next Town Down</td>\n",
              "    </tr>\n",
              "    <tr>\n",
              "      <th>5</th>\n",
              "      <td>Je m'en vais</td>\n",
              "      <td>Cali</td>\n",
              "    </tr>\n",
              "    <tr>\n",
              "      <th>6</th>\n",
              "      <td>Before You Go</td>\n",
              "      <td>Lewis Capaldi</td>\n",
              "    </tr>\n",
              "    <tr>\n",
              "      <th>7</th>\n",
              "      <td>Before You Go</td>\n",
              "      <td>Lewis Capaldi</td>\n",
              "    </tr>\n",
              "    <tr>\n",
              "      <th>8</th>\n",
              "      <td>Wait For You (feat. Maia Wright)</td>\n",
              "      <td>Mike Williams</td>\n",
              "    </tr>\n",
              "    <tr>\n",
              "      <th>9</th>\n",
              "      <td>California Love - Original Version (Explicit)</td>\n",
              "      <td>2Pac</td>\n",
              "    </tr>\n",
              "    <tr>\n",
              "      <th>10</th>\n",
              "      <td>NEVER</td>\n",
              "      <td>JID</td>\n",
              "    </tr>\n",
              "    <tr>\n",
              "      <th>11</th>\n",
              "      <td>Rendezvous</td>\n",
              "      <td>DEAMN</td>\n",
              "    </tr>\n",
              "    <tr>\n",
              "      <th>12</th>\n",
              "      <td>Always Gonna Say Sorry</td>\n",
              "      <td>Joakim Molitor</td>\n",
              "    </tr>\n",
              "    <tr>\n",
              "      <th>13</th>\n",
              "      <td>Je m'en vais</td>\n",
              "      <td>Cali</td>\n",
              "    </tr>\n",
              "    <tr>\n",
              "      <th>14</th>\n",
              "      <td>Prelude 6 - Pt. 1</td>\n",
              "      <td>Max Richter</td>\n",
              "    </tr>\n",
              "    <tr>\n",
              "      <th>15</th>\n",
              "      <td>Always Gonna Say Sorry</td>\n",
              "      <td>Joakim Molitor</td>\n",
              "    </tr>\n",
              "    <tr>\n",
              "      <th>16</th>\n",
              "      <td>Rock N' Roll</td>\n",
              "      <td>Dfideliz</td>\n",
              "    </tr>\n",
              "  </tbody>\n",
              "</table>\n",
              "</div>"
            ],
            "text/plain": [
              "                                                0          artist\n",
              "0                                           NEVER             JID\n",
              "1                Wait For You (feat. Maia Wright)   Mike Williams\n",
              "2                       Into You (feat. Fabolous)           Tamia\n",
              "3                                It's Been Awhile          Staind\n",
              "4                                      Front Seat  Next Town Down\n",
              "5                                    Je m'en vais            Cali\n",
              "6                                   Before You Go   Lewis Capaldi\n",
              "7                                   Before You Go   Lewis Capaldi\n",
              "8                Wait For You (feat. Maia Wright)   Mike Williams\n",
              "9   California Love - Original Version (Explicit)            2Pac\n",
              "10                                          NEVER             JID\n",
              "11                                     Rendezvous           DEAMN\n",
              "12                         Always Gonna Say Sorry  Joakim Molitor\n",
              "13                                   Je m'en vais            Cali\n",
              "14                              Prelude 6 - Pt. 1     Max Richter\n",
              "15                         Always Gonna Say Sorry  Joakim Molitor\n",
              "16                                   Rock N' Roll        Dfideliz"
            ]
          },
          "metadata": {},
          "execution_count": 284
        }
      ]
    },
    {
      "cell_type": "code",
      "metadata": {
        "colab": {
          "base_uri": "https://localhost:8080/",
          "height": 390
        },
        "id": "f9FVM9ZFN9Kd",
        "outputId": "f7f99f6c-6449-42cf-973d-3f4a3198c809"
      },
      "source": [
        "testing39 = df3_rec.iloc[:,[0,2]]\n",
        "testing39_dict = dict(zip(testing39.track_name, testing39.track_artist))\n",
        "eucdf3 = pd.DataFrame(euct3_name)\n",
        "eucdf3['artist'] = eucdf3[0].map(testing39_dict)\n",
        "eucdf3"
      ],
      "execution_count": 285,
      "outputs": [
        {
          "output_type": "execute_result",
          "data": {
            "text/html": [
              "<div>\n",
              "<style scoped>\n",
              "    .dataframe tbody tr th:only-of-type {\n",
              "        vertical-align: middle;\n",
              "    }\n",
              "\n",
              "    .dataframe tbody tr th {\n",
              "        vertical-align: top;\n",
              "    }\n",
              "\n",
              "    .dataframe thead th {\n",
              "        text-align: right;\n",
              "    }\n",
              "</style>\n",
              "<table border=\"1\" class=\"dataframe\">\n",
              "  <thead>\n",
              "    <tr style=\"text-align: right;\">\n",
              "      <th></th>\n",
              "      <th>0</th>\n",
              "      <th>artist</th>\n",
              "    </tr>\n",
              "  </thead>\n",
              "  <tbody>\n",
              "    <tr>\n",
              "      <th>0</th>\n",
              "      <td>Grow Up - Martin Jensen Remix</td>\n",
              "      <td>Olly Murs</td>\n",
              "    </tr>\n",
              "    <tr>\n",
              "      <th>1</th>\n",
              "      <td>Algo Rhythm</td>\n",
              "      <td>One Sentence. Supervisor</td>\n",
              "    </tr>\n",
              "    <tr>\n",
              "      <th>2</th>\n",
              "      <td>Sway - Chainsmokers Remix</td>\n",
              "      <td>Anna of the North</td>\n",
              "    </tr>\n",
              "    <tr>\n",
              "      <th>3</th>\n",
              "      <td>Billion</td>\n",
              "      <td>Emilia</td>\n",
              "    </tr>\n",
              "    <tr>\n",
              "      <th>4</th>\n",
              "      <td>Kayleigh - 2017 Remaster</td>\n",
              "      <td>Marillion</td>\n",
              "    </tr>\n",
              "    <tr>\n",
              "      <th>5</th>\n",
              "      <td>22</td>\n",
              "      <td>TINI</td>\n",
              "    </tr>\n",
              "    <tr>\n",
              "      <th>6</th>\n",
              "      <td>Je m'en vais</td>\n",
              "      <td>Cali</td>\n",
              "    </tr>\n",
              "    <tr>\n",
              "      <th>7</th>\n",
              "      <td>Blessings</td>\n",
              "      <td>Tropixx</td>\n",
              "    </tr>\n",
              "    <tr>\n",
              "      <th>8</th>\n",
              "      <td>Want Beef?</td>\n",
              "      <td>YSN Flow</td>\n",
              "    </tr>\n",
              "    <tr>\n",
              "      <th>9</th>\n",
              "      <td>Los Feliz</td>\n",
              "      <td>Search For Atlantis</td>\n",
              "    </tr>\n",
              "    <tr>\n",
              "      <th>10</th>\n",
              "      <td>Crime Wave</td>\n",
              "      <td>50 Cent</td>\n",
              "    </tr>\n",
              "  </tbody>\n",
              "</table>\n",
              "</div>"
            ],
            "text/plain": [
              "                                0                    artist\n",
              "0   Grow Up - Martin Jensen Remix                 Olly Murs\n",
              "1                     Algo Rhythm  One Sentence. Supervisor\n",
              "2       Sway - Chainsmokers Remix         Anna of the North\n",
              "3                         Billion                    Emilia\n",
              "4        Kayleigh - 2017 Remaster                 Marillion\n",
              "5                              22                      TINI\n",
              "6                    Je m'en vais                      Cali\n",
              "7                       Blessings                   Tropixx\n",
              "8                      Want Beef?                  YSN Flow\n",
              "9                       Los Feliz       Search For Atlantis\n",
              "10                     Crime Wave                   50 Cent"
            ]
          },
          "metadata": {},
          "execution_count": 285
        }
      ]
    },
    {
      "cell_type": "code",
      "metadata": {
        "colab": {
          "base_uri": "https://localhost:8080/",
          "height": 359
        },
        "id": "RQ81zatSOAo4",
        "outputId": "8868d9f2-089e-40f1-c332-fb2455640b10"
      },
      "source": [
        "testing40 = dfc1_rec.iloc[:,[0,2]]\n",
        "testing40_dict = dict(zip(testing40.track_name, testing40.track_artist))\n",
        "cosdf1 = pd.DataFrame(cost1_name)\n",
        "cosdf1['artist'] = cosdf1[0].map(testing40_dict)\n",
        "cosdf1"
      ],
      "execution_count": 286,
      "outputs": [
        {
          "output_type": "execute_result",
          "data": {
            "text/html": [
              "<div>\n",
              "<style scoped>\n",
              "    .dataframe tbody tr th:only-of-type {\n",
              "        vertical-align: middle;\n",
              "    }\n",
              "\n",
              "    .dataframe tbody tr th {\n",
              "        vertical-align: top;\n",
              "    }\n",
              "\n",
              "    .dataframe thead th {\n",
              "        text-align: right;\n",
              "    }\n",
              "</style>\n",
              "<table border=\"1\" class=\"dataframe\">\n",
              "  <thead>\n",
              "    <tr style=\"text-align: right;\">\n",
              "      <th></th>\n",
              "      <th>0</th>\n",
              "      <th>artist</th>\n",
              "    </tr>\n",
              "  </thead>\n",
              "  <tbody>\n",
              "    <tr>\n",
              "      <th>0</th>\n",
              "      <td>Piensan</td>\n",
              "      <td>Myke Towers</td>\n",
              "    </tr>\n",
              "    <tr>\n",
              "      <th>1</th>\n",
              "      <td>Let Her Go</td>\n",
              "      <td>6LACK</td>\n",
              "    </tr>\n",
              "    <tr>\n",
              "      <th>2</th>\n",
              "      <td>Lower</td>\n",
              "      <td>TENDER</td>\n",
              "    </tr>\n",
              "    <tr>\n",
              "      <th>3</th>\n",
              "      <td>Tumbando el Club (feat. C.R.O., Obiewanshot, Y...</td>\n",
              "      <td>Neo Pistea</td>\n",
              "    </tr>\n",
              "    <tr>\n",
              "      <th>4</th>\n",
              "      <td>Shifts Of Light</td>\n",
              "      <td>Avery Young</td>\n",
              "    </tr>\n",
              "    <tr>\n",
              "      <th>5</th>\n",
              "      <td>Molly</td>\n",
              "      <td>Tyga</td>\n",
              "    </tr>\n",
              "    <tr>\n",
              "      <th>6</th>\n",
              "      <td>Paradise</td>\n",
              "      <td>Coldplay</td>\n",
              "    </tr>\n",
              "    <tr>\n",
              "      <th>7</th>\n",
              "      <td>Let Her Go</td>\n",
              "      <td>6LACK</td>\n",
              "    </tr>\n",
              "    <tr>\n",
              "      <th>8</th>\n",
              "      <td>Piensan</td>\n",
              "      <td>Myke Towers</td>\n",
              "    </tr>\n",
              "    <tr>\n",
              "      <th>9</th>\n",
              "      <td>Enemy Turf</td>\n",
              "      <td>Juvenile</td>\n",
              "    </tr>\n",
              "  </tbody>\n",
              "</table>\n",
              "</div>"
            ],
            "text/plain": [
              "                                                   0       artist\n",
              "0                                            Piensan  Myke Towers\n",
              "1                                         Let Her Go        6LACK\n",
              "2                                              Lower       TENDER\n",
              "3  Tumbando el Club (feat. C.R.O., Obiewanshot, Y...   Neo Pistea\n",
              "4                                    Shifts Of Light  Avery Young\n",
              "5                                              Molly         Tyga\n",
              "6                                           Paradise     Coldplay\n",
              "7                                         Let Her Go        6LACK\n",
              "8                                            Piensan  Myke Towers\n",
              "9                                         Enemy Turf     Juvenile"
            ]
          },
          "metadata": {},
          "execution_count": 286
        }
      ]
    },
    {
      "cell_type": "code",
      "metadata": {
        "colab": {
          "base_uri": "https://localhost:8080/",
          "height": 576
        },
        "id": "WfGSIGgUOEL6",
        "outputId": "3c38df31-4cc8-4803-c718-4c62e6bd6cd1"
      },
      "source": [
        "testing41 = dfc2_rec.iloc[:,[0,2]]\n",
        "testing41_dict = dict(zip(testing41.track_name, testing41.track_artist))\n",
        "cosdf2 = pd.DataFrame(cost2_name)\n",
        "cosdf2['artist'] = cosdf2[0].map(testing41_dict)\n",
        "cosdf2"
      ],
      "execution_count": 287,
      "outputs": [
        {
          "output_type": "execute_result",
          "data": {
            "text/html": [
              "<div>\n",
              "<style scoped>\n",
              "    .dataframe tbody tr th:only-of-type {\n",
              "        vertical-align: middle;\n",
              "    }\n",
              "\n",
              "    .dataframe tbody tr th {\n",
              "        vertical-align: top;\n",
              "    }\n",
              "\n",
              "    .dataframe thead th {\n",
              "        text-align: right;\n",
              "    }\n",
              "</style>\n",
              "<table border=\"1\" class=\"dataframe\">\n",
              "  <thead>\n",
              "    <tr style=\"text-align: right;\">\n",
              "      <th></th>\n",
              "      <th>0</th>\n",
              "      <th>artist</th>\n",
              "    </tr>\n",
              "  </thead>\n",
              "  <tbody>\n",
              "    <tr>\n",
              "      <th>0</th>\n",
              "      <td>California</td>\n",
              "      <td>Delinquent Habits</td>\n",
              "    </tr>\n",
              "    <tr>\n",
              "      <th>1</th>\n",
              "      <td>Still Got Me (feat. Jocelyn Bowman)</td>\n",
              "      <td>GAWVI</td>\n",
              "    </tr>\n",
              "    <tr>\n",
              "      <th>2</th>\n",
              "      <td>I Adore Mi Amor</td>\n",
              "      <td>Color Me Badd</td>\n",
              "    </tr>\n",
              "    <tr>\n",
              "      <th>3</th>\n",
              "      <td>Still Got Me (feat. Jocelyn Bowman)</td>\n",
              "      <td>GAWVI</td>\n",
              "    </tr>\n",
              "    <tr>\n",
              "      <th>4</th>\n",
              "      <td>Don't Kill My High (feat. Wiz Khalifa &amp; Social...</td>\n",
              "      <td>Lost Kings</td>\n",
              "    </tr>\n",
              "    <tr>\n",
              "      <th>5</th>\n",
              "      <td>Still Got Me (feat. Jocelyn Bowman)</td>\n",
              "      <td>GAWVI</td>\n",
              "    </tr>\n",
              "    <tr>\n",
              "      <th>6</th>\n",
              "      <td>Broccoli</td>\n",
              "      <td>DRAM</td>\n",
              "    </tr>\n",
              "    <tr>\n",
              "      <th>7</th>\n",
              "      <td>Paradise</td>\n",
              "      <td>Coldplay</td>\n",
              "    </tr>\n",
              "    <tr>\n",
              "      <th>8</th>\n",
              "      <td>Still Got Me (feat. Jocelyn Bowman)</td>\n",
              "      <td>GAWVI</td>\n",
              "    </tr>\n",
              "    <tr>\n",
              "      <th>9</th>\n",
              "      <td>Don't Kill My High (feat. Wiz Khalifa &amp; Social...</td>\n",
              "      <td>Lost Kings</td>\n",
              "    </tr>\n",
              "    <tr>\n",
              "      <th>10</th>\n",
              "      <td>At The Club</td>\n",
              "      <td>Jacquees</td>\n",
              "    </tr>\n",
              "    <tr>\n",
              "      <th>11</th>\n",
              "      <td>Still Got Me (feat. Jocelyn Bowman)</td>\n",
              "      <td>GAWVI</td>\n",
              "    </tr>\n",
              "    <tr>\n",
              "      <th>12</th>\n",
              "      <td>California</td>\n",
              "      <td>Delinquent Habits</td>\n",
              "    </tr>\n",
              "    <tr>\n",
              "      <th>13</th>\n",
              "      <td>Still Got Me (feat. Jocelyn Bowman)</td>\n",
              "      <td>GAWVI</td>\n",
              "    </tr>\n",
              "    <tr>\n",
              "      <th>14</th>\n",
              "      <td>La Bicicleta</td>\n",
              "      <td>Carlos Vives</td>\n",
              "    </tr>\n",
              "    <tr>\n",
              "      <th>15</th>\n",
              "      <td>California</td>\n",
              "      <td>Delinquent Habits</td>\n",
              "    </tr>\n",
              "    <tr>\n",
              "      <th>16</th>\n",
              "      <td>Shifts Of Light</td>\n",
              "      <td>Avery Young</td>\n",
              "    </tr>\n",
              "  </tbody>\n",
              "</table>\n",
              "</div>"
            ],
            "text/plain": [
              "                                                    0             artist\n",
              "0                                          California  Delinquent Habits\n",
              "1                 Still Got Me (feat. Jocelyn Bowman)              GAWVI\n",
              "2                                     I Adore Mi Amor      Color Me Badd\n",
              "3                 Still Got Me (feat. Jocelyn Bowman)              GAWVI\n",
              "4   Don't Kill My High (feat. Wiz Khalifa & Social...         Lost Kings\n",
              "5                 Still Got Me (feat. Jocelyn Bowman)              GAWVI\n",
              "6                                            Broccoli               DRAM\n",
              "7                                            Paradise           Coldplay\n",
              "8                 Still Got Me (feat. Jocelyn Bowman)              GAWVI\n",
              "9   Don't Kill My High (feat. Wiz Khalifa & Social...         Lost Kings\n",
              "10                                        At The Club           Jacquees\n",
              "11                Still Got Me (feat. Jocelyn Bowman)              GAWVI\n",
              "12                                         California  Delinquent Habits\n",
              "13                Still Got Me (feat. Jocelyn Bowman)              GAWVI\n",
              "14                                       La Bicicleta       Carlos Vives\n",
              "15                                         California  Delinquent Habits\n",
              "16                                    Shifts Of Light        Avery Young"
            ]
          },
          "metadata": {},
          "execution_count": 287
        }
      ]
    },
    {
      "cell_type": "code",
      "metadata": {
        "colab": {
          "base_uri": "https://localhost:8080/",
          "height": 390
        },
        "id": "-lJsmYJyOHUY",
        "outputId": "68d937fa-9c1a-40b9-c1eb-921c0d0a1e72"
      },
      "source": [
        "testing42 = dfc3_rec.iloc[:,[0,2]]\n",
        "testing42_dict = dict(zip(testing42.track_name, testing42.track_artist))\n",
        "cosdf3 = pd.DataFrame(cost3_name)\n",
        "cosdf3['artist'] = cosdf3[0].map(testing42_dict)\n",
        "cosdf3"
      ],
      "execution_count": 288,
      "outputs": [
        {
          "output_type": "execute_result",
          "data": {
            "text/html": [
              "<div>\n",
              "<style scoped>\n",
              "    .dataframe tbody tr th:only-of-type {\n",
              "        vertical-align: middle;\n",
              "    }\n",
              "\n",
              "    .dataframe tbody tr th {\n",
              "        vertical-align: top;\n",
              "    }\n",
              "\n",
              "    .dataframe thead th {\n",
              "        text-align: right;\n",
              "    }\n",
              "</style>\n",
              "<table border=\"1\" class=\"dataframe\">\n",
              "  <thead>\n",
              "    <tr style=\"text-align: right;\">\n",
              "      <th></th>\n",
              "      <th>0</th>\n",
              "      <th>artist</th>\n",
              "    </tr>\n",
              "  </thead>\n",
              "  <tbody>\n",
              "    <tr>\n",
              "      <th>0</th>\n",
              "      <td>Molly</td>\n",
              "      <td>Tyga</td>\n",
              "    </tr>\n",
              "    <tr>\n",
              "      <th>1</th>\n",
              "      <td>La Bicicleta</td>\n",
              "      <td>Carlos Vives</td>\n",
              "    </tr>\n",
              "    <tr>\n",
              "      <th>2</th>\n",
              "      <td>Control</td>\n",
              "      <td>Emmit Fenn</td>\n",
              "    </tr>\n",
              "    <tr>\n",
              "      <th>3</th>\n",
              "      <td>Summer Song</td>\n",
              "      <td>The Cranberries</td>\n",
              "    </tr>\n",
              "    <tr>\n",
              "      <th>4</th>\n",
              "      <td>Still Got Me (feat. Jocelyn Bowman)</td>\n",
              "      <td>GAWVI</td>\n",
              "    </tr>\n",
              "    <tr>\n",
              "      <th>5</th>\n",
              "      <td>Shifts Of Light</td>\n",
              "      <td>Avery Young</td>\n",
              "    </tr>\n",
              "    <tr>\n",
              "      <th>6</th>\n",
              "      <td>Still Got Me (feat. Jocelyn Bowman)</td>\n",
              "      <td>GAWVI</td>\n",
              "    </tr>\n",
              "    <tr>\n",
              "      <th>7</th>\n",
              "      <td>Bennie And The Jets - Remastered 2014</td>\n",
              "      <td>Elton John</td>\n",
              "    </tr>\n",
              "    <tr>\n",
              "      <th>8</th>\n",
              "      <td>California</td>\n",
              "      <td>Delinquent Habits</td>\n",
              "    </tr>\n",
              "    <tr>\n",
              "      <th>9</th>\n",
              "      <td>Blinding Lights</td>\n",
              "      <td>The Weeknd</td>\n",
              "    </tr>\n",
              "    <tr>\n",
              "      <th>10</th>\n",
              "      <td>California</td>\n",
              "      <td>Delinquent Habits</td>\n",
              "    </tr>\n",
              "  </tbody>\n",
              "</table>\n",
              "</div>"
            ],
            "text/plain": [
              "                                        0             artist\n",
              "0                                   Molly               Tyga\n",
              "1                            La Bicicleta       Carlos Vives\n",
              "2                                 Control         Emmit Fenn\n",
              "3                             Summer Song    The Cranberries\n",
              "4     Still Got Me (feat. Jocelyn Bowman)              GAWVI\n",
              "5                         Shifts Of Light        Avery Young\n",
              "6     Still Got Me (feat. Jocelyn Bowman)              GAWVI\n",
              "7   Bennie And The Jets - Remastered 2014         Elton John\n",
              "8                              California  Delinquent Habits\n",
              "9                         Blinding Lights         The Weeknd\n",
              "10                             California  Delinquent Habits"
            ]
          },
          "metadata": {},
          "execution_count": 288
        }
      ]
    },
    {
      "cell_type": "code",
      "metadata": {
        "id": "fzV6eCy5OsP6"
      },
      "source": [
        "NMrec_coseT1 = [0.9999882565562278, 0.9999979657721999, 0.9999923315617796, 0.9999746647186672, 0.9999901937205865, 0.9999706879428859, 0.9999924474371015, 0.9999880066636926, 0.9999949362641557, 0.9999965341681638, 0.9999936206901414, 0.9999965721246039, 0.9999959190435552, 0.9999946435235009, 0.9999952057741548, 0.9999872392137804, 0.9999859006190891, 0.9999901625784263, 0.9999811356355937, 1.0000000000000002, 0.9999874616201471, 0.9999951986407136, 0.999976208736606, 0.9999935849885221, 0.999985199829622, 0.9999697845137847, 1.0000000000000002, 0.9999880504097526, 0.9999833384467354, 0.9999986641236054, 0.9999817025765818, 0.9999898416831324, 0.9999933611849076, 0.99996833069327, 0.9999600371403314, 0.9999999999999998, 1.0000000000000002, 0.9999863089756407]"
      ],
      "execution_count": 293,
      "outputs": []
    },
    {
      "cell_type": "code",
      "metadata": {
        "id": "TZdVyLw9OpjR"
      },
      "source": [
        "EMrec_eucT1 = [2.407115927827317, 2.1227171705387295, 4.428556579981792, 2.197995593739894, 1.133499480833143, 1.250204570333929, 2.2072286900092637, 0.0, 4.4912641608460175, 1.4601177966224683, 1.8295074798865971, 1.939226915350311, 1.084095862919881, 1.116991413594705, 4.709134523475078, 2.035558851642454, 1.1725702367186985, 0.6141327507957888, 2.8147316651397443, 1.7313928641414678, 1.0622312904918578, 1.1790049733536883, 4.563023780345656, 2.8010729801274317, 20.15725075282835, 6.859939086548072, 0.9709992636601236, 1.454692714789706, 3.1254399877535644, 2.2184701844289014, 3.6878526751383274, 4.126718822454468, 7.898767420458693, 1.6347041395558488, 2.245660591006576, 2.2062962380650535, 5.008351012759326, 2.4266590922009037]"
      ],
      "execution_count": 290,
      "outputs": []
    },
    {
      "cell_type": "code",
      "metadata": {
        "colab": {
          "base_uri": "https://localhost:8080/"
        },
        "id": "PPJp7-NCOYm5",
        "outputId": "a7af49b0-c080-4472-a85c-e05ac6d592a0"
      },
      "source": [
        "from scipy import stats\n",
        "#stats.ttest_ind(rec_eucT1, EMrec_eucT1,equal_var = False)\n",
        "stats.ttest_rel(rec_eucT1, EMrec_eucT1)"
      ],
      "execution_count": 291,
      "outputs": [
        {
          "output_type": "execute_result",
          "data": {
            "text/plain": [
              "Ttest_relResult(statistic=-3.0820926033275975, pvalue=0.0038698273448219945)"
            ]
          },
          "metadata": {},
          "execution_count": 291
        }
      ]
    },
    {
      "cell_type": "code",
      "metadata": {
        "colab": {
          "base_uri": "https://localhost:8080/"
        },
        "id": "qROCFX7yOcsJ",
        "outputId": "45941d08-85f8-4367-becf-122f313c8f67"
      },
      "source": [
        "import scipy.stats as stats\n",
        "#stats.ttest_ind(rec_coseT1, b=NMrec_coseT1, equal_var=False)\n",
        "stats.ttest_rel(rec_coseT1, b=NMrec_coseT1)"
      ],
      "execution_count": 292,
      "outputs": [
        {
          "output_type": "execute_result",
          "data": {
            "text/plain": [
              "Ttest_relResult(statistic=0.817791931774762, pvalue=0.418711426073046)"
            ]
          },
          "metadata": {},
          "execution_count": 292
        }
      ]
    }
  ]
}