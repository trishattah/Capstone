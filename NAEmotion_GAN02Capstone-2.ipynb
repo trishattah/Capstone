{
  "nbformat": 4,
  "nbformat_minor": 0,
  "metadata": {
    "colab": {
      "name": "NAEmotion-GAN02Capstone.ipynb",
      "provenance": [],
      "collapsed_sections": []
    },
    "kernelspec": {
      "name": "python3",
      "display_name": "Python 3"
    },
    "language_info": {
      "name": "python"
    }
  },
  "cells": [
    {
      "cell_type": "code",
      "metadata": {
        "id": "YQCZ3H_2TxIZ",
        "colab": {
          "base_uri": "https://localhost:8080/"
        },
        "outputId": "a7dd0992-45b1-4e22-e8b3-3f8258a973e7"
      },
      "source": [
        "import torch\n",
        "from torch import nn\n",
        "from torch.utils.data import DataLoader\n",
        "import math\n",
        "import matplotlib.pyplot as plt\n",
        "import numpy as np\n",
        "import io\n",
        "import pandas as pd\n",
        "from imblearn.over_sampling import SMOTE\n",
        "from collections import Counter\n",
        "from matplotlib import pyplot\n",
        "from sklearn.preprocessing import MinMaxScaler\n",
        "import warnings\n",
        "warnings.filterwarnings('ignore')"
      ],
      "execution_count": 1,
      "outputs": [
        {
          "output_type": "stream",
          "name": "stderr",
          "text": [
            "/usr/local/lib/python3.7/dist-packages/sklearn/externals/six.py:31: FutureWarning: The module is deprecated in version 0.21 and will be removed in version 0.23 since we've dropped support for Python 2.7. Please rely on the official version of six (https://pypi.org/project/six/).\n",
            "  \"(https://pypi.org/project/six/).\", FutureWarning)\n",
            "/usr/local/lib/python3.7/dist-packages/sklearn/utils/deprecation.py:144: FutureWarning: The sklearn.neighbors.base module is  deprecated in version 0.22 and will be removed in version 0.24. The corresponding classes / functions should instead be imported from sklearn.neighbors. Anything that cannot be imported from sklearn.neighbors is now part of the private API.\n",
            "  warnings.warn(message, FutureWarning)\n"
          ]
        }
      ]
    },
    {
      "cell_type": "code",
      "metadata": {
        "id": "c5IpolGoaZzL"
      },
      "source": [
        "url = 'https://raw.githubusercontent.com/trishattah/Capstone/main/spotify_songs-2.csv'\n",
        "df2 = pd.read_csv(url)"
      ],
      "execution_count": 2,
      "outputs": []
    },
    {
      "cell_type": "code",
      "metadata": {
        "id": "BOfZ1LsBb3Z_"
      },
      "source": [
        "#url = 'https://raw.githubusercontent.com/trishattah/Capstone/main/Emotion_Labels.csv'\n",
        "#df3 = pd.read_csv(url)"
      ],
      "execution_count": 3,
      "outputs": []
    },
    {
      "cell_type": "code",
      "metadata": {
        "id": "KwLUDpea0D_T"
      },
      "source": [
        "#df4 = pd.merge(df2,df3,on='track_id')\n",
        "#df4 = df2.drop(['Unnamed: 19'], axis=1)\n",
        "df4=df2"
      ],
      "execution_count": 4,
      "outputs": []
    },
    {
      "cell_type": "code",
      "metadata": {
        "colab": {
          "base_uri": "https://localhost:8080/"
        },
        "id": "paij6qTxqtvn",
        "outputId": "9a8fc1ad-cfd2-4dae-cb8c-e21fecd115cb"
      },
      "source": [
        "df4 = df4.dropna()\n",
        "df4.shape"
      ],
      "execution_count": 5,
      "outputs": [
        {
          "output_type": "execute_result",
          "data": {
            "text/plain": [
              "(1099, 19)"
            ]
          },
          "metadata": {},
          "execution_count": 5
        }
      ]
    },
    {
      "cell_type": "code",
      "metadata": {
        "colab": {
          "base_uri": "https://localhost:8080/"
        },
        "id": "rcEu57ehv2fp",
        "outputId": "869e9807-0862-464d-dd6f-dc4fd1bff38c"
      },
      "source": [
        "df4['playlist_id'].value_counts()"
      ],
      "execution_count": 6,
      "outputs": [
        {
          "output_type": "execute_result",
          "data": {
            "text/plain": [
              "4hKPJNFIhdAg4pAksn78FJ    11\n",
              "3ykXidKLz1eYPvuGoFlD1e    11\n",
              "5jROYSZSL7cO0jGAqkPx7C    10\n",
              "4NlAd9NpIa92IjErMyAriM    10\n",
              "1qXg9ck25tBRxeXsj8mbDG    10\n",
              "                          ..\n",
              "6Ylmweq4pT7j3ScIv5uq1c     1\n",
              "37i9dQZF1DWZjqjZMudx9T     1\n",
              "3a9y4eeCJRmG9p4YKfqYIx     1\n",
              "37i9dQZF1DX1OIMC8iDi74     1\n",
              "1YgWQAs1s77NzieIH4ARKn     1\n",
              "Name: playlist_id, Length: 359, dtype: int64"
            ]
          },
          "metadata": {},
          "execution_count": 6
        }
      ]
    },
    {
      "cell_type": "code",
      "metadata": {
        "id": "zhHvotdp3evO"
      },
      "source": [
        "from sklearn.preprocessing import LabelEncoder\n",
        "le = LabelEncoder()\n",
        "\n",
        "df11 = df2.drop(['playlist_id','track_id','track_name','track_artist'], axis=1)\n",
        "cols = ['language', 'playlist_genre']\n",
        "#df11[cols] = df11[cols].apply(LabelEncoder().fit_transform)\n",
        "\n",
        "df12 = df2.set_index('track_name')"
      ],
      "execution_count": 7,
      "outputs": []
    },
    {
      "cell_type": "code",
      "metadata": {
        "id": "gh5zkMZ3x43G"
      },
      "source": [
        "testdf = df4[df4['playlist_id'].isin(['5jROYSZSL7cO0jGAqkPx7C', '3ykXidKLz1eYPvuGoFlD1e','4hKPJNFIhdAg4pAksn78FJ'])]\n",
        "testdf1 =  df4[df4['playlist_id'].isin(['5jROYSZSL7cO0jGAqkPx7C'])]\n",
        "testdf2 = df4[df4['playlist_id'].isin(['3ykXidKLz1eYPvuGoFlD1e'])]\n",
        "testdf3 = df4[df4['playlist_id'].isin(['4hKPJNFIhdAg4pAksn78FJ'])]"
      ],
      "execution_count": 8,
      "outputs": []
    },
    {
      "cell_type": "code",
      "metadata": {
        "id": "dct1kTdS0MYc"
      },
      "source": [
        "testdf1_1 = testdf1.drop(['playlist_id','track_id','track_name','track_artist'], axis=1)\n",
        "testdf2_1 = testdf2.drop(['playlist_id','track_id','track_name','track_artist'], axis=1)\n",
        "testdf3_1 = testdf3.drop(['playlist_id','track_id','track_name','track_artist'], axis=1)"
      ],
      "execution_count": 9,
      "outputs": []
    },
    {
      "cell_type": "code",
      "metadata": {
        "id": "URnxJyAXzAUk"
      },
      "source": [
        "df5 = df4[~df4['playlist_id'].isin(['4hKPJNFIhdAg4pAksn78FJ', '3ykXidKLz1eYPvuGoFlD1e','4hKPJNFIhdAg4pAksn78FJ'])]"
      ],
      "execution_count": 10,
      "outputs": []
    },
    {
      "cell_type": "code",
      "metadata": {
        "id": "0CtwpX2P39KH"
      },
      "source": [
        "pd.set_option('display.max_columns', None)"
      ],
      "execution_count": 11,
      "outputs": []
    },
    {
      "cell_type": "code",
      "metadata": {
        "id": "iFpwP8Vz1hHY"
      },
      "source": [
        "df5 = df4.drop(['playlist_id','track_id','track_name','track_artist'], axis=1)\n",
        "df5['emotion'] = df5['emotion'].astype(int)"
      ],
      "execution_count": 12,
      "outputs": []
    },
    {
      "cell_type": "code",
      "metadata": {
        "colab": {
          "base_uri": "https://localhost:8080/",
          "height": 131
        },
        "id": "7CAVYhDW9UJ3",
        "outputId": "81f0c62e-2be3-4abb-9070-7c64a91cafec"
      },
      "source": [
        "df5.head(2)"
      ],
      "execution_count": 13,
      "outputs": [
        {
          "output_type": "execute_result",
          "data": {
            "text/html": [
              "<div>\n",
              "<style scoped>\n",
              "    .dataframe tbody tr th:only-of-type {\n",
              "        vertical-align: middle;\n",
              "    }\n",
              "\n",
              "    .dataframe tbody tr th {\n",
              "        vertical-align: top;\n",
              "    }\n",
              "\n",
              "    .dataframe thead th {\n",
              "        text-align: right;\n",
              "    }\n",
              "</style>\n",
              "<table border=\"1\" class=\"dataframe\">\n",
              "  <thead>\n",
              "    <tr style=\"text-align: right;\">\n",
              "      <th></th>\n",
              "      <th>track_popularity</th>\n",
              "      <th>playlist_genre</th>\n",
              "      <th>danceability</th>\n",
              "      <th>energy</th>\n",
              "      <th>key</th>\n",
              "      <th>loudness</th>\n",
              "      <th>mode</th>\n",
              "      <th>speechiness</th>\n",
              "      <th>acousticness</th>\n",
              "      <th>instrumentalness</th>\n",
              "      <th>liveness</th>\n",
              "      <th>valence</th>\n",
              "      <th>tempo</th>\n",
              "      <th>language</th>\n",
              "      <th>emotion</th>\n",
              "    </tr>\n",
              "  </thead>\n",
              "  <tbody>\n",
              "    <tr>\n",
              "      <th>0</th>\n",
              "      <td>41</td>\n",
              "      <td>rock</td>\n",
              "      <td>0.682</td>\n",
              "      <td>0.401</td>\n",
              "      <td>2</td>\n",
              "      <td>-10.068</td>\n",
              "      <td>1</td>\n",
              "      <td>0.0236</td>\n",
              "      <td>0.2790</td>\n",
              "      <td>0.01170</td>\n",
              "      <td>0.0887</td>\n",
              "      <td>0.566</td>\n",
              "      <td>97.091</td>\n",
              "      <td>tl</td>\n",
              "      <td>6</td>\n",
              "    </tr>\n",
              "    <tr>\n",
              "      <th>1</th>\n",
              "      <td>28</td>\n",
              "      <td>rock</td>\n",
              "      <td>0.303</td>\n",
              "      <td>0.880</td>\n",
              "      <td>9</td>\n",
              "      <td>-4.739</td>\n",
              "      <td>1</td>\n",
              "      <td>0.0442</td>\n",
              "      <td>0.0117</td>\n",
              "      <td>0.00994</td>\n",
              "      <td>0.3470</td>\n",
              "      <td>0.404</td>\n",
              "      <td>135.225</td>\n",
              "      <td>en</td>\n",
              "      <td>1</td>\n",
              "    </tr>\n",
              "  </tbody>\n",
              "</table>\n",
              "</div>"
            ],
            "text/plain": [
              "   track_popularity playlist_genre  danceability  energy  key  loudness  mode  \\\n",
              "0                41           rock         0.682   0.401    2   -10.068     1   \n",
              "1                28           rock         0.303   0.880    9    -4.739     1   \n",
              "\n",
              "   speechiness  acousticness  instrumentalness  liveness  valence    tempo  \\\n",
              "0       0.0236        0.2790           0.01170    0.0887    0.566   97.091   \n",
              "1       0.0442        0.0117           0.00994    0.3470    0.404  135.225   \n",
              "\n",
              "  language  emotion  \n",
              "0       tl        6  \n",
              "1       en        1  "
            ]
          },
          "metadata": {},
          "execution_count": 13
        }
      ]
    },
    {
      "cell_type": "code",
      "metadata": {
        "id": "PUNlxqKOIklG"
      },
      "source": [
        "cols = ['language', 'playlist_genre']\n",
        "df5[cols] = df5[cols].apply(LabelEncoder().fit_transform)"
      ],
      "execution_count": 14,
      "outputs": []
    },
    {
      "cell_type": "code",
      "metadata": {
        "id": "mDPWs3JO9gvP"
      },
      "source": [
        "df11 = df5"
      ],
      "execution_count": 15,
      "outputs": []
    },
    {
      "cell_type": "code",
      "metadata": {
        "id": "J7DROiWZ9vQB"
      },
      "source": [
        "df11['track_name'] = df4['track_name']\n",
        "df5 = df5.drop(['track_name'], axis=1)"
      ],
      "execution_count": 16,
      "outputs": []
    },
    {
      "cell_type": "code",
      "metadata": {
        "id": "eIIXCY014PaV"
      },
      "source": [
        "df12 = df11.set_index('track_name')"
      ],
      "execution_count": 17,
      "outputs": []
    },
    {
      "cell_type": "code",
      "metadata": {
        "id": "kVtiVv8S0rdE"
      },
      "source": [
        "testdf1_1[cols] = testdf1_1[cols].apply(LabelEncoder().fit_transform)\n",
        "testdf2_1[cols] = testdf2_1[cols].apply(LabelEncoder().fit_transform)\n",
        "testdf3_1[cols] = testdf3_1[cols].apply(LabelEncoder().fit_transform)"
      ],
      "execution_count": 18,
      "outputs": []
    },
    {
      "cell_type": "code",
      "metadata": {
        "colab": {
          "base_uri": "https://localhost:8080/"
        },
        "id": "QAUoLLtugPJB",
        "outputId": "55111567-a962-42d5-a1f8-d43155313ad2"
      },
      "source": [
        "X, y = df5.iloc[:, :-1], df5.iloc[:, -1]\n",
        "X.shape"
      ],
      "execution_count": 19,
      "outputs": [
        {
          "output_type": "execute_result",
          "data": {
            "text/plain": [
              "(1099, 14)"
            ]
          },
          "metadata": {},
          "execution_count": 19
        }
      ]
    },
    {
      "cell_type": "code",
      "metadata": {
        "id": "G_EuCYFRRNWe"
      },
      "source": [
        "#strategy = {1:200, 2:120, 3:150, 4:100, 5:150,6:120, 7:70, 8:45 ,9:45 ,10:40}\n",
        "#oversample = SMOTE(sampling_strategy=strategy)\n",
        "#X, y = oversample.fit_resample(X, y)\n",
        "# summarize distribution\n",
        "#counter = Counter(y)\n",
        "#for k,v in counter.items():\n",
        "#\tper = v / len(y) * 100\n",
        "#\tprint('Class=%d, n=%d (%.3f%%)' % (k, v, per))\n",
        "# plot the distribution\n",
        "#pyplot.bar(counter.keys(), counter.values())\n",
        "#pyplot.show()"
      ],
      "execution_count": 20,
      "outputs": []
    },
    {
      "cell_type": "code",
      "metadata": {
        "id": "ROL4725RdsGn"
      },
      "source": [
        "#df6 = pd.DataFrame(X)\n",
        "#df6['emotion'] = y\n",
        "#df7 = df6.sample(frac=1)\n",
        "#df5 = df5.dropna()"
      ],
      "execution_count": 21,
      "outputs": []
    },
    {
      "cell_type": "code",
      "metadata": {
        "id": "JFK2TDoD92iv"
      },
      "source": [
        "df5.shape\n",
        "scaler = MinMaxScaler()"
      ],
      "execution_count": 22,
      "outputs": []
    },
    {
      "cell_type": "code",
      "metadata": {
        "colab": {
          "base_uri": "https://localhost:8080/"
        },
        "id": "2M3PlxrK31BH",
        "outputId": "8e53dff1-62f8-4baf-d443-d463302a69e6"
      },
      "source": [
        "df5['emotion'].value_counts()"
      ],
      "execution_count": 23,
      "outputs": [
        {
          "output_type": "execute_result",
          "data": {
            "text/plain": [
              "1     393\n",
              "6     137\n",
              "3     108\n",
              "5     103\n",
              "7      91\n",
              "2      91\n",
              "4      67\n",
              "8      39\n",
              "10     38\n",
              "9      32\n",
              "Name: emotion, dtype: int64"
            ]
          },
          "metadata": {},
          "execution_count": 23
        }
      ]
    },
    {
      "cell_type": "code",
      "metadata": {
        "colab": {
          "base_uri": "https://localhost:8080/"
        },
        "id": "bvDcIONbwwND",
        "outputId": "d6ab04b1-fae8-4e0f-f2f3-07f28e11616a"
      },
      "source": [
        "train_data_001 = df5.iloc[:1024,6:14]\n",
        "train_data_01 = pd.DataFrame(scaler.fit_transform(train_data_001))\n",
        "train_data_length = len(train_data_01)\n",
        "train_data_01.shape"
      ],
      "execution_count": 24,
      "outputs": [
        {
          "output_type": "execute_result",
          "data": {
            "text/plain": [
              "(1024, 8)"
            ]
          },
          "metadata": {},
          "execution_count": 24
        }
      ]
    },
    {
      "cell_type": "code",
      "metadata": {
        "id": "xCCT98Y2V0ry"
      },
      "source": [
        ""
      ],
      "execution_count": 24,
      "outputs": []
    },
    {
      "cell_type": "code",
      "metadata": {
        "id": "DrydNko01Qiq"
      },
      "source": [
        "testdf1_2 = testdf1_1.iloc[:1024,6:14]\n",
        "testdf2_2 = testdf2_1.iloc[:1024,6:14]\n",
        "testdf3_2 = testdf3_1.iloc[:1024,6:14]\n",
        "df13 = df12.iloc[:1024,6:14]"
      ],
      "execution_count": 25,
      "outputs": []
    },
    {
      "cell_type": "code",
      "metadata": {
        "id": "RYgkcSwtvynh"
      },
      "source": [
        "train_data = torch.tensor(train_data_01.values.astype(np.float32))"
      ],
      "execution_count": 26,
      "outputs": []
    },
    {
      "cell_type": "code",
      "metadata": {
        "id": "9jGsD2Rf_5cZ"
      },
      "source": [
        "train_labels = torch.zeros(train_data_length)\n",
        "train_set = [\n",
        "    (train_data[i], train_labels[i]) for i in range(train_data_length)\n",
        "]"
      ],
      "execution_count": 27,
      "outputs": []
    },
    {
      "cell_type": "code",
      "metadata": {
        "id": "8Q_FlvWVCPeg"
      },
      "source": [
        "batch_size = 32\n",
        "train_loader = torch.utils.data.DataLoader(\n",
        "    train_set, batch_size=batch_size, shuffle=True\n",
        ")"
      ],
      "execution_count": 28,
      "outputs": []
    },
    {
      "cell_type": "code",
      "metadata": {
        "id": "oeGokWcnUNVo"
      },
      "source": [
        "class Discriminator(nn.Module):\n",
        "    def __init__(self):\n",
        "        super().__init__()\n",
        "        self.model = nn.Sequential(\n",
        "            nn.Linear(8, 256),\n",
        "            nn.ReLU(),\n",
        "            nn.Dropout(0.3),\n",
        "            nn.Linear(256, 128),\n",
        "            nn.ReLU(),\n",
        "            nn.Dropout(0.3),\n",
        "            nn.Linear(128, 64),\n",
        "            nn.ReLU(),\n",
        "            nn.Dropout(0.3),\n",
        "            nn.Linear(64, 1),\n",
        "            nn.Sigmoid(),\n",
        "        )\n",
        "\n",
        "    def forward(self, x):\n",
        "        output = self.model(x)\n",
        "        return output"
      ],
      "execution_count": 29,
      "outputs": []
    },
    {
      "cell_type": "code",
      "metadata": {
        "id": "w28gifmTe_Wa"
      },
      "source": [
        "discriminator = Discriminator()"
      ],
      "execution_count": 30,
      "outputs": []
    },
    {
      "cell_type": "code",
      "metadata": {
        "id": "3LaGfTJ1fFf9"
      },
      "source": [
        "class Generator(nn.Module):\n",
        "    def __init__(self):\n",
        "        super().__init__()\n",
        "        self.model = nn.Sequential(\n",
        "            nn.Linear(8, 32),\n",
        "            nn.ReLU(),\n",
        "            nn.Linear(32, 64),\n",
        "            nn.ReLU(),\n",
        "            nn.Linear(64, 8),\n",
        "        )\n",
        "\n",
        "    def forward(self, x):\n",
        "        output = self.model(x)\n",
        "        return output\n",
        "\n",
        "generator = Generator()"
      ],
      "execution_count": 31,
      "outputs": []
    },
    {
      "cell_type": "code",
      "metadata": {
        "id": "b3Lh9ZtEfPvG"
      },
      "source": [
        "lr = 0.001\n",
        "num_epochs = 500\n",
        "loss_function = nn.BCELoss()"
      ],
      "execution_count": 32,
      "outputs": []
    },
    {
      "cell_type": "code",
      "metadata": {
        "id": "vHk6r37kfWfA"
      },
      "source": [
        "optimizer_discriminator = torch.optim.Adam(discriminator.parameters(), lr=lr)\n",
        "optimizer_generator = torch.optim.Adam(generator.parameters(), lr=lr)"
      ],
      "execution_count": 33,
      "outputs": []
    },
    {
      "cell_type": "code",
      "metadata": {
        "id": "moL5w8QUPPFB"
      },
      "source": [
        "# list for final generated samples\n",
        "final_generated_samples=[]\n",
        "final_generated_samples_list=[]\n",
        "losses_g =[]\n",
        "losses_d = []\n",
        "labels = []\n",
        "pred = []\n",
        "true = []"
      ],
      "execution_count": 34,
      "outputs": []
    },
    {
      "cell_type": "code",
      "metadata": {
        "id": "W0Zee1zVehN2"
      },
      "source": [
        "#len(labels[0])"
      ],
      "execution_count": 35,
      "outputs": []
    },
    {
      "cell_type": "code",
      "metadata": {
        "colab": {
          "base_uri": "https://localhost:8080/"
        },
        "id": "M3oKJHuuffeK",
        "outputId": "24366299-9e26-4a76-d4e6-2266761640d7"
      },
      "source": [
        "for epoch in range(num_epochs):\n",
        "    for n, (real_samples, _) in enumerate(train_loader):\n",
        "        # Data for training the discriminator\n",
        "        real_samples_labels = torch.ones((batch_size, 1))\n",
        "        latent_space_samples = torch.rand((batch_size, 8))\n",
        "        generated_samples = generator(latent_space_samples)\n",
        "        generated_samples_labels = torch.zeros((batch_size, 1))\n",
        "        all_samples = torch.cat((real_samples, generated_samples))\n",
        "        all_samples_labels = torch.cat(\n",
        "            (real_samples_labels, generated_samples_labels)\n",
        "        )\n",
        "\n",
        "        # Training the discriminator\n",
        "        discriminator.zero_grad()\n",
        "        output_discriminator = discriminator(all_samples)\n",
        "        loss_discriminator = loss_function(\n",
        "            output_discriminator, all_samples_labels)\n",
        "        loss_discriminator.backward()\n",
        "        optimizer_discriminator.step()\n",
        "\n",
        "\n",
        "        # Data for training the generator\n",
        "        latent_space_samples = torch.rand((batch_size, 8))\n",
        "\n",
        "        # Training the generator\n",
        "        generator.zero_grad()\n",
        "        generated_samples = generator(latent_space_samples)\n",
        "        output_discriminator_generated = discriminator(generated_samples)\n",
        "        loss_generator = loss_function(\n",
        "            output_discriminator_generated, real_samples_labels\n",
        "        )\n",
        "        loss_generator.backward()\n",
        "        optimizer_generator.step()\n",
        "\n",
        "        losses_g.append(loss_generator)\n",
        "        losses_d.append(loss_discriminator)\n",
        "\n",
        "        labels.append(all_samples_labels)\n",
        "        pred.append(output_discriminator)\n",
        "        true.append(all_samples)\n",
        "\n",
        "        # Show loss\n",
        "        if epoch % 10 == 0 and n == batch_size - 1:\n",
        "            final_generated_samples.append(generated_samples[0])\n",
        "            print(f\"Epoch: {epoch} Loss D.: {loss_discriminator}\")\n",
        "            print(f\"Epoch: {epoch} Loss G.: {loss_generator}\")\n",
        "            "
      ],
      "execution_count": 36,
      "outputs": [
        {
          "output_type": "stream",
          "name": "stdout",
          "text": [
            "Epoch: 0 Loss D.: 0.40764665603637695\n",
            "Epoch: 0 Loss G.: 1.3937236070632935\n",
            "Epoch: 10 Loss D.: 0.3848850131034851\n",
            "Epoch: 10 Loss G.: 2.348381757736206\n",
            "Epoch: 20 Loss D.: 0.3290456533432007\n",
            "Epoch: 20 Loss G.: 1.572862982749939\n",
            "Epoch: 30 Loss D.: 0.6616410613059998\n",
            "Epoch: 30 Loss G.: 1.4197337627410889\n",
            "Epoch: 40 Loss D.: 1.2251527309417725\n",
            "Epoch: 40 Loss G.: 1.1555100679397583\n",
            "Epoch: 50 Loss D.: 0.4220186173915863\n",
            "Epoch: 50 Loss G.: 1.1456894874572754\n",
            "Epoch: 60 Loss D.: 0.6328568458557129\n",
            "Epoch: 60 Loss G.: 1.1087840795516968\n",
            "Epoch: 70 Loss D.: 0.6385144591331482\n",
            "Epoch: 70 Loss G.: 0.9048008918762207\n",
            "Epoch: 80 Loss D.: 0.6249069571495056\n",
            "Epoch: 80 Loss G.: 1.1310447454452515\n",
            "Epoch: 90 Loss D.: 0.2208137810230255\n",
            "Epoch: 90 Loss G.: 2.317936897277832\n",
            "Epoch: 100 Loss D.: 0.5060639977455139\n",
            "Epoch: 100 Loss G.: 1.010591983795166\n",
            "Epoch: 110 Loss D.: 0.40791696310043335\n",
            "Epoch: 110 Loss G.: 1.1798326969146729\n",
            "Epoch: 120 Loss D.: 0.34977057576179504\n",
            "Epoch: 120 Loss G.: 1.5096830129623413\n",
            "Epoch: 130 Loss D.: 0.38539358973503113\n",
            "Epoch: 130 Loss G.: 1.1590439081192017\n",
            "Epoch: 140 Loss D.: 0.3324317932128906\n",
            "Epoch: 140 Loss G.: 1.554008960723877\n",
            "Epoch: 150 Loss D.: 0.33252790570259094\n",
            "Epoch: 150 Loss G.: 1.9100667238235474\n",
            "Epoch: 160 Loss D.: 0.43271949887275696\n",
            "Epoch: 160 Loss G.: 3.0156047344207764\n",
            "Epoch: 170 Loss D.: 0.3492541015148163\n",
            "Epoch: 170 Loss G.: 1.61746346950531\n",
            "Epoch: 180 Loss D.: 0.3725430965423584\n",
            "Epoch: 180 Loss G.: 1.9313684701919556\n",
            "Epoch: 190 Loss D.: 0.3870493471622467\n",
            "Epoch: 190 Loss G.: 1.6981151103973389\n",
            "Epoch: 200 Loss D.: 0.12038511782884598\n",
            "Epoch: 200 Loss G.: 3.1136341094970703\n",
            "Epoch: 210 Loss D.: 0.30792275071144104\n",
            "Epoch: 210 Loss G.: 1.848563313484192\n",
            "Epoch: 220 Loss D.: 0.42873814702033997\n",
            "Epoch: 220 Loss G.: 1.5589244365692139\n",
            "Epoch: 230 Loss D.: 0.42709144949913025\n",
            "Epoch: 230 Loss G.: 1.4232038259506226\n",
            "Epoch: 240 Loss D.: 0.5544362664222717\n",
            "Epoch: 240 Loss G.: 1.5215647220611572\n",
            "Epoch: 250 Loss D.: 0.44223716855049133\n",
            "Epoch: 250 Loss G.: 1.8930952548980713\n",
            "Epoch: 260 Loss D.: 0.5847643613815308\n",
            "Epoch: 260 Loss G.: 1.3232580423355103\n",
            "Epoch: 270 Loss D.: 0.43182358145713806\n",
            "Epoch: 270 Loss G.: 1.456464409828186\n",
            "Epoch: 280 Loss D.: 0.7289026975631714\n",
            "Epoch: 280 Loss G.: 1.0852192640304565\n",
            "Epoch: 290 Loss D.: 0.4486122131347656\n",
            "Epoch: 290 Loss G.: 1.4307291507720947\n",
            "Epoch: 300 Loss D.: 0.5472011566162109\n",
            "Epoch: 300 Loss G.: 1.8123741149902344\n",
            "Epoch: 310 Loss D.: 0.44997233152389526\n",
            "Epoch: 310 Loss G.: 0.9706686735153198\n",
            "Epoch: 320 Loss D.: 0.6416321396827698\n",
            "Epoch: 320 Loss G.: 1.1111154556274414\n",
            "Epoch: 330 Loss D.: 0.6533699631690979\n",
            "Epoch: 330 Loss G.: 0.9858475923538208\n",
            "Epoch: 340 Loss D.: 0.6640558242797852\n",
            "Epoch: 340 Loss G.: 1.0879838466644287\n",
            "Epoch: 350 Loss D.: 0.5992580652236938\n",
            "Epoch: 350 Loss G.: 1.1418122053146362\n",
            "Epoch: 360 Loss D.: 0.5337068438529968\n",
            "Epoch: 360 Loss G.: 1.0283830165863037\n",
            "Epoch: 370 Loss D.: 0.5895069241523743\n",
            "Epoch: 370 Loss G.: 0.9695097208023071\n",
            "Epoch: 380 Loss D.: 0.5820813179016113\n",
            "Epoch: 380 Loss G.: 1.052060604095459\n",
            "Epoch: 390 Loss D.: 0.5969425439834595\n",
            "Epoch: 390 Loss G.: 1.0365729331970215\n",
            "Epoch: 400 Loss D.: 0.6923162341117859\n",
            "Epoch: 400 Loss G.: 0.9156370162963867\n",
            "Epoch: 410 Loss D.: 0.6061466336250305\n",
            "Epoch: 410 Loss G.: 0.9144830703735352\n",
            "Epoch: 420 Loss D.: 0.5954276323318481\n",
            "Epoch: 420 Loss G.: 0.7474824786186218\n",
            "Epoch: 430 Loss D.: 0.5630828738212585\n",
            "Epoch: 430 Loss G.: 0.8389627933502197\n",
            "Epoch: 440 Loss D.: 0.5941582322120667\n",
            "Epoch: 440 Loss G.: 0.9585554599761963\n",
            "Epoch: 450 Loss D.: 0.5699995160102844\n",
            "Epoch: 450 Loss G.: 0.8742405772209167\n",
            "Epoch: 460 Loss D.: 0.5809503197669983\n",
            "Epoch: 460 Loss G.: 1.2782866954803467\n",
            "Epoch: 470 Loss D.: 0.5151622295379639\n",
            "Epoch: 470 Loss G.: 0.976066529750824\n",
            "Epoch: 480 Loss D.: 0.5505034923553467\n",
            "Epoch: 480 Loss G.: 0.9961694478988647\n",
            "Epoch: 490 Loss D.: 0.6002256274223328\n",
            "Epoch: 490 Loss G.: 0.9153885245323181\n"
          ]
        }
      ]
    },
    {
      "cell_type": "code",
      "metadata": {
        "colab": {
          "base_uri": "https://localhost:8080/",
          "height": 265
        },
        "id": "hs5paGQUO03N",
        "outputId": "905c26c6-a49b-4b5f-9f11-472a36e9f887"
      },
      "source": [
        "# plot and save the generator and discriminator loss\n",
        "plt.figure()\n",
        "plt.plot(losses_g, label='Generator loss')\n",
        "plt.plot(losses_d, label='Discriminator Loss')\n",
        "plt.legend()\n",
        "plt.show()"
      ],
      "execution_count": 37,
      "outputs": [
        {
          "output_type": "display_data",
          "data": {
            "image/png": "[encoded data removed]",
            "text/plain": [
              "<Figure size 432x288 with 1 Axes>"
            ]
          },
          "metadata": {
            "needs_background": "light"
          }
        }
      ]
    },
    {
      "cell_type": "code",
      "metadata": {
        "id": "m6LUuQD1uz2F"
      },
      "source": [
        "# make a dataframe for sample list\n",
        "for i in final_generated_samples:\n",
        "  a = i.detach().numpy()\n",
        "  final_generated_samples_list.append(a)\n",
        "final_generated_samples_df = pd.DataFrame(final_generated_samples_list)"
      ],
      "execution_count": 38,
      "outputs": []
    },
    {
      "cell_type": "code",
      "metadata": {
        "id": "xNZjGkXgiNGL",
        "colab": {
          "base_uri": "https://localhost:8080/"
        },
        "outputId": "03ce6857-423e-4fd9-c468-000a9773b383"
      },
      "source": [
        "latent_space_samples[:10]"
      ],
      "execution_count": 39,
      "outputs": [
        {
          "output_type": "execute_result",
          "data": {
            "text/plain": [
              "tensor([[0.7841, 0.1358, 0.9633, 0.4412, 0.6561, 0.5800, 0.8084, 0.8575],\n",
              "        [0.9705, 0.0198, 0.3080, 0.0963, 0.6423, 0.0908, 0.7915, 0.9325],\n",
              "        [0.3287, 0.3533, 0.8023, 0.3267, 0.9234, 0.7581, 0.5548, 0.7091],\n",
              "        [0.7369, 0.4139, 0.7216, 0.2589, 0.9660, 0.1423, 0.9181, 0.7655],\n",
              "        [0.3662, 0.8227, 0.4395, 0.5819, 0.5777, 0.2210, 0.9061, 0.4788],\n",
              "        [0.0188, 0.1022, 0.3470, 0.2582, 0.7621, 0.7227, 0.3877, 0.8937],\n",
              "        [0.2293, 0.7025, 0.8670, 0.4486, 0.7610, 0.8580, 0.4045, 0.3147],\n",
              "        [0.4873, 0.9083, 0.3808, 0.9449, 0.0120, 0.9750, 0.6577, 0.9399],\n",
              "        [0.6235, 0.3969, 0.6636, 0.9576, 0.2297, 0.6097, 0.1632, 0.1053],\n",
              "        [0.8615, 0.9808, 0.5032, 0.9517, 0.7101, 0.2208, 0.1329, 0.8912]])"
            ]
          },
          "metadata": {},
          "execution_count": 39
        }
      ]
    },
    {
      "cell_type": "code",
      "metadata": {
        "id": "4tvxpDe3Za9d",
        "colab": {
          "base_uri": "https://localhost:8080/",
          "height": 282
        },
        "outputId": "8a69c617-b3f4-47f0-ea3c-744694831704"
      },
      "source": [
        "#plot of two variables from generated samples\n",
        "plt.plot(final_generated_samples_df.iloc[:, 6], \n",
        "         final_generated_samples_df.iloc[:, 3], \".\")"
      ],
      "execution_count": 40,
      "outputs": [
        {
          "output_type": "execute_result",
          "data": {
            "text/plain": [
              "[<matplotlib.lines.Line2D at 0x7fe7327c9f10>]"
            ]
          },
          "metadata": {},
          "execution_count": 40
        },
        {
          "output_type": "display_data",
          "data": {
            "image/png": "[encoded data removed]",
            "text/plain": [
              "<Figure size 432x288 with 1 Axes>"
            ]
          },
          "metadata": {
            "needs_background": "light"
          }
        }
      ]
    },
    {
      "cell_type": "code",
      "metadata": {
        "id": "XIMG5PoX06OX"
      },
      "source": [
        "from scipy.spatial import distance"
      ],
      "execution_count": 41,
      "outputs": []
    },
    {
      "cell_type": "code",
      "metadata": {
        "id": "RycK3PK_zDW0"
      },
      "source": [
        "float_x = real_samples[0].double()"
      ],
      "execution_count": 42,
      "outputs": []
    },
    {
      "cell_type": "code",
      "metadata": {
        "id": "Y6D_uRDmDsKS"
      },
      "source": [
        "float_x = list(float_x.numpy())"
      ],
      "execution_count": 43,
      "outputs": []
    },
    {
      "cell_type": "markdown",
      "metadata": {
        "id": "mP59c_ZQqUKQ"
      },
      "source": [
        ""
      ]
    },
    {
      "cell_type": "code",
      "metadata": {
        "id": "rf0t9hUt7Wc4",
        "colab": {
          "base_uri": "https://localhost:8080/"
        },
        "outputId": "8a4c6c20-45a3-441b-9aea-914fb32951a9"
      },
      "source": [
        "# Cosine similarity\n",
        "def square_rooted(x):\n",
        "   return round(math.sqrt(sum([a*a for a in x])),3)\n",
        "  \n",
        "def cosine_similarity(x,y):\n",
        " numerator = sum(a*b for a,b in zip(x,y))\n",
        " denominator = square_rooted(x)*square_rooted(y)\n",
        " return round(numerator/float(denominator),3)\n",
        "  \n",
        "print(cosine_similarity(final_generated_samples_df[0],float_x))"
      ],
      "execution_count": 44,
      "outputs": [
        {
          "output_type": "stream",
          "name": "stdout",
          "text": [
            "0.153\n"
          ]
        }
      ]
    },
    {
      "cell_type": "code",
      "metadata": {
        "id": "vP1mzbkc79ik",
        "colab": {
          "base_uri": "https://localhost:8080/"
        },
        "outputId": "7b640a43-f3e4-40a5-93b4-0cce0a0e9992"
      },
      "source": [
        "#Jaccard similarity\n",
        "from math import*\n",
        "  \n",
        "def jaccard_similarity(x,y):\n",
        " intersection_cardinality = len(set.intersection(*[set(x), set(y)]))\n",
        " union_cardinality = len(set.union(*[set(x), set(y)]))\n",
        " return intersection_cardinality/float(union_cardinality)\n",
        "print(jaccard_similarity([0,1,2,5,6],[0,2,3,5,7,9]))"
      ],
      "execution_count": 45,
      "outputs": [
        {
          "output_type": "stream",
          "name": "stdout",
          "text": [
            "0.375\n"
          ]
        }
      ]
    },
    {
      "cell_type": "code",
      "metadata": {
        "id": "NP3So0XD8g60"
      },
      "source": [
        "import numpy as np\n",
        "import pandas as pd\n",
        "from sklearn.metrics import jaccard_score\n",
        "from sklearn.metrics.pairwise import pairwise_distances,cosine_similarity"
      ],
      "execution_count": 46,
      "outputs": []
    },
    {
      "cell_type": "code",
      "metadata": {
        "id": "DCwHlEBVHgow"
      },
      "source": [
        "df9 = pd.DataFrame(scaler.inverse_transform(final_generated_samples_df))\n",
        "df10 = pd.DataFrame(scaler.inverse_transform(train_data_01))"
      ],
      "execution_count": 47,
      "outputs": []
    },
    {
      "cell_type": "code",
      "metadata": {
        "id": "ji0flvFOBhuS"
      },
      "source": [
        "generated_vals2=[]\n",
        "for i, j in df9.iterrows():\n",
        "  generated_vals2.append(j.values)\n",
        "\n",
        "generated_vals3 = generated_vals2[:10]\n",
        "\n",
        "train_data_vals2=[]\n",
        "for i, j in train_data_001.iterrows():\n",
        "  train_data_vals2.append(j.values)\n"
      ],
      "execution_count": 48,
      "outputs": []
    },
    {
      "cell_type": "markdown",
      "metadata": {
        "id": "uxYm6GBjoZG6"
      },
      "source": [
        ""
      ]
    },
    {
      "cell_type": "code",
      "metadata": {
        "id": "cM4Kbd01UDeF"
      },
      "source": [
        "def cos_similarity(x,d):\n",
        "  recommended = []  \n",
        "  for i in d:\n",
        "    a = cosine_similarity([x],[i])\n",
        "    recommended.append(a)\n",
        "  rec_score=max(recommended)\n",
        "  rec_index = recommended.index(rec_score)\n",
        "  rec_cos.append(rec_score)\n",
        "  rec_idx = df13.index[rec_index]\n",
        "  cos_name.append(rec_idx)\n",
        "  rec_len = len(recommended)\n",
        "  results1.append(['index:',rec_idx,'; cos sim:',rec_score])"
      ],
      "execution_count": 49,
      "outputs": []
    },
    {
      "cell_type": "code",
      "metadata": {
        "id": "8GyLH48C0vPM"
      },
      "source": [
        "def euclid_similarity(x,d):\n",
        "  recommended = []  \n",
        "  for i in d:\n",
        "    a = distance.euclidean([x],[i])\n",
        "    recommended.append(a)\n",
        "  rec_score=min(recommended)\n",
        "  rec_index = recommended.index(rec_score)\n",
        "  rec_euc.append(rec_score)\n",
        "  rec_idx = df13.index[rec_index]\n",
        "  euc_name.append(rec_idx)\n",
        "  rec_len = len(recommended)\n",
        "  results2.append(['index:',rec_idx,'; euclid sim:',rec_score])"
      ],
      "execution_count": 50,
      "outputs": []
    },
    {
      "cell_type": "code",
      "metadata": {
        "id": "j527TRLHyY2x",
        "colab": {
          "base_uri": "https://localhost:8080/"
        },
        "outputId": "c3b2209b-c00d-442b-aea7-a8363f07933a"
      },
      "source": [
        "dst = distance.euclidean(final_generated_samples_df.iloc[0,:].values,float_x)\n",
        "print('Euclidean distance: %.3f' % dst)"
      ],
      "execution_count": 51,
      "outputs": [
        {
          "output_type": "stream",
          "name": "stdout",
          "text": [
            "Euclidean distance: 0.835\n"
          ]
        }
      ]
    },
    {
      "cell_type": "code",
      "metadata": {
        "id": "I5WphA_0Z9zV"
      },
      "source": [
        "# pick recommendations with cosine similarity\n",
        "results1 =[]\n",
        "cos_name =[]\n",
        "rec_cos = []\n",
        "for i in generated_vals2:\n",
        "  a = cos_similarity(i,train_data_vals2)"
      ],
      "execution_count": 52,
      "outputs": []
    },
    {
      "cell_type": "code",
      "metadata": {
        "id": "iqO0J7Zlq2G_"
      },
      "source": [
        "cols2 = ['language']\n",
        "cos_rec =  df4[df4['track_name'].isin(cos_name)]\n",
        "cos_rec2 = cos_rec.drop(['playlist_id','track_id','track_name','track_artist'], axis=1)\n",
        "cos_rec2[cols2] = cos_rec2[cols2].apply(LabelEncoder().fit_transform)\n",
        "cos_rec3 = cos_rec2.iloc[:1024,6:14]"
      ],
      "execution_count": 53,
      "outputs": []
    },
    {
      "cell_type": "code",
      "metadata": {
        "id": "QDk6KhE433zB"
      },
      "source": [
        "cos_rec4=[]\n",
        "for i, j in cos_rec3.iterrows():\n",
        "  cos_rec4.append(j.values)"
      ],
      "execution_count": 54,
      "outputs": []
    },
    {
      "cell_type": "code",
      "metadata": {
        "id": "nC-_WcnkFKkQ"
      },
      "source": [
        "cos_rec3['track_name'] = df4['track_name']\n",
        "cos_rec5 = cos_rec3.set_index('track_name')"
      ],
      "execution_count": 55,
      "outputs": []
    },
    {
      "cell_type": "code",
      "metadata": {
        "id": "epyouEYb0LlZ"
      },
      "source": [
        "rec_cose=[]\n",
        "for i in rec_cos:\n",
        "  rec_cose.append(i[0][0])"
      ],
      "execution_count": 56,
      "outputs": []
    },
    {
      "cell_type": "code",
      "metadata": {
        "id": "I9txVZCn1Me7"
      },
      "source": [
        "# pick recommendations with euclidean similarity\n",
        "results2 =[]\n",
        "euc_name =[]\n",
        "rec_euc = []\n",
        "for i in generated_vals2:\n",
        "  a = euclid_similarity(i,train_data_vals2)"
      ],
      "execution_count": 57,
      "outputs": []
    },
    {
      "cell_type": "code",
      "metadata": {
        "id": "3TOBzgYDw_6q"
      },
      "source": [
        "euc_rec =  df4[df4['track_name'].isin(euc_name)]\n",
        "euc_rec2 = euc_rec.drop(['playlist_id','track_id','track_name','track_artist'], axis=1)\n",
        "euc_rec2[cols2] = euc_rec2[cols2].apply(LabelEncoder().fit_transform)\n",
        "euc_rec3 = euc_rec2.iloc[:1024,6:14]"
      ],
      "execution_count": 58,
      "outputs": []
    },
    {
      "cell_type": "code",
      "metadata": {
        "id": "FFxwgPxVGu66"
      },
      "source": [
        "euc_rec4=[]\n",
        "for i, j in euc_rec3.iterrows():\n",
        "  euc_rec4.append(j.values)"
      ],
      "execution_count": 59,
      "outputs": []
    },
    {
      "cell_type": "code",
      "metadata": {
        "id": "HMl2sYUOGE7M"
      },
      "source": [
        "euc_rec3['track_name'] = df4['track_name']\n",
        "euc_rec5 = euc_rec3.set_index('track_name')"
      ],
      "execution_count": 60,
      "outputs": []
    },
    {
      "cell_type": "code",
      "metadata": {
        "id": "SR1wtnOQsprP"
      },
      "source": [
        "testdf1_3 = testdf1_2\n",
        "testdf1_3['track_name'] = testdf1['track_name']\n",
        "testdf1_3 = testdf1_3.set_index('track_name')\n",
        "\n",
        "testdf2_3 = testdf2_2\n",
        "testdf2_3['track_name'] = testdf2['track_name']\n",
        "testdf2_3 = testdf2_3.set_index('track_name')\n",
        "\n",
        "testdf3_3 = testdf3_2\n",
        "testdf3_3['track_name'] = testdf3['track_name']\n",
        "testdf3_3 = testdf3_3.set_index('track_name')"
      ],
      "execution_count": 61,
      "outputs": []
    },
    {
      "cell_type": "code",
      "metadata": {
        "id": "C976IH3Y745-"
      },
      "source": [
        "test_data1 = testdf1_3.values\n",
        "test_data2 = testdf2_3.values\n",
        "test_data3 = testdf3_3.values"
      ],
      "execution_count": 62,
      "outputs": []
    },
    {
      "cell_type": "code",
      "metadata": {
        "id": "XWRXAtgRfQB_"
      },
      "source": [
        "def cos_similarity_t1(x,d):\n",
        "  recommended = []  \n",
        "  for i in d:\n",
        "    a = cosine_similarity([x],[i])\n",
        "    recommended.append(a)\n",
        "  rec_score=max(recommended)\n",
        "  rec_index = recommended.index(rec_score)\n",
        "  rec_cosT1.append(rec_score)\n",
        "  rec_idx = cos_rec5.index[rec_index]\n",
        "  cost1_name.append(rec_idx)\n",
        "  rec_len = len(recommended)\n",
        "  print('len train data:',rec_len,'; index:',rec_idx,'; cos sim:',rec_score)\n",
        "\n",
        "def euclid_similarity_t1(x,d):\n",
        "  recommended = []  \n",
        "  for i in d:\n",
        "    a = distance.euclidean([x],[i])\n",
        "    recommended.append(a)\n",
        "  rec_score=min(recommended)\n",
        "  rec_index = recommended.index(rec_score)\n",
        "  rec_eucT1.append(rec_score)\n",
        "  rec_idx = euc_rec5.index[rec_index]\n",
        "  euct1_name.append(rec_idx)\n",
        "  rec_len = len(recommended)\n",
        "  print('len train data:',rec_len,'; index:',rec_idx,'; euclid sim:',rec_score)"
      ],
      "execution_count": 63,
      "outputs": []
    },
    {
      "cell_type": "code",
      "metadata": {
        "id": "v3iYXkcX8QJr",
        "colab": {
          "base_uri": "https://localhost:8080/"
        },
        "outputId": "1224be4f-0130-44a8-97b2-964619f1f406"
      },
      "source": [
        "#compare recomendations to test subjects\n",
        "cost1_name = []\n",
        "rec_cosT1 = []\n",
        "for i in test_data1:\n",
        "  a = cos_similarity_t1(i,cos_rec4)"
      ],
      "execution_count": 64,
      "outputs": [
        {
          "output_type": "stream",
          "name": "stdout",
          "text": [
            "len train data: 51 ; index: LUNA ; cos sim: [[0.9999841]]\n",
            "len train data: 51 ; index: LUNA ; cos sim: [[0.9999654]]\n",
            "len train data: 51 ; index: LUNA ; cos sim: [[0.99995635]]\n",
            "len train data: 51 ; index: LUNA ; cos sim: [[0.99998848]]\n",
            "len train data: 51 ; index: LUNA ; cos sim: [[0.99995792]]\n",
            "len train data: 51 ; index: LUNA ; cos sim: [[0.99997355]]\n",
            "len train data: 51 ; index: LUNA ; cos sim: [[0.99996732]]\n",
            "len train data: 51 ; index: LUNA ; cos sim: [[0.99996002]]\n",
            "len train data: 51 ; index: LUNA ; cos sim: [[0.9999583]]\n",
            "len train data: 51 ; index: Sektion (feat. Branco & Gilli) ; cos sim: [[0.9999875]]\n"
          ]
        }
      ]
    },
    {
      "cell_type": "code",
      "metadata": {
        "id": "OgQfUT3W3nZ4"
      },
      "source": [
        "rec_coseT1=[]\n",
        "for i in rec_cosT1:\n",
        "  rec_coseT1.append(i[0][0])"
      ],
      "execution_count": 65,
      "outputs": []
    },
    {
      "cell_type": "code",
      "metadata": {
        "id": "4vwnG9_x-1Gy",
        "colab": {
          "base_uri": "https://localhost:8080/"
        },
        "outputId": "c55cc44b-d067-43a9-9fa0-ba8391c01f70"
      },
      "source": [
        "euct1_name = []\n",
        "rec_eucT1 = []\n",
        "for i in test_data1:\n",
        "  a = euclid_similarity_t1(i,euc_rec4)"
      ],
      "execution_count": 66,
      "outputs": [
        {
          "output_type": "stream",
          "name": "stdout",
          "text": [
            "len train data: 48 ; index: Flying On My Own - Dave AudÃ© Remix ; euclid sim: 2.5188077844218277\n",
            "len train data: 48 ; index: Poker Face ; euclid sim: 1.846909318622843\n",
            "len train data: 48 ; index: All Day All Night ; euclid sim: 2.1283099426775185\n",
            "len train data: 48 ; index: Poker Face ; euclid sim: 1.464762722881052\n",
            "len train data: 48 ; index: Estamos Arriba ; euclid sim: 2.3256516344940827\n",
            "len train data: 48 ; index: Realtalk Infinity ; euclid sim: 2.1190979071293574\n",
            "len train data: 48 ; index: Talk To Me - Frdy Remix ; euclid sim: 1.0739900217051643\n",
            "len train data: 48 ; index: Dear Society ; euclid sim: 1.0158863374457814\n",
            "len train data: 48 ; index: 22 ; euclid sim: 2.845257454941469\n",
            "len train data: 48 ; index: My Body ; euclid sim: 1.9734539797050648\n"
          ]
        }
      ]
    },
    {
      "cell_type": "code",
      "metadata": {
        "id": "a9IAbe8_f5MT"
      },
      "source": [
        "def cos_similarity_t2(x,d):\n",
        "  recommended = []  \n",
        "  for i in d:\n",
        "    a = cosine_similarity([x],[i])\n",
        "    recommended.append(a)\n",
        "  rec_score=max(recommended)\n",
        "  rec_index = recommended.index(rec_score)\n",
        "  rec_cosT2.append(rec_score)\n",
        "  rec_idx = cos_rec5.index[rec_index]\n",
        "  cost2_name.append(rec_idx)\n",
        "  rec_len = len(recommended)\n",
        "  print('len train data:',rec_len,'; index:',rec_idx,'; cos sim:',rec_score)\n",
        "\n",
        "def euclid_similarity_t2(x,d):\n",
        "  recommended = []  \n",
        "  for i in d:\n",
        "    a = distance.euclidean([x],[i])\n",
        "    recommended.append(a)\n",
        "  rec_score=min(recommended)\n",
        "  rec_index = recommended.index(rec_score)\n",
        "  rec_eucT2.append(rec_score)\n",
        "  rec_idx = euc_rec5.index[rec_index]\n",
        "  euct2_name.append(rec_idx)\n",
        "  rec_len = len(recommended)\n",
        "  print('len train data:',rec_len,'; index:',rec_idx,'; euclid sim:',rec_score)"
      ],
      "execution_count": 67,
      "outputs": []
    },
    {
      "cell_type": "code",
      "metadata": {
        "id": "CYriMM1ck4Gx",
        "colab": {
          "base_uri": "https://localhost:8080/"
        },
        "outputId": "d22a9fc5-7b9f-4e68-943e-17b5c7850551"
      },
      "source": [
        "#compare recomendations to test subjects\n",
        "cost2_name = []\n",
        "rec_cosT2 = []\n",
        "for i in test_data2:\n",
        "  a = cos_similarity_t2(i,cos_rec4)"
      ],
      "execution_count": 68,
      "outputs": [
        {
          "output_type": "stream",
          "name": "stdout",
          "text": [
            "len train data: 51 ; index: LUNA ; cos sim: [[0.99997501]]\n",
            "len train data: 51 ; index: LUNA ; cos sim: [[0.99998153]]\n",
            "len train data: 51 ; index: Sektion (feat. Branco & Gilli) ; cos sim: [[0.99994152]]\n",
            "len train data: 51 ; index: LUNA ; cos sim: [[0.99995498]]\n",
            "len train data: 51 ; index: LUNA ; cos sim: [[0.9999686]]\n",
            "len train data: 51 ; index: LUNA ; cos sim: [[0.99999511]]\n",
            "len train data: 51 ; index: LUNA ; cos sim: [[0.99995157]]\n",
            "len train data: 51 ; index: LUNA ; cos sim: [[0.9999855]]\n",
            "len train data: 51 ; index: LUNA ; cos sim: [[0.99995111]]\n",
            "len train data: 51 ; index: LUNA ; cos sim: [[0.99994777]]\n",
            "len train data: 51 ; index: LUNA ; cos sim: [[0.99998871]]\n"
          ]
        }
      ]
    },
    {
      "cell_type": "code",
      "metadata": {
        "id": "ZAFU1-Mp2jsy"
      },
      "source": [
        "rec_coseT2=[]\n",
        "for i in rec_cosT2:\n",
        "  rec_coseT2.append(i[0][0])"
      ],
      "execution_count": 69,
      "outputs": []
    },
    {
      "cell_type": "code",
      "metadata": {
        "id": "LGue-_WhuEqo",
        "colab": {
          "base_uri": "https://localhost:8080/"
        },
        "outputId": "1c2a0dc2-08bc-4ac4-8626-8aa654ec62e6"
      },
      "source": [
        "euct2_name = []\n",
        "rec_eucT2 = []\n",
        "for i in test_data2:\n",
        "  a = euclid_similarity_t2(i,euc_rec4)"
      ],
      "execution_count": 70,
      "outputs": [
        {
          "output_type": "stream",
          "name": "stdout",
          "text": [
            "len train data: 48 ; index: My Body ; euclid sim: 2.107941742099151\n",
            "len train data: 48 ; index: Eye of the Tiger ; euclid sim: 1.9181598914737557\n",
            "len train data: 48 ; index: Buss Down (feat. ZieZie) ; euclid sim: 3.3738673655328286\n",
            "len train data: 48 ; index: Realtalk Infinity ; euclid sim: 0.8836118091089579\n",
            "len train data: 48 ; index: Lose Your Soul ; euclid sim: 1.515460817766319\n",
            "len train data: 48 ; index: My Body ; euclid sim: 1.9969429857910401\n",
            "len train data: 48 ; index: Realtalk Infinity ; euclid sim: 0.7562831810902557\n",
            "len train data: 48 ; index: Poker Face ; euclid sim: 1.990170648464195\n",
            "len train data: 48 ; index: Fronteamos Porque Podemos (feat. Daddy Yankee, Yandel & Nengo Flow) ; euclid sim: 2.7235468161939136\n",
            "len train data: 48 ; index: My Body ; euclid sim: 1.1709931895617507\n",
            "len train data: 48 ; index: I Wanna Sex You Up ; euclid sim: 2.1748031013461495\n"
          ]
        }
      ]
    },
    {
      "cell_type": "code",
      "metadata": {
        "id": "GPEUMkQaL2i-"
      },
      "source": [
        "def cos_similarity_t3(x,d):\n",
        "  recommended = []  \n",
        "  for i in d:\n",
        "    a = cosine_similarity([x],[i])\n",
        "    recommended.append(a)\n",
        "  rec_score=max(recommended)\n",
        "  rec_index = recommended.index(rec_score)\n",
        "  rec_cosT3.append(rec_score)\n",
        "  rec_idx = cos_rec5.index[rec_index]\n",
        "  cost3_name.append(rec_idx) \n",
        "  rec_len = len(recommended)\n",
        "  print('len train data:',rec_len,'; index:',rec_idx,'; cos sim:',rec_score)\n",
        "\n",
        "def euclid_similarity_t3(x,d):\n",
        "  recommended = []  \n",
        "  for i in d:\n",
        "    a = distance.euclidean([x],[i])\n",
        "    recommended.append(a)\n",
        "  rec_score=min(recommended)\n",
        "  rec_index = recommended.index(rec_score)\n",
        "  rec_eucT3.append(rec_score)\n",
        "  rec_idx = euc_rec5.index[rec_index]\n",
        "  euct3_name.append(rec_idx)\n",
        "  rec_len = len(recommended)\n",
        "  print('len train data:',rec_len,'; index:',rec_idx,'; euclid sim:',rec_score)"
      ],
      "execution_count": 72,
      "outputs": []
    },
    {
      "cell_type": "code",
      "metadata": {
        "id": "h7yHchNGL4IY",
        "colab": {
          "base_uri": "https://localhost:8080/"
        },
        "outputId": "778e13aa-35f8-466d-9ab7-f020280e780f"
      },
      "source": [
        "#compare recomendations to test subjects\n",
        "cost3_name = []\n",
        "rec_cosT3 = []\n",
        "for i in test_data3:\n",
        "  a = cos_similarity_t3(i,cos_rec4)"
      ],
      "execution_count": 73,
      "outputs": [
        {
          "output_type": "stream",
          "name": "stdout",
          "text": [
            "len train data: 51 ; index: LUNA ; cos sim: [[0.99995703]]\n",
            "len train data: 51 ; index: LUNA ; cos sim: [[0.99997699]]\n",
            "len train data: 51 ; index: LUNA ; cos sim: [[0.99999009]]\n",
            "len train data: 51 ; index: LUNA ; cos sim: [[0.99998899]]\n",
            "len train data: 51 ; index: LUNA ; cos sim: [[0.99998379]]\n",
            "len train data: 51 ; index: LUNA ; cos sim: [[0.99998042]]\n",
            "len train data: 51 ; index: LUNA ; cos sim: [[0.99998487]]\n",
            "len train data: 51 ; index: Sektion (feat. Branco & Gilli) ; cos sim: [[0.99991462]]\n",
            "len train data: 51 ; index: LUNA ; cos sim: [[0.99998999]]\n",
            "len train data: 51 ; index: LUNA ; cos sim: [[0.99998022]]\n",
            "len train data: 51 ; index: LUNA ; cos sim: [[0.99994613]]\n"
          ]
        }
      ]
    },
    {
      "cell_type": "code",
      "metadata": {
        "id": "DX7PNN4N2q4C"
      },
      "source": [
        "rec_coseT3=[]\n",
        "for i in rec_cosT3:\n",
        "  rec_coseT3.append(i[0][0])"
      ],
      "execution_count": 74,
      "outputs": []
    },
    {
      "cell_type": "code",
      "metadata": {
        "id": "S22wN0m6L7J5",
        "colab": {
          "base_uri": "https://localhost:8080/"
        },
        "outputId": "5747a5cd-4e26-42a4-ac30-c477c3d2f245"
      },
      "source": [
        "euct3_name = []\n",
        "rec_eucT3 = []\n",
        "for i in test_data3:\n",
        "  a = euclid_similarity_t3(i,euc_rec4)"
      ],
      "execution_count": 75,
      "outputs": [
        {
          "output_type": "stream",
          "name": "stdout",
          "text": [
            "len train data: 48 ; index: Buss Down (feat. ZieZie) ; euclid sim: 1.4798217064044437\n",
            "len train data: 48 ; index: Estamos Arriba ; euclid sim: 2.18235609491783\n",
            "len train data: 48 ; index: Sunburn ; euclid sim: 1.6999899742057265\n",
            "len train data: 48 ; index: More ; euclid sim: 2.4006066672874584\n",
            "len train data: 48 ; index: Sunburn ; euclid sim: 1.743066287207689\n",
            "len train data: 48 ; index: 22 ; euclid sim: 4.673617746981446\n",
            "len train data: 48 ; index: Quiero Repetir ; euclid sim: 3.320896070340039\n",
            "len train data: 48 ; index: Eye of the Tiger ; euclid sim: 1.7344050827981392\n",
            "len train data: 48 ; index: Poker Face ; euclid sim: 1.0314997683576725\n",
            "len train data: 48 ; index: Fronteamos Porque Podemos (feat. Daddy Yankee, Yandel & Nengo Flow) ; euclid sim: 2.8407341516247775\n",
            "len train data: 48 ; index: Eye of the Tiger ; euclid sim: 1.1800948709675838\n"
          ]
        }
      ]
    },
    {
      "cell_type": "code",
      "metadata": {
        "id": "AUCxAfmN7W-D"
      },
      "source": [
        "rec_coseT1.extend(rec_coseT2)"
      ],
      "execution_count": 76,
      "outputs": []
    },
    {
      "cell_type": "code",
      "metadata": {
        "id": "pE6LJqcF_RGi"
      },
      "source": [
        "rec_coseT1.extend(rec_coseT3)"
      ],
      "execution_count": 77,
      "outputs": []
    },
    {
      "cell_type": "code",
      "metadata": {
        "colab": {
          "base_uri": "https://localhost:8080/"
        },
        "id": "M4-bXg0QBSIL",
        "outputId": "c48fb612-8c56-432e-ba56-bc9ed7cf24c5"
      },
      "source": [
        "print(rec_coseT1)"
      ],
      "execution_count": 78,
      "outputs": [
        {
          "output_type": "stream",
          "name": "stdout",
          "text": [
            "[0.9999841037516034, 0.9999653991692578, 0.9999563450304619, 0.9999884803618749, 0.9999579153987349, 0.9999735526601331, 0.9999673159463939, 0.9999600243770032, 0.9999582986721756, 0.9999874965831516, 0.9999750121659532, 0.9999815343658153, 0.9999415231125649, 0.999954984247071, 0.9999685976066536, 0.99999510692748, 0.999951574931363, 0.9999854969054314, 0.9999511114433148, 0.9999477736418845, 0.9999887142489676, 0.9999570315875328, 0.9999769918050142, 0.9999900877877266, 0.9999889904713053, 0.9999837929241631, 0.9999804223994133, 0.9999848743965635, 0.9999146218418645, 0.9999899927658477, 0.9999802222720939, 0.9999461277450048]\n"
          ]
        }
      ]
    },
    {
      "cell_type": "code",
      "metadata": {
        "id": "mkzOzz8eBcui"
      },
      "source": [
        "rec_eucT1.extend(rec_eucT2)\n",
        "rec_eucT1.extend(rec_eucT3)"
      ],
      "execution_count": 79,
      "outputs": []
    },
    {
      "cell_type": "code",
      "metadata": {
        "colab": {
          "base_uri": "https://localhost:8080/"
        },
        "id": "Jj8RrhgNEUAS",
        "outputId": "9c9165d7-f324-4129-c812-988071c475a8"
      },
      "source": [
        "print(rec_eucT1)"
      ],
      "execution_count": 80,
      "outputs": [
        {
          "output_type": "stream",
          "name": "stdout",
          "text": [
            "[2.5188077844218277, 1.846909318622843, 2.1283099426775185, 1.464762722881052, 2.3256516344940827, 2.1190979071293574, 1.0739900217051643, 1.0158863374457814, 2.845257454941469, 1.9734539797050648, 2.107941742099151, 1.9181598914737557, 3.3738673655328286, 0.8836118091089579, 1.515460817766319, 1.9969429857910401, 0.7562831810902557, 1.990170648464195, 2.7235468161939136, 1.1709931895617507, 2.1748031013461495, 1.4798217064044437, 2.18235609491783, 1.6999899742057265, 2.4006066672874584, 1.743066287207689, 4.673617746981446, 3.320896070340039, 1.7344050827981392, 1.0314997683576725, 2.8407341516247775, 1.1800948709675838]\n"
          ]
        }
      ]
    },
    {
      "cell_type": "code",
      "metadata": {
        "id": "bbnJYTS3Csmg"
      },
      "source": [
        "EMrec_eucT1 = [3.1794949929867675, 2.2247396566789623, 2.3834931344772268, \n",
        "               1.7795386312187729, 4.131295387483819, 1.782733242349986, 2.2968121037646902, \n",
        "               5.667416601998549, 5.338334433645116, 0.6905423013886464, 2.244228256680679, \n",
        "               1.3170121934449535, 2.7746301663465065, 1.5439326037093688, 2.0031029244857925, \n",
        "               2.0484200979105913, 1.1461071213459935, 1.1926341643682326, 3.4386030375720917, \n",
        "               1.6234789433756147, 9.200148453280523, 1.6392889935768629, 4.202008981427813, \n",
        "               1.6396474511260046, 3.10060616783637, 1.6719271526427204, 6.492919261780452, \n",
        "               1.1699436832052363, 2.831385897118225, 1.0, 2.67127813089678, 5.366725732697733]"
      ],
      "execution_count": 81,
      "outputs": []
    },
    {
      "cell_type": "code",
      "metadata": {
        "colab": {
          "base_uri": "https://localhost:8080/"
        },
        "id": "v_75wGujFum5",
        "outputId": "6f12d599-aef1-493d-b718-574d28f0e163"
      },
      "source": [
        "# leven test for equal variance p-value lower than 0.01 means not equal\n",
        "from scipy.stats import levene\n",
        "stat, p = levene(rec_eucT1, EMrec_eucT1)\n",
        "print('pvalue > 0.01 means equal variance, pvalue:' ,p)"
      ],
      "execution_count": 82,
      "outputs": [
        {
          "output_type": "stream",
          "name": "stdout",
          "text": [
            "pvalue > 0.01 means equal variance, pvalue: 0.01862993413234162\n"
          ]
        }
      ]
    },
    {
      "cell_type": "code",
      "metadata": {
        "colab": {
          "base_uri": "https://localhost:8080/"
        },
        "id": "0OYDjWsyGn-Z",
        "outputId": "ffa9618e-ed35-4005-d9f7-91b62dca53fb"
      },
      "source": [
        "from scipy import stats\n",
        "stats.ttest_ind(rec_eucT1, EMrec_eucT1,equal_var = True)"
      ],
      "execution_count": 83,
      "outputs": [
        {
          "output_type": "execute_result",
          "data": {
            "text/plain": [
              "Ttest_indResult(statistic=-2.2022351381524796, pvalue=0.03137671474883365)"
            ]
          },
          "metadata": {},
          "execution_count": 83
        }
      ]
    },
    {
      "cell_type": "code",
      "metadata": {
        "colab": {
          "base_uri": "https://localhost:8080/"
        },
        "id": "zs5o5fNmdV63",
        "outputId": "dc84441a-f24f-403a-cfe8-ab25a92dbec6"
      },
      "source": [
        "print(len(rec_eucT1))\n",
        "print(len(EMrec_eucT1))"
      ],
      "execution_count": 84,
      "outputs": [
        {
          "output_type": "stream",
          "name": "stdout",
          "text": [
            "32\n",
            "32\n"
          ]
        }
      ]
    },
    {
      "cell_type": "markdown",
      "metadata": {
        "id": "RwwqpeZCKM7x"
      },
      "source": [
        "The two hypotheses for this particular two sample t-test are as follows:\n",
        "\n",
        "H0: µ1 = µ2 (the two population means are equal)\n",
        "\n",
        "HA: µ1 ≠µ2 (the two population means are not equal)\n",
        "\n",
        "Because the p-value of our test (0.0595) is greater than alpha = 0.05, we fail to reject the null hypothesis of the test. We do not have sufficient evidence to say that the mean height of plants between the two populations is different."
      ]
    },
    {
      "cell_type": "code",
      "metadata": {
        "colab": {
          "base_uri": "https://localhost:8080/",
          "height": 359
        },
        "id": "i2mqUUgsTwRd",
        "outputId": "773b46cf-fbb8-4be5-924c-967d6c96be61"
      },
      "source": [
        "testing34 = testdf1.iloc[:,[0,16]]\n",
        "testing34"
      ],
      "execution_count": 85,
      "outputs": [
        {
          "output_type": "execute_result",
          "data": {
            "text/html": [
              "<div>\n",
              "<style scoped>\n",
              "    .dataframe tbody tr th:only-of-type {\n",
              "        vertical-align: middle;\n",
              "    }\n",
              "\n",
              "    .dataframe tbody tr th {\n",
              "        vertical-align: top;\n",
              "    }\n",
              "\n",
              "    .dataframe thead th {\n",
              "        text-align: right;\n",
              "    }\n",
              "</style>\n",
              "<table border=\"1\" class=\"dataframe\">\n",
              "  <thead>\n",
              "    <tr style=\"text-align: right;\">\n",
              "      <th></th>\n",
              "      <th>track_name</th>\n",
              "      <th>track_artist</th>\n",
              "    </tr>\n",
              "  </thead>\n",
              "  <tbody>\n",
              "    <tr>\n",
              "      <th>136</th>\n",
              "      <td>I Dare You</td>\n",
              "      <td>The xx</td>\n",
              "    </tr>\n",
              "    <tr>\n",
              "      <th>186</th>\n",
              "      <td>Howling</td>\n",
              "      <td>RY X</td>\n",
              "    </tr>\n",
              "    <tr>\n",
              "      <th>286</th>\n",
              "      <td>Lower</td>\n",
              "      <td>TENDER</td>\n",
              "    </tr>\n",
              "    <tr>\n",
              "      <th>393</th>\n",
              "      <td>Prettiest Virgin (Radio Edit)</td>\n",
              "      <td>Agar Agar</td>\n",
              "    </tr>\n",
              "    <tr>\n",
              "      <th>429</th>\n",
              "      <td>Love Is a Bitch</td>\n",
              "      <td>Two Feet</td>\n",
              "    </tr>\n",
              "    <tr>\n",
              "      <th>451</th>\n",
              "      <td>Song For You</td>\n",
              "      <td>Rhye</td>\n",
              "    </tr>\n",
              "    <tr>\n",
              "      <th>473</th>\n",
              "      <td>Afternoon</td>\n",
              "      <td>TENDER</td>\n",
              "    </tr>\n",
              "    <tr>\n",
              "      <th>559</th>\n",
              "      <td>Jungle</td>\n",
              "      <td>Tash Sultana</td>\n",
              "    </tr>\n",
              "    <tr>\n",
              "      <th>1012</th>\n",
              "      <td>Tainted</td>\n",
              "      <td>TENDER</td>\n",
              "    </tr>\n",
              "    <tr>\n",
              "      <th>1089</th>\n",
              "      <td>Un autre que moi</td>\n",
              "      <td>Fishbach</td>\n",
              "    </tr>\n",
              "  </tbody>\n",
              "</table>\n",
              "</div>"
            ],
            "text/plain": [
              "                         track_name  track_artist\n",
              "136                      I Dare You        The xx\n",
              "186                         Howling          RY X\n",
              "286                           Lower        TENDER\n",
              "393   Prettiest Virgin (Radio Edit)     Agar Agar\n",
              "429                 Love Is a Bitch      Two Feet\n",
              "451                    Song For You          Rhye\n",
              "473                       Afternoon        TENDER\n",
              "559                          Jungle  Tash Sultana\n",
              "1012                        Tainted        TENDER\n",
              "1089               Un autre que moi      Fishbach"
            ]
          },
          "metadata": {},
          "execution_count": 85
        }
      ]
    },
    {
      "cell_type": "code",
      "metadata": {
        "colab": {
          "base_uri": "https://localhost:8080/",
          "height": 390
        },
        "id": "NilEKaxPT2r2",
        "outputId": "a0e7753d-c9e8-4f85-ccf4-73dd36fbfc5e"
      },
      "source": [
        "testing35 = testdf2.iloc[:,[0,16]]\n",
        "testing35"
      ],
      "execution_count": 86,
      "outputs": [
        {
          "output_type": "execute_result",
          "data": {
            "text/html": [
              "<div>\n",
              "<style scoped>\n",
              "    .dataframe tbody tr th:only-of-type {\n",
              "        vertical-align: middle;\n",
              "    }\n",
              "\n",
              "    .dataframe tbody tr th {\n",
              "        vertical-align: top;\n",
              "    }\n",
              "\n",
              "    .dataframe thead th {\n",
              "        text-align: right;\n",
              "    }\n",
              "</style>\n",
              "<table border=\"1\" class=\"dataframe\">\n",
              "  <thead>\n",
              "    <tr style=\"text-align: right;\">\n",
              "      <th></th>\n",
              "      <th>track_name</th>\n",
              "      <th>track_artist</th>\n",
              "    </tr>\n",
              "  </thead>\n",
              "  <tbody>\n",
              "    <tr>\n",
              "      <th>7</th>\n",
              "      <td>Tender Lover</td>\n",
              "      <td>Babyface</td>\n",
              "    </tr>\n",
              "    <tr>\n",
              "      <th>162</th>\n",
              "      <td>I'm Dreamin'</td>\n",
              "      <td>Christopher Williams</td>\n",
              "    </tr>\n",
              "    <tr>\n",
              "      <th>194</th>\n",
              "      <td>I Adore Mi Amor</td>\n",
              "      <td>Color Me Badd</td>\n",
              "    </tr>\n",
              "    <tr>\n",
              "      <th>207</th>\n",
              "      <td>Miss You Much</td>\n",
              "      <td>Janet Jackson</td>\n",
              "    </tr>\n",
              "    <tr>\n",
              "      <th>410</th>\n",
              "      <td>When Can I See You</td>\n",
              "      <td>Babyface</td>\n",
              "    </tr>\n",
              "    <tr>\n",
              "      <th>449</th>\n",
              "      <td>Rump Shaker</td>\n",
              "      <td>Wreckx-N-Effect</td>\n",
              "    </tr>\n",
              "    <tr>\n",
              "      <th>563</th>\n",
              "      <td>Lyte as a Rock</td>\n",
              "      <td>MC Lyte</td>\n",
              "    </tr>\n",
              "    <tr>\n",
              "      <th>973</th>\n",
              "      <td>Just Got Paid</td>\n",
              "      <td>Johnny Kemp</td>\n",
              "    </tr>\n",
              "    <tr>\n",
              "      <th>1120</th>\n",
              "      <td>End Of The Road</td>\n",
              "      <td>Boyz II Men</td>\n",
              "    </tr>\n",
              "    <tr>\n",
              "      <th>1212</th>\n",
              "      <td>Nasty</td>\n",
              "      <td>Janet Jackson</td>\n",
              "    </tr>\n",
              "    <tr>\n",
              "      <th>1301</th>\n",
              "      <td>She's Playing Hard To Get</td>\n",
              "      <td>Hi-Five</td>\n",
              "    </tr>\n",
              "  </tbody>\n",
              "</table>\n",
              "</div>"
            ],
            "text/plain": [
              "                     track_name          track_artist\n",
              "7                  Tender Lover              Babyface\n",
              "162                I'm Dreamin'  Christopher Williams\n",
              "194             I Adore Mi Amor         Color Me Badd\n",
              "207               Miss You Much         Janet Jackson\n",
              "410          When Can I See You              Babyface\n",
              "449                 Rump Shaker       Wreckx-N-Effect\n",
              "563              Lyte as a Rock               MC Lyte\n",
              "973               Just Got Paid           Johnny Kemp\n",
              "1120            End Of The Road           Boyz II Men\n",
              "1212                      Nasty         Janet Jackson\n",
              "1301  She's Playing Hard To Get               Hi-Five"
            ]
          },
          "metadata": {},
          "execution_count": 86
        }
      ]
    },
    {
      "cell_type": "code",
      "metadata": {
        "colab": {
          "base_uri": "https://localhost:8080/",
          "height": 390
        },
        "id": "tjzmvyCRT54D",
        "outputId": "013e0c0a-6d3c-4159-9bb3-df09fa745200"
      },
      "source": [
        "testing36 = testdf3.iloc[:,[0,16]]\n",
        "testing36"
      ],
      "execution_count": 87,
      "outputs": [
        {
          "output_type": "execute_result",
          "data": {
            "text/html": [
              "<div>\n",
              "<style scoped>\n",
              "    .dataframe tbody tr th:only-of-type {\n",
              "        vertical-align: middle;\n",
              "    }\n",
              "\n",
              "    .dataframe tbody tr th {\n",
              "        vertical-align: top;\n",
              "    }\n",
              "\n",
              "    .dataframe thead th {\n",
              "        text-align: right;\n",
              "    }\n",
              "</style>\n",
              "<table border=\"1\" class=\"dataframe\">\n",
              "  <thead>\n",
              "    <tr style=\"text-align: right;\">\n",
              "      <th></th>\n",
              "      <th>track_name</th>\n",
              "      <th>track_artist</th>\n",
              "    </tr>\n",
              "  </thead>\n",
              "  <tbody>\n",
              "    <tr>\n",
              "      <th>85</th>\n",
              "      <td>On Fire</td>\n",
              "      <td>Carmada</td>\n",
              "    </tr>\n",
              "    <tr>\n",
              "      <th>211</th>\n",
              "      <td>Hall &amp; Oates</td>\n",
              "      <td>Satchmode</td>\n",
              "    </tr>\n",
              "    <tr>\n",
              "      <th>309</th>\n",
              "      <td>Sway - Chainsmokers Remix</td>\n",
              "      <td>Anna of the North</td>\n",
              "    </tr>\n",
              "    <tr>\n",
              "      <th>463</th>\n",
              "      <td>Feel It All Around</td>\n",
              "      <td>Washed Out</td>\n",
              "    </tr>\n",
              "    <tr>\n",
              "      <th>474</th>\n",
              "      <td>Ghost - Lost Kings Remix</td>\n",
              "      <td>Halsey</td>\n",
              "    </tr>\n",
              "    <tr>\n",
              "      <th>500</th>\n",
              "      <td>Cool Blue</td>\n",
              "      <td>The Japanese House</td>\n",
              "    </tr>\n",
              "    <tr>\n",
              "      <th>538</th>\n",
              "      <td>Anywhere We Go</td>\n",
              "      <td>Kaptan</td>\n",
              "    </tr>\n",
              "    <tr>\n",
              "      <th>923</th>\n",
              "      <td>Indecision</td>\n",
              "      <td>Shura</td>\n",
              "    </tr>\n",
              "    <tr>\n",
              "      <th>929</th>\n",
              "      <td>Loudspeaker</td>\n",
              "      <td>MUNA</td>\n",
              "    </tr>\n",
              "    <tr>\n",
              "      <th>1279</th>\n",
              "      <td>Classic (feat. POWERS) - POWERS Sunset Version</td>\n",
              "      <td>The Knocks</td>\n",
              "    </tr>\n",
              "    <tr>\n",
              "      <th>1420</th>\n",
              "      <td>Cherry</td>\n",
              "      <td>Chromatics</td>\n",
              "    </tr>\n",
              "  </tbody>\n",
              "</table>\n",
              "</div>"
            ],
            "text/plain": [
              "                                          track_name        track_artist\n",
              "85                                           On Fire             Carmada\n",
              "211                                     Hall & Oates           Satchmode\n",
              "309                        Sway - Chainsmokers Remix   Anna of the North\n",
              "463                               Feel It All Around          Washed Out\n",
              "474                         Ghost - Lost Kings Remix              Halsey\n",
              "500                                        Cool Blue  The Japanese House\n",
              "538                                   Anywhere We Go              Kaptan\n",
              "923                                       Indecision               Shura\n",
              "929                                      Loudspeaker                MUNA\n",
              "1279  Classic (feat. POWERS) - POWERS Sunset Version          The Knocks\n",
              "1420                                          Cherry          Chromatics"
            ]
          },
          "metadata": {},
          "execution_count": 87
        }
      ]
    },
    {
      "cell_type": "code",
      "metadata": {
        "id": "JljL3oewUEIA"
      },
      "source": [
        "df1_rec =  df4[df4['track_name'].isin(euct1_name)]\n",
        "df2_rec =  df4[df4['track_name'].isin(euct2_name)]\n",
        "df3_rec =  df4[df4['track_name'].isin(euct3_name)]\n",
        "dfc1_rec =  df4[df4['track_name'].isin(cost1_name)]\n",
        "dfc2_rec =  df4[df4['track_name'].isin(cost2_name)]\n",
        "dfc3_rec =  df4[df4['track_name'].isin(cost3_name)]"
      ],
      "execution_count": 88,
      "outputs": []
    },
    {
      "cell_type": "code",
      "metadata": {
        "colab": {
          "base_uri": "https://localhost:8080/",
          "height": 328
        },
        "id": "ccPgS_UbaW3B",
        "outputId": "5dfdfe03-7c5f-494b-d7ba-7f7004ab2c58"
      },
      "source": [
        "testing37 = df1_rec.iloc[:,[0,16]]\n",
        "testing37"
      ],
      "execution_count": 89,
      "outputs": [
        {
          "output_type": "execute_result",
          "data": {
            "text/html": [
              "<div>\n",
              "<style scoped>\n",
              "    .dataframe tbody tr th:only-of-type {\n",
              "        vertical-align: middle;\n",
              "    }\n",
              "\n",
              "    .dataframe tbody tr th {\n",
              "        vertical-align: top;\n",
              "    }\n",
              "\n",
              "    .dataframe thead th {\n",
              "        text-align: right;\n",
              "    }\n",
              "</style>\n",
              "<table border=\"1\" class=\"dataframe\">\n",
              "  <thead>\n",
              "    <tr style=\"text-align: right;\">\n",
              "      <th></th>\n",
              "      <th>track_name</th>\n",
              "      <th>track_artist</th>\n",
              "    </tr>\n",
              "  </thead>\n",
              "  <tbody>\n",
              "    <tr>\n",
              "      <th>269</th>\n",
              "      <td>22</td>\n",
              "      <td>TINI</td>\n",
              "    </tr>\n",
              "    <tr>\n",
              "      <th>298</th>\n",
              "      <td>All Day All Night</td>\n",
              "      <td>Bobby Brown</td>\n",
              "    </tr>\n",
              "    <tr>\n",
              "      <th>444</th>\n",
              "      <td>Estamos Arriba</td>\n",
              "      <td>Bad Bunny</td>\n",
              "    </tr>\n",
              "    <tr>\n",
              "      <th>533</th>\n",
              "      <td>Flying On My Own - Dave AudÃ© Remix</td>\n",
              "      <td>CÃ©line Dion</td>\n",
              "    </tr>\n",
              "    <tr>\n",
              "      <th>545</th>\n",
              "      <td>My Body</td>\n",
              "      <td>Hot Shade</td>\n",
              "    </tr>\n",
              "    <tr>\n",
              "      <th>1155</th>\n",
              "      <td>Talk To Me - Frdy Remix</td>\n",
              "      <td>Topic</td>\n",
              "    </tr>\n",
              "    <tr>\n",
              "      <th>1210</th>\n",
              "      <td>Dear Society</td>\n",
              "      <td>Madison Beer</td>\n",
              "    </tr>\n",
              "    <tr>\n",
              "      <th>1230</th>\n",
              "      <td>Poker Face</td>\n",
              "      <td>Lady Gaga</td>\n",
              "    </tr>\n",
              "    <tr>\n",
              "      <th>1244</th>\n",
              "      <td>Realtalk Infinity</td>\n",
              "      <td>Jigzaw</td>\n",
              "    </tr>\n",
              "  </tbody>\n",
              "</table>\n",
              "</div>"
            ],
            "text/plain": [
              "                               track_name  track_artist\n",
              "269                                    22          TINI\n",
              "298                     All Day All Night   Bobby Brown\n",
              "444                        Estamos Arriba     Bad Bunny\n",
              "533   Flying On My Own - Dave AudÃ© Remix  CÃ©line Dion\n",
              "545                               My Body     Hot Shade\n",
              "1155              Talk To Me - Frdy Remix         Topic\n",
              "1210                         Dear Society  Madison Beer\n",
              "1230                           Poker Face     Lady Gaga\n",
              "1244                    Realtalk Infinity        Jigzaw"
            ]
          },
          "metadata": {},
          "execution_count": 89
        }
      ]
    },
    {
      "cell_type": "code",
      "metadata": {
        "colab": {
          "base_uri": "https://localhost:8080/",
          "height": 328
        },
        "id": "ClEBHhgmalFh",
        "outputId": "aa03eaf3-fac3-4e61-eef2-534b8f853d91"
      },
      "source": [
        "testing38 = df2_rec.iloc[:,[0,16]]\n",
        "testing38"
      ],
      "execution_count": 90,
      "outputs": [
        {
          "output_type": "execute_result",
          "data": {
            "text/html": [
              "<div>\n",
              "<style scoped>\n",
              "    .dataframe tbody tr th:only-of-type {\n",
              "        vertical-align: middle;\n",
              "    }\n",
              "\n",
              "    .dataframe tbody tr th {\n",
              "        vertical-align: top;\n",
              "    }\n",
              "\n",
              "    .dataframe thead th {\n",
              "        text-align: right;\n",
              "    }\n",
              "</style>\n",
              "<table border=\"1\" class=\"dataframe\">\n",
              "  <thead>\n",
              "    <tr style=\"text-align: right;\">\n",
              "      <th></th>\n",
              "      <th>track_name</th>\n",
              "      <th>track_artist</th>\n",
              "    </tr>\n",
              "  </thead>\n",
              "  <tbody>\n",
              "    <tr>\n",
              "      <th>220</th>\n",
              "      <td>Lose Your Soul</td>\n",
              "      <td>Jelly Roll</td>\n",
              "    </tr>\n",
              "    <tr>\n",
              "      <th>257</th>\n",
              "      <td>I Wanna Sex You Up</td>\n",
              "      <td>Color Me Badd</td>\n",
              "    </tr>\n",
              "    <tr>\n",
              "      <th>545</th>\n",
              "      <td>My Body</td>\n",
              "      <td>Hot Shade</td>\n",
              "    </tr>\n",
              "    <tr>\n",
              "      <th>561</th>\n",
              "      <td>Eye of the Tiger</td>\n",
              "      <td>Survivor</td>\n",
              "    </tr>\n",
              "    <tr>\n",
              "      <th>1093</th>\n",
              "      <td>Eye of the Tiger</td>\n",
              "      <td>Survivor</td>\n",
              "    </tr>\n",
              "    <tr>\n",
              "      <th>1143</th>\n",
              "      <td>Buss Down (feat. ZieZie)</td>\n",
              "      <td>Aitch</td>\n",
              "    </tr>\n",
              "    <tr>\n",
              "      <th>1230</th>\n",
              "      <td>Poker Face</td>\n",
              "      <td>Lady Gaga</td>\n",
              "    </tr>\n",
              "    <tr>\n",
              "      <th>1244</th>\n",
              "      <td>Realtalk Infinity</td>\n",
              "      <td>Jigzaw</td>\n",
              "    </tr>\n",
              "    <tr>\n",
              "      <th>1259</th>\n",
              "      <td>Fronteamos Porque Podemos (feat. Daddy Yankee,...</td>\n",
              "      <td>De La Ghetto</td>\n",
              "    </tr>\n",
              "  </tbody>\n",
              "</table>\n",
              "</div>"
            ],
            "text/plain": [
              "                                             track_name   track_artist\n",
              "220                                      Lose Your Soul     Jelly Roll\n",
              "257                                  I Wanna Sex You Up  Color Me Badd\n",
              "545                                             My Body      Hot Shade\n",
              "561                                    Eye of the Tiger       Survivor\n",
              "1093                                   Eye of the Tiger       Survivor\n",
              "1143                           Buss Down (feat. ZieZie)          Aitch\n",
              "1230                                         Poker Face      Lady Gaga\n",
              "1244                                  Realtalk Infinity         Jigzaw\n",
              "1259  Fronteamos Porque Podemos (feat. Daddy Yankee,...   De La Ghetto"
            ]
          },
          "metadata": {},
          "execution_count": 90
        }
      ]
    },
    {
      "cell_type": "code",
      "metadata": {
        "colab": {
          "base_uri": "https://localhost:8080/",
          "height": 359
        },
        "id": "jvcSSWHearo9",
        "outputId": "41653c43-12b9-4b81-de72-904c23cd900f"
      },
      "source": [
        "testing39 = df3_rec.iloc[:,[0,16]]\n",
        "testing39"
      ],
      "execution_count": 91,
      "outputs": [
        {
          "output_type": "execute_result",
          "data": {
            "text/html": [
              "<div>\n",
              "<style scoped>\n",
              "    .dataframe tbody tr th:only-of-type {\n",
              "        vertical-align: middle;\n",
              "    }\n",
              "\n",
              "    .dataframe tbody tr th {\n",
              "        vertical-align: top;\n",
              "    }\n",
              "\n",
              "    .dataframe thead th {\n",
              "        text-align: right;\n",
              "    }\n",
              "</style>\n",
              "<table border=\"1\" class=\"dataframe\">\n",
              "  <thead>\n",
              "    <tr style=\"text-align: right;\">\n",
              "      <th></th>\n",
              "      <th>track_name</th>\n",
              "      <th>track_artist</th>\n",
              "    </tr>\n",
              "  </thead>\n",
              "  <tbody>\n",
              "    <tr>\n",
              "      <th>269</th>\n",
              "      <td>22</td>\n",
              "      <td>TINI</td>\n",
              "    </tr>\n",
              "    <tr>\n",
              "      <th>366</th>\n",
              "      <td>More</td>\n",
              "      <td>Zion</td>\n",
              "    </tr>\n",
              "    <tr>\n",
              "      <th>444</th>\n",
              "      <td>Estamos Arriba</td>\n",
              "      <td>Bad Bunny</td>\n",
              "    </tr>\n",
              "    <tr>\n",
              "      <th>561</th>\n",
              "      <td>Eye of the Tiger</td>\n",
              "      <td>Survivor</td>\n",
              "    </tr>\n",
              "    <tr>\n",
              "      <th>1064</th>\n",
              "      <td>Sunburn</td>\n",
              "      <td>DROELOE</td>\n",
              "    </tr>\n",
              "    <tr>\n",
              "      <th>1093</th>\n",
              "      <td>Eye of the Tiger</td>\n",
              "      <td>Survivor</td>\n",
              "    </tr>\n",
              "    <tr>\n",
              "      <th>1143</th>\n",
              "      <td>Buss Down (feat. ZieZie)</td>\n",
              "      <td>Aitch</td>\n",
              "    </tr>\n",
              "    <tr>\n",
              "      <th>1230</th>\n",
              "      <td>Poker Face</td>\n",
              "      <td>Lady Gaga</td>\n",
              "    </tr>\n",
              "    <tr>\n",
              "      <th>1259</th>\n",
              "      <td>Fronteamos Porque Podemos (feat. Daddy Yankee,...</td>\n",
              "      <td>De La Ghetto</td>\n",
              "    </tr>\n",
              "    <tr>\n",
              "      <th>1307</th>\n",
              "      <td>Quiero Repetir</td>\n",
              "      <td>Ozuna</td>\n",
              "    </tr>\n",
              "  </tbody>\n",
              "</table>\n",
              "</div>"
            ],
            "text/plain": [
              "                                             track_name  track_artist\n",
              "269                                                  22          TINI\n",
              "366                                                More          Zion\n",
              "444                                      Estamos Arriba     Bad Bunny\n",
              "561                                    Eye of the Tiger      Survivor\n",
              "1064                                            Sunburn       DROELOE\n",
              "1093                                   Eye of the Tiger      Survivor\n",
              "1143                           Buss Down (feat. ZieZie)         Aitch\n",
              "1230                                         Poker Face     Lady Gaga\n",
              "1259  Fronteamos Porque Podemos (feat. Daddy Yankee,...  De La Ghetto\n",
              "1307                                     Quiero Repetir         Ozuna"
            ]
          },
          "metadata": {},
          "execution_count": 91
        }
      ]
    },
    {
      "cell_type": "code",
      "metadata": {
        "colab": {
          "base_uri": "https://localhost:8080/",
          "height": 111
        },
        "id": "Xb9tXtiVa3Vn",
        "outputId": "3e601e8b-dcd2-47b7-dccb-382bc76f9bbc"
      },
      "source": [
        "testing40 = dfc1_rec.iloc[:,[0,16]]\n",
        "testing40"
      ],
      "execution_count": 92,
      "outputs": [
        {
          "output_type": "execute_result",
          "data": {
            "text/html": [
              "<div>\n",
              "<style scoped>\n",
              "    .dataframe tbody tr th:only-of-type {\n",
              "        vertical-align: middle;\n",
              "    }\n",
              "\n",
              "    .dataframe tbody tr th {\n",
              "        vertical-align: top;\n",
              "    }\n",
              "\n",
              "    .dataframe thead th {\n",
              "        text-align: right;\n",
              "    }\n",
              "</style>\n",
              "<table border=\"1\" class=\"dataframe\">\n",
              "  <thead>\n",
              "    <tr style=\"text-align: right;\">\n",
              "      <th></th>\n",
              "      <th>track_name</th>\n",
              "      <th>track_artist</th>\n",
              "    </tr>\n",
              "  </thead>\n",
              "  <tbody>\n",
              "    <tr>\n",
              "      <th>229</th>\n",
              "      <td>Sektion (feat. Branco &amp; Gilli)</td>\n",
              "      <td>Benny Jamz</td>\n",
              "    </tr>\n",
              "    <tr>\n",
              "      <th>467</th>\n",
              "      <td>LUNA</td>\n",
              "      <td>Sick Individuals</td>\n",
              "    </tr>\n",
              "  </tbody>\n",
              "</table>\n",
              "</div>"
            ],
            "text/plain": [
              "                         track_name      track_artist\n",
              "229  Sektion (feat. Branco & Gilli)        Benny Jamz\n",
              "467                            LUNA  Sick Individuals"
            ]
          },
          "metadata": {},
          "execution_count": 92
        }
      ]
    },
    {
      "cell_type": "code",
      "metadata": {
        "colab": {
          "base_uri": "https://localhost:8080/",
          "height": 111
        },
        "id": "3R2AGv2ybBM3",
        "outputId": "1c7bc67b-08a0-401a-f611-3c8053332d09"
      },
      "source": [
        "testing41 = dfc2_rec.iloc[:,[0,16]]\n",
        "testing41"
      ],
      "execution_count": 93,
      "outputs": [
        {
          "output_type": "execute_result",
          "data": {
            "text/html": [
              "<div>\n",
              "<style scoped>\n",
              "    .dataframe tbody tr th:only-of-type {\n",
              "        vertical-align: middle;\n",
              "    }\n",
              "\n",
              "    .dataframe tbody tr th {\n",
              "        vertical-align: top;\n",
              "    }\n",
              "\n",
              "    .dataframe thead th {\n",
              "        text-align: right;\n",
              "    }\n",
              "</style>\n",
              "<table border=\"1\" class=\"dataframe\">\n",
              "  <thead>\n",
              "    <tr style=\"text-align: right;\">\n",
              "      <th></th>\n",
              "      <th>track_name</th>\n",
              "      <th>track_artist</th>\n",
              "    </tr>\n",
              "  </thead>\n",
              "  <tbody>\n",
              "    <tr>\n",
              "      <th>229</th>\n",
              "      <td>Sektion (feat. Branco &amp; Gilli)</td>\n",
              "      <td>Benny Jamz</td>\n",
              "    </tr>\n",
              "    <tr>\n",
              "      <th>467</th>\n",
              "      <td>LUNA</td>\n",
              "      <td>Sick Individuals</td>\n",
              "    </tr>\n",
              "  </tbody>\n",
              "</table>\n",
              "</div>"
            ],
            "text/plain": [
              "                         track_name      track_artist\n",
              "229  Sektion (feat. Branco & Gilli)        Benny Jamz\n",
              "467                            LUNA  Sick Individuals"
            ]
          },
          "metadata": {},
          "execution_count": 93
        }
      ]
    },
    {
      "cell_type": "code",
      "metadata": {
        "colab": {
          "base_uri": "https://localhost:8080/",
          "height": 111
        },
        "id": "aZ1EIhbqbDEN",
        "outputId": "40f65ca2-4140-48d0-be73-d09e0aa5a855"
      },
      "source": [
        "testing42 = dfc2_rec.iloc[:,[0,16]]\n",
        "testing42"
      ],
      "execution_count": 94,
      "outputs": [
        {
          "output_type": "execute_result",
          "data": {
            "text/html": [
              "<div>\n",
              "<style scoped>\n",
              "    .dataframe tbody tr th:only-of-type {\n",
              "        vertical-align: middle;\n",
              "    }\n",
              "\n",
              "    .dataframe tbody tr th {\n",
              "        vertical-align: top;\n",
              "    }\n",
              "\n",
              "    .dataframe thead th {\n",
              "        text-align: right;\n",
              "    }\n",
              "</style>\n",
              "<table border=\"1\" class=\"dataframe\">\n",
              "  <thead>\n",
              "    <tr style=\"text-align: right;\">\n",
              "      <th></th>\n",
              "      <th>track_name</th>\n",
              "      <th>track_artist</th>\n",
              "    </tr>\n",
              "  </thead>\n",
              "  <tbody>\n",
              "    <tr>\n",
              "      <th>229</th>\n",
              "      <td>Sektion (feat. Branco &amp; Gilli)</td>\n",
              "      <td>Benny Jamz</td>\n",
              "    </tr>\n",
              "    <tr>\n",
              "      <th>467</th>\n",
              "      <td>LUNA</td>\n",
              "      <td>Sick Individuals</td>\n",
              "    </tr>\n",
              "  </tbody>\n",
              "</table>\n",
              "</div>"
            ],
            "text/plain": [
              "                         track_name      track_artist\n",
              "229  Sektion (feat. Branco & Gilli)        Benny Jamz\n",
              "467                            LUNA  Sick Individuals"
            ]
          },
          "metadata": {},
          "execution_count": 94
        }
      ]
    },
    {
      "cell_type": "code",
      "metadata": {
        "id": "j9iDIXbRYQLe"
      },
      "source": [
        "def zerolistmaker(n):\n",
        "    listofzeros = [1] * n\n",
        "    return listofzeros"
      ],
      "execution_count": 97,
      "outputs": []
    },
    {
      "cell_type": "code",
      "metadata": {
        "colab": {
          "base_uri": "https://localhost:8080/"
        },
        "id": "Rlq2cx-_X2fi",
        "outputId": "4dbcd317-6d1d-4274-c730-35ff8c811577"
      },
      "source": [
        "from sklearn.metrics import classification_report\n",
        "target_names = zerolistmaker(32)\n",
        "y_true = zerolistmaker(32)\n",
        "y_pred = [1,0,1,1,1,1,0,1,0,1,0,1,0,1,0,0,0,1,1,0,1,1,1,0,1,0,1,1,1,1,1,1]\n",
        "target_names = [1,0]\n",
        "print(classification_report(y_true, y_pred))"
      ],
      "execution_count": 117,
      "outputs": [
        {
          "output_type": "stream",
          "name": "stdout",
          "text": [
            "              precision    recall  f1-score   support\n",
            "\n",
            "           0       0.00      0.00      0.00         0\n",
            "           1       1.00      0.66      0.79        32\n",
            "\n",
            "    accuracy                           0.66        32\n",
            "   macro avg       0.50      0.33      0.40        32\n",
            "weighted avg       1.00      0.66      0.79        32\n",
            "\n"
          ]
        }
      ]
    },
    {
      "cell_type": "code",
      "metadata": {
        "colab": {
          "base_uri": "https://localhost:8080/",
          "height": 432
        },
        "id": "pOxY83ehlMuW",
        "outputId": "58a0768d-827d-475f-d342-136ca71f34ac"
      },
      "source": [
        " fig, ax = plot_confusion_matrix(conf_mat=conf_matrix, figsize=(6, 6), cmap=plt.cm.Greens)\n",
        "plt.xlabel('Predictions', fontsize=18)\n",
        "plt.ylabel('Actuals', fontsize=18)\n",
        "plt.title('Confusion Matrix', fontsize=18)\n",
        "plt.show()"
      ],
      "execution_count": 118,
      "outputs": [
        {
          "output_type": "display_data",
          "data": {
            "image/png": "[encoded data removed]",
            "text/plain": [
              "<Figure size 432x432 with 1 Axes>"
            ]
          },
          "metadata": {
            "needs_background": "light"
          }
        }
      ]
    }
  ]
}