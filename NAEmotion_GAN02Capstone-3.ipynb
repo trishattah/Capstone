{
  "nbformat": 4,
  "nbformat_minor": 0,
  "metadata": {
    "colab": {
      "name": "NAEmotion-GAN02Capstone.ipynb",
      "provenance": [],
      "collapsed_sections": []
    },
    "kernelspec": {
      "name": "python3",
      "display_name": "Python 3"
    },
    "language_info": {
      "name": "python"
    }
  },
  "cells": [
    {
      "cell_type": "code",
      "metadata": {
        "id": "YQCZ3H_2TxIZ",
        "colab": {
          "base_uri": "https://localhost:8080/"
        },
        "outputId": "20ce310d-a182-4583-d9ef-757af8e72576"
      },
      "source": [
        "import torch\n",
        "from torch import nn\n",
        "from torch.utils.data import DataLoader\n",
        "import math\n",
        "import matplotlib.pyplot as plt\n",
        "import numpy as np\n",
        "import io\n",
        "import pandas as pd\n",
        "from imblearn.over_sampling import SMOTE\n",
        "from collections import Counter\n",
        "from matplotlib import pyplot\n",
        "from sklearn.preprocessing import MinMaxScaler\n",
        "import warnings\n",
        "warnings.filterwarnings('ignore')"
      ],
      "execution_count": null,
      "outputs": [
        {
          "output_type": "stream",
          "name": "stderr",
          "text": [
            "/usr/local/lib/python3.7/dist-packages/sklearn/externals/six.py:31: FutureWarning: The module is deprecated in version 0.21 and will be removed in version 0.23 since we've dropped support for Python 2.7. Please rely on the official version of six (https://pypi.org/project/six/).\n",
            "  \"(https://pypi.org/project/six/).\", FutureWarning)\n",
            "/usr/local/lib/python3.7/dist-packages/sklearn/utils/deprecation.py:144: FutureWarning: The sklearn.neighbors.base module is  deprecated in version 0.22 and will be removed in version 0.24. The corresponding classes / functions should instead be imported from sklearn.neighbors. Anything that cannot be imported from sklearn.neighbors is now part of the private API.\n",
            "  warnings.warn(message, FutureWarning)\n"
          ]
        }
      ]
    },
    {
      "cell_type": "code",
      "metadata": {
        "id": "c5IpolGoaZzL"
      },
      "source": [
        "url = 'https://raw.githubusercontent.com/trishattah/Capstone/main/spotify_songs-1.csv'\n",
        "df2 = pd.read_csv(url)"
      ],
      "execution_count": null,
      "outputs": []
    },
    {
      "cell_type": "code",
      "metadata": {
        "id": "BOfZ1LsBb3Z_"
      },
      "source": [
        "#url = 'https://raw.githubusercontent.com/trishattah/Capstone/main/Emotion_Labels.csv'\n",
        "#df3 = pd.read_csv(url)"
      ],
      "execution_count": null,
      "outputs": []
    },
    {
      "cell_type": "code",
      "metadata": {
        "id": "KwLUDpea0D_T"
      },
      "source": [
        "#df4 = pd.merge(df2,df3,on='track_id')\n",
        "#df4 = df2.drop(['Unnamed: 19'], axis=1)\n",
        "df4=df2"
      ],
      "execution_count": null,
      "outputs": []
    },
    {
      "cell_type": "code",
      "metadata": {
        "colab": {
          "base_uri": "https://localhost:8080/"
        },
        "id": "paij6qTxqtvn",
        "outputId": "ade56f89-a74b-4179-ccc2-4d0f85ff3a6e"
      },
      "source": [
        "df4 = df4.dropna()\n",
        "df4.shape"
      ],
      "execution_count": null,
      "outputs": [
        {
          "output_type": "execute_result",
          "data": {
            "text/plain": [
              "(1804, 16)"
            ]
          },
          "metadata": {},
          "execution_count": 5
        }
      ]
    },
    {
      "cell_type": "code",
      "metadata": {
        "colab": {
          "base_uri": "https://localhost:8080/"
        },
        "id": "rcEu57ehv2fp",
        "outputId": "c716d805-cc36-46b3-e283-2debd4831f98"
      },
      "source": [
        "df4['playlist_id'].value_counts()"
      ],
      "execution_count": null,
      "outputs": [
        {
          "output_type": "execute_result",
          "data": {
            "text/plain": [
              "3ykXidKLz1eYPvuGoFlD1e    17\n",
              "37i9dQZF1DWUFmyho2wkQU    15\n",
              "4NlAd9NpIa92IjErMyAriM    13\n",
              "44bkJI1QGkT2O0GYJSsbkp    12\n",
              "7nHgmv7uyIA1KHj6qTttjH    12\n",
              "                          ..\n",
              "6k45gxiQhfVqACfIdqONsC     1\n",
              "37i9dQZF1DWUlCmB8llCTB     1\n",
              "3opIxv3Y5GmXDNpbLFZxIm     1\n",
              "5ifDekrUt5lbSIMTSzNNqB     1\n",
              "37i9dQZF1DWWQRwui0ExPn     1\n",
              "Name: playlist_id, Length: 413, dtype: int64"
            ]
          },
          "metadata": {},
          "execution_count": 6
        }
      ]
    },
    {
      "cell_type": "code",
      "metadata": {
        "id": "zhHvotdp3evO"
      },
      "source": [
        "from sklearn.preprocessing import LabelEncoder\n",
        "le = LabelEncoder()\n",
        "\n",
        "df11 = df2.drop(['playlist_id','track_id','track_name','track_artist'], axis=1)\n",
        "cols = ['language', 'playlist_genre']\n",
        "#df11[cols] = df11[cols].apply(LabelEncoder().fit_transform)\n",
        "\n",
        "df12 = df2.set_index('track_name')"
      ],
      "execution_count": null,
      "outputs": []
    },
    {
      "cell_type": "code",
      "metadata": {
        "id": "gh5zkMZ3x43G"
      },
      "source": [
        "testdf = df4[df4['playlist_id'].isin(['5jROYSZSL7cO0jGAqkPx7C', '3ykXidKLz1eYPvuGoFlD1e','4hKPJNFIhdAg4pAksn78FJ'])]\n",
        "testdf1 =  df4[df4['playlist_id'].isin(['5jROYSZSL7cO0jGAqkPx7C'])]\n",
        "testdf2 = df4[df4['playlist_id'].isin(['3ykXidKLz1eYPvuGoFlD1e'])]\n",
        "testdf3 = df4[df4['playlist_id'].isin(['4hKPJNFIhdAg4pAksn78FJ'])]"
      ],
      "execution_count": null,
      "outputs": []
    },
    {
      "cell_type": "code",
      "metadata": {
        "id": "dct1kTdS0MYc"
      },
      "source": [
        "testdf1_1 = testdf1.drop(['playlist_id','track_id','track_name','track_artist'], axis=1)\n",
        "testdf2_1 = testdf2.drop(['playlist_id','track_id','track_name','track_artist'], axis=1)\n",
        "testdf3_1 = testdf3.drop(['playlist_id','track_id','track_name','track_artist'], axis=1)"
      ],
      "execution_count": null,
      "outputs": []
    },
    {
      "cell_type": "code",
      "metadata": {
        "id": "URnxJyAXzAUk"
      },
      "source": [
        "df5 = df4[~df4['playlist_id'].isin(['4hKPJNFIhdAg4pAksn78FJ', '3ykXidKLz1eYPvuGoFlD1e','4hKPJNFIhdAg4pAksn78FJ'])]"
      ],
      "execution_count": null,
      "outputs": []
    },
    {
      "cell_type": "code",
      "metadata": {
        "id": "0CtwpX2P39KH"
      },
      "source": [
        "pd.set_option('display.max_columns', None)"
      ],
      "execution_count": null,
      "outputs": []
    },
    {
      "cell_type": "code",
      "metadata": {
        "id": "iFpwP8Vz1hHY"
      },
      "source": [
        "df5 = df4.drop(['playlist_id','track_id','track_name','track_artist'], axis=1)\n",
        "df5['emotion'] = df5['emotion'].astype(int)"
      ],
      "execution_count": null,
      "outputs": []
    },
    {
      "cell_type": "code",
      "metadata": {
        "colab": {
          "base_uri": "https://localhost:8080/",
          "height": 131
        },
        "id": "7CAVYhDW9UJ3",
        "outputId": "fd27e38e-bae3-4fbe-d8d7-6465e42dc2d3"
      },
      "source": [
        "df5.head(2)"
      ],
      "execution_count": null,
      "outputs": [
        {
          "output_type": "execute_result",
          "data": {
            "text/html": [
              "<div>\n",
              "<style scoped>\n",
              "    .dataframe tbody tr th:only-of-type {\n",
              "        vertical-align: middle;\n",
              "    }\n",
              "\n",
              "    .dataframe tbody tr th {\n",
              "        vertical-align: top;\n",
              "    }\n",
              "\n",
              "    .dataframe thead th {\n",
              "        text-align: right;\n",
              "    }\n",
              "</style>\n",
              "<table border=\"1\" class=\"dataframe\">\n",
              "  <thead>\n",
              "    <tr style=\"text-align: right;\">\n",
              "      <th></th>\n",
              "      <th>track_popularity</th>\n",
              "      <th>instrumentalness</th>\n",
              "      <th>loudness</th>\n",
              "      <th>key</th>\n",
              "      <th>speechiness</th>\n",
              "      <th>acousticness</th>\n",
              "      <th>danceability</th>\n",
              "      <th>liveness</th>\n",
              "      <th>tempo</th>\n",
              "      <th>energy</th>\n",
              "      <th>valence</th>\n",
              "      <th>emotion</th>\n",
              "    </tr>\n",
              "  </thead>\n",
              "  <tbody>\n",
              "    <tr>\n",
              "      <th>0</th>\n",
              "      <td>41.0</td>\n",
              "      <td>0.01170</td>\n",
              "      <td>10.068</td>\n",
              "      <td>2.0</td>\n",
              "      <td>0.0236</td>\n",
              "      <td>0.2790</td>\n",
              "      <td>0.682</td>\n",
              "      <td>0.0887</td>\n",
              "      <td>97.091</td>\n",
              "      <td>0.401</td>\n",
              "      <td>0.566</td>\n",
              "      <td>6</td>\n",
              "    </tr>\n",
              "    <tr>\n",
              "      <th>1</th>\n",
              "      <td>28.0</td>\n",
              "      <td>0.00994</td>\n",
              "      <td>4.739</td>\n",
              "      <td>9.0</td>\n",
              "      <td>0.0442</td>\n",
              "      <td>0.0117</td>\n",
              "      <td>0.303</td>\n",
              "      <td>0.3470</td>\n",
              "      <td>135.225</td>\n",
              "      <td>0.880</td>\n",
              "      <td>0.404</td>\n",
              "      <td>1</td>\n",
              "    </tr>\n",
              "  </tbody>\n",
              "</table>\n",
              "</div>"
            ],
            "text/plain": [
              "   track_popularity  instrumentalness  loudness  key  speechiness  \\\n",
              "0              41.0           0.01170    10.068  2.0       0.0236   \n",
              "1              28.0           0.00994     4.739  9.0       0.0442   \n",
              "\n",
              "   acousticness  danceability  liveness    tempo  energy  valence  emotion  \n",
              "0        0.2790         0.682    0.0887   97.091   0.401    0.566        6  \n",
              "1        0.0117         0.303    0.3470  135.225   0.880    0.404        1  "
            ]
          },
          "metadata": {},
          "execution_count": 13
        }
      ]
    },
    {
      "cell_type": "code",
      "metadata": {
        "id": "PUNlxqKOIklG"
      },
      "source": [
        "#cols = ['language', 'playlist_genre']\n",
        "#df5[cols] = df5[cols].apply(LabelEncoder().fit_transform)"
      ],
      "execution_count": null,
      "outputs": []
    },
    {
      "cell_type": "code",
      "metadata": {
        "id": "mDPWs3JO9gvP"
      },
      "source": [
        "df11 = df5"
      ],
      "execution_count": null,
      "outputs": []
    },
    {
      "cell_type": "code",
      "metadata": {
        "id": "J7DROiWZ9vQB"
      },
      "source": [
        "df11['track_name'] = df4['track_name']\n",
        "df5 = df5.drop(['track_name'], axis=1)"
      ],
      "execution_count": null,
      "outputs": []
    },
    {
      "cell_type": "code",
      "metadata": {
        "id": "eIIXCY014PaV"
      },
      "source": [
        "df12 = df11.set_index('track_name')"
      ],
      "execution_count": null,
      "outputs": []
    },
    {
      "cell_type": "code",
      "metadata": {
        "id": "kVtiVv8S0rdE"
      },
      "source": [
        "#testdf1_1[cols] = testdf1_1[cols].apply(LabelEncoder().fit_transform)\n",
        "#testdf2_1[cols] = testdf2_1[cols].apply(LabelEncoder().fit_transform)\n",
        "#testdf3_1[cols] = testdf3_1[cols].apply(LabelEncoder().fit_transform)"
      ],
      "execution_count": null,
      "outputs": []
    },
    {
      "cell_type": "code",
      "metadata": {
        "colab": {
          "base_uri": "https://localhost:8080/"
        },
        "id": "QAUoLLtugPJB",
        "outputId": "e5678d49-d618-4761-c0cc-6a33cc6777dd"
      },
      "source": [
        "X, y = df5.iloc[:, :-1], df5.iloc[:, -1]\n",
        "X.shape"
      ],
      "execution_count": null,
      "outputs": [
        {
          "output_type": "execute_result",
          "data": {
            "text/plain": [
              "(1804, 11)"
            ]
          },
          "metadata": {},
          "execution_count": 19
        }
      ]
    },
    {
      "cell_type": "code",
      "metadata": {
        "id": "G_EuCYFRRNWe"
      },
      "source": [
        "#strategy = {1:200, 2:120, 3:150, 4:100, 5:150,6:120, 7:70, 8:45 ,9:45 ,10:40}\n",
        "#oversample = SMOTE(sampling_strategy=strategy)\n",
        "#X, y = oversample.fit_resample(X, y)\n",
        "# summarize distribution\n",
        "#counter = Counter(y)\n",
        "#for k,v in counter.items():\n",
        "#\tper = v / len(y) * 100\n",
        "#\tprint('Class=%d, n=%d (%.3f%%)' % (k, v, per))\n",
        "# plot the distribution\n",
        "#pyplot.bar(counter.keys(), counter.values())\n",
        "#pyplot.show()"
      ],
      "execution_count": null,
      "outputs": []
    },
    {
      "cell_type": "code",
      "metadata": {
        "id": "ROL4725RdsGn"
      },
      "source": [
        "#df6 = pd.DataFrame(X)\n",
        "#df6['emotion'] = y\n",
        "#df7 = df6.sample(frac=1)\n",
        "#df5 = df5.dropna()"
      ],
      "execution_count": null,
      "outputs": []
    },
    {
      "cell_type": "code",
      "metadata": {
        "id": "JFK2TDoD92iv"
      },
      "source": [
        "df5.shape\n",
        "scaler = MinMaxScaler()"
      ],
      "execution_count": null,
      "outputs": []
    },
    {
      "cell_type": "code",
      "metadata": {
        "colab": {
          "base_uri": "https://localhost:8080/"
        },
        "id": "2M3PlxrK31BH",
        "outputId": "c1b99ef0-ae08-4ff6-84fe-f167f1e6f75d"
      },
      "source": [
        "df5['emotion'].value_counts()"
      ],
      "execution_count": null,
      "outputs": [
        {
          "output_type": "execute_result",
          "data": {
            "text/plain": [
              "1     609\n",
              "3     228\n",
              "6     215\n",
              "2     165\n",
              "7     150\n",
              "5     138\n",
              "4     126\n",
              "8      64\n",
              "10     57\n",
              "9      52\n",
              "Name: emotion, dtype: int64"
            ]
          },
          "metadata": {},
          "execution_count": 23
        }
      ]
    },
    {
      "cell_type": "code",
      "metadata": {
        "colab": {
          "base_uri": "https://localhost:8080/"
        },
        "id": "bvDcIONbwwND",
        "outputId": "5c574aa6-154e-4004-d6ac-5c41bdf18eb9"
      },
      "source": [
        "train_data_001 = df5.iloc[:1600,2:10]\n",
        "train_data_01 = pd.DataFrame(scaler.fit_transform(train_data_001))\n",
        "train_data_length = len(train_data_01)\n",
        "train_data_01.shape"
      ],
      "execution_count": null,
      "outputs": [
        {
          "output_type": "execute_result",
          "data": {
            "text/plain": [
              "(1600, 8)"
            ]
          },
          "metadata": {},
          "execution_count": 24
        }
      ]
    },
    {
      "cell_type": "code",
      "metadata": {
        "id": "xCCT98Y2V0ry",
        "colab": {
          "base_uri": "https://localhost:8080/"
        },
        "outputId": "3318a117-ec32-407b-e737-e1dcd24f5256"
      },
      "source": [
        "train_data_001.columns"
      ],
      "execution_count": null,
      "outputs": [
        {
          "output_type": "execute_result",
          "data": {
            "text/plain": [
              "Index(['loudness', 'key', 'speechiness', 'acousticness', 'danceability',\n",
              "       'liveness', 'tempo', 'energy'],\n",
              "      dtype='object')"
            ]
          },
          "metadata": {},
          "execution_count": 25
        }
      ]
    },
    {
      "cell_type": "code",
      "metadata": {
        "id": "DrydNko01Qiq"
      },
      "source": [
        "testdf1_2 = testdf1_1.iloc[:1600,2:10]\n",
        "testdf2_2 = testdf2_1.iloc[:1600,2:10]\n",
        "testdf3_2 = testdf3_1.iloc[:1600,2:10]\n",
        "df13 = df12.iloc[:1600,2:10]"
      ],
      "execution_count": null,
      "outputs": []
    },
    {
      "cell_type": "code",
      "metadata": {
        "id": "RYgkcSwtvynh"
      },
      "source": [
        "train_data = torch.tensor(train_data_01.values.astype(np.float32))"
      ],
      "execution_count": null,
      "outputs": []
    },
    {
      "cell_type": "code",
      "metadata": {
        "id": "9jGsD2Rf_5cZ"
      },
      "source": [
        "train_labels = torch.zeros(train_data_length)\n",
        "train_set = [\n",
        "    (train_data[i], train_labels[i]) for i in range(train_data_length)\n",
        "]"
      ],
      "execution_count": null,
      "outputs": []
    },
    {
      "cell_type": "code",
      "metadata": {
        "id": "8Q_FlvWVCPeg"
      },
      "source": [
        "batch_size = 40\n",
        "train_loader = torch.utils.data.DataLoader(\n",
        "    train_set, batch_size=batch_size, shuffle=True\n",
        ")"
      ],
      "execution_count": null,
      "outputs": []
    },
    {
      "cell_type": "code",
      "metadata": {
        "id": "oeGokWcnUNVo"
      },
      "source": [
        "class Discriminator(nn.Module):\n",
        "    def __init__(self):\n",
        "        super().__init__()\n",
        "        self.model = nn.Sequential(\n",
        "            nn.Linear(8, 256),\n",
        "            nn.ReLU(),\n",
        "            nn.Dropout(0.3),\n",
        "            nn.Linear(256, 128),\n",
        "            nn.ReLU(),\n",
        "            nn.Dropout(0.3),\n",
        "            nn.Linear(128, 64),\n",
        "            nn.ReLU(),\n",
        "            nn.Dropout(0.3),\n",
        "            nn.Linear(64, 1),\n",
        "            nn.Sigmoid(),\n",
        "        )\n",
        "\n",
        "    def forward(self, x):\n",
        "        output = self.model(x)\n",
        "        return output"
      ],
      "execution_count": null,
      "outputs": []
    },
    {
      "cell_type": "code",
      "metadata": {
        "id": "w28gifmTe_Wa"
      },
      "source": [
        "discriminator = Discriminator()"
      ],
      "execution_count": null,
      "outputs": []
    },
    {
      "cell_type": "code",
      "metadata": {
        "id": "3LaGfTJ1fFf9"
      },
      "source": [
        "class Generator(nn.Module):\n",
        "    def __init__(self):\n",
        "        super().__init__()\n",
        "        self.model = nn.Sequential(\n",
        "            nn.Linear(8, 40),\n",
        "            nn.ReLU(),\n",
        "            nn.Linear(40, 80),\n",
        "            nn.ReLU(),\n",
        "            nn.Linear(80, 8),\n",
        "        )\n",
        "\n",
        "    def forward(self, x):\n",
        "        output = self.model(x)\n",
        "        return output\n",
        "\n",
        "generator = Generator()"
      ],
      "execution_count": null,
      "outputs": []
    },
    {
      "cell_type": "code",
      "metadata": {
        "id": "b3Lh9ZtEfPvG"
      },
      "source": [
        "lr = 0.001\n",
        "num_epochs = 500\n",
        "loss_function = nn.BCELoss()"
      ],
      "execution_count": null,
      "outputs": []
    },
    {
      "cell_type": "code",
      "metadata": {
        "id": "vHk6r37kfWfA"
      },
      "source": [
        "optimizer_discriminator = torch.optim.Adam(discriminator.parameters(), lr=lr)\n",
        "optimizer_generator = torch.optim.Adam(generator.parameters(), lr=lr)"
      ],
      "execution_count": null,
      "outputs": []
    },
    {
      "cell_type": "code",
      "metadata": {
        "id": "moL5w8QUPPFB"
      },
      "source": [
        "# list for final generated samples\n",
        "final_generated_samples=[]\n",
        "final_generated_samples_list=[]\n",
        "losses_g =[]\n",
        "losses_d = []\n",
        "labels = []\n",
        "pred = []\n",
        "true = []"
      ],
      "execution_count": null,
      "outputs": []
    },
    {
      "cell_type": "code",
      "metadata": {
        "id": "W0Zee1zVehN2"
      },
      "source": [
        "#len(labels[0])"
      ],
      "execution_count": null,
      "outputs": []
    },
    {
      "cell_type": "code",
      "metadata": {
        "colab": {
          "base_uri": "https://localhost:8080/"
        },
        "id": "M3oKJHuuffeK",
        "outputId": "a91760f8-a4c1-46eb-87d0-e77cc9270879"
      },
      "source": [
        "for epoch in range(num_epochs):\n",
        "    for n, (real_samples, _) in enumerate(train_loader):\n",
        "        # Data for training the discriminator\n",
        "        real_samples_labels = torch.ones((batch_size, 1))\n",
        "        latent_space_samples = torch.rand((batch_size, 8))\n",
        "        generated_samples = generator(latent_space_samples)\n",
        "        generated_samples_labels = torch.zeros((batch_size, 1))\n",
        "        all_samples = torch.cat((real_samples, generated_samples))\n",
        "        all_samples_labels = torch.cat(\n",
        "            (real_samples_labels, generated_samples_labels)\n",
        "        )\n",
        "\n",
        "        # Training the discriminator\n",
        "        discriminator.zero_grad()\n",
        "        output_discriminator = discriminator(all_samples)\n",
        "        loss_discriminator = loss_function(\n",
        "            output_discriminator, all_samples_labels)\n",
        "        loss_discriminator.backward()\n",
        "        optimizer_discriminator.step()\n",
        "\n",
        "\n",
        "        # Data for training the generator\n",
        "        latent_space_samples = torch.rand((batch_size, 8))\n",
        "\n",
        "        # Training the generator\n",
        "        generator.zero_grad()\n",
        "        generated_samples = generator(latent_space_samples)\n",
        "        output_discriminator_generated = discriminator(generated_samples)\n",
        "        loss_generator = loss_function(\n",
        "            output_discriminator_generated, real_samples_labels\n",
        "        )\n",
        "        loss_generator.backward()\n",
        "        optimizer_generator.step()\n",
        "\n",
        "        losses_g.append(loss_generator)\n",
        "        losses_d.append(loss_discriminator)\n",
        "\n",
        "        labels.append(all_samples_labels)\n",
        "        pred.append(output_discriminator)\n",
        "        true.append(all_samples)\n",
        "\n",
        "        # Show loss\n",
        "        if epoch % 10 == 0 and n == batch_size - 1:\n",
        "            final_generated_samples.append(generated_samples[0])\n",
        "            print(f\"Epoch: {epoch} Loss D.: {loss_discriminator}\")\n",
        "            print(f\"Epoch: {epoch} Loss G.: {loss_generator}\")\n",
        "            "
      ],
      "execution_count": null,
      "outputs": [
        {
          "output_type": "stream",
          "name": "stdout",
          "text": [
            "Epoch: 0 Loss D.: 0.9010264277458191\n",
            "Epoch: 0 Loss G.: 1.2438819408416748\n",
            "Epoch: 10 Loss D.: 0.6079765558242798\n",
            "Epoch: 10 Loss G.: 1.133025050163269\n",
            "Epoch: 20 Loss D.: 0.37234747409820557\n",
            "Epoch: 20 Loss G.: 1.0915427207946777\n",
            "Epoch: 30 Loss D.: 0.765001118183136\n",
            "Epoch: 30 Loss G.: 1.1064444780349731\n",
            "Epoch: 40 Loss D.: 0.561536431312561\n",
            "Epoch: 40 Loss G.: 1.4387601613998413\n",
            "Epoch: 50 Loss D.: 0.32820701599121094\n",
            "Epoch: 50 Loss G.: 1.4092297554016113\n",
            "Epoch: 60 Loss D.: 0.53559410572052\n",
            "Epoch: 60 Loss G.: 1.6166441440582275\n",
            "Epoch: 70 Loss D.: 0.47523197531700134\n",
            "Epoch: 70 Loss G.: 1.0312381982803345\n",
            "Epoch: 80 Loss D.: 0.5497444868087769\n",
            "Epoch: 80 Loss G.: 1.0071804523468018\n",
            "Epoch: 90 Loss D.: 0.5379372835159302\n",
            "Epoch: 90 Loss G.: 0.8630377650260925\n",
            "Epoch: 100 Loss D.: 0.528359591960907\n",
            "Epoch: 100 Loss G.: 1.0275170803070068\n",
            "Epoch: 110 Loss D.: 0.6752080321311951\n",
            "Epoch: 110 Loss G.: 0.7174069285392761\n",
            "Epoch: 120 Loss D.: 0.6010719537734985\n",
            "Epoch: 120 Loss G.: 0.7959330677986145\n",
            "Epoch: 130 Loss D.: 0.6957884430885315\n",
            "Epoch: 130 Loss G.: 0.731338620185852\n",
            "Epoch: 140 Loss D.: 0.6886538863182068\n",
            "Epoch: 140 Loss G.: 0.6919949650764465\n",
            "Epoch: 150 Loss D.: 0.6123742461204529\n",
            "Epoch: 150 Loss G.: 0.7213164567947388\n",
            "Epoch: 160 Loss D.: 0.47879132628440857\n",
            "Epoch: 160 Loss G.: 0.9169903993606567\n",
            "Epoch: 170 Loss D.: 0.5607568621635437\n",
            "Epoch: 170 Loss G.: 1.2798359394073486\n",
            "Epoch: 180 Loss D.: 0.6198146343231201\n",
            "Epoch: 180 Loss G.: 0.9285005331039429\n",
            "Epoch: 190 Loss D.: 0.5266450047492981\n",
            "Epoch: 190 Loss G.: 1.4034194946289062\n",
            "Epoch: 200 Loss D.: 0.66017746925354\n",
            "Epoch: 200 Loss G.: 0.7902795076370239\n",
            "Epoch: 210 Loss D.: 0.6118084192276001\n",
            "Epoch: 210 Loss G.: 0.8572104573249817\n",
            "Epoch: 220 Loss D.: 0.6846239566802979\n",
            "Epoch: 220 Loss G.: 0.7062677145004272\n",
            "Epoch: 230 Loss D.: 0.6822808980941772\n",
            "Epoch: 230 Loss G.: 0.6927074193954468\n",
            "Epoch: 240 Loss D.: 0.6282166242599487\n",
            "Epoch: 240 Loss G.: 0.8486189842224121\n",
            "Epoch: 250 Loss D.: 0.6743152737617493\n",
            "Epoch: 250 Loss G.: 0.701587438583374\n",
            "Epoch: 260 Loss D.: 0.699088454246521\n",
            "Epoch: 260 Loss G.: 0.7806037664413452\n",
            "Epoch: 270 Loss D.: 0.6290917992591858\n",
            "Epoch: 270 Loss G.: 0.9109252691268921\n",
            "Epoch: 280 Loss D.: 0.6892518401145935\n",
            "Epoch: 280 Loss G.: 0.7433859705924988\n",
            "Epoch: 290 Loss D.: 0.6480787992477417\n",
            "Epoch: 290 Loss G.: 0.765581488609314\n",
            "Epoch: 300 Loss D.: 0.7010971903800964\n",
            "Epoch: 300 Loss G.: 0.7086220383644104\n",
            "Epoch: 310 Loss D.: 0.6784271001815796\n",
            "Epoch: 310 Loss G.: 0.7214410305023193\n",
            "Epoch: 320 Loss D.: 0.6925891041755676\n",
            "Epoch: 320 Loss G.: 0.6730715036392212\n",
            "Epoch: 330 Loss D.: 0.6941269636154175\n",
            "Epoch: 330 Loss G.: 0.69377601146698\n",
            "Epoch: 340 Loss D.: 0.6900669932365417\n",
            "Epoch: 340 Loss G.: 0.6935217976570129\n",
            "Epoch: 350 Loss D.: 0.6919271349906921\n",
            "Epoch: 350 Loss G.: 0.6982988119125366\n",
            "Epoch: 360 Loss D.: 0.6930514574050903\n",
            "Epoch: 360 Loss G.: 0.6953638792037964\n",
            "Epoch: 370 Loss D.: 0.6887558698654175\n",
            "Epoch: 370 Loss G.: 0.8028308153152466\n",
            "Epoch: 380 Loss D.: 0.3462885022163391\n",
            "Epoch: 380 Loss G.: 1.4454600811004639\n",
            "Epoch: 390 Loss D.: 0.6848018169403076\n",
            "Epoch: 390 Loss G.: 0.7153967022895813\n",
            "Epoch: 400 Loss D.: 0.6178165078163147\n",
            "Epoch: 400 Loss G.: 0.7371571660041809\n",
            "Epoch: 410 Loss D.: 0.6751465797424316\n",
            "Epoch: 410 Loss G.: 1.0244431495666504\n",
            "Epoch: 420 Loss D.: 0.6691358089447021\n",
            "Epoch: 420 Loss G.: 0.8158226013183594\n",
            "Epoch: 430 Loss D.: 0.6400381922721863\n",
            "Epoch: 430 Loss G.: 0.8577290773391724\n",
            "Epoch: 440 Loss D.: 0.6951654553413391\n",
            "Epoch: 440 Loss G.: 0.6984180212020874\n",
            "Epoch: 450 Loss D.: 0.6749105453491211\n",
            "Epoch: 450 Loss G.: 0.9723774194717407\n",
            "Epoch: 460 Loss D.: 0.6203888654708862\n",
            "Epoch: 460 Loss G.: 0.8196573257446289\n",
            "Epoch: 470 Loss D.: 0.6931401491165161\n",
            "Epoch: 470 Loss G.: 0.692138135433197\n",
            "Epoch: 480 Loss D.: 0.6987771987915039\n",
            "Epoch: 480 Loss G.: 0.6817193031311035\n",
            "Epoch: 490 Loss D.: 0.7330213785171509\n",
            "Epoch: 490 Loss G.: 0.6254838705062866\n"
          ]
        }
      ]
    },
    {
      "cell_type": "code",
      "metadata": {
        "colab": {
          "base_uri": "https://localhost:8080/",
          "height": 265
        },
        "id": "hs5paGQUO03N",
        "outputId": "b8f89276-88ef-44a6-ff1c-c70ddd262308"
      },
      "source": [
        "# plot and save the generator and discriminator loss\n",
        "plt.figure()\n",
        "plt.plot(losses_g, label='Generator loss')\n",
        "plt.plot(losses_d, label='Discriminator Loss')\n",
        "plt.legend()\n",
        "plt.show()"
      ],
      "execution_count": null,
      "outputs": [
        {
          "output_type": "display_data",
          "data": {
            "image/png": "[encoded data removed]",
            "text/plain": [
              "<Figure size 432x288 with 1 Axes>"
            ]
          },
          "metadata": {
            "needs_background": "light"
          }
        }
      ]
    },
    {
      "cell_type": "code",
      "metadata": {
        "id": "m6LUuQD1uz2F"
      },
      "source": [
        "# make a dataframe for sample list\n",
        "for i in final_generated_samples:\n",
        "  a = i.detach().numpy()\n",
        "  final_generated_samples_list.append(a)\n",
        "final_generated_samples_df = pd.DataFrame(final_generated_samples_list)"
      ],
      "execution_count": null,
      "outputs": []
    },
    {
      "cell_type": "code",
      "metadata": {
        "id": "xNZjGkXgiNGL",
        "colab": {
          "base_uri": "https://localhost:8080/"
        },
        "outputId": "d5485ba5-f6d8-4149-cfbc-66e3003068f1"
      },
      "source": [
        "latent_space_samples[:10]"
      ],
      "execution_count": null,
      "outputs": [
        {
          "output_type": "execute_result",
          "data": {
            "text/plain": [
              "tensor([[0.8776, 0.7871, 0.1404, 0.7267, 0.6187, 0.8891, 0.5707, 0.1755],\n",
              "        [0.6976, 0.3364, 0.2046, 0.0656, 0.4807, 0.0614, 0.4100, 0.8663],\n",
              "        [0.2492, 0.3146, 0.9859, 0.6595, 0.4537, 0.7076, 0.1307, 0.8029],\n",
              "        [0.7185, 0.1383, 0.0667, 0.7341, 0.8833, 0.9916, 0.6284, 0.6945],\n",
              "        [0.0540, 0.3981, 0.2119, 0.9805, 0.0636, 0.4916, 0.8204, 0.7776],\n",
              "        [0.1646, 0.0997, 0.3825, 0.3623, 0.3177, 0.9469, 0.2281, 0.8295],\n",
              "        [0.6461, 0.6472, 0.3074, 0.5903, 0.2640, 0.7108, 0.2921, 0.9435],\n",
              "        [0.4138, 0.4372, 0.6090, 0.1092, 0.9531, 0.9340, 0.5776, 0.2962],\n",
              "        [0.8151, 0.3543, 0.1079, 0.9864, 0.4438, 0.1171, 0.6566, 0.3956],\n",
              "        [0.6362, 0.4125, 0.4348, 0.4905, 0.5694, 0.1168, 0.3204, 0.7446]])"
            ]
          },
          "metadata": {},
          "execution_count": 40
        }
      ]
    },
    {
      "cell_type": "code",
      "metadata": {
        "id": "4tvxpDe3Za9d",
        "colab": {
          "base_uri": "https://localhost:8080/",
          "height": 282
        },
        "outputId": "a6622e5f-acdf-4702-e302-34833458fd05"
      },
      "source": [
        "#plot of two variables from generated samples\n",
        "plt.plot(final_generated_samples_df.iloc[:, 6], \n",
        "         final_generated_samples_df.iloc[:, 3], \".\")"
      ],
      "execution_count": null,
      "outputs": [
        {
          "output_type": "execute_result",
          "data": {
            "text/plain": [
              "[<matplotlib.lines.Line2D at 0x7f253cd258d0>]"
            ]
          },
          "metadata": {},
          "execution_count": 41
        },
        {
          "output_type": "display_data",
          "data": {
            "image/png": "[encoded data removed]",
            "text/plain": [
              "<Figure size 432x288 with 1 Axes>"
            ]
          },
          "metadata": {
            "needs_background": "light"
          }
        }
      ]
    },
    {
      "cell_type": "code",
      "metadata": {
        "id": "XIMG5PoX06OX"
      },
      "source": [
        "from scipy.spatial import distance"
      ],
      "execution_count": null,
      "outputs": []
    },
    {
      "cell_type": "code",
      "metadata": {
        "id": "RycK3PK_zDW0"
      },
      "source": [
        "float_x = real_samples[0].double()"
      ],
      "execution_count": null,
      "outputs": []
    },
    {
      "cell_type": "code",
      "metadata": {
        "id": "Y6D_uRDmDsKS"
      },
      "source": [
        "float_x = list(float_x.numpy())"
      ],
      "execution_count": null,
      "outputs": []
    },
    {
      "cell_type": "markdown",
      "metadata": {
        "id": "mP59c_ZQqUKQ"
      },
      "source": [
        ""
      ]
    },
    {
      "cell_type": "code",
      "metadata": {
        "id": "rf0t9hUt7Wc4",
        "colab": {
          "base_uri": "https://localhost:8080/"
        },
        "outputId": "92bbe600-ad5d-4615-88f3-6514b6243264"
      },
      "source": [
        "# Cosine similarity\n",
        "def square_rooted(x):\n",
        "   return round(math.sqrt(sum([a*a for a in x])),3)\n",
        "  \n",
        "def cosine_similarity(x,y):\n",
        " numerator = sum(a*b for a,b in zip(x,y))\n",
        " denominator = square_rooted(x)*square_rooted(y)\n",
        " return round(numerator/float(denominator),3)\n",
        "  \n",
        "print(cosine_similarity(final_generated_samples_df[0],float_x))"
      ],
      "execution_count": null,
      "outputs": [
        {
          "output_type": "stream",
          "name": "stdout",
          "text": [
            "0.278\n"
          ]
        }
      ]
    },
    {
      "cell_type": "code",
      "metadata": {
        "id": "vP1mzbkc79ik",
        "colab": {
          "base_uri": "https://localhost:8080/"
        },
        "outputId": "f9603677-c413-4d30-c61b-f1c1241f8ac8"
      },
      "source": [
        "#Jaccard similarity\n",
        "from math import*\n",
        "  \n",
        "def jaccard_similarity(x,y):\n",
        " intersection_cardinality = len(set.intersection(*[set(x), set(y)]))\n",
        " union_cardinality = len(set.union(*[set(x), set(y)]))\n",
        " return intersection_cardinality/float(union_cardinality)\n",
        "print(jaccard_similarity([0,1,2,5,6],[0,2,3,5,7,9]))"
      ],
      "execution_count": null,
      "outputs": [
        {
          "output_type": "stream",
          "name": "stdout",
          "text": [
            "0.375\n"
          ]
        }
      ]
    },
    {
      "cell_type": "code",
      "metadata": {
        "id": "NP3So0XD8g60"
      },
      "source": [
        "import numpy as np\n",
        "import pandas as pd\n",
        "from sklearn.metrics import jaccard_score\n",
        "from sklearn.metrics.pairwise import pairwise_distances,cosine_similarity"
      ],
      "execution_count": null,
      "outputs": []
    },
    {
      "cell_type": "code",
      "metadata": {
        "id": "DCwHlEBVHgow"
      },
      "source": [
        "df9 = pd.DataFrame(scaler.inverse_transform(final_generated_samples_df))\n",
        "df10 = pd.DataFrame(scaler.inverse_transform(train_data_01))"
      ],
      "execution_count": null,
      "outputs": []
    },
    {
      "cell_type": "code",
      "metadata": {
        "id": "ji0flvFOBhuS"
      },
      "source": [
        "generated_vals2=[]\n",
        "for i, j in df9.iterrows():\n",
        "  generated_vals2.append(j.values)\n",
        "\n",
        "generated_vals3 = generated_vals2[:10]\n",
        "\n",
        "train_data_vals2=[]\n",
        "for i, j in train_data_001.iterrows():\n",
        "  train_data_vals2.append(j.values)\n"
      ],
      "execution_count": null,
      "outputs": []
    },
    {
      "cell_type": "markdown",
      "metadata": {
        "id": "uxYm6GBjoZG6"
      },
      "source": [
        ""
      ]
    },
    {
      "cell_type": "code",
      "metadata": {
        "id": "cM4Kbd01UDeF"
      },
      "source": [
        "def cos_similarity(x,d):\n",
        "  recommended = []  \n",
        "  for i in d:\n",
        "    a = cosine_similarity([x],[i])\n",
        "    recommended.append(a)\n",
        "  rec_score=max(recommended)\n",
        "  rec_index = recommended.index(rec_score)\n",
        "  rec_cos.append(rec_score)\n",
        "  rec_idx = df13.index[rec_index]\n",
        "  cos_name.append(rec_idx)\n",
        "  rec_len = len(recommended)\n",
        "  results1.append(['index:',rec_idx,'; cos sim:',rec_score])"
      ],
      "execution_count": null,
      "outputs": []
    },
    {
      "cell_type": "code",
      "metadata": {
        "id": "8GyLH48C0vPM"
      },
      "source": [
        "def euclid_similarity(x,d):\n",
        "  recommended = []  \n",
        "  for i in d:\n",
        "    a = distance.euclidean([x],[i])\n",
        "    recommended.append(a)\n",
        "  rec_score=min(recommended)\n",
        "  rec_index = recommended.index(rec_score)\n",
        "  rec_euc.append(rec_score)\n",
        "  rec_idx = df13.index[rec_index]\n",
        "  euc_name.append(rec_idx)\n",
        "  rec_len = len(recommended)\n",
        "  results2.append(['index:',rec_idx,'; euclid sim:',rec_score])"
      ],
      "execution_count": null,
      "outputs": []
    },
    {
      "cell_type": "code",
      "metadata": {
        "id": "j527TRLHyY2x",
        "colab": {
          "base_uri": "https://localhost:8080/"
        },
        "outputId": "101de549-b6b9-468e-8663-60b865cbdcdd"
      },
      "source": [
        "dst = distance.euclidean(final_generated_samples_df.iloc[0,:].values,float_x)\n",
        "print('Euclidean distance: %.3f' % dst)"
      ],
      "execution_count": null,
      "outputs": [
        {
          "output_type": "stream",
          "name": "stdout",
          "text": [
            "Euclidean distance: 0.745\n"
          ]
        }
      ]
    },
    {
      "cell_type": "code",
      "metadata": {
        "id": "I5WphA_0Z9zV"
      },
      "source": [
        "# pick recommendations with cosine similarity\n",
        "results1 =[]\n",
        "cos_name =[]\n",
        "rec_cos = []\n",
        "for i in generated_vals2:\n",
        "  a = cos_similarity(i,train_data_vals2)"
      ],
      "execution_count": null,
      "outputs": []
    },
    {
      "cell_type": "code",
      "metadata": {
        "id": "iqO0J7Zlq2G_"
      },
      "source": [
        "cols2 = ['language']\n",
        "cos_rec =  df4[df4['track_name'].isin(cos_name)]\n",
        "cos_rec2 = cos_rec.drop(['playlist_id','track_id','track_name','track_artist'], axis=1)\n",
        "#cos_rec2[cols2] = cos_rec2[cols2].apply(LabelEncoder().fit_transform)\n",
        "cos_rec3 = cos_rec2.iloc[:1600,2:10]"
      ],
      "execution_count": null,
      "outputs": []
    },
    {
      "cell_type": "code",
      "metadata": {
        "id": "QDk6KhE433zB"
      },
      "source": [
        "cos_rec4=[]\n",
        "for i, j in cos_rec3.iterrows():\n",
        "  cos_rec4.append(j.values)"
      ],
      "execution_count": null,
      "outputs": []
    },
    {
      "cell_type": "code",
      "metadata": {
        "id": "nC-_WcnkFKkQ"
      },
      "source": [
        "cos_rec3['track_name'] = df4['track_name']\n",
        "cos_rec5 = cos_rec3.set_index('track_name')"
      ],
      "execution_count": null,
      "outputs": []
    },
    {
      "cell_type": "code",
      "metadata": {
        "id": "epyouEYb0LlZ"
      },
      "source": [
        "rec_cose=[]\n",
        "for i in rec_cos:\n",
        "  rec_cose.append(i[0][0])"
      ],
      "execution_count": null,
      "outputs": []
    },
    {
      "cell_type": "code",
      "metadata": {
        "id": "I9txVZCn1Me7"
      },
      "source": [
        "# pick recommendations with euclidean similarity\n",
        "results2 =[]\n",
        "euc_name =[]\n",
        "rec_euc = []\n",
        "for i in generated_vals2:\n",
        "  a = euclid_similarity(i,train_data_vals2)"
      ],
      "execution_count": null,
      "outputs": []
    },
    {
      "cell_type": "code",
      "metadata": {
        "id": "3TOBzgYDw_6q"
      },
      "source": [
        "euc_rec =  df4[df4['track_name'].isin(euc_name)]\n",
        "euc_rec2 = euc_rec.drop(['playlist_id','track_id','track_name','track_artist'], axis=1)\n",
        "#euc_rec2[cols2] = euc_rec2[cols2].apply(LabelEncoder().fit_transform)\n",
        "euc_rec3 = euc_rec2.iloc[:1600,2:10]"
      ],
      "execution_count": null,
      "outputs": []
    },
    {
      "cell_type": "code",
      "metadata": {
        "id": "FFxwgPxVGu66"
      },
      "source": [
        "euc_rec4=[]\n",
        "for i, j in euc_rec3.iterrows():\n",
        "  euc_rec4.append(j.values)"
      ],
      "execution_count": null,
      "outputs": []
    },
    {
      "cell_type": "code",
      "metadata": {
        "id": "HMl2sYUOGE7M"
      },
      "source": [
        "euc_rec3['track_name'] = df4['track_name']\n",
        "euc_rec5 = euc_rec3.set_index('track_name')"
      ],
      "execution_count": null,
      "outputs": []
    },
    {
      "cell_type": "code",
      "metadata": {
        "id": "SR1wtnOQsprP"
      },
      "source": [
        "testdf1_3 = testdf1_2\n",
        "testdf1_3['track_name'] = testdf1['track_name']\n",
        "testdf1_3 = testdf1_3.set_index('track_name')\n",
        "\n",
        "testdf2_3 = testdf2_2\n",
        "testdf2_3['track_name'] = testdf2['track_name']\n",
        "testdf2_3 = testdf2_3.set_index('track_name')\n",
        "\n",
        "testdf3_3 = testdf3_2\n",
        "testdf3_3['track_name'] = testdf3['track_name']\n",
        "testdf3_3 = testdf3_3.set_index('track_name')"
      ],
      "execution_count": null,
      "outputs": []
    },
    {
      "cell_type": "code",
      "metadata": {
        "id": "C976IH3Y745-"
      },
      "source": [
        "test_data1 = testdf1_3.values\n",
        "test_data2 = testdf2_3.values\n",
        "test_data3 = testdf3_3.values"
      ],
      "execution_count": null,
      "outputs": []
    },
    {
      "cell_type": "code",
      "metadata": {
        "id": "XWRXAtgRfQB_"
      },
      "source": [
        "def cos_similarity_t1(x,d):\n",
        "  recommended = []  \n",
        "  for i in d:\n",
        "    a = cosine_similarity([x],[i])\n",
        "    recommended.append(a)\n",
        "  rec_score=max(recommended)\n",
        "  rec_index = recommended.index(rec_score)\n",
        "  rec_cosT1.append(rec_score)\n",
        "  rec_idx = cos_rec5.index[rec_index]\n",
        "  cost1_name.append(rec_idx)\n",
        "  rec_len = len(recommended)\n",
        "  print('len train data:',rec_len,'; index:',rec_idx,'; cos sim:',rec_score)\n",
        "\n",
        "def euclid_similarity_t1(x,d):\n",
        "  recommended = []  \n",
        "  for i in d:\n",
        "    a = distance.euclidean([x],[i])\n",
        "    recommended.append(a)\n",
        "  rec_score=min(recommended)\n",
        "  rec_index = recommended.index(rec_score)\n",
        "  rec_eucT1.append(rec_score)\n",
        "  rec_idx = euc_rec5.index[rec_index]\n",
        "  euct1_name.append(rec_idx)\n",
        "  rec_len = len(recommended)\n",
        "  print('len train data:',rec_len,'; index:',rec_idx,'; euclid sim:',rec_score)"
      ],
      "execution_count": null,
      "outputs": []
    },
    {
      "cell_type": "code",
      "metadata": {
        "id": "v3iYXkcX8QJr",
        "colab": {
          "base_uri": "https://localhost:8080/"
        },
        "outputId": "6da91e0f-7cfc-4564-e6af-3a1884e8926b"
      },
      "source": [
        "#compare recomendations to test subjects\n",
        "cost1_name = []\n",
        "rec_cosT1 = []\n",
        "for i in test_data1:\n",
        "  a = cos_similarity_t1(i,cos_rec4)"
      ],
      "execution_count": null,
      "outputs": [
        {
          "output_type": "stream",
          "name": "stdout",
          "text": [
            "len train data: 49 ; index: Heaven ; cos sim: [[0.9999512]]\n",
            "len train data: 49 ; index: English Breakfast ; cos sim: [[0.9993808]]\n",
            "len train data: 49 ; index: Ignition (Remix) ; cos sim: [[0.99993352]]\n",
            "len train data: 49 ; index: Girlfriend in a Coma - 2011 Remaster ; cos sim: [[0.99999645]]\n",
            "len train data: 49 ; index: Sleepy Eyes ; cos sim: [[0.99995834]]\n",
            "len train data: 49 ; index: Say It's Gonna Rain ; cos sim: [[0.99995314]]\n",
            "len train data: 49 ; index: La Grange - 1999 Remaster ; cos sim: [[0.99999469]]\n",
            "len train data: 49 ; index: If I Lose Myself - Alesso vs OneRepublic ; cos sim: [[0.99995702]]\n",
            "len train data: 49 ; index: We Built This City ; cos sim: [[0.99998637]]\n",
            "len train data: 49 ; index: Can't Take My Eyes off You ; cos sim: [[0.99997611]]\n"
          ]
        }
      ]
    },
    {
      "cell_type": "code",
      "metadata": {
        "id": "OgQfUT3W3nZ4"
      },
      "source": [
        "rec_coseT1=[]\n",
        "for i in rec_cosT1:\n",
        "  rec_coseT1.append(i[0][0])"
      ],
      "execution_count": null,
      "outputs": []
    },
    {
      "cell_type": "code",
      "metadata": {
        "id": "4vwnG9_x-1Gy",
        "colab": {
          "base_uri": "https://localhost:8080/"
        },
        "outputId": "9bcbd6cd-3ad9-4293-c46e-a0bd76af29ed"
      },
      "source": [
        "euct1_name = []\n",
        "rec_eucT1 = []\n",
        "for i in test_data1:\n",
        "  a = euclid_similarity_t1(i,euc_rec4)"
      ],
      "execution_count": null,
      "outputs": [
        {
          "output_type": "stream",
          "name": "stdout",
          "text": [
            "len train data: 49 ; index: One More Time ; euclid sim: 3.573735850619064\n",
            "len train data: 49 ; index: Brothers ; euclid sim: 4.229730785759304\n",
            "len train data: 49 ; index: All Day All Night ; euclid sim: 3.7544874457107964\n",
            "len train data: 49 ; index: Brothers ; euclid sim: 1.2520134264455758\n",
            "len train data: 49 ; index: Disrespectful ; euclid sim: 8.449786580145085\n",
            "len train data: 49 ; index: Urgent ; euclid sim: 4.829700208087455\n",
            "len train data: 49 ; index: Shuttin It Down ; euclid sim: 4.225039591873665\n",
            "len train data: 49 ; index: Disrespectful ; euclid sim: 6.419851731153899\n",
            "len train data: 49 ; index: Bienvenidos - Live ; euclid sim: 3.623927923455442\n",
            "len train data: 49 ; index: Heaven - Radio Edit ; euclid sim: 3.184861180648238\n"
          ]
        }
      ]
    },
    {
      "cell_type": "code",
      "metadata": {
        "colab": {
          "base_uri": "https://localhost:8080/"
        },
        "id": "Xq65SaXfNzLs",
        "outputId": "69094ffc-628a-487e-98fc-fcb7345647b0"
      },
      "source": [
        "euct1_name"
      ],
      "execution_count": null,
      "outputs": [
        {
          "output_type": "execute_result",
          "data": {
            "text/plain": [
              "['One More Time',\n",
              " 'Brothers',\n",
              " 'All Day All Night',\n",
              " 'Brothers',\n",
              " 'Disrespectful',\n",
              " 'Urgent',\n",
              " 'Shuttin It Down',\n",
              " 'Disrespectful',\n",
              " 'Bienvenidos - Live',\n",
              " 'Heaven - Radio Edit']"
            ]
          },
          "metadata": {},
          "execution_count": 68
        }
      ]
    },
    {
      "cell_type": "code",
      "metadata": {
        "colab": {
          "base_uri": "https://localhost:8080/"
        },
        "id": "RPK23v_x8G5Z",
        "outputId": "69069f2e-419c-4445-cce5-744415ad1fab"
      },
      "source": [
        "rec_eucT1"
      ],
      "execution_count": null,
      "outputs": [
        {
          "output_type": "execute_result",
          "data": {
            "text/plain": [
              "[3.573735850619064,\n",
              " 4.229730785759304,\n",
              " 3.7544874457107964,\n",
              " 1.2520134264455758,\n",
              " 8.449786580145085,\n",
              " 4.829700208087455,\n",
              " 4.225039591873665,\n",
              " 6.419851731153899,\n",
              " 3.623927923455442,\n",
              " 3.184861180648238]"
            ]
          },
          "metadata": {},
          "execution_count": 69
        }
      ]
    },
    {
      "cell_type": "code",
      "metadata": {
        "id": "a9IAbe8_f5MT"
      },
      "source": [
        "def cos_similarity_t2(x,d):\n",
        "  recommended = []  \n",
        "  for i in d:\n",
        "    a = cosine_similarity([x],[i])\n",
        "    recommended.append(a)\n",
        "  rec_score=max(recommended)\n",
        "  rec_index = recommended.index(rec_score)\n",
        "  rec_cosT2.append(rec_score)\n",
        "  rec_idx = cos_rec5.index[rec_index]\n",
        "  cost2_name.append(rec_idx)\n",
        "  rec_len = len(recommended)\n",
        "  print('len train data:',rec_len,'; index:',rec_idx,'; cos sim:',rec_score)\n",
        "\n",
        "def euclid_similarity_t2(x,d):\n",
        "  recommended = []  \n",
        "  for i in d:\n",
        "    a = distance.euclidean([x],[i])\n",
        "    recommended.append(a)\n",
        "  rec_score=min(recommended)\n",
        "  rec_index = recommended.index(rec_score)\n",
        "  rec_eucT2.append(rec_score)\n",
        "  rec_idx = euc_rec5.index[rec_index]\n",
        "  euct2_name.append(rec_idx)\n",
        "  rec_len = len(recommended)\n",
        "  print('len train data:',rec_len,'; index:',rec_idx,'; euclid sim:',rec_score)"
      ],
      "execution_count": null,
      "outputs": []
    },
    {
      "cell_type": "code",
      "metadata": {
        "id": "CYriMM1ck4Gx",
        "colab": {
          "base_uri": "https://localhost:8080/"
        },
        "outputId": "3fb9d5ae-525f-42d6-f539-aea72acc9a41"
      },
      "source": [
        "#compare recomendations to test subjects\n",
        "cost2_name = []\n",
        "rec_cosT2 = []\n",
        "for i in test_data2:\n",
        "  a = cos_similarity_t2(i,cos_rec4)"
      ],
      "execution_count": null,
      "outputs": [
        {
          "output_type": "stream",
          "name": "stdout",
          "text": [
            "len train data: 49 ; index: Heavy, California ; cos sim: [[0.99996843]]\n",
            "len train data: 49 ; index: English Breakfast ; cos sim: [[0.99995954]]\n",
            "len train data: 49 ; index: Say It's Gonna Rain ; cos sim: [[0.99971094]]\n",
            "len train data: 49 ; index: Into the Sea ; cos sim: [[0.99997698]]\n",
            "len train data: 49 ; index: My Death ; cos sim: [[0.99850764]]\n",
            "len train data: 49 ; index: Ignition (Remix) ; cos sim: [[0.99995809]]\n",
            "len train data: 49 ; index: DÃ©jame Volar ; cos sim: [[0.99926541]]\n",
            "len train data: 49 ; index: English Breakfast ; cos sim: [[0.9999457]]\n",
            "len train data: 49 ; index: BenÃ© ; cos sim: [[0.9999203]]\n",
            "len train data: 49 ; index: Toumast Tincha ; cos sim: [[0.99981901]]\n",
            "len train data: 49 ; index: Unterwegs ; cos sim: [[0.99948955]]\n",
            "len train data: 49 ; index: He Said She Said ; cos sim: [[0.99999797]]\n",
            "len train data: 49 ; index: Stairway To Heaven ; cos sim: [[0.99956499]]\n",
            "len train data: 49 ; index: It's Strange (feat. K.Flay) ; cos sim: [[0.99949015]]\n",
            "len train data: 49 ; index: If I Lose Myself - Alesso vs OneRepublic ; cos sim: [[0.99992188]]\n",
            "len train data: 49 ; index: Heaven ; cos sim: [[0.99958987]]\n",
            "len train data: 49 ; index: Say It's Gonna Rain ; cos sim: [[0.99880826]]\n"
          ]
        }
      ]
    },
    {
      "cell_type": "code",
      "metadata": {
        "colab": {
          "base_uri": "https://localhost:8080/"
        },
        "id": "3bf8DG6pn7Q2",
        "outputId": "f3529530-70d6-4439-ca0a-7553651ec5a9"
      },
      "source": [
        "cost2_name"
      ],
      "execution_count": null,
      "outputs": [
        {
          "output_type": "execute_result",
          "data": {
            "text/plain": [
              "['Heavy, California',\n",
              " 'English Breakfast',\n",
              " \"Say It's Gonna Rain\",\n",
              " 'Into the Sea',\n",
              " 'My Death',\n",
              " 'Ignition (Remix)',\n",
              " 'DÃ©jame Volar',\n",
              " 'English Breakfast',\n",
              " 'BenÃ©',\n",
              " 'Toumast Tincha',\n",
              " 'Unterwegs',\n",
              " 'He Said She Said',\n",
              " 'Stairway To Heaven',\n",
              " \"It's Strange (feat. K.Flay)\",\n",
              " 'If I Lose Myself - Alesso vs OneRepublic',\n",
              " 'Heaven',\n",
              " \"Say It's Gonna Rain\"]"
            ]
          },
          "metadata": {},
          "execution_count": 72
        }
      ]
    },
    {
      "cell_type": "code",
      "metadata": {
        "id": "ZAFU1-Mp2jsy"
      },
      "source": [
        "rec_coseT2=[]\n",
        "for i in rec_cosT2:\n",
        "  rec_coseT2.append(i[0][0])"
      ],
      "execution_count": null,
      "outputs": []
    },
    {
      "cell_type": "code",
      "metadata": {
        "id": "LGue-_WhuEqo",
        "colab": {
          "base_uri": "https://localhost:8080/"
        },
        "outputId": "bf2c03bf-1582-41ac-b992-b0daa91faa35"
      },
      "source": [
        "euct2_name = []\n",
        "rec_eucT2 = []\n",
        "for i in test_data2:\n",
        "  a = euclid_similarity_t2(i,euc_rec4)"
      ],
      "execution_count": null,
      "outputs": [
        {
          "output_type": "stream",
          "name": "stdout",
          "text": [
            "len train data: 49 ; index: Girlfriend in a Coma - 2011 Remaster ; euclid sim: 3.507878880463233\n",
            "len train data: 49 ; index: Just A Lover - Pomo Remix ; euclid sim: 4.149998242168298\n",
            "len train data: 49 ; index: Into You (feat. Tamia) - Radio Edit ; euclid sim: 4.309590393529296\n",
            "len train data: 49 ; index: Just A Lover - Pomo Remix ; euclid sim: 1.8821733102985008\n",
            "len train data: 49 ; index: Come Back To Me ; euclid sim: 7.887833898479356\n",
            "len train data: 49 ; index: With You - Frank Walker Remix ; euclid sim: 2.5150058875477885\n",
            "len train data: 49 ; index: Just A Lover - Pomo Remix ; euclid sim: 6.13216307676174\n",
            "len train data: 49 ; index: Just A Lover - Pomo Remix ; euclid sim: 2.7284642280227898\n",
            "len train data: 49 ; index: If I Had No Loot ; euclid sim: 4.666162728624021\n",
            "len train data: 49 ; index: Dear Mama ; euclid sim: 2.446517067179375\n",
            "len train data: 49 ; index: Cemetry Gates - 2011 Remaster ; euclid sim: 4.209385515357318\n",
            "len train data: 49 ; index: QuÃ©date ; euclid sim: 2.98450054280444\n",
            "len train data: 49 ; index: 1950 ; euclid sim: 3.8558656174716517\n",
            "len train data: 49 ; index: Heaven - Radio Edit ; euclid sim: 6.2324976678696\n",
            "len train data: 49 ; index: I Wanna Sex You Up - Single Mix ; euclid sim: 5.6025814725088985\n",
            "len train data: 49 ; index: Come Back To Me ; euclid sim: 6.102576083098023\n",
            "len train data: 49 ; index: Hark ; euclid sim: 10.861035030327455\n"
          ]
        }
      ]
    },
    {
      "cell_type": "code",
      "metadata": {
        "id": "GPEUMkQaL2i-"
      },
      "source": [
        "def cos_similarity_t3(x,d):\n",
        "  recommended = []  \n",
        "  for i in d:\n",
        "    a = cosine_similarity([x],[i])\n",
        "    recommended.append(a)\n",
        "  rec_score=max(recommended)\n",
        "  rec_index = recommended.index(rec_score)\n",
        "  rec_cosT3.append(rec_score)\n",
        "  rec_idx = cos_rec5.index[rec_index]\n",
        "  cost3_name.append(rec_idx) \n",
        "  rec_len = len(recommended)\n",
        "  print('len train data:',rec_len,'; index:',rec_idx,'; cos sim:',rec_score)\n",
        "\n",
        "def euclid_similarity_t3(x,d):\n",
        "  recommended = []  \n",
        "  for i in d:\n",
        "    a = distance.euclidean([x],[i])\n",
        "    recommended.append(a)\n",
        "  rec_score=min(recommended)\n",
        "  rec_index = recommended.index(rec_score)\n",
        "  rec_eucT3.append(rec_score)\n",
        "  rec_idx = euc_rec5.index[rec_index]\n",
        "  euct3_name.append(rec_idx)\n",
        "  rec_len = len(recommended)\n",
        "  print('len train data:',rec_len,'; index:',rec_idx,'; euclid sim:',rec_score)"
      ],
      "execution_count": null,
      "outputs": []
    },
    {
      "cell_type": "code",
      "metadata": {
        "id": "h7yHchNGL4IY",
        "colab": {
          "base_uri": "https://localhost:8080/"
        },
        "outputId": "41a66ffe-7d0e-473e-927a-110961d18a72"
      },
      "source": [
        "#compare recomendations to test subjects\n",
        "cost3_name = []\n",
        "rec_cosT3 = []\n",
        "for i in test_data3:\n",
        "  a = cos_similarity_t3(i,cos_rec4)"
      ],
      "execution_count": null,
      "outputs": [
        {
          "output_type": "stream",
          "name": "stdout",
          "text": [
            "len train data: 49 ; index: Heaven ; cos sim: [[0.99993729]]\n",
            "len train data: 49 ; index: Hideaway ; cos sim: [[0.99985482]]\n",
            "len train data: 49 ; index: Uhh Ahh ; cos sim: [[0.99997222]]\n",
            "len train data: 49 ; index: Flames (feat. Ruel) ; cos sim: [[0.99999493]]\n",
            "len train data: 49 ; index: Ignition (Remix) ; cos sim: [[0.99993942]]\n",
            "len train data: 49 ; index: Ignition (Remix) ; cos sim: [[0.99994027]]\n",
            "len train data: 49 ; index: Heaven ; cos sim: [[0.99995765]]\n",
            "len train data: 49 ; index: We Built This City ; cos sim: [[0.99997689]]\n",
            "len train data: 49 ; index: Heaven ; cos sim: [[0.99994058]]\n",
            "len train data: 49 ; index: Say It's Gonna Rain ; cos sim: [[0.99972139]]\n",
            "len train data: 49 ; index: BenÃ© ; cos sim: [[0.99943943]]\n"
          ]
        }
      ]
    },
    {
      "cell_type": "code",
      "metadata": {
        "id": "DX7PNN4N2q4C"
      },
      "source": [
        "rec_coseT3=[]\n",
        "for i in rec_cosT3:\n",
        "  rec_coseT3.append(i[0][0])"
      ],
      "execution_count": null,
      "outputs": []
    },
    {
      "cell_type": "code",
      "metadata": {
        "id": "S22wN0m6L7J5",
        "colab": {
          "base_uri": "https://localhost:8080/"
        },
        "outputId": "73c115f2-5c58-46a8-d202-5afadc1ac278"
      },
      "source": [
        "euct3_name = []\n",
        "rec_eucT3 = []\n",
        "for i in test_data3:\n",
        "  a = euclid_similarity_t3(i,euc_rec4)"
      ],
      "execution_count": null,
      "outputs": [
        {
          "output_type": "stream",
          "name": "stdout",
          "text": [
            "len train data: 49 ; index: Bandit ; euclid sim: 2.1675759271591852\n",
            "len train data: 49 ; index: Reach (NBC Olympic Version) ; euclid sim: 8.510942211059822\n",
            "len train data: 49 ; index: Heaven - Radio Edit ; euclid sim: 0.3781151676407605\n",
            "len train data: 49 ; index: My Nigga ; euclid sim: 3.1556383122951566\n",
            "len train data: 49 ; index: With You - Frank Walker Remix ; euclid sim: 2.169603274794726\n",
            "len train data: 49 ; index: Bienvenidos - Live ; euclid sim: 6.363394012191926\n",
            "len train data: 49 ; index: i hate u, i love u (feat. olivia o'brien) - Deepend Remix ; euclid sim: 3.0122939547793144\n",
            "len train data: 49 ; index: One More Night ; euclid sim: 3.0581301836252828\n",
            "len train data: 49 ; index: Brothers ; euclid sim: 3.184717799115009\n",
            "len train data: 49 ; index: When I Was Your Man ; euclid sim: 3.166669422279505\n",
            "len train data: 49 ; index: If I Had No Loot ; euclid sim: 5.287012110824034\n"
          ]
        }
      ]
    },
    {
      "cell_type": "code",
      "metadata": {
        "id": "AUCxAfmN7W-D"
      },
      "source": [
        "rec_coseT1.extend(rec_coseT2)"
      ],
      "execution_count": null,
      "outputs": []
    },
    {
      "cell_type": "code",
      "metadata": {
        "id": "pE6LJqcF_RGi"
      },
      "source": [
        "rec_coseT1.extend(rec_coseT3)"
      ],
      "execution_count": null,
      "outputs": []
    },
    {
      "cell_type": "code",
      "metadata": {
        "colab": {
          "base_uri": "https://localhost:8080/"
        },
        "id": "M4-bXg0QBSIL",
        "outputId": "39a0f195-f564-4a86-85e3-9c1e90dcfdf8"
      },
      "source": [
        "print(rec_coseT1)"
      ],
      "execution_count": null,
      "outputs": [
        {
          "output_type": "stream",
          "name": "stdout",
          "text": [
            "[0.9999512040609467, 0.9993807982076168, 0.9999335195252643, 0.9999964485888434, 0.9999583379614783, 0.9999531440920146, 0.9999946864045974, 0.9999570169052902, 0.9999863683546404, 0.999976112835899, 0.9999684348117172, 0.9999595393470766, 0.9997109383660924, 0.9999769774024841, 0.9985076376311334, 0.9999580947521992, 0.999265408425437, 0.9999457006082145, 0.9999203023784414, 0.9998190051782508, 0.9994895481250785, 0.9999979674338006, 0.9995649895049341, 0.999490149389515, 0.9999218768722289, 0.9995898698866995, 0.9988082558018733, 0.9999372911226082, 0.9998548225996968, 0.999972222455516, 0.9999949287543248, 0.999939421104531, 0.9999402691958474, 0.999957649059515, 0.9999768910550941, 0.9999405835713707, 0.9997213904357153, 0.9994394257439952]\n"
          ]
        }
      ]
    },
    {
      "cell_type": "code",
      "metadata": {
        "id": "mkzOzz8eBcui"
      },
      "source": [
        "rec_eucT1.extend(rec_eucT2)\n",
        "rec_eucT1.extend(rec_eucT3)"
      ],
      "execution_count": null,
      "outputs": []
    },
    {
      "cell_type": "code",
      "metadata": {
        "colab": {
          "base_uri": "https://localhost:8080/"
        },
        "id": "Jj8RrhgNEUAS",
        "outputId": "4a759bf8-0c2a-4cf8-ae37-6201de4aeeda"
      },
      "source": [
        "print(rec_eucT1)"
      ],
      "execution_count": null,
      "outputs": [
        {
          "output_type": "stream",
          "name": "stdout",
          "text": [
            "[3.573735850619064, 4.229730785759304, 3.7544874457107964, 1.2520134264455758, 8.449786580145085, 4.829700208087455, 4.225039591873665, 6.419851731153899, 3.623927923455442, 3.184861180648238, 3.507878880463233, 4.149998242168298, 4.309590393529296, 1.8821733102985008, 7.887833898479356, 2.5150058875477885, 6.13216307676174, 2.7284642280227898, 4.666162728624021, 2.446517067179375, 4.209385515357318, 2.98450054280444, 3.8558656174716517, 6.2324976678696, 5.6025814725088985, 6.102576083098023, 10.861035030327455, 2.1675759271591852, 8.510942211059822, 0.3781151676407605, 3.1556383122951566, 2.169603274794726, 6.363394012191926, 3.0122939547793144, 3.0581301836252828, 3.184717799115009, 3.166669422279505, 5.287012110824034]\n"
          ]
        }
      ]
    },
    {
      "cell_type": "code",
      "metadata": {
        "id": "9vKJRjK6sm4Q"
      },
      "source": [
        "import itertools\n",
        "euclidean_stats = list(itertools.chain(rec_eucT1,rec_eucT2,rec_eucT3))\n",
        "cosine_stats = list(itertools.chain(rec_coseT1,rec_coseT2,rec_coseT3))"
      ],
      "execution_count": null,
      "outputs": []
    },
    {
      "cell_type": "code",
      "metadata": {
        "colab": {
          "base_uri": "https://localhost:8080/"
        },
        "id": "Hga6EkV2uQss",
        "outputId": "6eb7224d-9580-4cb0-d3bc-8e3ea3416050"
      },
      "source": [
        "euclidean_stats"
      ],
      "execution_count": null,
      "outputs": [
        {
          "output_type": "execute_result",
          "data": {
            "text/plain": [
              "[3.573735850619064,\n",
              " 4.229730785759304,\n",
              " 3.7544874457107964,\n",
              " 1.2520134264455758,\n",
              " 8.449786580145085,\n",
              " 4.829700208087455,\n",
              " 4.225039591873665,\n",
              " 6.419851731153899,\n",
              " 3.623927923455442,\n",
              " 3.184861180648238,\n",
              " 3.507878880463233,\n",
              " 4.149998242168298,\n",
              " 4.309590393529296,\n",
              " 1.8821733102985008,\n",
              " 7.887833898479356,\n",
              " 2.5150058875477885,\n",
              " 6.13216307676174,\n",
              " 2.7284642280227898,\n",
              " 4.666162728624021,\n",
              " 2.446517067179375,\n",
              " 4.209385515357318,\n",
              " 2.98450054280444,\n",
              " 3.8558656174716517,\n",
              " 6.2324976678696,\n",
              " 5.6025814725088985,\n",
              " 6.102576083098023,\n",
              " 10.861035030327455,\n",
              " 2.1675759271591852,\n",
              " 8.510942211059822,\n",
              " 0.3781151676407605,\n",
              " 3.1556383122951566,\n",
              " 2.169603274794726,\n",
              " 6.363394012191926,\n",
              " 3.0122939547793144,\n",
              " 3.0581301836252828,\n",
              " 3.184717799115009,\n",
              " 3.166669422279505,\n",
              " 5.287012110824034,\n",
              " 3.507878880463233,\n",
              " 4.149998242168298,\n",
              " 4.309590393529296,\n",
              " 1.8821733102985008,\n",
              " 7.887833898479356,\n",
              " 2.5150058875477885,\n",
              " 6.13216307676174,\n",
              " 2.7284642280227898,\n",
              " 4.666162728624021,\n",
              " 2.446517067179375,\n",
              " 4.209385515357318,\n",
              " 2.98450054280444,\n",
              " 3.8558656174716517,\n",
              " 6.2324976678696,\n",
              " 5.6025814725088985,\n",
              " 6.102576083098023,\n",
              " 10.861035030327455,\n",
              " 2.1675759271591852,\n",
              " 8.510942211059822,\n",
              " 0.3781151676407605,\n",
              " 3.1556383122951566,\n",
              " 2.169603274794726,\n",
              " 6.363394012191926,\n",
              " 3.0122939547793144,\n",
              " 3.0581301836252828,\n",
              " 3.184717799115009,\n",
              " 3.166669422279505,\n",
              " 5.287012110824034]"
            ]
          },
          "metadata": {},
          "execution_count": 121
        }
      ]
    },
    {
      "cell_type": "code",
      "metadata": {
        "colab": {
          "base_uri": "https://localhost:8080/"
        },
        "id": "81wq41HosQF2",
        "outputId": "6427a90d-18be-4e8a-dd8a-bea297311eb9"
      },
      "source": [
        "cosine_stats"
      ],
      "execution_count": null,
      "outputs": [
        {
          "output_type": "execute_result",
          "data": {
            "text/plain": [
              "[0.9999512040609467,\n",
              " 0.9993807982076168,\n",
              " 0.9999335195252643,\n",
              " 0.9999964485888434,\n",
              " 0.9999583379614783,\n",
              " 0.9999531440920146,\n",
              " 0.9999946864045974,\n",
              " 0.9999570169052902,\n",
              " 0.9999863683546404,\n",
              " 0.999976112835899,\n",
              " 0.9999684348117172,\n",
              " 0.9999595393470766,\n",
              " 0.9997109383660924,\n",
              " 0.9999769774024841,\n",
              " 0.9985076376311334,\n",
              " 0.9999580947521992,\n",
              " 0.999265408425437,\n",
              " 0.9999457006082145,\n",
              " 0.9999203023784414,\n",
              " 0.9998190051782508,\n",
              " 0.9994895481250785,\n",
              " 0.9999979674338006,\n",
              " 0.9995649895049341,\n",
              " 0.999490149389515,\n",
              " 0.9999218768722289,\n",
              " 0.9995898698866995,\n",
              " 0.9988082558018733,\n",
              " 0.9999372911226082,\n",
              " 0.9998548225996968,\n",
              " 0.999972222455516,\n",
              " 0.9999949287543248,\n",
              " 0.999939421104531,\n",
              " 0.9999402691958474,\n",
              " 0.999957649059515,\n",
              " 0.9999768910550941,\n",
              " 0.9999405835713707,\n",
              " 0.9997213904357153,\n",
              " 0.9994394257439952,\n",
              " 0.9999684348117172,\n",
              " 0.9999595393470766,\n",
              " 0.9997109383660924,\n",
              " 0.9999769774024841,\n",
              " 0.9985076376311334,\n",
              " 0.9999580947521992,\n",
              " 0.999265408425437,\n",
              " 0.9999457006082145,\n",
              " 0.9999203023784414,\n",
              " 0.9998190051782508,\n",
              " 0.9994895481250785,\n",
              " 0.9999979674338006,\n",
              " 0.9995649895049341,\n",
              " 0.999490149389515,\n",
              " 0.9999218768722289,\n",
              " 0.9995898698866995,\n",
              " 0.9988082558018733,\n",
              " 0.9999372911226082,\n",
              " 0.9998548225996968,\n",
              " 0.999972222455516,\n",
              " 0.9999949287543248,\n",
              " 0.999939421104531,\n",
              " 0.9999402691958474,\n",
              " 0.999957649059515,\n",
              " 0.9999768910550941,\n",
              " 0.9999405835713707,\n",
              " 0.9997213904357153,\n",
              " 0.9994394257439952]"
            ]
          },
          "metadata": {},
          "execution_count": 122
        }
      ]
    },
    {
      "cell_type": "code",
      "metadata": {
        "id": "bbnJYTS3Csmg"
      },
      "source": [
        "EMrec_eucT1 = [2.136843399152123, 1.0653933029637461, 1.9697226327582233, 3.121205299239379, 1.2238199254792346, 1.9120460234000534, 0.0, 2.3558988348399117, 0.0, 1.375095014898964, 2.549076193074652, 1.4183007614747978, 1.6935145703536112, 1.572704807012433, 0.8140949637480789, 0.8951894539146443, 2.036887822144362, 1.5665554454279618, 1.1827994800472312, 1.3525843559645372, 2.208623041263498, 0.35951267015224825, 3.2997775455324283, 1.7003965537485755, 6.59356102439342, 3.0501334413431818, 1.318663406635655, 1.063355302803335, 0.3620314903430365, 1.0149487918116757, 2.0333976200008204, 1.5653104356644476, 5.435379379583356, 2.051496290515783, 3.300246380196482, 3.3088163230980365, 2.2690441577897995, 5.200865024983832]"
      ],
      "execution_count": null,
      "outputs": []
    },
    {
      "cell_type": "code",
      "metadata": {
        "id": "4yMF3Ch6VCTB"
      },
      "source": [
        "NMrec_coseT1 = [0.9999932487667178, 0.9999967215831126, 0.9999933745520302, 0.9999795860425241, 0.9999879469873235, 0.9999889343896217, 0.9999984166143743, 1.0000000000000002, 0.9999971002493233, 0.9999848761899961, 0.9999809979599981, 0.9999947548279028, 0.9999948619636779, 0.9999975161257679, 0.999981209047114, 0.9999936176253443, 0.9999897789176083, 0.9999858330464003, 0.9999947701079364, 0.9999712959469053, 0.9999821019273762, 0.9999946407075987, 0.999995156413043, 0.9999866710780829, 0.9999988606098704, 0.9999643377538886, 0.9999794144009473, 0.9999891105620674, 0.9999990417444762, 0.9999930197849295, 0.9999959817335284, 0.999994307563816, 0.999986825204495, 0.9999968618587575, 0.9999844313947372, 0.9999849360413169, 0.9999971323342577, 0.9999698646143627]"
      ],
      "execution_count": null,
      "outputs": []
    },
    {
      "cell_type": "code",
      "metadata": {
        "colab": {
          "base_uri": "https://localhost:8080/"
        },
        "id": "v_75wGujFum5",
        "outputId": "6c3fd2e3-3cfc-4564-87e9-c772abd74c4c"
      },
      "source": [
        "# leven test for equal variance p-value lower than 0.01 means not equal\n",
        "from scipy.stats import levene\n",
        "stat, p = levene(rec_eucT1, EMrec_eucT1)\n",
        "print('pvalue < 0.05 means not equal variance, pvalue:' ,p)"
      ],
      "execution_count": null,
      "outputs": [
        {
          "output_type": "stream",
          "name": "stdout",
          "text": [
            "pvalue < 0.05 means not equal variance, pvalue: 0.04151014268051305\n"
          ]
        }
      ]
    },
    {
      "cell_type": "code",
      "metadata": {
        "colab": {
          "base_uri": "https://localhost:8080/"
        },
        "id": "0OYDjWsyGn-Z",
        "outputId": "26050e21-0a43-4000-ce1f-56c2a845be09"
      },
      "source": [
        "from scipy import stats\n",
        "#stats.ttest_ind(rec_eucT1, EMrec_eucT1,equal_var = False)\n",
        "stats.ttest_rel(rec_eucT1, EMrec_eucT1)"
      ],
      "execution_count": null,
      "outputs": [
        {
          "output_type": "execute_result",
          "data": {
            "text/plain": [
              "Ttest_relResult(statistic=5.672069411103882, pvalue=1.7461875654621192e-06)"
            ]
          },
          "metadata": {},
          "execution_count": 87
        }
      ]
    },
    {
      "cell_type": "code",
      "metadata": {
        "id": "48QkNd4Kpg1S",
        "colab": {
          "base_uri": "https://localhost:8080/"
        },
        "outputId": "d1e5ea6d-d79c-42b2-9d30-73b3faa230da"
      },
      "source": [
        "# leven test for equal variance p-value lower than 0.01 means not equal\n",
        "from scipy.stats import levene\n",
        "stat, p = levene(rec_coseT1, NMrec_coseT1)\n",
        "print('pvalue > 0.01 means equal variance, pvalue:' ,p)"
      ],
      "execution_count": null,
      "outputs": [
        {
          "output_type": "stream",
          "name": "stdout",
          "text": [
            "pvalue > 0.01 means equal variance, pvalue: 0.000783110822659048\n"
          ]
        }
      ]
    },
    {
      "cell_type": "code",
      "metadata": {
        "colab": {
          "base_uri": "https://localhost:8080/"
        },
        "id": "9kI4NF_uplpD",
        "outputId": "8c8ef4e0-1c54-41da-ecce-147142334c50"
      },
      "source": [
        "import scipy.stats as stats\n",
        "#stats.ttest_ind(rec_coseT1, b=NMrec_coseT1, equal_var=False)\n",
        "stats.ttest_rel(rec_coseT1, b=NMrec_coseT1)"
      ],
      "execution_count": null,
      "outputs": [
        {
          "output_type": "execute_result",
          "data": {
            "text/plain": [
              "Ttest_relResult(statistic=-3.859051349025752, pvalue=0.000440486697235496)"
            ]
          },
          "metadata": {},
          "execution_count": 89
        }
      ]
    },
    {
      "cell_type": "code",
      "metadata": {
        "colab": {
          "base_uri": "https://localhost:8080/"
        },
        "id": "zs5o5fNmdV63",
        "outputId": "2f821ab6-ff45-4d8c-fa03-873c43e31970"
      },
      "source": [
        "print(len(rec_eucT1))\n",
        "print(len(rec_coseT1))"
      ],
      "execution_count": null,
      "outputs": [
        {
          "output_type": "stream",
          "name": "stdout",
          "text": [
            "38\n",
            "38\n"
          ]
        }
      ]
    },
    {
      "cell_type": "markdown",
      "metadata": {
        "id": "RwwqpeZCKM7x"
      },
      "source": [
        "The two hypotheses for this particular two sample t-test are as follows:\n",
        "\n",
        "H0: µ1 = µ2 (the two population means are equal)\n",
        "\n",
        "HA: µ1 ≠µ2 (the two population means are not equal)\n",
        "\n",
        "Because the p-value of our test (0.0331) is less than alpha = 0.05, we reject the null hypothesis of the test. We do not have sufficient evidence to say that the mean height of plants between the two populations is different."
      ]
    },
    {
      "cell_type": "code",
      "metadata": {
        "colab": {
          "base_uri": "https://localhost:8080/",
          "height": 359
        },
        "id": "i2mqUUgsTwRd",
        "outputId": "f7aa4a8b-4da1-4e0a-c1ad-c8d6d0646508"
      },
      "source": [
        "testing34 = testdf1.iloc[:,[0,2]]\n",
        "testing34"
      ],
      "execution_count": null,
      "outputs": [
        {
          "output_type": "execute_result",
          "data": {
            "text/html": [
              "<div>\n",
              "<style scoped>\n",
              "    .dataframe tbody tr th:only-of-type {\n",
              "        vertical-align: middle;\n",
              "    }\n",
              "\n",
              "    .dataframe tbody tr th {\n",
              "        vertical-align: top;\n",
              "    }\n",
              "\n",
              "    .dataframe thead th {\n",
              "        text-align: right;\n",
              "    }\n",
              "</style>\n",
              "<table border=\"1\" class=\"dataframe\">\n",
              "  <thead>\n",
              "    <tr style=\"text-align: right;\">\n",
              "      <th></th>\n",
              "      <th>track_name</th>\n",
              "      <th>track_artist</th>\n",
              "    </tr>\n",
              "  </thead>\n",
              "  <tbody>\n",
              "    <tr>\n",
              "      <th>136</th>\n",
              "      <td>I Dare You</td>\n",
              "      <td>The xx</td>\n",
              "    </tr>\n",
              "    <tr>\n",
              "      <th>186</th>\n",
              "      <td>Howling</td>\n",
              "      <td>RY X</td>\n",
              "    </tr>\n",
              "    <tr>\n",
              "      <th>286</th>\n",
              "      <td>Lower</td>\n",
              "      <td>TENDER</td>\n",
              "    </tr>\n",
              "    <tr>\n",
              "      <th>393</th>\n",
              "      <td>Prettiest Virgin (Radio Edit)</td>\n",
              "      <td>Agar Agar</td>\n",
              "    </tr>\n",
              "    <tr>\n",
              "      <th>429</th>\n",
              "      <td>Love Is a Bitch</td>\n",
              "      <td>Two Feet</td>\n",
              "    </tr>\n",
              "    <tr>\n",
              "      <th>451</th>\n",
              "      <td>Song For You</td>\n",
              "      <td>Rhye</td>\n",
              "    </tr>\n",
              "    <tr>\n",
              "      <th>473</th>\n",
              "      <td>Afternoon</td>\n",
              "      <td>TENDER</td>\n",
              "    </tr>\n",
              "    <tr>\n",
              "      <th>559</th>\n",
              "      <td>Jungle</td>\n",
              "      <td>Tash Sultana</td>\n",
              "    </tr>\n",
              "    <tr>\n",
              "      <th>1012</th>\n",
              "      <td>Tainted</td>\n",
              "      <td>TENDER</td>\n",
              "    </tr>\n",
              "    <tr>\n",
              "      <th>1089</th>\n",
              "      <td>Un autre que moi</td>\n",
              "      <td>Fishbach</td>\n",
              "    </tr>\n",
              "  </tbody>\n",
              "</table>\n",
              "</div>"
            ],
            "text/plain": [
              "                         track_name  track_artist\n",
              "136                      I Dare You        The xx\n",
              "186                         Howling          RY X\n",
              "286                           Lower        TENDER\n",
              "393   Prettiest Virgin (Radio Edit)     Agar Agar\n",
              "429                 Love Is a Bitch      Two Feet\n",
              "451                    Song For You          Rhye\n",
              "473                       Afternoon        TENDER\n",
              "559                          Jungle  Tash Sultana\n",
              "1012                        Tainted        TENDER\n",
              "1089               Un autre que moi      Fishbach"
            ]
          },
          "metadata": {},
          "execution_count": 91
        }
      ]
    },
    {
      "cell_type": "code",
      "metadata": {
        "colab": {
          "base_uri": "https://localhost:8080/",
          "height": 576
        },
        "id": "NilEKaxPT2r2",
        "outputId": "d770f609-01e8-4506-ce32-4d303b3e1f2b"
      },
      "source": [
        "testing35 = testdf2.iloc[:,[0,2]]\n",
        "testing35"
      ],
      "execution_count": null,
      "outputs": [
        {
          "output_type": "execute_result",
          "data": {
            "text/html": [
              "<div>\n",
              "<style scoped>\n",
              "    .dataframe tbody tr th:only-of-type {\n",
              "        vertical-align: middle;\n",
              "    }\n",
              "\n",
              "    .dataframe tbody tr th {\n",
              "        vertical-align: top;\n",
              "    }\n",
              "\n",
              "    .dataframe thead th {\n",
              "        text-align: right;\n",
              "    }\n",
              "</style>\n",
              "<table border=\"1\" class=\"dataframe\">\n",
              "  <thead>\n",
              "    <tr style=\"text-align: right;\">\n",
              "      <th></th>\n",
              "      <th>track_name</th>\n",
              "      <th>track_artist</th>\n",
              "    </tr>\n",
              "  </thead>\n",
              "  <tbody>\n",
              "    <tr>\n",
              "      <th>7</th>\n",
              "      <td>Tender Lover</td>\n",
              "      <td>Babyface</td>\n",
              "    </tr>\n",
              "    <tr>\n",
              "      <th>162</th>\n",
              "      <td>I'm Dreamin'</td>\n",
              "      <td>Christopher Williams</td>\n",
              "    </tr>\n",
              "    <tr>\n",
              "      <th>194</th>\n",
              "      <td>I Adore Mi Amor</td>\n",
              "      <td>Color Me Badd</td>\n",
              "    </tr>\n",
              "    <tr>\n",
              "      <th>207</th>\n",
              "      <td>Miss You Much</td>\n",
              "      <td>Janet Jackson</td>\n",
              "    </tr>\n",
              "    <tr>\n",
              "      <th>410</th>\n",
              "      <td>When Can I See You</td>\n",
              "      <td>Babyface</td>\n",
              "    </tr>\n",
              "    <tr>\n",
              "      <th>449</th>\n",
              "      <td>Rump Shaker</td>\n",
              "      <td>Wreckx-N-Effect</td>\n",
              "    </tr>\n",
              "    <tr>\n",
              "      <th>563</th>\n",
              "      <td>Lyte as a Rock</td>\n",
              "      <td>MC Lyte</td>\n",
              "    </tr>\n",
              "    <tr>\n",
              "      <th>622</th>\n",
              "      <td>Poison</td>\n",
              "      <td>Bell Biv DeVoe</td>\n",
              "    </tr>\n",
              "    <tr>\n",
              "      <th>781</th>\n",
              "      <td>My Prerogative</td>\n",
              "      <td>Bobby Brown</td>\n",
              "    </tr>\n",
              "    <tr>\n",
              "      <th>803</th>\n",
              "      <td>Cha Cha Cha</td>\n",
              "      <td>MC Lyte</td>\n",
              "    </tr>\n",
              "    <tr>\n",
              "      <th>859</th>\n",
              "      <td>Ain't 2 Proud 2 Beg - U.S. 7\" Edit</td>\n",
              "      <td>TLC</td>\n",
              "    </tr>\n",
              "    <tr>\n",
              "      <th>973</th>\n",
              "      <td>Just Got Paid</td>\n",
              "      <td>Johnny Kemp</td>\n",
              "    </tr>\n",
              "    <tr>\n",
              "      <th>1120</th>\n",
              "      <td>End Of The Road</td>\n",
              "      <td>Boyz II Men</td>\n",
              "    </tr>\n",
              "    <tr>\n",
              "      <th>1212</th>\n",
              "      <td>Nasty</td>\n",
              "      <td>Janet Jackson</td>\n",
              "    </tr>\n",
              "    <tr>\n",
              "      <th>1301</th>\n",
              "      <td>She's Playing Hard To Get</td>\n",
              "      <td>Hi-Five</td>\n",
              "    </tr>\n",
              "    <tr>\n",
              "      <th>1499</th>\n",
              "      <td>Rock Wit'cha</td>\n",
              "      <td>Bobby Brown</td>\n",
              "    </tr>\n",
              "    <tr>\n",
              "      <th>1641</th>\n",
              "      <td>It's So Hard To Say Goodbye To Yesterday - Ori...</td>\n",
              "      <td>Boyz II Men</td>\n",
              "    </tr>\n",
              "  </tbody>\n",
              "</table>\n",
              "</div>"
            ],
            "text/plain": [
              "                                             track_name          track_artist\n",
              "7                                          Tender Lover              Babyface\n",
              "162                                        I'm Dreamin'  Christopher Williams\n",
              "194                                     I Adore Mi Amor         Color Me Badd\n",
              "207                                       Miss You Much         Janet Jackson\n",
              "410                                  When Can I See You              Babyface\n",
              "449                                         Rump Shaker       Wreckx-N-Effect\n",
              "563                                      Lyte as a Rock               MC Lyte\n",
              "622                                              Poison        Bell Biv DeVoe\n",
              "781                                      My Prerogative           Bobby Brown\n",
              "803                                         Cha Cha Cha               MC Lyte\n",
              "859                  Ain't 2 Proud 2 Beg - U.S. 7\" Edit                   TLC\n",
              "973                                       Just Got Paid           Johnny Kemp\n",
              "1120                                    End Of The Road           Boyz II Men\n",
              "1212                                              Nasty         Janet Jackson\n",
              "1301                          She's Playing Hard To Get               Hi-Five\n",
              "1499                                       Rock Wit'cha           Bobby Brown\n",
              "1641  It's So Hard To Say Goodbye To Yesterday - Ori...           Boyz II Men"
            ]
          },
          "metadata": {},
          "execution_count": 92
        }
      ]
    },
    {
      "cell_type": "code",
      "metadata": {
        "colab": {
          "base_uri": "https://localhost:8080/",
          "height": 390
        },
        "id": "tjzmvyCRT54D",
        "outputId": "23a416e7-24b5-4da4-a68b-3ada7f378610"
      },
      "source": [
        "testing36 = testdf3.iloc[:,[0,2]]\n",
        "testing36"
      ],
      "execution_count": null,
      "outputs": [
        {
          "output_type": "execute_result",
          "data": {
            "text/html": [
              "<div>\n",
              "<style scoped>\n",
              "    .dataframe tbody tr th:only-of-type {\n",
              "        vertical-align: middle;\n",
              "    }\n",
              "\n",
              "    .dataframe tbody tr th {\n",
              "        vertical-align: top;\n",
              "    }\n",
              "\n",
              "    .dataframe thead th {\n",
              "        text-align: right;\n",
              "    }\n",
              "</style>\n",
              "<table border=\"1\" class=\"dataframe\">\n",
              "  <thead>\n",
              "    <tr style=\"text-align: right;\">\n",
              "      <th></th>\n",
              "      <th>track_name</th>\n",
              "      <th>track_artist</th>\n",
              "    </tr>\n",
              "  </thead>\n",
              "  <tbody>\n",
              "    <tr>\n",
              "      <th>85</th>\n",
              "      <td>On Fire</td>\n",
              "      <td>Carmada</td>\n",
              "    </tr>\n",
              "    <tr>\n",
              "      <th>211</th>\n",
              "      <td>Hall &amp; Oates</td>\n",
              "      <td>Satchmode</td>\n",
              "    </tr>\n",
              "    <tr>\n",
              "      <th>309</th>\n",
              "      <td>Sway - Chainsmokers Remix</td>\n",
              "      <td>Anna of the North</td>\n",
              "    </tr>\n",
              "    <tr>\n",
              "      <th>463</th>\n",
              "      <td>Feel It All Around</td>\n",
              "      <td>Washed Out</td>\n",
              "    </tr>\n",
              "    <tr>\n",
              "      <th>474</th>\n",
              "      <td>Ghost - Lost Kings Remix</td>\n",
              "      <td>Halsey</td>\n",
              "    </tr>\n",
              "    <tr>\n",
              "      <th>500</th>\n",
              "      <td>Cool Blue</td>\n",
              "      <td>The Japanese House</td>\n",
              "    </tr>\n",
              "    <tr>\n",
              "      <th>538</th>\n",
              "      <td>Anywhere We Go</td>\n",
              "      <td>Kaptan</td>\n",
              "    </tr>\n",
              "    <tr>\n",
              "      <th>923</th>\n",
              "      <td>Indecision</td>\n",
              "      <td>Shura</td>\n",
              "    </tr>\n",
              "    <tr>\n",
              "      <th>929</th>\n",
              "      <td>Loudspeaker</td>\n",
              "      <td>MUNA</td>\n",
              "    </tr>\n",
              "    <tr>\n",
              "      <th>1279</th>\n",
              "      <td>Classic (feat. POWERS) - POWERS Sunset Version</td>\n",
              "      <td>The Knocks</td>\n",
              "    </tr>\n",
              "    <tr>\n",
              "      <th>1420</th>\n",
              "      <td>Cherry</td>\n",
              "      <td>Chromatics</td>\n",
              "    </tr>\n",
              "  </tbody>\n",
              "</table>\n",
              "</div>"
            ],
            "text/plain": [
              "                                          track_name        track_artist\n",
              "85                                           On Fire             Carmada\n",
              "211                                     Hall & Oates           Satchmode\n",
              "309                        Sway - Chainsmokers Remix   Anna of the North\n",
              "463                               Feel It All Around          Washed Out\n",
              "474                         Ghost - Lost Kings Remix              Halsey\n",
              "500                                        Cool Blue  The Japanese House\n",
              "538                                   Anywhere We Go              Kaptan\n",
              "923                                       Indecision               Shura\n",
              "929                                      Loudspeaker                MUNA\n",
              "1279  Classic (feat. POWERS) - POWERS Sunset Version          The Knocks\n",
              "1420                                          Cherry          Chromatics"
            ]
          },
          "metadata": {},
          "execution_count": 93
        }
      ]
    },
    {
      "cell_type": "code",
      "metadata": {
        "id": "JljL3oewUEIA"
      },
      "source": [
        "df1_rec =  df4[df4['track_name'].isin(euct1_name)]\n",
        "df2_rec =  df4[df4['track_name'].isin(euct2_name)]\n",
        "df3_rec =  df4[df4['track_name'].isin(euct3_name)]\n",
        "dfc1_rec =  df4[df4['track_name'].isin(cost1_name)]\n",
        "dfc2_rec =  df4[df4['track_name'].isin(cost2_name)]\n",
        "dfc3_rec =  df4[df4['track_name'].isin(cost3_name)]"
      ],
      "execution_count": null,
      "outputs": []
    },
    {
      "cell_type": "code",
      "metadata": {
        "colab": {
          "base_uri": "https://localhost:8080/",
          "height": 359
        },
        "id": "ccPgS_UbaW3B",
        "outputId": "0f093027-e440-455f-fa72-daf4b31baeb0"
      },
      "source": [
        "testing37 = df1_rec.iloc[:,[0,2]]\n",
        "testing37_dict = dict(zip(testing37.track_name, testing37.track_artist))\n",
        "eucdf1 = pd.DataFrame(euct1_name)\n",
        "eucdf1['artist'] = eucdf1[0].map(testing37_dict)\n",
        "eucdf1"
      ],
      "execution_count": null,
      "outputs": [
        {
          "output_type": "execute_result",
          "data": {
            "text/html": [
              "<div>\n",
              "<style scoped>\n",
              "    .dataframe tbody tr th:only-of-type {\n",
              "        vertical-align: middle;\n",
              "    }\n",
              "\n",
              "    .dataframe tbody tr th {\n",
              "        vertical-align: top;\n",
              "    }\n",
              "\n",
              "    .dataframe thead th {\n",
              "        text-align: right;\n",
              "    }\n",
              "</style>\n",
              "<table border=\"1\" class=\"dataframe\">\n",
              "  <thead>\n",
              "    <tr style=\"text-align: right;\">\n",
              "      <th></th>\n",
              "      <th>0</th>\n",
              "      <th>artist</th>\n",
              "    </tr>\n",
              "  </thead>\n",
              "  <tbody>\n",
              "    <tr>\n",
              "      <th>0</th>\n",
              "      <td>One More Time</td>\n",
              "      <td>Daft Punk</td>\n",
              "    </tr>\n",
              "    <tr>\n",
              "      <th>1</th>\n",
              "      <td>Brothers</td>\n",
              "      <td>Bankrol Hayden</td>\n",
              "    </tr>\n",
              "    <tr>\n",
              "      <th>2</th>\n",
              "      <td>All Day All Night</td>\n",
              "      <td>Bobby Brown</td>\n",
              "    </tr>\n",
              "    <tr>\n",
              "      <th>3</th>\n",
              "      <td>Brothers</td>\n",
              "      <td>Bankrol Hayden</td>\n",
              "    </tr>\n",
              "    <tr>\n",
              "      <th>4</th>\n",
              "      <td>Disrespectful</td>\n",
              "      <td>GASHI</td>\n",
              "    </tr>\n",
              "    <tr>\n",
              "      <th>5</th>\n",
              "      <td>Urgent</td>\n",
              "      <td>Foreigner</td>\n",
              "    </tr>\n",
              "    <tr>\n",
              "      <th>6</th>\n",
              "      <td>Shuttin It Down</td>\n",
              "      <td>Maddix</td>\n",
              "    </tr>\n",
              "    <tr>\n",
              "      <th>7</th>\n",
              "      <td>Disrespectful</td>\n",
              "      <td>GASHI</td>\n",
              "    </tr>\n",
              "    <tr>\n",
              "      <th>8</th>\n",
              "      <td>Bienvenidos - Live</td>\n",
              "      <td>Miguel Rios</td>\n",
              "    </tr>\n",
              "    <tr>\n",
              "      <th>9</th>\n",
              "      <td>Heaven - Radio Edit</td>\n",
              "      <td>INNA</td>\n",
              "    </tr>\n",
              "  </tbody>\n",
              "</table>\n",
              "</div>"
            ],
            "text/plain": [
              "                     0          artist\n",
              "0        One More Time       Daft Punk\n",
              "1             Brothers  Bankrol Hayden\n",
              "2    All Day All Night     Bobby Brown\n",
              "3             Brothers  Bankrol Hayden\n",
              "4        Disrespectful           GASHI\n",
              "5               Urgent       Foreigner\n",
              "6      Shuttin It Down          Maddix\n",
              "7        Disrespectful           GASHI\n",
              "8   Bienvenidos - Live     Miguel Rios\n",
              "9  Heaven - Radio Edit            INNA"
            ]
          },
          "metadata": {},
          "execution_count": 95
        }
      ]
    },
    {
      "cell_type": "code",
      "metadata": {
        "colab": {
          "base_uri": "https://localhost:8080/",
          "height": 576
        },
        "id": "ClEBHhgmalFh",
        "outputId": "eb038084-eacf-427b-aea9-48b83601abea"
      },
      "source": [
        "testing38 = df2_rec.iloc[:,[0,2]]\n",
        "testing38_dict = dict(zip(testing38.track_name, testing38.track_artist))\n",
        "eucdf2 = pd.DataFrame(euct2_name)\n",
        "eucdf2['artist'] = eucdf2[0].map(testing38_dict)\n",
        "eucdf2"
      ],
      "execution_count": null,
      "outputs": [
        {
          "output_type": "execute_result",
          "data": {
            "text/html": [
              "<div>\n",
              "<style scoped>\n",
              "    .dataframe tbody tr th:only-of-type {\n",
              "        vertical-align: middle;\n",
              "    }\n",
              "\n",
              "    .dataframe tbody tr th {\n",
              "        vertical-align: top;\n",
              "    }\n",
              "\n",
              "    .dataframe thead th {\n",
              "        text-align: right;\n",
              "    }\n",
              "</style>\n",
              "<table border=\"1\" class=\"dataframe\">\n",
              "  <thead>\n",
              "    <tr style=\"text-align: right;\">\n",
              "      <th></th>\n",
              "      <th>0</th>\n",
              "      <th>artist</th>\n",
              "    </tr>\n",
              "  </thead>\n",
              "  <tbody>\n",
              "    <tr>\n",
              "      <th>0</th>\n",
              "      <td>Girlfriend in a Coma - 2011 Remaster</td>\n",
              "      <td>The Smiths</td>\n",
              "    </tr>\n",
              "    <tr>\n",
              "      <th>1</th>\n",
              "      <td>Just A Lover - Pomo Remix</td>\n",
              "      <td>Hayden James</td>\n",
              "    </tr>\n",
              "    <tr>\n",
              "      <th>2</th>\n",
              "      <td>Into You (feat. Tamia) - Radio Edit</td>\n",
              "      <td>Fabolous</td>\n",
              "    </tr>\n",
              "    <tr>\n",
              "      <th>3</th>\n",
              "      <td>Just A Lover - Pomo Remix</td>\n",
              "      <td>Hayden James</td>\n",
              "    </tr>\n",
              "    <tr>\n",
              "      <th>4</th>\n",
              "      <td>Come Back To Me</td>\n",
              "      <td>Janet Jackson</td>\n",
              "    </tr>\n",
              "    <tr>\n",
              "      <th>5</th>\n",
              "      <td>With You - Frank Walker Remix</td>\n",
              "      <td>Tyler Shaw</td>\n",
              "    </tr>\n",
              "    <tr>\n",
              "      <th>6</th>\n",
              "      <td>Just A Lover - Pomo Remix</td>\n",
              "      <td>Hayden James</td>\n",
              "    </tr>\n",
              "    <tr>\n",
              "      <th>7</th>\n",
              "      <td>Just A Lover - Pomo Remix</td>\n",
              "      <td>Hayden James</td>\n",
              "    </tr>\n",
              "    <tr>\n",
              "      <th>8</th>\n",
              "      <td>If I Had No Loot</td>\n",
              "      <td>Tony! Toni! TonÃ©!</td>\n",
              "    </tr>\n",
              "    <tr>\n",
              "      <th>9</th>\n",
              "      <td>Dear Mama</td>\n",
              "      <td>2Pac</td>\n",
              "    </tr>\n",
              "    <tr>\n",
              "      <th>10</th>\n",
              "      <td>Cemetry Gates - 2011 Remaster</td>\n",
              "      <td>The Smiths</td>\n",
              "    </tr>\n",
              "    <tr>\n",
              "      <th>11</th>\n",
              "      <td>QuÃ©date</td>\n",
              "      <td>Debi Nova</td>\n",
              "    </tr>\n",
              "    <tr>\n",
              "      <th>12</th>\n",
              "      <td>1950</td>\n",
              "      <td>King Princess</td>\n",
              "    </tr>\n",
              "    <tr>\n",
              "      <th>13</th>\n",
              "      <td>Heaven - Radio Edit</td>\n",
              "      <td>INNA</td>\n",
              "    </tr>\n",
              "    <tr>\n",
              "      <th>14</th>\n",
              "      <td>I Wanna Sex You Up - Single Mix</td>\n",
              "      <td>Color Me Badd</td>\n",
              "    </tr>\n",
              "    <tr>\n",
              "      <th>15</th>\n",
              "      <td>Come Back To Me</td>\n",
              "      <td>Janet Jackson</td>\n",
              "    </tr>\n",
              "    <tr>\n",
              "      <th>16</th>\n",
              "      <td>Hark</td>\n",
              "      <td>Tom Misch</td>\n",
              "    </tr>\n",
              "  </tbody>\n",
              "</table>\n",
              "</div>"
            ],
            "text/plain": [
              "                                       0              artist\n",
              "0   Girlfriend in a Coma - 2011 Remaster          The Smiths\n",
              "1              Just A Lover - Pomo Remix        Hayden James\n",
              "2    Into You (feat. Tamia) - Radio Edit            Fabolous\n",
              "3              Just A Lover - Pomo Remix        Hayden James\n",
              "4                        Come Back To Me       Janet Jackson\n",
              "5          With You - Frank Walker Remix          Tyler Shaw\n",
              "6              Just A Lover - Pomo Remix        Hayden James\n",
              "7              Just A Lover - Pomo Remix        Hayden James\n",
              "8                       If I Had No Loot  Tony! Toni! TonÃ©!\n",
              "9                              Dear Mama                2Pac\n",
              "10         Cemetry Gates - 2011 Remaster          The Smiths\n",
              "11                              QuÃ©date           Debi Nova\n",
              "12                                  1950       King Princess\n",
              "13                   Heaven - Radio Edit                INNA\n",
              "14       I Wanna Sex You Up - Single Mix       Color Me Badd\n",
              "15                       Come Back To Me       Janet Jackson\n",
              "16                                  Hark           Tom Misch"
            ]
          },
          "metadata": {},
          "execution_count": 96
        }
      ]
    },
    {
      "cell_type": "code",
      "metadata": {
        "colab": {
          "base_uri": "https://localhost:8080/",
          "height": 390
        },
        "id": "jvcSSWHearo9",
        "outputId": "e10920b6-f8bd-423d-9689-9dae3085da16"
      },
      "source": [
        "testing39 = df3_rec.iloc[:,[0,2]]\n",
        "testing39_dict = dict(zip(testing39.track_name, testing39.track_artist))\n",
        "eucdf3 = pd.DataFrame(euct3_name)\n",
        "eucdf3['artist'] = eucdf3[0].map(testing39_dict)\n",
        "eucdf3"
      ],
      "execution_count": null,
      "outputs": [
        {
          "output_type": "execute_result",
          "data": {
            "text/html": [
              "<div>\n",
              "<style scoped>\n",
              "    .dataframe tbody tr th:only-of-type {\n",
              "        vertical-align: middle;\n",
              "    }\n",
              "\n",
              "    .dataframe tbody tr th {\n",
              "        vertical-align: top;\n",
              "    }\n",
              "\n",
              "    .dataframe thead th {\n",
              "        text-align: right;\n",
              "    }\n",
              "</style>\n",
              "<table border=\"1\" class=\"dataframe\">\n",
              "  <thead>\n",
              "    <tr style=\"text-align: right;\">\n",
              "      <th></th>\n",
              "      <th>0</th>\n",
              "      <th>artist</th>\n",
              "    </tr>\n",
              "  </thead>\n",
              "  <tbody>\n",
              "    <tr>\n",
              "      <th>0</th>\n",
              "      <td>Bandit</td>\n",
              "      <td>Hemso</td>\n",
              "    </tr>\n",
              "    <tr>\n",
              "      <th>1</th>\n",
              "      <td>Reach (NBC Olympic Version)</td>\n",
              "      <td>Gloria Estefan</td>\n",
              "    </tr>\n",
              "    <tr>\n",
              "      <th>2</th>\n",
              "      <td>Heaven - Radio Edit</td>\n",
              "      <td>INNA</td>\n",
              "    </tr>\n",
              "    <tr>\n",
              "      <th>3</th>\n",
              "      <td>My Nigga</td>\n",
              "      <td>YG</td>\n",
              "    </tr>\n",
              "    <tr>\n",
              "      <th>4</th>\n",
              "      <td>With You - Frank Walker Remix</td>\n",
              "      <td>Tyler Shaw</td>\n",
              "    </tr>\n",
              "    <tr>\n",
              "      <th>5</th>\n",
              "      <td>Bienvenidos - Live</td>\n",
              "      <td>Miguel Rios</td>\n",
              "    </tr>\n",
              "    <tr>\n",
              "      <th>6</th>\n",
              "      <td>i hate u, i love u (feat. olivia o'brien) - De...</td>\n",
              "      <td>gnash</td>\n",
              "    </tr>\n",
              "    <tr>\n",
              "      <th>7</th>\n",
              "      <td>One More Night</td>\n",
              "      <td>Michael Kiwanuka</td>\n",
              "    </tr>\n",
              "    <tr>\n",
              "      <th>8</th>\n",
              "      <td>Brothers</td>\n",
              "      <td>Bankrol Hayden</td>\n",
              "    </tr>\n",
              "    <tr>\n",
              "      <th>9</th>\n",
              "      <td>When I Was Your Man</td>\n",
              "      <td>Bruno Mars</td>\n",
              "    </tr>\n",
              "    <tr>\n",
              "      <th>10</th>\n",
              "      <td>If I Had No Loot</td>\n",
              "      <td>Tony! Toni! TonÃ©!</td>\n",
              "    </tr>\n",
              "  </tbody>\n",
              "</table>\n",
              "</div>"
            ],
            "text/plain": [
              "                                                    0              artist\n",
              "0                                              Bandit               Hemso\n",
              "1                         Reach (NBC Olympic Version)      Gloria Estefan\n",
              "2                                 Heaven - Radio Edit                INNA\n",
              "3                                            My Nigga                  YG\n",
              "4                       With You - Frank Walker Remix          Tyler Shaw\n",
              "5                                  Bienvenidos - Live         Miguel Rios\n",
              "6   i hate u, i love u (feat. olivia o'brien) - De...               gnash\n",
              "7                                      One More Night    Michael Kiwanuka\n",
              "8                                            Brothers      Bankrol Hayden\n",
              "9                                 When I Was Your Man          Bruno Mars\n",
              "10                                   If I Had No Loot  Tony! Toni! TonÃ©!"
            ]
          },
          "metadata": {},
          "execution_count": 97
        }
      ]
    },
    {
      "cell_type": "code",
      "metadata": {
        "colab": {
          "base_uri": "https://localhost:8080/",
          "height": 359
        },
        "id": "Xb9tXtiVa3Vn",
        "outputId": "afaabddb-f9b8-4475-f864-9199b97b87f0"
      },
      "source": [
        "testing40 = dfc1_rec.iloc[:,[0,2]]\n",
        "testing40_dict = dict(zip(testing40.track_name, testing40.track_artist))\n",
        "cosdf1 = pd.DataFrame(cost1_name)\n",
        "cosdf1['artist'] = cosdf1[0].map(testing40_dict)\n",
        "cosdf1"
      ],
      "execution_count": null,
      "outputs": [
        {
          "output_type": "execute_result",
          "data": {
            "text/html": [
              "<div>\n",
              "<style scoped>\n",
              "    .dataframe tbody tr th:only-of-type {\n",
              "        vertical-align: middle;\n",
              "    }\n",
              "\n",
              "    .dataframe tbody tr th {\n",
              "        vertical-align: top;\n",
              "    }\n",
              "\n",
              "    .dataframe thead th {\n",
              "        text-align: right;\n",
              "    }\n",
              "</style>\n",
              "<table border=\"1\" class=\"dataframe\">\n",
              "  <thead>\n",
              "    <tr style=\"text-align: right;\">\n",
              "      <th></th>\n",
              "      <th>0</th>\n",
              "      <th>artist</th>\n",
              "    </tr>\n",
              "  </thead>\n",
              "  <tbody>\n",
              "    <tr>\n",
              "      <th>0</th>\n",
              "      <td>Heaven</td>\n",
              "      <td>Bryan Adams</td>\n",
              "    </tr>\n",
              "    <tr>\n",
              "      <th>1</th>\n",
              "      <td>English Breakfast</td>\n",
              "      <td>Jobii</td>\n",
              "    </tr>\n",
              "    <tr>\n",
              "      <th>2</th>\n",
              "      <td>Ignition (Remix)</td>\n",
              "      <td>R. Kelly</td>\n",
              "    </tr>\n",
              "    <tr>\n",
              "      <th>3</th>\n",
              "      <td>Girlfriend in a Coma - 2011 Remaster</td>\n",
              "      <td>The Smiths</td>\n",
              "    </tr>\n",
              "    <tr>\n",
              "      <th>4</th>\n",
              "      <td>Sleepy Eyes</td>\n",
              "      <td>Elohim</td>\n",
              "    </tr>\n",
              "    <tr>\n",
              "      <th>5</th>\n",
              "      <td>Say It's Gonna Rain</td>\n",
              "      <td>Will To Power</td>\n",
              "    </tr>\n",
              "    <tr>\n",
              "      <th>6</th>\n",
              "      <td>La Grange - 1999 Remaster</td>\n",
              "      <td>ZZ Top</td>\n",
              "    </tr>\n",
              "    <tr>\n",
              "      <th>7</th>\n",
              "      <td>If I Lose Myself - Alesso vs OneRepublic</td>\n",
              "      <td>OneRepublic</td>\n",
              "    </tr>\n",
              "    <tr>\n",
              "      <th>8</th>\n",
              "      <td>We Built This City</td>\n",
              "      <td>Starship</td>\n",
              "    </tr>\n",
              "    <tr>\n",
              "      <th>9</th>\n",
              "      <td>Can't Take My Eyes off You</td>\n",
              "      <td>Frankie Valli</td>\n",
              "    </tr>\n",
              "  </tbody>\n",
              "</table>\n",
              "</div>"
            ],
            "text/plain": [
              "                                          0         artist\n",
              "0                                    Heaven    Bryan Adams\n",
              "1                         English Breakfast          Jobii\n",
              "2                          Ignition (Remix)       R. Kelly\n",
              "3      Girlfriend in a Coma - 2011 Remaster     The Smiths\n",
              "4                               Sleepy Eyes         Elohim\n",
              "5                       Say It's Gonna Rain  Will To Power\n",
              "6                 La Grange - 1999 Remaster         ZZ Top\n",
              "7  If I Lose Myself - Alesso vs OneRepublic    OneRepublic\n",
              "8                        We Built This City       Starship\n",
              "9                Can't Take My Eyes off You  Frankie Valli"
            ]
          },
          "metadata": {},
          "execution_count": 98
        }
      ]
    },
    {
      "cell_type": "code",
      "metadata": {
        "colab": {
          "base_uri": "https://localhost:8080/",
          "height": 576
        },
        "id": "3R2AGv2ybBM3",
        "outputId": "148145fe-dd24-4598-de79-69cba7cad910"
      },
      "source": [
        "testing41 = dfc2_rec.iloc[:,[0,2]]\n",
        "testing41_dict = dict(zip(testing41.track_name, testing41.track_artist))\n",
        "cosdf2 = pd.DataFrame(cost2_name)\n",
        "cosdf2['artist'] = cosdf2[0].map(testing41_dict)\n",
        "cosdf2"
      ],
      "execution_count": null,
      "outputs": [
        {
          "output_type": "execute_result",
          "data": {
            "text/html": [
              "<div>\n",
              "<style scoped>\n",
              "    .dataframe tbody tr th:only-of-type {\n",
              "        vertical-align: middle;\n",
              "    }\n",
              "\n",
              "    .dataframe tbody tr th {\n",
              "        vertical-align: top;\n",
              "    }\n",
              "\n",
              "    .dataframe thead th {\n",
              "        text-align: right;\n",
              "    }\n",
              "</style>\n",
              "<table border=\"1\" class=\"dataframe\">\n",
              "  <thead>\n",
              "    <tr style=\"text-align: right;\">\n",
              "      <th></th>\n",
              "      <th>0</th>\n",
              "      <th>artist</th>\n",
              "    </tr>\n",
              "  </thead>\n",
              "  <tbody>\n",
              "    <tr>\n",
              "      <th>0</th>\n",
              "      <td>Heavy, California</td>\n",
              "      <td>Jungle</td>\n",
              "    </tr>\n",
              "    <tr>\n",
              "      <th>1</th>\n",
              "      <td>English Breakfast</td>\n",
              "      <td>Jobii</td>\n",
              "    </tr>\n",
              "    <tr>\n",
              "      <th>2</th>\n",
              "      <td>Say It's Gonna Rain</td>\n",
              "      <td>Will To Power</td>\n",
              "    </tr>\n",
              "    <tr>\n",
              "      <th>3</th>\n",
              "      <td>Into the Sea</td>\n",
              "      <td>Wave Wave</td>\n",
              "    </tr>\n",
              "    <tr>\n",
              "      <th>4</th>\n",
              "      <td>My Death</td>\n",
              "      <td>Scott Walker</td>\n",
              "    </tr>\n",
              "    <tr>\n",
              "      <th>5</th>\n",
              "      <td>Ignition (Remix)</td>\n",
              "      <td>R. Kelly</td>\n",
              "    </tr>\n",
              "    <tr>\n",
              "      <th>6</th>\n",
              "      <td>DÃ©jame Volar</td>\n",
              "      <td>Aleman</td>\n",
              "    </tr>\n",
              "    <tr>\n",
              "      <th>7</th>\n",
              "      <td>English Breakfast</td>\n",
              "      <td>Jobii</td>\n",
              "    </tr>\n",
              "    <tr>\n",
              "      <th>8</th>\n",
              "      <td>BenÃ©</td>\n",
              "      <td>PNL</td>\n",
              "    </tr>\n",
              "    <tr>\n",
              "      <th>9</th>\n",
              "      <td>Toumast Tincha</td>\n",
              "      <td>Tinariwen</td>\n",
              "    </tr>\n",
              "    <tr>\n",
              "      <th>10</th>\n",
              "      <td>Unterwegs</td>\n",
              "      <td>Fler</td>\n",
              "    </tr>\n",
              "    <tr>\n",
              "      <th>11</th>\n",
              "      <td>He Said She Said</td>\n",
              "      <td>Ashley Tisdale</td>\n",
              "    </tr>\n",
              "    <tr>\n",
              "      <th>12</th>\n",
              "      <td>Stairway To Heaven</td>\n",
              "      <td>Led Zeppelin</td>\n",
              "    </tr>\n",
              "    <tr>\n",
              "      <th>13</th>\n",
              "      <td>It's Strange (feat. K.Flay)</td>\n",
              "      <td>Louis The Child</td>\n",
              "    </tr>\n",
              "    <tr>\n",
              "      <th>14</th>\n",
              "      <td>If I Lose Myself - Alesso vs OneRepublic</td>\n",
              "      <td>OneRepublic</td>\n",
              "    </tr>\n",
              "    <tr>\n",
              "      <th>15</th>\n",
              "      <td>Heaven</td>\n",
              "      <td>Bryan Adams</td>\n",
              "    </tr>\n",
              "    <tr>\n",
              "      <th>16</th>\n",
              "      <td>Say It's Gonna Rain</td>\n",
              "      <td>Will To Power</td>\n",
              "    </tr>\n",
              "  </tbody>\n",
              "</table>\n",
              "</div>"
            ],
            "text/plain": [
              "                                           0           artist\n",
              "0                          Heavy, California           Jungle\n",
              "1                          English Breakfast            Jobii\n",
              "2                        Say It's Gonna Rain    Will To Power\n",
              "3                               Into the Sea        Wave Wave\n",
              "4                                   My Death     Scott Walker\n",
              "5                           Ignition (Remix)         R. Kelly\n",
              "6                              DÃ©jame Volar           Aleman\n",
              "7                          English Breakfast            Jobii\n",
              "8                                      BenÃ©              PNL\n",
              "9                             Toumast Tincha        Tinariwen\n",
              "10                                 Unterwegs             Fler\n",
              "11                          He Said She Said   Ashley Tisdale\n",
              "12                        Stairway To Heaven     Led Zeppelin\n",
              "13               It's Strange (feat. K.Flay)  Louis The Child\n",
              "14  If I Lose Myself - Alesso vs OneRepublic      OneRepublic\n",
              "15                                    Heaven      Bryan Adams\n",
              "16                       Say It's Gonna Rain    Will To Power"
            ]
          },
          "metadata": {},
          "execution_count": 99
        }
      ]
    },
    {
      "cell_type": "code",
      "metadata": {
        "colab": {
          "base_uri": "https://localhost:8080/",
          "height": 390
        },
        "id": "aZ1EIhbqbDEN",
        "outputId": "f5632ef7-6137-40a3-a4f0-3e6c02493606"
      },
      "source": [
        "testing42 = dfc3_rec.iloc[:,[0,2]]\n",
        "testing42_dict = dict(zip(testing42.track_name, testing42.track_artist))\n",
        "cosdf3 = pd.DataFrame(cost3_name)\n",
        "cosdf3['artist'] = cosdf3[0].map(testing42_dict)\n",
        "cosdf3"
      ],
      "execution_count": null,
      "outputs": [
        {
          "output_type": "execute_result",
          "data": {
            "text/html": [
              "<div>\n",
              "<style scoped>\n",
              "    .dataframe tbody tr th:only-of-type {\n",
              "        vertical-align: middle;\n",
              "    }\n",
              "\n",
              "    .dataframe tbody tr th {\n",
              "        vertical-align: top;\n",
              "    }\n",
              "\n",
              "    .dataframe thead th {\n",
              "        text-align: right;\n",
              "    }\n",
              "</style>\n",
              "<table border=\"1\" class=\"dataframe\">\n",
              "  <thead>\n",
              "    <tr style=\"text-align: right;\">\n",
              "      <th></th>\n",
              "      <th>0</th>\n",
              "      <th>artist</th>\n",
              "    </tr>\n",
              "  </thead>\n",
              "  <tbody>\n",
              "    <tr>\n",
              "      <th>0</th>\n",
              "      <td>Heaven</td>\n",
              "      <td>Bryan Adams</td>\n",
              "    </tr>\n",
              "    <tr>\n",
              "      <th>1</th>\n",
              "      <td>Hideaway</td>\n",
              "      <td>Kiesza</td>\n",
              "    </tr>\n",
              "    <tr>\n",
              "      <th>2</th>\n",
              "      <td>Uhh Ahh</td>\n",
              "      <td>Boyz II Men</td>\n",
              "    </tr>\n",
              "    <tr>\n",
              "      <th>3</th>\n",
              "      <td>Flames (feat. Ruel)</td>\n",
              "      <td>SG Lewis</td>\n",
              "    </tr>\n",
              "    <tr>\n",
              "      <th>4</th>\n",
              "      <td>Ignition (Remix)</td>\n",
              "      <td>R. Kelly</td>\n",
              "    </tr>\n",
              "    <tr>\n",
              "      <th>5</th>\n",
              "      <td>Ignition (Remix)</td>\n",
              "      <td>R. Kelly</td>\n",
              "    </tr>\n",
              "    <tr>\n",
              "      <th>6</th>\n",
              "      <td>Heaven</td>\n",
              "      <td>Bryan Adams</td>\n",
              "    </tr>\n",
              "    <tr>\n",
              "      <th>7</th>\n",
              "      <td>We Built This City</td>\n",
              "      <td>Starship</td>\n",
              "    </tr>\n",
              "    <tr>\n",
              "      <th>8</th>\n",
              "      <td>Heaven</td>\n",
              "      <td>Bryan Adams</td>\n",
              "    </tr>\n",
              "    <tr>\n",
              "      <th>9</th>\n",
              "      <td>Say It's Gonna Rain</td>\n",
              "      <td>Will To Power</td>\n",
              "    </tr>\n",
              "    <tr>\n",
              "      <th>10</th>\n",
              "      <td>BenÃ©</td>\n",
              "      <td>PNL</td>\n",
              "    </tr>\n",
              "  </tbody>\n",
              "</table>\n",
              "</div>"
            ],
            "text/plain": [
              "                      0         artist\n",
              "0                Heaven    Bryan Adams\n",
              "1              Hideaway         Kiesza\n",
              "2               Uhh Ahh    Boyz II Men\n",
              "3   Flames (feat. Ruel)       SG Lewis\n",
              "4      Ignition (Remix)       R. Kelly\n",
              "5      Ignition (Remix)       R. Kelly\n",
              "6                Heaven    Bryan Adams\n",
              "7    We Built This City       Starship\n",
              "8                Heaven    Bryan Adams\n",
              "9   Say It's Gonna Rain  Will To Power\n",
              "10                BenÃ©            PNL"
            ]
          },
          "metadata": {},
          "execution_count": 100
        }
      ]
    },
    {
      "cell_type": "code",
      "metadata": {
        "id": "j9iDIXbRYQLe"
      },
      "source": [
        "def oneslistmaker(n):\n",
        "    listofones = [1] * n\n",
        "    return listofones"
      ],
      "execution_count": null,
      "outputs": []
    },
    {
      "cell_type": "code",
      "metadata": {
        "colab": {
          "base_uri": "https://localhost:8080/"
        },
        "id": "UmwHzd_f1rAQ",
        "outputId": "097014ec-10af-4594-9a4b-501c6624dc05"
      },
      "source": [
        "#classification report with emotion model cosine distance\n",
        "from mlxtend.plotting import plot_confusion_matrix\n",
        "from sklearn.metrics import accuracy_score,confusion_matrix \n",
        "y_true = oneslistmaker(32)\n",
        "y_pred = [0,0,1,0,0,0,1,0\t,1,1,0,0,0,0,0,1,1,0,0,0,0,0,0,0,0,0,0,0,1,0,0,1]\n",
        "conf_matrix1 = confusion_matrix(y_true=y_true, y_pred=y_pred)\n",
        "\n",
        "print('Cosine similarrity model accuracy with emotion:',accuracy_score(y_true, y_pred))"
      ],
      "execution_count": null,
      "outputs": [
        {
          "output_type": "stream",
          "name": "stdout",
          "text": [
            "Cosine similarrity model accuracy with emotion: 0.25\n"
          ]
        }
      ]
    },
    {
      "cell_type": "code",
      "metadata": {
        "colab": {
          "base_uri": "https://localhost:8080/",
          "height": 432
        },
        "id": "vHASt9Mk3UBc",
        "outputId": "b9f0cf4a-f5ae-4c72-acaa-74748325b51a"
      },
      "source": [
        "fig, ax = plot_confusion_matrix(conf_mat=conf_matrix1, figsize=(6, 6), cmap=plt.cm.Greens)\n",
        "plt.xlabel('Predictions', fontsize=18)\n",
        "plt.ylabel('Actuals', fontsize=18)\n",
        "plt.title('Confusion Matrix', fontsize=18)\n",
        "plt.show()\n",
        "\n",
        "import seaborn as sns\n",
        "\n",
        "cm = confusion_matrix(y_true, y_pred)\n",
        "#f = sns.heatmap(cm, annot=True)"
      ],
      "execution_count": null,
      "outputs": [
        {
          "output_type": "display_data",
          "data": {
            "image/png": "[encoded data removed]",
            "text/plain": [
              "<Figure size 432x432 with 1 Axes>"
            ]
          },
          "metadata": {
            "needs_background": "light"
          }
        }
      ]
    },
    {
      "cell_type": "code",
      "metadata": {
        "colab": {
          "base_uri": "https://localhost:8080/"
        },
        "id": "Rlq2cx-_X2fi",
        "outputId": "c8aa427e-f0c2-44b0-8a2a-b013bbdecc1e"
      },
      "source": [
        "#classification report with emotion model euclidean distance\n",
        "target_names = oneslistmaker(32)\n",
        "y_true = oneslistmaker(32)\n",
        "y_pred = [1,0,1,1,1,1,0,1,0,1,0,1,0,1,0,0,0,1,1,0,1,1,1,0,1,0,1,1,1,1,1,1]\n",
        "conf_matrix2 = confusion_matrix(y_true=y_true, y_pred=y_pred)\n",
        "print('Euclidean distance model accuracy with emotion:',accuracy_score(y_true, y_pred))"
      ],
      "execution_count": null,
      "outputs": [
        {
          "output_type": "stream",
          "name": "stdout",
          "text": [
            "Euclidean distance model accuracy with emotion: 0.65625\n"
          ]
        }
      ]
    },
    {
      "cell_type": "code",
      "metadata": {
        "colab": {
          "base_uri": "https://localhost:8080/",
          "height": 432
        },
        "id": "pOxY83ehlMuW",
        "outputId": "17bd484e-d9f0-4576-9ce2-7bbd0ec97d00"
      },
      "source": [
        "#confusion matrix with emotion model for the euclidean distance\n",
        "fig, ax = plot_confusion_matrix(conf_mat=conf_matrix2, figsize=(6, 6), cmap=plt.cm.Greens)\n",
        "plt.xlabel('Predictions', fontsize=18)\n",
        "plt.ylabel('Actuals', fontsize=18)\n",
        "plt.title('Confusion Matrix', fontsize=18)\n",
        "plt.show()"
      ],
      "execution_count": null,
      "outputs": [
        {
          "output_type": "display_data",
          "data": {
            "image/png": "[encoded data removed]",
            "text/plain": [
              "<Figure size 432x432 with 1 Axes>"
            ]
          },
          "metadata": {
            "needs_background": "light"
          }
        }
      ]
    },
    {
      "cell_type": "code",
      "metadata": {
        "colab": {
          "base_uri": "https://localhost:8080/"
        },
        "id": "eBuiQs387PGC",
        "outputId": "36f8506b-4ac9-45d9-96b0-dd80419656bb"
      },
      "source": [
        "#classification report with no emotion model cosine similarity\n",
        "from sklearn.metrics import accuracy_score\n",
        "y_true = oneslistmaker(32)\n",
        "y_pred = [0,0,0,0,0,0,0,0,0,1,0,0,0,0,0,0,0,0,0,1,0,1,0,1,0,1,0,0,0,1,0,0]\n",
        "print('Cosine distance model accuracy with emotion:',accuracy_score(y_true, y_pred))"
      ],
      "execution_count": null,
      "outputs": [
        {
          "output_type": "stream",
          "name": "stdout",
          "text": [
            "Cosine distance model accuracy with emotion: 0.1875\n"
          ]
        }
      ]
    },
    {
      "cell_type": "code",
      "metadata": {
        "colab": {
          "base_uri": "https://localhost:8080/",
          "height": 432
        },
        "id": "xJetmfd_AqFt",
        "outputId": "d1a027c7-917e-481a-d6c7-186348c3cb6d"
      },
      "source": [
        "#confusion matrix with no emotion model for the cosine similarity\n",
        "conf_matrix1 = confusion_matrix(y_true=y_true, y_pred=y_pred)\n",
        "fig, ax = plot_confusion_matrix(conf_mat=conf_matrix1, figsize=(6, 6), cmap=plt.cm.Greens)\n",
        "plt.xlabel('Predictions', fontsize=18)\n",
        "plt.ylabel('Actuals', fontsize=18)\n",
        "plt.title('Confusion Matrix', fontsize=18)\n",
        "plt.show()"
      ],
      "execution_count": null,
      "outputs": [
        {
          "output_type": "display_data",
          "data": {
            "image/png": "[encoded data removed]",
            "text/plain": [
              "<Figure size 432x432 with 1 Axes>"
            ]
          },
          "metadata": {
            "needs_background": "light"
          }
        }
      ]
    },
    {
      "cell_type": "code",
      "metadata": {
        "colab": {
          "base_uri": "https://localhost:8080/"
        },
        "id": "IsUYPLpk64Z2",
        "outputId": "4be9ad84-d280-449a-eacd-cc4c71f4c549"
      },
      "source": [
        "#classification report with no emotion model euclidean distance\n",
        "#conf_matrix2 = confusion_matrix(y_true=y_test, y_pred=y_pred)\n",
        "target_names = oneslistmaker(32)\n",
        "y_true = oneslistmaker(32)\n",
        "y_pred = [1,0,1,1,1,0,0,1,0,1,1,1,0,0,0,1,1,1,0,1,1,1,1,1,0,1,0,1,1,1,0,0]\n",
        "print('Euclidean distance model accuracy with emotion:',accuracy_score(y_true, y_pred))"
      ],
      "execution_count": null,
      "outputs": [
        {
          "output_type": "stream",
          "name": "stdout",
          "text": [
            "Euclidean distance model accuracy with emotion: 0.625\n"
          ]
        }
      ]
    },
    {
      "cell_type": "code",
      "metadata": {
        "colab": {
          "base_uri": "https://localhost:8080/",
          "height": 432
        },
        "id": "6_solx3XCBXo",
        "outputId": "36e2c943-20de-4799-92bd-f9662a49e5c7"
      },
      "source": [
        "#confusion matrix with no emotion model for the cosine similarity\n",
        "conf_matrix2 = confusion_matrix(y_true=y_true, y_pred=y_pred)\n",
        "fig, ax = plot_confusion_matrix(conf_mat=conf_matrix2, figsize=(6, 6), cmap=plt.cm.Greens)\n",
        "plt.xlabel('Predictions', fontsize=18)\n",
        "plt.ylabel('Actuals', fontsize=18)\n",
        "plt.title('Confusion Matrix', fontsize=18)\n",
        "plt.show()"
      ],
      "execution_count": null,
      "outputs": [
        {
          "output_type": "display_data",
          "data": {
            "image/png": "[encoded data removed]",
            "text/plain": [
              "<Figure size 432x432 with 1 Axes>"
            ]
          },
          "metadata": {
            "needs_background": "light"
          }
        }
      ]
    },
    {
      "cell_type": "code",
      "metadata": {
        "colab": {
          "base_uri": "https://localhost:8080/"
        },
        "id": "XExXPX64GvUJ",
        "outputId": "707962b4-65b1-4620-b275-8b75600f59ae"
      },
      "source": [
        "rec_cosT1[:10]"
      ],
      "execution_count": null,
      "outputs": [
        {
          "output_type": "execute_result",
          "data": {
            "text/plain": [
              "[array([[0.9999512]]),\n",
              " array([[0.9993808]]),\n",
              " array([[0.99993352]]),\n",
              " array([[0.99999645]]),\n",
              " array([[0.99995834]]),\n",
              " array([[0.99995314]]),\n",
              " array([[0.99999469]]),\n",
              " array([[0.99995702]]),\n",
              " array([[0.99998637]]),\n",
              " array([[0.99997611]])]"
            ]
          },
          "metadata": {},
          "execution_count": 110
        }
      ]
    },
    {
      "cell_type": "code",
      "metadata": {
        "colab": {
          "base_uri": "https://localhost:8080/"
        },
        "id": "yWwV3sOAHH42",
        "outputId": "220166f7-e9e0-42dc-d716-e63816a9bca8"
      },
      "source": [
        "(rec_eucT2)"
      ],
      "execution_count": null,
      "outputs": [
        {
          "output_type": "execute_result",
          "data": {
            "text/plain": [
              "[3.507878880463233,\n",
              " 4.149998242168298,\n",
              " 4.309590393529296,\n",
              " 1.8821733102985008,\n",
              " 7.887833898479356,\n",
              " 2.5150058875477885,\n",
              " 6.13216307676174,\n",
              " 2.7284642280227898,\n",
              " 4.666162728624021,\n",
              " 2.446517067179375,\n",
              " 4.209385515357318,\n",
              " 2.98450054280444,\n",
              " 3.8558656174716517,\n",
              " 6.2324976678696,\n",
              " 5.6025814725088985,\n",
              " 6.102576083098023,\n",
              " 10.861035030327455]"
            ]
          },
          "metadata": {},
          "execution_count": 111
        }
      ]
    },
    {
      "cell_type": "code",
      "metadata": {
        "colab": {
          "base_uri": "https://localhost:8080/"
        },
        "id": "lUp3Cj2AHK_K",
        "outputId": "8a3440c4-2e59-4a8f-e365-2d0a87b83bae"
      },
      "source": [
        "(rec_eucT1[:10])"
      ],
      "execution_count": null,
      "outputs": [
        {
          "output_type": "execute_result",
          "data": {
            "text/plain": [
              "[3.573735850619064,\n",
              " 4.229730785759304,\n",
              " 3.7544874457107964,\n",
              " 1.2520134264455758,\n",
              " 8.449786580145085,\n",
              " 4.829700208087455,\n",
              " 4.225039591873665,\n",
              " 6.419851731153899,\n",
              " 3.623927923455442,\n",
              " 3.184861180648238]"
            ]
          },
          "metadata": {},
          "execution_count": 112
        }
      ]
    }
  ]
}