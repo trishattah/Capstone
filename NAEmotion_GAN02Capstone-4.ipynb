{
  "nbformat": 4,
  "nbformat_minor": 0,
  "metadata": {
    "colab": {
      "name": "NAEmotion-GAN02Capstone.ipynb",
      "provenance": [],
      "collapsed_sections": []
    },
    "kernelspec": {
      "name": "python3",
      "display_name": "Python 3"
    },
    "language_info": {
      "name": "python"
    }
  },
  "cells": [
    {
      "cell_type": "code",
      "metadata": {
        "id": "YQCZ3H_2TxIZ",
        "colab": {
          "base_uri": "https://localhost:8080/"
        },
        "outputId": "319d51c0-84c4-466c-bd40-60a8cecd60f6"
      },
      "source": [
        "import torch\n",
        "from torch import nn\n",
        "from torch.utils.data import DataLoader\n",
        "import math\n",
        "import matplotlib.pyplot as plt\n",
        "import numpy as np\n",
        "import io\n",
        "import pandas as pd\n",
        "from imblearn.over_sampling import SMOTE\n",
        "from collections import Counter\n",
        "from matplotlib import pyplot\n",
        "from sklearn.preprocessing import MinMaxScaler\n",
        "import warnings\n",
        "warnings.filterwarnings('ignore')"
      ],
      "execution_count": 1,
      "outputs": [
        {
          "output_type": "stream",
          "name": "stderr",
          "text": [
            "/usr/local/lib/python3.7/dist-packages/sklearn/externals/six.py:31: FutureWarning: The module is deprecated in version 0.21 and will be removed in version 0.23 since we've dropped support for Python 2.7. Please rely on the official version of six (https://pypi.org/project/six/).\n",
            "  \"(https://pypi.org/project/six/).\", FutureWarning)\n",
            "/usr/local/lib/python3.7/dist-packages/sklearn/utils/deprecation.py:144: FutureWarning: The sklearn.neighbors.base module is  deprecated in version 0.22 and will be removed in version 0.24. The corresponding classes / functions should instead be imported from sklearn.neighbors. Anything that cannot be imported from sklearn.neighbors is now part of the private API.\n",
            "  warnings.warn(message, FutureWarning)\n"
          ]
        }
      ]
    },
    {
      "cell_type": "code",
      "metadata": {
        "id": "c5IpolGoaZzL"
      },
      "source": [
        "url = 'https://raw.githubusercontent.com/trishattah/Capstone/main/spotify_songs-2_00.csv'\n",
        "df2 = pd.read_csv(url)"
      ],
      "execution_count": 2,
      "outputs": []
    },
    {
      "cell_type": "code",
      "metadata": {
        "id": "BOfZ1LsBb3Z_"
      },
      "source": [
        "#url = 'https://raw.githubusercontent.com/trishattah/Capstone/main/Emotion_Labels.csv'\n",
        "#df3 = pd.read_csv(url)"
      ],
      "execution_count": 3,
      "outputs": []
    },
    {
      "cell_type": "code",
      "metadata": {
        "id": "KwLUDpea0D_T"
      },
      "source": [
        "#df4 = pd.merge(df2,df3,on='track_id')\n",
        "#df4 = df2.drop(['Unnamed: 19'], axis=1)\n",
        "df4=df2"
      ],
      "execution_count": 4,
      "outputs": []
    },
    {
      "cell_type": "code",
      "metadata": {
        "colab": {
          "base_uri": "https://localhost:8080/"
        },
        "id": "paij6qTxqtvn",
        "outputId": "eefc4485-8ebb-48e5-9264-56b40d6a8db9"
      },
      "source": [
        "df4 = df4.dropna()\n",
        "df4.shape"
      ],
      "execution_count": 5,
      "outputs": [
        {
          "output_type": "execute_result",
          "data": {
            "text/plain": [
              "(2490, 16)"
            ]
          },
          "metadata": {},
          "execution_count": 5
        }
      ]
    },
    {
      "cell_type": "code",
      "metadata": {
        "colab": {
          "base_uri": "https://localhost:8080/"
        },
        "id": "rcEu57ehv2fp",
        "outputId": "bce9b3fb-7657-4556-c309-980555b7bab4"
      },
      "source": [
        "df4['playlist_id'].value_counts()"
      ],
      "execution_count": 6,
      "outputs": [
        {
          "output_type": "execute_result",
          "data": {
            "text/plain": [
              "sub                       686\n",
              "3ykXidKLz1eYPvuGoFlD1e     17\n",
              "37i9dQZF1DWUFmyho2wkQU     15\n",
              "4NlAd9NpIa92IjErMyAriM     13\n",
              "44bkJI1QGkT2O0GYJSsbkp     12\n",
              "                         ... \n",
              "2EnVd4ugXUybVQoQrarICY      1\n",
              "2wP2UAYC4Nqb6oUXkMJlAz      1\n",
              "5ifDekrUt5lbSIMTSzNNqB      1\n",
              "37i9dQZF1DWWQRwui0ExPn      1\n",
              "6SrHyxIxWfQx9ISEr6yowk      1\n",
              "Name: playlist_id, Length: 414, dtype: int64"
            ]
          },
          "metadata": {},
          "execution_count": 6
        }
      ]
    },
    {
      "cell_type": "code",
      "metadata": {
        "id": "zhHvotdp3evO"
      },
      "source": [
        "from sklearn.preprocessing import LabelEncoder\n",
        "le = LabelEncoder()\n",
        "\n",
        "df11 = df2.drop(['playlist_id','track_id','track_name','track_artist'], axis=1)\n",
        "cols = ['language', 'playlist_genre']\n",
        "#df11[cols] = df11[cols].apply(LabelEncoder().fit_transform)\n",
        "\n",
        "df12 = df2.set_index('track_name')"
      ],
      "execution_count": 7,
      "outputs": []
    },
    {
      "cell_type": "code",
      "metadata": {
        "id": "gh5zkMZ3x43G"
      },
      "source": [
        "testdf = df4[df4['playlist_id'].isin(['5jROYSZSL7cO0jGAqkPx7C', '3ykXidKLz1eYPvuGoFlD1e','4hKPJNFIhdAg4pAksn78FJ'])]\n",
        "testdf1 =  df4[df4['playlist_id'].isin(['5jROYSZSL7cO0jGAqkPx7C'])]\n",
        "testdf2 = df4[df4['playlist_id'].isin(['3ykXidKLz1eYPvuGoFlD1e'])]\n",
        "testdf3 = df4[df4['playlist_id'].isin(['4hKPJNFIhdAg4pAksn78FJ'])]"
      ],
      "execution_count": 8,
      "outputs": []
    },
    {
      "cell_type": "code",
      "metadata": {
        "id": "dct1kTdS0MYc"
      },
      "source": [
        "testdf1_1 = testdf1.drop(['playlist_id','track_id','track_name','track_artist'], axis=1)\n",
        "testdf2_1 = testdf2.drop(['playlist_id','track_id','track_name','track_artist'], axis=1)\n",
        "testdf3_1 = testdf3.drop(['playlist_id','track_id','track_name','track_artist'], axis=1)"
      ],
      "execution_count": 9,
      "outputs": []
    },
    {
      "cell_type": "code",
      "metadata": {
        "id": "URnxJyAXzAUk"
      },
      "source": [
        "df5 = df4[~df4['playlist_id'].isin(['4hKPJNFIhdAg4pAksn78FJ', '3ykXidKLz1eYPvuGoFlD1e','4hKPJNFIhdAg4pAksn78FJ'])]"
      ],
      "execution_count": 10,
      "outputs": []
    },
    {
      "cell_type": "code",
      "metadata": {
        "id": "0CtwpX2P39KH"
      },
      "source": [
        "pd.set_option('display.max_columns', None)"
      ],
      "execution_count": 11,
      "outputs": []
    },
    {
      "cell_type": "code",
      "metadata": {
        "id": "iFpwP8Vz1hHY"
      },
      "source": [
        "df5 = df4.drop(['playlist_id','track_id','track_name','track_artist'], axis=1)\n",
        "df5['emotion'] = df5['emotion'].astype(int)"
      ],
      "execution_count": 12,
      "outputs": []
    },
    {
      "cell_type": "code",
      "metadata": {
        "colab": {
          "base_uri": "https://localhost:8080/",
          "height": 131
        },
        "id": "7CAVYhDW9UJ3",
        "outputId": "37d58b1f-a005-4f24-f8c8-cedbd207e042"
      },
      "source": [
        "df5.head(2)"
      ],
      "execution_count": 13,
      "outputs": [
        {
          "output_type": "execute_result",
          "data": {
            "text/html": [
              "<div>\n",
              "<style scoped>\n",
              "    .dataframe tbody tr th:only-of-type {\n",
              "        vertical-align: middle;\n",
              "    }\n",
              "\n",
              "    .dataframe tbody tr th {\n",
              "        vertical-align: top;\n",
              "    }\n",
              "\n",
              "    .dataframe thead th {\n",
              "        text-align: right;\n",
              "    }\n",
              "</style>\n",
              "<table border=\"1\" class=\"dataframe\">\n",
              "  <thead>\n",
              "    <tr style=\"text-align: right;\">\n",
              "      <th></th>\n",
              "      <th>track_popularity</th>\n",
              "      <th>loudness</th>\n",
              "      <th>instrumentalness</th>\n",
              "      <th>key</th>\n",
              "      <th>speechiness</th>\n",
              "      <th>acousticness</th>\n",
              "      <th>danceability</th>\n",
              "      <th>liveness</th>\n",
              "      <th>tempo</th>\n",
              "      <th>energy</th>\n",
              "      <th>valence</th>\n",
              "      <th>emotion</th>\n",
              "    </tr>\n",
              "  </thead>\n",
              "  <tbody>\n",
              "    <tr>\n",
              "      <th>0</th>\n",
              "      <td>41</td>\n",
              "      <td>-10.068</td>\n",
              "      <td>0.01170</td>\n",
              "      <td>2</td>\n",
              "      <td>0.0236</td>\n",
              "      <td>0.2790</td>\n",
              "      <td>0.682</td>\n",
              "      <td>0.0887</td>\n",
              "      <td>97.091</td>\n",
              "      <td>0.401</td>\n",
              "      <td>0.566</td>\n",
              "      <td>6</td>\n",
              "    </tr>\n",
              "    <tr>\n",
              "      <th>1</th>\n",
              "      <td>28</td>\n",
              "      <td>-4.739</td>\n",
              "      <td>0.00994</td>\n",
              "      <td>9</td>\n",
              "      <td>0.0442</td>\n",
              "      <td>0.0117</td>\n",
              "      <td>0.303</td>\n",
              "      <td>0.3470</td>\n",
              "      <td>135.225</td>\n",
              "      <td>0.880</td>\n",
              "      <td>0.404</td>\n",
              "      <td>1</td>\n",
              "    </tr>\n",
              "  </tbody>\n",
              "</table>\n",
              "</div>"
            ],
            "text/plain": [
              "   track_popularity  loudness  instrumentalness  key  speechiness  \\\n",
              "0                41   -10.068           0.01170    2       0.0236   \n",
              "1                28    -4.739           0.00994    9       0.0442   \n",
              "\n",
              "   acousticness  danceability  liveness    tempo  energy  valence  emotion  \n",
              "0        0.2790         0.682    0.0887   97.091   0.401    0.566        6  \n",
              "1        0.0117         0.303    0.3470  135.225   0.880    0.404        1  "
            ]
          },
          "metadata": {},
          "execution_count": 13
        }
      ]
    },
    {
      "cell_type": "code",
      "metadata": {
        "id": "PUNlxqKOIklG"
      },
      "source": [
        "#cols = ['language', 'playlist_genre']\n",
        "#df5[cols] = df5[cols].apply(LabelEncoder().fit_transform)"
      ],
      "execution_count": 14,
      "outputs": []
    },
    {
      "cell_type": "code",
      "metadata": {
        "id": "mDPWs3JO9gvP"
      },
      "source": [
        "df11 = df5"
      ],
      "execution_count": 15,
      "outputs": []
    },
    {
      "cell_type": "code",
      "metadata": {
        "id": "J7DROiWZ9vQB"
      },
      "source": [
        "df11['track_name'] = df4['track_name']\n",
        "df5 = df5.drop(['track_name'], axis=1)"
      ],
      "execution_count": 16,
      "outputs": []
    },
    {
      "cell_type": "code",
      "metadata": {
        "id": "eIIXCY014PaV"
      },
      "source": [
        "df12 = df11.set_index('track_name')"
      ],
      "execution_count": 17,
      "outputs": []
    },
    {
      "cell_type": "code",
      "metadata": {
        "id": "kVtiVv8S0rdE"
      },
      "source": [
        "#testdf1_1[cols] = testdf1_1[cols].apply(LabelEncoder().fit_transform)\n",
        "#testdf2_1[cols] = testdf2_1[cols].apply(LabelEncoder().fit_transform)\n",
        "#testdf3_1[cols] = testdf3_1[cols].apply(LabelEncoder().fit_transform)"
      ],
      "execution_count": 19,
      "outputs": []
    },
    {
      "cell_type": "code",
      "metadata": {
        "colab": {
          "base_uri": "https://localhost:8080/"
        },
        "id": "QAUoLLtugPJB",
        "outputId": "89dd5674-3396-4c3a-d4b4-1013ab3d8248"
      },
      "source": [
        "X, y = df5.iloc[:, :-1], df5.iloc[:, -1]\n",
        "X.shape"
      ],
      "execution_count": 20,
      "outputs": [
        {
          "output_type": "execute_result",
          "data": {
            "text/plain": [
              "(2490, 11)"
            ]
          },
          "metadata": {},
          "execution_count": 20
        }
      ]
    },
    {
      "cell_type": "code",
      "metadata": {
        "id": "G_EuCYFRRNWe"
      },
      "source": [
        "#strategy = {1:200, 2:120, 3:150, 4:100, 5:150,6:120, 7:70, 8:45 ,9:45 ,10:40}\n",
        "#oversample = SMOTE(sampling_strategy=strategy)\n",
        "#X, y = oversample.fit_resample(X, y)\n",
        "# summarize distribution\n",
        "#counter = Counter(y)\n",
        "#for k,v in counter.items():\n",
        "#\tper = v / len(y) * 100\n",
        "#\tprint('Class=%d, n=%d (%.3f%%)' % (k, v, per))\n",
        "# plot the distribution\n",
        "#pyplot.bar(counter.keys(), counter.values())\n",
        "#pyplot.show()"
      ],
      "execution_count": 21,
      "outputs": []
    },
    {
      "cell_type": "code",
      "metadata": {
        "id": "ROL4725RdsGn"
      },
      "source": [
        "#df6 = pd.DataFrame(X)\n",
        "#df6['emotion'] = y\n",
        "#df7 = df6.sample(frac=1)\n",
        "#df5 = df5.dropna()"
      ],
      "execution_count": 22,
      "outputs": []
    },
    {
      "cell_type": "code",
      "metadata": {
        "id": "JFK2TDoD92iv"
      },
      "source": [
        "df5.shape\n",
        "scaler = MinMaxScaler()"
      ],
      "execution_count": 23,
      "outputs": []
    },
    {
      "cell_type": "code",
      "metadata": {
        "colab": {
          "base_uri": "https://localhost:8080/"
        },
        "id": "2M3PlxrK31BH",
        "outputId": "efdfe527-b73d-4296-ed6c-4ba5b69bf98f"
      },
      "source": [
        "df5['emotion'].value_counts()"
      ],
      "execution_count": 24,
      "outputs": [
        {
          "output_type": "execute_result",
          "data": {
            "text/plain": [
              "1     749\n",
              "3     423\n",
              "2     362\n",
              "5     292\n",
              "6     215\n",
              "7     150\n",
              "4     126\n",
              "8      64\n",
              "10     57\n",
              "9      52\n",
              "Name: emotion, dtype: int64"
            ]
          },
          "metadata": {},
          "execution_count": 24
        }
      ]
    },
    {
      "cell_type": "code",
      "metadata": {
        "colab": {
          "base_uri": "https://localhost:8080/"
        },
        "id": "bvDcIONbwwND",
        "outputId": "27ab17fe-337f-4ebd-b48d-dcd38d52a253"
      },
      "source": [
        "train_data_001 = df5.iloc[:2304,2:10]\n",
        "train_data_01 = pd.DataFrame(scaler.fit_transform(train_data_001))\n",
        "train_data_length = len(train_data_01)\n",
        "train_data_01.shape"
      ],
      "execution_count": 25,
      "outputs": [
        {
          "output_type": "execute_result",
          "data": {
            "text/plain": [
              "(2304, 8)"
            ]
          },
          "metadata": {},
          "execution_count": 25
        }
      ]
    },
    {
      "cell_type": "code",
      "metadata": {
        "id": "xCCT98Y2V0ry",
        "colab": {
          "base_uri": "https://localhost:8080/"
        },
        "outputId": "413a7a42-69b4-47f1-a5b9-d982c13f8d7b"
      },
      "source": [
        "train_data_001.columns"
      ],
      "execution_count": 105,
      "outputs": [
        {
          "output_type": "execute_result",
          "data": {
            "text/plain": [
              "Index(['instrumentalness', 'key', 'speechiness', 'acousticness',\n",
              "       'danceability', 'liveness', 'tempo', 'energy'],\n",
              "      dtype='object')"
            ]
          },
          "metadata": {},
          "execution_count": 105
        }
      ]
    },
    {
      "cell_type": "code",
      "metadata": {
        "id": "DrydNko01Qiq"
      },
      "source": [
        "testdf1_2 = testdf1_1.iloc[:2304,2:10]\n",
        "testdf2_2 = testdf2_1.iloc[:2304,2:10]\n",
        "testdf3_2 = testdf3_1.iloc[:2304,2:10]\n",
        "df13 = df12.iloc[:2304,2:10]"
      ],
      "execution_count": 27,
      "outputs": []
    },
    {
      "cell_type": "code",
      "metadata": {
        "id": "RYgkcSwtvynh"
      },
      "source": [
        "train_data = torch.tensor(train_data_01.values.astype(np.float32))"
      ],
      "execution_count": 28,
      "outputs": []
    },
    {
      "cell_type": "code",
      "metadata": {
        "id": "9jGsD2Rf_5cZ"
      },
      "source": [
        "train_labels = torch.zeros(train_data_length)\n",
        "train_set = [\n",
        "    (train_data[i], train_labels[i]) for i in range(train_data_length)\n",
        "]"
      ],
      "execution_count": 29,
      "outputs": []
    },
    {
      "cell_type": "code",
      "metadata": {
        "id": "8Q_FlvWVCPeg"
      },
      "source": [
        "batch_size = 48\n",
        "train_loader = torch.utils.data.DataLoader(\n",
        "    train_set, batch_size=batch_size, shuffle=True\n",
        ")"
      ],
      "execution_count": 30,
      "outputs": []
    },
    {
      "cell_type": "code",
      "metadata": {
        "id": "oeGokWcnUNVo"
      },
      "source": [
        "class Discriminator(nn.Module):\n",
        "    def __init__(self):\n",
        "        super().__init__()\n",
        "        self.model = nn.Sequential(\n",
        "            nn.Linear(8, 256),\n",
        "            nn.ReLU(),\n",
        "            nn.Dropout(0.3),\n",
        "            nn.Linear(256, 128),\n",
        "            nn.ReLU(),\n",
        "            nn.Dropout(0.3),\n",
        "            nn.Linear(128, 64),\n",
        "            nn.ReLU(),\n",
        "            nn.Dropout(0.3),\n",
        "            nn.Linear(64, 1),\n",
        "            nn.Sigmoid(),\n",
        "        )\n",
        "\n",
        "    def forward(self, x):\n",
        "        output = self.model(x)\n",
        "        return output"
      ],
      "execution_count": 31,
      "outputs": []
    },
    {
      "cell_type": "code",
      "metadata": {
        "id": "w28gifmTe_Wa"
      },
      "source": [
        "discriminator = Discriminator()"
      ],
      "execution_count": 35,
      "outputs": []
    },
    {
      "cell_type": "code",
      "metadata": {
        "id": "3LaGfTJ1fFf9"
      },
      "source": [
        "class Generator(nn.Module):\n",
        "    def __init__(self):\n",
        "        super().__init__()\n",
        "        self.model = nn.Sequential(\n",
        "            nn.Linear(8, 48),\n",
        "            nn.ReLU(),\n",
        "            nn.Linear(48, 96),\n",
        "            nn.ReLU(),\n",
        "            nn.Linear(96, 8),\n",
        "        )\n",
        "\n",
        "    def forward(self, x):\n",
        "        output = self.model(x)\n",
        "        return output\n",
        "\n",
        "generator = Generator()"
      ],
      "execution_count": 32,
      "outputs": []
    },
    {
      "cell_type": "code",
      "metadata": {
        "id": "b3Lh9ZtEfPvG"
      },
      "source": [
        "lr = 0.001\n",
        "num_epochs = 500\n",
        "loss_function = nn.BCELoss()"
      ],
      "execution_count": 33,
      "outputs": []
    },
    {
      "cell_type": "code",
      "metadata": {
        "id": "vHk6r37kfWfA"
      },
      "source": [
        "optimizer_discriminator = torch.optim.Adam(discriminator.parameters(), lr=lr)\n",
        "optimizer_generator = torch.optim.Adam(generator.parameters(), lr=lr)"
      ],
      "execution_count": 36,
      "outputs": []
    },
    {
      "cell_type": "code",
      "metadata": {
        "id": "moL5w8QUPPFB"
      },
      "source": [
        "# list for final generated samples\n",
        "final_generated_samples=[]\n",
        "final_generated_samples_list=[]\n",
        "losses_g =[]\n",
        "losses_d = []\n",
        "labels = []\n",
        "pred = []\n",
        "true = []"
      ],
      "execution_count": 37,
      "outputs": []
    },
    {
      "cell_type": "code",
      "metadata": {
        "id": "W0Zee1zVehN2"
      },
      "source": [
        "#len(labels[0])"
      ],
      "execution_count": 38,
      "outputs": []
    },
    {
      "cell_type": "code",
      "metadata": {
        "colab": {
          "base_uri": "https://localhost:8080/"
        },
        "id": "M3oKJHuuffeK",
        "outputId": "0fdacdb4-bd9b-447c-b2e2-44120d6ee2fb"
      },
      "source": [
        "for epoch in range(num_epochs):\n",
        "    for n, (real_samples, _) in enumerate(train_loader):\n",
        "        # Data for training the discriminator\n",
        "        real_samples_labels = torch.ones((batch_size, 1))\n",
        "        latent_space_samples = torch.rand((batch_size, 8))\n",
        "        generated_samples = generator(latent_space_samples)\n",
        "        generated_samples_labels = torch.zeros((batch_size, 1))\n",
        "        all_samples = torch.cat((real_samples, generated_samples))\n",
        "        all_samples_labels = torch.cat(\n",
        "            (real_samples_labels, generated_samples_labels)\n",
        "        )\n",
        "\n",
        "        # Training the discriminator\n",
        "        discriminator.zero_grad()\n",
        "        output_discriminator = discriminator(all_samples)\n",
        "        loss_discriminator = loss_function(\n",
        "            output_discriminator, all_samples_labels)\n",
        "        loss_discriminator.backward()\n",
        "        optimizer_discriminator.step()\n",
        "\n",
        "\n",
        "        # Data for training the generator\n",
        "        latent_space_samples = torch.rand((batch_size, 8))\n",
        "\n",
        "        # Training the generator\n",
        "        generator.zero_grad()\n",
        "        generated_samples = generator(latent_space_samples)\n",
        "        output_discriminator_generated = discriminator(generated_samples)\n",
        "        loss_generator = loss_function(\n",
        "            output_discriminator_generated, real_samples_labels\n",
        "        )\n",
        "        loss_generator.backward()\n",
        "        optimizer_generator.step()\n",
        "\n",
        "        losses_g.append(loss_generator)\n",
        "        losses_d.append(loss_discriminator)\n",
        "\n",
        "        labels.append(all_samples_labels)\n",
        "        pred.append(output_discriminator)\n",
        "        true.append(all_samples)\n",
        "\n",
        "        # Show loss\n",
        "        if epoch % 10 == 0 and n == batch_size - 1:\n",
        "            final_generated_samples.append(generated_samples[0])\n",
        "            print(f\"Epoch: {epoch} Loss D.: {loss_discriminator}\")\n",
        "            print(f\"Epoch: {epoch} Loss G.: {loss_generator}\")\n",
        "            "
      ],
      "execution_count": 39,
      "outputs": [
        {
          "output_type": "stream",
          "name": "stdout",
          "text": [
            "Epoch: 0 Loss D.: 0.5711684226989746\n",
            "Epoch: 0 Loss G.: 1.3827133178710938\n",
            "Epoch: 10 Loss D.: 0.17391057312488556\n",
            "Epoch: 10 Loss G.: 1.9595088958740234\n",
            "Epoch: 20 Loss D.: 0.9061892032623291\n",
            "Epoch: 20 Loss G.: 1.4090290069580078\n",
            "Epoch: 30 Loss D.: 0.5201664566993713\n",
            "Epoch: 30 Loss G.: 1.0727721452713013\n",
            "Epoch: 40 Loss D.: 0.5792517066001892\n",
            "Epoch: 40 Loss G.: 0.893984317779541\n",
            "Epoch: 50 Loss D.: 0.5271468162536621\n",
            "Epoch: 50 Loss G.: 0.9335513710975647\n",
            "Epoch: 60 Loss D.: 0.6135764718055725\n",
            "Epoch: 60 Loss G.: 0.9160196185112\n",
            "Epoch: 70 Loss D.: 0.6809661984443665\n",
            "Epoch: 70 Loss G.: 0.7698032855987549\n",
            "Epoch: 80 Loss D.: 0.6140129566192627\n",
            "Epoch: 80 Loss G.: 0.9570110440254211\n",
            "Epoch: 90 Loss D.: 0.4222365617752075\n",
            "Epoch: 90 Loss G.: 0.9916996955871582\n",
            "Epoch: 100 Loss D.: 0.5224193930625916\n",
            "Epoch: 100 Loss G.: 1.0107275247573853\n",
            "Epoch: 110 Loss D.: 0.5956065058708191\n",
            "Epoch: 110 Loss G.: 0.8440878987312317\n",
            "Epoch: 120 Loss D.: 0.6321251392364502\n",
            "Epoch: 120 Loss G.: 0.8298801779747009\n",
            "Epoch: 130 Loss D.: 0.6927776336669922\n",
            "Epoch: 130 Loss G.: 0.7875956892967224\n",
            "Epoch: 140 Loss D.: 0.2734830379486084\n",
            "Epoch: 140 Loss G.: 1.616247534751892\n",
            "Epoch: 150 Loss D.: 0.7051079869270325\n",
            "Epoch: 150 Loss G.: 0.8720281720161438\n",
            "Epoch: 160 Loss D.: 0.5551795363426208\n",
            "Epoch: 160 Loss G.: 1.1048136949539185\n",
            "Epoch: 170 Loss D.: 0.5530983209609985\n",
            "Epoch: 170 Loss G.: 1.0722073316574097\n",
            "Epoch: 180 Loss D.: 0.5760368704795837\n",
            "Epoch: 180 Loss G.: 1.1001068353652954\n",
            "Epoch: 190 Loss D.: 0.5998823642730713\n",
            "Epoch: 190 Loss G.: 0.9043739438056946\n",
            "Epoch: 200 Loss D.: 0.5269176363945007\n",
            "Epoch: 200 Loss G.: 0.936656653881073\n",
            "Epoch: 210 Loss D.: 0.5742108225822449\n",
            "Epoch: 210 Loss G.: 1.1425979137420654\n",
            "Epoch: 220 Loss D.: 0.6167849898338318\n",
            "Epoch: 220 Loss G.: 0.8446534276008606\n",
            "Epoch: 230 Loss D.: 0.6035211086273193\n",
            "Epoch: 230 Loss G.: 1.1044971942901611\n",
            "Epoch: 240 Loss D.: 0.5099108815193176\n",
            "Epoch: 240 Loss G.: 1.4499622583389282\n",
            "Epoch: 250 Loss D.: 0.6191429495811462\n",
            "Epoch: 250 Loss G.: 1.0700525045394897\n",
            "Epoch: 260 Loss D.: 0.5874778628349304\n",
            "Epoch: 260 Loss G.: 0.9092667102813721\n",
            "Epoch: 270 Loss D.: 0.747727632522583\n",
            "Epoch: 270 Loss G.: 0.9621818661689758\n",
            "Epoch: 280 Loss D.: 0.6814672350883484\n",
            "Epoch: 280 Loss G.: 0.7581804394721985\n",
            "Epoch: 290 Loss D.: 0.6615721583366394\n",
            "Epoch: 290 Loss G.: 0.7399010062217712\n",
            "Epoch: 300 Loss D.: 0.6114563345909119\n",
            "Epoch: 300 Loss G.: 0.7654603123664856\n",
            "Epoch: 310 Loss D.: 0.6333011984825134\n",
            "Epoch: 310 Loss G.: 0.8431362509727478\n",
            "Epoch: 320 Loss D.: 0.6759887337684631\n",
            "Epoch: 320 Loss G.: 0.7660381197929382\n",
            "Epoch: 330 Loss D.: 0.7315036654472351\n",
            "Epoch: 330 Loss G.: 0.8281011581420898\n",
            "Epoch: 340 Loss D.: 0.6498293280601501\n",
            "Epoch: 340 Loss G.: 0.7992832064628601\n",
            "Epoch: 350 Loss D.: 0.5889105200767517\n",
            "Epoch: 350 Loss G.: 1.1878117322921753\n",
            "Epoch: 360 Loss D.: 0.7220575213432312\n",
            "Epoch: 360 Loss G.: 0.9114057421684265\n",
            "Epoch: 370 Loss D.: 0.647958517074585\n",
            "Epoch: 370 Loss G.: 0.7526147365570068\n",
            "Epoch: 380 Loss D.: 0.6911496520042419\n",
            "Epoch: 380 Loss G.: 0.751218318939209\n",
            "Epoch: 390 Loss D.: 0.6682475209236145\n",
            "Epoch: 390 Loss G.: 0.7267961502075195\n",
            "Epoch: 400 Loss D.: 0.7743785977363586\n",
            "Epoch: 400 Loss G.: 0.8777332305908203\n",
            "Epoch: 410 Loss D.: 0.6217922568321228\n",
            "Epoch: 410 Loss G.: 0.9485532641410828\n",
            "Epoch: 420 Loss D.: 0.6855790019035339\n",
            "Epoch: 420 Loss G.: 0.7713763117790222\n",
            "Epoch: 430 Loss D.: 0.6934773921966553\n",
            "Epoch: 430 Loss G.: 0.682476818561554\n",
            "Epoch: 440 Loss D.: 0.6150960326194763\n",
            "Epoch: 440 Loss G.: 0.9108099341392517\n",
            "Epoch: 450 Loss D.: 0.622416079044342\n",
            "Epoch: 450 Loss G.: 0.8168034553527832\n",
            "Epoch: 460 Loss D.: 0.709008514881134\n",
            "Epoch: 460 Loss G.: 0.6606733798980713\n",
            "Epoch: 470 Loss D.: 0.7033758163452148\n",
            "Epoch: 470 Loss G.: 0.7524445056915283\n",
            "Epoch: 480 Loss D.: 0.618926465511322\n",
            "Epoch: 480 Loss G.: 1.0767260789871216\n",
            "Epoch: 490 Loss D.: 0.6475202441215515\n",
            "Epoch: 490 Loss G.: 0.8217616677284241\n"
          ]
        }
      ]
    },
    {
      "cell_type": "code",
      "metadata": {
        "colab": {
          "base_uri": "https://localhost:8080/",
          "height": 265
        },
        "id": "hs5paGQUO03N",
        "outputId": "3d60071b-ec47-45d1-ec52-6d7ee7128d85"
      },
      "source": [
        "# plot and save the generator and discriminator loss\n",
        "plt.figure()\n",
        "plt.plot(losses_g, label='Generator loss')\n",
        "plt.plot(losses_d, label='Discriminator Loss')\n",
        "plt.legend()\n",
        "plt.show()"
      ],
      "execution_count": 40,
      "outputs": [
        {
          "output_type": "display_data",
          "data": {
            "image/png": "[encoded data removed]",
            "text/plain": [
              "<Figure size 432x288 with 1 Axes>"
            ]
          },
          "metadata": {
            "needs_background": "light"
          }
        }
      ]
    },
    {
      "cell_type": "code",
      "metadata": {
        "id": "m6LUuQD1uz2F"
      },
      "source": [
        "# make a dataframe for sample list\n",
        "for i in final_generated_samples:\n",
        "  a = i.detach().numpy()\n",
        "  final_generated_samples_list.append(a)\n",
        "final_generated_samples_df = pd.DataFrame(final_generated_samples_list)"
      ],
      "execution_count": 41,
      "outputs": []
    },
    {
      "cell_type": "code",
      "metadata": {
        "id": "xNZjGkXgiNGL",
        "colab": {
          "base_uri": "https://localhost:8080/"
        },
        "outputId": "20f56427-c79f-4a5f-807d-b1741b282507"
      },
      "source": [
        "latent_space_samples[:10]"
      ],
      "execution_count": 42,
      "outputs": [
        {
          "output_type": "execute_result",
          "data": {
            "text/plain": [
              "tensor([[0.3681, 0.4608, 0.1428, 0.3626, 0.0021, 0.6429, 0.8829, 0.8742],\n",
              "        [0.1120, 0.3651, 0.6460, 0.2865, 0.8711, 0.7003, 0.2160, 0.2454],\n",
              "        [0.3253, 0.8460, 0.2112, 0.7055, 0.5540, 0.4625, 0.6231, 0.1664],\n",
              "        [0.7811, 0.3198, 0.3203, 0.2612, 0.3858, 0.1036, 0.8873, 0.0971],\n",
              "        [0.0632, 0.0448, 0.2086, 0.6871, 0.8899, 0.3130, 0.1804, 0.6396],\n",
              "        [0.6930, 0.6223, 0.8347, 0.1042, 0.6584, 0.4367, 0.2461, 0.6796],\n",
              "        [0.4685, 0.2073, 0.2499, 0.9653, 0.8277, 0.2952, 0.9468, 0.5921],\n",
              "        [0.7340, 0.6943, 0.6005, 0.0108, 0.5259, 0.8526, 0.0573, 0.0234],\n",
              "        [0.4572, 0.6226, 0.4400, 0.9448, 0.5035, 0.5284, 0.1484, 0.7269],\n",
              "        [0.6253, 0.2470, 0.1656, 0.1544, 0.3528, 0.7409, 0.2567, 0.9112]])"
            ]
          },
          "metadata": {},
          "execution_count": 42
        }
      ]
    },
    {
      "cell_type": "code",
      "metadata": {
        "id": "4tvxpDe3Za9d",
        "colab": {
          "base_uri": "https://localhost:8080/",
          "height": 282
        },
        "outputId": "dd759487-1067-41e9-ca61-cc46a9bafc38"
      },
      "source": [
        "#plot of two variables from generated samples\n",
        "plt.plot(final_generated_samples_df.iloc[:, 6], \n",
        "         final_generated_samples_df.iloc[:, 3], \".\")"
      ],
      "execution_count": 43,
      "outputs": [
        {
          "output_type": "execute_result",
          "data": {
            "text/plain": [
              "[<matplotlib.lines.Line2D at 0x7f3730da80d0>]"
            ]
          },
          "metadata": {},
          "execution_count": 43
        },
        {
          "output_type": "display_data",
          "data": {
            "image/png": "[encoded data removed]",
            "text/plain": [
              "<Figure size 432x288 with 1 Axes>"
            ]
          },
          "metadata": {
            "needs_background": "light"
          }
        }
      ]
    },
    {
      "cell_type": "code",
      "metadata": {
        "id": "XIMG5PoX06OX"
      },
      "source": [
        "from scipy.spatial import distance"
      ],
      "execution_count": 44,
      "outputs": []
    },
    {
      "cell_type": "code",
      "metadata": {
        "id": "RycK3PK_zDW0"
      },
      "source": [
        "float_x = real_samples[0].double()"
      ],
      "execution_count": 45,
      "outputs": []
    },
    {
      "cell_type": "code",
      "metadata": {
        "id": "Y6D_uRDmDsKS"
      },
      "source": [
        "float_x = list(float_x.numpy())"
      ],
      "execution_count": 46,
      "outputs": []
    },
    {
      "cell_type": "markdown",
      "metadata": {
        "id": "mP59c_ZQqUKQ"
      },
      "source": [
        ""
      ]
    },
    {
      "cell_type": "code",
      "metadata": {
        "id": "rf0t9hUt7Wc4",
        "colab": {
          "base_uri": "https://localhost:8080/"
        },
        "outputId": "deba0116-d79f-4119-f1ee-b97b4c1b5593"
      },
      "source": [
        "# Cosine similarity\n",
        "def square_rooted(x):\n",
        "   return round(math.sqrt(sum([a*a for a in x])),3)\n",
        "  \n",
        "def cosine_similarity(x,y):\n",
        " numerator = sum(a*b for a,b in zip(x,y))\n",
        " denominator = square_rooted(x)*square_rooted(y)\n",
        " return round(numerator/float(denominator),3)\n",
        "  \n",
        "print(cosine_similarity(final_generated_samples_df[0],float_x))"
      ],
      "execution_count": 47,
      "outputs": [
        {
          "output_type": "stream",
          "name": "stdout",
          "text": [
            "0.378\n"
          ]
        }
      ]
    },
    {
      "cell_type": "code",
      "metadata": {
        "id": "vP1mzbkc79ik",
        "colab": {
          "base_uri": "https://localhost:8080/"
        },
        "outputId": "b7c1547b-72c3-46f8-a6d8-973a11c2a1ce"
      },
      "source": [
        "#Jaccard similarity\n",
        "from math import*\n",
        "  \n",
        "def jaccard_similarity(x,y):\n",
        " intersection_cardinality = len(set.intersection(*[set(x), set(y)]))\n",
        " union_cardinality = len(set.union(*[set(x), set(y)]))\n",
        " return intersection_cardinality/float(union_cardinality)\n",
        "print(jaccard_similarity([0,1,2,5,6],[0,2,3,5,7,9]))"
      ],
      "execution_count": 48,
      "outputs": [
        {
          "output_type": "stream",
          "name": "stdout",
          "text": [
            "0.375\n"
          ]
        }
      ]
    },
    {
      "cell_type": "code",
      "metadata": {
        "id": "NP3So0XD8g60"
      },
      "source": [
        "import numpy as np\n",
        "import pandas as pd\n",
        "from sklearn.metrics import jaccard_score\n",
        "from sklearn.metrics.pairwise import pairwise_distances,cosine_similarity"
      ],
      "execution_count": 49,
      "outputs": []
    },
    {
      "cell_type": "code",
      "metadata": {
        "id": "DCwHlEBVHgow"
      },
      "source": [
        "df9 = pd.DataFrame(scaler.inverse_transform(final_generated_samples_df))\n",
        "df10 = pd.DataFrame(scaler.inverse_transform(train_data_01))"
      ],
      "execution_count": 50,
      "outputs": []
    },
    {
      "cell_type": "code",
      "metadata": {
        "id": "ji0flvFOBhuS"
      },
      "source": [
        "generated_vals2=[]\n",
        "for i, j in df9.iterrows():\n",
        "  generated_vals2.append(j.values)\n",
        "\n",
        "generated_vals3 = generated_vals2[:10]\n",
        "\n",
        "train_data_vals2=[]\n",
        "for i, j in train_data_001.iterrows():\n",
        "  train_data_vals2.append(j.values)\n"
      ],
      "execution_count": 51,
      "outputs": []
    },
    {
      "cell_type": "markdown",
      "metadata": {
        "id": "uxYm6GBjoZG6"
      },
      "source": [
        ""
      ]
    },
    {
      "cell_type": "code",
      "metadata": {
        "id": "cM4Kbd01UDeF"
      },
      "source": [
        "def cos_similarity(x,d):\n",
        "  recommended = []  \n",
        "  for i in d:\n",
        "    a = cosine_similarity([x],[i])\n",
        "    recommended.append(a)\n",
        "  rec_score=max(recommended)\n",
        "  rec_index = recommended.index(rec_score)\n",
        "  rec_cos.append(rec_score)\n",
        "  rec_idx = df13.index[rec_index]\n",
        "  cos_name.append(rec_idx)\n",
        "  rec_len = len(recommended)\n",
        "  results1.append(['index:',rec_idx,'; cos sim:',rec_score])"
      ],
      "execution_count": 52,
      "outputs": []
    },
    {
      "cell_type": "code",
      "metadata": {
        "id": "8GyLH48C0vPM"
      },
      "source": [
        "def euclid_similarity(x,d):\n",
        "  recommended = []  \n",
        "  for i in d:\n",
        "    a = distance.euclidean([x],[i])\n",
        "    recommended.append(a)\n",
        "  rec_score=min(recommended)\n",
        "  rec_index = recommended.index(rec_score)\n",
        "  rec_euc.append(rec_score)\n",
        "  rec_idx = df13.index[rec_index]\n",
        "  euc_name.append(rec_idx)\n",
        "  rec_len = len(recommended)\n",
        "  results2.append(['index:',rec_idx,'; euclid sim:',rec_score])"
      ],
      "execution_count": 53,
      "outputs": []
    },
    {
      "cell_type": "code",
      "metadata": {
        "id": "j527TRLHyY2x",
        "colab": {
          "base_uri": "https://localhost:8080/"
        },
        "outputId": "f803db40-891e-4257-eba3-59f923468fb8"
      },
      "source": [
        "dst = distance.euclidean(final_generated_samples_df.iloc[0,:].values,float_x)\n",
        "print('Euclidean distance: %.3f' % dst)"
      ],
      "execution_count": 54,
      "outputs": [
        {
          "output_type": "stream",
          "name": "stdout",
          "text": [
            "Euclidean distance: 1.549\n"
          ]
        }
      ]
    },
    {
      "cell_type": "code",
      "metadata": {
        "id": "I5WphA_0Z9zV"
      },
      "source": [
        "# pick recommendations with cosine similarity\n",
        "results1 =[]\n",
        "cos_name =[]\n",
        "rec_cos = []\n",
        "for i in generated_vals2:\n",
        "  a = cos_similarity(i,train_data_vals2)"
      ],
      "execution_count": 55,
      "outputs": []
    },
    {
      "cell_type": "code",
      "metadata": {
        "id": "iqO0J7Zlq2G_"
      },
      "source": [
        "cols2 = ['language']\n",
        "cos_rec =  df4[df4['track_name'].isin(cos_name)]\n",
        "cos_rec2 = cos_rec.drop(['playlist_id','track_id','track_name','track_artist'], axis=1)\n",
        "#cos_rec2[cols2] = cos_rec2[cols2].apply(LabelEncoder().fit_transform)\n",
        "cos_rec3 = cos_rec2.iloc[:2304,2:10]"
      ],
      "execution_count": 56,
      "outputs": []
    },
    {
      "cell_type": "code",
      "metadata": {
        "id": "QDk6KhE433zB"
      },
      "source": [
        "cos_rec4=[]\n",
        "for i, j in cos_rec3.iterrows():\n",
        "  cos_rec4.append(j.values)"
      ],
      "execution_count": 57,
      "outputs": []
    },
    {
      "cell_type": "code",
      "metadata": {
        "id": "nC-_WcnkFKkQ"
      },
      "source": [
        "cos_rec3['track_name'] = df4['track_name']\n",
        "cos_rec5 = cos_rec3.set_index('track_name')"
      ],
      "execution_count": 58,
      "outputs": []
    },
    {
      "cell_type": "code",
      "metadata": {
        "id": "epyouEYb0LlZ"
      },
      "source": [
        "rec_cose=[]\n",
        "for i in rec_cos:\n",
        "  rec_cose.append(i[0][0])"
      ],
      "execution_count": 59,
      "outputs": []
    },
    {
      "cell_type": "code",
      "metadata": {
        "id": "I9txVZCn1Me7"
      },
      "source": [
        "# pick recommendations with euclidean similarity\n",
        "results2 =[]\n",
        "euc_name =[]\n",
        "rec_euc = []\n",
        "for i in generated_vals2:\n",
        "  a = euclid_similarity(i,train_data_vals2)"
      ],
      "execution_count": 60,
      "outputs": []
    },
    {
      "cell_type": "code",
      "metadata": {
        "id": "3TOBzgYDw_6q"
      },
      "source": [
        "euc_rec =  df4[df4['track_name'].isin(euc_name)]\n",
        "euc_rec2 = euc_rec.drop(['playlist_id','track_id','track_name','track_artist'], axis=1)\n",
        "#euc_rec2[cols2] = euc_rec2[cols2].apply(LabelEncoder().fit_transform)\n",
        "euc_rec3 = euc_rec2.iloc[:2304,2:10]"
      ],
      "execution_count": 61,
      "outputs": []
    },
    {
      "cell_type": "code",
      "metadata": {
        "id": "FFxwgPxVGu66"
      },
      "source": [
        "euc_rec4=[]\n",
        "for i, j in euc_rec3.iterrows():\n",
        "  euc_rec4.append(j.values)"
      ],
      "execution_count": 62,
      "outputs": []
    },
    {
      "cell_type": "code",
      "metadata": {
        "id": "HMl2sYUOGE7M"
      },
      "source": [
        "euc_rec3['track_name'] = df4['track_name']\n",
        "euc_rec5 = euc_rec3.set_index('track_name')"
      ],
      "execution_count": 63,
      "outputs": []
    },
    {
      "cell_type": "code",
      "metadata": {
        "id": "SR1wtnOQsprP"
      },
      "source": [
        "testdf1_3 = testdf1_2\n",
        "testdf1_3['track_name'] = testdf1['track_name']\n",
        "testdf1_3 = testdf1_3.set_index('track_name')\n",
        "\n",
        "testdf2_3 = testdf2_2\n",
        "testdf2_3['track_name'] = testdf2['track_name']\n",
        "testdf2_3 = testdf2_3.set_index('track_name')\n",
        "\n",
        "testdf3_3 = testdf3_2\n",
        "testdf3_3['track_name'] = testdf3['track_name']\n",
        "testdf3_3 = testdf3_3.set_index('track_name')"
      ],
      "execution_count": 64,
      "outputs": []
    },
    {
      "cell_type": "code",
      "metadata": {
        "id": "C976IH3Y745-"
      },
      "source": [
        "test_data1 = testdf1_3.values\n",
        "test_data2 = testdf2_3.values\n",
        "test_data3 = testdf3_3.values"
      ],
      "execution_count": 65,
      "outputs": []
    },
    {
      "cell_type": "code",
      "metadata": {
        "id": "XWRXAtgRfQB_"
      },
      "source": [
        "def cos_similarity_t1(x,d):\n",
        "  recommended = []  \n",
        "  for i in d:\n",
        "    a = cosine_similarity([x],[i])\n",
        "    recommended.append(a)\n",
        "  rec_score=max(recommended)\n",
        "  rec_index = recommended.index(rec_score)\n",
        "  rec_cosT1.append(rec_score)\n",
        "  rec_idx = cos_rec5.index[rec_index]\n",
        "  cost1_name.append(rec_idx)\n",
        "  rec_len = len(recommended)\n",
        "  print('len train data:',rec_len,'; index:',rec_idx,'; cos sim:',rec_score)\n",
        "\n",
        "def euclid_similarity_t1(x,d):\n",
        "  recommended = []  \n",
        "  for i in d:\n",
        "    a = distance.euclidean([x],[i])\n",
        "    recommended.append(a)\n",
        "  rec_score=min(recommended)\n",
        "  rec_index = recommended.index(rec_score)\n",
        "  rec_eucT1.append(rec_score)\n",
        "  rec_idx = euc_rec5.index[rec_index]\n",
        "  euct1_name.append(rec_idx)\n",
        "  rec_len = len(recommended)\n",
        "  print('len train data:',rec_len,'; index:',rec_idx,'; euclid sim:',rec_score)"
      ],
      "execution_count": 66,
      "outputs": []
    },
    {
      "cell_type": "code",
      "metadata": {
        "id": "v3iYXkcX8QJr",
        "colab": {
          "base_uri": "https://localhost:8080/"
        },
        "outputId": "e9e4a6e1-50a6-444f-927d-eca05ec15be6"
      },
      "source": [
        "#compare recomendations to test subjects\n",
        "cost1_name = []\n",
        "rec_cosT1 = []\n",
        "for i in test_data1:\n",
        "  a = cos_similarity_t1(i,cos_rec4)"
      ],
      "execution_count": 67,
      "outputs": [
        {
          "output_type": "stream",
          "name": "stdout",
          "text": [
            "len train data: 50 ; index: Missing You ; cos sim: [[0.99998826]]\n",
            "len train data: 50 ; index: Freddy Krueger (feat. Tee Grizzley) ; cos sim: [[0.99999797]]\n",
            "len train data: 50 ; index: Domino - 1999 Remaster ; cos sim: [[0.99999233]]\n",
            "len train data: 50 ; index: Bandito ; cos sim: [[0.99997466]]\n",
            "len train data: 50 ; index: Bored ; cos sim: [[0.99999019]]\n",
            "len train data: 50 ; index: Domino - 1999 Remaster ; cos sim: [[0.99997069]]\n",
            "len train data: 50 ; index: All on Me ; cos sim: [[0.99999245]]\n",
            "len train data: 50 ; index: XLR ; cos sim: [[0.99998801]]\n",
            "len train data: 50 ; index: Aprovecha (feat. Daddy Yankee) ; cos sim: [[0.99999494]]\n",
            "len train data: 50 ; index: UnFazed (feat. The Weeknd) ; cos sim: [[0.99999653]]\n"
          ]
        }
      ]
    },
    {
      "cell_type": "code",
      "metadata": {
        "id": "OgQfUT3W3nZ4"
      },
      "source": [
        "rec_coseT1=[]\n",
        "for i in rec_cosT1:\n",
        "  rec_coseT1.append(i[0][0])"
      ],
      "execution_count": 68,
      "outputs": []
    },
    {
      "cell_type": "code",
      "metadata": {
        "id": "4vwnG9_x-1Gy",
        "colab": {
          "base_uri": "https://localhost:8080/"
        },
        "outputId": "9e066984-a797-474f-fdae-424f48d7d715"
      },
      "source": [
        "euct1_name = []\n",
        "rec_eucT1 = []\n",
        "for i in test_data1:\n",
        "  a = euclid_similarity_t1(i,euc_rec4)"
      ],
      "execution_count": 69,
      "outputs": [
        {
          "output_type": "stream",
          "name": "stdout",
          "text": [
            "len train data: 55 ; index: Just Can't Get Enough ; euclid sim: 2.407115927827317\n",
            "len train data: 55 ; index: Aquarius / Let the Sunshine In (The Flesh Failures) [Remastered] ; euclid sim: 2.1227171705387295\n",
            "len train data: 55 ; index: Higher Ground ; euclid sim: 4.428556579981792\n",
            "len train data: 55 ; index: Aquarius / Let the Sunshine In (The Flesh Failures) [Remastered] ; euclid sim: 2.197995593739894\n",
            "len train data: 55 ; index: What Child Is This ; euclid sim: 1.133499480833143\n",
            "len train data: 55 ; index: In Only Seven Days - Remastered 2011 ; euclid sim: 1.250204570333929\n",
            "len train data: 55 ; index: Paradise - TiÃ«sto Remix ; euclid sim: 2.2072286900092637\n",
            "len train data: 55 ; index: Jungle ; euclid sim: 0.0\n",
            "len train data: 55 ; index: Ronca ; euclid sim: 4.4912641608460175\n",
            "len train data: 55 ; index: Genie in a Bottle ; euclid sim: 1.4601177966224683\n"
          ]
        }
      ]
    },
    {
      "cell_type": "code",
      "metadata": {
        "colab": {
          "base_uri": "https://localhost:8080/"
        },
        "id": "Xq65SaXfNzLs",
        "outputId": "66ed4791-fc74-440a-8860-b428fbd29fbc"
      },
      "source": [
        "euct1_name"
      ],
      "execution_count": 108,
      "outputs": [
        {
          "output_type": "execute_result",
          "data": {
            "text/plain": [
              "[\"Just Can't Get Enough\",\n",
              " 'Aquarius / Let the Sunshine In (The Flesh Failures) [Remastered]',\n",
              " 'Higher Ground',\n",
              " 'Aquarius / Let the Sunshine In (The Flesh Failures) [Remastered]',\n",
              " 'What Child Is This',\n",
              " 'In Only Seven Days - Remastered 2011',\n",
              " 'Paradise - TiÃ«sto Remix',\n",
              " 'Jungle',\n",
              " 'Ronca',\n",
              " 'Genie in a Bottle']"
            ]
          },
          "metadata": {},
          "execution_count": 108
        }
      ]
    },
    {
      "cell_type": "code",
      "metadata": {
        "colab": {
          "base_uri": "https://localhost:8080/"
        },
        "id": "RPK23v_x8G5Z",
        "outputId": "7381f444-2f68-4236-b3dc-e33345fdd403"
      },
      "source": [
        "rec_eucT1"
      ],
      "execution_count": 70,
      "outputs": [
        {
          "output_type": "execute_result",
          "data": {
            "text/plain": [
              "[2.407115927827317,\n",
              " 2.1227171705387295,\n",
              " 4.428556579981792,\n",
              " 2.197995593739894,\n",
              " 1.133499480833143,\n",
              " 1.250204570333929,\n",
              " 2.2072286900092637,\n",
              " 0.0,\n",
              " 4.4912641608460175,\n",
              " 1.4601177966224683]"
            ]
          },
          "metadata": {},
          "execution_count": 70
        }
      ]
    },
    {
      "cell_type": "code",
      "metadata": {
        "id": "a9IAbe8_f5MT"
      },
      "source": [
        "def cos_similarity_t2(x,d):\n",
        "  recommended = []  \n",
        "  for i in d:\n",
        "    a = cosine_similarity([x],[i])\n",
        "    recommended.append(a)\n",
        "  rec_score=max(recommended)\n",
        "  rec_index = recommended.index(rec_score)\n",
        "  rec_cosT2.append(rec_score)\n",
        "  rec_idx = cos_rec5.index[rec_index]\n",
        "  cost2_name.append(rec_idx)\n",
        "  rec_len = len(recommended)\n",
        "  print('len train data:',rec_len,'; index:',rec_idx,'; cos sim:',rec_score)\n",
        "\n",
        "def euclid_similarity_t2(x,d):\n",
        "  recommended = []  \n",
        "  for i in d:\n",
        "    a = distance.euclidean([x],[i])\n",
        "    recommended.append(a)\n",
        "  rec_score=min(recommended)\n",
        "  rec_index = recommended.index(rec_score)\n",
        "  rec_eucT2.append(rec_score)\n",
        "  rec_idx = euc_rec5.index[rec_index]\n",
        "  euct2_name.append(rec_idx)\n",
        "  rec_len = len(recommended)\n",
        "  print('len train data:',rec_len,'; index:',rec_idx,'; euclid sim:',rec_score)"
      ],
      "execution_count": 71,
      "outputs": []
    },
    {
      "cell_type": "code",
      "metadata": {
        "id": "CYriMM1ck4Gx",
        "colab": {
          "base_uri": "https://localhost:8080/"
        },
        "outputId": "3bf23413-0b92-4394-ca2f-bc4b8980d8ca"
      },
      "source": [
        "#compare recomendations to test subjects\n",
        "cost2_name = []\n",
        "rec_cosT2 = []\n",
        "for i in test_data2:\n",
        "  a = cos_similarity_t2(i,cos_rec4)"
      ],
      "execution_count": 72,
      "outputs": [
        {
          "output_type": "stream",
          "name": "stdout",
          "text": [
            "len train data: 50 ; index: Remember (Original Mix) ; cos sim: [[0.99999362]]\n",
            "len train data: 50 ; index: With Or Without You - Kage Remix ; cos sim: [[0.99999657]]\n",
            "len train data: 50 ; index: UnFazed (feat. The Weeknd) ; cos sim: [[0.99999592]]\n",
            "len train data: 50 ; index: Remember (Original Mix) ; cos sim: [[0.99999464]]\n",
            "len train data: 50 ; index: Missing You ; cos sim: [[0.99999521]]\n",
            "len train data: 50 ; index: Missing You ; cos sim: [[0.99998724]]\n",
            "len train data: 50 ; index: Bette Davis Eyes ; cos sim: [[0.9999859]]\n",
            "len train data: 50 ; index: blun7 a swishland ; cos sim: [[0.99999016]]\n",
            "len train data: 50 ; index: Loudspeaker ; cos sim: [[0.99998114]]\n",
            "len train data: 50 ; index: Cha Cha Cha ; cos sim: [[1.]]\n",
            "len train data: 50 ; index: A Warrior's Call ; cos sim: [[0.99998746]]\n",
            "len train data: 50 ; index: London ; cos sim: [[0.9999952]]\n",
            "len train data: 50 ; index: Bandito ; cos sim: [[0.99997621]]\n",
            "len train data: 50 ; index: Missing You ; cos sim: [[0.99999358]]\n",
            "len train data: 50 ; index: Something - Remastered 2009 ; cos sim: [[0.9999852]]\n",
            "len train data: 50 ; index: Flatline ; cos sim: [[0.99996978]]\n",
            "len train data: 50 ; index: It's So Hard To Say Goodbye To Yesterday - Original Version ; cos sim: [[1.]]\n"
          ]
        }
      ]
    },
    {
      "cell_type": "code",
      "metadata": {
        "colab": {
          "base_uri": "https://localhost:8080/"
        },
        "id": "3bf8DG6pn7Q2",
        "outputId": "6268be0e-d363-404f-994b-1c9bb20eb617"
      },
      "source": [
        "cost2_name"
      ],
      "execution_count": 115,
      "outputs": [
        {
          "output_type": "execute_result",
          "data": {
            "text/plain": [
              "['Remember (Original Mix)',\n",
              " 'With Or Without You - Kage Remix',\n",
              " 'UnFazed (feat. The Weeknd)',\n",
              " 'Remember (Original Mix)',\n",
              " 'Missing You',\n",
              " 'Missing You',\n",
              " 'Bette Davis Eyes',\n",
              " 'blun7 a swishland',\n",
              " 'Loudspeaker',\n",
              " 'Cha Cha Cha',\n",
              " \"A Warrior's Call\",\n",
              " 'London',\n",
              " 'Bandito',\n",
              " 'Missing You',\n",
              " 'Something - Remastered 2009',\n",
              " 'Flatline',\n",
              " \"It's So Hard To Say Goodbye To Yesterday - Original Version\"]"
            ]
          },
          "metadata": {},
          "execution_count": 115
        }
      ]
    },
    {
      "cell_type": "code",
      "metadata": {
        "id": "ZAFU1-Mp2jsy"
      },
      "source": [
        "rec_coseT2=[]\n",
        "for i in rec_cosT2:\n",
        "  rec_coseT2.append(i[0][0])"
      ],
      "execution_count": 73,
      "outputs": []
    },
    {
      "cell_type": "code",
      "metadata": {
        "id": "LGue-_WhuEqo",
        "colab": {
          "base_uri": "https://localhost:8080/"
        },
        "outputId": "0610c051-dbf7-4a42-fd35-a95ff0e8d04f"
      },
      "source": [
        "euct2_name = []\n",
        "rec_eucT2 = []\n",
        "for i in test_data2:\n",
        "  a = euclid_similarity_t2(i,euc_rec4)"
      ],
      "execution_count": 74,
      "outputs": [
        {
          "output_type": "stream",
          "name": "stdout",
          "text": [
            "len train data: 55 ; index: Good Nights (feat. Mascolo) ; euclid sim: 1.8295074798865971\n",
            "len train data: 55 ; index: Still Got Me (feat. Jocelyn Bowman) ; euclid sim: 1.939226915350311\n",
            "len train data: 55 ; index: Right Thurr ; euclid sim: 1.084095862919881\n",
            "len train data: 55 ; index: Paradise ; euclid sim: 1.116991413594705\n",
            "len train data: 55 ; index: Daar Gaat Ze ; euclid sim: 4.709134523475078\n",
            "len train data: 55 ; index: Genie in a Bottle ; euclid sim: 2.035558851642454\n",
            "len train data: 55 ; index: Paradise ; euclid sim: 1.1725702367186985\n",
            "len train data: 55 ; index: Still Got Me (feat. Jocelyn Bowman) ; euclid sim: 0.6141327507957888\n",
            "len train data: 55 ; index: Â¿QuÃ© Tengo Que Hacer? ; euclid sim: 2.8147316651397443\n",
            "len train data: 55 ; index: Whore ; euclid sim: 1.7313928641414678\n",
            "len train data: 55 ; index: Chartreuse ; euclid sim: 1.0622312904918578\n",
            "len train data: 55 ; index: Aquarius / Let the Sunshine In (The Flesh Failures) [Remastered] ; euclid sim: 1.1790049733536883\n",
            "len train data: 55 ; index: Bloom ; euclid sim: 4.563023780345656\n",
            "len train data: 55 ; index: Genie in a Bottle ; euclid sim: 2.8010729801274317\n",
            "len train data: 55 ; index: Prelude 6 - Pt. 1 ; euclid sim: 20.15725075282835\n",
            "len train data: 55 ; index: Eyes Without A Face ; euclid sim: 6.859939086548072\n",
            "len train data: 55 ; index: Love Me Two Times - New Stereo Mix ; euclid sim: 0.9709992636601236\n"
          ]
        }
      ]
    },
    {
      "cell_type": "code",
      "metadata": {
        "id": "GPEUMkQaL2i-"
      },
      "source": [
        "def cos_similarity_t3(x,d):\n",
        "  recommended = []  \n",
        "  for i in d:\n",
        "    a = cosine_similarity([x],[i])\n",
        "    recommended.append(a)\n",
        "  rec_score=max(recommended)\n",
        "  rec_index = recommended.index(rec_score)\n",
        "  rec_cosT3.append(rec_score)\n",
        "  rec_idx = cos_rec5.index[rec_index]\n",
        "  cost3_name.append(rec_idx) \n",
        "  rec_len = len(recommended)\n",
        "  print('len train data:',rec_len,'; index:',rec_idx,'; cos sim:',rec_score)\n",
        "\n",
        "def euclid_similarity_t3(x,d):\n",
        "  recommended = []  \n",
        "  for i in d:\n",
        "    a = distance.euclidean([x],[i])\n",
        "    recommended.append(a)\n",
        "  rec_score=min(recommended)\n",
        "  rec_index = recommended.index(rec_score)\n",
        "  rec_eucT3.append(rec_score)\n",
        "  rec_idx = euc_rec5.index[rec_index]\n",
        "  euct3_name.append(rec_idx)\n",
        "  rec_len = len(recommended)\n",
        "  print('len train data:',rec_len,'; index:',rec_idx,'; euclid sim:',rec_score)"
      ],
      "execution_count": 75,
      "outputs": []
    },
    {
      "cell_type": "code",
      "metadata": {
        "id": "h7yHchNGL4IY",
        "colab": {
          "base_uri": "https://localhost:8080/"
        },
        "outputId": "fec404c3-5b36-4389-e8fa-7cb5b664e6a5"
      },
      "source": [
        "#compare recomendations to test subjects\n",
        "cost3_name = []\n",
        "rec_cosT3 = []\n",
        "for i in test_data3:\n",
        "  a = cos_similarity_t3(i,cos_rec4)"
      ],
      "execution_count": 76,
      "outputs": [
        {
          "output_type": "stream",
          "name": "stdout",
          "text": [
            "len train data: 50 ; index: Loudspeaker ; cos sim: [[0.99998805]]\n",
            "len train data: 50 ; index: Loudspeaker ; cos sim: [[0.99998334]]\n",
            "len train data: 50 ; index: Try ; cos sim: [[0.99999866]]\n",
            "len train data: 50 ; index: Can't You See ; cos sim: [[0.9999817]]\n",
            "len train data: 50 ; index: La Mordidita ; cos sim: [[0.99998984]]\n",
            "len train data: 50 ; index: Something - Remastered 2009 ; cos sim: [[0.99999336]]\n",
            "len train data: 50 ; index: Loudspeaker ; cos sim: [[0.99996833]]\n",
            "len train data: 50 ; index: Freek'n You ; cos sim: [[0.99996004]]\n",
            "len train data: 50 ; index: Loudspeaker ; cos sim: [[1.]]\n",
            "len train data: 50 ; index: Classic (feat. POWERS) - POWERS Sunset Version ; cos sim: [[1.]]\n",
            "len train data: 50 ; index: Bandito ; cos sim: [[0.99998631]]\n"
          ]
        }
      ]
    },
    {
      "cell_type": "code",
      "metadata": {
        "id": "DX7PNN4N2q4C"
      },
      "source": [
        "rec_coseT3=[]\n",
        "for i in rec_cosT3:\n",
        "  rec_coseT3.append(i[0][0])"
      ],
      "execution_count": 77,
      "outputs": []
    },
    {
      "cell_type": "code",
      "metadata": {
        "id": "S22wN0m6L7J5",
        "colab": {
          "base_uri": "https://localhost:8080/"
        },
        "outputId": "6679a1ba-9eca-4d2f-be48-5920b3e58146"
      },
      "source": [
        "euct3_name = []\n",
        "rec_eucT3 = []\n",
        "for i in test_data3:\n",
        "  a = euclid_similarity_t3(i,euc_rec4)"
      ],
      "execution_count": 78,
      "outputs": [
        {
          "output_type": "stream",
          "name": "stdout",
          "text": [
            "len train data: 55 ; index: Te Doy Mi Vida ; euclid sim: 1.454692714789706\n",
            "len train data: 55 ; index: What Child Is This ; euclid sim: 3.1254399877535644\n",
            "len train data: 55 ; index: Falling Away from Me ; euclid sim: 2.2184701844289014\n",
            "len train data: 55 ; index: Ronca ; euclid sim: 3.6878526751383274\n",
            "len train data: 55 ; index: Falling Away from Me ; euclid sim: 4.126718822454468\n",
            "len train data: 55 ; index: Ronca ; euclid sim: 7.898767420458693\n",
            "len train data: 55 ; index: Good Nights (feat. Mascolo) ; euclid sim: 1.6347041395558488\n",
            "len train data: 55 ; index: Before You Go ; euclid sim: 2.245660591006576\n",
            "len train data: 55 ; index: Aquarius / Let the Sunshine In (The Flesh Failures) [Remastered] ; euclid sim: 2.2062962380650535\n",
            "len train data: 55 ; index: Bloom ; euclid sim: 5.008351012759326\n",
            "len train data: 55 ; index: Bottom of a Bottle ; euclid sim: 2.4266590922009037\n"
          ]
        }
      ]
    },
    {
      "cell_type": "code",
      "metadata": {
        "id": "AUCxAfmN7W-D"
      },
      "source": [
        "rec_coseT1.extend(rec_coseT2)"
      ],
      "execution_count": 79,
      "outputs": []
    },
    {
      "cell_type": "code",
      "metadata": {
        "id": "pE6LJqcF_RGi"
      },
      "source": [
        "rec_coseT1.extend(rec_coseT3)"
      ],
      "execution_count": 80,
      "outputs": []
    },
    {
      "cell_type": "code",
      "metadata": {
        "colab": {
          "base_uri": "https://localhost:8080/"
        },
        "id": "M4-bXg0QBSIL",
        "outputId": "394e1086-5477-4215-9aa1-c7746db0a0a6"
      },
      "source": [
        "print(rec_coseT1)"
      ],
      "execution_count": 81,
      "outputs": [
        {
          "output_type": "stream",
          "name": "stdout",
          "text": [
            "[0.9999882565562278, 0.9999979657721999, 0.9999923315617796, 0.9999746647186672, 0.9999901937205865, 0.9999706879428859, 0.9999924474371015, 0.9999880066636926, 0.9999949362641557, 0.9999965341681638, 0.9999936206901414, 0.9999965721246039, 0.9999959190435552, 0.9999946435235009, 0.9999952057741548, 0.9999872392137804, 0.9999859006190891, 0.9999901625784263, 0.9999811356355937, 1.0000000000000002, 0.9999874616201471, 0.9999951986407136, 0.999976208736606, 0.9999935849885221, 0.999985199829622, 0.9999697845137847, 1.0000000000000002, 0.9999880504097526, 0.9999833384467354, 0.9999986641236054, 0.9999817025765818, 0.9999898416831324, 0.9999933611849076, 0.99996833069327, 0.9999600371403314, 0.9999999999999998, 1.0000000000000002, 0.9999863089756407]\n"
          ]
        }
      ]
    },
    {
      "cell_type": "code",
      "metadata": {
        "id": "mkzOzz8eBcui"
      },
      "source": [
        "rec_eucT1.extend(rec_eucT2)\n",
        "rec_eucT1.extend(rec_eucT3)"
      ],
      "execution_count": 82,
      "outputs": []
    },
    {
      "cell_type": "code",
      "metadata": {
        "colab": {
          "base_uri": "https://localhost:8080/"
        },
        "id": "Jj8RrhgNEUAS",
        "outputId": "f6409d8c-85e0-491c-cf9b-a4f962c584d7"
      },
      "source": [
        "print(rec_eucT1)"
      ],
      "execution_count": 83,
      "outputs": [
        {
          "output_type": "stream",
          "name": "stdout",
          "text": [
            "[2.407115927827317, 2.1227171705387295, 4.428556579981792, 2.197995593739894, 1.133499480833143, 1.250204570333929, 2.2072286900092637, 0.0, 4.4912641608460175, 1.4601177966224683, 1.8295074798865971, 1.939226915350311, 1.084095862919881, 1.116991413594705, 4.709134523475078, 2.035558851642454, 1.1725702367186985, 0.6141327507957888, 2.8147316651397443, 1.7313928641414678, 1.0622312904918578, 1.1790049733536883, 4.563023780345656, 2.8010729801274317, 20.15725075282835, 6.859939086548072, 0.9709992636601236, 1.454692714789706, 3.1254399877535644, 2.2184701844289014, 3.6878526751383274, 4.126718822454468, 7.898767420458693, 1.6347041395558488, 2.245660591006576, 2.2062962380650535, 5.008351012759326, 2.4266590922009037]\n"
          ]
        }
      ]
    },
    {
      "cell_type": "code",
      "metadata": {
        "id": "bbnJYTS3Csmg"
      },
      "source": [
        "EMrec_eucT1 = [2.136843399152123, 1.0653933029637461, 1.9697226327582233, 3.121205299239379, 1.2238199254792346, 1.9120460234000534, 0.0, 2.3558988348399117, 0.0, 1.375095014898964, 2.549076193074652, 1.4183007614747978, 1.6935145703536112, 1.572704807012433, 0.8140949637480789, 0.8951894539146443, 2.036887822144362, 1.5665554454279618, 1.1827994800472312, 1.3525843559645372, 2.208623041263498, 0.35951267015224825, 3.2997775455324283, 1.7003965537485755, 6.59356102439342, 3.0501334413431818, 1.318663406635655, 1.063355302803335, 0.3620314903430365, 1.0149487918116757, 2.0333976200008204, 1.5653104356644476, 5.435379379583356, 2.051496290515783, 3.300246380196482, 3.3088163230980365, 2.2690441577897995, 5.200865024983832]"
      ],
      "execution_count": 121,
      "outputs": []
    },
    {
      "cell_type": "code",
      "metadata": {
        "id": "4yMF3Ch6VCTB"
      },
      "source": [
        "NMrec_coseT1 = [0.9999932487667178, 0.9999967215831126, 0.9999933745520302, 0.9999795860425241, 0.9999879469873235, 0.9999889343896217, 0.9999984166143743, 1.0000000000000002, 0.9999971002493233, 0.9999848761899961, 0.9999809979599981, 0.9999947548279028, 0.9999948619636779, 0.9999975161257679, 0.999981209047114, 0.9999936176253443, 0.9999897789176083, 0.9999858330464003, 0.9999947701079364, 0.9999712959469053, 0.9999821019273762, 0.9999946407075987, 0.999995156413043, 0.9999866710780829, 0.9999988606098704, 0.9999643377538886, 0.9999794144009473, 0.9999891105620674, 0.9999990417444762, 0.9999930197849295, 0.9999959817335284, 0.999994307563816, 0.999986825204495, 0.9999968618587575, 0.9999844313947372, 0.9999849360413169, 0.9999971323342577, 0.9999698646143627]"
      ],
      "execution_count": 122,
      "outputs": []
    },
    {
      "cell_type": "code",
      "metadata": {
        "colab": {
          "base_uri": "https://localhost:8080/"
        },
        "id": "v_75wGujFum5",
        "outputId": "1e227e5f-37e9-4cd7-ff84-4511dc06ff87"
      },
      "source": [
        "# leven test for equal variance p-value lower than 0.01 means not equal\n",
        "from scipy.stats import levene\n",
        "stat, p = levene(rec_eucT1, EMrec_eucT1)\n",
        "print('pvalue < 0.05 means not equal variance, pvalue:' ,p)"
      ],
      "execution_count": 123,
      "outputs": [
        {
          "output_type": "stream",
          "name": "stdout",
          "text": [
            "pvalue < 0.05 means not equal variance, pvalue: 0.1926058515050053\n"
          ]
        }
      ]
    },
    {
      "cell_type": "code",
      "metadata": {
        "colab": {
          "base_uri": "https://localhost:8080/"
        },
        "id": "0OYDjWsyGn-Z",
        "outputId": "5bb063dc-fa42-40cf-c4ec-7fc2c1121369"
      },
      "source": [
        "from scipy import stats\n",
        "#stats.ttest_ind(rec_eucT1, EMrec_eucT1,equal_var = False)\n",
        "stats.ttest_rel(rec_eucT1, EMrec_eucT1)"
      ],
      "execution_count": 124,
      "outputs": [
        {
          "output_type": "execute_result",
          "data": {
            "text/plain": [
              "Ttest_relResult(statistic=2.285313795487333, pvalue=0.028121465313354126)"
            ]
          },
          "metadata": {},
          "execution_count": 124
        }
      ]
    },
    {
      "cell_type": "code",
      "metadata": {
        "id": "48QkNd4Kpg1S",
        "colab": {
          "base_uri": "https://localhost:8080/"
        },
        "outputId": "17d053e0-060e-4347-97ce-b25866baca49"
      },
      "source": [
        "# leven test for equal variance p-value lower than 0.01 means not equal\n",
        "from scipy.stats import levene\n",
        "stat, p = levene(rec_coseT1, NMrec_coseT1)\n",
        "print('pvalue > 0.01 means equal variance, pvalue:' ,p)"
      ],
      "execution_count": 125,
      "outputs": [
        {
          "output_type": "stream",
          "name": "stdout",
          "text": [
            "pvalue > 0.01 means equal variance, pvalue: 0.6812768611477693\n"
          ]
        }
      ]
    },
    {
      "cell_type": "code",
      "metadata": {
        "colab": {
          "base_uri": "https://localhost:8080/"
        },
        "id": "9kI4NF_uplpD",
        "outputId": "18075333-a039-45d9-b215-bfe706619b25"
      },
      "source": [
        "import scipy.stats as stats\n",
        "#stats.ttest_ind(rec_coseT1, b=NMrec_coseT1, equal_var=False)\n",
        "stats.ttest_rel(rec_coseT1, b=NMrec_coseT1)"
      ],
      "execution_count": 126,
      "outputs": [
        {
          "output_type": "execute_result",
          "data": {
            "text/plain": [
              "Ttest_relResult(statistic=-0.4461314774204095, pvalue=0.6581022836358861)"
            ]
          },
          "metadata": {},
          "execution_count": 126
        }
      ]
    },
    {
      "cell_type": "code",
      "metadata": {
        "colab": {
          "base_uri": "https://localhost:8080/"
        },
        "id": "zs5o5fNmdV63",
        "outputId": "13317c75-a041-43c3-a379-469e0455b17b"
      },
      "source": [
        "print(len(rec_eucT1))\n",
        "print(len(EMrec_eucT1))"
      ],
      "execution_count": 90,
      "outputs": [
        {
          "output_type": "stream",
          "name": "stdout",
          "text": [
            "38\n",
            "38\n"
          ]
        }
      ]
    },
    {
      "cell_type": "markdown",
      "metadata": {
        "id": "RwwqpeZCKM7x"
      },
      "source": [
        "The two hypotheses for this particular two sample t-test are as follows:\n",
        "\n",
        "H0: µ1 = µ2 (the two population means are equal)\n",
        "\n",
        "HA: µ1 ≠µ2 (the two population means are not equal)\n",
        "\n",
        "Because the p-value of our test (0.0331) is less than alpha = 0.05, we reject the null hypothesis of the test. We do not have sufficient evidence to say that the mean height of plants between the two populations is different."
      ]
    },
    {
      "cell_type": "code",
      "metadata": {
        "colab": {
          "base_uri": "https://localhost:8080/",
          "height": 359
        },
        "id": "i2mqUUgsTwRd",
        "outputId": "e68265c4-49cb-4f9d-ee5e-cc4608300a4c"
      },
      "source": [
        "testing34 = testdf1.iloc[:,[0,2]]\n",
        "testing34"
      ],
      "execution_count": 92,
      "outputs": [
        {
          "output_type": "execute_result",
          "data": {
            "text/html": [
              "<div>\n",
              "<style scoped>\n",
              "    .dataframe tbody tr th:only-of-type {\n",
              "        vertical-align: middle;\n",
              "    }\n",
              "\n",
              "    .dataframe tbody tr th {\n",
              "        vertical-align: top;\n",
              "    }\n",
              "\n",
              "    .dataframe thead th {\n",
              "        text-align: right;\n",
              "    }\n",
              "</style>\n",
              "<table border=\"1\" class=\"dataframe\">\n",
              "  <thead>\n",
              "    <tr style=\"text-align: right;\">\n",
              "      <th></th>\n",
              "      <th>track_name</th>\n",
              "      <th>track_artist</th>\n",
              "    </tr>\n",
              "  </thead>\n",
              "  <tbody>\n",
              "    <tr>\n",
              "      <th>136</th>\n",
              "      <td>I Dare You</td>\n",
              "      <td>The xx</td>\n",
              "    </tr>\n",
              "    <tr>\n",
              "      <th>186</th>\n",
              "      <td>Howling</td>\n",
              "      <td>RY X</td>\n",
              "    </tr>\n",
              "    <tr>\n",
              "      <th>286</th>\n",
              "      <td>Lower</td>\n",
              "      <td>TENDER</td>\n",
              "    </tr>\n",
              "    <tr>\n",
              "      <th>393</th>\n",
              "      <td>Prettiest Virgin (Radio Edit)</td>\n",
              "      <td>Agar Agar</td>\n",
              "    </tr>\n",
              "    <tr>\n",
              "      <th>429</th>\n",
              "      <td>Love Is a Bitch</td>\n",
              "      <td>Two Feet</td>\n",
              "    </tr>\n",
              "    <tr>\n",
              "      <th>451</th>\n",
              "      <td>Song For You</td>\n",
              "      <td>Rhye</td>\n",
              "    </tr>\n",
              "    <tr>\n",
              "      <th>473</th>\n",
              "      <td>Afternoon</td>\n",
              "      <td>TENDER</td>\n",
              "    </tr>\n",
              "    <tr>\n",
              "      <th>559</th>\n",
              "      <td>Jungle</td>\n",
              "      <td>Tash Sultana</td>\n",
              "    </tr>\n",
              "    <tr>\n",
              "      <th>1012</th>\n",
              "      <td>Tainted</td>\n",
              "      <td>TENDER</td>\n",
              "    </tr>\n",
              "    <tr>\n",
              "      <th>1089</th>\n",
              "      <td>Un autre que moi</td>\n",
              "      <td>Fishbach</td>\n",
              "    </tr>\n",
              "  </tbody>\n",
              "</table>\n",
              "</div>"
            ],
            "text/plain": [
              "                         track_name  track_artist\n",
              "136                      I Dare You        The xx\n",
              "186                         Howling          RY X\n",
              "286                           Lower        TENDER\n",
              "393   Prettiest Virgin (Radio Edit)     Agar Agar\n",
              "429                 Love Is a Bitch      Two Feet\n",
              "451                    Song For You          Rhye\n",
              "473                       Afternoon        TENDER\n",
              "559                          Jungle  Tash Sultana\n",
              "1012                        Tainted        TENDER\n",
              "1089               Un autre que moi      Fishbach"
            ]
          },
          "metadata": {},
          "execution_count": 92
        }
      ]
    },
    {
      "cell_type": "code",
      "metadata": {
        "colab": {
          "base_uri": "https://localhost:8080/",
          "height": 576
        },
        "id": "NilEKaxPT2r2",
        "outputId": "ca3af534-e943-4e1d-e2f1-7394b9d0738e"
      },
      "source": [
        "testing35 = testdf2.iloc[:,[0,2]]\n",
        "testing35"
      ],
      "execution_count": 93,
      "outputs": [
        {
          "output_type": "execute_result",
          "data": {
            "text/html": [
              "<div>\n",
              "<style scoped>\n",
              "    .dataframe tbody tr th:only-of-type {\n",
              "        vertical-align: middle;\n",
              "    }\n",
              "\n",
              "    .dataframe tbody tr th {\n",
              "        vertical-align: top;\n",
              "    }\n",
              "\n",
              "    .dataframe thead th {\n",
              "        text-align: right;\n",
              "    }\n",
              "</style>\n",
              "<table border=\"1\" class=\"dataframe\">\n",
              "  <thead>\n",
              "    <tr style=\"text-align: right;\">\n",
              "      <th></th>\n",
              "      <th>track_name</th>\n",
              "      <th>track_artist</th>\n",
              "    </tr>\n",
              "  </thead>\n",
              "  <tbody>\n",
              "    <tr>\n",
              "      <th>7</th>\n",
              "      <td>Tender Lover</td>\n",
              "      <td>Babyface</td>\n",
              "    </tr>\n",
              "    <tr>\n",
              "      <th>162</th>\n",
              "      <td>I'm Dreamin'</td>\n",
              "      <td>Christopher Williams</td>\n",
              "    </tr>\n",
              "    <tr>\n",
              "      <th>194</th>\n",
              "      <td>I Adore Mi Amor</td>\n",
              "      <td>Color Me Badd</td>\n",
              "    </tr>\n",
              "    <tr>\n",
              "      <th>207</th>\n",
              "      <td>Miss You Much</td>\n",
              "      <td>Janet Jackson</td>\n",
              "    </tr>\n",
              "    <tr>\n",
              "      <th>410</th>\n",
              "      <td>When Can I See You</td>\n",
              "      <td>Babyface</td>\n",
              "    </tr>\n",
              "    <tr>\n",
              "      <th>449</th>\n",
              "      <td>Rump Shaker</td>\n",
              "      <td>Wreckx-N-Effect</td>\n",
              "    </tr>\n",
              "    <tr>\n",
              "      <th>563</th>\n",
              "      <td>Lyte as a Rock</td>\n",
              "      <td>MC Lyte</td>\n",
              "    </tr>\n",
              "    <tr>\n",
              "      <th>622</th>\n",
              "      <td>Poison</td>\n",
              "      <td>Bell Biv DeVoe</td>\n",
              "    </tr>\n",
              "    <tr>\n",
              "      <th>781</th>\n",
              "      <td>My Prerogative</td>\n",
              "      <td>Bobby Brown</td>\n",
              "    </tr>\n",
              "    <tr>\n",
              "      <th>803</th>\n",
              "      <td>Cha Cha Cha</td>\n",
              "      <td>MC Lyte</td>\n",
              "    </tr>\n",
              "    <tr>\n",
              "      <th>859</th>\n",
              "      <td>Ain't 2 Proud 2 Beg - U.S. 7\" Edit</td>\n",
              "      <td>TLC</td>\n",
              "    </tr>\n",
              "    <tr>\n",
              "      <th>973</th>\n",
              "      <td>Just Got Paid</td>\n",
              "      <td>Johnny Kemp</td>\n",
              "    </tr>\n",
              "    <tr>\n",
              "      <th>1120</th>\n",
              "      <td>End Of The Road</td>\n",
              "      <td>Boyz II Men</td>\n",
              "    </tr>\n",
              "    <tr>\n",
              "      <th>1212</th>\n",
              "      <td>Nasty</td>\n",
              "      <td>Janet Jackson</td>\n",
              "    </tr>\n",
              "    <tr>\n",
              "      <th>1301</th>\n",
              "      <td>She's Playing Hard To Get</td>\n",
              "      <td>Hi-Five</td>\n",
              "    </tr>\n",
              "    <tr>\n",
              "      <th>1499</th>\n",
              "      <td>Rock Wit'cha</td>\n",
              "      <td>Bobby Brown</td>\n",
              "    </tr>\n",
              "    <tr>\n",
              "      <th>1641</th>\n",
              "      <td>It's So Hard To Say Goodbye To Yesterday - Ori...</td>\n",
              "      <td>Boyz II Men</td>\n",
              "    </tr>\n",
              "  </tbody>\n",
              "</table>\n",
              "</div>"
            ],
            "text/plain": [
              "                                             track_name          track_artist\n",
              "7                                          Tender Lover              Babyface\n",
              "162                                        I'm Dreamin'  Christopher Williams\n",
              "194                                     I Adore Mi Amor         Color Me Badd\n",
              "207                                       Miss You Much         Janet Jackson\n",
              "410                                  When Can I See You              Babyface\n",
              "449                                         Rump Shaker       Wreckx-N-Effect\n",
              "563                                      Lyte as a Rock               MC Lyte\n",
              "622                                              Poison        Bell Biv DeVoe\n",
              "781                                      My Prerogative           Bobby Brown\n",
              "803                                         Cha Cha Cha               MC Lyte\n",
              "859                  Ain't 2 Proud 2 Beg - U.S. 7\" Edit                   TLC\n",
              "973                                       Just Got Paid           Johnny Kemp\n",
              "1120                                    End Of The Road           Boyz II Men\n",
              "1212                                              Nasty         Janet Jackson\n",
              "1301                          She's Playing Hard To Get               Hi-Five\n",
              "1499                                       Rock Wit'cha           Bobby Brown\n",
              "1641  It's So Hard To Say Goodbye To Yesterday - Ori...           Boyz II Men"
            ]
          },
          "metadata": {},
          "execution_count": 93
        }
      ]
    },
    {
      "cell_type": "code",
      "metadata": {
        "colab": {
          "base_uri": "https://localhost:8080/",
          "height": 390
        },
        "id": "tjzmvyCRT54D",
        "outputId": "489661a3-0b4a-4749-ee6c-32ec407f2bff"
      },
      "source": [
        "testing36 = testdf3.iloc[:,[0,2]]\n",
        "testing36"
      ],
      "execution_count": 94,
      "outputs": [
        {
          "output_type": "execute_result",
          "data": {
            "text/html": [
              "<div>\n",
              "<style scoped>\n",
              "    .dataframe tbody tr th:only-of-type {\n",
              "        vertical-align: middle;\n",
              "    }\n",
              "\n",
              "    .dataframe tbody tr th {\n",
              "        vertical-align: top;\n",
              "    }\n",
              "\n",
              "    .dataframe thead th {\n",
              "        text-align: right;\n",
              "    }\n",
              "</style>\n",
              "<table border=\"1\" class=\"dataframe\">\n",
              "  <thead>\n",
              "    <tr style=\"text-align: right;\">\n",
              "      <th></th>\n",
              "      <th>track_name</th>\n",
              "      <th>track_artist</th>\n",
              "    </tr>\n",
              "  </thead>\n",
              "  <tbody>\n",
              "    <tr>\n",
              "      <th>85</th>\n",
              "      <td>On Fire</td>\n",
              "      <td>Carmada</td>\n",
              "    </tr>\n",
              "    <tr>\n",
              "      <th>211</th>\n",
              "      <td>Hall &amp; Oates</td>\n",
              "      <td>Satchmode</td>\n",
              "    </tr>\n",
              "    <tr>\n",
              "      <th>309</th>\n",
              "      <td>Sway - Chainsmokers Remix</td>\n",
              "      <td>Anna of the North</td>\n",
              "    </tr>\n",
              "    <tr>\n",
              "      <th>463</th>\n",
              "      <td>Feel It All Around</td>\n",
              "      <td>Washed Out</td>\n",
              "    </tr>\n",
              "    <tr>\n",
              "      <th>474</th>\n",
              "      <td>Ghost - Lost Kings Remix</td>\n",
              "      <td>Halsey</td>\n",
              "    </tr>\n",
              "    <tr>\n",
              "      <th>500</th>\n",
              "      <td>Cool Blue</td>\n",
              "      <td>The Japanese House</td>\n",
              "    </tr>\n",
              "    <tr>\n",
              "      <th>538</th>\n",
              "      <td>Anywhere We Go</td>\n",
              "      <td>Kaptan</td>\n",
              "    </tr>\n",
              "    <tr>\n",
              "      <th>923</th>\n",
              "      <td>Indecision</td>\n",
              "      <td>Shura</td>\n",
              "    </tr>\n",
              "    <tr>\n",
              "      <th>929</th>\n",
              "      <td>Loudspeaker</td>\n",
              "      <td>MUNA</td>\n",
              "    </tr>\n",
              "    <tr>\n",
              "      <th>1279</th>\n",
              "      <td>Classic (feat. POWERS) - POWERS Sunset Version</td>\n",
              "      <td>The Knocks</td>\n",
              "    </tr>\n",
              "    <tr>\n",
              "      <th>1420</th>\n",
              "      <td>Cherry</td>\n",
              "      <td>Chromatics</td>\n",
              "    </tr>\n",
              "  </tbody>\n",
              "</table>\n",
              "</div>"
            ],
            "text/plain": [
              "                                          track_name        track_artist\n",
              "85                                           On Fire             Carmada\n",
              "211                                     Hall & Oates           Satchmode\n",
              "309                        Sway - Chainsmokers Remix   Anna of the North\n",
              "463                               Feel It All Around          Washed Out\n",
              "474                         Ghost - Lost Kings Remix              Halsey\n",
              "500                                        Cool Blue  The Japanese House\n",
              "538                                   Anywhere We Go              Kaptan\n",
              "923                                       Indecision               Shura\n",
              "929                                      Loudspeaker                MUNA\n",
              "1279  Classic (feat. POWERS) - POWERS Sunset Version          The Knocks\n",
              "1420                                          Cherry          Chromatics"
            ]
          },
          "metadata": {},
          "execution_count": 94
        }
      ]
    },
    {
      "cell_type": "code",
      "metadata": {
        "id": "JljL3oewUEIA"
      },
      "source": [
        "df1_rec =  df4[df4['track_name'].isin(euct1_name)]\n",
        "df2_rec =  df4[df4['track_name'].isin(euct2_name)]\n",
        "df3_rec =  df4[df4['track_name'].isin(euct3_name)]\n",
        "dfc1_rec =  df4[df4['track_name'].isin(cost1_name)]\n",
        "dfc2_rec =  df4[df4['track_name'].isin(cost2_name)]\n",
        "dfc3_rec =  df4[df4['track_name'].isin(cost3_name)]"
      ],
      "execution_count": 95,
      "outputs": []
    },
    {
      "cell_type": "code",
      "metadata": {
        "colab": {
          "base_uri": "https://localhost:8080/",
          "height": 359
        },
        "id": "ccPgS_UbaW3B",
        "outputId": "bd9603a2-d8d5-46b1-b93f-e22a3e64a82f"
      },
      "source": [
        "testing37 = df1_rec.iloc[:,[0,2]]\n",
        "testing37_dict = dict(zip(testing37.track_name, testing37.track_artist))\n",
        "eucdf1 = pd.DataFrame(euct1_name)\n",
        "eucdf1['artist'] = eucdf1[0].map(testing37_dict)\n",
        "eucdf1"
      ],
      "execution_count": 116,
      "outputs": [
        {
          "output_type": "execute_result",
          "data": {
            "text/html": [
              "<div>\n",
              "<style scoped>\n",
              "    .dataframe tbody tr th:only-of-type {\n",
              "        vertical-align: middle;\n",
              "    }\n",
              "\n",
              "    .dataframe tbody tr th {\n",
              "        vertical-align: top;\n",
              "    }\n",
              "\n",
              "    .dataframe thead th {\n",
              "        text-align: right;\n",
              "    }\n",
              "</style>\n",
              "<table border=\"1\" class=\"dataframe\">\n",
              "  <thead>\n",
              "    <tr style=\"text-align: right;\">\n",
              "      <th></th>\n",
              "      <th>0</th>\n",
              "      <th>artist</th>\n",
              "    </tr>\n",
              "  </thead>\n",
              "  <tbody>\n",
              "    <tr>\n",
              "      <th>0</th>\n",
              "      <td>Just Can't Get Enough</td>\n",
              "      <td>Depeche Mode</td>\n",
              "    </tr>\n",
              "    <tr>\n",
              "      <th>1</th>\n",
              "      <td>Aquarius / Let the Sunshine In (The Flesh Fail...</td>\n",
              "      <td>The 5th Dimension</td>\n",
              "    </tr>\n",
              "    <tr>\n",
              "      <th>2</th>\n",
              "      <td>Higher Ground</td>\n",
              "      <td>Stevie Wonder</td>\n",
              "    </tr>\n",
              "    <tr>\n",
              "      <th>3</th>\n",
              "      <td>Aquarius / Let the Sunshine In (The Flesh Fail...</td>\n",
              "      <td>The 5th Dimension</td>\n",
              "    </tr>\n",
              "    <tr>\n",
              "      <th>4</th>\n",
              "      <td>What Child Is This</td>\n",
              "      <td>Kelly Price</td>\n",
              "    </tr>\n",
              "    <tr>\n",
              "      <th>5</th>\n",
              "      <td>In Only Seven Days - Remastered 2011</td>\n",
              "      <td>Queen</td>\n",
              "    </tr>\n",
              "    <tr>\n",
              "      <th>6</th>\n",
              "      <td>Paradise - TiÃ«sto Remix</td>\n",
              "      <td>Coldplay</td>\n",
              "    </tr>\n",
              "    <tr>\n",
              "      <th>7</th>\n",
              "      <td>Jungle</td>\n",
              "      <td>Tash Sultana</td>\n",
              "    </tr>\n",
              "    <tr>\n",
              "      <th>8</th>\n",
              "      <td>Ronca</td>\n",
              "      <td>Don Omar</td>\n",
              "    </tr>\n",
              "    <tr>\n",
              "      <th>9</th>\n",
              "      <td>Genie in a Bottle</td>\n",
              "      <td>Campsite Dream</td>\n",
              "    </tr>\n",
              "  </tbody>\n",
              "</table>\n",
              "</div>"
            ],
            "text/plain": [
              "                                                   0             artist\n",
              "0                              Just Can't Get Enough       Depeche Mode\n",
              "1  Aquarius / Let the Sunshine In (The Flesh Fail...  The 5th Dimension\n",
              "2                                      Higher Ground      Stevie Wonder\n",
              "3  Aquarius / Let the Sunshine In (The Flesh Fail...  The 5th Dimension\n",
              "4                                 What Child Is This        Kelly Price\n",
              "5               In Only Seven Days - Remastered 2011              Queen\n",
              "6                           Paradise - TiÃ«sto Remix           Coldplay\n",
              "7                                             Jungle       Tash Sultana\n",
              "8                                              Ronca           Don Omar\n",
              "9                                  Genie in a Bottle     Campsite Dream"
            ]
          },
          "metadata": {},
          "execution_count": 116
        }
      ]
    },
    {
      "cell_type": "code",
      "metadata": {
        "colab": {
          "base_uri": "https://localhost:8080/",
          "height": 576
        },
        "id": "ClEBHhgmalFh",
        "outputId": "19180a40-e825-4a88-d0a3-dd8b37d92b43"
      },
      "source": [
        "testing38 = df2_rec.iloc[:,[0,2]]\n",
        "testing38_dict = dict(zip(testing38.track_name, testing38.track_artist))\n",
        "eucdf2 = pd.DataFrame(euct2_name)\n",
        "eucdf2['artist'] = eucdf2[0].map(testing38_dict)\n",
        "eucdf2"
      ],
      "execution_count": 114,
      "outputs": [
        {
          "output_type": "execute_result",
          "data": {
            "text/html": [
              "<div>\n",
              "<style scoped>\n",
              "    .dataframe tbody tr th:only-of-type {\n",
              "        vertical-align: middle;\n",
              "    }\n",
              "\n",
              "    .dataframe tbody tr th {\n",
              "        vertical-align: top;\n",
              "    }\n",
              "\n",
              "    .dataframe thead th {\n",
              "        text-align: right;\n",
              "    }\n",
              "</style>\n",
              "<table border=\"1\" class=\"dataframe\">\n",
              "  <thead>\n",
              "    <tr style=\"text-align: right;\">\n",
              "      <th></th>\n",
              "      <th>0</th>\n",
              "      <th>artist</th>\n",
              "    </tr>\n",
              "  </thead>\n",
              "  <tbody>\n",
              "    <tr>\n",
              "      <th>0</th>\n",
              "      <td>Good Nights (feat. Mascolo)</td>\n",
              "      <td>Whethan</td>\n",
              "    </tr>\n",
              "    <tr>\n",
              "      <th>1</th>\n",
              "      <td>Still Got Me (feat. Jocelyn Bowman)</td>\n",
              "      <td>GAWVI</td>\n",
              "    </tr>\n",
              "    <tr>\n",
              "      <th>2</th>\n",
              "      <td>Right Thurr</td>\n",
              "      <td>Chingy</td>\n",
              "    </tr>\n",
              "    <tr>\n",
              "      <th>3</th>\n",
              "      <td>Paradise</td>\n",
              "      <td>Coldplay</td>\n",
              "    </tr>\n",
              "    <tr>\n",
              "      <th>4</th>\n",
              "      <td>Daar Gaat Ze</td>\n",
              "      <td>Clouseau</td>\n",
              "    </tr>\n",
              "    <tr>\n",
              "      <th>5</th>\n",
              "      <td>Genie in a Bottle</td>\n",
              "      <td>Campsite Dream</td>\n",
              "    </tr>\n",
              "    <tr>\n",
              "      <th>6</th>\n",
              "      <td>Paradise</td>\n",
              "      <td>Coldplay</td>\n",
              "    </tr>\n",
              "    <tr>\n",
              "      <th>7</th>\n",
              "      <td>Still Got Me (feat. Jocelyn Bowman)</td>\n",
              "      <td>GAWVI</td>\n",
              "    </tr>\n",
              "    <tr>\n",
              "      <th>8</th>\n",
              "      <td>Â¿QuÃ© Tengo Que Hacer?</td>\n",
              "      <td>Daddy Yankee</td>\n",
              "    </tr>\n",
              "    <tr>\n",
              "      <th>9</th>\n",
              "      <td>Whore</td>\n",
              "      <td>In This Moment</td>\n",
              "    </tr>\n",
              "    <tr>\n",
              "      <th>10</th>\n",
              "      <td>Chartreuse</td>\n",
              "      <td>Capital Cities</td>\n",
              "    </tr>\n",
              "    <tr>\n",
              "      <th>11</th>\n",
              "      <td>Aquarius / Let the Sunshine In (The Flesh Fail...</td>\n",
              "      <td>The 5th Dimension</td>\n",
              "    </tr>\n",
              "    <tr>\n",
              "      <th>12</th>\n",
              "      <td>Bloom</td>\n",
              "      <td>Hilder Sky</td>\n",
              "    </tr>\n",
              "    <tr>\n",
              "      <th>13</th>\n",
              "      <td>Genie in a Bottle</td>\n",
              "      <td>Campsite Dream</td>\n",
              "    </tr>\n",
              "    <tr>\n",
              "      <th>14</th>\n",
              "      <td>Prelude 6 - Pt. 1</td>\n",
              "      <td>Max Richter</td>\n",
              "    </tr>\n",
              "    <tr>\n",
              "      <th>15</th>\n",
              "      <td>Eyes Without A Face</td>\n",
              "      <td>Billy Idol</td>\n",
              "    </tr>\n",
              "    <tr>\n",
              "      <th>16</th>\n",
              "      <td>Love Me Two Times - New Stereo Mix</td>\n",
              "      <td>The Doors</td>\n",
              "    </tr>\n",
              "  </tbody>\n",
              "</table>\n",
              "</div>"
            ],
            "text/plain": [
              "                                                    0             artist\n",
              "0                         Good Nights (feat. Mascolo)            Whethan\n",
              "1                 Still Got Me (feat. Jocelyn Bowman)              GAWVI\n",
              "2                                         Right Thurr             Chingy\n",
              "3                                            Paradise           Coldplay\n",
              "4                                        Daar Gaat Ze           Clouseau\n",
              "5                                   Genie in a Bottle     Campsite Dream\n",
              "6                                            Paradise           Coldplay\n",
              "7                 Still Got Me (feat. Jocelyn Bowman)              GAWVI\n",
              "8                             Â¿QuÃ© Tengo Que Hacer?       Daddy Yankee\n",
              "9                                               Whore     In This Moment\n",
              "10                                         Chartreuse     Capital Cities\n",
              "11  Aquarius / Let the Sunshine In (The Flesh Fail...  The 5th Dimension\n",
              "12                                              Bloom         Hilder Sky\n",
              "13                                  Genie in a Bottle     Campsite Dream\n",
              "14                                  Prelude 6 - Pt. 1        Max Richter\n",
              "15                                Eyes Without A Face         Billy Idol\n",
              "16                 Love Me Two Times - New Stereo Mix          The Doors"
            ]
          },
          "metadata": {},
          "execution_count": 114
        }
      ]
    },
    {
      "cell_type": "code",
      "metadata": {
        "colab": {
          "base_uri": "https://localhost:8080/",
          "height": 390
        },
        "id": "jvcSSWHearo9",
        "outputId": "6ecc650d-1bc9-4bb8-b9dd-0c21f51fcd19"
      },
      "source": [
        "testing39 = df3_rec.iloc[:,[0,2]]\n",
        "testing39_dict = dict(zip(testing39.track_name, testing39.track_artist))\n",
        "eucdf3 = pd.DataFrame(euct3_name)\n",
        "eucdf3['artist'] = eucdf3[0].map(testing39_dict)\n",
        "eucdf3"
      ],
      "execution_count": 117,
      "outputs": [
        {
          "output_type": "execute_result",
          "data": {
            "text/html": [
              "<div>\n",
              "<style scoped>\n",
              "    .dataframe tbody tr th:only-of-type {\n",
              "        vertical-align: middle;\n",
              "    }\n",
              "\n",
              "    .dataframe tbody tr th {\n",
              "        vertical-align: top;\n",
              "    }\n",
              "\n",
              "    .dataframe thead th {\n",
              "        text-align: right;\n",
              "    }\n",
              "</style>\n",
              "<table border=\"1\" class=\"dataframe\">\n",
              "  <thead>\n",
              "    <tr style=\"text-align: right;\">\n",
              "      <th></th>\n",
              "      <th>0</th>\n",
              "      <th>artist</th>\n",
              "    </tr>\n",
              "  </thead>\n",
              "  <tbody>\n",
              "    <tr>\n",
              "      <th>0</th>\n",
              "      <td>Te Doy Mi Vida</td>\n",
              "      <td>Lucas Arnau</td>\n",
              "    </tr>\n",
              "    <tr>\n",
              "      <th>1</th>\n",
              "      <td>What Child Is This</td>\n",
              "      <td>Kelly Price</td>\n",
              "    </tr>\n",
              "    <tr>\n",
              "      <th>2</th>\n",
              "      <td>Falling Away from Me</td>\n",
              "      <td>Korn</td>\n",
              "    </tr>\n",
              "    <tr>\n",
              "      <th>3</th>\n",
              "      <td>Ronca</td>\n",
              "      <td>Don Omar</td>\n",
              "    </tr>\n",
              "    <tr>\n",
              "      <th>4</th>\n",
              "      <td>Falling Away from Me</td>\n",
              "      <td>Korn</td>\n",
              "    </tr>\n",
              "    <tr>\n",
              "      <th>5</th>\n",
              "      <td>Ronca</td>\n",
              "      <td>Don Omar</td>\n",
              "    </tr>\n",
              "    <tr>\n",
              "      <th>6</th>\n",
              "      <td>Good Nights (feat. Mascolo)</td>\n",
              "      <td>Whethan</td>\n",
              "    </tr>\n",
              "    <tr>\n",
              "      <th>7</th>\n",
              "      <td>Before You Go</td>\n",
              "      <td>Lewis Capaldi</td>\n",
              "    </tr>\n",
              "    <tr>\n",
              "      <th>8</th>\n",
              "      <td>Aquarius / Let the Sunshine In (The Flesh Fail...</td>\n",
              "      <td>The 5th Dimension</td>\n",
              "    </tr>\n",
              "    <tr>\n",
              "      <th>9</th>\n",
              "      <td>Bloom</td>\n",
              "      <td>Hilder Sky</td>\n",
              "    </tr>\n",
              "    <tr>\n",
              "      <th>10</th>\n",
              "      <td>Bottom of a Bottle</td>\n",
              "      <td>Smile Empty Soul</td>\n",
              "    </tr>\n",
              "  </tbody>\n",
              "</table>\n",
              "</div>"
            ],
            "text/plain": [
              "                                                    0             artist\n",
              "0                                      Te Doy Mi Vida        Lucas Arnau\n",
              "1                                  What Child Is This        Kelly Price\n",
              "2                                Falling Away from Me               Korn\n",
              "3                                               Ronca           Don Omar\n",
              "4                                Falling Away from Me               Korn\n",
              "5                                               Ronca           Don Omar\n",
              "6                         Good Nights (feat. Mascolo)            Whethan\n",
              "7                                       Before You Go      Lewis Capaldi\n",
              "8   Aquarius / Let the Sunshine In (The Flesh Fail...  The 5th Dimension\n",
              "9                                               Bloom         Hilder Sky\n",
              "10                                 Bottom of a Bottle   Smile Empty Soul"
            ]
          },
          "metadata": {},
          "execution_count": 117
        }
      ]
    },
    {
      "cell_type": "code",
      "metadata": {
        "colab": {
          "base_uri": "https://localhost:8080/",
          "height": 359
        },
        "id": "Xb9tXtiVa3Vn",
        "outputId": "356710d9-1c0f-454e-ce40-e92dfb917354"
      },
      "source": [
        "testing40 = dfc1_rec.iloc[:,[0,2]]\n",
        "testing40_dict = dict(zip(testing40.track_name, testing40.track_artist))\n",
        "cosdf1 = pd.DataFrame(cost1_name)\n",
        "cosdf1['artist'] = cosdf1[0].map(testing40_dict)\n",
        "cosdf1"
      ],
      "execution_count": 118,
      "outputs": [
        {
          "output_type": "execute_result",
          "data": {
            "text/html": [
              "<div>\n",
              "<style scoped>\n",
              "    .dataframe tbody tr th:only-of-type {\n",
              "        vertical-align: middle;\n",
              "    }\n",
              "\n",
              "    .dataframe tbody tr th {\n",
              "        vertical-align: top;\n",
              "    }\n",
              "\n",
              "    .dataframe thead th {\n",
              "        text-align: right;\n",
              "    }\n",
              "</style>\n",
              "<table border=\"1\" class=\"dataframe\">\n",
              "  <thead>\n",
              "    <tr style=\"text-align: right;\">\n",
              "      <th></th>\n",
              "      <th>0</th>\n",
              "      <th>artist</th>\n",
              "    </tr>\n",
              "  </thead>\n",
              "  <tbody>\n",
              "    <tr>\n",
              "      <th>0</th>\n",
              "      <td>Missing You</td>\n",
              "      <td>The Vamps</td>\n",
              "    </tr>\n",
              "    <tr>\n",
              "      <th>1</th>\n",
              "      <td>Freddy Krueger (feat. Tee Grizzley)</td>\n",
              "      <td>YNW Melly</td>\n",
              "    </tr>\n",
              "    <tr>\n",
              "      <th>2</th>\n",
              "      <td>Domino - 1999 Remaster</td>\n",
              "      <td>Van Morrison</td>\n",
              "    </tr>\n",
              "    <tr>\n",
              "      <th>3</th>\n",
              "      <td>Bandito</td>\n",
              "      <td>Enzo Dong</td>\n",
              "    </tr>\n",
              "    <tr>\n",
              "      <th>4</th>\n",
              "      <td>Bored</td>\n",
              "      <td>Billie Eilish</td>\n",
              "    </tr>\n",
              "    <tr>\n",
              "      <th>5</th>\n",
              "      <td>Domino - 1999 Remaster</td>\n",
              "      <td>Van Morrison</td>\n",
              "    </tr>\n",
              "    <tr>\n",
              "      <th>6</th>\n",
              "      <td>All on Me</td>\n",
              "      <td>Olivia King</td>\n",
              "    </tr>\n",
              "    <tr>\n",
              "      <th>7</th>\n",
              "      <td>XLR</td>\n",
              "      <td>BONES</td>\n",
              "    </tr>\n",
              "    <tr>\n",
              "      <th>8</th>\n",
              "      <td>Aprovecha (feat. Daddy Yankee)</td>\n",
              "      <td>Nova y Jory</td>\n",
              "    </tr>\n",
              "    <tr>\n",
              "      <th>9</th>\n",
              "      <td>UnFazed (feat. The Weeknd)</td>\n",
              "      <td>Lil Uzi Vert</td>\n",
              "    </tr>\n",
              "  </tbody>\n",
              "</table>\n",
              "</div>"
            ],
            "text/plain": [
              "                                     0         artist\n",
              "0                          Missing You      The Vamps\n",
              "1  Freddy Krueger (feat. Tee Grizzley)      YNW Melly\n",
              "2               Domino - 1999 Remaster   Van Morrison\n",
              "3                              Bandito      Enzo Dong\n",
              "4                                Bored  Billie Eilish\n",
              "5               Domino - 1999 Remaster   Van Morrison\n",
              "6                            All on Me    Olivia King\n",
              "7                                  XLR          BONES\n",
              "8       Aprovecha (feat. Daddy Yankee)    Nova y Jory\n",
              "9           UnFazed (feat. The Weeknd)   Lil Uzi Vert"
            ]
          },
          "metadata": {},
          "execution_count": 118
        }
      ]
    },
    {
      "cell_type": "code",
      "metadata": {
        "colab": {
          "base_uri": "https://localhost:8080/",
          "height": 576
        },
        "id": "3R2AGv2ybBM3",
        "outputId": "e129fd0c-bcbb-4e29-c0d5-f773807aaa7c"
      },
      "source": [
        "testing41 = dfc2_rec.iloc[:,[0,2]]\n",
        "testing41_dict = dict(zip(testing41.track_name, testing41.track_artist))\n",
        "cosdf2 = pd.DataFrame(cost2_name)\n",
        "cosdf2['artist'] = cosdf2[0].map(testing41_dict)\n",
        "cosdf2"
      ],
      "execution_count": 119,
      "outputs": [
        {
          "output_type": "execute_result",
          "data": {
            "text/html": [
              "<div>\n",
              "<style scoped>\n",
              "    .dataframe tbody tr th:only-of-type {\n",
              "        vertical-align: middle;\n",
              "    }\n",
              "\n",
              "    .dataframe tbody tr th {\n",
              "        vertical-align: top;\n",
              "    }\n",
              "\n",
              "    .dataframe thead th {\n",
              "        text-align: right;\n",
              "    }\n",
              "</style>\n",
              "<table border=\"1\" class=\"dataframe\">\n",
              "  <thead>\n",
              "    <tr style=\"text-align: right;\">\n",
              "      <th></th>\n",
              "      <th>0</th>\n",
              "      <th>artist</th>\n",
              "    </tr>\n",
              "  </thead>\n",
              "  <tbody>\n",
              "    <tr>\n",
              "      <th>0</th>\n",
              "      <td>Remember (Original Mix)</td>\n",
              "      <td>The Underdog Project</td>\n",
              "    </tr>\n",
              "    <tr>\n",
              "      <th>1</th>\n",
              "      <td>With Or Without You - Kage Remix</td>\n",
              "      <td>Maddix</td>\n",
              "    </tr>\n",
              "    <tr>\n",
              "      <th>2</th>\n",
              "      <td>UnFazed (feat. The Weeknd)</td>\n",
              "      <td>Lil Uzi Vert</td>\n",
              "    </tr>\n",
              "    <tr>\n",
              "      <th>3</th>\n",
              "      <td>Remember (Original Mix)</td>\n",
              "      <td>The Underdog Project</td>\n",
              "    </tr>\n",
              "    <tr>\n",
              "      <th>4</th>\n",
              "      <td>Missing You</td>\n",
              "      <td>The Vamps</td>\n",
              "    </tr>\n",
              "    <tr>\n",
              "      <th>5</th>\n",
              "      <td>Missing You</td>\n",
              "      <td>The Vamps</td>\n",
              "    </tr>\n",
              "    <tr>\n",
              "      <th>6</th>\n",
              "      <td>Bette Davis Eyes</td>\n",
              "      <td>Kim Carnes</td>\n",
              "    </tr>\n",
              "    <tr>\n",
              "      <th>7</th>\n",
              "      <td>blun7 a swishland</td>\n",
              "      <td>tha Supreme</td>\n",
              "    </tr>\n",
              "    <tr>\n",
              "      <th>8</th>\n",
              "      <td>Loudspeaker</td>\n",
              "      <td>MUNA</td>\n",
              "    </tr>\n",
              "    <tr>\n",
              "      <th>9</th>\n",
              "      <td>Cha Cha Cha</td>\n",
              "      <td>MC Lyte</td>\n",
              "    </tr>\n",
              "    <tr>\n",
              "      <th>10</th>\n",
              "      <td>A Warrior's Call</td>\n",
              "      <td>Volbeat</td>\n",
              "    </tr>\n",
              "    <tr>\n",
              "      <th>11</th>\n",
              "      <td>London</td>\n",
              "      <td>AJ x Deno</td>\n",
              "    </tr>\n",
              "    <tr>\n",
              "      <th>12</th>\n",
              "      <td>Bandito</td>\n",
              "      <td>Enzo Dong</td>\n",
              "    </tr>\n",
              "    <tr>\n",
              "      <th>13</th>\n",
              "      <td>Missing You</td>\n",
              "      <td>The Vamps</td>\n",
              "    </tr>\n",
              "    <tr>\n",
              "      <th>14</th>\n",
              "      <td>Something - Remastered 2009</td>\n",
              "      <td>The Beatles</td>\n",
              "    </tr>\n",
              "    <tr>\n",
              "      <th>15</th>\n",
              "      <td>Flatline</td>\n",
              "      <td>Blanke</td>\n",
              "    </tr>\n",
              "    <tr>\n",
              "      <th>16</th>\n",
              "      <td>It's So Hard To Say Goodbye To Yesterday - Ori...</td>\n",
              "      <td>Boyz II Men</td>\n",
              "    </tr>\n",
              "  </tbody>\n",
              "</table>\n",
              "</div>"
            ],
            "text/plain": [
              "                                                    0                artist\n",
              "0                             Remember (Original Mix)  The Underdog Project\n",
              "1                    With Or Without You - Kage Remix                Maddix\n",
              "2                          UnFazed (feat. The Weeknd)          Lil Uzi Vert\n",
              "3                             Remember (Original Mix)  The Underdog Project\n",
              "4                                         Missing You             The Vamps\n",
              "5                                         Missing You             The Vamps\n",
              "6                                    Bette Davis Eyes            Kim Carnes\n",
              "7                                   blun7 a swishland           tha Supreme\n",
              "8                                         Loudspeaker                  MUNA\n",
              "9                                         Cha Cha Cha               MC Lyte\n",
              "10                                   A Warrior's Call               Volbeat\n",
              "11                                             London             AJ x Deno\n",
              "12                                            Bandito             Enzo Dong\n",
              "13                                        Missing You             The Vamps\n",
              "14                        Something - Remastered 2009           The Beatles\n",
              "15                                           Flatline                Blanke\n",
              "16  It's So Hard To Say Goodbye To Yesterday - Ori...           Boyz II Men"
            ]
          },
          "metadata": {},
          "execution_count": 119
        }
      ]
    },
    {
      "cell_type": "code",
      "metadata": {
        "colab": {
          "base_uri": "https://localhost:8080/",
          "height": 390
        },
        "id": "aZ1EIhbqbDEN",
        "outputId": "04bc4acf-3472-40dd-ed08-24c71216e97b"
      },
      "source": [
        "testing42 = dfc3_rec.iloc[:,[0,2]]\n",
        "testing42_dict = dict(zip(testing42.track_name, testing42.track_artist))\n",
        "cosdf3 = pd.DataFrame(cost3_name)\n",
        "cosdf3['artist'] = cosdf3[0].map(testing42_dict)\n",
        "cosdf3"
      ],
      "execution_count": 120,
      "outputs": [
        {
          "output_type": "execute_result",
          "data": {
            "text/html": [
              "<div>\n",
              "<style scoped>\n",
              "    .dataframe tbody tr th:only-of-type {\n",
              "        vertical-align: middle;\n",
              "    }\n",
              "\n",
              "    .dataframe tbody tr th {\n",
              "        vertical-align: top;\n",
              "    }\n",
              "\n",
              "    .dataframe thead th {\n",
              "        text-align: right;\n",
              "    }\n",
              "</style>\n",
              "<table border=\"1\" class=\"dataframe\">\n",
              "  <thead>\n",
              "    <tr style=\"text-align: right;\">\n",
              "      <th></th>\n",
              "      <th>0</th>\n",
              "      <th>artist</th>\n",
              "    </tr>\n",
              "  </thead>\n",
              "  <tbody>\n",
              "    <tr>\n",
              "      <th>0</th>\n",
              "      <td>Loudspeaker</td>\n",
              "      <td>MUNA</td>\n",
              "    </tr>\n",
              "    <tr>\n",
              "      <th>1</th>\n",
              "      <td>Loudspeaker</td>\n",
              "      <td>MUNA</td>\n",
              "    </tr>\n",
              "    <tr>\n",
              "      <th>2</th>\n",
              "      <td>Try</td>\n",
              "      <td>6o</td>\n",
              "    </tr>\n",
              "    <tr>\n",
              "      <th>3</th>\n",
              "      <td>Can't You See</td>\n",
              "      <td>The Marshall Tucker Band</td>\n",
              "    </tr>\n",
              "    <tr>\n",
              "      <th>4</th>\n",
              "      <td>La Mordidita</td>\n",
              "      <td>Ricky Martin</td>\n",
              "    </tr>\n",
              "    <tr>\n",
              "      <th>5</th>\n",
              "      <td>Something - Remastered 2009</td>\n",
              "      <td>The Beatles</td>\n",
              "    </tr>\n",
              "    <tr>\n",
              "      <th>6</th>\n",
              "      <td>Loudspeaker</td>\n",
              "      <td>MUNA</td>\n",
              "    </tr>\n",
              "    <tr>\n",
              "      <th>7</th>\n",
              "      <td>Freek'n You</td>\n",
              "      <td>Jodeci</td>\n",
              "    </tr>\n",
              "    <tr>\n",
              "      <th>8</th>\n",
              "      <td>Loudspeaker</td>\n",
              "      <td>MUNA</td>\n",
              "    </tr>\n",
              "    <tr>\n",
              "      <th>9</th>\n",
              "      <td>Classic (feat. POWERS) - POWERS Sunset Version</td>\n",
              "      <td>The Knocks</td>\n",
              "    </tr>\n",
              "    <tr>\n",
              "      <th>10</th>\n",
              "      <td>Bandito</td>\n",
              "      <td>Enzo Dong</td>\n",
              "    </tr>\n",
              "  </tbody>\n",
              "</table>\n",
              "</div>"
            ],
            "text/plain": [
              "                                                 0                    artist\n",
              "0                                      Loudspeaker                      MUNA\n",
              "1                                      Loudspeaker                      MUNA\n",
              "2                                              Try                        6o\n",
              "3                                    Can't You See  The Marshall Tucker Band\n",
              "4                                     La Mordidita              Ricky Martin\n",
              "5                      Something - Remastered 2009               The Beatles\n",
              "6                                      Loudspeaker                      MUNA\n",
              "7                                      Freek'n You                    Jodeci\n",
              "8                                      Loudspeaker                      MUNA\n",
              "9   Classic (feat. POWERS) - POWERS Sunset Version                The Knocks\n",
              "10                                         Bandito                 Enzo Dong"
            ]
          },
          "metadata": {},
          "execution_count": 120
        }
      ]
    },
    {
      "cell_type": "code",
      "metadata": {
        "id": "j9iDIXbRYQLe"
      },
      "source": [
        "def oneslistmaker(n):\n",
        "    listofones = [1] * n\n",
        "    return listofones"
      ],
      "execution_count": 102,
      "outputs": []
    },
    {
      "cell_type": "code",
      "metadata": {
        "colab": {
          "base_uri": "https://localhost:8080/"
        },
        "id": "UmwHzd_f1rAQ",
        "outputId": "1e15c7c4-783a-4355-83f7-d4bca57a1e8b"
      },
      "source": [
        "#classification report with emotion model cosine distance\n",
        "from mlxtend.plotting import plot_confusion_matrix\n",
        "from sklearn.metrics import accuracy_score,confusion_matrix \n",
        "y_true = oneslistmaker(32)\n",
        "y_pred = [0,0,1,0,0,0,1,0\t,1,1,0,0,0,0,0,1,1,0,0,0,0,0,0,0,0,0,0,0,1,0,0,1]\n",
        "conf_matrix1 = confusion_matrix(y_true=y_true, y_pred=y_pred)\n",
        "\n",
        "print('Cosine similarrity model accuracy with emotion:',accuracy_score(y_true, y_pred))"
      ],
      "execution_count": 103,
      "outputs": [
        {
          "output_type": "stream",
          "name": "stdout",
          "text": [
            "Cosine similarrity model accuracy with emotion: 0.25\n"
          ]
        }
      ]
    },
    {
      "cell_type": "code",
      "metadata": {
        "colab": {
          "base_uri": "https://localhost:8080/",
          "height": 432
        },
        "id": "vHASt9Mk3UBc",
        "outputId": "10623538-b11f-410b-b63b-e9978e6319c2"
      },
      "source": [
        "fig, ax = plot_confusion_matrix(conf_mat=conf_matrix1, figsize=(6, 6), cmap=plt.cm.Greens)\n",
        "plt.xlabel('Predictions', fontsize=18)\n",
        "plt.ylabel('Actuals', fontsize=18)\n",
        "plt.title('Confusion Matrix', fontsize=18)\n",
        "plt.show()\n",
        "\n",
        "import seaborn as sns\n",
        "\n",
        "cm = confusion_matrix(y_true, y_pred)\n",
        "#f = sns.heatmap(cm, annot=True)"
      ],
      "execution_count": null,
      "outputs": [
        {
          "output_type": "display_data",
          "data": {
            "image/png": "[encoded data removed]",
            "text/plain": [
              "<Figure size 432x432 with 1 Axes>"
            ]
          },
          "metadata": {
            "needs_background": "light"
          }
        }
      ]
    },
    {
      "cell_type": "code",
      "metadata": {
        "colab": {
          "base_uri": "https://localhost:8080/"
        },
        "id": "Rlq2cx-_X2fi",
        "outputId": "3c8721c9-c9ea-4e5f-bbb5-4e9b0f42f2b4"
      },
      "source": [
        "#classification report with emotion model euclidean distance\n",
        "target_names = oneslistmaker(32)\n",
        "y_true = oneslistmaker(32)\n",
        "y_pred = [1,0,1,1,1,1,0,1,0,1,0,1,0,1,0,0,0,1,1,0,1,1,1,0,1,0,1,1,1,1,1,1]\n",
        "conf_matrix2 = confusion_matrix(y_true=y_true, y_pred=y_pred)\n",
        "print('Euclidean distance model accuracy with emotion:',accuracy_score(y_true, y_pred))"
      ],
      "execution_count": null,
      "outputs": [
        {
          "output_type": "stream",
          "name": "stdout",
          "text": [
            "Euclidean distance model accuracy with emotion: 0.65625\n"
          ]
        }
      ]
    },
    {
      "cell_type": "code",
      "metadata": {
        "colab": {
          "base_uri": "https://localhost:8080/",
          "height": 432
        },
        "id": "pOxY83ehlMuW",
        "outputId": "5362088f-50e0-4178-e563-eef7b51b2b3c"
      },
      "source": [
        "#confusion matrix with emotion model for the euclidean distance\n",
        "fig, ax = plot_confusion_matrix(conf_mat=conf_matrix2, figsize=(6, 6), cmap=plt.cm.Greens)\n",
        "plt.xlabel('Predictions', fontsize=18)\n",
        "plt.ylabel('Actuals', fontsize=18)\n",
        "plt.title('Confusion Matrix', fontsize=18)\n",
        "plt.show()"
      ],
      "execution_count": null,
      "outputs": [
        {
          "output_type": "display_data",
          "data": {
            "image/png": "[encoded data removed]",
            "text/plain": [
              "<Figure size 432x432 with 1 Axes>"
            ]
          },
          "metadata": {
            "needs_background": "light"
          }
        }
      ]
    },
    {
      "cell_type": "code",
      "metadata": {
        "colab": {
          "base_uri": "https://localhost:8080/"
        },
        "id": "eBuiQs387PGC",
        "outputId": "2c054ab9-eab3-4b44-e63f-0907bc34a65b"
      },
      "source": [
        "#classification report with no emotion model cosine similarity\n",
        "from sklearn.metrics import accuracy_score\n",
        "y_true = oneslistmaker(32)\n",
        "y_pred = [0,0,0,0,0,0,0,0,0,1,0,0,0,0,0,0,0,0,0,1,0,1,0,1,0,1,0,0,0,1,0,0]\n",
        "print('Cosine distance model accuracy with emotion:',accuracy_score(y_true, y_pred))"
      ],
      "execution_count": null,
      "outputs": [
        {
          "output_type": "stream",
          "name": "stdout",
          "text": [
            "Cosine distance model accuracy with emotion: 0.1875\n"
          ]
        }
      ]
    },
    {
      "cell_type": "code",
      "metadata": {
        "colab": {
          "base_uri": "https://localhost:8080/",
          "height": 432
        },
        "id": "xJetmfd_AqFt",
        "outputId": "2bfda5fa-e2fe-4383-fc69-09a4b9ce7c5e"
      },
      "source": [
        "#confusion matrix with no emotion model for the cosine similarity\n",
        "conf_matrix1 = confusion_matrix(y_true=y_true, y_pred=y_pred)\n",
        "fig, ax = plot_confusion_matrix(conf_mat=conf_matrix1, figsize=(6, 6), cmap=plt.cm.Greens)\n",
        "plt.xlabel('Predictions', fontsize=18)\n",
        "plt.ylabel('Actuals', fontsize=18)\n",
        "plt.title('Confusion Matrix', fontsize=18)\n",
        "plt.show()"
      ],
      "execution_count": null,
      "outputs": [
        {
          "output_type": "display_data",
          "data": {
            "image/png": "[encoded data removed]",
            "text/plain": [
              "<Figure size 432x432 with 1 Axes>"
            ]
          },
          "metadata": {
            "needs_background": "light"
          }
        }
      ]
    },
    {
      "cell_type": "code",
      "metadata": {
        "colab": {
          "base_uri": "https://localhost:8080/"
        },
        "id": "IsUYPLpk64Z2",
        "outputId": "62ef91ca-ff7a-4e7e-b28a-7436c48cfb52"
      },
      "source": [
        "#classification report with no emotion model euclidean distance\n",
        "#conf_matrix2 = confusion_matrix(y_true=y_test, y_pred=y_pred)\n",
        "target_names = oneslistmaker(32)\n",
        "y_true = oneslistmaker(32)\n",
        "y_pred = [1,0,1,1,1,0,0,1,0,1,1,1,0,0,0,1,1,1,0,1,1,1,1,1,0,1,0,1,1,1,0,0]\n",
        "print('Euclidean distance model accuracy with emotion:',accuracy_score(y_true, y_pred))"
      ],
      "execution_count": null,
      "outputs": [
        {
          "output_type": "stream",
          "name": "stdout",
          "text": [
            "Euclidean distance model accuracy with emotion: 0.625\n"
          ]
        }
      ]
    },
    {
      "cell_type": "code",
      "metadata": {
        "colab": {
          "base_uri": "https://localhost:8080/",
          "height": 432
        },
        "id": "6_solx3XCBXo",
        "outputId": "349eca68-8fc0-4a08-8c92-a1eab35c7f0b"
      },
      "source": [
        "#confusion matrix with no emotion model for the cosine similarity\n",
        "conf_matrix2 = confusion_matrix(y_true=y_true, y_pred=y_pred)\n",
        "fig, ax = plot_confusion_matrix(conf_mat=conf_matrix2, figsize=(6, 6), cmap=plt.cm.Greens)\n",
        "plt.xlabel('Predictions', fontsize=18)\n",
        "plt.ylabel('Actuals', fontsize=18)\n",
        "plt.title('Confusion Matrix', fontsize=18)\n",
        "plt.show()"
      ],
      "execution_count": null,
      "outputs": [
        {
          "output_type": "display_data",
          "data": {
            "image/png": "[encoded data removed]",
            "text/plain": [
              "<Figure size 432x432 with 1 Axes>"
            ]
          },
          "metadata": {
            "needs_background": "light"
          }
        }
      ]
    },
    {
      "cell_type": "code",
      "metadata": {
        "colab": {
          "base_uri": "https://localhost:8080/"
        },
        "id": "XExXPX64GvUJ",
        "outputId": "b30f477e-820b-4420-a6a1-7e7050f30c59"
      },
      "source": [
        "rec_cosT1[:10]"
      ],
      "execution_count": null,
      "outputs": [
        {
          "output_type": "execute_result",
          "data": {
            "text/plain": [
              "[array([[0.9999841]]),\n",
              " array([[0.99997017]]),\n",
              " array([[0.99996841]]),\n",
              " array([[0.99998848]]),\n",
              " array([[0.99996484]]),\n",
              " array([[0.99997355]]),\n",
              " array([[0.9999709]]),\n",
              " array([[0.99997137]]),\n",
              " array([[0.99997004]]),\n",
              " array([[0.9999875]])]"
            ]
          },
          "metadata": {},
          "execution_count": 110
        }
      ]
    },
    {
      "cell_type": "code",
      "metadata": {
        "colab": {
          "base_uri": "https://localhost:8080/"
        },
        "id": "yWwV3sOAHH42",
        "outputId": "fb7d34b4-9c16-4e31-da26-e7ae83ac6658"
      },
      "source": [
        "(rec_eucT2)"
      ],
      "execution_count": null,
      "outputs": [
        {
          "output_type": "execute_result",
          "data": {
            "text/plain": [
              "[2.881095846736787,\n",
              " 3.009589016949237,\n",
              " 4.227493153584038,\n",
              " 3.273390278615863,\n",
              " 3.086226610309906,\n",
              " 2.5899771532776135,\n",
              " 3.7920290025394108,\n",
              " 3.0082638647595923,\n",
              " 6.032963216573605,\n",
              " 2.4694432975875333,\n",
              " 27.948129872469128]"
            ]
          },
          "metadata": {},
          "execution_count": 111
        }
      ]
    },
    {
      "cell_type": "code",
      "metadata": {
        "colab": {
          "base_uri": "https://localhost:8080/"
        },
        "id": "lUp3Cj2AHK_K",
        "outputId": "1d71ab42-ad06-4883-d733-cc4a58d00c80"
      },
      "source": [
        "(rec_eucT1[:10])"
      ],
      "execution_count": null,
      "outputs": [
        {
          "output_type": "execute_result",
          "data": {
            "text/plain": [
              "[2.1989201076892386,\n",
              " 3.459064693873193,\n",
              " 5.8022684608963235,\n",
              " 3.513973913733569,\n",
              " 3.669265847064164,\n",
              " 3.1696068478598414,\n",
              " 1.035656120534225,\n",
              " 3.2805306135698515,\n",
              " 6.309128958105068,\n",
              " 2.875532336805434]"
            ]
          },
          "metadata": {},
          "execution_count": 119
        }
      ]
    }
  ]
}