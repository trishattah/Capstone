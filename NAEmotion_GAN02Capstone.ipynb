{
  "nbformat": 4,
  "nbformat_minor": 0,
  "metadata": {
    "colab": {
      "name": "NAEmotion-GAN02Capstone.ipynb",
      "provenance": [],
      "collapsed_sections": []
    },
    "kernelspec": {
      "name": "python3",
      "display_name": "Python 3"
    },
    "language_info": {
      "name": "python"
    }
  },
  "cells": [
    {
      "cell_type": "code",
      "metadata": {
        "id": "YQCZ3H_2TxIZ",
        "colab": {
          "base_uri": "https://localhost:8080/"
        },
        "outputId": "0686ac16-d653-468b-912a-cdf0a2666c3c"
      },
      "source": [
        "import torch\n",
        "from torch import nn\n",
        "from torch.utils.data import DataLoader\n",
        "import math\n",
        "import matplotlib.pyplot as plt\n",
        "import numpy as np\n",
        "import io\n",
        "import pandas as pd\n",
        "from imblearn.over_sampling import SMOTE\n",
        "from collections import Counter\n",
        "from matplotlib import pyplot\n",
        "from sklearn.preprocessing import MinMaxScaler\n",
        "import warnings\n",
        "warnings.filterwarnings('ignore')"
      ],
      "execution_count": 1,
      "outputs": [
        {
          "output_type": "stream",
          "name": "stderr",
          "text": [
            "/usr/local/lib/python3.7/dist-packages/sklearn/externals/six.py:31: FutureWarning: The module is deprecated in version 0.21 and will be removed in version 0.23 since we've dropped support for Python 2.7. Please rely on the official version of six (https://pypi.org/project/six/).\n",
            "  \"(https://pypi.org/project/six/).\", FutureWarning)\n",
            "/usr/local/lib/python3.7/dist-packages/sklearn/utils/deprecation.py:144: FutureWarning: The sklearn.neighbors.base module is  deprecated in version 0.22 and will be removed in version 0.24. The corresponding classes / functions should instead be imported from sklearn.neighbors. Anything that cannot be imported from sklearn.neighbors is now part of the private API.\n",
            "  warnings.warn(message, FutureWarning)\n"
          ]
        }
      ]
    },
    {
      "cell_type": "code",
      "metadata": {
        "id": "c5IpolGoaZzL"
      },
      "source": [
        "url = 'https://raw.githubusercontent.com/trishattah/Capstone/main/spotify_songs-2.csv'\n",
        "df2 = pd.read_csv(url)"
      ],
      "execution_count": 2,
      "outputs": []
    },
    {
      "cell_type": "code",
      "metadata": {
        "id": "BOfZ1LsBb3Z_"
      },
      "source": [
        "#url = 'https://raw.githubusercontent.com/trishattah/Capstone/main/Emotion_Labels.csv'\n",
        "#df3 = pd.read_csv(url)"
      ],
      "execution_count": 3,
      "outputs": []
    },
    {
      "cell_type": "code",
      "metadata": {
        "id": "KwLUDpea0D_T"
      },
      "source": [
        "#df4 = pd.merge(df2,df3,on='track_id')\n",
        "#df4 = df2.drop(['Unnamed: 19'], axis=1)\n",
        "df4=df2"
      ],
      "execution_count": 4,
      "outputs": []
    },
    {
      "cell_type": "code",
      "metadata": {
        "colab": {
          "base_uri": "https://localhost:8080/"
        },
        "id": "paij6qTxqtvn",
        "outputId": "2f03d45c-f1da-48f2-e0e3-11a839357e13"
      },
      "source": [
        "df4 = df4.dropna()\n",
        "df4.shape"
      ],
      "execution_count": 5,
      "outputs": [
        {
          "output_type": "execute_result",
          "data": {
            "text/plain": [
              "(1099, 19)"
            ]
          },
          "metadata": {},
          "execution_count": 5
        }
      ]
    },
    {
      "cell_type": "code",
      "metadata": {
        "colab": {
          "base_uri": "https://localhost:8080/"
        },
        "id": "rcEu57ehv2fp",
        "outputId": "4fb5cc4a-e666-4c7b-bdce-a9d7f7984d63"
      },
      "source": [
        "df4['playlist_id'].value_counts()"
      ],
      "execution_count": 6,
      "outputs": [
        {
          "output_type": "execute_result",
          "data": {
            "text/plain": [
              "4hKPJNFIhdAg4pAksn78FJ    11\n",
              "3ykXidKLz1eYPvuGoFlD1e    11\n",
              "5jROYSZSL7cO0jGAqkPx7C    10\n",
              "1qXg9ck25tBRxeXsj8mbDG    10\n",
              "4NlAd9NpIa92IjErMyAriM    10\n",
              "                          ..\n",
              "37i9dQZF1DWUlCmB8llCTB     1\n",
              "37i9dQZF1DWY3UKS6jvnxr     1\n",
              "396llvvFOIB9jgPg0kqNDb     1\n",
              "2ji5tRQVfnhaX1w9FhmSzk     1\n",
              "37i9dQZF1DXcZDD7cfEKhW     1\n",
              "Name: playlist_id, Length: 359, dtype: int64"
            ]
          },
          "metadata": {},
          "execution_count": 6
        }
      ]
    },
    {
      "cell_type": "code",
      "metadata": {
        "id": "zhHvotdp3evO"
      },
      "source": [
        "from sklearn.preprocessing import LabelEncoder\n",
        "le = LabelEncoder()\n",
        "\n",
        "df11 = df2.drop(['playlist_id','track_id','track_name','track_artist'], axis=1)\n",
        "cols = ['language', 'playlist_genre']\n",
        "#df11[cols] = df11[cols].apply(LabelEncoder().fit_transform)\n",
        "\n",
        "df12 = df2.set_index('track_name')"
      ],
      "execution_count": 7,
      "outputs": []
    },
    {
      "cell_type": "code",
      "metadata": {
        "id": "gh5zkMZ3x43G"
      },
      "source": [
        "testdf = df4[df4['playlist_id'].isin(['5jROYSZSL7cO0jGAqkPx7C', '3ykXidKLz1eYPvuGoFlD1e','4hKPJNFIhdAg4pAksn78FJ'])]\n",
        "testdf1 =  df4[df4['playlist_id'].isin(['5jROYSZSL7cO0jGAqkPx7C'])]\n",
        "testdf2 = df4[df4['playlist_id'].isin(['3ykXidKLz1eYPvuGoFlD1e'])]\n",
        "testdf3 = df4[df4['playlist_id'].isin(['4hKPJNFIhdAg4pAksn78FJ'])]"
      ],
      "execution_count": 8,
      "outputs": []
    },
    {
      "cell_type": "code",
      "metadata": {
        "id": "dct1kTdS0MYc"
      },
      "source": [
        "testdf1_1 = testdf1.drop(['playlist_id','track_id','track_name','track_artist'], axis=1)\n",
        "testdf2_1 = testdf2.drop(['playlist_id','track_id','track_name','track_artist'], axis=1)\n",
        "testdf3_1 = testdf3.drop(['playlist_id','track_id','track_name','track_artist'], axis=1)"
      ],
      "execution_count": 9,
      "outputs": []
    },
    {
      "cell_type": "code",
      "metadata": {
        "id": "URnxJyAXzAUk"
      },
      "source": [
        "df5 = df4[~df4['playlist_id'].isin(['4hKPJNFIhdAg4pAksn78FJ', '3ykXidKLz1eYPvuGoFlD1e','4hKPJNFIhdAg4pAksn78FJ'])]"
      ],
      "execution_count": 10,
      "outputs": []
    },
    {
      "cell_type": "code",
      "metadata": {
        "id": "0CtwpX2P39KH"
      },
      "source": [
        "pd.set_option('display.max_columns', None)"
      ],
      "execution_count": 11,
      "outputs": []
    },
    {
      "cell_type": "code",
      "metadata": {
        "id": "iFpwP8Vz1hHY"
      },
      "source": [
        "df5 = df4.drop(['playlist_id','track_id','track_name','track_artist'], axis=1)\n",
        "df5['emotion'] = df5['emotion'].astype(int)"
      ],
      "execution_count": 12,
      "outputs": []
    },
    {
      "cell_type": "code",
      "metadata": {
        "colab": {
          "base_uri": "https://localhost:8080/",
          "height": 131
        },
        "id": "7CAVYhDW9UJ3",
        "outputId": "7cd566c1-b002-4b1b-df5a-9e43a2878358"
      },
      "source": [
        "df5.head(2)"
      ],
      "execution_count": 13,
      "outputs": [
        {
          "output_type": "execute_result",
          "data": {
            "text/html": [
              "<div>\n",
              "<style scoped>\n",
              "    .dataframe tbody tr th:only-of-type {\n",
              "        vertical-align: middle;\n",
              "    }\n",
              "\n",
              "    .dataframe tbody tr th {\n",
              "        vertical-align: top;\n",
              "    }\n",
              "\n",
              "    .dataframe thead th {\n",
              "        text-align: right;\n",
              "    }\n",
              "</style>\n",
              "<table border=\"1\" class=\"dataframe\">\n",
              "  <thead>\n",
              "    <tr style=\"text-align: right;\">\n",
              "      <th></th>\n",
              "      <th>track_popularity</th>\n",
              "      <th>playlist_genre</th>\n",
              "      <th>danceability</th>\n",
              "      <th>energy</th>\n",
              "      <th>key</th>\n",
              "      <th>loudness</th>\n",
              "      <th>mode</th>\n",
              "      <th>speechiness</th>\n",
              "      <th>acousticness</th>\n",
              "      <th>instrumentalness</th>\n",
              "      <th>liveness</th>\n",
              "      <th>valence</th>\n",
              "      <th>tempo</th>\n",
              "      <th>language</th>\n",
              "      <th>emotion</th>\n",
              "    </tr>\n",
              "  </thead>\n",
              "  <tbody>\n",
              "    <tr>\n",
              "      <th>0</th>\n",
              "      <td>41</td>\n",
              "      <td>rock</td>\n",
              "      <td>0.682</td>\n",
              "      <td>0.401</td>\n",
              "      <td>2</td>\n",
              "      <td>-10.068</td>\n",
              "      <td>1</td>\n",
              "      <td>0.0236</td>\n",
              "      <td>0.2790</td>\n",
              "      <td>0.01170</td>\n",
              "      <td>0.0887</td>\n",
              "      <td>0.566</td>\n",
              "      <td>97.091</td>\n",
              "      <td>tl</td>\n",
              "      <td>6</td>\n",
              "    </tr>\n",
              "    <tr>\n",
              "      <th>1</th>\n",
              "      <td>28</td>\n",
              "      <td>rock</td>\n",
              "      <td>0.303</td>\n",
              "      <td>0.880</td>\n",
              "      <td>9</td>\n",
              "      <td>-4.739</td>\n",
              "      <td>1</td>\n",
              "      <td>0.0442</td>\n",
              "      <td>0.0117</td>\n",
              "      <td>0.00994</td>\n",
              "      <td>0.3470</td>\n",
              "      <td>0.404</td>\n",
              "      <td>135.225</td>\n",
              "      <td>en</td>\n",
              "      <td>1</td>\n",
              "    </tr>\n",
              "  </tbody>\n",
              "</table>\n",
              "</div>"
            ],
            "text/plain": [
              "   track_popularity playlist_genre  danceability  energy  key  loudness  mode  \\\n",
              "0                41           rock         0.682   0.401    2   -10.068     1   \n",
              "1                28           rock         0.303   0.880    9    -4.739     1   \n",
              "\n",
              "   speechiness  acousticness  instrumentalness  liveness  valence    tempo  \\\n",
              "0       0.0236        0.2790           0.01170    0.0887    0.566   97.091   \n",
              "1       0.0442        0.0117           0.00994    0.3470    0.404  135.225   \n",
              "\n",
              "  language  emotion  \n",
              "0       tl        6  \n",
              "1       en        1  "
            ]
          },
          "metadata": {},
          "execution_count": 13
        }
      ]
    },
    {
      "cell_type": "code",
      "metadata": {
        "id": "PUNlxqKOIklG"
      },
      "source": [
        "cols = ['language', 'playlist_genre']\n",
        "df5[cols] = df5[cols].apply(LabelEncoder().fit_transform)"
      ],
      "execution_count": 14,
      "outputs": []
    },
    {
      "cell_type": "code",
      "metadata": {
        "id": "mDPWs3JO9gvP"
      },
      "source": [
        "df11 = df5"
      ],
      "execution_count": 15,
      "outputs": []
    },
    {
      "cell_type": "code",
      "metadata": {
        "id": "J7DROiWZ9vQB"
      },
      "source": [
        "df11['track_name'] = df4['track_name']\n",
        "df5 = df5.drop(['track_name'], axis=1)"
      ],
      "execution_count": 16,
      "outputs": []
    },
    {
      "cell_type": "code",
      "metadata": {
        "id": "eIIXCY014PaV"
      },
      "source": [
        "df12 = df11.set_index('track_name')"
      ],
      "execution_count": 17,
      "outputs": []
    },
    {
      "cell_type": "code",
      "metadata": {
        "id": "kVtiVv8S0rdE"
      },
      "source": [
        "testdf1_1[cols] = testdf1_1[cols].apply(LabelEncoder().fit_transform)\n",
        "testdf2_1[cols] = testdf2_1[cols].apply(LabelEncoder().fit_transform)\n",
        "testdf3_1[cols] = testdf3_1[cols].apply(LabelEncoder().fit_transform)"
      ],
      "execution_count": 18,
      "outputs": []
    },
    {
      "cell_type": "code",
      "metadata": {
        "colab": {
          "base_uri": "https://localhost:8080/"
        },
        "id": "QAUoLLtugPJB",
        "outputId": "428181d1-da64-4d2c-dda7-823c50421fd8"
      },
      "source": [
        "X, y = df5.iloc[:, :-1], df5.iloc[:, -1]\n",
        "X.shape"
      ],
      "execution_count": 19,
      "outputs": [
        {
          "output_type": "execute_result",
          "data": {
            "text/plain": [
              "(1099, 14)"
            ]
          },
          "metadata": {},
          "execution_count": 19
        }
      ]
    },
    {
      "cell_type": "code",
      "metadata": {
        "id": "G_EuCYFRRNWe"
      },
      "source": [
        "#strategy = {1:200, 2:120, 3:150, 4:100, 5:150,6:120, 7:70, 8:45 ,9:45 ,10:40}\n",
        "#oversample = SMOTE(sampling_strategy=strategy)\n",
        "#X, y = oversample.fit_resample(X, y)\n",
        "# summarize distribution\n",
        "#counter = Counter(y)\n",
        "#for k,v in counter.items():\n",
        "#\tper = v / len(y) * 100\n",
        "#\tprint('Class=%d, n=%d (%.3f%%)' % (k, v, per))\n",
        "# plot the distribution\n",
        "#pyplot.bar(counter.keys(), counter.values())\n",
        "#pyplot.show()"
      ],
      "execution_count": 20,
      "outputs": []
    },
    {
      "cell_type": "code",
      "metadata": {
        "id": "ROL4725RdsGn"
      },
      "source": [
        "#df6 = pd.DataFrame(X)\n",
        "#df6['emotion'] = y\n",
        "#df7 = df6.sample(frac=1)\n",
        "#df5 = df5.dropna()"
      ],
      "execution_count": 21,
      "outputs": []
    },
    {
      "cell_type": "code",
      "metadata": {
        "id": "JFK2TDoD92iv"
      },
      "source": [
        "df5.shape\n",
        "scaler = MinMaxScaler()"
      ],
      "execution_count": 22,
      "outputs": []
    },
    {
      "cell_type": "code",
      "metadata": {
        "colab": {
          "base_uri": "https://localhost:8080/"
        },
        "id": "2M3PlxrK31BH",
        "outputId": "da5ea746-8c87-45ac-c12f-b252947bddce"
      },
      "source": [
        "df5['emotion'].value_counts()"
      ],
      "execution_count": 23,
      "outputs": [
        {
          "output_type": "execute_result",
          "data": {
            "text/plain": [
              "1     393\n",
              "6     137\n",
              "3     108\n",
              "5     103\n",
              "7      91\n",
              "2      91\n",
              "4      67\n",
              "8      39\n",
              "10     38\n",
              "9      32\n",
              "Name: emotion, dtype: int64"
            ]
          },
          "metadata": {},
          "execution_count": 23
        }
      ]
    },
    {
      "cell_type": "code",
      "metadata": {
        "colab": {
          "base_uri": "https://localhost:8080/"
        },
        "id": "bvDcIONbwwND",
        "outputId": "9b2240f4-4b14-4734-9e95-144c4937039c"
      },
      "source": [
        "train_data_001 = df5.iloc[:1024,6:14]\n",
        "train_data_01 = pd.DataFrame(scaler.fit_transform(train_data_001))\n",
        "train_data_length = len(train_data_01)\n",
        "train_data_01.shape"
      ],
      "execution_count": 24,
      "outputs": [
        {
          "output_type": "execute_result",
          "data": {
            "text/plain": [
              "(1024, 8)"
            ]
          },
          "metadata": {},
          "execution_count": 24
        }
      ]
    },
    {
      "cell_type": "code",
      "metadata": {
        "id": "xCCT98Y2V0ry"
      },
      "source": [
        ""
      ],
      "execution_count": 24,
      "outputs": []
    },
    {
      "cell_type": "code",
      "metadata": {
        "id": "DrydNko01Qiq"
      },
      "source": [
        "testdf1_2 = testdf1_1.iloc[:1024,6:14]\n",
        "testdf2_2 = testdf2_1.iloc[:1024,6:14]\n",
        "testdf3_2 = testdf3_1.iloc[:1024,6:14]\n",
        "df13 = df12.iloc[:1024,6:14]"
      ],
      "execution_count": 25,
      "outputs": []
    },
    {
      "cell_type": "code",
      "metadata": {
        "id": "RYgkcSwtvynh"
      },
      "source": [
        "train_data = torch.tensor(train_data_01.values.astype(np.float32))"
      ],
      "execution_count": 26,
      "outputs": []
    },
    {
      "cell_type": "code",
      "metadata": {
        "id": "9jGsD2Rf_5cZ"
      },
      "source": [
        "train_labels = torch.zeros(train_data_length)\n",
        "train_set = [\n",
        "    (train_data[i], train_labels[i]) for i in range(train_data_length)\n",
        "]"
      ],
      "execution_count": 27,
      "outputs": []
    },
    {
      "cell_type": "code",
      "metadata": {
        "id": "8Q_FlvWVCPeg"
      },
      "source": [
        "batch_size = 32\n",
        "train_loader = torch.utils.data.DataLoader(\n",
        "    train_set, batch_size=batch_size, shuffle=True\n",
        ")"
      ],
      "execution_count": 28,
      "outputs": []
    },
    {
      "cell_type": "code",
      "metadata": {
        "id": "oeGokWcnUNVo"
      },
      "source": [
        "class Discriminator(nn.Module):\n",
        "    def __init__(self):\n",
        "        super().__init__()\n",
        "        self.model = nn.Sequential(\n",
        "            nn.Linear(8, 256),\n",
        "            nn.ReLU(),\n",
        "            nn.Dropout(0.3),\n",
        "            nn.Linear(256, 128),\n",
        "            nn.ReLU(),\n",
        "            nn.Dropout(0.3),\n",
        "            nn.Linear(128, 64),\n",
        "            nn.ReLU(),\n",
        "            nn.Dropout(0.3),\n",
        "            nn.Linear(64, 1),\n",
        "            nn.Sigmoid(),\n",
        "        )\n",
        "\n",
        "    def forward(self, x):\n",
        "        output = self.model(x)\n",
        "        return output"
      ],
      "execution_count": 29,
      "outputs": []
    },
    {
      "cell_type": "code",
      "metadata": {
        "id": "w28gifmTe_Wa"
      },
      "source": [
        "discriminator = Discriminator()"
      ],
      "execution_count": 30,
      "outputs": []
    },
    {
      "cell_type": "code",
      "metadata": {
        "id": "3LaGfTJ1fFf9"
      },
      "source": [
        "class Generator(nn.Module):\n",
        "    def __init__(self):\n",
        "        super().__init__()\n",
        "        self.model = nn.Sequential(\n",
        "            nn.Linear(8, 32),\n",
        "            nn.ReLU(),\n",
        "            nn.Linear(32, 64),\n",
        "            nn.ReLU(),\n",
        "            nn.Linear(64, 8),\n",
        "        )\n",
        "\n",
        "    def forward(self, x):\n",
        "        output = self.model(x)\n",
        "        return output\n",
        "\n",
        "generator = Generator()"
      ],
      "execution_count": 31,
      "outputs": []
    },
    {
      "cell_type": "code",
      "metadata": {
        "id": "b3Lh9ZtEfPvG"
      },
      "source": [
        "lr = 0.001\n",
        "num_epochs = 500\n",
        "loss_function = nn.BCELoss()"
      ],
      "execution_count": 32,
      "outputs": []
    },
    {
      "cell_type": "code",
      "metadata": {
        "id": "vHk6r37kfWfA"
      },
      "source": [
        "optimizer_discriminator = torch.optim.Adam(discriminator.parameters(), lr=lr)\n",
        "optimizer_generator = torch.optim.Adam(generator.parameters(), lr=lr)"
      ],
      "execution_count": 33,
      "outputs": []
    },
    {
      "cell_type": "code",
      "metadata": {
        "id": "moL5w8QUPPFB"
      },
      "source": [
        "# list for final generated samples\n",
        "final_generated_samples=[]\n",
        "final_generated_samples_list=[]\n",
        "losses_g =[]\n",
        "losses_d = []\n",
        "labels = []\n",
        "pred = []\n",
        "true = []"
      ],
      "execution_count": 34,
      "outputs": []
    },
    {
      "cell_type": "code",
      "metadata": {
        "id": "W0Zee1zVehN2"
      },
      "source": [
        "#len(labels[0])"
      ],
      "execution_count": 35,
      "outputs": []
    },
    {
      "cell_type": "code",
      "metadata": {
        "colab": {
          "base_uri": "https://localhost:8080/"
        },
        "id": "M3oKJHuuffeK",
        "outputId": "a2a6f3c6-d8fe-4cb0-be78-e888233f9162"
      },
      "source": [
        "for epoch in range(num_epochs):\n",
        "    for n, (real_samples, _) in enumerate(train_loader):\n",
        "        # Data for training the discriminator\n",
        "        real_samples_labels = torch.ones((batch_size, 1))\n",
        "        latent_space_samples = torch.rand((batch_size, 8))\n",
        "        generated_samples = generator(latent_space_samples)\n",
        "        generated_samples_labels = torch.zeros((batch_size, 1))\n",
        "        all_samples = torch.cat((real_samples, generated_samples))\n",
        "        all_samples_labels = torch.cat(\n",
        "            (real_samples_labels, generated_samples_labels)\n",
        "        )\n",
        "\n",
        "        # Training the discriminator\n",
        "        discriminator.zero_grad()\n",
        "        output_discriminator = discriminator(all_samples)\n",
        "        loss_discriminator = loss_function(\n",
        "            output_discriminator, all_samples_labels)\n",
        "        loss_discriminator.backward()\n",
        "        optimizer_discriminator.step()\n",
        "\n",
        "\n",
        "        # Data for training the generator\n",
        "        latent_space_samples = torch.rand((batch_size, 8))\n",
        "\n",
        "        # Training the generator\n",
        "        generator.zero_grad()\n",
        "        generated_samples = generator(latent_space_samples)\n",
        "        output_discriminator_generated = discriminator(generated_samples)\n",
        "        loss_generator = loss_function(\n",
        "            output_discriminator_generated, real_samples_labels\n",
        "        )\n",
        "        loss_generator.backward()\n",
        "        optimizer_generator.step()\n",
        "\n",
        "        losses_g.append(loss_generator)\n",
        "        losses_d.append(loss_discriminator)\n",
        "\n",
        "        labels.append(all_samples_labels)\n",
        "        pred.append(output_discriminator)\n",
        "        true.append(all_samples)\n",
        "\n",
        "        # Show loss\n",
        "        if epoch % 10 == 0 and n == batch_size - 1:\n",
        "            final_generated_samples.append(generated_samples[0])\n",
        "            print(f\"Epoch: {epoch} Loss D.: {loss_discriminator}\")\n",
        "            print(f\"Epoch: {epoch} Loss G.: {loss_generator}\")\n",
        "            "
      ],
      "execution_count": 36,
      "outputs": [
        {
          "output_type": "stream",
          "name": "stdout",
          "text": [
            "Epoch: 0 Loss D.: 0.7074892520904541\n",
            "Epoch: 0 Loss G.: 0.942609965801239\n",
            "Epoch: 10 Loss D.: 0.30674922466278076\n",
            "Epoch: 10 Loss G.: 1.6744585037231445\n",
            "Epoch: 20 Loss D.: 0.43234097957611084\n",
            "Epoch: 20 Loss G.: 1.7192213535308838\n",
            "Epoch: 30 Loss D.: 0.516701340675354\n",
            "Epoch: 30 Loss G.: 0.7949938178062439\n",
            "Epoch: 40 Loss D.: 0.2421971708536148\n",
            "Epoch: 40 Loss G.: 2.185936212539673\n",
            "Epoch: 50 Loss D.: 0.23319344222545624\n",
            "Epoch: 50 Loss G.: 2.9709300994873047\n",
            "Epoch: 60 Loss D.: 0.8547567129135132\n",
            "Epoch: 60 Loss G.: 2.1361589431762695\n",
            "Epoch: 70 Loss D.: 0.4713559150695801\n",
            "Epoch: 70 Loss G.: 1.345654845237732\n",
            "Epoch: 80 Loss D.: 0.4158858358860016\n",
            "Epoch: 80 Loss G.: 1.2681262493133545\n",
            "Epoch: 90 Loss D.: 0.47758522629737854\n",
            "Epoch: 90 Loss G.: 1.297799825668335\n",
            "Epoch: 100 Loss D.: 0.42108646035194397\n",
            "Epoch: 100 Loss G.: 1.5661602020263672\n",
            "Epoch: 110 Loss D.: 0.37976908683776855\n",
            "Epoch: 110 Loss G.: 1.2646101713180542\n",
            "Epoch: 120 Loss D.: 0.5398399829864502\n",
            "Epoch: 120 Loss G.: 0.8608037829399109\n",
            "Epoch: 130 Loss D.: 0.3051515221595764\n",
            "Epoch: 130 Loss G.: 1.8969510793685913\n",
            "Epoch: 140 Loss D.: 0.4714897871017456\n",
            "Epoch: 140 Loss G.: 1.2299031019210815\n",
            "Epoch: 150 Loss D.: 0.40990233421325684\n",
            "Epoch: 150 Loss G.: 1.3475677967071533\n",
            "Epoch: 160 Loss D.: 0.3912276029586792\n",
            "Epoch: 160 Loss G.: 1.4706038236618042\n",
            "Epoch: 170 Loss D.: 0.37931376695632935\n",
            "Epoch: 170 Loss G.: 1.4085413217544556\n",
            "Epoch: 180 Loss D.: 0.34957969188690186\n",
            "Epoch: 180 Loss G.: 1.4369343519210815\n",
            "Epoch: 190 Loss D.: 0.2740356922149658\n",
            "Epoch: 190 Loss G.: 1.6790904998779297\n",
            "Epoch: 200 Loss D.: 0.4298058748245239\n",
            "Epoch: 200 Loss G.: 1.4897061586380005\n",
            "Epoch: 210 Loss D.: 0.43960249423980713\n",
            "Epoch: 210 Loss G.: 0.9317206740379333\n",
            "Epoch: 220 Loss D.: 0.5669679045677185\n",
            "Epoch: 220 Loss G.: 1.2827717065811157\n",
            "Epoch: 230 Loss D.: 0.3858107924461365\n",
            "Epoch: 230 Loss G.: 1.2829551696777344\n",
            "Epoch: 240 Loss D.: 0.5192893743515015\n",
            "Epoch: 240 Loss G.: 1.2397791147232056\n",
            "Epoch: 250 Loss D.: 0.46962785720825195\n",
            "Epoch: 250 Loss G.: 1.2754570245742798\n",
            "Epoch: 260 Loss D.: 0.4638964533805847\n",
            "Epoch: 260 Loss G.: 1.169224500656128\n",
            "Epoch: 270 Loss D.: 0.4544077515602112\n",
            "Epoch: 270 Loss G.: 1.2645440101623535\n",
            "Epoch: 280 Loss D.: 0.48674094676971436\n",
            "Epoch: 280 Loss G.: 1.0450526475906372\n",
            "Epoch: 290 Loss D.: 0.47091370820999146\n",
            "Epoch: 290 Loss G.: 1.1322875022888184\n",
            "Epoch: 300 Loss D.: 0.5101908445358276\n",
            "Epoch: 300 Loss G.: 1.41488778591156\n",
            "Epoch: 310 Loss D.: 0.4760015606880188\n",
            "Epoch: 310 Loss G.: 1.2293087244033813\n",
            "Epoch: 320 Loss D.: 0.6132126450538635\n",
            "Epoch: 320 Loss G.: 1.3504716157913208\n",
            "Epoch: 330 Loss D.: 0.44867953658103943\n",
            "Epoch: 330 Loss G.: 1.0580322742462158\n",
            "Epoch: 340 Loss D.: 0.4362930357456207\n",
            "Epoch: 340 Loss G.: 1.2495059967041016\n",
            "Epoch: 350 Loss D.: 0.3805331587791443\n",
            "Epoch: 350 Loss G.: 1.7827942371368408\n",
            "Epoch: 360 Loss D.: 0.44100549817085266\n",
            "Epoch: 360 Loss G.: 1.151350975036621\n",
            "Epoch: 370 Loss D.: 0.42745766043663025\n",
            "Epoch: 370 Loss G.: 1.23163902759552\n",
            "Epoch: 380 Loss D.: 0.5716611742973328\n",
            "Epoch: 380 Loss G.: 1.2915958166122437\n",
            "Epoch: 390 Loss D.: 0.38192012906074524\n",
            "Epoch: 390 Loss G.: 1.0929734706878662\n",
            "Epoch: 400 Loss D.: 0.5660803914070129\n",
            "Epoch: 400 Loss G.: 1.1583635807037354\n",
            "Epoch: 410 Loss D.: 0.3711411654949188\n",
            "Epoch: 410 Loss G.: 1.4732271432876587\n",
            "Epoch: 420 Loss D.: 0.4942021667957306\n",
            "Epoch: 420 Loss G.: 1.1405372619628906\n",
            "Epoch: 430 Loss D.: 0.38069218397140503\n",
            "Epoch: 430 Loss G.: 1.6732097864151\n",
            "Epoch: 440 Loss D.: 0.46431541442871094\n",
            "Epoch: 440 Loss G.: 1.0945557355880737\n",
            "Epoch: 450 Loss D.: 0.5224820971488953\n",
            "Epoch: 450 Loss G.: 1.2018197774887085\n",
            "Epoch: 460 Loss D.: 0.6999437212944031\n",
            "Epoch: 460 Loss G.: 0.8199875354766846\n",
            "Epoch: 470 Loss D.: 0.5153260827064514\n",
            "Epoch: 470 Loss G.: 1.1144155263900757\n",
            "Epoch: 480 Loss D.: 0.41518428921699524\n",
            "Epoch: 480 Loss G.: 1.1220462322235107\n",
            "Epoch: 490 Loss D.: 0.4403708577156067\n",
            "Epoch: 490 Loss G.: 1.141714096069336\n"
          ]
        }
      ]
    },
    {
      "cell_type": "code",
      "metadata": {
        "colab": {
          "base_uri": "https://localhost:8080/",
          "height": 265
        },
        "id": "hs5paGQUO03N",
        "outputId": "2790993c-a474-4f20-d63d-6ea0843ac1e8"
      },
      "source": [
        "# plot and save the generator and discriminator loss\n",
        "plt.figure()\n",
        "plt.plot(losses_g, label='Generator loss')\n",
        "plt.plot(losses_d, label='Discriminator Loss')\n",
        "plt.legend()\n",
        "plt.show()"
      ],
      "execution_count": 37,
      "outputs": [
        {
          "output_type": "display_data",
          "data": {
            "image/png": "[encoded data removed]",
            "text/plain": [
              "<Figure size 432x288 with 1 Axes>"
            ]
          },
          "metadata": {
            "needs_background": "light"
          }
        }
      ]
    },
    {
      "cell_type": "code",
      "metadata": {
        "id": "m6LUuQD1uz2F"
      },
      "source": [
        "# make a dataframe for sample list\n",
        "for i in final_generated_samples:\n",
        "  a = i.detach().numpy()\n",
        "  final_generated_samples_list.append(a)\n",
        "final_generated_samples_df = pd.DataFrame(final_generated_samples_list)"
      ],
      "execution_count": 38,
      "outputs": []
    },
    {
      "cell_type": "code",
      "metadata": {
        "id": "xNZjGkXgiNGL",
        "colab": {
          "base_uri": "https://localhost:8080/"
        },
        "outputId": "3e4c3771-af17-4124-ecae-17cf184cf23e"
      },
      "source": [
        "latent_space_samples[:10]"
      ],
      "execution_count": 39,
      "outputs": [
        {
          "output_type": "execute_result",
          "data": {
            "text/plain": [
              "tensor([[0.1961, 0.0814, 0.4970, 0.3276, 0.3165, 0.5341, 0.2196, 0.7614],\n",
              "        [0.7450, 0.2675, 0.8901, 0.4185, 0.1595, 0.6739, 0.5098, 0.2256],\n",
              "        [0.3303, 0.7018, 0.6145, 0.2962, 0.7214, 0.7363, 0.8519, 0.1997],\n",
              "        [0.3982, 0.5788, 0.6559, 0.3149, 0.3003, 0.1301, 0.5670, 0.5705],\n",
              "        [0.8150, 0.0579, 0.1743, 0.3022, 0.5946, 0.6948, 0.1656, 0.6841],\n",
              "        [0.6341, 0.3086, 0.0640, 0.1352, 0.7608, 0.3795, 0.5200, 0.1162],\n",
              "        [0.5220, 0.5874, 0.6209, 0.9065, 0.1523, 0.7271, 0.3477, 0.9635],\n",
              "        [0.0293, 0.3850, 0.4702, 0.6995, 0.2267, 0.0309, 0.6473, 0.5303],\n",
              "        [0.9125, 0.1025, 0.9434, 0.9731, 0.7805, 0.1307, 0.6237, 0.1239],\n",
              "        [0.6002, 0.3394, 0.9071, 0.2466, 0.4549, 0.1623, 0.8898, 0.8726]])"
            ]
          },
          "metadata": {},
          "execution_count": 39
        }
      ]
    },
    {
      "cell_type": "code",
      "metadata": {
        "id": "4tvxpDe3Za9d",
        "colab": {
          "base_uri": "https://localhost:8080/",
          "height": 282
        },
        "outputId": "b1bd346a-7c6e-4562-d348-a1b3a191ef23"
      },
      "source": [
        "#plot of two variables from generated samples\n",
        "plt.plot(final_generated_samples_df.iloc[:, 6], \n",
        "         final_generated_samples_df.iloc[:, 3], \".\")"
      ],
      "execution_count": 40,
      "outputs": [
        {
          "output_type": "execute_result",
          "data": {
            "text/plain": [
              "[<matplotlib.lines.Line2D at 0x7f6eb38760d0>]"
            ]
          },
          "metadata": {},
          "execution_count": 40
        },
        {
          "output_type": "display_data",
          "data": {
            "image/png": "[encoded data removed]",
            "text/plain": [
              "<Figure size 432x288 with 1 Axes>"
            ]
          },
          "metadata": {
            "needs_background": "light"
          }
        }
      ]
    },
    {
      "cell_type": "code",
      "metadata": {
        "id": "XIMG5PoX06OX"
      },
      "source": [
        "from scipy.spatial import distance"
      ],
      "execution_count": 41,
      "outputs": []
    },
    {
      "cell_type": "code",
      "metadata": {
        "id": "RycK3PK_zDW0"
      },
      "source": [
        "float_x = real_samples[0].double()"
      ],
      "execution_count": 42,
      "outputs": []
    },
    {
      "cell_type": "code",
      "metadata": {
        "id": "Y6D_uRDmDsKS"
      },
      "source": [
        "float_x = list(float_x.numpy())"
      ],
      "execution_count": 43,
      "outputs": []
    },
    {
      "cell_type": "markdown",
      "metadata": {
        "id": "mP59c_ZQqUKQ"
      },
      "source": [
        ""
      ]
    },
    {
      "cell_type": "code",
      "metadata": {
        "id": "rf0t9hUt7Wc4",
        "colab": {
          "base_uri": "https://localhost:8080/"
        },
        "outputId": "7f48dd63-8e9b-40b5-a8d6-7d0e5d3a029c"
      },
      "source": [
        "# Cosine similarity\n",
        "def square_rooted(x):\n",
        "   return round(math.sqrt(sum([a*a for a in x])),3)\n",
        "  \n",
        "def cosine_similarity(x,y):\n",
        " numerator = sum(a*b for a,b in zip(x,y))\n",
        " denominator = square_rooted(x)*square_rooted(y)\n",
        " return round(numerator/float(denominator),3)\n",
        "  \n",
        "print(cosine_similarity(final_generated_samples_df[0],float_x))"
      ],
      "execution_count": 44,
      "outputs": [
        {
          "output_type": "stream",
          "name": "stdout",
          "text": [
            "0.175\n"
          ]
        }
      ]
    },
    {
      "cell_type": "code",
      "metadata": {
        "id": "vP1mzbkc79ik",
        "colab": {
          "base_uri": "https://localhost:8080/"
        },
        "outputId": "d29ddda0-fafa-485e-d377-dd2a2c723e85"
      },
      "source": [
        "#Jaccard similarity\n",
        "from math import*\n",
        "  \n",
        "def jaccard_similarity(x,y):\n",
        " intersection_cardinality = len(set.intersection(*[set(x), set(y)]))\n",
        " union_cardinality = len(set.union(*[set(x), set(y)]))\n",
        " return intersection_cardinality/float(union_cardinality)\n",
        "print(jaccard_similarity([0,1,2,5,6],[0,2,3,5,7,9]))"
      ],
      "execution_count": 45,
      "outputs": [
        {
          "output_type": "stream",
          "name": "stdout",
          "text": [
            "0.375\n"
          ]
        }
      ]
    },
    {
      "cell_type": "code",
      "metadata": {
        "id": "NP3So0XD8g60"
      },
      "source": [
        "import numpy as np\n",
        "import pandas as pd\n",
        "from sklearn.metrics import jaccard_score\n",
        "from sklearn.metrics.pairwise import pairwise_distances,cosine_similarity"
      ],
      "execution_count": 46,
      "outputs": []
    },
    {
      "cell_type": "code",
      "metadata": {
        "id": "DCwHlEBVHgow"
      },
      "source": [
        "df9 = pd.DataFrame(scaler.inverse_transform(final_generated_samples_df))\n",
        "df10 = pd.DataFrame(scaler.inverse_transform(train_data_01))"
      ],
      "execution_count": 47,
      "outputs": []
    },
    {
      "cell_type": "code",
      "metadata": {
        "id": "ji0flvFOBhuS"
      },
      "source": [
        "generated_vals2=[]\n",
        "for i, j in df9.iterrows():\n",
        "  generated_vals2.append(j.values)\n",
        "\n",
        "generated_vals3 = generated_vals2[:10]\n",
        "\n",
        "train_data_vals2=[]\n",
        "for i, j in train_data_001.iterrows():\n",
        "  train_data_vals2.append(j.values)\n"
      ],
      "execution_count": 48,
      "outputs": []
    },
    {
      "cell_type": "markdown",
      "metadata": {
        "id": "uxYm6GBjoZG6"
      },
      "source": [
        ""
      ]
    },
    {
      "cell_type": "code",
      "metadata": {
        "id": "cM4Kbd01UDeF"
      },
      "source": [
        "def cos_similarity(x,d):\n",
        "  recommended = []  \n",
        "  for i in d:\n",
        "    a = cosine_similarity([x],[i])\n",
        "    recommended.append(a)\n",
        "  rec_score=max(recommended)\n",
        "  rec_index = recommended.index(rec_score)\n",
        "  rec_cos.append(rec_score)\n",
        "  rec_idx = df13.index[rec_index]\n",
        "  cos_name.append(rec_idx)\n",
        "  rec_len = len(recommended)\n",
        "  results1.append(['index:',rec_idx,'; cos sim:',rec_score])"
      ],
      "execution_count": 49,
      "outputs": []
    },
    {
      "cell_type": "code",
      "metadata": {
        "id": "8GyLH48C0vPM"
      },
      "source": [
        "def euclid_similarity(x,d):\n",
        "  recommended = []  \n",
        "  for i in d:\n",
        "    a = distance.euclidean([x],[i])\n",
        "    recommended.append(a)\n",
        "  rec_score=min(recommended)\n",
        "  rec_index = recommended.index(rec_score)\n",
        "  rec_euc.append(rec_score)\n",
        "  rec_idx = df13.index[rec_index]\n",
        "  euc_name.append(rec_idx)\n",
        "  rec_len = len(recommended)\n",
        "  results2.append(['index:',rec_idx,'; euclid sim:',rec_score])"
      ],
      "execution_count": 50,
      "outputs": []
    },
    {
      "cell_type": "code",
      "metadata": {
        "id": "j527TRLHyY2x",
        "colab": {
          "base_uri": "https://localhost:8080/"
        },
        "outputId": "02a56380-c37a-4054-be83-b1f05789d910"
      },
      "source": [
        "dst = distance.euclidean(final_generated_samples_df.iloc[0,:].values,float_x)\n",
        "print('Euclidean distance: %.3f' % dst)"
      ],
      "execution_count": 51,
      "outputs": [
        {
          "output_type": "stream",
          "name": "stdout",
          "text": [
            "Euclidean distance: 0.837\n"
          ]
        }
      ]
    },
    {
      "cell_type": "code",
      "metadata": {
        "id": "I5WphA_0Z9zV"
      },
      "source": [
        "# pick recommendations with cosine similarity\n",
        "results1 =[]\n",
        "cos_name =[]\n",
        "rec_cos = []\n",
        "for i in generated_vals2:\n",
        "  a = cos_similarity(i,train_data_vals2)"
      ],
      "execution_count": 52,
      "outputs": []
    },
    {
      "cell_type": "code",
      "metadata": {
        "id": "iqO0J7Zlq2G_"
      },
      "source": [
        "cols2 = ['language']\n",
        "cos_rec =  df4[df4['track_name'].isin(cos_name)]\n",
        "cos_rec2 = cos_rec.drop(['playlist_id','track_id','track_name','track_artist'], axis=1)\n",
        "cos_rec2[cols2] = cos_rec2[cols2].apply(LabelEncoder().fit_transform)\n",
        "cos_rec3 = cos_rec2.iloc[:1024,6:14]"
      ],
      "execution_count": 53,
      "outputs": []
    },
    {
      "cell_type": "code",
      "metadata": {
        "id": "QDk6KhE433zB"
      },
      "source": [
        "cos_rec4=[]\n",
        "for i, j in cos_rec3.iterrows():\n",
        "  cos_rec4.append(j.values)"
      ],
      "execution_count": 54,
      "outputs": []
    },
    {
      "cell_type": "code",
      "metadata": {
        "id": "nC-_WcnkFKkQ"
      },
      "source": [
        "cos_rec3['track_name'] = df4['track_name']\n",
        "cos_rec5 = cos_rec3.set_index('track_name')"
      ],
      "execution_count": 55,
      "outputs": []
    },
    {
      "cell_type": "code",
      "metadata": {
        "id": "epyouEYb0LlZ"
      },
      "source": [
        "rec_cose=[]\n",
        "for i in rec_cos:\n",
        "  rec_cose.append(i[0][0])"
      ],
      "execution_count": 56,
      "outputs": []
    },
    {
      "cell_type": "code",
      "metadata": {
        "id": "I9txVZCn1Me7"
      },
      "source": [
        "# pick recommendations with euclidean similarity\n",
        "results2 =[]\n",
        "euc_name =[]\n",
        "rec_euc = []\n",
        "for i in generated_vals2:\n",
        "  a = euclid_similarity(i,train_data_vals2)"
      ],
      "execution_count": 57,
      "outputs": []
    },
    {
      "cell_type": "code",
      "metadata": {
        "id": "3TOBzgYDw_6q"
      },
      "source": [
        "euc_rec =  df4[df4['track_name'].isin(euc_name)]\n",
        "euc_rec2 = euc_rec.drop(['playlist_id','track_id','track_name','track_artist'], axis=1)\n",
        "euc_rec2[cols2] = euc_rec2[cols2].apply(LabelEncoder().fit_transform)\n",
        "euc_rec3 = euc_rec2.iloc[:1024,6:14]"
      ],
      "execution_count": 58,
      "outputs": []
    },
    {
      "cell_type": "code",
      "metadata": {
        "id": "FFxwgPxVGu66"
      },
      "source": [
        "euc_rec4=[]\n",
        "for i, j in euc_rec3.iterrows():\n",
        "  euc_rec4.append(j.values)"
      ],
      "execution_count": 59,
      "outputs": []
    },
    {
      "cell_type": "code",
      "metadata": {
        "id": "HMl2sYUOGE7M"
      },
      "source": [
        "euc_rec3['track_name'] = df4['track_name']\n",
        "euc_rec5 = euc_rec3.set_index('track_name')"
      ],
      "execution_count": 60,
      "outputs": []
    },
    {
      "cell_type": "code",
      "metadata": {
        "id": "SR1wtnOQsprP"
      },
      "source": [
        "testdf1_3 = testdf1_2\n",
        "testdf1_3['track_name'] = testdf1['track_name']\n",
        "testdf1_3 = testdf1_3.set_index('track_name')\n",
        "\n",
        "testdf2_3 = testdf2_2\n",
        "testdf2_3['track_name'] = testdf2['track_name']\n",
        "testdf2_3 = testdf2_3.set_index('track_name')\n",
        "\n",
        "testdf3_3 = testdf3_2\n",
        "testdf3_3['track_name'] = testdf3['track_name']\n",
        "testdf3_3 = testdf3_3.set_index('track_name')"
      ],
      "execution_count": 61,
      "outputs": []
    },
    {
      "cell_type": "code",
      "metadata": {
        "id": "C976IH3Y745-"
      },
      "source": [
        "test_data1 = testdf1_3.values\n",
        "test_data2 = testdf2_3.values\n",
        "test_data3 = testdf3_3.values"
      ],
      "execution_count": 62,
      "outputs": []
    },
    {
      "cell_type": "code",
      "metadata": {
        "id": "XWRXAtgRfQB_"
      },
      "source": [
        "def cos_similarity_t1(x,d):\n",
        "  recommended = []  \n",
        "  for i in d:\n",
        "    a = cosine_similarity([x],[i])\n",
        "    recommended.append(a)\n",
        "  rec_score=max(recommended)\n",
        "  rec_index = recommended.index(rec_score)\n",
        "  rec_cosT1.append(rec_score)\n",
        "  rec_idx = cos_rec5.index[rec_index]\n",
        "  rec_len = len(recommended)\n",
        "  print('len train data:',rec_len,'; index:',rec_idx,'; cos sim:',rec_score)\n",
        "\n",
        "def euclid_similarity_t1(x,d):\n",
        "  recommended = []  \n",
        "  for i in d:\n",
        "    a = distance.euclidean([x],[i])\n",
        "    recommended.append(a)\n",
        "  rec_score=min(recommended)\n",
        "  rec_index = recommended.index(rec_score)\n",
        "  rec_eucT1.append(rec_score)\n",
        "  rec_idx = euc_rec5.index[rec_index]\n",
        "  rec_len = len(recommended)\n",
        "  print('len train data:',rec_len,'; index:',rec_idx,'; euclid sim:',rec_score)"
      ],
      "execution_count": 63,
      "outputs": []
    },
    {
      "cell_type": "code",
      "metadata": {
        "id": "v3iYXkcX8QJr",
        "colab": {
          "base_uri": "https://localhost:8080/"
        },
        "outputId": "ef1396ee-7c35-44f0-d53b-faf65d3c0840"
      },
      "source": [
        "#compare recomendations to test subjects\n",
        "rec_cosT1 = []\n",
        "for i in test_data1:\n",
        "  a = cos_similarity_t1(i,cos_rec4)"
      ],
      "execution_count": 64,
      "outputs": [
        {
          "output_type": "stream",
          "name": "stdout",
          "text": [
            "len train data: 47 ; index: LUNA ; cos sim: [[0.9999841]]\n",
            "len train data: 47 ; index: LUNA ; cos sim: [[0.9999654]]\n",
            "len train data: 47 ; index: Saudi Arabi Money Rich - Babos Remix ; cos sim: [[0.99995711]]\n",
            "len train data: 47 ; index: LUNA ; cos sim: [[0.99998848]]\n",
            "len train data: 47 ; index: LUNA ; cos sim: [[0.99995792]]\n",
            "len train data: 47 ; index: LUNA ; cos sim: [[0.99997355]]\n",
            "len train data: 47 ; index: LUNA ; cos sim: [[0.99996732]]\n",
            "len train data: 47 ; index: Saudi Arabi Money Rich - Babos Remix ; cos sim: [[0.99996181]]\n",
            "len train data: 47 ; index: LUNA ; cos sim: [[0.9999583]]\n",
            "len train data: 47 ; index: She's Playing Hard To Get ; cos sim: [[0.99997417]]\n"
          ]
        }
      ]
    },
    {
      "cell_type": "code",
      "metadata": {
        "id": "OgQfUT3W3nZ4"
      },
      "source": [
        "rec_coseT1=[]\n",
        "for i in rec_cosT1:\n",
        "  rec_coseT1.append(i[0][0])"
      ],
      "execution_count": 65,
      "outputs": []
    },
    {
      "cell_type": "code",
      "metadata": {
        "id": "4vwnG9_x-1Gy",
        "colab": {
          "base_uri": "https://localhost:8080/"
        },
        "outputId": "29a836a1-89f2-4829-9679-97594d8ef4b3"
      },
      "source": [
        "rec_eucT1 = []\n",
        "for i in test_data1:\n",
        "  a = euclid_similarity_t1(i,euc_rec4)"
      ],
      "execution_count": 66,
      "outputs": [
        {
          "output_type": "stream",
          "name": "stdout",
          "text": [
            "len train data: 50 ; index: Super Bass ; euclid sim: 2.3521975424045705\n",
            "len train data: 50 ; index: I Would Like ; euclid sim: 2.2669520484562535\n",
            "len train data: 50 ; index: Criminal ; euclid sim: 2.3278768718512586\n",
            "len train data: 50 ; index: Big Area ; euclid sim: 2.0620359563897046\n",
            "len train data: 50 ; index: Did It Again ; euclid sim: 2.5379730613227536\n",
            "len train data: 50 ; index: M'$ ; euclid sim: 2.2738508262416866\n",
            "len train data: 50 ; index: Super Bass ; euclid sim: 2.5591329795315594\n",
            "len train data: 50 ; index: Long Road To Ruin ; euclid sim: 2.3788317744846927\n",
            "len train data: 50 ; index: Ronca ; euclid sim: 5.104915744897253\n",
            "len train data: 50 ; index: Tell Me You Love Me - NOTD Remix ; euclid sim: 1.4938729564503488\n"
          ]
        }
      ]
    },
    {
      "cell_type": "code",
      "metadata": {
        "id": "a9IAbe8_f5MT"
      },
      "source": [
        "def cos_similarity_t2(x,d):\n",
        "  recommended = []  \n",
        "  for i in d:\n",
        "    a = cosine_similarity([x],[i])\n",
        "    recommended.append(a)\n",
        "  rec_score=max(recommended)\n",
        "  rec_index = recommended.index(rec_score)\n",
        "  rec_cosT2.append(rec_score)\n",
        "  rec_idx = cos_rec5.index[rec_index]\n",
        "  rec_len = len(recommended)\n",
        "  print('len train data:',rec_len,'; index:',rec_idx,'; cos sim:',rec_score)\n",
        "\n",
        "def euclid_similarity_t2(x,d):\n",
        "  recommended = []  \n",
        "  for i in d:\n",
        "    a = distance.euclidean([x],[i])\n",
        "    recommended.append(a)\n",
        "  rec_score=min(recommended)\n",
        "  rec_index = recommended.index(rec_score)\n",
        "  rec_eucT2.append(rec_score)\n",
        "  rec_idx = euc_rec5.index[rec_index]\n",
        "  rec_len = len(recommended)\n",
        "  print('len train data:',rec_len,'; index:',rec_idx,'; euclid sim:',rec_score)"
      ],
      "execution_count": 67,
      "outputs": []
    },
    {
      "cell_type": "code",
      "metadata": {
        "id": "CYriMM1ck4Gx",
        "colab": {
          "base_uri": "https://localhost:8080/"
        },
        "outputId": "bf965a9c-da1a-4a39-96fc-e9cfbff32540"
      },
      "source": [
        "#compare recomendations to test subjects\n",
        "rec_cosT2 = []\n",
        "for i in test_data2:\n",
        "  a = cos_similarity_t2(i,cos_rec4)"
      ],
      "execution_count": 68,
      "outputs": [
        {
          "output_type": "stream",
          "name": "stdout",
          "text": [
            "len train data: 47 ; index: LUNA ; cos sim: [[0.99997501]]\n",
            "len train data: 47 ; index: LUNA ; cos sim: [[0.99998153]]\n",
            "len train data: 47 ; index: Saudi Arabi Money Rich - Babos Remix ; cos sim: [[0.99994833]]\n",
            "len train data: 47 ; index: Saudi Arabi Money Rich - Babos Remix ; cos sim: [[0.99996062]]\n",
            "len train data: 47 ; index: LUNA ; cos sim: [[0.9999686]]\n",
            "len train data: 47 ; index: LUNA ; cos sim: [[0.99999511]]\n",
            "len train data: 47 ; index: Saudi Arabi Money Rich - Babos Remix ; cos sim: [[0.99995496]]\n",
            "len train data: 47 ; index: LUNA ; cos sim: [[0.9999855]]\n",
            "len train data: 47 ; index: Saudi Arabi Money Rich - Babos Remix ; cos sim: [[0.99995779]]\n",
            "len train data: 47 ; index: Saudi Arabi Money Rich - Babos Remix ; cos sim: [[0.99995216]]\n",
            "len train data: 47 ; index: LUNA ; cos sim: [[0.99998871]]\n"
          ]
        }
      ]
    },
    {
      "cell_type": "code",
      "metadata": {
        "id": "ZAFU1-Mp2jsy"
      },
      "source": [
        "rec_coseT2=[]\n",
        "for i in rec_cosT2:\n",
        "  rec_coseT2.append(i[0][0])"
      ],
      "execution_count": 69,
      "outputs": []
    },
    {
      "cell_type": "code",
      "metadata": {
        "id": "LGue-_WhuEqo",
        "colab": {
          "base_uri": "https://localhost:8080/"
        },
        "outputId": "6369d0cf-7af2-404a-b138-d4dbddd1d9b5"
      },
      "source": [
        "rec_eucT2 = []\n",
        "for i in test_data2:\n",
        "  a = euclid_similarity_t2(i,euc_rec4)"
      ],
      "execution_count": 70,
      "outputs": [
        {
          "output_type": "stream",
          "name": "stdout",
          "text": [
            "len train data: 50 ; index: Tell Me You Love Me - NOTD Remix ; euclid sim: 2.009119326492083\n",
            "len train data: 50 ; index: Bad By Myself ; euclid sim: 2.1758954748982515\n",
            "len train data: 50 ; index: Kannste ma sehn ; euclid sim: 1.1997456772166415\n",
            "len train data: 50 ; index: In Only Seven Days - Remastered 2011 ; euclid sim: 2.299551525585961\n",
            "len train data: 50 ; index: So Good (feat. Raekwon) ; euclid sim: 2.573087919248972\n",
            "len train data: 50 ; index: Rump Shaker ; euclid sim: 2.0\n",
            "len train data: 50 ; index: Born To Be Yours ; euclid sim: 2.267389320341789\n",
            "len train data: 50 ; index: Just Got Paid ; euclid sim: 2.0\n",
            "len train data: 50 ; index: Oh! Sweet Nuthin' - 2015 Remastered ; euclid sim: 2.373144323466232\n",
            "len train data: 50 ; index: Rump Shaker ; euclid sim: 2.4835864105160543\n",
            "len train data: 50 ; index: Ronca ; euclid sim: 26.17770906907059\n"
          ]
        }
      ]
    },
    {
      "cell_type": "code",
      "metadata": {
        "id": "GPEUMkQaL2i-"
      },
      "source": [
        "def cos_similarity_t3(x,d):\n",
        "  recommended = []  \n",
        "  for i in d:\n",
        "    a = cosine_similarity([x],[i])\n",
        "    recommended.append(a)\n",
        "  rec_score=max(recommended)\n",
        "  rec_index = recommended.index(rec_score)\n",
        "  rec_cosT3.append(rec_score)\n",
        "  rec_idx = cos_rec5.index[rec_index]\n",
        "  rec_len = len(recommended)\n",
        "  print('len train data:',rec_len,'; index:',rec_idx,'; cos sim:',rec_score)\n",
        "\n",
        "def euclid_similarity_t3(x,d):\n",
        "  recommended = []  \n",
        "  for i in d:\n",
        "    a = distance.euclidean([x],[i])\n",
        "    recommended.append(a)\n",
        "  rec_score=min(recommended)\n",
        "  rec_index = recommended.index(rec_score)\n",
        "  rec_eucT3.append(rec_score)\n",
        "  rec_idx = euc_rec5.index[rec_index]\n",
        "  rec_len = len(recommended)\n",
        "  print('len train data:',rec_len,'; index:',rec_idx,'; euclid sim:',rec_score)"
      ],
      "execution_count": 71,
      "outputs": []
    },
    {
      "cell_type": "code",
      "metadata": {
        "id": "h7yHchNGL4IY",
        "colab": {
          "base_uri": "https://localhost:8080/"
        },
        "outputId": "47cdc631-d82b-4c0d-ef5b-8d9b5f1d7bd6"
      },
      "source": [
        "#compare recomendations to test subjects\n",
        "rec_cosT3 = []\n",
        "for i in test_data3:\n",
        "  a = cos_similarity_t3(i,cos_rec4)"
      ],
      "execution_count": 72,
      "outputs": [
        {
          "output_type": "stream",
          "name": "stdout",
          "text": [
            "len train data: 47 ; index: Saudi Arabi Money Rich - Babos Remix ; cos sim: [[0.99996047]]\n",
            "len train data: 47 ; index: LUNA ; cos sim: [[0.99997699]]\n",
            "len train data: 47 ; index: LUNA ; cos sim: [[0.99999009]]\n",
            "len train data: 47 ; index: LUNA ; cos sim: [[0.99998899]]\n",
            "len train data: 47 ; index: LUNA ; cos sim: [[0.99998379]]\n",
            "len train data: 47 ; index: LUNA ; cos sim: [[0.99998042]]\n",
            "len train data: 47 ; index: LUNA ; cos sim: [[0.99998487]]\n",
            "len train data: 47 ; index: Saudi Arabi Money Rich - Babos Remix ; cos sim: [[0.99991422]]\n",
            "len train data: 47 ; index: LUNA ; cos sim: [[0.99998999]]\n",
            "len train data: 47 ; index: LUNA ; cos sim: [[0.99998022]]\n",
            "len train data: 47 ; index: Saudi Arabi Money Rich - Babos Remix ; cos sim: [[0.99995114]]\n"
          ]
        }
      ]
    },
    {
      "cell_type": "code",
      "metadata": {
        "id": "DX7PNN4N2q4C"
      },
      "source": [
        "rec_coseT3=[]\n",
        "for i in rec_cosT3:\n",
        "  rec_coseT3.append(i[0][0])"
      ],
      "execution_count": 73,
      "outputs": []
    },
    {
      "cell_type": "code",
      "metadata": {
        "id": "S22wN0m6L7J5",
        "colab": {
          "base_uri": "https://localhost:8080/"
        },
        "outputId": "8174d076-9a0e-4ff5-b00c-eefd896518d1"
      },
      "source": [
        "rec_eucT3 = []\n",
        "for i in test_data3:\n",
        "  a = euclid_similarity_t3(i,euc_rec4)"
      ],
      "execution_count": 74,
      "outputs": [
        {
          "output_type": "stream",
          "name": "stdout",
          "text": [
            "len train data: 50 ; index: What Do You Love ; euclid sim: 2.5095959856104777\n",
            "len train data: 50 ; index: Did It Again ; euclid sim: 2.588960588730544\n",
            "len train data: 50 ; index: Do Right ; euclid sim: 2.8141408031582174\n",
            "len train data: 50 ; index: Encanto ; euclid sim: 3.124650736007786\n",
            "len train data: 50 ; index: Do Right ; euclid sim: 2.8668120739943874\n",
            "len train data: 50 ; index: Ronca ; euclid sim: 6.799814318236909\n",
            "len train data: 50 ; index: If I Ever Lose My Faith In You ; euclid sim: 2.8767284623335456\n",
            "len train data: 50 ; index: Bad By Myself ; euclid sim: 2.6089705591286396\n",
            "len train data: 50 ; index: Big Area ; euclid sim: 2.446804252375737\n",
            "len train data: 50 ; index: Oh! Sweet Nuthin' - 2015 Remastered ; euclid sim: 2.1524309662628798\n",
            "len train data: 50 ; index: Do Right ; euclid sim: 2.57786183687179\n"
          ]
        }
      ]
    },
    {
      "cell_type": "code",
      "metadata": {
        "id": "AUCxAfmN7W-D"
      },
      "source": [
        "rec_coseT1.extend(rec_coseT2)"
      ],
      "execution_count": 75,
      "outputs": []
    },
    {
      "cell_type": "code",
      "metadata": {
        "id": "pE6LJqcF_RGi"
      },
      "source": [
        "rec_coseT1.extend(rec_coseT3)"
      ],
      "execution_count": 76,
      "outputs": []
    },
    {
      "cell_type": "code",
      "metadata": {
        "colab": {
          "base_uri": "https://localhost:8080/"
        },
        "id": "M4-bXg0QBSIL",
        "outputId": "a6c5d5fc-5db9-4d7e-cfbc-4517af74be41"
      },
      "source": [
        "print(rec_coseT1)"
      ],
      "execution_count": 96,
      "outputs": [
        {
          "output_type": "stream",
          "name": "stdout",
          "text": [
            "[0.9999841037516034, 0.9999653991692578, 0.9999571093751635, 0.9999884803618749, 0.9999579153987349, 0.9999735526601331, 0.9999673159463939, 0.9999618072137214, 0.9999582986721756, 0.9999741687424798, 0.9999750121659532, 0.9999815343658153, 0.9999483307385868, 0.999960624909092, 0.9999685976066536, 0.99999510692748, 0.9999549637090531, 0.9999854969054314, 0.9999577883925294, 0.9999521596425054, 0.9999887142489676, 0.9999604695702495, 0.9999769918050142, 0.9999900877877266, 0.9999889904713053, 0.9999837929241631, 0.9999804223994133, 0.9999848743965635, 0.9999142242033856, 0.9999899927658477, 0.9999802222720939, 0.9999511351955994]\n"
          ]
        }
      ]
    },
    {
      "cell_type": "code",
      "metadata": {
        "id": "mkzOzz8eBcui"
      },
      "source": [
        "rec_eucT1.extend(rec_eucT2)\n",
        "rec_eucT1.extend(rec_eucT3)"
      ],
      "execution_count": 78,
      "outputs": []
    },
    {
      "cell_type": "code",
      "metadata": {
        "colab": {
          "base_uri": "https://localhost:8080/"
        },
        "id": "Jj8RrhgNEUAS",
        "outputId": "81775a02-4478-4b0e-b217-eeecc9c2d450"
      },
      "source": [
        "print(rec_eucT1)"
      ],
      "execution_count": 79,
      "outputs": [
        {
          "output_type": "stream",
          "name": "stdout",
          "text": [
            "[2.3521975424045705, 2.2669520484562535, 2.3278768718512586, 2.0620359563897046, 2.5379730613227536, 2.2738508262416866, 2.5591329795315594, 2.3788317744846927, 5.104915744897253, 1.4938729564503488, 2.009119326492083, 2.1758954748982515, 1.1997456772166415, 2.299551525585961, 2.573087919248972, 2.0, 2.267389320341789, 2.0, 2.373144323466232, 2.4835864105160543, 26.17770906907059, 2.5095959856104777, 2.588960588730544, 2.8141408031582174, 3.124650736007786, 2.8668120739943874, 6.799814318236909, 2.8767284623335456, 2.6089705591286396, 2.446804252375737, 2.1524309662628798, 2.57786183687179]\n"
          ]
        }
      ]
    },
    {
      "cell_type": "code",
      "metadata": {
        "id": "bbnJYTS3Csmg"
      },
      "source": [
        "EMrec_eucT1 = [3.1794949929867675, 2.2247396566789623, 2.3834931344772268, \n",
        "               1.7795386312187729, 4.131295387483819, 1.782733242349986, 2.2968121037646902, \n",
        "               5.667416601998549, 5.338334433645116, 0.6905423013886464, 2.244228256680679, \n",
        "               1.3170121934449535, 2.7746301663465065, 1.5439326037093688, 2.0031029244857925, \n",
        "               2.0484200979105913, 1.1461071213459935, 1.1926341643682326, 3.4386030375720917, \n",
        "               1.6234789433756147, 9.200148453280523, 1.6392889935768629, 4.202008981427813, \n",
        "               1.6396474511260046, 3.10060616783637, 1.6719271526427204, 6.492919261780452, \n",
        "               1.1699436832052363, 2.831385897118225, 1.0, 2.67127813089678, 5.366725732697733]"
      ],
      "execution_count": 91,
      "outputs": []
    },
    {
      "cell_type": "code",
      "metadata": {
        "colab": {
          "base_uri": "https://localhost:8080/"
        },
        "id": "v_75wGujFum5",
        "outputId": "7fdefaa0-85aa-4b05-cda9-5aa03bbb7a9c"
      },
      "source": [
        "# leven test for equal variance p-value lower than 0.01 means not equal\n",
        "from scipy.stats import levene\n",
        "stat, p = levene(rec_eucT1, EMrec_eucT1)\n",
        "print('pvalue > 0.01 means equal variance, pvalue:' ,p)"
      ],
      "execution_count": 97,
      "outputs": [
        {
          "output_type": "stream",
          "name": "stdout",
          "text": [
            "pvalue > 0.01 means equal variance, pvalue: 0.9424194189804015\n"
          ]
        }
      ]
    },
    {
      "cell_type": "code",
      "metadata": {
        "colab": {
          "base_uri": "https://localhost:8080/"
        },
        "id": "0OYDjWsyGn-Z",
        "outputId": "0ef0084a-ef87-4e9e-d05d-747dbc58fca5"
      },
      "source": [
        "from scipy import stats\n",
        "stats.ttest_ind(rec_eucT1, EMrec_eucT1,equal_var = True)"
      ],
      "execution_count": 98,
      "outputs": [
        {
          "output_type": "execute_result",
          "data": {
            "text/plain": [
              "Ttest_indResult(statistic=0.6230663363516548, pvalue=0.5355262207785649)"
            ]
          },
          "metadata": {},
          "execution_count": 98
        }
      ]
    },
    {
      "cell_type": "code",
      "metadata": {
        "colab": {
          "base_uri": "https://localhost:8080/"
        },
        "id": "zs5o5fNmdV63",
        "outputId": "c4ccc8a5-1b87-462a-daaa-64b07fd2df48"
      },
      "source": [
        "print(len(rec_eucT1))\n",
        "print(len(EMrec_eucT1))"
      ],
      "execution_count": 100,
      "outputs": [
        {
          "output_type": "stream",
          "name": "stdout",
          "text": [
            "32\n",
            "32\n"
          ]
        }
      ]
    },
    {
      "cell_type": "markdown",
      "metadata": {
        "id": "RwwqpeZCKM7x"
      },
      "source": [
        "The two hypotheses for this particular two sample t-test are as follows:\n",
        "\n",
        "H0: µ1 = µ2 (the two population means are equal)\n",
        "\n",
        "HA: µ1 ≠µ2 (the two population means are not equal)\n",
        "\n",
        "Because the p-value of our test (0.0595) is greater than alpha = 0.05, we fail to reject the null hypothesis of the test. We do not have sufficient evidence to say that the mean height of plants between the two populations is different."
      ]
    }
  ]
}