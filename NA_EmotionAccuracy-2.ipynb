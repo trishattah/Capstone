{
  "nbformat": 4,
  "nbformat_minor": 0,
  "metadata": {
    "colab": {
      "name": "NA-EmotionAccuracy.ipynb",
      "provenance": [],
      "collapsed_sections": []
    },
    "kernelspec": {
      "name": "python3",
      "display_name": "Python 3"
    },
    "language_info": {
      "name": "python"
    }
  },
  "cells": [
    {
      "cell_type": "code",
      "metadata": {
        "id": "NLaLYqY3s-al"
      },
      "source": [
        "EMrec_eucT1 = [2.407115927827317, 2.1227171705387295, 4.428556579981792, 2.197995593739894, 1.133499480833143, 1.250204570333929, 2.2072286900092637, 0.0, 4.4912641608460175, 1.4601177966224683, 1.8295074798865971, 1.939226915350311, 1.084095862919881, 1.116991413594705, 4.709134523475078, 2.035558851642454, 1.1725702367186985, 0.6141327507957888, 2.8147316651397443, 1.7313928641414678, 1.0622312904918578, 1.1790049733536883, 4.563023780345656, 2.8010729801274317, 20.15725075282835, 6.859939086548072, 0.9709992636601236, 1.454692714789706, 3.1254399877535644, 2.2184701844289014, 3.6878526751383274, 4.126718822454468, 7.898767420458693, 1.6347041395558488, 2.245660591006576, 2.2062962380650535, 5.008351012759326, 2.4266590922009037]"
      ],
      "execution_count": 1,
      "outputs": []
    },
    {
      "cell_type": "code",
      "metadata": {
        "id": "Z6taf4l4VVEa"
      },
      "source": [
        "NMrec_coseT1 = [0.9999882565562278, 0.9999979657721999, 0.9999923315617796, 0.9999746647186672, 0.9999901937205865, 0.9999706879428859, 0.9999924474371015, 0.9999880066636926, 0.9999949362641557, 0.9999965341681638, 0.9999936206901414, 0.9999965721246039, 0.9999959190435552, 0.9999946435235009, 0.9999952057741548, 0.9999872392137804, 0.9999859006190891, 0.9999901625784263, 0.9999811356355937, 1.0000000000000002, 0.9999874616201471, 0.9999951986407136, 0.999976208736606, 0.9999935849885221, 0.999985199829622, 0.9999697845137847, 1.0000000000000002, 0.9999880504097526, 0.9999833384467354, 0.9999986641236054, 0.9999817025765818, 0.9999898416831324, 0.9999933611849076, 0.99996833069327, 0.9999600371403314, 0.9999999999999998, 1.0000000000000002, 0.9999863089756407]"
      ],
      "execution_count": 2,
      "outputs": []
    },
    {
      "cell_type": "code",
      "metadata": {
        "id": "R-BL0ff7WOvi"
      },
      "source": [
        "rec_coseT1 = [0.9999933367519975, 0.9999958366135604, 0.9999922259097692, 0.9999966581333073, 0.9999854604195221, 0.9999923994309148, 0.9999961786436556, 0.9999972589924081, 0.9999973724917952, 0.9999925814315758, 0.9999850455244005, 0.999996180813148, 0.9999954444068863, 0.9999961513542712, 0.9999803920483779, 0.9999950197482327, 0.9999956159695195, 0.9999804386178313, 0.999997832791965, 1.0000000000000002, 0.9999862827251608, 0.9999975473013035, 0.999993154117715, 0.9999924188638883, 0.9999962847765244, 0.9999917183510276, 0.9999832627409282, 0.9999918833613036, 0.9999980913992829, 0.9999955022403022, 0.9999959871404412, 0.9999915254061487, 0.9999854056848291, 0.9999951753025962, 0.9999716310844874, 0.9999806755289424, 0.9999947570876672, 0.9999833041458615]"
      ],
      "execution_count": 3,
      "outputs": []
    },
    {
      "cell_type": "code",
      "metadata": {
        "id": "fgCVO3veWXSZ"
      },
      "source": [
        "rec_eucT1 = [2.1240837577647413, 0.7144277430223517, 4.212957166884081, 1.4876026821702035, 2.1586056934975457, 0.9548193243226628, 2.3028130818631314, 0.0, 7.129907868268702, 1.9877990850184077, 3.198965956367781, 1.0429351801526254, 2.0956683158362517, 0.0, 2.1158037621670083, 2.335136334349668, 0.6497295899064472, 1.9970363951615875, 1.5060683550224299, 1.7715454298436728, 2.3983951732147872, 1.452501104990976, 3.2997775455324283, 2.0984377642427225, 5.032098157071262, 4.1571408131070084, 1.8037165998263185, 2.0987286056086494, 0.48159602365466664, 1.1523963686162977, 1.095616621827633, 2.049622892143826, 6.101418460377104, 1.0766788146889508, 1.396004917613115, 0.0, 2.497356760657162, 2.6958400175084543]"
      ],
      "execution_count": 4,
      "outputs": []
    },
    {
      "cell_type": "code",
      "metadata": {
        "colab": {
          "base_uri": "https://localhost:8080/"
        },
        "id": "0SbBheJoVxfT",
        "outputId": "783c2e0f-fdd7-4a28-9908-6bc5bb7cde10"
      },
      "source": [
        "from scipy import stats\n",
        "#stats.ttest_ind(rec_eucT1, EMrec_eucT1,equal_var = False)\n",
        "stats.ttest_rel(rec_eucT1, EMrec_eucT1)"
      ],
      "execution_count": 5,
      "outputs": [
        {
          "output_type": "execute_result",
          "data": {
            "text/plain": [
              "Ttest_relResult(statistic=-2.0141339369626374, pvalue=0.05130902869846177)"
            ]
          },
          "metadata": {},
          "execution_count": 5
        }
      ]
    },
    {
      "cell_type": "code",
      "metadata": {
        "colab": {
          "base_uri": "https://localhost:8080/"
        },
        "id": "iMeH1EM8Vy5F",
        "outputId": "93df8a59-342d-468b-9bcf-6856b560e16d"
      },
      "source": [
        "import scipy.stats as stats\n",
        "#stats.ttest_ind(rec_coseT1, b=NMrec_coseT1, equal_var=False)\n",
        "stats.ttest_rel(rec_coseT1, b=NMrec_coseT1)"
      ],
      "execution_count": 6,
      "outputs": [
        {
          "output_type": "execute_result",
          "data": {
            "text/plain": [
              "Ttest_relResult(statistic=1.799577074555737, pvalue=0.08008669820139003)"
            ]
          },
          "metadata": {},
          "execution_count": 6
        }
      ]
    },
    {
      "cell_type": "code",
      "metadata": {
        "id": "vye_seQMVZVB"
      },
      "source": [
        "def oneslistmaker(n):    \n",
        "  listofones = [1] * n   \n",
        "  return listofones"
      ],
      "execution_count": 7,
      "outputs": []
    },
    {
      "cell_type": "code",
      "metadata": {
        "colab": {
          "base_uri": "https://localhost:8080/"
        },
        "id": "nne3AJKrtJi0",
        "outputId": "2724fd4c-5c26-4d4b-8848-0fdafdb3e752"
      },
      "source": [
        "#classification report with emotion model cosine distance\n",
        "from mlxtend.plotting import plot_confusion_matrix\n",
        "from sklearn.metrics import accuracy_score,confusion_matrix \n",
        "y_true = oneslistmaker(32)\n",
        "y_pred = [0,0,1,0,0,0,1,0\t,1,1,0,0,0,0,0,1,1,0,0,0,0,0,0,0,0,0,0,0,1,0,0,1]\n",
        "conf_matrix1 = confusion_matrix(y_true=y_true, y_pred=y_pred)\n",
        "\n",
        "print('Cosine similarrity model accuracy with emotion:',accuracy_score(y_true, y_pred))"
      ],
      "execution_count": 8,
      "outputs": [
        {
          "output_type": "stream",
          "name": "stdout",
          "text": [
            "Cosine similarrity model accuracy with emotion: 0.25\n"
          ]
        }
      ]
    },
    {
      "cell_type": "code",
      "metadata": {
        "colab": {
          "base_uri": "https://localhost:8080/",
          "height": 486
        },
        "id": "upu9Kd_btODL",
        "outputId": "b83b58da-ddcb-4778-ce26-e6bb1cc956a0"
      },
      "source": [
        "import seaborn as sns\n",
        "import matplotlib.pyplot as plt\n",
        "\n",
        "fig, ax = plot_confusion_matrix(conf_mat=conf_matrix1, figsize=(6, 6), cmap=plt.cm.Greens)\n",
        "plt.xlabel('Predictions', fontsize=18)\n",
        "plt.ylabel('Actuals', fontsize=18)\n",
        "plt.title('Confusion Matrix', fontsize=18)\n",
        "plt.show()\n",
        "\n",
        "\n",
        "cm = confusion_matrix(y_true, y_pred)\n",
        "#f = sns.heatmap(cm, annot=True)"
      ],
      "execution_count": 9,
      "outputs": [
        {
          "output_type": "stream",
          "name": "stderr",
          "text": [
            "/usr/local/lib/python3.7/dist-packages/mlxtend/plotting/plot_confusion_matrix.py:59: RuntimeWarning: invalid value encountered in true_divide\n",
            "  normed_conf_mat = conf_mat.astype('float') / total_samples\n"
          ]
        },
        {
          "output_type": "display_data",
          "data": {
            "image/png": "[encoded data removed]",
            "text/plain": [
              "<Figure size 432x432 with 1 Axes>"
            ]
          },
          "metadata": {
            "needs_background": "light"
          }
        }
      ]
    },
    {
      "cell_type": "code",
      "metadata": {
        "colab": {
          "base_uri": "https://localhost:8080/"
        },
        "id": "KYa0-mzPtq7k",
        "outputId": "b53d987e-46ee-4bbe-a50c-fca9b9c13c7e"
      },
      "source": [
        "#classification report with emotion model euclidean distance\n",
        "target_names = oneslistmaker(32)\n",
        "y_true = oneslistmaker(32)\n",
        "y_pred = [1,0,1,1,1,1,0,1,0,1,0,1,0,1,0,0,0,1,1,0,1,1,1,0,1,0,1,1,1,1,1,1]\n",
        "conf_matrix2 = confusion_matrix(y_true=y_true, y_pred=y_pred)\n",
        "print('Euclidean distance model accuracy with emotion:',accuracy_score(y_true, y_pred))"
      ],
      "execution_count": 10,
      "outputs": [
        {
          "output_type": "stream",
          "name": "stdout",
          "text": [
            "Euclidean distance model accuracy with emotion: 0.65625\n"
          ]
        }
      ]
    },
    {
      "cell_type": "code",
      "metadata": {
        "colab": {
          "base_uri": "https://localhost:8080/",
          "height": 486
        },
        "id": "xtjPVnlittxp",
        "outputId": "200da5b8-f301-42ae-b39a-dadb2414479f"
      },
      "source": [
        "#confusion matrix with emotion model for the euclidean distance\n",
        "fig, ax = plot_confusion_matrix(conf_mat=conf_matrix2, figsize=(6, 6), cmap=plt.cm.Greens)\n",
        "plt.xlabel('Predictions', fontsize=18)\n",
        "plt.ylabel('Actuals', fontsize=18)\n",
        "plt.title('Confusion Matrix', fontsize=18)\n",
        "plt.show()"
      ],
      "execution_count": 11,
      "outputs": [
        {
          "output_type": "stream",
          "name": "stderr",
          "text": [
            "/usr/local/lib/python3.7/dist-packages/mlxtend/plotting/plot_confusion_matrix.py:59: RuntimeWarning: invalid value encountered in true_divide\n",
            "  normed_conf_mat = conf_mat.astype('float') / total_samples\n"
          ]
        },
        {
          "output_type": "display_data",
          "data": {
            "image/png": "[encoded data removed]",
            "text/plain": [
              "<Figure size 432x432 with 1 Axes>"
            ]
          },
          "metadata": {
            "needs_background": "light"
          }
        }
      ]
    },
    {
      "cell_type": "code",
      "metadata": {
        "colab": {
          "base_uri": "https://localhost:8080/"
        },
        "id": "B9dpEnhMtzUv",
        "outputId": "b9b069dc-645a-4200-c1fe-5cf3b1b5503b"
      },
      "source": [
        "#classification report with no emotion model cosine similarity\n",
        "from sklearn.metrics import accuracy_score\n",
        "y_true = oneslistmaker(32)\n",
        "y_pred = [0,0,0,0,0,0,0,0,0,1,0,0,0,0,0,0,0,0,0,1,0,1,0,1,0,1,0,0,0,1,0,0]\n",
        "print('Cosine distance model accuracy with emotion:',accuracy_score(y_true, y_pred))"
      ],
      "execution_count": 12,
      "outputs": [
        {
          "output_type": "stream",
          "name": "stdout",
          "text": [
            "Cosine distance model accuracy with emotion: 0.1875\n"
          ]
        }
      ]
    },
    {
      "cell_type": "code",
      "metadata": {
        "colab": {
          "base_uri": "https://localhost:8080/",
          "height": 486
        },
        "id": "I2RS-x4mt1-x",
        "outputId": "d04dfdfb-5f26-4411-bcc4-a7b95c49374b"
      },
      "source": [
        "#confusion matrix with no emotion model for the cosine similarity\n",
        "conf_matrix1 = confusion_matrix(y_true=y_true, y_pred=y_pred)\n",
        "fig, ax = plot_confusion_matrix(conf_mat=conf_matrix1, figsize=(6, 6), cmap=plt.cm.Greens)\n",
        "plt.xlabel('Predictions', fontsize=18)\n",
        "plt.ylabel('Actuals', fontsize=18)\n",
        "plt.title('Confusion Matrix', fontsize=18)\n",
        "plt.show()"
      ],
      "execution_count": 13,
      "outputs": [
        {
          "output_type": "stream",
          "name": "stderr",
          "text": [
            "/usr/local/lib/python3.7/dist-packages/mlxtend/plotting/plot_confusion_matrix.py:59: RuntimeWarning: invalid value encountered in true_divide\n",
            "  normed_conf_mat = conf_mat.astype('float') / total_samples\n"
          ]
        },
        {
          "output_type": "display_data",
          "data": {
            "image/png": "[encoded data removed]",
            "text/plain": [
              "<Figure size 432x432 with 1 Axes>"
            ]
          },
          "metadata": {
            "needs_background": "light"
          }
        }
      ]
    },
    {
      "cell_type": "code",
      "metadata": {
        "colab": {
          "base_uri": "https://localhost:8080/"
        },
        "id": "sDp16AxWt9Rm",
        "outputId": "fa1e1e37-5aba-4f00-a6ee-3877d932d7e3"
      },
      "source": [
        "#classification report with no emotion model euclidean distance\n",
        "#conf_matrix2 = confusion_matrix(y_true=y_test, y_pred=y_pred)\n",
        "target_names = oneslistmaker(32)\n",
        "y_true = oneslistmaker(32)\n",
        "y_pred = [1,0,1,1,1,0,0,1,0,1,1,1,0,0,0,1,1,1,0,1,1,1,1,1,0,1,0,1,1,1,0,0]\n",
        "print('Euclidean distance model accuracy with emotion:',accuracy_score(y_true, y_pred))"
      ],
      "execution_count": 14,
      "outputs": [
        {
          "output_type": "stream",
          "name": "stdout",
          "text": [
            "Euclidean distance model accuracy with emotion: 0.625\n"
          ]
        }
      ]
    },
    {
      "cell_type": "code",
      "metadata": {
        "colab": {
          "base_uri": "https://localhost:8080/",
          "height": 486
        },
        "id": "Sc1ucAs1uARB",
        "outputId": "69b78a3f-77cb-4dfe-ebd2-db5cba5721d5"
      },
      "source": [
        "#confusion matrix with no emotion model for the cosine similarity\n",
        "conf_matrix2 = confusion_matrix(y_true=y_true, y_pred=y_pred)\n",
        "fig, ax = plot_confusion_matrix(conf_mat=conf_matrix2, figsize=(6, 6), cmap=plt.cm.Greens)\n",
        "plt.xlabel('Predictions', fontsize=18)\n",
        "plt.ylabel('Actuals', fontsize=18)\n",
        "plt.title('Confusion Matrix', fontsize=18)\n",
        "plt.show()"
      ],
      "execution_count": 15,
      "outputs": [
        {
          "output_type": "stream",
          "name": "stderr",
          "text": [
            "/usr/local/lib/python3.7/dist-packages/mlxtend/plotting/plot_confusion_matrix.py:59: RuntimeWarning: invalid value encountered in true_divide\n",
            "  normed_conf_mat = conf_mat.astype('float') / total_samples\n"
          ]
        },
        {
          "output_type": "display_data",
          "data": {
            "image/png": "[encoded data removed]",
            "text/plain": [
              "<Figure size 432x432 with 1 Axes>"
            ]
          },
          "metadata": {
            "needs_background": "light"
          }
        }
      ]
    }
  ]
}