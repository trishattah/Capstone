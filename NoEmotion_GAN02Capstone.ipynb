{
  "nbformat": 4,
  "nbformat_minor": 0,
  "metadata": {
    "colab": {
      "name": "NoEmotion-GAN02Capstone.ipynb",
      "provenance": [],
      "collapsed_sections": []
    },
    "kernelspec": {
      "name": "python3",
      "display_name": "Python 3"
    },
    "language_info": {
      "name": "python"
    }
  },
  "cells": [
    {
      "cell_type": "code",
      "metadata": {
        "id": "YQCZ3H_2TxIZ",
        "colab": {
          "base_uri": "https://localhost:8080/"
        },
        "outputId": "51f8321f-2a48-4155-e22e-5832e06550eb"
      },
      "source": [
        "import torch\n",
        "from torch import nn\n",
        "from torch.utils.data import DataLoader\n",
        "import math\n",
        "import matplotlib.pyplot as plt\n",
        "import numpy as np\n",
        "import io\n",
        "import pandas as pd\n",
        "from imblearn.over_sampling import SMOTE\n",
        "from collections import Counter\n",
        "from matplotlib import pyplot\n",
        "from sklearn.preprocessing import MinMaxScaler\n",
        "import warnings\n",
        "warnings.filterwarnings('ignore')"
      ],
      "execution_count": 1,
      "outputs": [
        {
          "output_type": "stream",
          "name": "stderr",
          "text": [
            "/usr/local/lib/python3.7/dist-packages/sklearn/externals/six.py:31: FutureWarning: The module is deprecated in version 0.21 and will be removed in version 0.23 since we've dropped support for Python 2.7. Please rely on the official version of six (https://pypi.org/project/six/).\n",
            "  \"(https://pypi.org/project/six/).\", FutureWarning)\n",
            "/usr/local/lib/python3.7/dist-packages/sklearn/utils/deprecation.py:144: FutureWarning: The sklearn.neighbors.base module is  deprecated in version 0.22 and will be removed in version 0.24. The corresponding classes / functions should instead be imported from sklearn.neighbors. Anything that cannot be imported from sklearn.neighbors is now part of the private API.\n",
            "  warnings.warn(message, FutureWarning)\n"
          ]
        }
      ]
    },
    {
      "cell_type": "code",
      "metadata": {
        "id": "c5IpolGoaZzL"
      },
      "source": [
        "url = 'https://raw.githubusercontent.com/trishattah/Capstone/main/spotify_songs-2.csv'\n",
        "df2 = pd.read_csv(url)"
      ],
      "execution_count": 2,
      "outputs": []
    },
    {
      "cell_type": "code",
      "metadata": {
        "id": "BOfZ1LsBb3Z_"
      },
      "source": [
        "#url = 'https://raw.githubusercontent.com/trishattah/Capstone/main/Emotion_Labels.csv'\n",
        "#df3 = pd.read_csv(url)"
      ],
      "execution_count": 3,
      "outputs": []
    },
    {
      "cell_type": "code",
      "metadata": {
        "id": "KwLUDpea0D_T"
      },
      "source": [
        "#df4 = pd.merge(df2,df3,on='track_id')\n",
        "#df4 = df2.drop(['Unnamed: 19'], axis=1)\n",
        "df4=df2"
      ],
      "execution_count": 4,
      "outputs": []
    },
    {
      "cell_type": "code",
      "metadata": {
        "colab": {
          "base_uri": "https://localhost:8080/"
        },
        "id": "paij6qTxqtvn",
        "outputId": "d91478a5-441c-43f2-9df8-8fef52feb201"
      },
      "source": [
        "df4 = df4.dropna()\n",
        "df4.shape"
      ],
      "execution_count": 5,
      "outputs": [
        {
          "output_type": "execute_result",
          "data": {
            "text/plain": [
              "(1099, 19)"
            ]
          },
          "metadata": {},
          "execution_count": 5
        }
      ]
    },
    {
      "cell_type": "code",
      "metadata": {
        "colab": {
          "base_uri": "https://localhost:8080/"
        },
        "id": "rcEu57ehv2fp",
        "outputId": "f106ec21-1e36-4af2-c6a5-74c9ffa19c1f"
      },
      "source": [
        "df4['playlist_id'].value_counts()"
      ],
      "execution_count": 6,
      "outputs": [
        {
          "output_type": "execute_result",
          "data": {
            "text/plain": [
              "4hKPJNFIhdAg4pAksn78FJ    11\n",
              "3ykXidKLz1eYPvuGoFlD1e    11\n",
              "5jROYSZSL7cO0jGAqkPx7C    10\n",
              "1qXg9ck25tBRxeXsj8mbDG    10\n",
              "4NlAd9NpIa92IjErMyAriM    10\n",
              "                          ..\n",
              "37i9dQZF1DWSTc9FdySHtz     1\n",
              "2v41efarffe6iY8qpMK5Gj     1\n",
              "6Ylmweq4pT7j3ScIv5uq1c     1\n",
              "5wONX0lVyQE5XTxqjTUiUd     1\n",
              "0COM4nZqdXC3sMjVdcaU7V     1\n",
              "Name: playlist_id, Length: 359, dtype: int64"
            ]
          },
          "metadata": {},
          "execution_count": 6
        }
      ]
    },
    {
      "cell_type": "code",
      "metadata": {
        "id": "zhHvotdp3evO"
      },
      "source": [
        "from sklearn.preprocessing import LabelEncoder\n",
        "le = LabelEncoder()\n",
        "\n",
        "df11 = df2.drop(['playlist_id','track_id','track_name','track_artist'], axis=1)\n",
        "cols = ['language', 'playlist_genre']\n",
        "#df11[cols] = df11[cols].apply(LabelEncoder().fit_transform)\n",
        "\n",
        "df12 = df2.set_index('track_name')"
      ],
      "execution_count": 7,
      "outputs": []
    },
    {
      "cell_type": "code",
      "metadata": {
        "id": "gh5zkMZ3x43G"
      },
      "source": [
        "testdf = df4[df4['playlist_id'].isin(['5jROYSZSL7cO0jGAqkPx7C', '3ykXidKLz1eYPvuGoFlD1e','4hKPJNFIhdAg4pAksn78FJ'])]\n",
        "testdf1 =  df4[df4['playlist_id'].isin(['5jROYSZSL7cO0jGAqkPx7C'])]\n",
        "testdf2 = df4[df4['playlist_id'].isin(['3ykXidKLz1eYPvuGoFlD1e'])]\n",
        "testdf3 = df4[df4['playlist_id'].isin(['4hKPJNFIhdAg4pAksn78FJ'])]"
      ],
      "execution_count": 8,
      "outputs": []
    },
    {
      "cell_type": "code",
      "metadata": {
        "id": "dct1kTdS0MYc"
      },
      "source": [
        "testdf1_1 = testdf1.drop(['playlist_id','track_id','track_name','track_artist'], axis=1)\n",
        "testdf2_1 = testdf2.drop(['playlist_id','track_id','track_name','track_artist'], axis=1)\n",
        "testdf3_1 = testdf3.drop(['playlist_id','track_id','track_name','track_artist'], axis=1)"
      ],
      "execution_count": 9,
      "outputs": []
    },
    {
      "cell_type": "code",
      "metadata": {
        "id": "URnxJyAXzAUk"
      },
      "source": [
        "df5 = df4[~df4['playlist_id'].isin(['4hKPJNFIhdAg4pAksn78FJ', '3ykXidKLz1eYPvuGoFlD1e','4hKPJNFIhdAg4pAksn78FJ'])]"
      ],
      "execution_count": 10,
      "outputs": []
    },
    {
      "cell_type": "code",
      "metadata": {
        "id": "0CtwpX2P39KH"
      },
      "source": [
        "pd.set_option('display.max_columns', None)"
      ],
      "execution_count": 11,
      "outputs": []
    },
    {
      "cell_type": "code",
      "metadata": {
        "id": "iFpwP8Vz1hHY"
      },
      "source": [
        "df5 = df4.drop(['playlist_id','track_id','track_name','track_artist'], axis=1)\n",
        "df5['emotion'] = df5['emotion'].astype(int)"
      ],
      "execution_count": 12,
      "outputs": []
    },
    {
      "cell_type": "code",
      "metadata": {
        "colab": {
          "base_uri": "https://localhost:8080/",
          "height": 131
        },
        "id": "7CAVYhDW9UJ3",
        "outputId": "36d60687-67d4-415d-af54-1510c9d11a03"
      },
      "source": [
        "df5.head(2)"
      ],
      "execution_count": 13,
      "outputs": [
        {
          "output_type": "execute_result",
          "data": {
            "text/html": [
              "<div>\n",
              "<style scoped>\n",
              "    .dataframe tbody tr th:only-of-type {\n",
              "        vertical-align: middle;\n",
              "    }\n",
              "\n",
              "    .dataframe tbody tr th {\n",
              "        vertical-align: top;\n",
              "    }\n",
              "\n",
              "    .dataframe thead th {\n",
              "        text-align: right;\n",
              "    }\n",
              "</style>\n",
              "<table border=\"1\" class=\"dataframe\">\n",
              "  <thead>\n",
              "    <tr style=\"text-align: right;\">\n",
              "      <th></th>\n",
              "      <th>track_popularity</th>\n",
              "      <th>playlist_genre</th>\n",
              "      <th>danceability</th>\n",
              "      <th>energy</th>\n",
              "      <th>key</th>\n",
              "      <th>loudness</th>\n",
              "      <th>mode</th>\n",
              "      <th>speechiness</th>\n",
              "      <th>acousticness</th>\n",
              "      <th>instrumentalness</th>\n",
              "      <th>liveness</th>\n",
              "      <th>valence</th>\n",
              "      <th>tempo</th>\n",
              "      <th>language</th>\n",
              "      <th>emotion</th>\n",
              "    </tr>\n",
              "  </thead>\n",
              "  <tbody>\n",
              "    <tr>\n",
              "      <th>0</th>\n",
              "      <td>41</td>\n",
              "      <td>rock</td>\n",
              "      <td>0.682</td>\n",
              "      <td>0.401</td>\n",
              "      <td>2</td>\n",
              "      <td>-10.068</td>\n",
              "      <td>1</td>\n",
              "      <td>0.0236</td>\n",
              "      <td>0.2790</td>\n",
              "      <td>0.01170</td>\n",
              "      <td>0.0887</td>\n",
              "      <td>0.566</td>\n",
              "      <td>97.091</td>\n",
              "      <td>tl</td>\n",
              "      <td>6</td>\n",
              "    </tr>\n",
              "    <tr>\n",
              "      <th>1</th>\n",
              "      <td>28</td>\n",
              "      <td>rock</td>\n",
              "      <td>0.303</td>\n",
              "      <td>0.880</td>\n",
              "      <td>9</td>\n",
              "      <td>-4.739</td>\n",
              "      <td>1</td>\n",
              "      <td>0.0442</td>\n",
              "      <td>0.0117</td>\n",
              "      <td>0.00994</td>\n",
              "      <td>0.3470</td>\n",
              "      <td>0.404</td>\n",
              "      <td>135.225</td>\n",
              "      <td>en</td>\n",
              "      <td>1</td>\n",
              "    </tr>\n",
              "  </tbody>\n",
              "</table>\n",
              "</div>"
            ],
            "text/plain": [
              "   track_popularity playlist_genre  danceability  energy  key  loudness  mode  \\\n",
              "0                41           rock         0.682   0.401    2   -10.068     1   \n",
              "1                28           rock         0.303   0.880    9    -4.739     1   \n",
              "\n",
              "   speechiness  acousticness  instrumentalness  liveness  valence    tempo  \\\n",
              "0       0.0236        0.2790           0.01170    0.0887    0.566   97.091   \n",
              "1       0.0442        0.0117           0.00994    0.3470    0.404  135.225   \n",
              "\n",
              "  language  emotion  \n",
              "0       tl        6  \n",
              "1       en        1  "
            ]
          },
          "metadata": {},
          "execution_count": 13
        }
      ]
    },
    {
      "cell_type": "code",
      "metadata": {
        "id": "PUNlxqKOIklG"
      },
      "source": [
        "cols = ['language', 'playlist_genre']\n",
        "df5[cols] = df5[cols].apply(LabelEncoder().fit_transform)"
      ],
      "execution_count": 14,
      "outputs": []
    },
    {
      "cell_type": "code",
      "metadata": {
        "id": "mDPWs3JO9gvP"
      },
      "source": [
        "df11 = df5"
      ],
      "execution_count": 15,
      "outputs": []
    },
    {
      "cell_type": "code",
      "metadata": {
        "id": "J7DROiWZ9vQB"
      },
      "source": [
        "df11['track_name'] = df4['track_name']\n",
        "df5 = df5.drop(['track_name'], axis=1)"
      ],
      "execution_count": 16,
      "outputs": []
    },
    {
      "cell_type": "code",
      "metadata": {
        "colab": {
          "base_uri": "https://localhost:8080/",
          "height": 37
        },
        "id": "6kJkSkyzC7iU",
        "outputId": "a45882b5-2c6a-4a04-9350-1063a99fda62"
      },
      "source": [
        "df11.iloc[517,15]"
      ],
      "execution_count": 17,
      "outputs": [
        {
          "output_type": "execute_result",
          "data": {
            "application/vnd.google.colaboratory.intrinsic+json": {
              "type": "string"
            },
            "text/plain": [
              "'Bandito'"
            ]
          },
          "metadata": {},
          "execution_count": 17
        }
      ]
    },
    {
      "cell_type": "code",
      "metadata": {
        "id": "eIIXCY014PaV"
      },
      "source": [
        "df12 = df11.set_index('track_name')"
      ],
      "execution_count": 18,
      "outputs": []
    },
    {
      "cell_type": "code",
      "metadata": {
        "id": "kVtiVv8S0rdE"
      },
      "source": [
        "testdf1_1[cols] = testdf1_1[cols].apply(LabelEncoder().fit_transform)\n",
        "testdf2_1[cols] = testdf2_1[cols].apply(LabelEncoder().fit_transform)\n",
        "testdf3_1[cols] = testdf3_1[cols].apply(LabelEncoder().fit_transform)"
      ],
      "execution_count": 19,
      "outputs": []
    },
    {
      "cell_type": "code",
      "metadata": {
        "colab": {
          "base_uri": "https://localhost:8080/"
        },
        "id": "QAUoLLtugPJB",
        "outputId": "d00edfba-1785-4155-b316-8612509cb255"
      },
      "source": [
        "X, y = df5.iloc[:, :-1], df5.iloc[:, -1]\n",
        "X.shape"
      ],
      "execution_count": 20,
      "outputs": [
        {
          "output_type": "execute_result",
          "data": {
            "text/plain": [
              "(1099, 14)"
            ]
          },
          "metadata": {},
          "execution_count": 20
        }
      ]
    },
    {
      "cell_type": "code",
      "metadata": {
        "id": "G_EuCYFRRNWe"
      },
      "source": [
        "#strategy = {1:200, 2:120, 3:150, 4:100, 5:150,6:120, 7:70, 8:45 ,9:45 ,10:40}\n",
        "#oversample = SMOTE(sampling_strategy=strategy)\n",
        "#X, y = oversample.fit_resample(X, y)\n",
        "# summarize distribution\n",
        "#counter = Counter(y)\n",
        "#for k,v in counter.items():\n",
        "#\tper = v / len(y) * 100\n",
        "#\tprint('Class=%d, n=%d (%.3f%%)' % (k, v, per))\n",
        "# plot the distribution\n",
        "#pyplot.bar(counter.keys(), counter.values())\n",
        "#pyplot.show()"
      ],
      "execution_count": 21,
      "outputs": []
    },
    {
      "cell_type": "code",
      "metadata": {
        "id": "ROL4725RdsGn"
      },
      "source": [
        "#df6 = pd.DataFrame(X)\n",
        "#df6['emotion'] = y\n",
        "#df7 = df6.sample(frac=1)\n",
        "#df5 = df5.dropna()"
      ],
      "execution_count": 22,
      "outputs": []
    },
    {
      "cell_type": "code",
      "metadata": {
        "id": "JFK2TDoD92iv"
      },
      "source": [
        "df5.shape\n",
        "scaler = MinMaxScaler()"
      ],
      "execution_count": 23,
      "outputs": []
    },
    {
      "cell_type": "code",
      "metadata": {
        "colab": {
          "base_uri": "https://localhost:8080/"
        },
        "id": "2M3PlxrK31BH",
        "outputId": "93347456-1775-467f-c4e7-360d0ac682e3"
      },
      "source": [
        "df5['emotion'].value_counts()"
      ],
      "execution_count": 24,
      "outputs": [
        {
          "output_type": "execute_result",
          "data": {
            "text/plain": [
              "1     393\n",
              "6     137\n",
              "3     108\n",
              "5     103\n",
              "7      91\n",
              "2      91\n",
              "4      67\n",
              "8      39\n",
              "10     38\n",
              "9      32\n",
              "Name: emotion, dtype: int64"
            ]
          },
          "metadata": {},
          "execution_count": 24
        }
      ]
    },
    {
      "cell_type": "code",
      "metadata": {
        "colab": {
          "base_uri": "https://localhost:8080/"
        },
        "id": "bvDcIONbwwND",
        "outputId": "d21621e2-bc23-48c8-c348-045168940495"
      },
      "source": [
        "train_data_001 = df5.iloc[:1024,6:14]\n",
        "train_data_01 = pd.DataFrame(scaler.fit_transform(train_data_001))\n",
        "train_data_length = len(train_data_01)\n",
        "train_data_001.columns"
      ],
      "execution_count": 25,
      "outputs": [
        {
          "output_type": "execute_result",
          "data": {
            "text/plain": [
              "Index(['mode', 'speechiness', 'acousticness', 'instrumentalness', 'liveness',\n",
              "       'valence', 'tempo', 'language'],\n",
              "      dtype='object')"
            ]
          },
          "metadata": {},
          "execution_count": 25
        }
      ]
    },
    {
      "cell_type": "code",
      "metadata": {
        "id": "DrydNko01Qiq"
      },
      "source": [
        "testdf1_2 = testdf1_1.iloc[:1024,6:14]\n",
        "testdf2_2 = testdf2_1.iloc[:1024,6:14]\n",
        "testdf3_2 = testdf3_1.iloc[:1024,6:14]\n",
        "df13 = df12.iloc[:1024,6:14]"
      ],
      "execution_count": 26,
      "outputs": []
    },
    {
      "cell_type": "code",
      "metadata": {
        "colab": {
          "base_uri": "https://localhost:8080/"
        },
        "id": "Y-mISzcmEXG7",
        "outputId": "6b1a145e-787d-4eaf-f6f3-ca2ab1312459"
      },
      "source": [
        "(train_data_01 < 0).values.any()"
      ],
      "execution_count": 27,
      "outputs": [
        {
          "output_type": "execute_result",
          "data": {
            "text/plain": [
              "False"
            ]
          },
          "metadata": {},
          "execution_count": 27
        }
      ]
    },
    {
      "cell_type": "code",
      "metadata": {
        "id": "RYgkcSwtvynh"
      },
      "source": [
        "train_data = torch.tensor(train_data_01.values.astype(np.float32))"
      ],
      "execution_count": 28,
      "outputs": []
    },
    {
      "cell_type": "code",
      "metadata": {
        "id": "9jGsD2Rf_5cZ"
      },
      "source": [
        "train_labels = torch.zeros(train_data_length)\n",
        "train_set = [\n",
        "    (train_data[i], train_labels[i]) for i in range(train_data_length)\n",
        "]"
      ],
      "execution_count": 29,
      "outputs": []
    },
    {
      "cell_type": "code",
      "metadata": {
        "id": "8Q_FlvWVCPeg"
      },
      "source": [
        "batch_size = 32\n",
        "train_loader = torch.utils.data.DataLoader(\n",
        "    train_set, batch_size=batch_size, shuffle=True\n",
        ")"
      ],
      "execution_count": 30,
      "outputs": []
    },
    {
      "cell_type": "code",
      "metadata": {
        "id": "oeGokWcnUNVo"
      },
      "source": [
        "class Discriminator(nn.Module):\n",
        "    def __init__(self):\n",
        "        super().__init__()\n",
        "        self.model = nn.Sequential(\n",
        "            nn.Linear(8, 256),\n",
        "            nn.ReLU(),\n",
        "            nn.Dropout(0.3),\n",
        "            nn.Linear(256, 128),\n",
        "            nn.ReLU(),\n",
        "            nn.Dropout(0.3),\n",
        "            nn.Linear(128, 64),\n",
        "            nn.ReLU(),\n",
        "            nn.Dropout(0.3),\n",
        "            nn.Linear(64, 1),\n",
        "            nn.Sigmoid(),\n",
        "        )\n",
        "\n",
        "    def forward(self, x):\n",
        "        output = self.model(x)\n",
        "        return output"
      ],
      "execution_count": 31,
      "outputs": []
    },
    {
      "cell_type": "code",
      "metadata": {
        "id": "w28gifmTe_Wa"
      },
      "source": [
        "discriminator = Discriminator()"
      ],
      "execution_count": 32,
      "outputs": []
    },
    {
      "cell_type": "code",
      "metadata": {
        "id": "3LaGfTJ1fFf9"
      },
      "source": [
        "class Generator(nn.Module):\n",
        "    def __init__(self):\n",
        "        super().__init__()\n",
        "        self.model = nn.Sequential(\n",
        "            nn.Linear(8, 32),\n",
        "            nn.ReLU(),\n",
        "            nn.Linear(32, 64),\n",
        "            nn.ReLU(),\n",
        "            nn.Linear(64, 8),\n",
        "        )\n",
        "\n",
        "    def forward(self, x):\n",
        "        output = self.model(x)\n",
        "        return output\n",
        "\n",
        "generator = Generator()"
      ],
      "execution_count": 33,
      "outputs": []
    },
    {
      "cell_type": "code",
      "metadata": {
        "id": "b3Lh9ZtEfPvG"
      },
      "source": [
        "lr = 0.001\n",
        "num_epochs = 500\n",
        "loss_function = nn.BCELoss()"
      ],
      "execution_count": 34,
      "outputs": []
    },
    {
      "cell_type": "code",
      "metadata": {
        "id": "vHk6r37kfWfA"
      },
      "source": [
        "optimizer_discriminator = torch.optim.Adam(discriminator.parameters(), lr=lr)\n",
        "optimizer_generator = torch.optim.Adam(generator.parameters(), lr=lr)"
      ],
      "execution_count": 35,
      "outputs": []
    },
    {
      "cell_type": "code",
      "metadata": {
        "colab": {
          "base_uri": "https://localhost:8080/"
        },
        "id": "WiX4fOyf2Wh6",
        "outputId": "7950927d-1a9f-4e97-ca7c-a6af9662da44"
      },
      "source": [
        " len(list(train_loader)[0][0])"
      ],
      "execution_count": 36,
      "outputs": [
        {
          "output_type": "execute_result",
          "data": {
            "text/plain": [
              "32"
            ]
          },
          "metadata": {},
          "execution_count": 36
        }
      ]
    },
    {
      "cell_type": "code",
      "metadata": {
        "id": "moL5w8QUPPFB"
      },
      "source": [
        "# list for final generated samples\n",
        "final_generated_samples=[]\n",
        "final_generated_samples_list=[]"
      ],
      "execution_count": 37,
      "outputs": []
    },
    {
      "cell_type": "code",
      "metadata": {
        "colab": {
          "base_uri": "https://localhost:8080/"
        },
        "id": "M3oKJHuuffeK",
        "outputId": "4e1bb93c-c4aa-43f9-c3e4-eec2f8dabd61"
      },
      "source": [
        "for epoch in range(num_epochs):\n",
        "    for n, (real_samples, _) in enumerate(train_loader):\n",
        "        # Data for training the discriminator\n",
        "        real_samples_labels = torch.ones((batch_size, 1))\n",
        "        latent_space_samples = torch.ones((batch_size, 8))\n",
        "        generated_samples = generator(latent_space_samples)\n",
        "        generated_samples_labels = torch.zeros((batch_size, 1))\n",
        "        all_samples = torch.cat((real_samples, generated_samples))\n",
        "        all_samples_labels = torch.cat(\n",
        "            (real_samples_labels, generated_samples_labels)\n",
        "        )\n",
        "\n",
        "        # Training the discriminator\n",
        "        discriminator.zero_grad()\n",
        "        output_discriminator = discriminator(all_samples)\n",
        "        loss_discriminator = loss_function(\n",
        "            output_discriminator, all_samples_labels)\n",
        "        loss_discriminator.backward()\n",
        "        optimizer_discriminator.step()\n",
        "\n",
        "        # Data for training the generator\n",
        "        latent_space_samples = torch.ones((batch_size, 8))\n",
        "\n",
        "        # Training the generator\n",
        "        generator.zero_grad()\n",
        "        generated_samples = generator(latent_space_samples)\n",
        "        output_discriminator_generated = discriminator(generated_samples)\n",
        "        loss_generator = loss_function(\n",
        "            output_discriminator_generated, real_samples_labels\n",
        "        )\n",
        "        loss_generator.backward()\n",
        "        optimizer_generator.step()\n",
        "\n",
        "        # Show loss\n",
        "        if epoch % 10 == 0 and n == batch_size - 1:\n",
        "            final_generated_samples.append(generated_samples[0])\n",
        "            print(f\"Epoch: {epoch} Loss D.: {loss_discriminator}\")\n",
        "            print(f\"Epoch: {epoch} Loss G.: {loss_generator}\")\n",
        "            "
      ],
      "execution_count": 38,
      "outputs": [
        {
          "output_type": "stream",
          "name": "stdout",
          "text": [
            "Epoch: 0 Loss D.: 0.7118852138519287\n",
            "Epoch: 0 Loss G.: 0.8353325128555298\n",
            "Epoch: 10 Loss D.: 0.39569172263145447\n",
            "Epoch: 10 Loss G.: 1.7158923149108887\n",
            "Epoch: 20 Loss D.: 0.6896534562110901\n",
            "Epoch: 20 Loss G.: 2.6614151000976562\n",
            "Epoch: 30 Loss D.: 0.11683958023786545\n",
            "Epoch: 30 Loss G.: 2.90144944190979\n",
            "Epoch: 40 Loss D.: 0.23154720664024353\n",
            "Epoch: 40 Loss G.: 3.7947819232940674\n",
            "Epoch: 50 Loss D.: 0.0456969253718853\n",
            "Epoch: 50 Loss G.: 3.796381711959839\n",
            "Epoch: 60 Loss D.: 0.014768335968255997\n",
            "Epoch: 60 Loss G.: 7.341174125671387\n",
            "Epoch: 70 Loss D.: 0.12231793999671936\n",
            "Epoch: 70 Loss G.: 3.4718666076660156\n",
            "Epoch: 80 Loss D.: 0.012404769659042358\n",
            "Epoch: 80 Loss G.: 4.745633602142334\n",
            "Epoch: 90 Loss D.: 0.012162665836513042\n",
            "Epoch: 90 Loss G.: 5.603230953216553\n",
            "Epoch: 100 Loss D.: 0.04859871789813042\n",
            "Epoch: 100 Loss G.: 4.338864803314209\n",
            "Epoch: 110 Loss D.: 0.0026917951181530952\n",
            "Epoch: 110 Loss G.: 7.836730480194092\n",
            "Epoch: 120 Loss D.: 0.018647922202944756\n",
            "Epoch: 120 Loss G.: 7.356071472167969\n",
            "Epoch: 130 Loss D.: 0.028104888275265694\n",
            "Epoch: 130 Loss G.: 6.063831329345703\n",
            "Epoch: 140 Loss D.: 0.008132454007863998\n",
            "Epoch: 140 Loss G.: 5.326146602630615\n",
            "Epoch: 150 Loss D.: 0.0026143721770495176\n",
            "Epoch: 150 Loss G.: 7.151956558227539\n",
            "Epoch: 160 Loss D.: 0.0013840546598657966\n",
            "Epoch: 160 Loss G.: 8.956439971923828\n",
            "Epoch: 170 Loss D.: 0.004520593211054802\n",
            "Epoch: 170 Loss G.: 13.817471504211426\n",
            "Epoch: 180 Loss D.: 0.00972087774425745\n",
            "Epoch: 180 Loss G.: 5.6707892417907715\n",
            "Epoch: 190 Loss D.: 0.016376201063394547\n",
            "Epoch: 190 Loss G.: 5.822408199310303\n",
            "Epoch: 200 Loss D.: 0.0033680624328553677\n",
            "Epoch: 200 Loss G.: 7.744373321533203\n",
            "Epoch: 210 Loss D.: 3.383086368557997e-05\n",
            "Epoch: 210 Loss G.: 13.50121021270752\n",
            "Epoch: 220 Loss D.: 0.0008476912626065314\n",
            "Epoch: 220 Loss G.: 6.976415157318115\n",
            "Epoch: 230 Loss D.: 0.0001357805449515581\n",
            "Epoch: 230 Loss G.: 9.810103416442871\n",
            "Epoch: 240 Loss D.: 5.546248939936049e-05\n",
            "Epoch: 240 Loss G.: 12.414443969726562\n",
            "Epoch: 250 Loss D.: 0.0013362816534936428\n",
            "Epoch: 250 Loss G.: 8.988077163696289\n",
            "Epoch: 260 Loss D.: 0.005424980074167252\n",
            "Epoch: 260 Loss G.: 7.553633689880371\n",
            "Epoch: 270 Loss D.: 0.003152336459606886\n",
            "Epoch: 270 Loss G.: 7.515674591064453\n",
            "Epoch: 280 Loss D.: 0.0006634750752709806\n",
            "Epoch: 280 Loss G.: 8.09769058227539\n",
            "Epoch: 290 Loss D.: 0.008062350563704967\n",
            "Epoch: 290 Loss G.: 5.754870414733887\n",
            "Epoch: 300 Loss D.: 0.0011717050801962614\n",
            "Epoch: 300 Loss G.: 6.81056547164917\n",
            "Epoch: 310 Loss D.: 0.0016501073259860277\n",
            "Epoch: 310 Loss G.: 7.016297817230225\n",
            "Epoch: 320 Loss D.: 0.005226994398981333\n",
            "Epoch: 320 Loss G.: 7.622005939483643\n",
            "Epoch: 330 Loss D.: 0.0021101313177496195\n",
            "Epoch: 330 Loss G.: 7.64935827255249\n",
            "Epoch: 340 Loss D.: 0.0014140841085463762\n",
            "Epoch: 340 Loss G.: 6.801153659820557\n",
            "Epoch: 350 Loss D.: 0.005033317022025585\n",
            "Epoch: 350 Loss G.: 7.225929260253906\n",
            "Epoch: 360 Loss D.: 0.002382871462032199\n",
            "Epoch: 360 Loss G.: 6.9207763671875\n",
            "Epoch: 370 Loss D.: 0.001207369496114552\n",
            "Epoch: 370 Loss G.: 8.78559398651123\n",
            "Epoch: 380 Loss D.: 0.0011106240563094616\n",
            "Epoch: 380 Loss G.: 7.090255260467529\n",
            "Epoch: 390 Loss D.: 1.8380325855105184e-05\n",
            "Epoch: 390 Loss G.: 14.915458679199219\n",
            "Epoch: 400 Loss D.: 0.00046401607687585056\n",
            "Epoch: 400 Loss G.: 8.53872013092041\n",
            "Epoch: 410 Loss D.: 0.00010143795952899382\n",
            "Epoch: 410 Loss G.: 10.677677154541016\n",
            "Epoch: 420 Loss D.: 0.005833803676068783\n",
            "Epoch: 420 Loss G.: 5.633491516113281\n",
            "Epoch: 430 Loss D.: 0.005956294015049934\n",
            "Epoch: 430 Loss G.: 6.922713279724121\n",
            "Epoch: 440 Loss D.: 0.003234071657061577\n",
            "Epoch: 440 Loss G.: 6.261059761047363\n",
            "Epoch: 450 Loss D.: 0.006730213761329651\n",
            "Epoch: 450 Loss G.: 7.749566555023193\n",
            "Epoch: 460 Loss D.: 0.00038270410732366145\n",
            "Epoch: 460 Loss G.: 8.211028099060059\n",
            "Epoch: 470 Loss D.: 0.0041165282018482685\n",
            "Epoch: 470 Loss G.: 6.294905185699463\n",
            "Epoch: 480 Loss D.: 0.0015964644262567163\n",
            "Epoch: 480 Loss G.: 7.931697845458984\n",
            "Epoch: 490 Loss D.: 0.0030544111505150795\n",
            "Epoch: 490 Loss G.: 6.4300384521484375\n"
          ]
        }
      ]
    },
    {
      "cell_type": "code",
      "metadata": {
        "id": "m6LUuQD1uz2F"
      },
      "source": [
        "# make a dataframe for sample list\n",
        "for i in final_generated_samples:\n",
        "  a = i.detach().numpy()\n",
        "  final_generated_samples_list.append(a)\n",
        "final_generated_samples_df = pd.DataFrame(final_generated_samples_list)"
      ],
      "execution_count": 39,
      "outputs": []
    },
    {
      "cell_type": "code",
      "metadata": {
        "colab": {
          "base_uri": "https://localhost:8080/"
        },
        "id": "xNZjGkXgiNGL",
        "outputId": "812bae92-1678-4080-b174-5ad9cb99d5d2"
      },
      "source": [
        "latent_space_samples[:10]"
      ],
      "execution_count": 40,
      "outputs": [
        {
          "output_type": "execute_result",
          "data": {
            "text/plain": [
              "tensor([[1., 1., 1., 1., 1., 1., 1., 1.],\n",
              "        [1., 1., 1., 1., 1., 1., 1., 1.],\n",
              "        [1., 1., 1., 1., 1., 1., 1., 1.],\n",
              "        [1., 1., 1., 1., 1., 1., 1., 1.],\n",
              "        [1., 1., 1., 1., 1., 1., 1., 1.],\n",
              "        [1., 1., 1., 1., 1., 1., 1., 1.],\n",
              "        [1., 1., 1., 1., 1., 1., 1., 1.],\n",
              "        [1., 1., 1., 1., 1., 1., 1., 1.],\n",
              "        [1., 1., 1., 1., 1., 1., 1., 1.],\n",
              "        [1., 1., 1., 1., 1., 1., 1., 1.]])"
            ]
          },
          "metadata": {},
          "execution_count": 40
        }
      ]
    },
    {
      "cell_type": "code",
      "metadata": {
        "colab": {
          "base_uri": "https://localhost:8080/",
          "height": 282
        },
        "id": "4tvxpDe3Za9d",
        "outputId": "c811db54-3b34-486c-8ef5-4501e50e8553"
      },
      "source": [
        "#plot of two variables from generated samples\n",
        "plt.plot(final_generated_samples_df.iloc[:, 6], \n",
        "         final_generated_samples_df.iloc[:, 3], \".\")"
      ],
      "execution_count": 41,
      "outputs": [
        {
          "output_type": "execute_result",
          "data": {
            "text/plain": [
              "[<matplotlib.lines.Line2D at 0x7f33e41670d0>]"
            ]
          },
          "metadata": {},
          "execution_count": 41
        },
        {
          "output_type": "display_data",
          "data": {
            "image/png": "[encoded data removed]",
            "text/plain": [
              "<Figure size 432x288 with 1 Axes>"
            ]
          },
          "metadata": {
            "needs_background": "light"
          }
        }
      ]
    },
    {
      "cell_type": "code",
      "metadata": {
        "id": "XIMG5PoX06OX"
      },
      "source": [
        "from scipy.spatial import distance"
      ],
      "execution_count": 42,
      "outputs": []
    },
    {
      "cell_type": "code",
      "metadata": {
        "id": "RycK3PK_zDW0"
      },
      "source": [
        "float_x = real_samples[0].double()"
      ],
      "execution_count": 43,
      "outputs": []
    },
    {
      "cell_type": "code",
      "metadata": {
        "id": "Y6D_uRDmDsKS"
      },
      "source": [
        "float_x = list(float_x.numpy())"
      ],
      "execution_count": 44,
      "outputs": []
    },
    {
      "cell_type": "markdown",
      "metadata": {
        "id": "mP59c_ZQqUKQ"
      },
      "source": [
        ""
      ]
    },
    {
      "cell_type": "code",
      "metadata": {
        "colab": {
          "base_uri": "https://localhost:8080/"
        },
        "id": "rf0t9hUt7Wc4",
        "outputId": "69f447ef-879a-4b1a-8498-85d2448bb1ac"
      },
      "source": [
        "# Cosine similarity\n",
        "def square_rooted(x):\n",
        "   return round(math.sqrt(sum([a*a for a in x])),3)\n",
        "  \n",
        "def cosine_similarity(x,y):\n",
        " numerator = sum(a*b for a,b in zip(x,y))\n",
        " denominator = square_rooted(x)*square_rooted(y)\n",
        " return round(numerator/float(denominator),3)\n",
        "  \n",
        "print(cosine_similarity(final_generated_samples_df[0],float_x))"
      ],
      "execution_count": 45,
      "outputs": [
        {
          "output_type": "stream",
          "name": "stdout",
          "text": [
            "0.727\n"
          ]
        }
      ]
    },
    {
      "cell_type": "code",
      "metadata": {
        "colab": {
          "base_uri": "https://localhost:8080/"
        },
        "id": "vP1mzbkc79ik",
        "outputId": "c20e8fa4-4ded-4a18-d1d5-0465052dde25"
      },
      "source": [
        "#Jaccard similarity\n",
        "from math import*\n",
        "  \n",
        "def jaccard_similarity(x,y):\n",
        " intersection_cardinality = len(set.intersection(*[set(x), set(y)]))\n",
        " union_cardinality = len(set.union(*[set(x), set(y)]))\n",
        " return intersection_cardinality/float(union_cardinality)\n",
        "print(jaccard_similarity([0,1,2,5,6],[0,2,3,5,7,9]))"
      ],
      "execution_count": 46,
      "outputs": [
        {
          "output_type": "stream",
          "name": "stdout",
          "text": [
            "0.375\n"
          ]
        }
      ]
    },
    {
      "cell_type": "code",
      "metadata": {
        "id": "bj-rFHRZx8UG"
      },
      "source": [
        "#jaccard_score(final_generated_samples_df.iloc[0,:].values,float_x)"
      ],
      "execution_count": 47,
      "outputs": []
    },
    {
      "cell_type": "code",
      "metadata": {
        "colab": {
          "base_uri": "https://localhost:8080/"
        },
        "id": "vWT2mebSvk4d",
        "outputId": "e24a2d99-69a0-40ea-c6d0-f059e9126c37"
      },
      "source": [
        "final_generated_samples_df.iloc[0,:].values"
      ],
      "execution_count": 48,
      "outputs": [
        {
          "output_type": "execute_result",
          "data": {
            "text/plain": [
              "array([1.18917346, 0.63774568, 0.32985011, 0.41770768, 0.13447177,\n",
              "       0.73320174, 0.90794832, 0.51876456])"
            ]
          },
          "metadata": {},
          "execution_count": 48
        }
      ]
    },
    {
      "cell_type": "code",
      "metadata": {
        "colab": {
          "base_uri": "https://localhost:8080/"
        },
        "id": "hP35G8bJyGJh",
        "outputId": "70ad7464-45f3-48fd-ac0b-9d7cefbfa821"
      },
      "source": [
        "real_samples[0]"
      ],
      "execution_count": 49,
      "outputs": [
        {
          "output_type": "execute_result",
          "data": {
            "text/plain": [
              "tensor([1.0000, 0.1387, 0.0607, 0.0000, 0.0862, 0.1900, 0.3491, 0.1667])"
            ]
          },
          "metadata": {},
          "execution_count": 49
        }
      ]
    },
    {
      "cell_type": "code",
      "metadata": {
        "colab": {
          "base_uri": "https://localhost:8080/"
        },
        "id": "iVk9PQY0yI3e",
        "outputId": "13516247-a22f-4dc8-aaaa-d2dbaea7b574"
      },
      "source": [
        "final_generated_samples_df.iloc[3,:].values"
      ],
      "execution_count": 50,
      "outputs": [
        {
          "output_type": "execute_result",
          "data": {
            "text/plain": [
              "array([0.73058063, 0.24294734, 0.24463302, 0.07402482, 0.32640105,\n",
              "       0.50931424, 0.58277905, 0.11605163])"
            ]
          },
          "metadata": {},
          "execution_count": 50
        }
      ]
    },
    {
      "cell_type": "code",
      "metadata": {
        "id": "NP3So0XD8g60"
      },
      "source": [
        "import numpy as np\n",
        "import pandas as pd\n",
        "from sklearn.metrics import jaccard_score\n",
        "from sklearn.metrics.pairwise import pairwise_distances,cosine_similarity"
      ],
      "execution_count": 51,
      "outputs": []
    },
    {
      "cell_type": "code",
      "metadata": {
        "id": "DCwHlEBVHgow"
      },
      "source": [
        "df9 = pd.DataFrame(scaler.inverse_transform(final_generated_samples_df))\n",
        "df10 = pd.DataFrame(scaler.inverse_transform(train_data_01))"
      ],
      "execution_count": 52,
      "outputs": []
    },
    {
      "cell_type": "code",
      "metadata": {
        "id": "ji0flvFOBhuS"
      },
      "source": [
        "generated_vals2=[]\n",
        "for i, j in df9.iterrows():\n",
        "  generated_vals2.append(j.values)\n",
        "\n",
        "generated_vals3 = generated_vals2[:10]\n",
        "\n",
        "train_data_vals2=[]\n",
        "for i, j in train_data_001.iterrows():\n",
        "  train_data_vals2.append(j.values)\n"
      ],
      "execution_count": 53,
      "outputs": []
    },
    {
      "cell_type": "code",
      "metadata": {
        "colab": {
          "base_uri": "https://localhost:8080/"
        },
        "id": "oECUgn4eXJ_g",
        "outputId": "1e1c7bd1-6bdd-4e08-bee2-b272c437b9e8"
      },
      "source": [
        "train_data_vals2[517]"
      ],
      "execution_count": 54,
      "outputs": [
        {
          "output_type": "execute_result",
          "data": {
            "text/plain": [
              "array([1.00000e+00, 5.91000e-02, 3.33000e-01, 0.00000e+00, 1.28000e-01,\n",
              "       4.47000e-01, 1.32097e+02, 8.00000e+00])"
            ]
          },
          "metadata": {},
          "execution_count": 54
        }
      ]
    },
    {
      "cell_type": "markdown",
      "metadata": {
        "id": "uxYm6GBjoZG6"
      },
      "source": [
        ""
      ]
    },
    {
      "cell_type": "code",
      "metadata": {
        "id": "cM4Kbd01UDeF"
      },
      "source": [
        "generated_vals=[]\n",
        "for i, j in final_generated_samples_df.iterrows():\n",
        "  generated_vals.append(j.values)\n",
        "\n",
        "train_data_vals=[]\n",
        "for i, j in train_data_01.iterrows():\n",
        "  train_data_vals.append(j.values)\n",
        "\n",
        "def cos_similarity(x,d):\n",
        "  recommended = []  \n",
        "  for i in d:\n",
        "    a = cosine_similarity([x],[i])\n",
        "    recommended.append(a)\n",
        "  rec_score=max(recommended)\n",
        "  rec_index = recommended.index(rec_score)\n",
        "  rec_idx = df13.index[rec_index]\n",
        "  rec_len = len(recommended)\n",
        "  print('len train data:',rec_len,'; index:',rec_idx,'; cos sim:',rec_score)"
      ],
      "execution_count": 55,
      "outputs": []
    },
    {
      "cell_type": "code",
      "metadata": {
        "id": "8GyLH48C0vPM"
      },
      "source": [
        "def euclid_similarity(x,d):\n",
        "  recommended = []  \n",
        "  for i in d:\n",
        "    a = distance.euclidean([x],[i])\n",
        "    recommended.append(a)\n",
        "  rec_score=min(recommended)\n",
        "  rec_index = recommended.index(rec_score)\n",
        "  rec_idx = df13.index[rec_index]\n",
        "  rec_len = len(recommended)\n",
        "  print('len train data:',rec_len,'; index:',rec_idx,'; euclid sim:',rec_score)"
      ],
      "execution_count": 56,
      "outputs": []
    },
    {
      "cell_type": "code",
      "metadata": {
        "colab": {
          "base_uri": "https://localhost:8080/"
        },
        "id": "j527TRLHyY2x",
        "outputId": "3ff57beb-f662-4938-aad4-c65960148008"
      },
      "source": [
        "dst = distance.euclidean(final_generated_samples_df.iloc[0,:].values,float_x)\n",
        "print('Euclidean distance: %.3f' % dst)"
      ],
      "execution_count": 57,
      "outputs": [
        {
          "output_type": "stream",
          "name": "stdout",
          "text": [
            "Euclidean distance: 1.125\n"
          ]
        }
      ]
    },
    {
      "cell_type": "code",
      "metadata": {
        "colab": {
          "base_uri": "https://localhost:8080/"
        },
        "id": "DHOtDop6CSD-",
        "outputId": "635bba71-cd50-4997-ae3d-2ac9b4d1f782"
      },
      "source": [
        "df5.shape"
      ],
      "execution_count": 58,
      "outputs": [
        {
          "output_type": "execute_result",
          "data": {
            "text/plain": [
              "(1099, 15)"
            ]
          },
          "metadata": {},
          "execution_count": 58
        }
      ]
    },
    {
      "cell_type": "code",
      "metadata": {
        "colab": {
          "base_uri": "https://localhost:8080/"
        },
        "id": "I5WphA_0Z9zV",
        "outputId": "b904fc8d-3000-479a-eeb2-371004f90229"
      },
      "source": [
        "# pick recommendations with cosine similarity\n",
        "for i in generated_vals3:\n",
        "  a = cos_similarity(i,train_data_vals2)"
      ],
      "execution_count": 59,
      "outputs": [
        {
          "output_type": "stream",
          "name": "stdout",
          "text": [
            "len train data: 1024 ; index: Jungli Sher ; cos sim: [[0.99997509]]\n",
            "len train data: 1024 ; index: LUNA ; cos sim: [[0.99975575]]\n",
            "len train data: 1024 ; index: LUNA ; cos sim: [[0.99998153]]\n",
            "len train data: 1024 ; index: Gangsta ; cos sim: [[0.99999823]]\n",
            "len train data: 1024 ; index: Dag 1 ; cos sim: [[0.99998264]]\n",
            "len train data: 1024 ; index: One For the Money ; cos sim: [[0.99999825]]\n",
            "len train data: 1024 ; index: Bon Bon Chocolat ; cos sim: [[0.99998746]]\n",
            "len train data: 1024 ; index: Un autre que moi ; cos sim: [[0.99999095]]\n",
            "len train data: 1024 ; index: Lento ; cos sim: [[0.99999531]]\n",
            "len train data: 1024 ; index: It's Goin' Down (feat. Nitti) ; cos sim: [[0.99999557]]\n"
          ]
        }
      ]
    },
    {
      "cell_type": "code",
      "metadata": {
        "colab": {
          "base_uri": "https://localhost:8080/"
        },
        "id": "I9txVZCn1Me7",
        "outputId": "36780d64-7b7d-48c6-a2b0-4c8d5ffadad6"
      },
      "source": [
        "# pick recommendations with euclidean similarity\n",
        "for i in generated_vals3:\n",
        "  a = euclid_similarity(i,train_data_vals2)"
      ],
      "execution_count": 60,
      "outputs": [
        {
          "output_type": "stream",
          "name": "stdout",
          "text": [
            "len train data: 1024 ; index: So Far Down ; euclid sim: 6.385894985936823\n",
            "len train data: 1024 ; index: Eye of the Tiger ; euclid sim: 5.161335214740489\n",
            "len train data: 1024 ; index: Bandit ; euclid sim: 2.2462534165478334\n",
            "len train data: 1024 ; index: so sad ; euclid sim: 1.0619031389860862\n",
            "len train data: 1024 ; index: LUNA ; euclid sim: 1.2758609560725442\n",
            "len train data: 1024 ; index: Estamos Arriba ; euclid sim: 1.806956295992934\n",
            "len train data: 1024 ; index: Full Moon ; euclid sim: 1.8263754727019892\n",
            "len train data: 1024 ; index: Full Moon ; euclid sim: 1.4631833329267532\n",
            "len train data: 1024 ; index: Quiero Repetir ; euclid sim: 0.5906540468797985\n",
            "len train data: 1024 ; index: I Hate Everything About You ; euclid sim: 0.6238521802810176\n"
          ]
        }
      ]
    },
    {
      "cell_type": "code",
      "metadata": {
        "id": "SR1wtnOQsprP"
      },
      "source": [
        "testdf1_3 = testdf1_2\n",
        "testdf1_3['track_name'] = testdf1['track_name']\n",
        "testdf1_3 = testdf1_3.set_index('track_name')\n",
        "\n",
        "testdf2_3 = testdf2_2\n",
        "testdf2_3['track_name'] = testdf2['track_name']\n",
        "testdf2_3 = testdf2_3.set_index('track_name')\n",
        "\n",
        "testdf3_3 = testdf3_2\n",
        "testdf3_3['track_name'] = testdf3['track_name']\n",
        "testdf3_3 = testdf3_3.set_index('track_name')"
      ],
      "execution_count": 61,
      "outputs": []
    },
    {
      "cell_type": "code",
      "metadata": {
        "id": "C976IH3Y745-"
      },
      "source": [
        "test_data1 = testdf1_3.values\n",
        "test_data2 = testdf2_3.values\n",
        "test_data3 = testdf3_3.values"
      ],
      "execution_count": 62,
      "outputs": []
    },
    {
      "cell_type": "code",
      "metadata": {
        "id": "XWRXAtgRfQB_"
      },
      "source": [
        "def cos_similarity_t1(x,d):\n",
        "  recommended = []  \n",
        "  for i in d:\n",
        "    a = cosine_similarity([x],[i])\n",
        "    recommended.append(a)\n",
        "  rec_score=max(recommended)\n",
        "  rec_index = recommended.index(rec_score)\n",
        "  rec_idx = testdf1_3.index[rec_index]\n",
        "  rec_len = len(recommended)\n",
        "  print('len train data:',rec_len,'; index:',rec_idx,'; cos sim:',rec_score)\n",
        "\n",
        "def euclid_similarity_t1(x,d):\n",
        "  recommended = []  \n",
        "  for i in d:\n",
        "    a = distance.euclidean([x],[i])\n",
        "    recommended.append(a)\n",
        "  rec_score=min(recommended)\n",
        "  rec_index = recommended.index(rec_score)\n",
        "  rec_idx = testdf1_3.index[rec_index]\n",
        "  rec_len = len(recommended)\n",
        "  print('len train data:',rec_len,'; index:',rec_idx,'; euclid sim:',rec_score)"
      ],
      "execution_count": 63,
      "outputs": []
    },
    {
      "cell_type": "code",
      "metadata": {
        "colab": {
          "base_uri": "https://localhost:8080/"
        },
        "id": "v3iYXkcX8QJr",
        "outputId": "48861cef-095d-46a8-8ed6-1b610fa7882b"
      },
      "source": [
        "#compare recomendations to test subjects\n",
        "for i in generated_vals3:\n",
        "  a = cos_similarity_t1(i,test_data1)"
      ],
      "execution_count": 64,
      "outputs": [
        {
          "output_type": "stream",
          "name": "stdout",
          "text": [
            "len train data: 10 ; index: Un autre que moi ; cos sim: [[0.9992351]]\n",
            "len train data: 10 ; index: Jungle ; cos sim: [[0.99980461]]\n",
            "len train data: 10 ; index: I Dare You ; cos sim: [[0.99998876]]\n",
            "len train data: 10 ; index: Un autre que moi ; cos sim: [[0.99996014]]\n",
            "len train data: 10 ; index: Jungle ; cos sim: [[0.99997779]]\n",
            "len train data: 10 ; index: Un autre que moi ; cos sim: [[0.99967776]]\n",
            "len train data: 10 ; index: Un autre que moi ; cos sim: [[0.99845575]]\n",
            "len train data: 10 ; index: Un autre que moi ; cos sim: [[0.99892022]]\n",
            "len train data: 10 ; index: Un autre que moi ; cos sim: [[0.99934914]]\n",
            "len train data: 10 ; index: Un autre que moi ; cos sim: [[0.99965699]]\n"
          ]
        }
      ]
    },
    {
      "cell_type": "code",
      "metadata": {
        "colab": {
          "base_uri": "https://localhost:8080/"
        },
        "id": "4vwnG9_x-1Gy",
        "outputId": "6e476844-c3c4-4a8a-f38c-7a67e698d12a"
      },
      "source": [
        "for i in generated_vals3:\n",
        "  a = euclid_similarity_t1(i,test_data1)"
      ],
      "execution_count": 65,
      "outputs": [
        {
          "output_type": "stream",
          "name": "stdout",
          "text": [
            "len train data: 10 ; index: Tainted ; euclid sim: 19.075993557359645\n",
            "len train data: 10 ; index: Song For You ; euclid sim: 7.407681329914869\n",
            "len train data: 10 ; index: Un autre que moi ; euclid sim: 7.612242223703082\n",
            "len train data: 10 ; index: Jungle ; euclid sim: 2.4590248211903165\n",
            "len train data: 10 ; index: Afternoon ; euclid sim: 1.2568332171745242\n",
            "len train data: 10 ; index: Love Is a Bitch ; euclid sim: 5.311435630957634\n",
            "len train data: 10 ; index: Un autre que moi ; euclid sim: 7.9510622079430044\n",
            "len train data: 10 ; index: Un autre que moi ; euclid sim: 8.573371979588286\n",
            "len train data: 10 ; index: Un autre que moi ; euclid sim: 5.614672671205947\n",
            "len train data: 10 ; index: Un autre que moi ; euclid sim: 13.395485589367656\n"
          ]
        }
      ]
    },
    {
      "cell_type": "code",
      "metadata": {
        "id": "a9IAbe8_f5MT"
      },
      "source": [
        "def cos_similarity_t2(x,d):\n",
        "  recommended = []  \n",
        "  for i in d:\n",
        "    a = cosine_similarity([x],[i])\n",
        "    recommended.append(a)\n",
        "  rec_score=max(recommended)\n",
        "  rec_index = recommended.index(rec_score)\n",
        "  rec_idx = testdf2_3.index[rec_index]\n",
        "  rec_len = len(recommended)\n",
        "  print('len train data:',rec_len,'; index:',rec_idx,'; cos sim:',rec_score)\n",
        "\n",
        "def euclid_similarity_t2(x,d):\n",
        "  recommended = []  \n",
        "  for i in d:\n",
        "    a = distance.euclidean([x],[i])\n",
        "    recommended.append(a)\n",
        "  rec_score=min(recommended)\n",
        "  rec_index = recommended.index(rec_score)\n",
        "  rec_idx = testdf2_3.index[rec_index]\n",
        "  rec_len = len(recommended)\n",
        "  print('len train data:',rec_len,'; index:',rec_idx,'; euclid sim:',rec_score)"
      ],
      "execution_count": 66,
      "outputs": []
    },
    {
      "cell_type": "code",
      "metadata": {
        "colab": {
          "base_uri": "https://localhost:8080/"
        },
        "id": "CYriMM1ck4Gx",
        "outputId": "fbd86322-55b1-4e8a-c54c-f8959241b2d9"
      },
      "source": [
        "#compare recomendations to test subjects\n",
        "for i in generated_vals3:\n",
        "  a = cos_similarity_t2(i,test_data2)"
      ],
      "execution_count": 69,
      "outputs": [
        {
          "output_type": "stream",
          "name": "stdout",
          "text": [
            "len train data: 11 ; index: She's Playing Hard To Get ; cos sim: [[0.99884426]]\n",
            "len train data: 11 ; index: End Of The Road ; cos sim: [[0.99979966]]\n",
            "len train data: 11 ; index: She's Playing Hard To Get ; cos sim: [[0.99999525]]\n",
            "len train data: 11 ; index: She's Playing Hard To Get ; cos sim: [[0.99989689]]\n",
            "len train data: 11 ; index: She's Playing Hard To Get ; cos sim: [[0.99998506]]\n",
            "len train data: 11 ; index: End Of The Road ; cos sim: [[0.99939607]]\n",
            "len train data: 11 ; index: She's Playing Hard To Get ; cos sim: [[0.997893]]\n",
            "len train data: 11 ; index: I Adore Mi Amor ; cos sim: [[0.99842022]]\n",
            "len train data: 11 ; index: End Of The Road ; cos sim: [[0.99895684]]\n",
            "len train data: 11 ; index: End Of The Road ; cos sim: [[0.9993557]]\n"
          ]
        }
      ]
    },
    {
      "cell_type": "code",
      "metadata": {
        "colab": {
          "base_uri": "https://localhost:8080/"
        },
        "id": "LGue-_WhuEqo",
        "outputId": "d545abc7-68a2-4cc0-e100-7442bea9174d"
      },
      "source": [
        "for i in generated_vals3:\n",
        "  a = euclid_similarity_t2(i,test_data2)"
      ],
      "execution_count": 68,
      "outputs": [
        {
          "output_type": "stream",
          "name": "stdout",
          "text": [
            "len train data: 11 ; index: She's Playing Hard To Get ; euclid sim: 10.822165483063555\n",
            "len train data: 11 ; index: I'm Dreamin' ; euclid sim: 2.6722091840416002\n",
            "len train data: 11 ; index: I Adore Mi Amor ; euclid sim: 2.5957766902742656\n",
            "len train data: 11 ; index: Just Got Paid ; euclid sim: 29.83904545594835\n",
            "len train data: 11 ; index: Just Got Paid ; euclid sim: 11.62396385474217\n",
            "len train data: 11 ; index: Just Got Paid ; euclid sim: 32.035599332363276\n",
            "len train data: 11 ; index: I Adore Mi Amor ; euclid sim: 7.506493904391674\n",
            "len train data: 11 ; index: I Adore Mi Amor ; euclid sim: 5.947242248080684\n",
            "len train data: 11 ; index: Tender Lover ; euclid sim: 6.625730908540197\n",
            "len train data: 11 ; index: I Adore Mi Amor ; euclid sim: 4.502262379448269\n"
          ]
        }
      ]
    },
    {
      "cell_type": "code",
      "metadata": {
        "id": "J0evbfZ0KLW5"
      },
      "source": [
        "def cos_similarity_t3(x,d):\n",
        "  recommended = []  \n",
        "  for i in d:\n",
        "    a = cosine_similarity([x],[i])\n",
        "    recommended.append(a)\n",
        "  rec_score=max(recommended)\n",
        "  rec_index = recommended.index(rec_score)\n",
        "  rec_idx = testdf3_3.index[rec_index]\n",
        "  rec_len = len(recommended)\n",
        "  print('len train data:',rec_len,'; index:',rec_idx,'; cos sim:',rec_score)\n",
        "\n",
        "def euclid_similarity_t3(x,d):\n",
        "  recommended = []  \n",
        "  for i in d:\n",
        "    a = distance.euclidean([x],[i])\n",
        "    recommended.append(a)\n",
        "  rec_score=min(recommended)\n",
        "  rec_index = recommended.index(rec_score)\n",
        "  rec_idx = testdf3_3.index[rec_index]\n",
        "  rec_len = len(recommended)\n",
        "  print('len train data:',rec_len,'; index:',rec_idx,'; euclid sim:',rec_score)"
      ],
      "execution_count": 70,
      "outputs": []
    },
    {
      "cell_type": "code",
      "metadata": {
        "colab": {
          "base_uri": "https://localhost:8080/"
        },
        "id": "PAq5Wew8KN4I",
        "outputId": "5e67206f-3b76-4241-83c0-1128a8619adb"
      },
      "source": [
        "#compare recomendations to test subjects\n",
        "for i in generated_vals3:\n",
        "  a = cos_similarity_t3(i,test_data3)"
      ],
      "execution_count": 71,
      "outputs": [
        {
          "output_type": "stream",
          "name": "stdout",
          "text": [
            "len train data: 11 ; index: Feel It All Around ; cos sim: [[0.99884398]]\n",
            "len train data: 11 ; index: On Fire ; cos sim: [[0.999794]]\n",
            "len train data: 11 ; index: Cool Blue ; cos sim: [[0.99999453]]\n",
            "len train data: 11 ; index: Cool Blue ; cos sim: [[0.99989176]]\n",
            "len train data: 11 ; index: Cool Blue ; cos sim: [[0.99998379]]\n",
            "len train data: 11 ; index: On Fire ; cos sim: [[0.99939159]]\n",
            "len train data: 11 ; index: Feel It All Around ; cos sim: [[0.99789828]]\n",
            "len train data: 11 ; index: Cherry ; cos sim: [[0.99841536]]\n",
            "len train data: 11 ; index: Cherry ; cos sim: [[0.99895261]]\n",
            "len train data: 11 ; index: Cherry ; cos sim: [[0.99935804]]\n"
          ]
        }
      ]
    },
    {
      "cell_type": "code",
      "metadata": {
        "colab": {
          "base_uri": "https://localhost:8080/"
        },
        "id": "zNhBsV3BKQyU",
        "outputId": "e134b148-270b-40b9-9f4f-4e5ba88d6df7"
      },
      "source": [
        "for i in generated_vals3:\n",
        "  a = euclid_similarity_t3(i,test_data3)"
      ],
      "execution_count": 72,
      "outputs": [
        {
          "output_type": "stream",
          "name": "stdout",
          "text": [
            "len train data: 11 ; index: Cool Blue ; euclid sim: 17.275357931834247\n",
            "len train data: 11 ; index: Cherry ; euclid sim: 2.3883368688758786\n",
            "len train data: 11 ; index: On Fire ; euclid sim: 0.7742652747097468\n",
            "len train data: 11 ; index: Hall & Oates ; euclid sim: 3.7689322508561407\n",
            "len train data: 11 ; index: Loudspeaker ; euclid sim: 9.95436680406737\n",
            "len train data: 11 ; index: Hall & Oates ; euclid sim: 5.469739669896662\n",
            "len train data: 11 ; index: On Fire ; euclid sim: 6.372869601572039\n",
            "len train data: 11 ; index: On Fire ; euclid sim: 5.368797847244775\n",
            "len train data: 11 ; index: Anywhere We Go ; euclid sim: 5.138480774650796\n",
            "len train data: 11 ; index: On Fire ; euclid sim: 6.928981244722612\n"
          ]
        }
      ]
    }
  ]
}