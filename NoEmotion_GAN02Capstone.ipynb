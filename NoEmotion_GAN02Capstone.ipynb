{
  "nbformat": 4,
  "nbformat_minor": 0,
  "metadata": {
    "colab": {
      "name": "NoEmotion-GAN02Capstone.ipynb",
      "provenance": [],
      "collapsed_sections": []
    },
    "kernelspec": {
      "name": "python3",
      "display_name": "Python 3"
    },
    "language_info": {
      "name": "python"
    }
  },
  "cells": [
    {
      "cell_type": "code",
      "metadata": {
        "id": "YQCZ3H_2TxIZ",
        "colab": {
          "base_uri": "https://localhost:8080/"
        },
        "outputId": "37180ffc-46a8-4aed-877f-5a69f6d9153c"
      },
      "source": [
        "import torch\n",
        "from torch import nn\n",
        "from torch.utils.data import DataLoader\n",
        "import math\n",
        "import matplotlib.pyplot as plt\n",
        "import numpy as np\n",
        "import io\n",
        "import pandas as pd\n",
        "from imblearn.over_sampling import SMOTE\n",
        "from collections import Counter\n",
        "from matplotlib import pyplot\n",
        "from sklearn.preprocessing import MinMaxScaler\n",
        "import warnings\n",
        "warnings.filterwarnings('ignore')"
      ],
      "execution_count": 1,
      "outputs": [
        {
          "output_type": "stream",
          "name": "stderr",
          "text": [
            "/usr/local/lib/python3.7/dist-packages/sklearn/externals/six.py:31: FutureWarning: The module is deprecated in version 0.21 and will be removed in version 0.23 since we've dropped support for Python 2.7. Please rely on the official version of six (https://pypi.org/project/six/).\n",
            "  \"(https://pypi.org/project/six/).\", FutureWarning)\n",
            "/usr/local/lib/python3.7/dist-packages/sklearn/utils/deprecation.py:144: FutureWarning: The sklearn.neighbors.base module is  deprecated in version 0.22 and will be removed in version 0.24. The corresponding classes / functions should instead be imported from sklearn.neighbors. Anything that cannot be imported from sklearn.neighbors is now part of the private API.\n",
            "  warnings.warn(message, FutureWarning)\n"
          ]
        }
      ]
    },
    {
      "cell_type": "code",
      "metadata": {
        "id": "c5IpolGoaZzL"
      },
      "source": [
        "url = 'https://raw.githubusercontent.com/trishattah/Capstone/main/spotify_songs-2.csv'\n",
        "df2 = pd.read_csv(url)"
      ],
      "execution_count": 2,
      "outputs": []
    },
    {
      "cell_type": "code",
      "metadata": {
        "id": "BOfZ1LsBb3Z_"
      },
      "source": [
        "#url = 'https://raw.githubusercontent.com/trishattah/Capstone/main/Emotion_Labels.csv'\n",
        "#df3 = pd.read_csv(url)"
      ],
      "execution_count": 3,
      "outputs": []
    },
    {
      "cell_type": "code",
      "metadata": {
        "id": "KwLUDpea0D_T"
      },
      "source": [
        "#df4 = pd.merge(df2,df3,on='track_id')\n",
        "#df4 = df2.drop(['Unnamed: 19'], axis=1)\n",
        "df4=df2"
      ],
      "execution_count": 4,
      "outputs": []
    },
    {
      "cell_type": "code",
      "metadata": {
        "colab": {
          "base_uri": "https://localhost:8080/"
        },
        "id": "paij6qTxqtvn",
        "outputId": "61954b6d-34d3-454b-c4f0-2e8b0dd3f22f"
      },
      "source": [
        "df4 = df4.dropna()\n",
        "df4.shape"
      ],
      "execution_count": 5,
      "outputs": [
        {
          "output_type": "execute_result",
          "data": {
            "text/plain": [
              "(1099, 19)"
            ]
          },
          "metadata": {},
          "execution_count": 5
        }
      ]
    },
    {
      "cell_type": "code",
      "metadata": {
        "colab": {
          "base_uri": "https://localhost:8080/"
        },
        "id": "rcEu57ehv2fp",
        "outputId": "e327ba8e-5ed6-42dc-faaa-29b099d03559"
      },
      "source": [
        "df4['playlist_id'].value_counts()"
      ],
      "execution_count": 6,
      "outputs": [
        {
          "output_type": "execute_result",
          "data": {
            "text/plain": [
              "4hKPJNFIhdAg4pAksn78FJ    11\n",
              "3ykXidKLz1eYPvuGoFlD1e    11\n",
              "1qXg9ck25tBRxeXsj8mbDG    10\n",
              "5jROYSZSL7cO0jGAqkPx7C    10\n",
              "4NlAd9NpIa92IjErMyAriM    10\n",
              "                          ..\n",
              "37i9dQZF1DWTc5QDlvD7t0     1\n",
              "1QJ66s6YBZgxMUaVUyrhbo     1\n",
              "3HjTMn6O6adW8vcSMnqmhw     1\n",
              "4csIMGPI3aGo3Xy7WG8jBi     1\n",
              "4frhr6RQM2fMOm2mpvOVo6     1\n",
              "Name: playlist_id, Length: 359, dtype: int64"
            ]
          },
          "metadata": {},
          "execution_count": 6
        }
      ]
    },
    {
      "cell_type": "code",
      "metadata": {
        "id": "zhHvotdp3evO"
      },
      "source": [
        "from sklearn.preprocessing import LabelEncoder\n",
        "le = LabelEncoder()\n",
        "\n",
        "df11 = df2.drop(['playlist_id','track_id','track_name','track_artist'], axis=1)\n",
        "cols = ['language', 'playlist_genre']\n",
        "#df11[cols] = df11[cols].apply(LabelEncoder().fit_transform)\n",
        "\n",
        "df12 = df2.set_index('track_name')"
      ],
      "execution_count": 7,
      "outputs": []
    },
    {
      "cell_type": "code",
      "metadata": {
        "id": "gh5zkMZ3x43G"
      },
      "source": [
        "testdf = df4[df4['playlist_id'].isin(['5jROYSZSL7cO0jGAqkPx7C', '3ykXidKLz1eYPvuGoFlD1e','4hKPJNFIhdAg4pAksn78FJ'])]\n",
        "testdf1 =  df4[df4['playlist_id'].isin(['5jROYSZSL7cO0jGAqkPx7C'])]\n",
        "testdf2 = df4[df4['playlist_id'].isin(['3ykXidKLz1eYPvuGoFlD1e'])]\n",
        "testdf3 = df4[df4['playlist_id'].isin(['4hKPJNFIhdAg4pAksn78FJ'])]"
      ],
      "execution_count": 8,
      "outputs": []
    },
    {
      "cell_type": "code",
      "metadata": {
        "id": "dct1kTdS0MYc"
      },
      "source": [
        "testdf1_1 = testdf1.drop(['playlist_id','track_id','track_name','track_artist'], axis=1)\n",
        "testdf2_1 = testdf2.drop(['playlist_id','track_id','track_name','track_artist'], axis=1)\n",
        "testdf3_1 = testdf3.drop(['playlist_id','track_id','track_name','track_artist'], axis=1)"
      ],
      "execution_count": 9,
      "outputs": []
    },
    {
      "cell_type": "code",
      "metadata": {
        "id": "URnxJyAXzAUk"
      },
      "source": [
        "df5 = df4[~df4['playlist_id'].isin(['4hKPJNFIhdAg4pAksn78FJ', '3ykXidKLz1eYPvuGoFlD1e','4hKPJNFIhdAg4pAksn78FJ'])]"
      ],
      "execution_count": 10,
      "outputs": []
    },
    {
      "cell_type": "code",
      "metadata": {
        "id": "0CtwpX2P39KH"
      },
      "source": [
        "pd.set_option('display.max_columns', None)"
      ],
      "execution_count": 11,
      "outputs": []
    },
    {
      "cell_type": "code",
      "metadata": {
        "id": "iFpwP8Vz1hHY"
      },
      "source": [
        "df5 = df4.drop(['playlist_id','track_id','track_name','track_artist'], axis=1)\n",
        "df5['emotion'] = df5['emotion'].astype(int)"
      ],
      "execution_count": 12,
      "outputs": []
    },
    {
      "cell_type": "code",
      "metadata": {
        "colab": {
          "base_uri": "https://localhost:8080/",
          "height": 131
        },
        "id": "7CAVYhDW9UJ3",
        "outputId": "17ba5dcd-5103-4707-fac3-cdb99faff897"
      },
      "source": [
        "df5.head(2)"
      ],
      "execution_count": 13,
      "outputs": [
        {
          "output_type": "execute_result",
          "data": {
            "text/html": [
              "<div>\n",
              "<style scoped>\n",
              "    .dataframe tbody tr th:only-of-type {\n",
              "        vertical-align: middle;\n",
              "    }\n",
              "\n",
              "    .dataframe tbody tr th {\n",
              "        vertical-align: top;\n",
              "    }\n",
              "\n",
              "    .dataframe thead th {\n",
              "        text-align: right;\n",
              "    }\n",
              "</style>\n",
              "<table border=\"1\" class=\"dataframe\">\n",
              "  <thead>\n",
              "    <tr style=\"text-align: right;\">\n",
              "      <th></th>\n",
              "      <th>track_popularity</th>\n",
              "      <th>playlist_genre</th>\n",
              "      <th>danceability</th>\n",
              "      <th>energy</th>\n",
              "      <th>key</th>\n",
              "      <th>loudness</th>\n",
              "      <th>mode</th>\n",
              "      <th>speechiness</th>\n",
              "      <th>acousticness</th>\n",
              "      <th>instrumentalness</th>\n",
              "      <th>liveness</th>\n",
              "      <th>valence</th>\n",
              "      <th>tempo</th>\n",
              "      <th>language</th>\n",
              "      <th>emotion</th>\n",
              "    </tr>\n",
              "  </thead>\n",
              "  <tbody>\n",
              "    <tr>\n",
              "      <th>0</th>\n",
              "      <td>41</td>\n",
              "      <td>rock</td>\n",
              "      <td>0.682</td>\n",
              "      <td>0.401</td>\n",
              "      <td>2</td>\n",
              "      <td>-10.068</td>\n",
              "      <td>1</td>\n",
              "      <td>0.0236</td>\n",
              "      <td>0.2790</td>\n",
              "      <td>0.01170</td>\n",
              "      <td>0.0887</td>\n",
              "      <td>0.566</td>\n",
              "      <td>97.091</td>\n",
              "      <td>tl</td>\n",
              "      <td>6</td>\n",
              "    </tr>\n",
              "    <tr>\n",
              "      <th>1</th>\n",
              "      <td>28</td>\n",
              "      <td>rock</td>\n",
              "      <td>0.303</td>\n",
              "      <td>0.880</td>\n",
              "      <td>9</td>\n",
              "      <td>-4.739</td>\n",
              "      <td>1</td>\n",
              "      <td>0.0442</td>\n",
              "      <td>0.0117</td>\n",
              "      <td>0.00994</td>\n",
              "      <td>0.3470</td>\n",
              "      <td>0.404</td>\n",
              "      <td>135.225</td>\n",
              "      <td>en</td>\n",
              "      <td>1</td>\n",
              "    </tr>\n",
              "  </tbody>\n",
              "</table>\n",
              "</div>"
            ],
            "text/plain": [
              "   track_popularity playlist_genre  danceability  energy  key  loudness  mode  \\\n",
              "0                41           rock         0.682   0.401    2   -10.068     1   \n",
              "1                28           rock         0.303   0.880    9    -4.739     1   \n",
              "\n",
              "   speechiness  acousticness  instrumentalness  liveness  valence    tempo  \\\n",
              "0       0.0236        0.2790           0.01170    0.0887    0.566   97.091   \n",
              "1       0.0442        0.0117           0.00994    0.3470    0.404  135.225   \n",
              "\n",
              "  language  emotion  \n",
              "0       tl        6  \n",
              "1       en        1  "
            ]
          },
          "metadata": {},
          "execution_count": 13
        }
      ]
    },
    {
      "cell_type": "code",
      "metadata": {
        "id": "PUNlxqKOIklG"
      },
      "source": [
        "cols = ['language', 'playlist_genre']\n",
        "df5[cols] = df5[cols].apply(LabelEncoder().fit_transform)"
      ],
      "execution_count": 14,
      "outputs": []
    },
    {
      "cell_type": "code",
      "metadata": {
        "id": "mDPWs3JO9gvP"
      },
      "source": [
        "df11 = df5"
      ],
      "execution_count": 15,
      "outputs": []
    },
    {
      "cell_type": "code",
      "metadata": {
        "id": "J7DROiWZ9vQB"
      },
      "source": [
        "df11['track_name'] = df4['track_name']\n",
        "df5 = df5.drop(['track_name'], axis=1)"
      ],
      "execution_count": 16,
      "outputs": []
    },
    {
      "cell_type": "code",
      "metadata": {
        "colab": {
          "base_uri": "https://localhost:8080/",
          "height": 37
        },
        "id": "6kJkSkyzC7iU",
        "outputId": "5f51c6ac-c193-4aea-94c7-ba2b73d95661"
      },
      "source": [
        "df11.iloc[517,15]"
      ],
      "execution_count": 17,
      "outputs": [
        {
          "output_type": "execute_result",
          "data": {
            "application/vnd.google.colaboratory.intrinsic+json": {
              "type": "string"
            },
            "text/plain": [
              "'Bandito'"
            ]
          },
          "metadata": {},
          "execution_count": 17
        }
      ]
    },
    {
      "cell_type": "code",
      "metadata": {
        "id": "eIIXCY014PaV"
      },
      "source": [
        "df12 = df11.set_index('track_name')"
      ],
      "execution_count": 18,
      "outputs": []
    },
    {
      "cell_type": "code",
      "metadata": {
        "id": "kVtiVv8S0rdE"
      },
      "source": [
        "testdf1_1[cols] = testdf1_1[cols].apply(LabelEncoder().fit_transform)\n",
        "testdf2_1[cols] = testdf2_1[cols].apply(LabelEncoder().fit_transform)\n",
        "testdf3_1[cols] = testdf3_1[cols].apply(LabelEncoder().fit_transform)"
      ],
      "execution_count": 19,
      "outputs": []
    },
    {
      "cell_type": "code",
      "metadata": {
        "colab": {
          "base_uri": "https://localhost:8080/"
        },
        "id": "QAUoLLtugPJB",
        "outputId": "7cf38948-d465-4953-a266-aa9bf9451b6b"
      },
      "source": [
        "X, y = df5.iloc[:, :-1], df5.iloc[:, -1]\n",
        "X.shape"
      ],
      "execution_count": 20,
      "outputs": [
        {
          "output_type": "execute_result",
          "data": {
            "text/plain": [
              "(1099, 14)"
            ]
          },
          "metadata": {},
          "execution_count": 20
        }
      ]
    },
    {
      "cell_type": "code",
      "metadata": {
        "id": "G_EuCYFRRNWe"
      },
      "source": [
        "#strategy = {1:200, 2:120, 3:150, 4:100, 5:150,6:120, 7:70, 8:45 ,9:45 ,10:40}\n",
        "#oversample = SMOTE(sampling_strategy=strategy)\n",
        "#X, y = oversample.fit_resample(X, y)\n",
        "# summarize distribution\n",
        "#counter = Counter(y)\n",
        "#for k,v in counter.items():\n",
        "#\tper = v / len(y) * 100\n",
        "#\tprint('Class=%d, n=%d (%.3f%%)' % (k, v, per))\n",
        "# plot the distribution\n",
        "#pyplot.bar(counter.keys(), counter.values())\n",
        "#pyplot.show()"
      ],
      "execution_count": 21,
      "outputs": []
    },
    {
      "cell_type": "code",
      "metadata": {
        "id": "ROL4725RdsGn"
      },
      "source": [
        "#df6 = pd.DataFrame(X)\n",
        "#df6['emotion'] = y\n",
        "#df7 = df6.sample(frac=1)\n",
        "#df5 = df5.dropna()"
      ],
      "execution_count": 22,
      "outputs": []
    },
    {
      "cell_type": "code",
      "metadata": {
        "id": "JFK2TDoD92iv"
      },
      "source": [
        "df5.shape\n",
        "scaler = MinMaxScaler()"
      ],
      "execution_count": 23,
      "outputs": []
    },
    {
      "cell_type": "code",
      "metadata": {
        "colab": {
          "base_uri": "https://localhost:8080/"
        },
        "id": "2M3PlxrK31BH",
        "outputId": "e8378e12-3e79-459c-ec34-a4a8656e64f5"
      },
      "source": [
        "df5['emotion'].value_counts()"
      ],
      "execution_count": 24,
      "outputs": [
        {
          "output_type": "execute_result",
          "data": {
            "text/plain": [
              "1     393\n",
              "6     137\n",
              "3     108\n",
              "5     103\n",
              "7      91\n",
              "2      91\n",
              "4      67\n",
              "8      39\n",
              "10     38\n",
              "9      32\n",
              "Name: emotion, dtype: int64"
            ]
          },
          "metadata": {},
          "execution_count": 24
        }
      ]
    },
    {
      "cell_type": "code",
      "metadata": {
        "colab": {
          "base_uri": "https://localhost:8080/"
        },
        "id": "bvDcIONbwwND",
        "outputId": "e28656d5-1123-49ff-a102-0bfb7f20d557"
      },
      "source": [
        "train_data_001 = df5.iloc[:1024,6:14]\n",
        "train_data_01 = pd.DataFrame(scaler.fit_transform(train_data_001))\n",
        "train_data_length = len(train_data_01)\n",
        "train_data_001.columns"
      ],
      "execution_count": 25,
      "outputs": [
        {
          "output_type": "execute_result",
          "data": {
            "text/plain": [
              "Index(['mode', 'speechiness', 'acousticness', 'instrumentalness', 'liveness',\n",
              "       'valence', 'tempo', 'language'],\n",
              "      dtype='object')"
            ]
          },
          "metadata": {},
          "execution_count": 25
        }
      ]
    },
    {
      "cell_type": "code",
      "metadata": {
        "id": "DrydNko01Qiq"
      },
      "source": [
        "testdf1_2 = testdf1_1.iloc[:1024,6:14]\n",
        "testdf2_2 = testdf2_1.iloc[:1024,6:14]\n",
        "testdf3_2 = testdf3_1.iloc[:1024,6:14]\n",
        "df13 = df12.iloc[:1024,6:14]"
      ],
      "execution_count": 26,
      "outputs": []
    },
    {
      "cell_type": "code",
      "metadata": {
        "colab": {
          "base_uri": "https://localhost:8080/"
        },
        "id": "Y-mISzcmEXG7",
        "outputId": "9ade3294-45d4-43e8-be1b-fa0b6fefa4b9"
      },
      "source": [
        "(train_data_01 < 0).values.any()"
      ],
      "execution_count": 27,
      "outputs": [
        {
          "output_type": "execute_result",
          "data": {
            "text/plain": [
              "False"
            ]
          },
          "metadata": {},
          "execution_count": 27
        }
      ]
    },
    {
      "cell_type": "code",
      "metadata": {
        "id": "RYgkcSwtvynh"
      },
      "source": [
        "train_data = torch.tensor(train_data_01.values.astype(np.float32))"
      ],
      "execution_count": 28,
      "outputs": []
    },
    {
      "cell_type": "code",
      "metadata": {
        "id": "9jGsD2Rf_5cZ"
      },
      "source": [
        "train_labels = torch.zeros(train_data_length)\n",
        "train_set = [\n",
        "    (train_data[i], train_labels[i]) for i in range(train_data_length)\n",
        "]"
      ],
      "execution_count": 29,
      "outputs": []
    },
    {
      "cell_type": "code",
      "metadata": {
        "id": "8Q_FlvWVCPeg"
      },
      "source": [
        "batch_size = 32\n",
        "train_loader = torch.utils.data.DataLoader(\n",
        "    train_set, batch_size=batch_size, shuffle=True\n",
        ")"
      ],
      "execution_count": 30,
      "outputs": []
    },
    {
      "cell_type": "code",
      "metadata": {
        "id": "oeGokWcnUNVo"
      },
      "source": [
        "class Discriminator(nn.Module):\n",
        "    def __init__(self):\n",
        "        super().__init__()\n",
        "        self.model = nn.Sequential(\n",
        "            nn.Linear(8, 256),\n",
        "            nn.ReLU(),\n",
        "            nn.Dropout(0.3),\n",
        "            nn.Linear(256, 128),\n",
        "            nn.ReLU(),\n",
        "            nn.Dropout(0.3),\n",
        "            nn.Linear(128, 64),\n",
        "            nn.ReLU(),\n",
        "            nn.Dropout(0.3),\n",
        "            nn.Linear(64, 1),\n",
        "            nn.Sigmoid(),\n",
        "        )\n",
        "\n",
        "    def forward(self, x):\n",
        "        output = self.model(x)\n",
        "        return output"
      ],
      "execution_count": 31,
      "outputs": []
    },
    {
      "cell_type": "code",
      "metadata": {
        "id": "w28gifmTe_Wa"
      },
      "source": [
        "discriminator = Discriminator()"
      ],
      "execution_count": 32,
      "outputs": []
    },
    {
      "cell_type": "code",
      "metadata": {
        "id": "3LaGfTJ1fFf9"
      },
      "source": [
        "class Generator(nn.Module):\n",
        "    def __init__(self):\n",
        "        super().__init__()\n",
        "        self.model = nn.Sequential(\n",
        "            nn.Linear(8, 32),\n",
        "            nn.ReLU(),\n",
        "            nn.Linear(32, 64),\n",
        "            nn.ReLU(),\n",
        "            nn.Linear(64, 8),\n",
        "        )\n",
        "\n",
        "    def forward(self, x):\n",
        "        output = self.model(x)\n",
        "        return output\n",
        "\n",
        "generator = Generator()"
      ],
      "execution_count": 33,
      "outputs": []
    },
    {
      "cell_type": "code",
      "metadata": {
        "id": "b3Lh9ZtEfPvG"
      },
      "source": [
        "lr = 0.001\n",
        "num_epochs = 500\n",
        "loss_function = nn.BCELoss()"
      ],
      "execution_count": 34,
      "outputs": []
    },
    {
      "cell_type": "code",
      "metadata": {
        "id": "vHk6r37kfWfA"
      },
      "source": [
        "optimizer_discriminator = torch.optim.Adam(discriminator.parameters(), lr=lr)\n",
        "optimizer_generator = torch.optim.Adam(generator.parameters(), lr=lr)"
      ],
      "execution_count": 35,
      "outputs": []
    },
    {
      "cell_type": "code",
      "metadata": {
        "colab": {
          "base_uri": "https://localhost:8080/"
        },
        "id": "WiX4fOyf2Wh6",
        "outputId": "274db19d-68df-4d6f-84bd-e1b203f2b0a6"
      },
      "source": [
        " len(list(train_loader)[0][0])"
      ],
      "execution_count": 36,
      "outputs": [
        {
          "output_type": "execute_result",
          "data": {
            "text/plain": [
              "32"
            ]
          },
          "metadata": {},
          "execution_count": 36
        }
      ]
    },
    {
      "cell_type": "code",
      "metadata": {
        "id": "moL5w8QUPPFB"
      },
      "source": [
        "# list for final generated samples\n",
        "final_generated_samples=[]\n",
        "final_generated_samples_list=[]\n",
        "losses_g =[]\n",
        "losses_d = []"
      ],
      "execution_count": 37,
      "outputs": []
    },
    {
      "cell_type": "code",
      "metadata": {
        "colab": {
          "base_uri": "https://localhost:8080/"
        },
        "id": "M3oKJHuuffeK",
        "outputId": "55cdd1e0-6f4f-4292-e240-8751078414d7"
      },
      "source": [
        "for epoch in range(num_epochs):\n",
        "    for n, (real_samples, _) in enumerate(train_loader):\n",
        "        # Data for training the discriminator\n",
        "        real_samples_labels = torch.ones((batch_size, 1))\n",
        "        latent_space_samples = torch.rand((batch_size, 8))\n",
        "        generated_samples = generator(latent_space_samples)\n",
        "        generated_samples_labels = torch.zeros((batch_size, 1))\n",
        "        all_samples = torch.cat((real_samples, generated_samples))\n",
        "        all_samples_labels = torch.cat(\n",
        "            (real_samples_labels, generated_samples_labels)\n",
        "        )\n",
        "\n",
        "        # Training the discriminator\n",
        "        discriminator.zero_grad()\n",
        "        output_discriminator = discriminator(all_samples)\n",
        "        loss_discriminator = loss_function(\n",
        "            output_discriminator, all_samples_labels)\n",
        "        loss_discriminator.backward()\n",
        "        optimizer_discriminator.step()\n",
        "\n",
        "        # Data for training the generator\n",
        "        latent_space_samples = torch.rand((batch_size, 8))\n",
        "\n",
        "        # Training the generator\n",
        "        generator.zero_grad()\n",
        "        generated_samples = generator(latent_space_samples)\n",
        "        output_discriminator_generated = discriminator(generated_samples)\n",
        "        loss_generator = loss_function(\n",
        "            output_discriminator_generated, real_samples_labels\n",
        "        )\n",
        "        loss_generator.backward()\n",
        "        optimizer_generator.step()\n",
        "\n",
        "        losses_g.append(loss_generator)\n",
        "        losses_d.append(loss_discriminator)\n",
        "\n",
        "        # Show loss\n",
        "        if epoch % 10 == 0 and n == batch_size - 1:\n",
        "            final_generated_samples.append(generated_samples[0])\n",
        "            print(f\"Epoch: {epoch} Loss D.: {loss_discriminator}\")\n",
        "            print(f\"Epoch: {epoch} Loss G.: {loss_generator}\")\n",
        "            "
      ],
      "execution_count": 38,
      "outputs": [
        {
          "output_type": "stream",
          "name": "stdout",
          "text": [
            "Epoch: 0 Loss D.: 0.5163606405258179\n",
            "Epoch: 0 Loss G.: 1.2449159622192383\n",
            "Epoch: 10 Loss D.: 0.33247682452201843\n",
            "Epoch: 10 Loss G.: 1.7874040603637695\n",
            "Epoch: 20 Loss D.: 0.7137839794158936\n",
            "Epoch: 20 Loss G.: 0.8642800450325012\n",
            "Epoch: 30 Loss D.: 0.4306289255619049\n",
            "Epoch: 30 Loss G.: 1.4227604866027832\n",
            "Epoch: 40 Loss D.: 0.3178339898586273\n",
            "Epoch: 40 Loss G.: 1.3306766748428345\n",
            "Epoch: 50 Loss D.: 0.6588230133056641\n",
            "Epoch: 50 Loss G.: 0.8140596151351929\n",
            "Epoch: 60 Loss D.: 0.6289677619934082\n",
            "Epoch: 60 Loss G.: 1.3216392993927002\n",
            "Epoch: 70 Loss D.: 0.34665408730506897\n",
            "Epoch: 70 Loss G.: 1.1252751350402832\n",
            "Epoch: 80 Loss D.: 0.8366276621818542\n",
            "Epoch: 80 Loss G.: 1.8067576885223389\n",
            "Epoch: 90 Loss D.: 0.5457554459571838\n",
            "Epoch: 90 Loss G.: 0.8210006356239319\n",
            "Epoch: 100 Loss D.: 0.47317665815353394\n",
            "Epoch: 100 Loss G.: 1.7746835947036743\n",
            "Epoch: 110 Loss D.: 0.5850603580474854\n",
            "Epoch: 110 Loss G.: 0.7888298034667969\n",
            "Epoch: 120 Loss D.: 0.4041711390018463\n",
            "Epoch: 120 Loss G.: 1.1905429363250732\n",
            "Epoch: 130 Loss D.: 0.6430165767669678\n",
            "Epoch: 130 Loss G.: 1.7118228673934937\n",
            "Epoch: 140 Loss D.: 0.47333255410194397\n",
            "Epoch: 140 Loss G.: 1.363858699798584\n",
            "Epoch: 150 Loss D.: 0.5793828964233398\n",
            "Epoch: 150 Loss G.: 1.1699202060699463\n",
            "Epoch: 160 Loss D.: 0.5413573384284973\n",
            "Epoch: 160 Loss G.: 1.163514494895935\n",
            "Epoch: 170 Loss D.: 0.5122209787368774\n",
            "Epoch: 170 Loss G.: 1.2027878761291504\n",
            "Epoch: 180 Loss D.: 0.5317472219467163\n",
            "Epoch: 180 Loss G.: 1.0330772399902344\n",
            "Epoch: 190 Loss D.: 0.36735501885414124\n",
            "Epoch: 190 Loss G.: 1.1058318614959717\n",
            "Epoch: 200 Loss D.: 0.5268228054046631\n",
            "Epoch: 200 Loss G.: 1.193052053451538\n",
            "Epoch: 210 Loss D.: 0.3915756046772003\n",
            "Epoch: 210 Loss G.: 1.1172802448272705\n",
            "Epoch: 220 Loss D.: 0.42635399103164673\n",
            "Epoch: 220 Loss G.: 1.2522491216659546\n",
            "Epoch: 230 Loss D.: 0.3929107189178467\n",
            "Epoch: 230 Loss G.: 1.5327966213226318\n",
            "Epoch: 240 Loss D.: 0.4382094144821167\n",
            "Epoch: 240 Loss G.: 1.12743079662323\n",
            "Epoch: 250 Loss D.: 0.20854821801185608\n",
            "Epoch: 250 Loss G.: 1.4282126426696777\n",
            "Epoch: 260 Loss D.: 0.3292456865310669\n",
            "Epoch: 260 Loss G.: 1.4717848300933838\n",
            "Epoch: 270 Loss D.: 0.3623581826686859\n",
            "Epoch: 270 Loss G.: 1.3297308683395386\n",
            "Epoch: 280 Loss D.: 0.44866424798965454\n",
            "Epoch: 280 Loss G.: 1.6113418340682983\n",
            "Epoch: 290 Loss D.: 0.4129321277141571\n",
            "Epoch: 290 Loss G.: 1.3480008840560913\n",
            "Epoch: 300 Loss D.: 0.4144227206707001\n",
            "Epoch: 300 Loss G.: 1.1616384983062744\n",
            "Epoch: 310 Loss D.: 0.4039308428764343\n",
            "Epoch: 310 Loss G.: 1.2211146354675293\n",
            "Epoch: 320 Loss D.: 0.5597054958343506\n",
            "Epoch: 320 Loss G.: 1.0769182443618774\n",
            "Epoch: 330 Loss D.: 0.50029057264328\n",
            "Epoch: 330 Loss G.: 0.9940280318260193\n",
            "Epoch: 340 Loss D.: 0.4438890218734741\n",
            "Epoch: 340 Loss G.: 1.0496724843978882\n",
            "Epoch: 350 Loss D.: 0.5105769038200378\n",
            "Epoch: 350 Loss G.: 1.2327702045440674\n",
            "Epoch: 360 Loss D.: 0.46111682057380676\n",
            "Epoch: 360 Loss G.: 1.7592501640319824\n",
            "Epoch: 370 Loss D.: 0.4452880918979645\n",
            "Epoch: 370 Loss G.: 1.2579007148742676\n",
            "Epoch: 380 Loss D.: 0.45003339648246765\n",
            "Epoch: 380 Loss G.: 1.2166563272476196\n",
            "Epoch: 390 Loss D.: 0.4180847108364105\n",
            "Epoch: 390 Loss G.: 1.1300384998321533\n",
            "Epoch: 400 Loss D.: 0.45245569944381714\n",
            "Epoch: 400 Loss G.: 1.0200622081756592\n",
            "Epoch: 410 Loss D.: 0.5459728837013245\n",
            "Epoch: 410 Loss G.: 1.141941785812378\n",
            "Epoch: 420 Loss D.: 0.5028882026672363\n",
            "Epoch: 420 Loss G.: 1.138268232345581\n",
            "Epoch: 430 Loss D.: 0.43271222710609436\n",
            "Epoch: 430 Loss G.: 1.2171423435211182\n",
            "Epoch: 440 Loss D.: 0.3626081347465515\n",
            "Epoch: 440 Loss G.: 1.225736141204834\n",
            "Epoch: 450 Loss D.: 0.4805539548397064\n",
            "Epoch: 450 Loss G.: 1.1126788854599\n",
            "Epoch: 460 Loss D.: 0.43900901079177856\n",
            "Epoch: 460 Loss G.: 1.1663190126419067\n",
            "Epoch: 470 Loss D.: 0.4634439945220947\n",
            "Epoch: 470 Loss G.: 1.173227310180664\n",
            "Epoch: 480 Loss D.: 0.5138124823570251\n",
            "Epoch: 480 Loss G.: 1.34157133102417\n",
            "Epoch: 490 Loss D.: 0.4941326975822449\n",
            "Epoch: 490 Loss G.: 1.2401154041290283\n"
          ]
        }
      ]
    },
    {
      "cell_type": "code",
      "metadata": {
        "colab": {
          "base_uri": "https://localhost:8080/",
          "height": 265
        },
        "id": "cq-mQkHtUfaE",
        "outputId": "8fc83dfe-a153-4a1d-8cbb-8bc8c615de1e"
      },
      "source": [
        "# plot and save the generator and discriminator loss\n",
        "plt.figure()\n",
        "plt.plot(losses_g, label='Generator loss')\n",
        "plt.plot(losses_d, label='Discriminator Loss')\n",
        "plt.legend()\n",
        "plt.show()"
      ],
      "execution_count": 39,
      "outputs": [
        {
          "output_type": "display_data",
          "data": {
            "image/png": "[encoded data removed]",
            "text/plain": [
              "<Figure size 432x288 with 1 Axes>"
            ]
          },
          "metadata": {
            "needs_background": "light"
          }
        }
      ]
    },
    {
      "cell_type": "code",
      "metadata": {
        "id": "m6LUuQD1uz2F"
      },
      "source": [
        "# make a dataframe for sample list\n",
        "for i in final_generated_samples:\n",
        "  a = i.detach().numpy()\n",
        "  final_generated_samples_list.append(a)\n",
        "final_generated_samples_df = pd.DataFrame(final_generated_samples_list)"
      ],
      "execution_count": 40,
      "outputs": []
    },
    {
      "cell_type": "code",
      "metadata": {
        "colab": {
          "base_uri": "https://localhost:8080/"
        },
        "id": "xNZjGkXgiNGL",
        "outputId": "363a1331-0a54-4faf-96b4-e67c9153872c"
      },
      "source": [
        "latent_space_samples[:10]"
      ],
      "execution_count": 41,
      "outputs": [
        {
          "output_type": "execute_result",
          "data": {
            "text/plain": [
              "tensor([[0.4797, 0.7396, 0.3567, 0.5027, 0.6961, 0.2708, 0.5215, 0.9721],\n",
              "        [0.8166, 0.7093, 0.3920, 0.7160, 0.7434, 0.7919, 0.3383, 0.3230],\n",
              "        [0.8430, 0.0013, 0.2740, 0.6263, 0.7999, 0.2261, 0.0748, 0.4803],\n",
              "        [0.1167, 0.3979, 0.6377, 0.0834, 0.4010, 0.9383, 0.9291, 0.5702],\n",
              "        [0.1642, 0.4335, 0.9529, 0.6786, 0.9019, 0.3670, 0.0339, 0.9290],\n",
              "        [0.4251, 0.2021, 0.5880, 0.4181, 0.8452, 0.2619, 0.3830, 0.0430],\n",
              "        [0.0444, 0.0468, 0.5084, 0.6022, 0.0962, 0.2262, 0.7128, 0.7749],\n",
              "        [0.3663, 0.6678, 0.1869, 0.3901, 0.5297, 0.3679, 0.6881, 0.5417],\n",
              "        [0.1230, 0.8613, 0.9459, 0.4671, 0.1420, 0.6923, 0.4868, 0.7261],\n",
              "        [0.8605, 0.1643, 0.3228, 0.0426, 0.7859, 0.1615, 0.0150, 0.7343]])"
            ]
          },
          "metadata": {},
          "execution_count": 41
        }
      ]
    },
    {
      "cell_type": "code",
      "metadata": {
        "colab": {
          "base_uri": "https://localhost:8080/",
          "height": 282
        },
        "id": "4tvxpDe3Za9d",
        "outputId": "d47b69d3-fa44-4a7c-ff32-12ff834f8e23"
      },
      "source": [
        "#plot of two variables from generated samples\n",
        "plt.plot(final_generated_samples_df.iloc[:, 6], \n",
        "         final_generated_samples_df.iloc[:, 3], \".\")"
      ],
      "execution_count": 42,
      "outputs": [
        {
          "output_type": "execute_result",
          "data": {
            "text/plain": [
              "[<matplotlib.lines.Line2D at 0x7f390880a410>]"
            ]
          },
          "metadata": {},
          "execution_count": 42
        },
        {
          "output_type": "display_data",
          "data": {
            "image/png": "[encoded data removed]",
            "text/plain": [
              "<Figure size 432x288 with 1 Axes>"
            ]
          },
          "metadata": {
            "needs_background": "light"
          }
        }
      ]
    },
    {
      "cell_type": "code",
      "metadata": {
        "id": "XIMG5PoX06OX"
      },
      "source": [
        "from scipy.spatial import distance"
      ],
      "execution_count": 43,
      "outputs": []
    },
    {
      "cell_type": "code",
      "metadata": {
        "id": "RycK3PK_zDW0"
      },
      "source": [
        "float_x = real_samples[0].double()"
      ],
      "execution_count": 44,
      "outputs": []
    },
    {
      "cell_type": "code",
      "metadata": {
        "id": "Y6D_uRDmDsKS"
      },
      "source": [
        "float_x = list(float_x.numpy())"
      ],
      "execution_count": 45,
      "outputs": []
    },
    {
      "cell_type": "markdown",
      "metadata": {
        "id": "mP59c_ZQqUKQ"
      },
      "source": [
        ""
      ]
    },
    {
      "cell_type": "code",
      "metadata": {
        "colab": {
          "base_uri": "https://localhost:8080/"
        },
        "id": "rf0t9hUt7Wc4",
        "outputId": "780e3289-cb3d-43fe-fd10-ec2af8e52028"
      },
      "source": [
        "# Cosine similarity\n",
        "def square_rooted(x):\n",
        "   return round(math.sqrt(sum([a*a for a in x])),3)\n",
        "  \n",
        "def cosine_similarity(x,y):\n",
        " numerator = sum(a*b for a,b in zip(x,y))\n",
        " denominator = square_rooted(x)*square_rooted(y)\n",
        " return round(numerator/float(denominator),3)\n",
        "  \n",
        "print(cosine_similarity(final_generated_samples_df[0],float_x))"
      ],
      "execution_count": 46,
      "outputs": [
        {
          "output_type": "stream",
          "name": "stdout",
          "text": [
            "0.155\n"
          ]
        }
      ]
    },
    {
      "cell_type": "code",
      "metadata": {
        "colab": {
          "base_uri": "https://localhost:8080/"
        },
        "id": "vP1mzbkc79ik",
        "outputId": "8eeda6a4-5c51-4190-dd73-e8c36e472f07"
      },
      "source": [
        "#Jaccard similarity\n",
        "from math import*\n",
        "  \n",
        "def jaccard_similarity(x,y):\n",
        " intersection_cardinality = len(set.intersection(*[set(x), set(y)]))\n",
        " union_cardinality = len(set.union(*[set(x), set(y)]))\n",
        " return intersection_cardinality/float(union_cardinality)\n",
        "print(jaccard_similarity([0,1,2,5,6],[0,2,3,5,7,9]))"
      ],
      "execution_count": 47,
      "outputs": [
        {
          "output_type": "stream",
          "name": "stdout",
          "text": [
            "0.375\n"
          ]
        }
      ]
    },
    {
      "cell_type": "code",
      "metadata": {
        "id": "bj-rFHRZx8UG"
      },
      "source": [
        "#jaccard_score(final_generated_samples_df.iloc[0,:].values,float_x)"
      ],
      "execution_count": 48,
      "outputs": []
    },
    {
      "cell_type": "code",
      "metadata": {
        "colab": {
          "base_uri": "https://localhost:8080/"
        },
        "id": "vWT2mebSvk4d",
        "outputId": "fe6b450b-137a-48af-dada-b3eb81f029df"
      },
      "source": [
        "final_generated_samples_df.iloc[0,:].values"
      ],
      "execution_count": 49,
      "outputs": [
        {
          "output_type": "execute_result",
          "data": {
            "text/plain": [
              "array([ 0.27301502,  0.12741697, -0.09381773, -0.04160795,  0.0972717 ,\n",
              "        0.34476906,  0.2751385 ,  0.2408122 ])"
            ]
          },
          "metadata": {},
          "execution_count": 49
        }
      ]
    },
    {
      "cell_type": "code",
      "metadata": {
        "colab": {
          "base_uri": "https://localhost:8080/"
        },
        "id": "hP35G8bJyGJh",
        "outputId": "bc53b2a9-63b4-4215-ed5b-f6431a1d5b77"
      },
      "source": [
        "real_samples[0]"
      ],
      "execution_count": 50,
      "outputs": [
        {
          "output_type": "execute_result",
          "data": {
            "text/plain": [
              "tensor([0.0000, 0.0326, 0.2237, 0.0000, 0.0695, 0.7762, 0.2402, 0.1667])"
            ]
          },
          "metadata": {},
          "execution_count": 50
        }
      ]
    },
    {
      "cell_type": "code",
      "metadata": {
        "colab": {
          "base_uri": "https://localhost:8080/"
        },
        "id": "iVk9PQY0yI3e",
        "outputId": "341a6963-4106-40b1-d5eb-ea50c531e732"
      },
      "source": [
        "final_generated_samples_df.iloc[3,:].values"
      ],
      "execution_count": 51,
      "outputs": [
        {
          "output_type": "execute_result",
          "data": {
            "text/plain": [
              "array([ 0.94409865, -0.19053116,  0.27844983, -0.18435183,  0.41430041,\n",
              "        0.46538585,  0.2284945 ,  0.38030392])"
            ]
          },
          "metadata": {},
          "execution_count": 51
        }
      ]
    },
    {
      "cell_type": "code",
      "metadata": {
        "id": "NP3So0XD8g60"
      },
      "source": [
        "import numpy as np\n",
        "import pandas as pd\n",
        "from sklearn.metrics import jaccard_score\n",
        "from sklearn.metrics.pairwise import pairwise_distances,cosine_similarity"
      ],
      "execution_count": 52,
      "outputs": []
    },
    {
      "cell_type": "code",
      "metadata": {
        "id": "DCwHlEBVHgow"
      },
      "source": [
        "df9 = pd.DataFrame(scaler.inverse_transform(final_generated_samples_df))\n",
        "df10 = pd.DataFrame(scaler.inverse_transform(train_data_01))"
      ],
      "execution_count": 53,
      "outputs": []
    },
    {
      "cell_type": "code",
      "metadata": {
        "id": "ji0flvFOBhuS"
      },
      "source": [
        "generated_vals2=[]\n",
        "for i, j in df9.iterrows():\n",
        "  generated_vals2.append(j.values)\n",
        "\n",
        "generated_vals3 = generated_vals2[:10]\n",
        "\n",
        "train_data_vals2=[]\n",
        "for i, j in train_data_001.iterrows():\n",
        "  train_data_vals2.append(j.values)\n"
      ],
      "execution_count": 54,
      "outputs": []
    },
    {
      "cell_type": "code",
      "metadata": {
        "colab": {
          "base_uri": "https://localhost:8080/"
        },
        "id": "oECUgn4eXJ_g",
        "outputId": "b41743cd-772c-435e-87a6-ee3f750122ea"
      },
      "source": [
        "train_data_vals2[517]"
      ],
      "execution_count": 55,
      "outputs": [
        {
          "output_type": "execute_result",
          "data": {
            "text/plain": [
              "array([1.00000e+00, 5.91000e-02, 3.33000e-01, 0.00000e+00, 1.28000e-01,\n",
              "       4.47000e-01, 1.32097e+02, 8.00000e+00])"
            ]
          },
          "metadata": {},
          "execution_count": 55
        }
      ]
    },
    {
      "cell_type": "markdown",
      "metadata": {
        "id": "uxYm6GBjoZG6"
      },
      "source": [
        ""
      ]
    },
    {
      "cell_type": "code",
      "metadata": {
        "id": "cM4Kbd01UDeF"
      },
      "source": [
        "generated_vals=[]\n",
        "for i, j in final_generated_samples_df.iterrows():\n",
        "  generated_vals.append(j.values)\n",
        "\n",
        "train_data_vals=[]\n",
        "for i, j in train_data_01.iterrows():\n",
        "  train_data_vals.append(j.values)\n",
        "\n",
        "def cos_similarity(x,d):\n",
        "  recommended = []  \n",
        "  for i in d:\n",
        "    a = cosine_similarity([x],[i])\n",
        "    recommended.append(a)\n",
        "  rec_score=max(recommended)\n",
        "  rec_index = recommended.index(rec_score)\n",
        "  rec_cos.append(rec_score)\n",
        "  rec_idx = df13.index[rec_index]\n",
        "  rec_len = len(recommended)\n",
        "  print('len train data:',rec_len,'; index:',rec_idx,'; cos sim:',rec_score)"
      ],
      "execution_count": 56,
      "outputs": []
    },
    {
      "cell_type": "code",
      "metadata": {
        "id": "8GyLH48C0vPM"
      },
      "source": [
        "def euclid_similarity(x,d):\n",
        "  recommended = []  \n",
        "  for i in d:\n",
        "    a = distance.euclidean([x],[i])\n",
        "    recommended.append(a)\n",
        "  rec_score=min(recommended)\n",
        "  rec_index = recommended.index(rec_score)\n",
        "  rec_euc.append(rec_score)\n",
        "  rec_idx = df13.index[rec_index]\n",
        "  rec_len = len(recommended)\n",
        "  print('len train data:',rec_len,'; index:',rec_idx,'; euclid sim:',rec_score)"
      ],
      "execution_count": 57,
      "outputs": []
    },
    {
      "cell_type": "code",
      "metadata": {
        "colab": {
          "base_uri": "https://localhost:8080/"
        },
        "id": "j527TRLHyY2x",
        "outputId": "af49e74d-012d-4670-cdd1-e597ac91903d"
      },
      "source": [
        "dst = distance.euclidean(final_generated_samples_df.iloc[0,:].values,float_x)\n",
        "print('Euclidean distance: %.3f' % dst)"
      ],
      "execution_count": 58,
      "outputs": [
        {
          "output_type": "stream",
          "name": "stdout",
          "text": [
            "Euclidean distance: 0.616\n"
          ]
        }
      ]
    },
    {
      "cell_type": "code",
      "metadata": {
        "colab": {
          "base_uri": "https://localhost:8080/"
        },
        "id": "DHOtDop6CSD-",
        "outputId": "2cbe4eff-bc80-44e6-ae97-66719f4a67d8"
      },
      "source": [
        "df5.shape"
      ],
      "execution_count": 59,
      "outputs": [
        {
          "output_type": "execute_result",
          "data": {
            "text/plain": [
              "(1099, 15)"
            ]
          },
          "metadata": {},
          "execution_count": 59
        }
      ]
    },
    {
      "cell_type": "code",
      "metadata": {
        "colab": {
          "base_uri": "https://localhost:8080/"
        },
        "id": "I5WphA_0Z9zV",
        "outputId": "8525b3af-97e7-4505-aae0-bfdae0208241"
      },
      "source": [
        "# pick recommendations with cosine similarity\n",
        "rec_cos = []\n",
        "for i in generated_vals3:\n",
        "  a = cos_similarity(i,train_data_vals2)"
      ],
      "execution_count": 60,
      "outputs": [
        {
          "output_type": "stream",
          "name": "stdout",
          "text": [
            "len train data: 1024 ; index: Not To Much - Remastered 2016 ; cos sim: [[0.99999431]]\n",
            "len train data: 1024 ; index: LUNA ; cos sim: [[0.99987184]]\n",
            "len train data: 1024 ; index: Sunburn ; cos sim: [[0.99999499]]\n",
            "len train data: 1024 ; index: Ti volevo dedicare (feat. J-AX & Boomdabash) ; cos sim: [[0.99997158]]\n",
            "len train data: 1024 ; index: Jungli Sher ; cos sim: [[0.99999551]]\n",
            "len train data: 1024 ; index: My Death ; cos sim: [[0.99998884]]\n",
            "len train data: 1024 ; index: Mamacita ; cos sim: [[0.99999127]]\n",
            "len train data: 1024 ; index: Bad Moon Rising ; cos sim: [[0.99998804]]\n",
            "len train data: 1024 ; index: Dag 1 ; cos sim: [[0.99998889]]\n",
            "len train data: 1024 ; index: Gangsta ; cos sim: [[0.99999757]]\n"
          ]
        }
      ]
    },
    {
      "cell_type": "code",
      "metadata": {
        "id": "r1dXKVhE6QBD"
      },
      "source": [
        "rec_cose=[]\n",
        "for i in rec_cos:\n",
        "  rec_cose.append(i[0][0])"
      ],
      "execution_count": 61,
      "outputs": []
    },
    {
      "cell_type": "code",
      "metadata": {
        "colab": {
          "base_uri": "https://localhost:8080/"
        },
        "id": "I9txVZCn1Me7",
        "outputId": "22d59865-7e7c-46cd-f2a5-ed2c86a73fa1"
      },
      "source": [
        "# pick recommendations with euclidean similarity\n",
        "rec_euc = []\n",
        "for i in generated_vals3:\n",
        "  a = euclid_similarity(i,train_data_vals2)"
      ],
      "execution_count": 62,
      "outputs": [
        {
          "output_type": "stream",
          "name": "stdout",
          "text": [
            "len train data: 1024 ; index: Latina (feat. Maluma) ; euclid sim: 0.6499354184564836\n",
            "len train data: 1024 ; index: Saudi Arabi Money Rich - Babos Remix ; euclid sim: 5.07187280760539\n",
            "len train data: 1024 ; index: Ruby ; euclid sim: 0.5108917589062818\n",
            "len train data: 1024 ; index: Sincera ; euclid sim: 1.8125227486120083\n",
            "len train data: 1024 ; index: Como Le Gusta a Tu Cuerpo (feat. Michel TelÃ³) ; euclid sim: 0.8854485326749256\n",
            "len train data: 1024 ; index: Thing For You - David Guetta Remix ; euclid sim: 1.6198381427403146\n",
            "len train data: 1024 ; index: Clubber Lang ; euclid sim: 2.497654628271512\n",
            "len train data: 1024 ; index: Fuoh ; euclid sim: 1.119747133493521\n",
            "len train data: 1024 ; index: Money Longer ; euclid sim: 2.3768509536790328\n",
            "len train data: 1024 ; index: Stand By (feat. Rudimental) [#CWC19] ; euclid sim: 1.2883544352158696\n"
          ]
        }
      ]
    },
    {
      "cell_type": "code",
      "metadata": {
        "id": "SR1wtnOQsprP"
      },
      "source": [
        "testdf1_3 = testdf1_2\n",
        "testdf1_3['track_name'] = testdf1['track_name']\n",
        "testdf1_3 = testdf1_3.set_index('track_name')\n",
        "\n",
        "testdf2_3 = testdf2_2\n",
        "testdf2_3['track_name'] = testdf2['track_name']\n",
        "testdf2_3 = testdf2_3.set_index('track_name')\n",
        "\n",
        "testdf3_3 = testdf3_2\n",
        "testdf3_3['track_name'] = testdf3['track_name']\n",
        "testdf3_3 = testdf3_3.set_index('track_name')"
      ],
      "execution_count": 63,
      "outputs": []
    },
    {
      "cell_type": "code",
      "metadata": {
        "id": "C976IH3Y745-"
      },
      "source": [
        "test_data1 = testdf1_3.values\n",
        "test_data2 = testdf2_3.values\n",
        "test_data3 = testdf3_3.values"
      ],
      "execution_count": 64,
      "outputs": []
    },
    {
      "cell_type": "code",
      "metadata": {
        "id": "XWRXAtgRfQB_"
      },
      "source": [
        "def cos_similarity_t1(x,d):\n",
        "  recommended = []  \n",
        "  for i in d:\n",
        "    a = cosine_similarity([x],[i])\n",
        "    recommended.append(a)\n",
        "  rec_score=max(recommended)\n",
        "  rec_index = recommended.index(rec_score)\n",
        "  rec_cosT1.append(rec_score)\n",
        "  rec_idx = testdf1_3.index[rec_index]\n",
        "  rec_len = len(recommended)\n",
        "  print('len train data:',rec_len,'; index:',rec_idx,'; cos sim:',rec_score)\n",
        "\n",
        "def euclid_similarity_t1(x,d):\n",
        "  recommended = []  \n",
        "  for i in d:\n",
        "    a = distance.euclidean([x],[i])\n",
        "    recommended.append(a)\n",
        "  rec_score=min(recommended)\n",
        "  rec_index = recommended.index(rec_score)\n",
        "  rec_eucT1.append(rec_score)\n",
        "  rec_idx = testdf1_3.index[rec_index]\n",
        "  rec_len = len(recommended)\n",
        "  print('len train data:',rec_len,'; index:',rec_idx,'; euclid sim:',rec_score)"
      ],
      "execution_count": 65,
      "outputs": []
    },
    {
      "cell_type": "code",
      "metadata": {
        "colab": {
          "base_uri": "https://localhost:8080/"
        },
        "id": "v3iYXkcX8QJr",
        "outputId": "0c3f1398-a37d-44fc-e182-a10627fd72b3"
      },
      "source": [
        "#compare recomendations to test subjects\n",
        "rec_cosT1 = []\n",
        "for i in generated_vals3:\n",
        "  a = cos_similarity_t1(i,test_data1)"
      ],
      "execution_count": 66,
      "outputs": [
        {
          "output_type": "stream",
          "name": "stdout",
          "text": [
            "len train data: 10 ; index: Un autre que moi ; cos sim: [[0.99944855]]\n",
            "len train data: 10 ; index: Prettiest Virgin (Radio Edit) ; cos sim: [[0.99987779]]\n",
            "len train data: 10 ; index: Un autre que moi ; cos sim: [[0.99981384]]\n",
            "len train data: 10 ; index: Un autre que moi ; cos sim: [[0.99801543]]\n",
            "len train data: 10 ; index: Un autre que moi ; cos sim: [[0.99942968]]\n",
            "len train data: 10 ; index: Un autre que moi ; cos sim: [[0.99961029]]\n",
            "len train data: 10 ; index: Un autre que moi ; cos sim: [[0.99791031]]\n",
            "len train data: 10 ; index: Un autre que moi ; cos sim: [[0.99995176]]\n",
            "len train data: 10 ; index: Jungle ; cos sim: [[0.99998134]]\n",
            "len train data: 10 ; index: Un autre que moi ; cos sim: [[0.99995773]]\n"
          ]
        }
      ]
    },
    {
      "cell_type": "code",
      "metadata": {
        "id": "Uh6fBYNq6o0L"
      },
      "source": [
        "rec_coseT1=[]\n",
        "for i in rec_cosT1:\n",
        "  rec_coseT1.append(i[0][0])"
      ],
      "execution_count": 67,
      "outputs": []
    },
    {
      "cell_type": "code",
      "metadata": {
        "colab": {
          "base_uri": "https://localhost:8080/"
        },
        "id": "4vwnG9_x-1Gy",
        "outputId": "d0ecf7d4-b81b-42af-b859-9956eb828961"
      },
      "source": [
        "rec_eucT1 = []\n",
        "for i in generated_vals3:\n",
        "  a = euclid_similarity_t1(i,test_data1)"
      ],
      "execution_count": 68,
      "outputs": [
        {
          "output_type": "stream",
          "name": "stdout",
          "text": [
            "len train data: 10 ; index: Un autre que moi ; euclid sim: 3.397083670351683\n",
            "len train data: 10 ; index: Tainted ; euclid sim: 4.9698084016828785\n",
            "len train data: 10 ; index: Un autre que moi ; euclid sim: 8.778417865627514\n",
            "len train data: 10 ; index: Un autre que moi ; euclid sim: 8.97244299864527\n",
            "len train data: 10 ; index: Un autre que moi ; euclid sim: 5.1351631782937535\n",
            "len train data: 10 ; index: I Dare You ; euclid sim: 5.354197181746733\n",
            "len train data: 10 ; index: Song For You ; euclid sim: 9.293660325150348\n",
            "len train data: 10 ; index: Jungle ; euclid sim: 6.709200241997494\n",
            "len train data: 10 ; index: Afternoon ; euclid sim: 8.128734175958504\n",
            "len train data: 10 ; index: Song For You ; euclid sim: 2.1001069364804095\n"
          ]
        }
      ]
    },
    {
      "cell_type": "code",
      "metadata": {
        "id": "a9IAbe8_f5MT"
      },
      "source": [
        "def cos_similarity_t2(x,d):\n",
        "  recommended = []  \n",
        "  for i in d:\n",
        "    a = cosine_similarity([x],[i])\n",
        "    recommended.append(a)\n",
        "  rec_score=max(recommended)\n",
        "  rec_index = recommended.index(rec_score)\n",
        "  rec_cosT2.append(rec_score)\n",
        "  rec_idx = testdf2_3.index[rec_index]\n",
        "  rec_len = len(recommended)\n",
        "  print('len train data:',rec_len,'; index:',rec_idx,'; cos sim:',rec_score)\n",
        "\n",
        "def euclid_similarity_t2(x,d):\n",
        "  recommended = []  \n",
        "  for i in d:\n",
        "    a = distance.euclidean([x],[i])\n",
        "    recommended.append(a)\n",
        "  rec_score=min(recommended)\n",
        "  rec_index = recommended.index(rec_score)\n",
        "  rec_eucT2.append(rec_score)\n",
        "  rec_idx = testdf2_3.index[rec_index]\n",
        "  rec_len = len(recommended)\n",
        "  print('len train data:',rec_len,'; index:',rec_idx,'; euclid sim:',rec_score)"
      ],
      "execution_count": 69,
      "outputs": []
    },
    {
      "cell_type": "code",
      "metadata": {
        "colab": {
          "base_uri": "https://localhost:8080/"
        },
        "id": "CYriMM1ck4Gx",
        "outputId": "1c454a82-9074-42a2-9cce-2af32ba83d38"
      },
      "source": [
        "#compare recomendations to test subjects\n",
        "rec_cosT2 = []\n",
        "for i in generated_vals3:\n",
        "  a = cos_similarity_t2(i,test_data2)"
      ],
      "execution_count": 70,
      "outputs": [
        {
          "output_type": "stream",
          "name": "stdout",
          "text": [
            "len train data: 11 ; index: She's Playing Hard To Get ; cos sim: [[0.99909709]]\n",
            "len train data: 11 ; index: She's Playing Hard To Get ; cos sim: [[0.99987548]]\n",
            "len train data: 11 ; index: She's Playing Hard To Get ; cos sim: [[0.99960228]]\n",
            "len train data: 11 ; index: I'm Dreamin' ; cos sim: [[0.99742541]]\n",
            "len train data: 11 ; index: She's Playing Hard To Get ; cos sim: [[0.99906778]]\n",
            "len train data: 11 ; index: She's Playing Hard To Get ; cos sim: [[0.99932075]]\n",
            "len train data: 11 ; index: I'm Dreamin' ; cos sim: [[0.99727461]]\n",
            "len train data: 11 ; index: She's Playing Hard To Get ; cos sim: [[0.99985796]]\n",
            "len train data: 11 ; index: She's Playing Hard To Get ; cos sim: [[0.99998281]]\n",
            "len train data: 11 ; index: She's Playing Hard To Get ; cos sim: [[0.99986631]]\n"
          ]
        }
      ]
    },
    {
      "cell_type": "code",
      "metadata": {
        "id": "QndvFRWF68DN"
      },
      "source": [
        "rec_coseT2=[]\n",
        "for i in rec_cosT2:\n",
        "  rec_coseT2.append(i[0][0])"
      ],
      "execution_count": 71,
      "outputs": []
    },
    {
      "cell_type": "code",
      "metadata": {
        "colab": {
          "base_uri": "https://localhost:8080/"
        },
        "id": "LGue-_WhuEqo",
        "outputId": "a0f0cac2-8947-4438-fd9d-d629c9bef941"
      },
      "source": [
        "rec_eucT2 = []\n",
        "for i in generated_vals3:\n",
        "  a = euclid_similarity_t2(i,test_data2)"
      ],
      "execution_count": 72,
      "outputs": [
        {
          "output_type": "stream",
          "name": "stdout",
          "text": [
            "len train data: 11 ; index: Tender Lover ; euclid sim: 4.431653402609859\n",
            "len train data: 11 ; index: She's Playing Hard To Get ; euclid sim: 26.16088568281118\n",
            "len train data: 11 ; index: I Adore Mi Amor ; euclid sim: 3.032638361902545\n",
            "len train data: 11 ; index: I Adore Mi Amor ; euclid sim: 7.687784365768921\n",
            "len train data: 11 ; index: Nasty ; euclid sim: 5.019248452774239\n",
            "len train data: 11 ; index: Just Got Paid ; euclid sim: 7.451938321979546\n",
            "len train data: 11 ; index: I'm Dreamin' ; euclid sim: 8.454327171069547\n",
            "len train data: 11 ; index: Just Got Paid ; euclid sim: 22.645607760623477\n",
            "len train data: 11 ; index: Just Got Paid ; euclid sim: 18.87491135185584\n",
            "len train data: 11 ; index: Miss You Much ; euclid sim: 2.0840096256994673\n"
          ]
        }
      ]
    },
    {
      "cell_type": "code",
      "metadata": {
        "id": "J0evbfZ0KLW5"
      },
      "source": [
        "def cos_similarity_t3(x,d):\n",
        "  recommended = []  \n",
        "  for i in d:\n",
        "    a = cosine_similarity([x],[i])\n",
        "    recommended.append(a)\n",
        "  rec_score=max(recommended)\n",
        "  rec_index = recommended.index(rec_score)\n",
        "  rec_cosT3.append(rec_score)\n",
        "  rec_idx = testdf3_3.index[rec_index]\n",
        "  rec_len = len(recommended)\n",
        "  print('len train data:',rec_len,'; index:',rec_idx,'; cos sim:',rec_score)\n",
        "\n",
        "def euclid_similarity_t3(x,d):\n",
        "  recommended = []  \n",
        "  for i in d:\n",
        "    a = distance.euclidean([x],[i])\n",
        "    recommended.append(a)\n",
        "  rec_score=min(recommended)\n",
        "  rec_index = recommended.index(rec_score)\n",
        "  rec_eucT3.append(rec_score)\n",
        "  rec_idx = testdf3_3.index[rec_index]\n",
        "  rec_len = len(recommended)\n",
        "  print('len train data:',rec_len,'; index:',rec_idx,'; euclid sim:',rec_score)"
      ],
      "execution_count": 73,
      "outputs": []
    },
    {
      "cell_type": "code",
      "metadata": {
        "colab": {
          "base_uri": "https://localhost:8080/"
        },
        "id": "PAq5Wew8KN4I",
        "outputId": "2d607b8f-a34c-41c5-f675-b799248d48c6"
      },
      "source": [
        "#compare recomendations to test subjects\n",
        "rec_cosT3 = []\n",
        "for i in generated_vals3:\n",
        "  a = cos_similarity_t3(i,test_data3)"
      ],
      "execution_count": 74,
      "outputs": [
        {
          "output_type": "stream",
          "name": "stdout",
          "text": [
            "len train data: 11 ; index: On Fire ; cos sim: [[0.99909224]]\n",
            "len train data: 11 ; index: Feel It All Around ; cos sim: [[0.99987909]]\n",
            "len train data: 11 ; index: Cool Blue ; cos sim: [[0.99959489]]\n",
            "len train data: 11 ; index: Ghost - Lost Kings Remix ; cos sim: [[0.99742503]]\n",
            "len train data: 11 ; index: Loudspeaker ; cos sim: [[0.99905872]]\n",
            "len train data: 11 ; index: Cool Blue ; cos sim: [[0.99932523]]\n",
            "len train data: 11 ; index: Loudspeaker ; cos sim: [[0.99727275]]\n",
            "len train data: 11 ; index: Loudspeaker ; cos sim: [[0.9998543]]\n",
            "len train data: 11 ; index: Cool Blue ; cos sim: [[0.99998083]]\n",
            "len train data: 11 ; index: Cool Blue ; cos sim: [[0.99986352]]\n"
          ]
        }
      ]
    },
    {
      "cell_type": "code",
      "metadata": {
        "id": "8Xg_s0777LsF"
      },
      "source": [
        "rec_coseT3=[]\n",
        "for i in rec_cosT3:\n",
        "  rec_coseT3.append(i[0][0])"
      ],
      "execution_count": 75,
      "outputs": []
    },
    {
      "cell_type": "code",
      "metadata": {
        "colab": {
          "base_uri": "https://localhost:8080/"
        },
        "id": "zNhBsV3BKQyU",
        "outputId": "dba319b4-4eac-48be-cf2e-70b01e60ddf5"
      },
      "source": [
        "rec_eucT3 = []\n",
        "for i in generated_vals3:\n",
        "  a = euclid_similarity_t3(i,test_data3)"
      ],
      "execution_count": 76,
      "outputs": [
        {
          "output_type": "stream",
          "name": "stdout",
          "text": [
            "len train data: 11 ; index: Anywhere We Go ; euclid sim: 4.905110781954925\n",
            "len train data: 11 ; index: Feel It All Around ; euclid sim: 3.3292516719967185\n",
            "len train data: 11 ; index: On Fire ; euclid sim: 3.075515765872538\n",
            "len train data: 11 ; index: On Fire ; euclid sim: 6.948621504056383\n",
            "len train data: 11 ; index: Sway - Chainsmokers Remix ; euclid sim: 4.649374657598359\n",
            "len train data: 11 ; index: Loudspeaker ; euclid sim: 6.210785599466507\n",
            "len train data: 11 ; index: Indecision ; euclid sim: 8.571859400803458\n",
            "len train data: 11 ; index: Hall & Oates ; euclid sim: 10.573132927089723\n",
            "len train data: 11 ; index: Hall & Oates ; euclid sim: 13.97536442737571\n",
            "len train data: 11 ; index: Loudspeaker ; euclid sim: 3.675522746039873\n"
          ]
        }
      ]
    },
    {
      "cell_type": "code",
      "metadata": {
        "id": "esKqyFMCB-uW"
      },
      "source": [
        "rec_coseT1.extend(rec_coseT2)\n",
        "rec_coseT1.extend(rec_coseT3)"
      ],
      "execution_count": null,
      "outputs": []
    },
    {
      "cell_type": "code",
      "metadata": {
        "colab": {
          "base_uri": "https://localhost:8080/"
        },
        "id": "8ujXFZMbDE0e",
        "outputId": "d60dc0c5-bb8b-440e-b9d2-4775987159e5"
      },
      "source": [
        "print(rec_coseT1)"
      ],
      "execution_count": 79,
      "outputs": [
        {
          "output_type": "stream",
          "name": "stdout",
          "text": [
            "[0.9994485475229062, 0.999877792631692, 0.9998138390559335, 0.9980154256187528, 0.9994296793014785, 0.9996102928234575, 0.9979103117126699, 0.9999517602176865, 0.9999813372083886, 0.9999577299557322, 0.9990970904505925, 0.99987547878444, 0.9996022785643875, 0.9974254070062414, 0.9990677759631575, 0.999320747916991, 0.997274614289726, 0.9998579640296097, 0.9999828143668469, 0.9998663115523426, 0.9990922415460967, 0.9998790898355211, 0.9995948938115155, 0.9974250347930916, 0.9990587152972339, 0.9993252253987199, 0.9972727539334341, 0.9998542983788713, 0.9999808289198082, 0.9998635187937598]\n"
          ]
        }
      ]
    },
    {
      "cell_type": "code",
      "metadata": {
        "id": "w2OoTswCCnr9"
      },
      "source": [
        "rec_eucT1.extend(rec_eucT2)\n",
        "rec_eucT1.extend(rec_eucT3)"
      ],
      "execution_count": null,
      "outputs": []
    },
    {
      "cell_type": "code",
      "metadata": {
        "colab": {
          "base_uri": "https://localhost:8080/"
        },
        "id": "2tlSQdgbDel1",
        "outputId": "9f42d384-9d6b-4b1c-e413-3d5db92054cc"
      },
      "source": [
        "print(rec_eucT1)"
      ],
      "execution_count": 80,
      "outputs": [
        {
          "output_type": "stream",
          "name": "stdout",
          "text": [
            "[3.397083670351683, 4.9698084016828785, 8.778417865627514, 8.97244299864527, 5.1351631782937535, 5.354197181746733, 9.293660325150348, 6.709200241997494, 8.128734175958504, 2.1001069364804095, 4.431653402609859, 26.16088568281118, 3.032638361902545, 7.687784365768921, 5.019248452774239, 7.451938321979546, 8.454327171069547, 22.645607760623477, 18.87491135185584, 2.0840096256994673, 4.905110781954925, 3.3292516719967185, 3.075515765872538, 6.948621504056383, 4.649374657598359, 6.210785599466507, 8.571859400803458, 10.573132927089723, 13.97536442737571, 3.675522746039873]\n"
          ]
        }
      ]
    },
    {
      "cell_type": "code",
      "metadata": {
        "id": "s6BKD3AcEezT"
      },
      "source": [
        "EMrec_eucT1 = [35.176965141067015, 1.9268299909852165, 1.9047420878349246, 7.826505946481081, \n",
        "      6.309630580096539, 15.857601730419248, 4.901384764639936, 6.472439932521907, \n",
        "      8.54236947357641, 4.174764738340747, 17.365135683023084, 28.199844093102502, \n",
        "      3.0651343164257914, 39.52492464946355, 7.010483867227495, 2.1541002360687123, \n",
        "      3.908068346298906, 5.02946235463491, 17.016435207133192, 30.99735619602841, \n",
        "      33.846383915649334, 5.1046138893183635, 6.312012434562562, 13.003380810915484, \n",
        "      4.860154133650067, 8.724451217269525, 3.1557850860445744, 6.002758740244427, \n",
        "      5.288582911636616, 6.3159311600495975]"
      ],
      "execution_count": 81,
      "outputs": []
    },
    {
      "cell_type": "code",
      "metadata": {
        "colab": {
          "base_uri": "https://localhost:8080/"
        },
        "id": "d-C-1bGqIw2l",
        "outputId": "0704fc8c-0054-42a7-9204-d9b8c857bb49"
      },
      "source": [
        "# leven test for eqaul variance p-value lower than 0.01 means not equal\n",
        "from scipy.stats import levene\n",
        "stat, p = levene(rec_eucT1, EMrec_eucT1)\n",
        "print('pvalue > 0.01 means equal variance, pvalue:' ,p)"
      ],
      "execution_count": 82,
      "outputs": [
        {
          "output_type": "stream",
          "name": "stdout",
          "text": [
            "pvalue > 0.01 means equal variance, pvalue: 0.09586070646961316\n"
          ]
        }
      ]
    },
    {
      "cell_type": "code",
      "metadata": {
        "colab": {
          "base_uri": "https://localhost:8080/"
        },
        "id": "I9tZt7VlJKcL",
        "outputId": "6af5f7ce-e51c-4dc6-8d2b-94e1916a701a"
      },
      "source": [
        "from scipy import stats\n",
        "stats.ttest_ind(rec_eucT1, EMrec_eucT1,equal_var = False)"
      ],
      "execution_count": 84,
      "outputs": [
        {
          "output_type": "execute_result",
          "data": {
            "text/plain": [
              "Ttest_indResult(statistic=-1.5498166385433503, pvalue=0.1283844038448242)"
            ]
          },
          "metadata": {},
          "execution_count": 84
        }
      ]
    },
    {
      "cell_type": "markdown",
      "metadata": {
        "id": "eNj6ezPAKa-M"
      },
      "source": [
        "The two hypotheses for this particular two sample t-test are as follows:\n",
        "\n",
        "H0: µ1 = µ2 (the two population means are equal)\n",
        "\n",
        "HA: µ1 ≠µ2 (the two population means are not equal)\n",
        "\n",
        "Because the p-value of our test (0.128) is greater than alpha = 0.05, we fail to reject the null hypothesis of the test. We do not have sufficient evidence to say that the mean height of plants between the two populations is different."
      ]
    }
  ]
}